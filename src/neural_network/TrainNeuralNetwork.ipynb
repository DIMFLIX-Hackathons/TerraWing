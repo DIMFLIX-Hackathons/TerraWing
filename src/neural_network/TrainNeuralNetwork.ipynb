{
 "cells": [
  {
   "cell_type": "markdown",
   "id": "20863043-7ea1-44d2-bab6-ff3f8851d9b3",
   "metadata": {},
   "source": [
    "# 0. Информация об видеокарте."
   ]
  },
  {
   "cell_type": "code",
   "execution_count": 1,
   "id": "ac668658-8a8c-476d-b395-7d4c25783c7a",
   "metadata": {
    "ExecuteTime": {
     "end_time": "2024-04-13T19:07:33.324581Z",
     "start_time": "2024-04-13T19:07:33.205784Z"
    }
   },
   "outputs": [
    {
     "name": "stdout",
     "output_type": "stream",
     "text": [
      "Tue Apr 16 00:59:43 2024       \n",
      "+---------------------------------------------------------------------------------------+\n",
      "| NVIDIA-SMI 545.29.06              Driver Version: 545.29.06    CUDA Version: 12.3     |\n",
      "|-----------------------------------------+----------------------+----------------------+\n",
      "| GPU  Name                 Persistence-M | Bus-Id        Disp.A | Volatile Uncorr. ECC |\n",
      "| Fan  Temp   Perf          Pwr:Usage/Cap |         Memory-Usage | GPU-Util  Compute M. |\n",
      "|                                         |                      |               MIG M. |\n",
      "|=========================================+======================+======================|\n",
      "|   0  NVIDIA GeForce RTX 3050 ...    Off | 00000000:01:00.0 Off |                  N/A |\n",
      "| N/A   40C    P3              11W /  30W |      7MiB /  4096MiB |      0%      Default |\n",
      "|                                         |                      |                  N/A |\n",
      "+-----------------------------------------+----------------------+----------------------+\n",
      "                                                                                         \n",
      "+---------------------------------------------------------------------------------------+\n",
      "| Processes:                                                                            |\n",
      "|  GPU   GI   CI        PID   Type   Process name                            GPU Memory |\n",
      "|        ID   ID                                                             Usage      |\n",
      "|=======================================================================================|\n",
      "|    0   N/A  N/A      3001      G   /usr/bin/gnome-shell                          1MiB |\n",
      "|    0   N/A  N/A      6415      G   ...sktop/5791/usr/bin/telegram-desktop        1MiB |\n",
      "+---------------------------------------------------------------------------------------+\n"
     ]
    }
   ],
   "source": [
    "!nvidia-smi"
   ]
  },
  {
   "cell_type": "markdown",
   "id": "1be2e359-fd2f-4207-9352-304027b5949a",
   "metadata": {},
   "source": [
    "# 1. Загурзка библиотек и объявление путей"
   ]
  },
  {
   "cell_type": "code",
   "execution_count": 2,
   "id": "4f8437dd-cb88-4ff5-ab1d-257db5c6bf48",
   "metadata": {
    "ExecuteTime": {
     "end_time": "2024-04-13T19:07:39.632453Z",
     "start_time": "2024-04-13T19:07:33.325703Z"
    }
   },
   "outputs": [
    {
     "name": "stderr",
     "output_type": "stream",
     "text": [
      "/home/k1rsn7/.local/lib/python3.10/site-packages/matplotlib/projections/__init__.py:63: UserWarning: Unable to import Axes3D. This may be due to multiple versions of Matplotlib being installed (e.g. as a system package and as a pip package). As a result, the 3D projection is not available.\n",
      "  warnings.warn(\"Unable to import Axes3D. This may be due to multiple versions of \"\n"
     ]
    }
   ],
   "source": [
    "import os\n",
    "import glob\n",
    "import random\n",
    "import cv2\n",
    "import pandas as pd\n",
    "import numpy as np\n",
    "import matplotlib.pyplot as plt \n",
    "from sklearn.model_selection import train_test_split\n",
    "from tqdm.auto import tqdm\n",
    "import json\n",
    "from pprint import pprint\n",
    "import requests\n",
    "import rarfile\n",
    "import zipfile\n",
    "import yaml\n",
    "from ultralytics import YOLO\n",
    "\n",
    "import warnings\n",
    "warnings.filterwarnings(\"ignore\")"
   ]
  },
  {
   "cell_type": "markdown",
   "id": "9859995a-cad4-4aa0-b332-742d4a13db77",
   "metadata": {},
   "source": [
    "#### Список датасетов и названий директорий в директории DATASETS:\n",
    "\n",
    "     СarDetection \n",
    "     https://www.kaggle.com/datasets/sshikamaru/car-object-detection\n",
    "     \n",
    "     CarsDetection \n",
    "     https://www.kaggle.com/datasets/abdallahwagih/cars-detection/data\n",
    "     \n",
    "     CarPerson\n",
    "     https://www.kaggle.com/datasets/owaiskhan9654/car-person-v2-roboflow\n",
    "     \n",
    "     STN \n",
    "     https://github.com/andreluizbvs/PLAD/releases/download/1.0/plad.zip\n",
    "\n",
    "     UtilityPole\n",
    "     https://github.com/R3ab/ttpla_dataset?tab=readme-ov-file\n",
    "     \n",
    "     Transmission\n",
    "     https://drive.usercontent.google.com/download?id=1Yz59yXCiPKS0_X4K3x9mW22NLnxjvrr0&export=download&authuser=0\n",
    "     \n",
    "     Tree\n",
    "     https://universe.roboflow.com/tank-detect/tree-dataset-owarv\n",
    "     \n",
    "     TreeDetection \n",
    "     https://universe.roboflow.com/yolo-for-tree-detection/tree-detection-by-season-type\n",
    "     \n",
    "     Trees100\n",
    "     https://universe.roboflow.com/dataset-x4ge5/dataset_trees_100_images\n",
    "     \n",
    "     BirdAnnotation\n",
    "     https://universe.roboflow.com/drone-when8/bird-annotation-drp1n/dataset/1\n",
    "     \n",
    "     BirdsDetector\n",
    "     https://universe.roboflow.com/jess-minaya/birds-detector-tis9s/dataset/1\n",
    "     \n",
    "     BirdsV3 \n",
    "     https://universe.roboflow.com/kurisnis/birds-olyak/dataset/3\n",
    "     \n",
    "     BuildingDetection\n",
    "     https://universe.roboflow.com/david-wardan/buildingdetection/dataset/1/images?split=test\n",
    "     \n",
    "     JoshEdits\n",
    "     https://universe.roboflow.com/tour-de-chicago/josh-edits-2.5-outterclassifier"
   ]
  },
  {
   "cell_type": "code",
   "execution_count": 3,
   "id": "415cd239-e20c-48b0-becb-340c007b2963",
   "metadata": {
    "ExecuteTime": {
     "end_time": "2024-04-13T19:07:39.648144Z",
     "start_time": "2024-04-13T19:07:39.633612Z"
    }
   },
   "outputs": [],
   "source": [
    "# Пути до датасетов с автомобилями\n",
    "PATH_CAR = '../data/DATASET/CarDetection' # Путь до датасета Car Detection\n",
    "PATH_CARS = '../data/DATASET/CarsDetection/Cars Detection/' # Путь до датасета Cars Detection\n",
    "PATH_CAR_PERSON = '../data/DATASET/CarPerson/Car-Person-v2-Roboflow-Owais-Ahmad/' # Путь до датасета Car Person\n",
    "\n",
    "# Пути до датасетов с ЛЭП\n",
    "PATH_STN = '../data/DATASET/STN' # Путь до датасета STN PLAD\n",
    "PATH_UTILLUTY_POLE = '../data/DATASET/UtilityPole/' # Путь до датасета Utiluty Pole\n",
    "PATH_TRANSMISSION = '../data/DATASET/Transmission/data_original_size_v1/data_original_size/' # Путь до датасета Transmission\n",
    "\n",
    "# Пути до датасетов с деревьями\n",
    "PATH_TREE = '../data/DATASET/Tree/' # Путь до датасета Tree Detection\n",
    "PATH_TREE_DETECTION = '../data/DATASET/TreeDetection/' # Путь до датасета Tree Detection\n",
    "PATH_TREE_100 = '../data/DATASET/Trees100/' # Путь до датасета Tree 100\n",
    "\n",
    "# Пути до датасетов с птицами\n",
    "PATH_BIRD_ANNOTATION = '../data/DATASET/BirdAnnotation/' # Путь до датасета Bird Annotation \n",
    "PATH_BIRDS_DETECTOR = '../data/DATASET/BirdsDetector/' # Путь до датасета Birds Detector\n",
    "PATH_BIRDS_V3 = '../data/DATASET/BirdsV3/' # Путь до датасета BirdsV3\n",
    "\n",
    "# Пути до датасетов со зданиями\n",
    "PATH_BUILDING_DETECTION = '../data/DATASET/BuildingDetection/' # Путь до датасета Building Detection\n",
    "PATH_JOSH_EDITS = '../data/DATASET/JoshEdits/' # Путь до датасета JoshEdits\n",
    "\n",
    "# Словарь по понижению размрености датасетов\n",
    "DATASET_DOWNGRADES = {\n",
    "    'dataCarDetection': 2, \n",
    "    'dataCarPerson': 3, \n",
    "    'dataCarsDetection': 4,\n",
    "    'dataSTN': 1, \n",
    "    'dataUnilityPole': 1, \n",
    "    'dataTransmission': 1,\n",
    "    'dataTree': 2, \n",
    "    'dataTreeDetection': 2, \n",
    "    'dataTree100': 2,\n",
    "    'dataBirdAnnotation': 4, \n",
    "    'dataBirdsDetectod': 4, \n",
    "    'dataBirdsV3': 2,\n",
    "    'dataBuildingDetection': 2, \n",
    "    'dataJoshEdits': 2\n",
    "}"
   ]
  },
  {
   "cell_type": "markdown",
   "id": "d6d446b3-76a2-4acd-b1fe-f66b70a754f8",
   "metadata": {},
   "source": [
    "# 2. Обработка данных"
   ]
  },
  {
   "cell_type": "code",
   "execution_count": 4,
   "id": "5533272a-65a7-40aa-b59e-c582a72cdf65",
   "metadata": {
    "ExecuteTime": {
     "end_time": "2024-04-13T19:07:39.663165Z",
     "start_time": "2024-04-13T19:07:39.649144Z"
    }
   },
   "outputs": [],
   "source": [
    "def print_variable_name(variable):\n",
    "    '''\n",
    "        Функция позволяет получить имя переменной\n",
    "        Input: \n",
    "            variable - переменная\n",
    "        Output:\n",
    "            variable_name - имя переменной\n",
    "    '''\n",
    "    variable_name = [name for name, value in globals().items() if value is variable][-1]\n",
    "    return variable_name"
   ]
  },
  {
   "cell_type": "code",
   "execution_count": 5,
   "id": "204160c0-2618-4c81-8591-8b8c6e29daba",
   "metadata": {
    "ExecuteTime": {
     "end_time": "2024-04-13T19:07:39.678779Z",
     "start_time": "2024-04-13T19:07:39.665705Z"
    }
   },
   "outputs": [],
   "source": [
    "def converterYoloToDataFrame(labels_list, path, classes):\n",
    "    '''\n",
    "        Функция позволяет перенести все данные с формата YOLO в DataFrame\n",
    "        Input:\n",
    "            labels_list - набор названий изображений\n",
    "            path - путь до папки с изображениями\n",
    "    '''\n",
    "    labels = {} # Словарь объктов\n",
    "    number_item = 0 # Номер записи\n",
    "    for item in tqdm(labels_list):\n",
    "        # Читаем все записи\n",
    "        with open(path + item) as f:\n",
    "            lines = f.readlines()\n",
    "    \n",
    "        # Проходимся по каждой записи\n",
    "        for line in lines:\n",
    "            # Получаем координаты в процентах\n",
    "            x_center, y_center, w, h = (float(number) for number in line.split()[1:]) \n",
    "    \n",
    "            # Заносим в словарь\n",
    "            labels[number_item] = {\n",
    "                'image_name': '/'.join(path.split('/')[:-2]) + '/images/' + item[:-3] + 'jpg',\n",
    "                'x_center': x_center, \n",
    "                'y_center': y_center, \n",
    "                'w': w, \n",
    "                'h': h,\n",
    "                'classes': classes\n",
    "            }\n",
    "            number_item += 1\n",
    "    return labels"
   ]
  },
  {
   "cell_type": "code",
   "execution_count": 6,
   "id": "dc4f06d4-db15-47eb-a8ce-8f0933032a02",
   "metadata": {
    "ExecuteTime": {
     "end_time": "2024-04-13T19:07:39.694384Z",
     "start_time": "2024-04-13T19:07:39.679779Z"
    }
   },
   "outputs": [],
   "source": [
    "def datasetMinimization(dataSet, count):\n",
    "    '''\n",
    "        Функция позволяет понизить размер DataFrame за счёт удаления фотографий\n",
    "        Input:\n",
    "            dataSet - первоначальный DataFrame\n",
    "            count - количество, во сколько раз сжать DataFrame\n",
    "    '''\n",
    "    # Список во всеми именами фотографий\n",
    "    list_image_name = dataSet['image_name'].unique().tolist()\n",
    "\n",
    "    # Кол-во фотографий в начале\n",
    "    start_count_image = len(list_image_name)\n",
    "    \n",
    "    # Получаем именя изображений, которые оставляем\n",
    "    name_file = random.sample(list_image_name, len(list_image_name) // count)\n",
    "\n",
    "    # Записи с этими файлами\n",
    "    dataSet = dataSet[dataSet['image_name'].isin(name_file)]\n",
    "\n",
    "    # Кол-во фотографий после обработки\n",
    "    end_count_image = len(dataSet['image_name'].unique())\n",
    "    \n",
    "    # Выведем системноо сообщение об результате сокращения фотографий\n",
    "    print(f'There were {start_count_image} photos, now there are {end_count_image}')\n",
    "    \n",
    "    return dataSet"
   ]
  },
  {
   "cell_type": "markdown",
   "id": "65f96216-2d02-4e12-b196-95b2fc890144",
   "metadata": {},
   "source": [
    "## 2.0 Классы для модели\n",
    "    0 - машина\n",
    "    1 - ЛЭП\n",
    "    2 - Деревья\n",
    "    3 - Птицы\n",
    "    4 - Дом/здание\n",
    "    5 - Провода"
   ]
  },
  {
   "cell_type": "markdown",
   "id": "076de3f5-6fce-417c-91ee-c72a15ca59fd",
   "metadata": {},
   "source": [
    "## 2.1. Датасеты с автомобилями\n",
    "### 2.1.1 Обработка датасета Car Detection"
   ]
  },
  {
   "cell_type": "code",
   "execution_count": 7,
   "id": "9ab77872-32bf-4747-aa0d-4adbd6490bb2",
   "metadata": {
    "ExecuteTime": {
     "end_time": "2024-04-13T19:07:39.725467Z",
     "start_time": "2024-04-13T19:07:39.695388Z"
    }
   },
   "outputs": [
    {
     "data": {
      "text/html": [
       "<div>\n",
       "<style scoped>\n",
       "    .dataframe tbody tr th:only-of-type {\n",
       "        vertical-align: middle;\n",
       "    }\n",
       "\n",
       "    .dataframe tbody tr th {\n",
       "        vertical-align: top;\n",
       "    }\n",
       "\n",
       "    .dataframe thead th {\n",
       "        text-align: right;\n",
       "    }\n",
       "</style>\n",
       "<table border=\"1\" class=\"dataframe\">\n",
       "  <thead>\n",
       "    <tr style=\"text-align: right;\">\n",
       "      <th></th>\n",
       "      <th>image_name</th>\n",
       "      <th>xmin</th>\n",
       "      <th>ymin</th>\n",
       "      <th>xmax</th>\n",
       "      <th>ymax</th>\n",
       "    </tr>\n",
       "  </thead>\n",
       "  <tbody>\n",
       "    <tr>\n",
       "      <th>144</th>\n",
       "      <td>vid_4_17160.jpg</td>\n",
       "      <td>290.063676</td>\n",
       "      <td>192.903797</td>\n",
       "      <td>409.415340</td>\n",
       "      <td>234.962999</td>\n",
       "    </tr>\n",
       "    <tr>\n",
       "      <th>387</th>\n",
       "      <td>vid_4_30020.jpg</td>\n",
       "      <td>11.739508</td>\n",
       "      <td>194.370978</td>\n",
       "      <td>76.306802</td>\n",
       "      <td>225.181789</td>\n",
       "    </tr>\n",
       "    <tr>\n",
       "      <th>376</th>\n",
       "      <td>vid_4_29920.jpg</td>\n",
       "      <td>382.023155</td>\n",
       "      <td>181.655405</td>\n",
       "      <td>553.713459</td>\n",
       "      <td>260.394144</td>\n",
       "    </tr>\n",
       "    <tr>\n",
       "      <th>327</th>\n",
       "      <td>vid_4_26440.jpg</td>\n",
       "      <td>582.573083</td>\n",
       "      <td>177.742921</td>\n",
       "      <td>676.000000</td>\n",
       "      <td>218.334942</td>\n",
       "    </tr>\n",
       "    <tr>\n",
       "      <th>535</th>\n",
       "      <td>vid_4_9640.jpg</td>\n",
       "      <td>257.992717</td>\n",
       "      <td>185.031574</td>\n",
       "      <td>386.989075</td>\n",
       "      <td>241.145564</td>\n",
       "    </tr>\n",
       "    <tr>\n",
       "      <th>305</th>\n",
       "      <td>vid_4_26360.jpg</td>\n",
       "      <td>337.510854</td>\n",
       "      <td>185.567889</td>\n",
       "      <td>460.775687</td>\n",
       "      <td>232.028636</td>\n",
       "    </tr>\n",
       "    <tr>\n",
       "      <th>17</th>\n",
       "      <td>vid_4_11020.jpg</td>\n",
       "      <td>0.000000</td>\n",
       "      <td>197.794401</td>\n",
       "      <td>75.817656</td>\n",
       "      <td>237.408301</td>\n",
       "    </tr>\n",
       "    <tr>\n",
       "      <th>3</th>\n",
       "      <td>vid_4_10020.jpg</td>\n",
       "      <td>496.483358</td>\n",
       "      <td>172.363256</td>\n",
       "      <td>630.020260</td>\n",
       "      <td>231.539575</td>\n",
       "    </tr>\n",
       "    <tr>\n",
       "      <th>341</th>\n",
       "      <td>vid_4_26460.jpg</td>\n",
       "      <td>473.493488</td>\n",
       "      <td>185.567889</td>\n",
       "      <td>573.279305</td>\n",
       "      <td>227.138031</td>\n",
       "    </tr>\n",
       "    <tr>\n",
       "      <th>377</th>\n",
       "      <td>vid_4_29920.jpg</td>\n",
       "      <td>642.248915</td>\n",
       "      <td>180.188224</td>\n",
       "      <td>676.000000</td>\n",
       "      <td>202.685006</td>\n",
       "    </tr>\n",
       "  </tbody>\n",
       "</table>\n",
       "</div>"
      ],
      "text/plain": [
       "          image_name        xmin        ymin        xmax        ymax\n",
       "144  vid_4_17160.jpg  290.063676  192.903797  409.415340  234.962999\n",
       "387  vid_4_30020.jpg   11.739508  194.370978   76.306802  225.181789\n",
       "376  vid_4_29920.jpg  382.023155  181.655405  553.713459  260.394144\n",
       "327  vid_4_26440.jpg  582.573083  177.742921  676.000000  218.334942\n",
       "535   vid_4_9640.jpg  257.992717  185.031574  386.989075  241.145564\n",
       "305  vid_4_26360.jpg  337.510854  185.567889  460.775687  232.028636\n",
       "17   vid_4_11020.jpg    0.000000  197.794401   75.817656  237.408301\n",
       "3    vid_4_10020.jpg  496.483358  172.363256  630.020260  231.539575\n",
       "341  vid_4_26460.jpg  473.493488  185.567889  573.279305  227.138031\n",
       "377  vid_4_29920.jpg  642.248915  180.188224  676.000000  202.685006"
      ]
     },
     "execution_count": 7,
     "metadata": {},
     "output_type": "execute_result"
    }
   ],
   "source": [
    "img_h, img_w = (380, 676) # Размеры изображения\n",
    "dataCarDetection = pd.read_csv(PATH_CAR + '/train_solution_bounding_boxes (1).csv') # Читаем датасет\n",
    "\n",
    "dataCarDetection.rename(columns={'image':'image_name'}, inplace=True) # Переименовываем колонку\n",
    "\n",
    "dataCarDetection.sample(10) # посмотрим на данные"
   ]
  },
  {
   "cell_type": "code",
   "execution_count": 8,
   "id": "b2a3dbfd-833f-4e70-aff0-7436bba795ca",
   "metadata": {
    "ExecuteTime": {
     "end_time": "2024-04-13T19:07:39.756671Z",
     "start_time": "2024-04-13T19:07:39.725978Z"
    }
   },
   "outputs": [
    {
     "name": "stdout",
     "output_type": "stream",
     "text": [
      "There were 355 photos, now there are 177\n"
     ]
    },
    {
     "data": {
      "text/html": [
       "<div>\n",
       "<style scoped>\n",
       "    .dataframe tbody tr th:only-of-type {\n",
       "        vertical-align: middle;\n",
       "    }\n",
       "\n",
       "    .dataframe tbody tr th {\n",
       "        vertical-align: top;\n",
       "    }\n",
       "\n",
       "    .dataframe thead th {\n",
       "        text-align: right;\n",
       "    }\n",
       "</style>\n",
       "<table border=\"1\" class=\"dataframe\">\n",
       "  <thead>\n",
       "    <tr style=\"text-align: right;\">\n",
       "      <th></th>\n",
       "      <th>image_name</th>\n",
       "      <th>x_center</th>\n",
       "      <th>y_center</th>\n",
       "      <th>w</th>\n",
       "      <th>h</th>\n",
       "      <th>classes</th>\n",
       "    </tr>\n",
       "  </thead>\n",
       "  <tbody>\n",
       "    <tr>\n",
       "      <th>254</th>\n",
       "      <td>../data/DATASET/CarDetection/training_images/v...</td>\n",
       "      <td>0.304993</td>\n",
       "      <td>0.555904</td>\n",
       "      <td>0.125181</td>\n",
       "      <td>0.086229</td>\n",
       "      <td>0</td>\n",
       "    </tr>\n",
       "    <tr>\n",
       "      <th>82</th>\n",
       "      <td>../data/DATASET/CarDetection/training_images/v...</td>\n",
       "      <td>0.308973</td>\n",
       "      <td>0.516007</td>\n",
       "      <td>0.057887</td>\n",
       "      <td>0.065637</td>\n",
       "      <td>0</td>\n",
       "    </tr>\n",
       "    <tr>\n",
       "      <th>193</th>\n",
       "      <td>../data/DATASET/CarDetection/training_images/v...</td>\n",
       "      <td>0.145441</td>\n",
       "      <td>0.566200</td>\n",
       "      <td>0.173661</td>\n",
       "      <td>0.127413</td>\n",
       "      <td>0</td>\n",
       "    </tr>\n",
       "    <tr>\n",
       "      <th>81</th>\n",
       "      <td>../data/DATASET/CarDetection/training_images/v...</td>\n",
       "      <td>0.162084</td>\n",
       "      <td>0.583575</td>\n",
       "      <td>0.211288</td>\n",
       "      <td>0.149292</td>\n",
       "      <td>0</td>\n",
       "    </tr>\n",
       "    <tr>\n",
       "      <th>474</th>\n",
       "      <td>../data/DATASET/CarDetection/training_images/v...</td>\n",
       "      <td>0.742535</td>\n",
       "      <td>0.529024</td>\n",
       "      <td>0.184268</td>\n",
       "      <td>0.107513</td>\n",
       "      <td>0</td>\n",
       "    </tr>\n",
       "    <tr>\n",
       "      <th>76</th>\n",
       "      <td>../data/DATASET/CarDetection/training_images/v...</td>\n",
       "      <td>0.810420</td>\n",
       "      <td>0.520512</td>\n",
       "      <td>0.214182</td>\n",
       "      <td>0.126126</td>\n",
       "      <td>0</td>\n",
       "    </tr>\n",
       "    <tr>\n",
       "      <th>309</th>\n",
       "      <td>../data/DATASET/CarDetection/training_images/v...</td>\n",
       "      <td>0.335745</td>\n",
       "      <td>0.561052</td>\n",
       "      <td>0.164978</td>\n",
       "      <td>0.096525</td>\n",
       "      <td>0</td>\n",
       "    </tr>\n",
       "    <tr>\n",
       "      <th>554</th>\n",
       "      <td>../data/DATASET/CarDetection/training_images/v...</td>\n",
       "      <td>0.036417</td>\n",
       "      <td>0.571770</td>\n",
       "      <td>0.072833</td>\n",
       "      <td>0.099741</td>\n",
       "      <td>0</td>\n",
       "    </tr>\n",
       "    <tr>\n",
       "      <th>487</th>\n",
       "      <td>../data/DATASET/CarDetection/training_images/v...</td>\n",
       "      <td>0.585215</td>\n",
       "      <td>0.538091</td>\n",
       "      <td>0.108521</td>\n",
       "      <td>0.086788</td>\n",
       "      <td>0</td>\n",
       "    </tr>\n",
       "    <tr>\n",
       "      <th>216</th>\n",
       "      <td>../data/DATASET/CarDetection/training_images/v...</td>\n",
       "      <td>0.187410</td>\n",
       "      <td>0.555904</td>\n",
       "      <td>0.124457</td>\n",
       "      <td>0.111969</td>\n",
       "      <td>0</td>\n",
       "    </tr>\n",
       "  </tbody>\n",
       "</table>\n",
       "</div>"
      ],
      "text/plain": [
       "                                            image_name  x_center  y_center  \\\n",
       "254  ../data/DATASET/CarDetection/training_images/v...  0.304993  0.555904   \n",
       "82   ../data/DATASET/CarDetection/training_images/v...  0.308973  0.516007   \n",
       "193  ../data/DATASET/CarDetection/training_images/v...  0.145441  0.566200   \n",
       "81   ../data/DATASET/CarDetection/training_images/v...  0.162084  0.583575   \n",
       "474  ../data/DATASET/CarDetection/training_images/v...  0.742535  0.529024   \n",
       "76   ../data/DATASET/CarDetection/training_images/v...  0.810420  0.520512   \n",
       "309  ../data/DATASET/CarDetection/training_images/v...  0.335745  0.561052   \n",
       "554  ../data/DATASET/CarDetection/training_images/v...  0.036417  0.571770   \n",
       "487  ../data/DATASET/CarDetection/training_images/v...  0.585215  0.538091   \n",
       "216  ../data/DATASET/CarDetection/training_images/v...  0.187410  0.555904   \n",
       "\n",
       "            w         h  classes  \n",
       "254  0.125181  0.086229        0  \n",
       "82   0.057887  0.065637        0  \n",
       "193  0.173661  0.127413        0  \n",
       "81   0.211288  0.149292        0  \n",
       "474  0.184268  0.107513        0  \n",
       "76   0.214182  0.126126        0  \n",
       "309  0.164978  0.096525        0  \n",
       "554  0.072833  0.099741        0  \n",
       "487  0.108521  0.086788        0  \n",
       "216  0.124457  0.111969        0  "
      ]
     },
     "execution_count": 8,
     "metadata": {},
     "output_type": "execute_result"
    }
   ],
   "source": [
    "# Получим координаты центра объекта в процентах \n",
    "dataCarDetection['x_center'] = (dataCarDetection['xmin'] + dataCarDetection['xmax']) / 2 / img_w \n",
    "dataCarDetection['y_center'] = (dataCarDetection['ymin'] + dataCarDetection['ymax']) / 2 / img_h \n",
    "\n",
    "# Получим размеры объекта в процентах\n",
    "dataCarDetection['w'] = (dataCarDetection['xmax'] - dataCarDetection['xmin']) / img_w # Получаем ширину объекта в процентах\n",
    "dataCarDetection['h'] = (dataCarDetection['ymax'] - dataCarDetection['ymin']) / img_h # Получаем ширину объекта в процентах\n",
    "dataCarDetection['classes'] = 0 # Задаём класс объекта\n",
    "dataCarDetection.drop(\n",
    "    ['xmin', 'xmax', 'ymin', 'ymax'], # Удаляем ненужные признаки\n",
    "    axis=1, inplace=True\n",
    ")\n",
    "\n",
    "# Изменим путь до файла\n",
    "dataCarDetection['image_name'] = f'{PATH_CAR}/training_images/' + dataCarDetection['image_name']\n",
    "\n",
    "# Очистим память \n",
    "del img_h, img_w\n",
    "\n",
    "# Уменьшаем размер DataFrame\n",
    "dataCarDetection = datasetMinimization(dataCarDetection, DATASET_DOWNGRADES[print_variable_name(dataCarDetection)])\n",
    "\n",
    "dataCarDetection.sample(10) # Посмотрим на данные"
   ]
  },
  {
   "cell_type": "markdown",
   "id": "44be5f83-0ecc-4665-9d58-c6b7ca31bfbc",
   "metadata": {},
   "source": [
    "## 2.1.2. Обработка датасета Cars Detection"
   ]
  },
  {
   "cell_type": "code",
   "execution_count": 9,
   "id": "3341e9d3-73f4-4370-b6d9-b002088b2a88",
   "metadata": {
    "ExecuteTime": {
     "end_time": "2024-04-13T19:07:40.111595Z",
     "start_time": "2024-04-13T19:07:39.773192Z"
    },
    "scrolled": true
   },
   "outputs": [
    {
     "data": {
      "application/vnd.jupyter.widget-view+json": {
       "model_id": "5384c907c3f54ab6a1992a2b1e88b73f",
       "version_major": 2,
       "version_minor": 0
      },
      "text/plain": [
       "  0%|          | 0/878 [00:00<?, ?it/s]"
      ]
     },
     "metadata": {},
     "output_type": "display_data"
    },
    {
     "data": {
      "application/vnd.jupyter.widget-view+json": {
       "model_id": "40ad2052032547a492d567aadb64b5fc",
       "version_major": 2,
       "version_minor": 0
      },
      "text/plain": [
       "  0%|          | 0/250 [00:00<?, ?it/s]"
      ]
     },
     "metadata": {},
     "output_type": "display_data"
    },
    {
     "data": {
      "application/vnd.jupyter.widget-view+json": {
       "model_id": "642ddb6f3d0e4c9296fd4d2ad5979b3c",
       "version_major": 2,
       "version_minor": 0
      },
      "text/plain": [
       "  0%|          | 0/126 [00:00<?, ?it/s]"
      ]
     },
     "metadata": {},
     "output_type": "display_data"
    },
    {
     "name": "stdout",
     "output_type": "stream",
     "text": [
      "There were 1254 photos, now there are 313\n"
     ]
    },
    {
     "data": {
      "text/html": [
       "<div>\n",
       "<style scoped>\n",
       "    .dataframe tbody tr th:only-of-type {\n",
       "        vertical-align: middle;\n",
       "    }\n",
       "\n",
       "    .dataframe tbody tr th {\n",
       "        vertical-align: top;\n",
       "    }\n",
       "\n",
       "    .dataframe thead th {\n",
       "        text-align: right;\n",
       "    }\n",
       "</style>\n",
       "<table border=\"1\" class=\"dataframe\">\n",
       "  <thead>\n",
       "    <tr style=\"text-align: right;\">\n",
       "      <th></th>\n",
       "      <th>image_name</th>\n",
       "      <th>x_center</th>\n",
       "      <th>y_center</th>\n",
       "      <th>w</th>\n",
       "      <th>h</th>\n",
       "      <th>classes</th>\n",
       "    </tr>\n",
       "  </thead>\n",
       "  <tbody>\n",
       "    <tr>\n",
       "      <th>528</th>\n",
       "      <td>../data/DATASET/CarsDetection/Cars Detection/t...</td>\n",
       "      <td>0.504808</td>\n",
       "      <td>0.479567</td>\n",
       "      <td>0.908654</td>\n",
       "      <td>0.891827</td>\n",
       "      <td>0</td>\n",
       "    </tr>\n",
       "    <tr>\n",
       "      <th>398</th>\n",
       "      <td>../data/DATASET/CarsDetection/Cars Detection/v...</td>\n",
       "      <td>0.514423</td>\n",
       "      <td>0.492788</td>\n",
       "      <td>0.967548</td>\n",
       "      <td>0.777644</td>\n",
       "      <td>0</td>\n",
       "    </tr>\n",
       "    <tr>\n",
       "      <th>872</th>\n",
       "      <td>../data/DATASET/CarsDetection/Cars Detection/t...</td>\n",
       "      <td>0.574519</td>\n",
       "      <td>0.209135</td>\n",
       "      <td>0.170673</td>\n",
       "      <td>0.112981</td>\n",
       "      <td>0</td>\n",
       "    </tr>\n",
       "    <tr>\n",
       "      <th>127</th>\n",
       "      <td>../data/DATASET/CarsDetection/Cars Detection/t...</td>\n",
       "      <td>0.110577</td>\n",
       "      <td>0.639423</td>\n",
       "      <td>0.204327</td>\n",
       "      <td>0.15625</td>\n",
       "      <td>0</td>\n",
       "    </tr>\n",
       "    <tr>\n",
       "      <th>201</th>\n",
       "      <td>../data/DATASET/CarsDetection/Cars Detection/v...</td>\n",
       "      <td>0.383413</td>\n",
       "      <td>0.415865</td>\n",
       "      <td>0.759615</td>\n",
       "      <td>0.651442</td>\n",
       "      <td>0</td>\n",
       "    </tr>\n",
       "    <tr>\n",
       "      <th>250</th>\n",
       "      <td>../data/DATASET/CarsDetection/Cars Detection/t...</td>\n",
       "      <td>0.498798</td>\n",
       "      <td>0.496394</td>\n",
       "      <td>0.96274</td>\n",
       "      <td>0.973558</td>\n",
       "      <td>0</td>\n",
       "    </tr>\n",
       "    <tr>\n",
       "      <th>319</th>\n",
       "      <td>../data/DATASET/CarsDetection/Cars Detection/t...</td>\n",
       "      <td>0.701923</td>\n",
       "      <td>0.502404</td>\n",
       "      <td>0.332933</td>\n",
       "      <td>0.810096</td>\n",
       "      <td>0</td>\n",
       "    </tr>\n",
       "    <tr>\n",
       "      <th>165</th>\n",
       "      <td>../data/DATASET/CarsDetection/Cars Detection/t...</td>\n",
       "      <td>0.478365</td>\n",
       "      <td>0.027644</td>\n",
       "      <td>0.240385</td>\n",
       "      <td>0.055288</td>\n",
       "      <td>0</td>\n",
       "    </tr>\n",
       "    <tr>\n",
       "      <th>62</th>\n",
       "      <td>../data/DATASET/CarsDetection/Cars Detection/t...</td>\n",
       "      <td>0.515625</td>\n",
       "      <td>0.496394</td>\n",
       "      <td>0.860577</td>\n",
       "      <td>0.935096</td>\n",
       "      <td>0</td>\n",
       "    </tr>\n",
       "    <tr>\n",
       "      <th>378</th>\n",
       "      <td>../data/DATASET/CarsDetection/Cars Detection/v...</td>\n",
       "      <td>0.695913</td>\n",
       "      <td>0.449519</td>\n",
       "      <td>0.539663</td>\n",
       "      <td>0.609375</td>\n",
       "      <td>0</td>\n",
       "    </tr>\n",
       "  </tbody>\n",
       "</table>\n",
       "</div>"
      ],
      "text/plain": [
       "                                            image_name  x_center  y_center  \\\n",
       "528  ../data/DATASET/CarsDetection/Cars Detection/t...  0.504808  0.479567   \n",
       "398  ../data/DATASET/CarsDetection/Cars Detection/v...  0.514423  0.492788   \n",
       "872  ../data/DATASET/CarsDetection/Cars Detection/t...  0.574519  0.209135   \n",
       "127  ../data/DATASET/CarsDetection/Cars Detection/t...  0.110577  0.639423   \n",
       "201  ../data/DATASET/CarsDetection/Cars Detection/v...  0.383413  0.415865   \n",
       "250  ../data/DATASET/CarsDetection/Cars Detection/t...  0.498798  0.496394   \n",
       "319  ../data/DATASET/CarsDetection/Cars Detection/t...  0.701923  0.502404   \n",
       "165  ../data/DATASET/CarsDetection/Cars Detection/t...  0.478365  0.027644   \n",
       "62   ../data/DATASET/CarsDetection/Cars Detection/t...  0.515625  0.496394   \n",
       "378  ../data/DATASET/CarsDetection/Cars Detection/v...  0.695913  0.449519   \n",
       "\n",
       "            w         h classes  \n",
       "528  0.908654  0.891827       0  \n",
       "398  0.967548  0.777644       0  \n",
       "872  0.170673  0.112981       0  \n",
       "127  0.204327   0.15625       0  \n",
       "201  0.759615  0.651442       0  \n",
       "250   0.96274  0.973558       0  \n",
       "319  0.332933  0.810096       0  \n",
       "165  0.240385  0.055288       0  \n",
       "62   0.860577  0.935096       0  \n",
       "378  0.539663  0.609375       0  "
      ]
     },
     "execution_count": 9,
     "metadata": {},
     "output_type": "execute_result"
    }
   ],
   "source": [
    "dataCarsDetection = pd.DataFrame(columns=dataCarDetection.columns) \n",
    "\n",
    "# Проходимся по всем выборкам\n",
    "for sample in ['train', 'valid', 'test']:\n",
    "    labels_name = os.listdir(f'{PATH_CARS}{sample}/labels') # Список файлов с разметкой \n",
    "    labels = pd.DataFrame(converterYoloToDataFrame(labels_name, f'{PATH_CARS}{sample}/labels/', 0)) # Получаем датасет с разметкой\n",
    "    dataCarsDetection = pd.concat([dataCarsDetection, labels.T]) # Соединяем выборки в единый датасет\n",
    "\n",
    "del labels_name, labels # Очищаем память\n",
    "\n",
    "# Уменьшаем размер DataFrame\n",
    "dataCarsDetection = datasetMinimization(dataCarsDetection, DATASET_DOWNGRADES[print_variable_name(dataCarsDetection)])\n",
    "\n",
    "dataCarsDetection.sample(10) # Посмотрим на данные"
   ]
  },
  {
   "cell_type": "markdown",
   "id": "8598ce0c-20d0-4208-9f8f-9b163a6c0067",
   "metadata": {},
   "source": [
    "### 2.1.3. Обработка датасета Car Person"
   ]
  },
  {
   "cell_type": "code",
   "execution_count": 10,
   "id": "c4dce7bd-3129-4b1f-bc29-8114bb093cb5",
   "metadata": {
    "ExecuteTime": {
     "end_time": "2024-04-13T19:07:41.123694Z",
     "start_time": "2024-04-13T19:07:40.112594Z"
    }
   },
   "outputs": [
    {
     "data": {
      "application/vnd.jupyter.widget-view+json": {
       "model_id": "839f8ad7c24c4b85acc58c94c87b117a",
       "version_major": 2,
       "version_minor": 0
      },
      "text/plain": [
       "  0%|          | 0/1571 [00:00<?, ?it/s]"
      ]
     },
     "metadata": {},
     "output_type": "display_data"
    },
    {
     "data": {
      "application/vnd.jupyter.widget-view+json": {
       "model_id": "945adc38140f4998a70c77ad48158da6",
       "version_major": 2,
       "version_minor": 0
      },
      "text/plain": [
       "  0%|          | 0/448 [00:00<?, ?it/s]"
      ]
     },
     "metadata": {},
     "output_type": "display_data"
    },
    {
     "data": {
      "application/vnd.jupyter.widget-view+json": {
       "model_id": "d8a7bbb1027647f285faa36754282d77",
       "version_major": 2,
       "version_minor": 0
      },
      "text/plain": [
       "  0%|          | 0/224 [00:00<?, ?it/s]"
      ]
     },
     "metadata": {},
     "output_type": "display_data"
    },
    {
     "name": "stdout",
     "output_type": "stream",
     "text": [
      "There were 2243 photos, now there are 747\n"
     ]
    },
    {
     "data": {
      "text/html": [
       "<div>\n",
       "<style scoped>\n",
       "    .dataframe tbody tr th:only-of-type {\n",
       "        vertical-align: middle;\n",
       "    }\n",
       "\n",
       "    .dataframe tbody tr th {\n",
       "        vertical-align: top;\n",
       "    }\n",
       "\n",
       "    .dataframe thead th {\n",
       "        text-align: right;\n",
       "    }\n",
       "</style>\n",
       "<table border=\"1\" class=\"dataframe\">\n",
       "  <thead>\n",
       "    <tr style=\"text-align: right;\">\n",
       "      <th></th>\n",
       "      <th>image_name</th>\n",
       "      <th>x_center</th>\n",
       "      <th>y_center</th>\n",
       "      <th>w</th>\n",
       "      <th>h</th>\n",
       "      <th>classes</th>\n",
       "    </tr>\n",
       "  </thead>\n",
       "  <tbody>\n",
       "    <tr>\n",
       "      <th>2946</th>\n",
       "      <td>../data/DATASET/CarPerson/Car-Person-v2-Robofl...</td>\n",
       "      <td>0.09375</td>\n",
       "      <td>0.225962</td>\n",
       "      <td>0.082933</td>\n",
       "      <td>0.09375</td>\n",
       "      <td>0</td>\n",
       "    </tr>\n",
       "    <tr>\n",
       "      <th>919</th>\n",
       "      <td>../data/DATASET/CarPerson/Car-Person-v2-Robofl...</td>\n",
       "      <td>0.854567</td>\n",
       "      <td>0.514423</td>\n",
       "      <td>0.040865</td>\n",
       "      <td>0.026442</td>\n",
       "      <td>0</td>\n",
       "    </tr>\n",
       "    <tr>\n",
       "      <th>858</th>\n",
       "      <td>../data/DATASET/CarPerson/Car-Person-v2-Robofl...</td>\n",
       "      <td>0.995192</td>\n",
       "      <td>0.304087</td>\n",
       "      <td>0.007212</td>\n",
       "      <td>0.058894</td>\n",
       "      <td>0</td>\n",
       "    </tr>\n",
       "    <tr>\n",
       "      <th>6038</th>\n",
       "      <td>../data/DATASET/CarPerson/Car-Person-v2-Robofl...</td>\n",
       "      <td>0.674279</td>\n",
       "      <td>0.661058</td>\n",
       "      <td>0.08774</td>\n",
       "      <td>0.388221</td>\n",
       "      <td>0</td>\n",
       "    </tr>\n",
       "    <tr>\n",
       "      <th>4298</th>\n",
       "      <td>../data/DATASET/CarPerson/Car-Person-v2-Robofl...</td>\n",
       "      <td>0.610577</td>\n",
       "      <td>0.520433</td>\n",
       "      <td>0.777644</td>\n",
       "      <td>0.77524</td>\n",
       "      <td>0</td>\n",
       "    </tr>\n",
       "    <tr>\n",
       "      <th>2350</th>\n",
       "      <td>../data/DATASET/CarPerson/Car-Person-v2-Robofl...</td>\n",
       "      <td>0.584135</td>\n",
       "      <td>0.759615</td>\n",
       "      <td>0.540865</td>\n",
       "      <td>0.415865</td>\n",
       "      <td>0</td>\n",
       "    </tr>\n",
       "    <tr>\n",
       "      <th>6002</th>\n",
       "      <td>../data/DATASET/CarPerson/Car-Person-v2-Robofl...</td>\n",
       "      <td>0.414663</td>\n",
       "      <td>0.408654</td>\n",
       "      <td>0.064904</td>\n",
       "      <td>0.167067</td>\n",
       "      <td>0</td>\n",
       "    </tr>\n",
       "    <tr>\n",
       "      <th>279</th>\n",
       "      <td>../data/DATASET/CarPerson/Car-Person-v2-Robofl...</td>\n",
       "      <td>0.530048</td>\n",
       "      <td>0.298077</td>\n",
       "      <td>0.048077</td>\n",
       "      <td>0.225962</td>\n",
       "      <td>0</td>\n",
       "    </tr>\n",
       "    <tr>\n",
       "      <th>733</th>\n",
       "      <td>../data/DATASET/CarPerson/Car-Person-v2-Robofl...</td>\n",
       "      <td>0.115385</td>\n",
       "      <td>0.680288</td>\n",
       "      <td>0.009615</td>\n",
       "      <td>0.081731</td>\n",
       "      <td>0</td>\n",
       "    </tr>\n",
       "    <tr>\n",
       "      <th>2685</th>\n",
       "      <td>../data/DATASET/CarPerson/Car-Person-v2-Robofl...</td>\n",
       "      <td>0.137019</td>\n",
       "      <td>0.513221</td>\n",
       "      <td>0.171875</td>\n",
       "      <td>0.08774</td>\n",
       "      <td>0</td>\n",
       "    </tr>\n",
       "  </tbody>\n",
       "</table>\n",
       "</div>"
      ],
      "text/plain": [
       "                                             image_name  x_center  y_center  \\\n",
       "2946  ../data/DATASET/CarPerson/Car-Person-v2-Robofl...   0.09375  0.225962   \n",
       "919   ../data/DATASET/CarPerson/Car-Person-v2-Robofl...  0.854567  0.514423   \n",
       "858   ../data/DATASET/CarPerson/Car-Person-v2-Robofl...  0.995192  0.304087   \n",
       "6038  ../data/DATASET/CarPerson/Car-Person-v2-Robofl...  0.674279  0.661058   \n",
       "4298  ../data/DATASET/CarPerson/Car-Person-v2-Robofl...  0.610577  0.520433   \n",
       "2350  ../data/DATASET/CarPerson/Car-Person-v2-Robofl...  0.584135  0.759615   \n",
       "6002  ../data/DATASET/CarPerson/Car-Person-v2-Robofl...  0.414663  0.408654   \n",
       "279   ../data/DATASET/CarPerson/Car-Person-v2-Robofl...  0.530048  0.298077   \n",
       "733   ../data/DATASET/CarPerson/Car-Person-v2-Robofl...  0.115385  0.680288   \n",
       "2685  ../data/DATASET/CarPerson/Car-Person-v2-Robofl...  0.137019  0.513221   \n",
       "\n",
       "             w         h classes  \n",
       "2946  0.082933   0.09375       0  \n",
       "919   0.040865  0.026442       0  \n",
       "858   0.007212  0.058894       0  \n",
       "6038   0.08774  0.388221       0  \n",
       "4298  0.777644   0.77524       0  \n",
       "2350  0.540865  0.415865       0  \n",
       "6002  0.064904  0.167067       0  \n",
       "279   0.048077  0.225962       0  \n",
       "733   0.009615  0.081731       0  \n",
       "2685  0.171875   0.08774       0  "
      ]
     },
     "execution_count": 10,
     "metadata": {},
     "output_type": "execute_result"
    }
   ],
   "source": [
    "dataCarPerson = pd.DataFrame(columns=dataCarDetection.columns)\n",
    "for sample in ['train', 'valid', 'test']:\n",
    "    labels_name = os.listdir(f'{PATH_CAR_PERSON}{sample}/labels') # Список файлов с разметкой\n",
    "    labels = pd.DataFrame(converterYoloToDataFrame(labels_name, f'{PATH_CAR_PERSON}{sample}/labels/', 0)) # Получаем датасет с разметкой\n",
    "    dataCarPerson = pd.concat([dataCarPerson, labels.T]) # Соединяем выборки в единый датасет\n",
    "    \n",
    "del labels_name, labels # Очищаем память\n",
    "\n",
    "# Уменьшаем размер DataFrame\n",
    "dataCarPerson = datasetMinimization(dataCarPerson, DATASET_DOWNGRADES[print_variable_name(dataCarPerson)])\n",
    "\n",
    "dataCarPerson.sample(10) # Посмотрим на данные"
   ]
  },
  {
   "cell_type": "markdown",
   "id": "8ee68298-3fec-4f65-9178-829508774e70",
   "metadata": {},
   "source": [
    "## 2.2. Обработка датасет с ЛЭП\n",
    "### 2.2.1 Обработка датасета STN_PLAD"
   ]
  },
  {
   "cell_type": "code",
   "execution_count": 11,
   "id": "6d254d8e-e778-4c4f-98b2-9a2052dea633",
   "metadata": {
    "ExecuteTime": {
     "end_time": "2024-04-13T19:07:41.154654Z",
     "start_time": "2024-04-13T19:07:41.124231Z"
    },
    "scrolled": true
   },
   "outputs": [
    {
     "name": "stdout",
     "output_type": "stream",
     "text": [
      "[{'id': 0, 'name': 'tower', 'supercategory': 'tower'},\n",
      " {'id': 1, 'name': 'insulator', 'supercategory': 'component'},\n",
      " {'id': 2, 'name': 'spacer', 'supercategory': 'component'},\n",
      " {'id': 3, 'name': 'damper', 'supercategory': 'component'},\n",
      " {'id': 5, 'name': 'plate', 'supercategory': 'component'}]\n"
     ]
    },
    {
     "data": {
      "text/html": [
       "<div>\n",
       "<style scoped>\n",
       "    .dataframe tbody tr th:only-of-type {\n",
       "        vertical-align: middle;\n",
       "    }\n",
       "\n",
       "    .dataframe tbody tr th {\n",
       "        vertical-align: top;\n",
       "    }\n",
       "\n",
       "    .dataframe thead th {\n",
       "        text-align: right;\n",
       "    }\n",
       "</style>\n",
       "<table border=\"1\" class=\"dataframe\">\n",
       "  <thead>\n",
       "    <tr style=\"text-align: right;\">\n",
       "      <th></th>\n",
       "      <th>file_name</th>\n",
       "      <th>height</th>\n",
       "      <th>width</th>\n",
       "      <th>flickr_url</th>\n",
       "      <th>area</th>\n",
       "      <th>bbox</th>\n",
       "      <th>category_id</th>\n",
       "      <th>id</th>\n",
       "    </tr>\n",
       "  </thead>\n",
       "  <tbody>\n",
       "    <tr>\n",
       "      <th>991</th>\n",
       "      <td>20181129-R/DJI_0018.JPG</td>\n",
       "      <td>3648</td>\n",
       "      <td>5472</td>\n",
       "      <td></td>\n",
       "      <td>1403</td>\n",
       "      <td>[4067, 1927, 61, 23]</td>\n",
       "      <td>3</td>\n",
       "      <td>996</td>\n",
       "    </tr>\n",
       "    <tr>\n",
       "      <th>577</th>\n",
       "      <td>20181129-R/DJI_0010.JPG</td>\n",
       "      <td>3648</td>\n",
       "      <td>5472</td>\n",
       "      <td></td>\n",
       "      <td>49875</td>\n",
       "      <td>[2198, 2321, 75, 665]</td>\n",
       "      <td>1</td>\n",
       "      <td>579</td>\n",
       "    </tr>\n",
       "    <tr>\n",
       "      <th>1198</th>\n",
       "      <td>20181127-A1/DJI_0503.JPG</td>\n",
       "      <td>3078</td>\n",
       "      <td>5472</td>\n",
       "      <td></td>\n",
       "      <td>14490</td>\n",
       "      <td>[2729, 2006, 126, 115]</td>\n",
       "      <td>2</td>\n",
       "      <td>1204</td>\n",
       "    </tr>\n",
       "    <tr>\n",
       "      <th>2236</th>\n",
       "      <td>20181127-A1/DJI_0415.JPG</td>\n",
       "      <td>3078</td>\n",
       "      <td>5472</td>\n",
       "      <td></td>\n",
       "      <td>12920</td>\n",
       "      <td>[2933, 1736, 152, 85]</td>\n",
       "      <td>3</td>\n",
       "      <td>2249</td>\n",
       "    </tr>\n",
       "    <tr>\n",
       "      <th>408</th>\n",
       "      <td>20181127-A1/DJI_0482.JPG</td>\n",
       "      <td>3078</td>\n",
       "      <td>5472</td>\n",
       "      <td></td>\n",
       "      <td>8694</td>\n",
       "      <td>[3642, 1067, 63, 138]</td>\n",
       "      <td>2</td>\n",
       "      <td>409</td>\n",
       "    </tr>\n",
       "    <tr>\n",
       "      <th>1203</th>\n",
       "      <td>20181127-A1/DJI_0503.JPG</td>\n",
       "      <td>3078</td>\n",
       "      <td>5472</td>\n",
       "      <td></td>\n",
       "      <td>1088</td>\n",
       "      <td>[2823, 2218, 17, 64]</td>\n",
       "      <td>3</td>\n",
       "      <td>1209</td>\n",
       "    </tr>\n",
       "    <tr>\n",
       "      <th>480</th>\n",
       "      <td>20181127-A1/DJI_0459.JPG</td>\n",
       "      <td>3078</td>\n",
       "      <td>5472</td>\n",
       "      <td></td>\n",
       "      <td>4841</td>\n",
       "      <td>[2284, 1384, 47, 103]</td>\n",
       "      <td>2</td>\n",
       "      <td>482</td>\n",
       "    </tr>\n",
       "    <tr>\n",
       "      <th>2292</th>\n",
       "      <td>20181127-A1/DJI_0477.JPG</td>\n",
       "      <td>3078</td>\n",
       "      <td>5472</td>\n",
       "      <td></td>\n",
       "      <td>1728</td>\n",
       "      <td>[3204, 1328, 64, 27]</td>\n",
       "      <td>3</td>\n",
       "      <td>2305</td>\n",
       "    </tr>\n",
       "    <tr>\n",
       "      <th>602</th>\n",
       "      <td>20181127-A1/DJI_0484.JPG</td>\n",
       "      <td>3078</td>\n",
       "      <td>5472</td>\n",
       "      <td></td>\n",
       "      <td>14507</td>\n",
       "      <td>[1634, 777, 163, 89]</td>\n",
       "      <td>2</td>\n",
       "      <td>605</td>\n",
       "    </tr>\n",
       "    <tr>\n",
       "      <th>951</th>\n",
       "      <td>20181129-R/DJI_0019.JPG</td>\n",
       "      <td>3648</td>\n",
       "      <td>5472</td>\n",
       "      <td></td>\n",
       "      <td>4560</td>\n",
       "      <td>[1771, 2350, 95, 48]</td>\n",
       "      <td>3</td>\n",
       "      <td>956</td>\n",
       "    </tr>\n",
       "  </tbody>\n",
       "</table>\n",
       "</div>"
      ],
      "text/plain": [
       "                     file_name  height  width flickr_url   area  \\\n",
       "991    20181129-R/DJI_0018.JPG    3648   5472              1403   \n",
       "577    20181129-R/DJI_0010.JPG    3648   5472             49875   \n",
       "1198  20181127-A1/DJI_0503.JPG    3078   5472             14490   \n",
       "2236  20181127-A1/DJI_0415.JPG    3078   5472             12920   \n",
       "408   20181127-A1/DJI_0482.JPG    3078   5472              8694   \n",
       "1203  20181127-A1/DJI_0503.JPG    3078   5472              1088   \n",
       "480   20181127-A1/DJI_0459.JPG    3078   5472              4841   \n",
       "2292  20181127-A1/DJI_0477.JPG    3078   5472              1728   \n",
       "602   20181127-A1/DJI_0484.JPG    3078   5472             14507   \n",
       "951    20181129-R/DJI_0019.JPG    3648   5472              4560   \n",
       "\n",
       "                        bbox  category_id    id  \n",
       "991     [4067, 1927, 61, 23]            3   996  \n",
       "577    [2198, 2321, 75, 665]            1   579  \n",
       "1198  [2729, 2006, 126, 115]            2  1204  \n",
       "2236   [2933, 1736, 152, 85]            3  2249  \n",
       "408    [3642, 1067, 63, 138]            2   409  \n",
       "1203    [2823, 2218, 17, 64]            3  1209  \n",
       "480    [2284, 1384, 47, 103]            2   482  \n",
       "2292    [3204, 1328, 64, 27]            3  2305  \n",
       "602     [1634, 777, 163, 89]            2   605  \n",
       "951     [1771, 2350, 95, 48]            3   956  "
      ]
     },
     "execution_count": 11,
     "metadata": {},
     "output_type": "execute_result"
    }
   ],
   "source": [
    "# Читаем файл с разметкой датасета STN\n",
    "with open(PATH_STN + '/annotations.json') as f:\n",
    "    dataSTN = json.load(f)\n",
    "\n",
    "pprint(dataSTN['categories']) # Посмотрим на категории\n",
    "\n",
    "# Получим два DataFrame, один с изображениями, другой с разметкой объектов\n",
    "data = pd.DataFrame(dataSTN['images']).rename(columns={'id': 'image_id'})\n",
    "data1 =  pd.DataFrame(dataSTN['annotations'])\n",
    "\n",
    "# Объединим два дасатсета и удалим лишние признаки\n",
    "dataSTN = pd.merge(data, data1, on='image_id', how='left').drop(\n",
    "    [\n",
    "        'licence', 'segmentation', 'date_captured', 'coco_url', \n",
    "        'iscrowd', 'image_id'\n",
    "    ], axis=1\n",
    ")\n",
    "\n",
    "# Очистим память \n",
    "del data, data1 \n",
    "\n",
    "dataSTN.sample(10) # Посмотрим на данные"
   ]
  },
  {
   "cell_type": "code",
   "execution_count": 12,
   "id": "2628718e-7336-4ad9-82ae-ca4c42041a37",
   "metadata": {
    "ExecuteTime": {
     "end_time": "2024-04-13T19:07:41.327479Z",
     "start_time": "2024-04-13T19:07:41.155723Z"
    }
   },
   "outputs": [
    {
     "data": {
      "text/html": [
       "<div>\n",
       "<style scoped>\n",
       "    .dataframe tbody tr th:only-of-type {\n",
       "        vertical-align: middle;\n",
       "    }\n",
       "\n",
       "    .dataframe tbody tr th {\n",
       "        vertical-align: top;\n",
       "    }\n",
       "\n",
       "    .dataframe thead th {\n",
       "        text-align: right;\n",
       "    }\n",
       "</style>\n",
       "<table border=\"1\" class=\"dataframe\">\n",
       "  <thead>\n",
       "    <tr style=\"text-align: right;\">\n",
       "      <th></th>\n",
       "      <th>image_name</th>\n",
       "      <th>classes</th>\n",
       "      <th>x_center</th>\n",
       "      <th>y_center</th>\n",
       "      <th>w</th>\n",
       "      <th>h</th>\n",
       "    </tr>\n",
       "  </thead>\n",
       "  <tbody>\n",
       "    <tr>\n",
       "      <th>1508</th>\n",
       "      <td>../data/DATASET/STN/20181127-A1/DJI_0428.JPG</td>\n",
       "      <td>1</td>\n",
       "      <td>0.515716</td>\n",
       "      <td>0.500162</td>\n",
       "      <td>0.119883</td>\n",
       "      <td>0.999675</td>\n",
       "    </tr>\n",
       "    <tr>\n",
       "      <th>938</th>\n",
       "      <td>../data/DATASET/STN/20181129-R/DJI_0019.JPG</td>\n",
       "      <td>1</td>\n",
       "      <td>0.451480</td>\n",
       "      <td>0.406935</td>\n",
       "      <td>0.010417</td>\n",
       "      <td>0.072643</td>\n",
       "    </tr>\n",
       "    <tr>\n",
       "      <th>69</th>\n",
       "      <td>../data/DATASET/STN/20181129-R/DJI_0024.JPG</td>\n",
       "      <td>1</td>\n",
       "      <td>0.154423</td>\n",
       "      <td>0.190378</td>\n",
       "      <td>0.025585</td>\n",
       "      <td>0.074836</td>\n",
       "    </tr>\n",
       "    <tr>\n",
       "      <th>206</th>\n",
       "      <td>../data/DATASET/STN/20181127-A1/DJI_0462.JPG</td>\n",
       "      <td>1</td>\n",
       "      <td>0.336623</td>\n",
       "      <td>0.578622</td>\n",
       "      <td>0.043860</td>\n",
       "      <td>0.626381</td>\n",
       "    </tr>\n",
       "    <tr>\n",
       "      <th>315</th>\n",
       "      <td>../data/DATASET/STN/20181127-A1/DJI_0438.JPG</td>\n",
       "      <td>1</td>\n",
       "      <td>0.470577</td>\n",
       "      <td>0.585283</td>\n",
       "      <td>0.082968</td>\n",
       "      <td>0.829435</td>\n",
       "    </tr>\n",
       "    <tr>\n",
       "      <th>300</th>\n",
       "      <td>../data/DATASET/STN/20181127-A1/DJI_0429.JPG</td>\n",
       "      <td>1</td>\n",
       "      <td>0.236020</td>\n",
       "      <td>0.220598</td>\n",
       "      <td>0.092654</td>\n",
       "      <td>0.440546</td>\n",
       "    </tr>\n",
       "    <tr>\n",
       "      <th>1961</th>\n",
       "      <td>../data/DATASET/STN/20181129-R/DJI_0004.JPG</td>\n",
       "      <td>1</td>\n",
       "      <td>0.137061</td>\n",
       "      <td>0.175439</td>\n",
       "      <td>0.043860</td>\n",
       "      <td>0.101974</td>\n",
       "    </tr>\n",
       "    <tr>\n",
       "      <th>863</th>\n",
       "      <td>../data/DATASET/STN/20181127-A1/DJI_0492.JPG</td>\n",
       "      <td>1</td>\n",
       "      <td>0.465278</td>\n",
       "      <td>0.674951</td>\n",
       "      <td>0.555556</td>\n",
       "      <td>0.650097</td>\n",
       "    </tr>\n",
       "    <tr>\n",
       "      <th>0</th>\n",
       "      <td>../data/DATASET/STN/20181129-R/DJI_0021.JPG</td>\n",
       "      <td>1</td>\n",
       "      <td>0.563962</td>\n",
       "      <td>0.534265</td>\n",
       "      <td>0.260234</td>\n",
       "      <td>0.931469</td>\n",
       "    </tr>\n",
       "    <tr>\n",
       "      <th>839</th>\n",
       "      <td>../data/DATASET/STN/20181127-A1/DJI_0418.JPG</td>\n",
       "      <td>1</td>\n",
       "      <td>0.868787</td>\n",
       "      <td>0.310916</td>\n",
       "      <td>0.030702</td>\n",
       "      <td>0.127355</td>\n",
       "    </tr>\n",
       "  </tbody>\n",
       "</table>\n",
       "</div>"
      ],
      "text/plain": [
       "                                        image_name  classes  x_center  \\\n",
       "1508  ../data/DATASET/STN/20181127-A1/DJI_0428.JPG        1  0.515716   \n",
       "938    ../data/DATASET/STN/20181129-R/DJI_0019.JPG        1  0.451480   \n",
       "69     ../data/DATASET/STN/20181129-R/DJI_0024.JPG        1  0.154423   \n",
       "206   ../data/DATASET/STN/20181127-A1/DJI_0462.JPG        1  0.336623   \n",
       "315   ../data/DATASET/STN/20181127-A1/DJI_0438.JPG        1  0.470577   \n",
       "300   ../data/DATASET/STN/20181127-A1/DJI_0429.JPG        1  0.236020   \n",
       "1961   ../data/DATASET/STN/20181129-R/DJI_0004.JPG        1  0.137061   \n",
       "863   ../data/DATASET/STN/20181127-A1/DJI_0492.JPG        1  0.465278   \n",
       "0      ../data/DATASET/STN/20181129-R/DJI_0021.JPG        1  0.563962   \n",
       "839   ../data/DATASET/STN/20181127-A1/DJI_0418.JPG        1  0.868787   \n",
       "\n",
       "      y_center         w         h  \n",
       "1508  0.500162  0.119883  0.999675  \n",
       "938   0.406935  0.010417  0.072643  \n",
       "69    0.190378  0.025585  0.074836  \n",
       "206   0.578622  0.043860  0.626381  \n",
       "315   0.585283  0.082968  0.829435  \n",
       "300   0.220598  0.092654  0.440546  \n",
       "1961  0.175439  0.043860  0.101974  \n",
       "863   0.674951  0.555556  0.650097  \n",
       "0     0.534265  0.260234  0.931469  \n",
       "839   0.310916  0.030702  0.127355  "
      ]
     },
     "execution_count": 12,
     "metadata": {},
     "output_type": "execute_result"
    }
   ],
   "source": [
    "# Получим координаты объекта\n",
    "dataSTN[['xmin', 'ymin', 'xmax', 'ymax']] = dataSTN['bbox'].apply(lambda x: pd.Series(x))\n",
    "dataSTN['xmax'] = dataSTN['xmax'] + dataSTN['xmin']\n",
    "dataSTN['ymax'] = dataSTN['ymax'] + dataSTN['ymin']\n",
    "\n",
    "# Получим координаты центра объекта в процентах \n",
    "dataSTN['x_center'] = (dataSTN['xmin'] + dataSTN['xmax']) / 2 / dataSTN['width']\n",
    "dataSTN['y_center'] = (dataSTN['ymin'] + dataSTN['ymax']) / 2 / dataSTN['height']\n",
    "\n",
    "# Получим размеры объекта в процентах\n",
    "dataSTN['w'] = (dataSTN['xmax'] - dataSTN['xmin']) / dataSTN['width']\n",
    "dataSTN['h'] = (dataSTN['ymax'] - dataSTN['ymin']) / dataSTN['height']\n",
    "\n",
    "# Переименуем признаки\n",
    "dataSTN.rename(\n",
    "    columns={\n",
    "        'file_name': 'image_name',\n",
    "        'category_id': 'classes'\n",
    "    }, \n",
    "    inplace=True\n",
    ") \n",
    "\n",
    "# Удалим ненужные признаки\n",
    "dataSTN.drop(\n",
    "    [\n",
    "        'height', 'width', 'flickr_url',\n",
    "        'area', 'bbox', 'id', 'xmin', \n",
    "        'xmax', 'ymin', 'ymax'\n",
    "    ], \n",
    "    axis=1, inplace=True\n",
    ")\n",
    "\n",
    "# Изменим путь до файла\n",
    "dataSTN['image_name'] = PATH_STN + '/' + dataSTN['image_name']\n",
    "\n",
    "# Оставим фотографии принадлижащие только к опоре ЛЭП\n",
    "dataSTN = dataSTN[dataSTN['classes'] == 0]\n",
    "dataSTN['classes'] = dataSTN['classes'] + 1\n",
    "\n",
    "dataSTN.sample(10) # Посомтрим на данные"
   ]
  },
  {
   "cell_type": "markdown",
   "id": "a8e65a98-7282-4a28-8660-052e9c8b73fc",
   "metadata": {},
   "source": [
    "### 2.2.2. Обработка датасета Utility Pole"
   ]
  },
  {
   "cell_type": "code",
   "execution_count": 13,
   "id": "05f0ef86-db2f-48c2-b702-638445de31fe",
   "metadata": {
    "ExecuteTime": {
     "end_time": "2024-04-13T19:07:41.390515Z",
     "start_time": "2024-04-13T19:07:41.329073Z"
    }
   },
   "outputs": [
    {
     "data": {
      "application/vnd.jupyter.widget-view+json": {
       "model_id": "1a4c584c27084b7c851ac38e7ebefbd7",
       "version_major": 2,
       "version_minor": 0
      },
      "text/plain": [
       "  0%|          | 0/179 [00:00<?, ?it/s]"
      ]
     },
     "metadata": {},
     "output_type": "display_data"
    },
    {
     "data": {
      "application/vnd.jupyter.widget-view+json": {
       "model_id": "1e7dbbc521e040d6b011b1ce3ab16d17",
       "version_major": 2,
       "version_minor": 0
      },
      "text/plain": [
       "  0%|          | 0/7 [00:00<?, ?it/s]"
      ]
     },
     "metadata": {},
     "output_type": "display_data"
    },
    {
     "data": {
      "text/html": [
       "<div>\n",
       "<style scoped>\n",
       "    .dataframe tbody tr th:only-of-type {\n",
       "        vertical-align: middle;\n",
       "    }\n",
       "\n",
       "    .dataframe tbody tr th {\n",
       "        vertical-align: top;\n",
       "    }\n",
       "\n",
       "    .dataframe thead th {\n",
       "        text-align: right;\n",
       "    }\n",
       "</style>\n",
       "<table border=\"1\" class=\"dataframe\">\n",
       "  <thead>\n",
       "    <tr style=\"text-align: right;\">\n",
       "      <th></th>\n",
       "      <th>image_name</th>\n",
       "      <th>x_center</th>\n",
       "      <th>y_center</th>\n",
       "      <th>w</th>\n",
       "      <th>h</th>\n",
       "      <th>classes</th>\n",
       "    </tr>\n",
       "  </thead>\n",
       "  <tbody>\n",
       "    <tr>\n",
       "      <th>152</th>\n",
       "      <td>../data/DATASET/UtilityPole/train/images/up1_j...</td>\n",
       "      <td>0.614183</td>\n",
       "      <td>0.492788</td>\n",
       "      <td>0.233173</td>\n",
       "      <td>0.836538</td>\n",
       "      <td>1</td>\n",
       "    </tr>\n",
       "    <tr>\n",
       "      <th>68</th>\n",
       "      <td>../data/DATASET/UtilityPole/train/images/stree...</td>\n",
       "      <td>0.432692</td>\n",
       "      <td>0.550481</td>\n",
       "      <td>0.235577</td>\n",
       "      <td>0.894231</td>\n",
       "      <td>1</td>\n",
       "    </tr>\n",
       "    <tr>\n",
       "      <th>245</th>\n",
       "      <td>../data/DATASET/UtilityPole/train/images/Cisco...</td>\n",
       "      <td>0.353365</td>\n",
       "      <td>0.652644</td>\n",
       "      <td>0.192308</td>\n",
       "      <td>0.675481</td>\n",
       "      <td>1</td>\n",
       "    </tr>\n",
       "    <tr>\n",
       "      <th>252</th>\n",
       "      <td>../data/DATASET/UtilityPole/train/images/stree...</td>\n",
       "      <td>0.432692</td>\n",
       "      <td>0.550481</td>\n",
       "      <td>0.235577</td>\n",
       "      <td>0.894231</td>\n",
       "      <td>1</td>\n",
       "    </tr>\n",
       "    <tr>\n",
       "      <th>163</th>\n",
       "      <td>../data/DATASET/UtilityPole/train/images/distr...</td>\n",
       "      <td>0.6875</td>\n",
       "      <td>0.776442</td>\n",
       "      <td>0.072115</td>\n",
       "      <td>0.259615</td>\n",
       "      <td>1</td>\n",
       "    </tr>\n",
       "    <tr>\n",
       "      <th>101</th>\n",
       "      <td>../data/DATASET/UtilityPole/train/images/twup_...</td>\n",
       "      <td>0.823317</td>\n",
       "      <td>0.626202</td>\n",
       "      <td>0.112981</td>\n",
       "      <td>0.175481</td>\n",
       "      <td>1</td>\n",
       "    </tr>\n",
       "    <tr>\n",
       "      <th>135</th>\n",
       "      <td>../data/DATASET/UtilityPole/train/images/_w850...</td>\n",
       "      <td>0.626202</td>\n",
       "      <td>0.502404</td>\n",
       "      <td>0.189904</td>\n",
       "      <td>0.990385</td>\n",
       "      <td>1</td>\n",
       "    </tr>\n",
       "    <tr>\n",
       "      <th>146</th>\n",
       "      <td>../data/DATASET/UtilityPole/train/images/woode...</td>\n",
       "      <td>0.786058</td>\n",
       "      <td>0.569712</td>\n",
       "      <td>0.221154</td>\n",
       "      <td>0.735577</td>\n",
       "      <td>1</td>\n",
       "    </tr>\n",
       "    <tr>\n",
       "      <th>164</th>\n",
       "      <td>../data/DATASET/UtilityPole/train/images/Inter...</td>\n",
       "      <td>0.430288</td>\n",
       "      <td>0.415865</td>\n",
       "      <td>0.221154</td>\n",
       "      <td>0.668269</td>\n",
       "      <td>1</td>\n",
       "    </tr>\n",
       "    <tr>\n",
       "      <th>20</th>\n",
       "      <td>../data/DATASET/UtilityPole/train/images/Doubl...</td>\n",
       "      <td>0.415865</td>\n",
       "      <td>0.563702</td>\n",
       "      <td>0.139423</td>\n",
       "      <td>0.680288</td>\n",
       "      <td>1</td>\n",
       "    </tr>\n",
       "  </tbody>\n",
       "</table>\n",
       "</div>"
      ],
      "text/plain": [
       "                                            image_name  x_center  y_center  \\\n",
       "152  ../data/DATASET/UtilityPole/train/images/up1_j...  0.614183  0.492788   \n",
       "68   ../data/DATASET/UtilityPole/train/images/stree...  0.432692  0.550481   \n",
       "245  ../data/DATASET/UtilityPole/train/images/Cisco...  0.353365  0.652644   \n",
       "252  ../data/DATASET/UtilityPole/train/images/stree...  0.432692  0.550481   \n",
       "163  ../data/DATASET/UtilityPole/train/images/distr...    0.6875  0.776442   \n",
       "101  ../data/DATASET/UtilityPole/train/images/twup_...  0.823317  0.626202   \n",
       "135  ../data/DATASET/UtilityPole/train/images/_w850...  0.626202  0.502404   \n",
       "146  ../data/DATASET/UtilityPole/train/images/woode...  0.786058  0.569712   \n",
       "164  ../data/DATASET/UtilityPole/train/images/Inter...  0.430288  0.415865   \n",
       "20   ../data/DATASET/UtilityPole/train/images/Doubl...  0.415865  0.563702   \n",
       "\n",
       "            w         h classes  \n",
       "152  0.233173  0.836538       1  \n",
       "68   0.235577  0.894231       1  \n",
       "245  0.192308  0.675481       1  \n",
       "252  0.235577  0.894231       1  \n",
       "163  0.072115  0.259615       1  \n",
       "101  0.112981  0.175481       1  \n",
       "135  0.189904  0.990385       1  \n",
       "146  0.221154  0.735577       1  \n",
       "164  0.221154  0.668269       1  \n",
       "20   0.139423  0.680288       1  "
      ]
     },
     "execution_count": 13,
     "metadata": {},
     "output_type": "execute_result"
    }
   ],
   "source": [
    "dataUnilityPole = pd.DataFrame(columns=dataCarDetection.columns) \n",
    "\n",
    "# Проходимся по всем выборкам\n",
    "for sample in ['train', 'test']:\n",
    "    labels_name = os.listdir(f'{PATH_UTILLUTY_POLE}{sample}/labels') # Список файлов с разметкой \n",
    "    labels = pd.DataFrame(converterYoloToDataFrame(labels_name, f'{PATH_UTILLUTY_POLE}{sample}/labels/', 1)) # Получаем датасет с разметкой\n",
    "    dataUnilityPole = pd.concat([dataUnilityPole, labels.T]) # Соединяем выборки в единый датасет\n",
    "\n",
    "del labels_name, labels # Очищаем память\n",
    "dataUnilityPole.sample(10) # Посмотрим на данные"
   ]
  },
  {
   "cell_type": "markdown",
   "id": "388e44dc-062f-4c42-8591-ccf7777cdcf5",
   "metadata": {},
   "source": [
    "### 2.2.3. Обработка датасета Transmission"
   ]
  },
  {
   "cell_type": "code",
   "execution_count": 14,
   "id": "b9e815eb-6c53-4f0e-9572-7b181ea26847",
   "metadata": {
    "ExecuteTime": {
     "end_time": "2024-04-13T19:07:46.434402Z",
     "start_time": "2024-04-13T19:07:41.392111Z"
    },
    "scrolled": true
   },
   "outputs": [
    {
     "data": {
      "application/vnd.jupyter.widget-view+json": {
       "model_id": "3ab8078d6c694c449b4d223d9357bf67",
       "version_major": 2,
       "version_minor": 0
      },
      "text/plain": [
       "  0%|          | 0/1242 [00:00<?, ?it/s]"
      ]
     },
     "metadata": {},
     "output_type": "display_data"
    },
    {
     "name": "stdout",
     "output_type": "stream",
     "text": [
      "There were 1231 photos, now there are 1231\n"
     ]
    },
    {
     "data": {
      "text/html": [
       "<div>\n",
       "<style scoped>\n",
       "    .dataframe tbody tr th:only-of-type {\n",
       "        vertical-align: middle;\n",
       "    }\n",
       "\n",
       "    .dataframe tbody tr th {\n",
       "        vertical-align: top;\n",
       "    }\n",
       "\n",
       "    .dataframe thead th {\n",
       "        text-align: right;\n",
       "    }\n",
       "</style>\n",
       "<table border=\"1\" class=\"dataframe\">\n",
       "  <thead>\n",
       "    <tr style=\"text-align: right;\">\n",
       "      <th></th>\n",
       "      <th>image_name</th>\n",
       "      <th>x_center</th>\n",
       "      <th>y_center</th>\n",
       "      <th>w</th>\n",
       "      <th>h</th>\n",
       "      <th>classes</th>\n",
       "    </tr>\n",
       "  </thead>\n",
       "  <tbody>\n",
       "    <tr>\n",
       "      <th>7916</th>\n",
       "      <td>../data/DATASET/Transmission/data_original_siz...</td>\n",
       "      <td>0.499512</td>\n",
       "      <td>0.499512</td>\n",
       "      <td>0.999023</td>\n",
       "      <td>0.110026</td>\n",
       "      <td>5</td>\n",
       "    </tr>\n",
       "    <tr>\n",
       "      <th>3012</th>\n",
       "      <td>../data/DATASET/Transmission/data_original_siz...</td>\n",
       "      <td>0.49987</td>\n",
       "      <td>0.49987</td>\n",
       "      <td>0.99974</td>\n",
       "      <td>0.369581</td>\n",
       "      <td>5</td>\n",
       "    </tr>\n",
       "    <tr>\n",
       "      <th>8096</th>\n",
       "      <td>../data/DATASET/Transmission/data_original_siz...</td>\n",
       "      <td>0.702574</td>\n",
       "      <td>0.702574</td>\n",
       "      <td>0.594331</td>\n",
       "      <td>0.198382</td>\n",
       "      <td>5</td>\n",
       "    </tr>\n",
       "    <tr>\n",
       "      <th>6939</th>\n",
       "      <td>../data/DATASET/Transmission/data_original_siz...</td>\n",
       "      <td>0.778496</td>\n",
       "      <td>0.778496</td>\n",
       "      <td>0.13989</td>\n",
       "      <td>0.808998</td>\n",
       "      <td>5</td>\n",
       "    </tr>\n",
       "    <tr>\n",
       "      <th>1861</th>\n",
       "      <td>../data/DATASET/Transmission/data_original_siz...</td>\n",
       "      <td>0.850963</td>\n",
       "      <td>0.850963</td>\n",
       "      <td>0.297059</td>\n",
       "      <td>0.080711</td>\n",
       "      <td>5</td>\n",
       "    </tr>\n",
       "    <tr>\n",
       "      <th>1829</th>\n",
       "      <td>../data/DATASET/Transmission/data_original_siz...</td>\n",
       "      <td>0.972792</td>\n",
       "      <td>0.972792</td>\n",
       "      <td>0.053894</td>\n",
       "      <td>0.721972</td>\n",
       "      <td>5</td>\n",
       "    </tr>\n",
       "    <tr>\n",
       "      <th>10164</th>\n",
       "      <td>../data/DATASET/Transmission/data_original_siz...</td>\n",
       "      <td>0.597131</td>\n",
       "      <td>0.597131</td>\n",
       "      <td>0.556926</td>\n",
       "      <td>0.659925</td>\n",
       "      <td>5</td>\n",
       "    </tr>\n",
       "    <tr>\n",
       "      <th>4330</th>\n",
       "      <td>../data/DATASET/Transmission/data_original_siz...</td>\n",
       "      <td>0.566547</td>\n",
       "      <td>0.566547</td>\n",
       "      <td>0.864953</td>\n",
       "      <td>0.035862</td>\n",
       "      <td>5</td>\n",
       "    </tr>\n",
       "    <tr>\n",
       "      <th>1375</th>\n",
       "      <td>../data/DATASET/Transmission/data_original_siz...</td>\n",
       "      <td>0.499512</td>\n",
       "      <td>0.499512</td>\n",
       "      <td>0.999023</td>\n",
       "      <td>0.644877</td>\n",
       "      <td>5</td>\n",
       "    </tr>\n",
       "    <tr>\n",
       "      <th>4352</th>\n",
       "      <td>../data/DATASET/Transmission/data_original_siz...</td>\n",
       "      <td>0.474419</td>\n",
       "      <td>0.474419</td>\n",
       "      <td>0.183974</td>\n",
       "      <td>0.769349</td>\n",
       "      <td>5</td>\n",
       "    </tr>\n",
       "  </tbody>\n",
       "</table>\n",
       "</div>"
      ],
      "text/plain": [
       "                                              image_name  x_center  y_center  \\\n",
       "7916   ../data/DATASET/Transmission/data_original_siz...  0.499512  0.499512   \n",
       "3012   ../data/DATASET/Transmission/data_original_siz...   0.49987   0.49987   \n",
       "8096   ../data/DATASET/Transmission/data_original_siz...  0.702574  0.702574   \n",
       "6939   ../data/DATASET/Transmission/data_original_siz...  0.778496  0.778496   \n",
       "1861   ../data/DATASET/Transmission/data_original_siz...  0.850963  0.850963   \n",
       "1829   ../data/DATASET/Transmission/data_original_siz...  0.972792  0.972792   \n",
       "10164  ../data/DATASET/Transmission/data_original_siz...  0.597131  0.597131   \n",
       "4330   ../data/DATASET/Transmission/data_original_siz...  0.566547  0.566547   \n",
       "1375   ../data/DATASET/Transmission/data_original_siz...  0.499512  0.499512   \n",
       "4352   ../data/DATASET/Transmission/data_original_siz...  0.474419  0.474419   \n",
       "\n",
       "              w         h classes  \n",
       "7916   0.999023  0.110026       5  \n",
       "3012    0.99974  0.369581       5  \n",
       "8096   0.594331  0.198382       5  \n",
       "6939    0.13989  0.808998       5  \n",
       "1861   0.297059  0.080711       5  \n",
       "1829   0.053894  0.721972       5  \n",
       "10164  0.556926  0.659925       5  \n",
       "4330   0.864953  0.035862       5  \n",
       "1375   0.999023  0.644877       5  \n",
       "4352   0.183974  0.769349       5  "
      ]
     },
     "execution_count": 14,
     "metadata": {},
     "output_type": "execute_result"
    }
   ],
   "source": [
    "list_image = glob.glob(PATH_TRANSMISSION + '*.jpg')\n",
    "labels = {} # Словарь объктов\n",
    "number_item = 0 # Номер записи\n",
    "for path_image in tqdm(list_image):\n",
    "    with open(path_image[:-3] + 'json') as f:\n",
    "        json_file = json.load(f)\n",
    "    xmax = 0\n",
    "    xmin = 2**10\n",
    "    ymax = 0\n",
    "    ymin = 2**10\n",
    "    height = json_file['imageHeight']\n",
    "    width = json_file['imageWidth']\n",
    "    for item in json_file['shapes']:\n",
    "        if item['label'] in ['tower_wooden', 'cable']:\n",
    "            for data in item['points']:\n",
    "                x, y = data\n",
    "                xmax = x if x > xmax else xmax\n",
    "                ymax = y if x > ymax else ymax\n",
    "                xmin = x if y < xmin else xmin\n",
    "                ymin = y if y < ymin else ymin\n",
    "            x_center = (xmin + xmax) / 2 / width\n",
    "            y_center = (ymin + ymax) / 2 / height\n",
    "            w = (xmax - xmin) / width\n",
    "            h = (ymax - ymin) / height\n",
    "            labels[number_item] = {\n",
    "                'image_name': path_image,\n",
    "                'x_center': 0.0 if x_center < 0.0 else 1.0 if x_center > 1.0 else x_center, \n",
    "                'y_center': 0.0 if y_center < 0.0 else 1.0 if y_center > 1.0 else x_center, \n",
    "                'w': 0.0 if w < 0.0 else 1.0 if w > 1.0 else w, \n",
    "                'h': 0.0 if h < 0.0 else 1.0 if h > 1.0 else h,\n",
    "                'classes': 1 if item['label'] == 'tower_wooden' else 5\n",
    "            }\n",
    "            number_item += 1\n",
    "            \n",
    "dataTransmission = pd.DataFrame(labels).T # Переносим все в DataFrame\n",
    "\n",
    "# Очищаем память\n",
    "del list_image, labels, number_item, xmin, xmax, ymin, ymax, h, w, json_file \n",
    "\n",
    "# Уменьшаем размер DataFrame\n",
    "dataTransmission = datasetMinimization(dataTransmission, DATASET_DOWNGRADES[print_variable_name(dataTransmission)])\n",
    "\n",
    "dataTransmission.sample(10) # Посмотрим на данные"
   ]
  },
  {
   "cell_type": "markdown",
   "id": "dd7e9bc4-7c65-469a-b932-cdd7398c18e7",
   "metadata": {},
   "source": [
    "## 2.3. Обработка датасетов с деревьями\n",
    "### 2.3.1. Обработка датасета Tree Object Detecion"
   ]
  },
  {
   "cell_type": "code",
   "execution_count": 15,
   "id": "c8a1e3f5-9138-43fc-aa38-15c3a075dataCarDetection8d",
   "metadata": {
    "ExecuteTime": {
     "end_time": "2024-04-13T19:07:46.512371Z",
     "start_time": "2024-04-13T19:07:46.434905Z"
    },
    "scrolled": true
   },
   "outputs": [
    {
     "data": {
      "application/vnd.jupyter.widget-view+json": {
       "model_id": "c1d3572755c548b7bae33d1befa3ae3f",
       "version_major": 2,
       "version_minor": 0
      },
      "text/plain": [
       "  0%|          | 0/214 [00:00<?, ?it/s]"
      ]
     },
     "metadata": {},
     "output_type": "display_data"
    },
    {
     "data": {
      "text/html": [
       "<div>\n",
       "<style scoped>\n",
       "    .dataframe tbody tr th:only-of-type {\n",
       "        vertical-align: middle;\n",
       "    }\n",
       "\n",
       "    .dataframe tbody tr th {\n",
       "        vertical-align: top;\n",
       "    }\n",
       "\n",
       "    .dataframe thead th {\n",
       "        text-align: right;\n",
       "    }\n",
       "</style>\n",
       "<table border=\"1\" class=\"dataframe\">\n",
       "  <thead>\n",
       "    <tr style=\"text-align: right;\">\n",
       "      <th></th>\n",
       "      <th>image_name</th>\n",
       "      <th>x_center</th>\n",
       "      <th>y_center</th>\n",
       "      <th>w</th>\n",
       "      <th>h</th>\n",
       "      <th>classes</th>\n",
       "    </tr>\n",
       "  </thead>\n",
       "  <tbody>\n",
       "    <tr>\n",
       "      <th>280</th>\n",
       "      <td>../data/DATASET/Tree/train/images/RGXRFD_jpg.r...</td>\n",
       "      <td>0.223438</td>\n",
       "      <td>0.725</td>\n",
       "      <td>0.070312</td>\n",
       "      <td>0.065625</td>\n",
       "      <td>2</td>\n",
       "    </tr>\n",
       "    <tr>\n",
       "      <th>487</th>\n",
       "      <td>../data/DATASET/Tree/train/images/josh-miller-...</td>\n",
       "      <td>0.530469</td>\n",
       "      <td>0.574219</td>\n",
       "      <td>0.742188</td>\n",
       "      <td>0.851562</td>\n",
       "      <td>2</td>\n",
       "    </tr>\n",
       "    <tr>\n",
       "      <th>234</th>\n",
       "      <td>../data/DATASET/Tree/train/images/6214799472_0...</td>\n",
       "      <td>0.970313</td>\n",
       "      <td>0.707031</td>\n",
       "      <td>0.059375</td>\n",
       "      <td>0.214062</td>\n",
       "      <td>2</td>\n",
       "    </tr>\n",
       "    <tr>\n",
       "      <th>46</th>\n",
       "      <td>../data/DATASET/Tree/train/images/sacramento_s...</td>\n",
       "      <td>0.236719</td>\n",
       "      <td>0.479687</td>\n",
       "      <td>0.248438</td>\n",
       "      <td>0.40625</td>\n",
       "      <td>2</td>\n",
       "    </tr>\n",
       "    <tr>\n",
       "      <th>511</th>\n",
       "      <td>../data/DATASET/Tree/train/images/3888_jpg.rf....</td>\n",
       "      <td>0.884375</td>\n",
       "      <td>0.815625</td>\n",
       "      <td>0.035937</td>\n",
       "      <td>0.096875</td>\n",
       "      <td>2</td>\n",
       "    </tr>\n",
       "    <tr>\n",
       "      <th>306</th>\n",
       "      <td>../data/DATASET/Tree/train/images/images-58-_j...</td>\n",
       "      <td>0.648438</td>\n",
       "      <td>0.521875</td>\n",
       "      <td>0.159375</td>\n",
       "      <td>0.628125</td>\n",
       "      <td>2</td>\n",
       "    </tr>\n",
       "    <tr>\n",
       "      <th>215</th>\n",
       "      <td>../data/DATASET/Tree/train/images/TCC-2021_jpg...</td>\n",
       "      <td>0.400781</td>\n",
       "      <td>0.545312</td>\n",
       "      <td>0.742188</td>\n",
       "      <td>0.867188</td>\n",
       "      <td>2</td>\n",
       "    </tr>\n",
       "    <tr>\n",
       "      <th>103</th>\n",
       "      <td>../data/DATASET/Tree/train/images/istockphoto-...</td>\n",
       "      <td>0.5</td>\n",
       "      <td>0.5</td>\n",
       "      <td>1.0</td>\n",
       "      <td>1.0</td>\n",
       "      <td>2</td>\n",
       "    </tr>\n",
       "    <tr>\n",
       "      <th>362</th>\n",
       "      <td>../data/DATASET/Tree/train/images/landscape-55...</td>\n",
       "      <td>0.43125</td>\n",
       "      <td>0.470313</td>\n",
       "      <td>0.860938</td>\n",
       "      <td>0.940625</td>\n",
       "      <td>2</td>\n",
       "    </tr>\n",
       "    <tr>\n",
       "      <th>13</th>\n",
       "      <td>../data/DATASET/Tree/train/images/big-tree-pix...</td>\n",
       "      <td>0.782031</td>\n",
       "      <td>0.889844</td>\n",
       "      <td>0.042188</td>\n",
       "      <td>0.173437</td>\n",
       "      <td>2</td>\n",
       "    </tr>\n",
       "  </tbody>\n",
       "</table>\n",
       "</div>"
      ],
      "text/plain": [
       "                                            image_name  x_center  y_center  \\\n",
       "280  ../data/DATASET/Tree/train/images/RGXRFD_jpg.r...  0.223438     0.725   \n",
       "487  ../data/DATASET/Tree/train/images/josh-miller-...  0.530469  0.574219   \n",
       "234  ../data/DATASET/Tree/train/images/6214799472_0...  0.970313  0.707031   \n",
       "46   ../data/DATASET/Tree/train/images/sacramento_s...  0.236719  0.479687   \n",
       "511  ../data/DATASET/Tree/train/images/3888_jpg.rf....  0.884375  0.815625   \n",
       "306  ../data/DATASET/Tree/train/images/images-58-_j...  0.648438  0.521875   \n",
       "215  ../data/DATASET/Tree/train/images/TCC-2021_jpg...  0.400781  0.545312   \n",
       "103  ../data/DATASET/Tree/train/images/istockphoto-...       0.5       0.5   \n",
       "362  ../data/DATASET/Tree/train/images/landscape-55...   0.43125  0.470313   \n",
       "13   ../data/DATASET/Tree/train/images/big-tree-pix...  0.782031  0.889844   \n",
       "\n",
       "            w         h classes  \n",
       "280  0.070312  0.065625       2  \n",
       "487  0.742188  0.851562       2  \n",
       "234  0.059375  0.214062       2  \n",
       "46   0.248438   0.40625       2  \n",
       "511  0.035937  0.096875       2  \n",
       "306  0.159375  0.628125       2  \n",
       "215  0.742188  0.867188       2  \n",
       "103       1.0       1.0       2  \n",
       "362  0.860938  0.940625       2  \n",
       "13   0.042188  0.173437       2  "
      ]
     },
     "execution_count": 15,
     "metadata": {},
     "output_type": "execute_result"
    }
   ],
   "source": [
    "dataTree = pd.DataFrame(columns=dataCarDetection.columns)\n",
    "labels_name = os.listdir(f'{PATH_TREE}train/labels/') # Список файлов с разметкой\n",
    "labels = pd.DataFrame(converterYoloToDataFrame(labels_name, f'{PATH_TREE}train/labels/', 2)) # Получаем датасет с разметкой\n",
    "dataTree = pd.concat([dataTree, labels.T]) # Соединяем выборки в единый датасет\n",
    "    \n",
    "del labels_name, labels # Очищаем память\n",
    "\n",
    "dataTree.sample(10) # Посмотрим на данные"
   ]
  },
  {
   "cell_type": "markdown",
   "id": "6a1634ea-6f24-4a41-8757-3faee1b73545",
   "metadata": {},
   "source": [
    "### 2.3.2. Обработка датасета TreeDetection "
   ]
  },
  {
   "cell_type": "code",
   "execution_count": 16,
   "id": "c994f526-0595-499e-8468-a8fff2b81cfa",
   "metadata": {
    "ExecuteTime": {
     "end_time": "2024-04-13T19:07:46.991360Z",
     "start_time": "2024-04-13T19:07:46.513494Z"
    }
   },
   "outputs": [
    {
     "data": {
      "application/vnd.jupyter.widget-view+json": {
       "model_id": "6242a64970c7418b8644839547db08ef",
       "version_major": 2,
       "version_minor": 0
      },
      "text/plain": [
       "  0%|          | 0/1803 [00:00<?, ?it/s]"
      ]
     },
     "metadata": {},
     "output_type": "display_data"
    },
    {
     "data": {
      "application/vnd.jupyter.widget-view+json": {
       "model_id": "7f3992f2f537491e967d6723a02f525b",
       "version_major": 2,
       "version_minor": 0
      },
      "text/plain": [
       "  0%|          | 0/174 [00:00<?, ?it/s]"
      ]
     },
     "metadata": {},
     "output_type": "display_data"
    },
    {
     "data": {
      "application/vnd.jupyter.widget-view+json": {
       "model_id": "c2df5f10c9684eeebde04a2e4e2eb80d",
       "version_major": 2,
       "version_minor": 0
      },
      "text/plain": [
       "  0%|          | 0/86 [00:00<?, ?it/s]"
      ]
     },
     "metadata": {},
     "output_type": "display_data"
    },
    {
     "name": "stdout",
     "output_type": "stream",
     "text": [
      "There were 2060 photos, now there are 1030\n"
     ]
    },
    {
     "data": {
      "text/html": [
       "<div>\n",
       "<style scoped>\n",
       "    .dataframe tbody tr th:only-of-type {\n",
       "        vertical-align: middle;\n",
       "    }\n",
       "\n",
       "    .dataframe tbody tr th {\n",
       "        vertical-align: top;\n",
       "    }\n",
       "\n",
       "    .dataframe thead th {\n",
       "        text-align: right;\n",
       "    }\n",
       "</style>\n",
       "<table border=\"1\" class=\"dataframe\">\n",
       "  <thead>\n",
       "    <tr style=\"text-align: right;\">\n",
       "      <th></th>\n",
       "      <th>image_name</th>\n",
       "      <th>x_center</th>\n",
       "      <th>y_center</th>\n",
       "      <th>w</th>\n",
       "      <th>h</th>\n",
       "      <th>classes</th>\n",
       "    </tr>\n",
       "  </thead>\n",
       "  <tbody>\n",
       "    <tr>\n",
       "      <th>2498</th>\n",
       "      <td>../data/DATASET/TreeDetection/train/images/230...</td>\n",
       "      <td>0.438281</td>\n",
       "      <td>0.68125</td>\n",
       "      <td>0.11875</td>\n",
       "      <td>0.305469</td>\n",
       "      <td>2</td>\n",
       "    </tr>\n",
       "    <tr>\n",
       "      <th>211</th>\n",
       "      <td>../data/DATASET/TreeDetection/valid/images/9f8...</td>\n",
       "      <td>0.38125</td>\n",
       "      <td>0.500781</td>\n",
       "      <td>0.748437</td>\n",
       "      <td>0.989844</td>\n",
       "      <td>2</td>\n",
       "    </tr>\n",
       "    <tr>\n",
       "      <th>2837</th>\n",
       "      <td>../data/DATASET/TreeDetection/train/images/021...</td>\n",
       "      <td>0.423438</td>\n",
       "      <td>0.5375</td>\n",
       "      <td>0.353125</td>\n",
       "      <td>0.2125</td>\n",
       "      <td>2</td>\n",
       "    </tr>\n",
       "    <tr>\n",
       "      <th>2812</th>\n",
       "      <td>../data/DATASET/TreeDetection/train/images/aac...</td>\n",
       "      <td>0.471875</td>\n",
       "      <td>0.683594</td>\n",
       "      <td>0.24375</td>\n",
       "      <td>0.6125</td>\n",
       "      <td>2</td>\n",
       "    </tr>\n",
       "    <tr>\n",
       "      <th>823</th>\n",
       "      <td>../data/DATASET/TreeDetection/train/images/211...</td>\n",
       "      <td>0.267188</td>\n",
       "      <td>0.560156</td>\n",
       "      <td>0.43125</td>\n",
       "      <td>0.728125</td>\n",
       "      <td>2</td>\n",
       "    </tr>\n",
       "    <tr>\n",
       "      <th>108</th>\n",
       "      <td>../data/DATASET/TreeDetection/test/images/480f...</td>\n",
       "      <td>0.399219</td>\n",
       "      <td>0.510156</td>\n",
       "      <td>0.25</td>\n",
       "      <td>0.489063</td>\n",
       "      <td>2</td>\n",
       "    </tr>\n",
       "    <tr>\n",
       "      <th>3175</th>\n",
       "      <td>../data/DATASET/TreeDetection/train/images/a37...</td>\n",
       "      <td>0.474219</td>\n",
       "      <td>0.482812</td>\n",
       "      <td>0.850781</td>\n",
       "      <td>0.825</td>\n",
       "      <td>2</td>\n",
       "    </tr>\n",
       "    <tr>\n",
       "      <th>3067</th>\n",
       "      <td>../data/DATASET/TreeDetection/train/images/210...</td>\n",
       "      <td>0.453906</td>\n",
       "      <td>0.875781</td>\n",
       "      <td>0.548438</td>\n",
       "      <td>0.220312</td>\n",
       "      <td>2</td>\n",
       "    </tr>\n",
       "    <tr>\n",
       "      <th>1827</th>\n",
       "      <td>../data/DATASET/TreeDetection/train/images/211...</td>\n",
       "      <td>0.371094</td>\n",
       "      <td>0.36875</td>\n",
       "      <td>0.085938</td>\n",
       "      <td>0.175</td>\n",
       "      <td>2</td>\n",
       "    </tr>\n",
       "    <tr>\n",
       "      <th>202</th>\n",
       "      <td>../data/DATASET/TreeDetection/train/images/86e...</td>\n",
       "      <td>0.54375</td>\n",
       "      <td>0.502344</td>\n",
       "      <td>0.90625</td>\n",
       "      <td>0.995313</td>\n",
       "      <td>2</td>\n",
       "    </tr>\n",
       "  </tbody>\n",
       "</table>\n",
       "</div>"
      ],
      "text/plain": [
       "                                             image_name  x_center  y_center  \\\n",
       "2498  ../data/DATASET/TreeDetection/train/images/230...  0.438281   0.68125   \n",
       "211   ../data/DATASET/TreeDetection/valid/images/9f8...   0.38125  0.500781   \n",
       "2837  ../data/DATASET/TreeDetection/train/images/021...  0.423438    0.5375   \n",
       "2812  ../data/DATASET/TreeDetection/train/images/aac...  0.471875  0.683594   \n",
       "823   ../data/DATASET/TreeDetection/train/images/211...  0.267188  0.560156   \n",
       "108   ../data/DATASET/TreeDetection/test/images/480f...  0.399219  0.510156   \n",
       "3175  ../data/DATASET/TreeDetection/train/images/a37...  0.474219  0.482812   \n",
       "3067  ../data/DATASET/TreeDetection/train/images/210...  0.453906  0.875781   \n",
       "1827  ../data/DATASET/TreeDetection/train/images/211...  0.371094   0.36875   \n",
       "202   ../data/DATASET/TreeDetection/train/images/86e...   0.54375  0.502344   \n",
       "\n",
       "             w         h classes  \n",
       "2498   0.11875  0.305469       2  \n",
       "211   0.748437  0.989844       2  \n",
       "2837  0.353125    0.2125       2  \n",
       "2812   0.24375    0.6125       2  \n",
       "823    0.43125  0.728125       2  \n",
       "108       0.25  0.489063       2  \n",
       "3175  0.850781     0.825       2  \n",
       "3067  0.548438  0.220312       2  \n",
       "1827  0.085938     0.175       2  \n",
       "202    0.90625  0.995313       2  "
      ]
     },
     "execution_count": 16,
     "metadata": {},
     "output_type": "execute_result"
    }
   ],
   "source": [
    "dataTreeDetection = pd.DataFrame(columns=dataCarDetection.columns) \n",
    "\n",
    "# Проходимся по всем выборкам\n",
    "for sample in ['train', 'valid', 'test']:\n",
    "    labels_name = os.listdir(f'{PATH_TREE_DETECTION}{sample}/labels') # Список файлов с разметкой \n",
    "    labels = pd.DataFrame(converterYoloToDataFrame(labels_name, f'{PATH_TREE_DETECTION}{sample}/labels/', 2)) # Получаем датасет с разметкой\n",
    "    dataTreeDetection = pd.concat([dataTreeDetection, labels.T]) # Соединяем выборки в единый датасет\n",
    "\n",
    "del labels_name, labels # Очищаем память\n",
    "\n",
    "# Уменьшаем размер DataFrame\n",
    "dataTreeDetection = datasetMinimization(dataTreeDetection, DATASET_DOWNGRADES[print_variable_name(dataTreeDetection)])\n",
    "\n",
    "dataTreeDetection.sample(10) # Посмотрим на данные"
   ]
  },
  {
   "cell_type": "markdown",
   "id": "151d264b-0944-44d0-a03e-4f6e1de2d1dataCarDetection",
   "metadata": {},
   "source": [
    "### 2.3.3. Обработка датасета Tree 100"
   ]
  },
  {
   "cell_type": "code",
   "execution_count": 17,
   "id": "04849191-125e-420b-9b96-fe3449a5e0bb",
   "metadata": {
    "ExecuteTime": {
     "end_time": "2024-04-13T19:07:47.054568Z",
     "start_time": "2024-04-13T19:07:46.992361Z"
    }
   },
   "outputs": [
    {
     "data": {
      "application/vnd.jupyter.widget-view+json": {
       "model_id": "c2257746106142ae81b17e9f5f9a4b5a",
       "version_major": 2,
       "version_minor": 0
      },
      "text/plain": [
       "  0%|          | 0/82 [00:00<?, ?it/s]"
      ]
     },
     "metadata": {},
     "output_type": "display_data"
    },
    {
     "data": {
      "application/vnd.jupyter.widget-view+json": {
       "model_id": "cdd60824b9dd4712a3459711314140ef",
       "version_major": 2,
       "version_minor": 0
      },
      "text/plain": [
       "  0%|          | 0/23 [00:00<?, ?it/s]"
      ]
     },
     "metadata": {},
     "output_type": "display_data"
    },
    {
     "data": {
      "application/vnd.jupyter.widget-view+json": {
       "model_id": "c323dc09911a4fe89ce5246d8e4ee6cf",
       "version_major": 2,
       "version_minor": 0
      },
      "text/plain": [
       "  0%|          | 0/12 [00:00<?, ?it/s]"
      ]
     },
     "metadata": {},
     "output_type": "display_data"
    },
    {
     "data": {
      "text/html": [
       "<div>\n",
       "<style scoped>\n",
       "    .dataframe tbody tr th:only-of-type {\n",
       "        vertical-align: middle;\n",
       "    }\n",
       "\n",
       "    .dataframe tbody tr th {\n",
       "        vertical-align: top;\n",
       "    }\n",
       "\n",
       "    .dataframe thead th {\n",
       "        text-align: right;\n",
       "    }\n",
       "</style>\n",
       "<table border=\"1\" class=\"dataframe\">\n",
       "  <thead>\n",
       "    <tr style=\"text-align: right;\">\n",
       "      <th></th>\n",
       "      <th>image_name</th>\n",
       "      <th>x_center</th>\n",
       "      <th>y_center</th>\n",
       "      <th>w</th>\n",
       "      <th>h</th>\n",
       "      <th>classes</th>\n",
       "    </tr>\n",
       "  </thead>\n",
       "  <tbody>\n",
       "    <tr>\n",
       "      <th>153</th>\n",
       "      <td>../data/DATASET/Trees100/train/images/arvore93...</td>\n",
       "      <td>0.509375</td>\n",
       "      <td>0.400781</td>\n",
       "      <td>0.772656</td>\n",
       "      <td>0.578125</td>\n",
       "      <td>2</td>\n",
       "    </tr>\n",
       "    <tr>\n",
       "      <th>145</th>\n",
       "      <td>../data/DATASET/Trees100/train/images/arvore92...</td>\n",
       "      <td>0.570312</td>\n",
       "      <td>0.664062</td>\n",
       "      <td>0.051562</td>\n",
       "      <td>0.065625</td>\n",
       "      <td>2</td>\n",
       "    </tr>\n",
       "    <tr>\n",
       "      <th>5</th>\n",
       "      <td>../data/DATASET/Trees100/train/images/arvore96...</td>\n",
       "      <td>0.4625</td>\n",
       "      <td>0.580469</td>\n",
       "      <td>0.058594</td>\n",
       "      <td>0.06875</td>\n",
       "      <td>2</td>\n",
       "    </tr>\n",
       "    <tr>\n",
       "      <th>104</th>\n",
       "      <td>../data/DATASET/Trees100/train/images/arvore30...</td>\n",
       "      <td>0.502344</td>\n",
       "      <td>0.488281</td>\n",
       "      <td>0.75625</td>\n",
       "      <td>0.821094</td>\n",
       "      <td>2</td>\n",
       "    </tr>\n",
       "    <tr>\n",
       "      <th>51</th>\n",
       "      <td>../data/DATASET/Trees100/train/images/arvore94...</td>\n",
       "      <td>0.489844</td>\n",
       "      <td>0.451562</td>\n",
       "      <td>0.75</td>\n",
       "      <td>0.798438</td>\n",
       "      <td>2</td>\n",
       "    </tr>\n",
       "    <tr>\n",
       "      <th>110</th>\n",
       "      <td>../data/DATASET/Trees100/train/images/arvore40...</td>\n",
       "      <td>0.532813</td>\n",
       "      <td>0.664062</td>\n",
       "      <td>0.040625</td>\n",
       "      <td>0.050781</td>\n",
       "      <td>2</td>\n",
       "    </tr>\n",
       "    <tr>\n",
       "      <th>19</th>\n",
       "      <td>../data/DATASET/Trees100/valid/images/arvore27...</td>\n",
       "      <td>0.516406</td>\n",
       "      <td>0.488281</td>\n",
       "      <td>0.626563</td>\n",
       "      <td>0.700781</td>\n",
       "      <td>2</td>\n",
       "    </tr>\n",
       "    <tr>\n",
       "      <th>37</th>\n",
       "      <td>../data/DATASET/Trees100/train/images/arvore11...</td>\n",
       "      <td>0.464844</td>\n",
       "      <td>0.786719</td>\n",
       "      <td>0.0875</td>\n",
       "      <td>0.308594</td>\n",
       "      <td>2</td>\n",
       "    </tr>\n",
       "    <tr>\n",
       "      <th>125</th>\n",
       "      <td>../data/DATASET/Trees100/train/images/arvore97...</td>\n",
       "      <td>0.350781</td>\n",
       "      <td>0.808594</td>\n",
       "      <td>0.138281</td>\n",
       "      <td>0.382031</td>\n",
       "      <td>2</td>\n",
       "    </tr>\n",
       "    <tr>\n",
       "      <th>140</th>\n",
       "      <td>../data/DATASET/Trees100/train/images/arvore73...</td>\n",
       "      <td>0.342187</td>\n",
       "      <td>0.685937</td>\n",
       "      <td>0.123438</td>\n",
       "      <td>0.334375</td>\n",
       "      <td>2</td>\n",
       "    </tr>\n",
       "  </tbody>\n",
       "</table>\n",
       "</div>"
      ],
      "text/plain": [
       "                                            image_name  x_center  y_center  \\\n",
       "153  ../data/DATASET/Trees100/train/images/arvore93...  0.509375  0.400781   \n",
       "145  ../data/DATASET/Trees100/train/images/arvore92...  0.570312  0.664062   \n",
       "5    ../data/DATASET/Trees100/train/images/arvore96...    0.4625  0.580469   \n",
       "104  ../data/DATASET/Trees100/train/images/arvore30...  0.502344  0.488281   \n",
       "51   ../data/DATASET/Trees100/train/images/arvore94...  0.489844  0.451562   \n",
       "110  ../data/DATASET/Trees100/train/images/arvore40...  0.532813  0.664062   \n",
       "19   ../data/DATASET/Trees100/valid/images/arvore27...  0.516406  0.488281   \n",
       "37   ../data/DATASET/Trees100/train/images/arvore11...  0.464844  0.786719   \n",
       "125  ../data/DATASET/Trees100/train/images/arvore97...  0.350781  0.808594   \n",
       "140  ../data/DATASET/Trees100/train/images/arvore73...  0.342187  0.685937   \n",
       "\n",
       "            w         h classes  \n",
       "153  0.772656  0.578125       2  \n",
       "145  0.051562  0.065625       2  \n",
       "5    0.058594   0.06875       2  \n",
       "104   0.75625  0.821094       2  \n",
       "51       0.75  0.798438       2  \n",
       "110  0.040625  0.050781       2  \n",
       "19   0.626563  0.700781       2  \n",
       "37     0.0875  0.308594       2  \n",
       "125  0.138281  0.382031       2  \n",
       "140  0.123438  0.334375       2  "
      ]
     },
     "execution_count": 17,
     "metadata": {},
     "output_type": "execute_result"
    }
   ],
   "source": [
    "dataTree100 = pd.DataFrame(columns=dataCarDetection.columns) \n",
    "\n",
    "# Проходимся по всем выборкам\n",
    "for sample in ['train', 'valid', 'test']:\n",
    "    labels_name = os.listdir(f'{PATH_TREE_100}{sample}/labels') # Список файлов с разметкой \n",
    "    labels = pd.DataFrame(converterYoloToDataFrame(labels_name, f'{PATH_TREE_100}{sample}/labels/', 2)) # Получаем датасет с разметкой\n",
    "    dataTree100 = pd.concat([dataTree100, labels.T]) # Соединяем выборки в единый датасет\n",
    "\n",
    "del labels_name, labels # Очищаем память\n",
    "\n",
    "dataTree100.sample(10) # Посмотрим на данные"
   ]
  },
  {
   "cell_type": "markdown",
   "id": "b6add273-e6c9-4e6a-b8d5-ed19a1bd4200",
   "metadata": {},
   "source": [
    "## 2.4. Обработка датасета с птицами\n",
    "### 2.4.1. Обработка датасета с Bird Annotation"
   ]
  },
  {
   "cell_type": "code",
   "execution_count": 18,
   "id": "3043dee3-a180-4b5f-8eb2-17226e3305e3",
   "metadata": {
    "ExecuteTime": {
     "end_time": "2024-04-13T19:07:47.881449Z",
     "start_time": "2024-04-13T19:07:47.055670Z"
    },
    "scrolled": true
   },
   "outputs": [
    {
     "data": {
      "application/vnd.jupyter.widget-view+json": {
       "model_id": "993a22e544694772aca6eccc4cf8320b",
       "version_major": 2,
       "version_minor": 0
      },
      "text/plain": [
       "  0%|          | 0/1362 [00:00<?, ?it/s]"
      ]
     },
     "metadata": {},
     "output_type": "display_data"
    },
    {
     "data": {
      "application/vnd.jupyter.widget-view+json": {
       "model_id": "5fdf3dfb3edc4f1d8926ae5ef2d7c06a",
       "version_major": 2,
       "version_minor": 0
      },
      "text/plain": [
       "  0%|          | 0/130 [00:00<?, ?it/s]"
      ]
     },
     "metadata": {},
     "output_type": "display_data"
    },
    {
     "data": {
      "application/vnd.jupyter.widget-view+json": {
       "model_id": "a8354a31e57245f5bdb4c5cdeb124caf",
       "version_major": 2,
       "version_minor": 0
      },
      "text/plain": [
       "  0%|          | 0/65 [00:00<?, ?it/s]"
      ]
     },
     "metadata": {},
     "output_type": "display_data"
    },
    {
     "name": "stdout",
     "output_type": "stream",
     "text": [
      "There were 1557 photos, now there are 389\n"
     ]
    },
    {
     "data": {
      "text/html": [
       "<div>\n",
       "<style scoped>\n",
       "    .dataframe tbody tr th:only-of-type {\n",
       "        vertical-align: middle;\n",
       "    }\n",
       "\n",
       "    .dataframe tbody tr th {\n",
       "        vertical-align: top;\n",
       "    }\n",
       "\n",
       "    .dataframe thead th {\n",
       "        text-align: right;\n",
       "    }\n",
       "</style>\n",
       "<table border=\"1\" class=\"dataframe\">\n",
       "  <thead>\n",
       "    <tr style=\"text-align: right;\">\n",
       "      <th></th>\n",
       "      <th>image_name</th>\n",
       "      <th>x_center</th>\n",
       "      <th>y_center</th>\n",
       "      <th>w</th>\n",
       "      <th>h</th>\n",
       "      <th>classes</th>\n",
       "    </tr>\n",
       "  </thead>\n",
       "  <tbody>\n",
       "    <tr>\n",
       "      <th>15685</th>\n",
       "      <td>../data/DATASET/BirdAnnotation/train/images/vo...</td>\n",
       "      <td>0.891406</td>\n",
       "      <td>0.371875</td>\n",
       "      <td>0.035937</td>\n",
       "      <td>0.040625</td>\n",
       "      <td>3</td>\n",
       "    </tr>\n",
       "    <tr>\n",
       "      <th>4934</th>\n",
       "      <td>../data/DATASET/BirdAnnotation/train/images/vo...</td>\n",
       "      <td>0.5875</td>\n",
       "      <td>0.5</td>\n",
       "      <td>0.825</td>\n",
       "      <td>1.0</td>\n",
       "      <td>3</td>\n",
       "    </tr>\n",
       "    <tr>\n",
       "      <th>9620</th>\n",
       "      <td>../data/DATASET/BirdAnnotation/train/images/vo...</td>\n",
       "      <td>0.572656</td>\n",
       "      <td>0.629687</td>\n",
       "      <td>0.045312</td>\n",
       "      <td>0.04375</td>\n",
       "      <td>3</td>\n",
       "    </tr>\n",
       "    <tr>\n",
       "      <th>10730</th>\n",
       "      <td>../data/DATASET/BirdAnnotation/train/images/vo...</td>\n",
       "      <td>0.586719</td>\n",
       "      <td>0.660937</td>\n",
       "      <td>0.057813</td>\n",
       "      <td>0.039062</td>\n",
       "      <td>3</td>\n",
       "    </tr>\n",
       "    <tr>\n",
       "      <th>16546</th>\n",
       "      <td>../data/DATASET/BirdAnnotation/train/images/e1...</td>\n",
       "      <td>0.676562</td>\n",
       "      <td>0.723437</td>\n",
       "      <td>0.070312</td>\n",
       "      <td>0.090625</td>\n",
       "      <td>3</td>\n",
       "    </tr>\n",
       "    <tr>\n",
       "      <th>8131</th>\n",
       "      <td>../data/DATASET/BirdAnnotation/train/images/e2...</td>\n",
       "      <td>0.921094</td>\n",
       "      <td>0.44375</td>\n",
       "      <td>0.01875</td>\n",
       "      <td>0.014063</td>\n",
       "      <td>3</td>\n",
       "    </tr>\n",
       "    <tr>\n",
       "      <th>12180</th>\n",
       "      <td>../data/DATASET/BirdAnnotation/train/images/de...</td>\n",
       "      <td>0.567187</td>\n",
       "      <td>0.489063</td>\n",
       "      <td>0.065625</td>\n",
       "      <td>0.076563</td>\n",
       "      <td>3</td>\n",
       "    </tr>\n",
       "    <tr>\n",
       "      <th>544</th>\n",
       "      <td>../data/DATASET/BirdAnnotation/train/images/e1...</td>\n",
       "      <td>0.64375</td>\n",
       "      <td>0.689844</td>\n",
       "      <td>0.051562</td>\n",
       "      <td>0.064062</td>\n",
       "      <td>3</td>\n",
       "    </tr>\n",
       "    <tr>\n",
       "      <th>18448</th>\n",
       "      <td>../data/DATASET/BirdAnnotation/train/images/pa...</td>\n",
       "      <td>0.054688</td>\n",
       "      <td>0.449219</td>\n",
       "      <td>0.015625</td>\n",
       "      <td>0.023438</td>\n",
       "      <td>3</td>\n",
       "    </tr>\n",
       "    <tr>\n",
       "      <th>2704</th>\n",
       "      <td>../data/DATASET/BirdAnnotation/train/images/vo...</td>\n",
       "      <td>0.259375</td>\n",
       "      <td>0.626563</td>\n",
       "      <td>0.070312</td>\n",
       "      <td>0.048438</td>\n",
       "      <td>3</td>\n",
       "    </tr>\n",
       "  </tbody>\n",
       "</table>\n",
       "</div>"
      ],
      "text/plain": [
       "                                              image_name  x_center  y_center  \\\n",
       "15685  ../data/DATASET/BirdAnnotation/train/images/vo...  0.891406  0.371875   \n",
       "4934   ../data/DATASET/BirdAnnotation/train/images/vo...    0.5875       0.5   \n",
       "9620   ../data/DATASET/BirdAnnotation/train/images/vo...  0.572656  0.629687   \n",
       "10730  ../data/DATASET/BirdAnnotation/train/images/vo...  0.586719  0.660937   \n",
       "16546  ../data/DATASET/BirdAnnotation/train/images/e1...  0.676562  0.723437   \n",
       "8131   ../data/DATASET/BirdAnnotation/train/images/e2...  0.921094   0.44375   \n",
       "12180  ../data/DATASET/BirdAnnotation/train/images/de...  0.567187  0.489063   \n",
       "544    ../data/DATASET/BirdAnnotation/train/images/e1...   0.64375  0.689844   \n",
       "18448  ../data/DATASET/BirdAnnotation/train/images/pa...  0.054688  0.449219   \n",
       "2704   ../data/DATASET/BirdAnnotation/train/images/vo...  0.259375  0.626563   \n",
       "\n",
       "              w         h classes  \n",
       "15685  0.035937  0.040625       3  \n",
       "4934      0.825       1.0       3  \n",
       "9620   0.045312   0.04375       3  \n",
       "10730  0.057813  0.039062       3  \n",
       "16546  0.070312  0.090625       3  \n",
       "8131    0.01875  0.014063       3  \n",
       "12180  0.065625  0.076563       3  \n",
       "544    0.051562  0.064062       3  \n",
       "18448  0.015625  0.023438       3  \n",
       "2704   0.070312  0.048438       3  "
      ]
     },
     "execution_count": 18,
     "metadata": {},
     "output_type": "execute_result"
    }
   ],
   "source": [
    "dataBirdAnnotation = pd.DataFrame(columns=dataCarDetection.columns) \n",
    "\n",
    "# Проходимся по всем выборкам\n",
    "for sample in ['train', 'valid', 'test']:\n",
    "    labels_name = os.listdir(f'{PATH_BIRD_ANNOTATION}{sample}/labels') # Список файлов с разметкой \n",
    "    labels = pd.DataFrame(converterYoloToDataFrame(labels_name, f'{PATH_BIRD_ANNOTATION}{sample}/labels/', 3)) # Получаем датасет с разметкой\n",
    "    dataBirdAnnotation  = pd.concat([dataBirdAnnotation, labels.T]) # Соединяем выборки в единый датасет\n",
    "\n",
    "del labels_name, labels # Очищаем память\n",
    "\n",
    "# Уменьшаем размер DataFrame\n",
    "dataBirdAnnotation = datasetMinimization(dataBirdAnnotation, DATASET_DOWNGRADES[print_variable_name(dataBirdAnnotation)])\n",
    "\n",
    "dataBirdAnnotation.sample(10) # Посмотрим на данные"
   ]
  },
  {
   "cell_type": "markdown",
   "id": "a3d74de9-a440-4d3a-98b8-ca0056803b2e",
   "metadata": {},
   "source": [
    "### 2.4.2. Обработка датасета с Birds Detection"
   ]
  },
  {
   "cell_type": "code",
   "execution_count": 19,
   "id": "1268d35a-7350-46b6-9001-e613e8099423",
   "metadata": {
    "ExecuteTime": {
     "end_time": "2024-04-13T19:07:48.193998Z",
     "start_time": "2024-04-13T19:07:47.882449Z"
    }
   },
   "outputs": [
    {
     "data": {
      "application/vnd.jupyter.widget-view+json": {
       "model_id": "f556b8b4bb7b48ff90617b7776fd60b3",
       "version_major": 2,
       "version_minor": 0
      },
      "text/plain": [
       "  0%|          | 0/594 [00:00<?, ?it/s]"
      ]
     },
     "metadata": {},
     "output_type": "display_data"
    },
    {
     "data": {
      "application/vnd.jupyter.widget-view+json": {
       "model_id": "cbf3f2b484144706b711359ee8c504bf",
       "version_major": 2,
       "version_minor": 0
      },
      "text/plain": [
       "  0%|          | 0/170 [00:00<?, ?it/s]"
      ]
     },
     "metadata": {},
     "output_type": "display_data"
    },
    {
     "data": {
      "application/vnd.jupyter.widget-view+json": {
       "model_id": "48fc2d4bfb084203ba86c2e081a39587",
       "version_major": 2,
       "version_minor": 0
      },
      "text/plain": [
       "  0%|          | 0/85 [00:00<?, ?it/s]"
      ]
     },
     "metadata": {},
     "output_type": "display_data"
    },
    {
     "name": "stdout",
     "output_type": "stream",
     "text": [
      "There were 849 photos, now there are 212\n"
     ]
    },
    {
     "data": {
      "text/html": [
       "<div>\n",
       "<style scoped>\n",
       "    .dataframe tbody tr th:only-of-type {\n",
       "        vertical-align: middle;\n",
       "    }\n",
       "\n",
       "    .dataframe tbody tr th {\n",
       "        vertical-align: top;\n",
       "    }\n",
       "\n",
       "    .dataframe thead th {\n",
       "        text-align: right;\n",
       "    }\n",
       "</style>\n",
       "<table border=\"1\" class=\"dataframe\">\n",
       "  <thead>\n",
       "    <tr style=\"text-align: right;\">\n",
       "      <th></th>\n",
       "      <th>image_name</th>\n",
       "      <th>x_center</th>\n",
       "      <th>y_center</th>\n",
       "      <th>w</th>\n",
       "      <th>h</th>\n",
       "      <th>classes</th>\n",
       "    </tr>\n",
       "  </thead>\n",
       "  <tbody>\n",
       "    <tr>\n",
       "      <th>411</th>\n",
       "      <td>../data/DATASET/BirdsDetector/train/images/des...</td>\n",
       "      <td>0.826562</td>\n",
       "      <td>0.595313</td>\n",
       "      <td>0.089063</td>\n",
       "      <td>0.0625</td>\n",
       "      <td>3</td>\n",
       "    </tr>\n",
       "    <tr>\n",
       "      <th>2769</th>\n",
       "      <td>../data/DATASET/BirdsDetector/train/images/des...</td>\n",
       "      <td>0.35625</td>\n",
       "      <td>0.755469</td>\n",
       "      <td>0.051562</td>\n",
       "      <td>0.149219</td>\n",
       "      <td>3</td>\n",
       "    </tr>\n",
       "    <tr>\n",
       "      <th>3170</th>\n",
       "      <td>../data/DATASET/BirdsDetector/train/images/vol...</td>\n",
       "      <td>0.653906</td>\n",
       "      <td>0.388281</td>\n",
       "      <td>0.046875</td>\n",
       "      <td>0.054688</td>\n",
       "      <td>3</td>\n",
       "    </tr>\n",
       "    <tr>\n",
       "      <th>2265</th>\n",
       "      <td>../data/DATASET/BirdsDetector/train/images/paj...</td>\n",
       "      <td>0.138281</td>\n",
       "      <td>0.426563</td>\n",
       "      <td>0.2125</td>\n",
       "      <td>0.199219</td>\n",
       "      <td>3</td>\n",
       "    </tr>\n",
       "    <tr>\n",
       "      <th>1411</th>\n",
       "      <td>../data/DATASET/BirdsDetector/valid/images/vol...</td>\n",
       "      <td>0.55625</td>\n",
       "      <td>0.270313</td>\n",
       "      <td>0.042188</td>\n",
       "      <td>0.067187</td>\n",
       "      <td>3</td>\n",
       "    </tr>\n",
       "    <tr>\n",
       "      <th>2940</th>\n",
       "      <td>../data/DATASET/BirdsDetector/train/images/vol...</td>\n",
       "      <td>0.550781</td>\n",
       "      <td>0.527344</td>\n",
       "      <td>0.15625</td>\n",
       "      <td>0.121875</td>\n",
       "      <td>3</td>\n",
       "    </tr>\n",
       "    <tr>\n",
       "      <th>1666</th>\n",
       "      <td>../data/DATASET/BirdsDetector/train/images/vol...</td>\n",
       "      <td>0.594531</td>\n",
       "      <td>0.483594</td>\n",
       "      <td>0.025781</td>\n",
       "      <td>0.054688</td>\n",
       "      <td>3</td>\n",
       "    </tr>\n",
       "    <tr>\n",
       "      <th>344</th>\n",
       "      <td>../data/DATASET/BirdsDetector/test/images/e286...</td>\n",
       "      <td>0.457813</td>\n",
       "      <td>0.453906</td>\n",
       "      <td>0.408594</td>\n",
       "      <td>0.479687</td>\n",
       "      <td>3</td>\n",
       "    </tr>\n",
       "    <tr>\n",
       "      <th>936</th>\n",
       "      <td>../data/DATASET/BirdsDetector/valid/images/e11...</td>\n",
       "      <td>0.271875</td>\n",
       "      <td>0.6</td>\n",
       "      <td>0.030469</td>\n",
       "      <td>0.042969</td>\n",
       "      <td>3</td>\n",
       "    </tr>\n",
       "    <tr>\n",
       "      <th>843</th>\n",
       "      <td>../data/DATASET/BirdsDetector/train/images/Pal...</td>\n",
       "      <td>0.514062</td>\n",
       "      <td>0.452344</td>\n",
       "      <td>0.811719</td>\n",
       "      <td>0.8125</td>\n",
       "      <td>3</td>\n",
       "    </tr>\n",
       "  </tbody>\n",
       "</table>\n",
       "</div>"
      ],
      "text/plain": [
       "                                             image_name  x_center  y_center  \\\n",
       "411   ../data/DATASET/BirdsDetector/train/images/des...  0.826562  0.595313   \n",
       "2769  ../data/DATASET/BirdsDetector/train/images/des...   0.35625  0.755469   \n",
       "3170  ../data/DATASET/BirdsDetector/train/images/vol...  0.653906  0.388281   \n",
       "2265  ../data/DATASET/BirdsDetector/train/images/paj...  0.138281  0.426563   \n",
       "1411  ../data/DATASET/BirdsDetector/valid/images/vol...   0.55625  0.270313   \n",
       "2940  ../data/DATASET/BirdsDetector/train/images/vol...  0.550781  0.527344   \n",
       "1666  ../data/DATASET/BirdsDetector/train/images/vol...  0.594531  0.483594   \n",
       "344   ../data/DATASET/BirdsDetector/test/images/e286...  0.457813  0.453906   \n",
       "936   ../data/DATASET/BirdsDetector/valid/images/e11...  0.271875       0.6   \n",
       "843   ../data/DATASET/BirdsDetector/train/images/Pal...  0.514062  0.452344   \n",
       "\n",
       "             w         h classes  \n",
       "411   0.089063    0.0625       3  \n",
       "2769  0.051562  0.149219       3  \n",
       "3170  0.046875  0.054688       3  \n",
       "2265    0.2125  0.199219       3  \n",
       "1411  0.042188  0.067187       3  \n",
       "2940   0.15625  0.121875       3  \n",
       "1666  0.025781  0.054688       3  \n",
       "344   0.408594  0.479687       3  \n",
       "936   0.030469  0.042969       3  \n",
       "843   0.811719    0.8125       3  "
      ]
     },
     "execution_count": 19,
     "metadata": {},
     "output_type": "execute_result"
    }
   ],
   "source": [
    "dataBirdsDetectod = pd.DataFrame(columns=dataCarDetection.columns) \n",
    "\n",
    "# Проходимся по всем выборкам\n",
    "for sample in ['train', 'valid', 'test']:\n",
    "    labels_name = os.listdir(f'{PATH_BIRDS_DETECTOR}{sample}/labels') # Список файлов с разметкой \n",
    "    labels = pd.DataFrame(converterYoloToDataFrame(labels_name, f'{PATH_BIRDS_DETECTOR}{sample}/labels/', 3)) # Получаем датасет с разметкой\n",
    "    dataBirdsDetectod = pd.concat([dataBirdsDetectod, labels.T]) # Соединяем выборки в единый датасет\n",
    "\n",
    "del labels_name, labels # Очищаем память\n",
    "\n",
    "# Уменьшаем размер DataFrame\n",
    "dataBirdsDetectod = datasetMinimization(dataBirdsDetectod, DATASET_DOWNGRADES[print_variable_name(dataBirdsDetectod)])\n",
    "\n",
    "dataBirdsDetectod.sample(10)  # Посмотрим на данные"
   ]
  },
  {
   "cell_type": "markdown",
   "id": "0daaa9ca-d7ec-4fcd-925b-87b5fe9cc60c",
   "metadata": {},
   "source": [
    "### 2.4.3. Обработка датасета с BirdsV3"
   ]
  },
  {
   "cell_type": "code",
   "execution_count": 20,
   "id": "1a0a0d11-8026-4ec7-8d55-e5d26295d929",
   "metadata": {
    "ExecuteTime": {
     "end_time": "2024-04-13T19:07:48.473531Z",
     "start_time": "2024-04-13T19:07:48.194503Z"
    }
   },
   "outputs": [
    {
     "data": {
      "application/vnd.jupyter.widget-view+json": {
       "model_id": "25f69f80297d4427bb374879a2ee7b92",
       "version_major": 2,
       "version_minor": 0
      },
      "text/plain": [
       "  0%|          | 0/582 [00:00<?, ?it/s]"
      ]
     },
     "metadata": {},
     "output_type": "display_data"
    },
    {
     "data": {
      "application/vnd.jupyter.widget-view+json": {
       "model_id": "048e5e8aed944afeadb09e0d407ea8c5",
       "version_major": 2,
       "version_minor": 0
      },
      "text/plain": [
       "  0%|          | 0/55 [00:00<?, ?it/s]"
      ]
     },
     "metadata": {},
     "output_type": "display_data"
    },
    {
     "data": {
      "application/vnd.jupyter.widget-view+json": {
       "model_id": "fce2f1a091c6438cb8cf5044a87f3f5c",
       "version_major": 2,
       "version_minor": 0
      },
      "text/plain": [
       "  0%|          | 0/28 [00:00<?, ?it/s]"
      ]
     },
     "metadata": {},
     "output_type": "display_data"
    },
    {
     "name": "stdout",
     "output_type": "stream",
     "text": [
      "There were 665 photos, now there are 332\n"
     ]
    },
    {
     "data": {
      "text/html": [
       "<div>\n",
       "<style scoped>\n",
       "    .dataframe tbody tr th:only-of-type {\n",
       "        vertical-align: middle;\n",
       "    }\n",
       "\n",
       "    .dataframe tbody tr th {\n",
       "        vertical-align: top;\n",
       "    }\n",
       "\n",
       "    .dataframe thead th {\n",
       "        text-align: right;\n",
       "    }\n",
       "</style>\n",
       "<table border=\"1\" class=\"dataframe\">\n",
       "  <thead>\n",
       "    <tr style=\"text-align: right;\">\n",
       "      <th></th>\n",
       "      <th>image_name</th>\n",
       "      <th>x_center</th>\n",
       "      <th>y_center</th>\n",
       "      <th>w</th>\n",
       "      <th>h</th>\n",
       "      <th>classes</th>\n",
       "    </tr>\n",
       "  </thead>\n",
       "  <tbody>\n",
       "    <tr>\n",
       "      <th>412</th>\n",
       "      <td>../data/DATASET/BirdsV3/train/images/Pigeons-o...</td>\n",
       "      <td>0.210938</td>\n",
       "      <td>0.525781</td>\n",
       "      <td>0.05</td>\n",
       "      <td>0.065625</td>\n",
       "      <td>3</td>\n",
       "    </tr>\n",
       "    <tr>\n",
       "      <th>453</th>\n",
       "      <td>../data/DATASET/BirdsV3/train/images/birds-on-...</td>\n",
       "      <td>0.369531</td>\n",
       "      <td>0.542969</td>\n",
       "      <td>0.025</td>\n",
       "      <td>0.032813</td>\n",
       "      <td>3</td>\n",
       "    </tr>\n",
       "    <tr>\n",
       "      <th>33</th>\n",
       "      <td>../data/DATASET/BirdsV3/test/images/birds-sitt...</td>\n",
       "      <td>0.267188</td>\n",
       "      <td>0.594531</td>\n",
       "      <td>0.026562</td>\n",
       "      <td>0.0375</td>\n",
       "      <td>3</td>\n",
       "    </tr>\n",
       "    <tr>\n",
       "      <th>1032</th>\n",
       "      <td>../data/DATASET/BirdsV3/train/images/pvNUQtu_j...</td>\n",
       "      <td>0.759375</td>\n",
       "      <td>0.876563</td>\n",
       "      <td>0.110937</td>\n",
       "      <td>0.204687</td>\n",
       "      <td>3</td>\n",
       "    </tr>\n",
       "    <tr>\n",
       "      <th>3082</th>\n",
       "      <td>../data/DATASET/BirdsV3/train/images/can-i-sho...</td>\n",
       "      <td>0.844531</td>\n",
       "      <td>0.735938</td>\n",
       "      <td>0.078125</td>\n",
       "      <td>0.1125</td>\n",
       "      <td>3</td>\n",
       "    </tr>\n",
       "    <tr>\n",
       "      <th>272</th>\n",
       "      <td>../data/DATASET/BirdsV3/train/images/pigeons-t...</td>\n",
       "      <td>0.886719</td>\n",
       "      <td>0.374219</td>\n",
       "      <td>0.05</td>\n",
       "      <td>0.070312</td>\n",
       "      <td>3</td>\n",
       "    </tr>\n",
       "    <tr>\n",
       "      <th>818</th>\n",
       "      <td>../data/DATASET/BirdsV3/train/images/Bird-Remo...</td>\n",
       "      <td>0.453906</td>\n",
       "      <td>0.338281</td>\n",
       "      <td>0.0625</td>\n",
       "      <td>0.060937</td>\n",
       "      <td>3</td>\n",
       "    </tr>\n",
       "    <tr>\n",
       "      <th>3535</th>\n",
       "      <td>../data/DATASET/BirdsV3/train/images/pigeons_o...</td>\n",
       "      <td>0.649219</td>\n",
       "      <td>0.75</td>\n",
       "      <td>0.017188</td>\n",
       "      <td>0.034375</td>\n",
       "      <td>3</td>\n",
       "    </tr>\n",
       "    <tr>\n",
       "      <th>367</th>\n",
       "      <td>../data/DATASET/BirdsV3/valid/images/pigeons-o...</td>\n",
       "      <td>0.727344</td>\n",
       "      <td>0.426563</td>\n",
       "      <td>0.03125</td>\n",
       "      <td>0.0375</td>\n",
       "      <td>3</td>\n",
       "    </tr>\n",
       "    <tr>\n",
       "      <th>77</th>\n",
       "      <td>../data/DATASET/BirdsV3/test/images/3-steps-to...</td>\n",
       "      <td>0.321875</td>\n",
       "      <td>0.310156</td>\n",
       "      <td>0.189062</td>\n",
       "      <td>0.225781</td>\n",
       "      <td>3</td>\n",
       "    </tr>\n",
       "  </tbody>\n",
       "</table>\n",
       "</div>"
      ],
      "text/plain": [
       "                                             image_name  x_center  y_center  \\\n",
       "412   ../data/DATASET/BirdsV3/train/images/Pigeons-o...  0.210938  0.525781   \n",
       "453   ../data/DATASET/BirdsV3/train/images/birds-on-...  0.369531  0.542969   \n",
       "33    ../data/DATASET/BirdsV3/test/images/birds-sitt...  0.267188  0.594531   \n",
       "1032  ../data/DATASET/BirdsV3/train/images/pvNUQtu_j...  0.759375  0.876563   \n",
       "3082  ../data/DATASET/BirdsV3/train/images/can-i-sho...  0.844531  0.735938   \n",
       "272   ../data/DATASET/BirdsV3/train/images/pigeons-t...  0.886719  0.374219   \n",
       "818   ../data/DATASET/BirdsV3/train/images/Bird-Remo...  0.453906  0.338281   \n",
       "3535  ../data/DATASET/BirdsV3/train/images/pigeons_o...  0.649219      0.75   \n",
       "367   ../data/DATASET/BirdsV3/valid/images/pigeons-o...  0.727344  0.426563   \n",
       "77    ../data/DATASET/BirdsV3/test/images/3-steps-to...  0.321875  0.310156   \n",
       "\n",
       "             w         h classes  \n",
       "412       0.05  0.065625       3  \n",
       "453      0.025  0.032813       3  \n",
       "33    0.026562    0.0375       3  \n",
       "1032  0.110937  0.204687       3  \n",
       "3082  0.078125    0.1125       3  \n",
       "272       0.05  0.070312       3  \n",
       "818     0.0625  0.060937       3  \n",
       "3535  0.017188  0.034375       3  \n",
       "367    0.03125    0.0375       3  \n",
       "77    0.189062  0.225781       3  "
      ]
     },
     "execution_count": 20,
     "metadata": {},
     "output_type": "execute_result"
    }
   ],
   "source": [
    "dataBirdsV3 = pd.DataFrame(columns=dataCarDetection.columns) \n",
    "\n",
    "# Проходимся по всем выборкам\n",
    "for sample in ['train', 'valid', 'test']:\n",
    "    labels_name = os.listdir(f'{PATH_BIRDS_V3}{sample}/labels') # Список файлов с разметкой \n",
    "    labels = pd.DataFrame(converterYoloToDataFrame(labels_name, f'{PATH_BIRDS_V3}{sample}/labels/', 3)) # Получаем датасет с разметкой\n",
    "    dataBirdsV3 = pd.concat([dataBirdsV3, labels.T]) # Соединяем выборки в единый датасет\n",
    "\n",
    "del labels_name, labels # Очищаем память\n",
    "\n",
    "# Уменьшаем размер DataFrame\n",
    "dataBirdsV3 = datasetMinimization(dataBirdsV3, DATASET_DOWNGRADES[print_variable_name(dataBirdsV3)])\n",
    "\n",
    "dataBirdsV3.sample(10)  # Посмотрим на данные"
   ]
  },
  {
   "cell_type": "markdown",
   "id": "b7922edc-6ca5-41b7-9996-003b96114b94",
   "metadata": {},
   "source": [
    "## 2.5. Обработка фотографий со зданиями\n",
    "### 2.5.1. Обработка датасета Building Detection "
   ]
  },
  {
   "cell_type": "code",
   "execution_count": 21,
   "id": "3e0a6499-7594-4fb6-9510-3f403d4c5657",
   "metadata": {
    "ExecuteTime": {
     "end_time": "2024-04-13T19:07:48.675838Z",
     "start_time": "2024-04-13T19:07:48.474216Z"
    }
   },
   "outputs": [
    {
     "data": {
      "application/vnd.jupyter.widget-view+json": {
       "model_id": "19eac1b52eaa4a2da0c96e4b39e7d81c",
       "version_major": 2,
       "version_minor": 0
      },
      "text/plain": [
       "  0%|          | 0/726 [00:00<?, ?it/s]"
      ]
     },
     "metadata": {},
     "output_type": "display_data"
    },
    {
     "data": {
      "application/vnd.jupyter.widget-view+json": {
       "model_id": "7a52c2a9c7c742b091f208e04e1f140a",
       "version_major": 2,
       "version_minor": 0
      },
      "text/plain": [
       "  0%|          | 0/47 [00:00<?, ?it/s]"
      ]
     },
     "metadata": {},
     "output_type": "display_data"
    },
    {
     "data": {
      "application/vnd.jupyter.widget-view+json": {
       "model_id": "f208043d497248cc8e9b7307ca6a5614",
       "version_major": 2,
       "version_minor": 0
      },
      "text/plain": [
       "  0%|          | 0/29 [00:00<?, ?it/s]"
      ]
     },
     "metadata": {},
     "output_type": "display_data"
    },
    {
     "name": "stdout",
     "output_type": "stream",
     "text": [
      "There were 802 photos, now there are 401\n"
     ]
    },
    {
     "data": {
      "text/html": [
       "<div>\n",
       "<style scoped>\n",
       "    .dataframe tbody tr th:only-of-type {\n",
       "        vertical-align: middle;\n",
       "    }\n",
       "\n",
       "    .dataframe tbody tr th {\n",
       "        vertical-align: top;\n",
       "    }\n",
       "\n",
       "    .dataframe thead th {\n",
       "        text-align: right;\n",
       "    }\n",
       "</style>\n",
       "<table border=\"1\" class=\"dataframe\">\n",
       "  <thead>\n",
       "    <tr style=\"text-align: right;\">\n",
       "      <th></th>\n",
       "      <th>image_name</th>\n",
       "      <th>x_center</th>\n",
       "      <th>y_center</th>\n",
       "      <th>w</th>\n",
       "      <th>h</th>\n",
       "      <th>classes</th>\n",
       "    </tr>\n",
       "  </thead>\n",
       "  <tbody>\n",
       "    <tr>\n",
       "      <th>659</th>\n",
       "      <td>../data/DATASET/BuildingDetection/train/images...</td>\n",
       "      <td>0.498798</td>\n",
       "      <td>0.502404</td>\n",
       "      <td>0.997596</td>\n",
       "      <td>0.995192</td>\n",
       "      <td>4</td>\n",
       "    </tr>\n",
       "    <tr>\n",
       "      <th>2</th>\n",
       "      <td>../data/DATASET/BuildingDetection/train/images...</td>\n",
       "      <td>0.426683</td>\n",
       "      <td>0.509615</td>\n",
       "      <td>0.853365</td>\n",
       "      <td>0.975962</td>\n",
       "      <td>4</td>\n",
       "    </tr>\n",
       "    <tr>\n",
       "      <th>166</th>\n",
       "      <td>../data/DATASET/BuildingDetection/train/images...</td>\n",
       "      <td>0.872596</td>\n",
       "      <td>0.459135</td>\n",
       "      <td>0.25</td>\n",
       "      <td>0.918269</td>\n",
       "      <td>4</td>\n",
       "    </tr>\n",
       "    <tr>\n",
       "      <th>373</th>\n",
       "      <td>../data/DATASET/BuildingDetection/train/images...</td>\n",
       "      <td>0.8125</td>\n",
       "      <td>0.450721</td>\n",
       "      <td>0.370192</td>\n",
       "      <td>0.901442</td>\n",
       "      <td>4</td>\n",
       "    </tr>\n",
       "    <tr>\n",
       "      <th>288</th>\n",
       "      <td>../data/DATASET/BuildingDetection/train/images...</td>\n",
       "      <td>0.498798</td>\n",
       "      <td>0.498798</td>\n",
       "      <td>0.997596</td>\n",
       "      <td>0.997596</td>\n",
       "      <td>4</td>\n",
       "    </tr>\n",
       "    <tr>\n",
       "      <th>1</th>\n",
       "      <td>../data/DATASET/BuildingDetection/test/images/...</td>\n",
       "      <td>0.430288</td>\n",
       "      <td>0.52524</td>\n",
       "      <td>0.663462</td>\n",
       "      <td>0.503606</td>\n",
       "      <td>4</td>\n",
       "    </tr>\n",
       "    <tr>\n",
       "      <th>65</th>\n",
       "      <td>../data/DATASET/BuildingDetection/train/images...</td>\n",
       "      <td>0.5</td>\n",
       "      <td>0.498798</td>\n",
       "      <td>1.0</td>\n",
       "      <td>0.997596</td>\n",
       "      <td>4</td>\n",
       "    </tr>\n",
       "    <tr>\n",
       "      <th>557</th>\n",
       "      <td>../data/DATASET/BuildingDetection/train/images...</td>\n",
       "      <td>0.278608</td>\n",
       "      <td>0.498798</td>\n",
       "      <td>0.556964</td>\n",
       "      <td>0.997596</td>\n",
       "      <td>4</td>\n",
       "    </tr>\n",
       "    <tr>\n",
       "      <th>708</th>\n",
       "      <td>../data/DATASET/BuildingDetection/train/images...</td>\n",
       "      <td>0.498798</td>\n",
       "      <td>0.480769</td>\n",
       "      <td>0.997596</td>\n",
       "      <td>0.961538</td>\n",
       "      <td>4</td>\n",
       "    </tr>\n",
       "    <tr>\n",
       "      <th>624</th>\n",
       "      <td>../data/DATASET/BuildingDetection/train/images...</td>\n",
       "      <td>0.498798</td>\n",
       "      <td>0.498798</td>\n",
       "      <td>0.997596</td>\n",
       "      <td>0.997596</td>\n",
       "      <td>4</td>\n",
       "    </tr>\n",
       "  </tbody>\n",
       "</table>\n",
       "</div>"
      ],
      "text/plain": [
       "                                            image_name  x_center  y_center  \\\n",
       "659  ../data/DATASET/BuildingDetection/train/images...  0.498798  0.502404   \n",
       "2    ../data/DATASET/BuildingDetection/train/images...  0.426683  0.509615   \n",
       "166  ../data/DATASET/BuildingDetection/train/images...  0.872596  0.459135   \n",
       "373  ../data/DATASET/BuildingDetection/train/images...    0.8125  0.450721   \n",
       "288  ../data/DATASET/BuildingDetection/train/images...  0.498798  0.498798   \n",
       "1    ../data/DATASET/BuildingDetection/test/images/...  0.430288   0.52524   \n",
       "65   ../data/DATASET/BuildingDetection/train/images...       0.5  0.498798   \n",
       "557  ../data/DATASET/BuildingDetection/train/images...  0.278608  0.498798   \n",
       "708  ../data/DATASET/BuildingDetection/train/images...  0.498798  0.480769   \n",
       "624  ../data/DATASET/BuildingDetection/train/images...  0.498798  0.498798   \n",
       "\n",
       "            w         h classes  \n",
       "659  0.997596  0.995192       4  \n",
       "2    0.853365  0.975962       4  \n",
       "166      0.25  0.918269       4  \n",
       "373  0.370192  0.901442       4  \n",
       "288  0.997596  0.997596       4  \n",
       "1    0.663462  0.503606       4  \n",
       "65        1.0  0.997596       4  \n",
       "557  0.556964  0.997596       4  \n",
       "708  0.997596  0.961538       4  \n",
       "624  0.997596  0.997596       4  "
      ]
     },
     "execution_count": 21,
     "metadata": {},
     "output_type": "execute_result"
    }
   ],
   "source": [
    "dataBuildingDetection = pd.DataFrame(columns=dataCarDetection.columns) \n",
    "\n",
    "# Проходимся по всем выборкам\n",
    "for sample in ['train', 'valid', 'test']:\n",
    "    labels_name = os.listdir(f'{PATH_BUILDING_DETECTION}{sample}/labels') # Список файлов с разметкой \n",
    "    labels = pd.DataFrame(converterYoloToDataFrame(labels_name, f'{PATH_BUILDING_DETECTION}{sample}/labels/', 4)) # Получаем датасет с разметкой\n",
    "    dataBuildingDetection = pd.concat([dataBuildingDetection, labels.T]) # Соединяем выборки в единый датасет\n",
    "\n",
    "del labels_name, labels # Очищаем память\n",
    "\n",
    "# Уменьшаем размер DataFrame\n",
    "dataBuildingDetection = datasetMinimization(dataBuildingDetection, DATASET_DOWNGRADES[print_variable_name(dataBuildingDetection)])\n",
    "\n",
    "dataBuildingDetection.sample(10)  # Посмотрим на данные"
   ]
  },
  {
   "cell_type": "markdown",
   "id": "49cfcaeb-3fd6-4f30-b4b8-45650a08c6c4",
   "metadata": {},
   "source": [
    "### 2.5.2. Обработка датасета Josh Edits "
   ]
  },
  {
   "cell_type": "code",
   "execution_count": 22,
   "id": "fb9ce1cd-f6a7-418e-a245-485dc0755e9d",
   "metadata": {
    "ExecuteTime": {
     "end_time": "2024-04-13T19:07:49.649403Z",
     "start_time": "2024-04-13T19:07:48.676836Z"
    },
    "scrolled": true
   },
   "outputs": [
    {
     "data": {
      "application/vnd.jupyter.widget-view+json": {
       "model_id": "907c508ba44643b0b2131af6d7d8ee86",
       "version_major": 2,
       "version_minor": 0
      },
      "text/plain": [
       "  0%|          | 0/3042 [00:00<?, ?it/s]"
      ]
     },
     "metadata": {},
     "output_type": "display_data"
    },
    {
     "data": {
      "application/vnd.jupyter.widget-view+json": {
       "model_id": "254c95bddcd84f1a8f4ef785a5198f9e",
       "version_major": 2,
       "version_minor": 0
      },
      "text/plain": [
       "  0%|          | 0/290 [00:00<?, ?it/s]"
      ]
     },
     "metadata": {},
     "output_type": "display_data"
    },
    {
     "data": {
      "application/vnd.jupyter.widget-view+json": {
       "model_id": "3ae6e66555974bfd89da12043c0b0eb9",
       "version_major": 2,
       "version_minor": 0
      },
      "text/plain": [
       "  0%|          | 0/139 [00:00<?, ?it/s]"
      ]
     },
     "metadata": {},
     "output_type": "display_data"
    },
    {
     "name": "stdout",
     "output_type": "stream",
     "text": [
      "There were 3257 photos, now there are 1628\n"
     ]
    },
    {
     "data": {
      "text/html": [
       "<div>\n",
       "<style scoped>\n",
       "    .dataframe tbody tr th:only-of-type {\n",
       "        vertical-align: middle;\n",
       "    }\n",
       "\n",
       "    .dataframe tbody tr th {\n",
       "        vertical-align: top;\n",
       "    }\n",
       "\n",
       "    .dataframe thead th {\n",
       "        text-align: right;\n",
       "    }\n",
       "</style>\n",
       "<table border=\"1\" class=\"dataframe\">\n",
       "  <thead>\n",
       "    <tr style=\"text-align: right;\">\n",
       "      <th></th>\n",
       "      <th>image_name</th>\n",
       "      <th>x_center</th>\n",
       "      <th>y_center</th>\n",
       "      <th>w</th>\n",
       "      <th>h</th>\n",
       "      <th>classes</th>\n",
       "    </tr>\n",
       "  </thead>\n",
       "  <tbody>\n",
       "    <tr>\n",
       "      <th>648</th>\n",
       "      <td>../data/DATASET/JoshEdits/train/images/debug_i...</td>\n",
       "      <td>0.526563</td>\n",
       "      <td>0.507031</td>\n",
       "      <td>0.532813</td>\n",
       "      <td>0.185938</td>\n",
       "      <td>4</td>\n",
       "    </tr>\n",
       "    <tr>\n",
       "      <th>4710</th>\n",
       "      <td>../data/DATASET/JoshEdits/train/images/debug_i...</td>\n",
       "      <td>0.089063</td>\n",
       "      <td>0.41875</td>\n",
       "      <td>0.178125</td>\n",
       "      <td>0.15</td>\n",
       "      <td>4</td>\n",
       "    </tr>\n",
       "    <tr>\n",
       "      <th>887</th>\n",
       "      <td>../data/DATASET/JoshEdits/train/images/2356-Ho...</td>\n",
       "      <td>0.396875</td>\n",
       "      <td>0.389844</td>\n",
       "      <td>0.353125</td>\n",
       "      <td>0.403125</td>\n",
       "      <td>4</td>\n",
       "    </tr>\n",
       "    <tr>\n",
       "      <th>108</th>\n",
       "      <td>../data/DATASET/JoshEdits/valid/images/streetv...</td>\n",
       "      <td>0.461719</td>\n",
       "      <td>0.375</td>\n",
       "      <td>0.841406</td>\n",
       "      <td>0.699219</td>\n",
       "      <td>4</td>\n",
       "    </tr>\n",
       "    <tr>\n",
       "      <th>1876</th>\n",
       "      <td>../data/DATASET/JoshEdits/train/images/sv_42-1...</td>\n",
       "      <td>0.904687</td>\n",
       "      <td>0.429688</td>\n",
       "      <td>0.073438</td>\n",
       "      <td>0.048438</td>\n",
       "      <td>4</td>\n",
       "    </tr>\n",
       "    <tr>\n",
       "      <th>2786</th>\n",
       "      <td>../data/DATASET/JoshEdits/train/images/debug_i...</td>\n",
       "      <td>0.335938</td>\n",
       "      <td>0.517188</td>\n",
       "      <td>0.596875</td>\n",
       "      <td>0.295312</td>\n",
       "      <td>4</td>\n",
       "    </tr>\n",
       "    <tr>\n",
       "      <th>1859</th>\n",
       "      <td>../data/DATASET/JoshEdits/train/images/streetv...</td>\n",
       "      <td>0.474219</td>\n",
       "      <td>0.441406</td>\n",
       "      <td>0.692187</td>\n",
       "      <td>0.635938</td>\n",
       "      <td>4</td>\n",
       "    </tr>\n",
       "    <tr>\n",
       "      <th>468</th>\n",
       "      <td>../data/DATASET/JoshEdits/valid/images/Baltimo...</td>\n",
       "      <td>0.269531</td>\n",
       "      <td>0.553125</td>\n",
       "      <td>0.296094</td>\n",
       "      <td>0.654687</td>\n",
       "      <td>4</td>\n",
       "    </tr>\n",
       "    <tr>\n",
       "      <th>1997</th>\n",
       "      <td>../data/DATASET/JoshEdits/train/images/sv_37-3...</td>\n",
       "      <td>0.500781</td>\n",
       "      <td>0.508594</td>\n",
       "      <td>0.415625</td>\n",
       "      <td>0.160938</td>\n",
       "      <td>4</td>\n",
       "    </tr>\n",
       "    <tr>\n",
       "      <th>30</th>\n",
       "      <td>../data/DATASET/JoshEdits/valid/images/sv_37-4...</td>\n",
       "      <td>0.534375</td>\n",
       "      <td>0.382812</td>\n",
       "      <td>0.4625</td>\n",
       "      <td>0.483594</td>\n",
       "      <td>4</td>\n",
       "    </tr>\n",
       "  </tbody>\n",
       "</table>\n",
       "</div>"
      ],
      "text/plain": [
       "                                             image_name  x_center  y_center  \\\n",
       "648   ../data/DATASET/JoshEdits/train/images/debug_i...  0.526563  0.507031   \n",
       "4710  ../data/DATASET/JoshEdits/train/images/debug_i...  0.089063   0.41875   \n",
       "887   ../data/DATASET/JoshEdits/train/images/2356-Ho...  0.396875  0.389844   \n",
       "108   ../data/DATASET/JoshEdits/valid/images/streetv...  0.461719     0.375   \n",
       "1876  ../data/DATASET/JoshEdits/train/images/sv_42-1...  0.904687  0.429688   \n",
       "2786  ../data/DATASET/JoshEdits/train/images/debug_i...  0.335938  0.517188   \n",
       "1859  ../data/DATASET/JoshEdits/train/images/streetv...  0.474219  0.441406   \n",
       "468   ../data/DATASET/JoshEdits/valid/images/Baltimo...  0.269531  0.553125   \n",
       "1997  ../data/DATASET/JoshEdits/train/images/sv_37-3...  0.500781  0.508594   \n",
       "30    ../data/DATASET/JoshEdits/valid/images/sv_37-4...  0.534375  0.382812   \n",
       "\n",
       "             w         h classes  \n",
       "648   0.532813  0.185938       4  \n",
       "4710  0.178125      0.15       4  \n",
       "887   0.353125  0.403125       4  \n",
       "108   0.841406  0.699219       4  \n",
       "1876  0.073438  0.048438       4  \n",
       "2786  0.596875  0.295312       4  \n",
       "1859  0.692187  0.635938       4  \n",
       "468   0.296094  0.654687       4  \n",
       "1997  0.415625  0.160938       4  \n",
       "30      0.4625  0.483594       4  "
      ]
     },
     "execution_count": 22,
     "metadata": {},
     "output_type": "execute_result"
    }
   ],
   "source": [
    "dataJoshEdits = pd.DataFrame(columns=dataCarDetection.columns) \n",
    "\n",
    "# Проходимся по всем выборкам\n",
    "for sample in ['train', 'valid', 'test']:\n",
    "    labels_name = os.listdir(f'{PATH_JOSH_EDITS}{sample}/labels') # Список файлов с разметкой \n",
    "        \n",
    "    labels = pd.DataFrame(converterYoloToDataFrame(labels_name, f'{PATH_JOSH_EDITS}{sample}/labels/', 4)) # Получаем датасет с разметкой\n",
    "    dataJoshEdits = pd.concat([dataJoshEdits, labels.T]) # Соединяем выборки в единый датасет\n",
    "\n",
    "del labels_name, labels # Очищаем память\n",
    "\n",
    "# Уменьшаем размер DataFrame\n",
    "dataJoshEdits = datasetMinimization(dataJoshEdits, DATASET_DOWNGRADES[print_variable_name(dataJoshEdits)])\n",
    "\n",
    "dataJoshEdits.sample(10)  # Посмотрим на данные"
   ]
  },
  {
   "cell_type": "markdown",
   "id": "e4ff17e3-08a5-4d69-b994-a7b88acabb02",
   "metadata": {},
   "source": [
    "# 3. Объединение датасетов в единый датасет"
   ]
  },
  {
   "cell_type": "code",
   "execution_count": 23,
   "id": "e6fe3463-4434-4d03-b6af-70e991727ccd",
   "metadata": {
    "ExecuteTime": {
     "end_time": "2024-04-13T19:07:49.664454Z",
     "start_time": "2024-04-13T19:07:49.650404Z"
    }
   },
   "outputs": [
    {
     "data": {
      "text/html": [
       "<div>\n",
       "<style scoped>\n",
       "    .dataframe tbody tr th:only-of-type {\n",
       "        vertical-align: middle;\n",
       "    }\n",
       "\n",
       "    .dataframe tbody tr th {\n",
       "        vertical-align: top;\n",
       "    }\n",
       "\n",
       "    .dataframe thead th {\n",
       "        text-align: right;\n",
       "    }\n",
       "</style>\n",
       "<table border=\"1\" class=\"dataframe\">\n",
       "  <thead>\n",
       "    <tr style=\"text-align: right;\">\n",
       "      <th></th>\n",
       "      <th>image_name</th>\n",
       "      <th>x_center</th>\n",
       "      <th>y_center</th>\n",
       "      <th>w</th>\n",
       "      <th>h</th>\n",
       "      <th>classes</th>\n",
       "    </tr>\n",
       "  </thead>\n",
       "  <tbody>\n",
       "    <tr>\n",
       "      <th>28301</th>\n",
       "      <td>../data/DATASET/BirdsV3/train/images/crow-roof...</td>\n",
       "      <td>0.524219</td>\n",
       "      <td>0.484375</td>\n",
       "      <td>0.2125</td>\n",
       "      <td>0.260937</td>\n",
       "      <td>3</td>\n",
       "    </tr>\n",
       "    <tr>\n",
       "      <th>17871</th>\n",
       "      <td>../data/DATASET/TreeDetection/train/images/acb...</td>\n",
       "      <td>0.515625</td>\n",
       "      <td>0.522656</td>\n",
       "      <td>0.648438</td>\n",
       "      <td>0.896875</td>\n",
       "      <td>2</td>\n",
       "    </tr>\n",
       "    <tr>\n",
       "      <th>19050</th>\n",
       "      <td>../data/DATASET/TreeDetection/train/images/ce2...</td>\n",
       "      <td>0.448437</td>\n",
       "      <td>0.517188</td>\n",
       "      <td>0.496875</td>\n",
       "      <td>0.74375</td>\n",
       "      <td>2</td>\n",
       "    </tr>\n",
       "    <tr>\n",
       "      <th>20146</th>\n",
       "      <td>../data/DATASET/BirdAnnotation/train/images/e1...</td>\n",
       "      <td>0.882031</td>\n",
       "      <td>0.296875</td>\n",
       "      <td>0.014063</td>\n",
       "      <td>0.029687</td>\n",
       "      <td>3</td>\n",
       "    </tr>\n",
       "    <tr>\n",
       "      <th>23800</th>\n",
       "      <td>../data/DATASET/BirdAnnotation/train/images/vo...</td>\n",
       "      <td>0.964063</td>\n",
       "      <td>0.607812</td>\n",
       "      <td>0.060937</td>\n",
       "      <td>0.048438</td>\n",
       "      <td>3</td>\n",
       "    </tr>\n",
       "    <tr>\n",
       "      <th>17572</th>\n",
       "      <td>../data/DATASET/Tree/train/images/the-differen...</td>\n",
       "      <td>0.971875</td>\n",
       "      <td>0.607031</td>\n",
       "      <td>0.05625</td>\n",
       "      <td>0.1375</td>\n",
       "      <td>2</td>\n",
       "    </tr>\n",
       "    <tr>\n",
       "      <th>17055</th>\n",
       "      <td>../data/DATASET/Transmission/data_original_siz...</td>\n",
       "      <td>0.50016</td>\n",
       "      <td>0.50016</td>\n",
       "      <td>1.0</td>\n",
       "      <td>0.71589</td>\n",
       "      <td>5</td>\n",
       "    </tr>\n",
       "    <tr>\n",
       "      <th>24442</th>\n",
       "      <td>../data/DATASET/BirdAnnotation/valid/images/vo...</td>\n",
       "      <td>0.223438</td>\n",
       "      <td>0.071094</td>\n",
       "      <td>0.046875</td>\n",
       "      <td>0.017188</td>\n",
       "      <td>3</td>\n",
       "    </tr>\n",
       "    <tr>\n",
       "      <th>30409</th>\n",
       "      <td>../data/DATASET/JoshEdits/train/images/image_7...</td>\n",
       "      <td>0.096875</td>\n",
       "      <td>0.680469</td>\n",
       "      <td>0.19375</td>\n",
       "      <td>0.171875</td>\n",
       "      <td>4</td>\n",
       "    </tr>\n",
       "    <tr>\n",
       "      <th>18038</th>\n",
       "      <td>../data/DATASET/TreeDetection/train/images/220...</td>\n",
       "      <td>0.89375</td>\n",
       "      <td>0.377344</td>\n",
       "      <td>0.153125</td>\n",
       "      <td>0.434375</td>\n",
       "      <td>2</td>\n",
       "    </tr>\n",
       "  </tbody>\n",
       "</table>\n",
       "</div>"
      ],
      "text/plain": [
       "                                              image_name  x_center  y_center  \\\n",
       "28301  ../data/DATASET/BirdsV3/train/images/crow-roof...  0.524219  0.484375   \n",
       "17871  ../data/DATASET/TreeDetection/train/images/acb...  0.515625  0.522656   \n",
       "19050  ../data/DATASET/TreeDetection/train/images/ce2...  0.448437  0.517188   \n",
       "20146  ../data/DATASET/BirdAnnotation/train/images/e1...  0.882031  0.296875   \n",
       "23800  ../data/DATASET/BirdAnnotation/train/images/vo...  0.964063  0.607812   \n",
       "17572  ../data/DATASET/Tree/train/images/the-differen...  0.971875  0.607031   \n",
       "17055  ../data/DATASET/Transmission/data_original_siz...   0.50016   0.50016   \n",
       "24442  ../data/DATASET/BirdAnnotation/valid/images/vo...  0.223438  0.071094   \n",
       "30409  ../data/DATASET/JoshEdits/train/images/image_7...  0.096875  0.680469   \n",
       "18038  ../data/DATASET/TreeDetection/train/images/220...   0.89375  0.377344   \n",
       "\n",
       "              w         h classes  \n",
       "28301    0.2125  0.260937       3  \n",
       "17871  0.648438  0.896875       2  \n",
       "19050  0.496875   0.74375       2  \n",
       "20146  0.014063  0.029687       3  \n",
       "23800  0.060937  0.048438       3  \n",
       "17572   0.05625    0.1375       2  \n",
       "17055       1.0   0.71589       5  \n",
       "24442  0.046875  0.017188       3  \n",
       "30409   0.19375  0.171875       4  \n",
       "18038  0.153125  0.434375       2  "
      ]
     },
     "execution_count": 23,
     "metadata": {},
     "output_type": "execute_result"
    }
   ],
   "source": [
    "data = pd.concat(\n",
    "    [\n",
    "        dataCarDetection, dataCarPerson, dataCarsDetection, # Авто\n",
    "        dataSTN, dataUnilityPole, dataTransmission, # ЛЭП\n",
    "        dataTree, dataTreeDetection, dataTree100, # Деревья\n",
    "        dataBirdAnnotation, dataBirdsDetectod, dataBirdsV3, # Птицы\n",
    "        dataBuildingDetection, dataJoshEdits # Здания\n",
    "    ], \n",
    "    ignore_index=True\n",
    ") # Объеденим датасеты в один единый\n",
    "\n",
    "del dataCarDetection, dataCarPerson, dataCarsDetection # очищаем память от датасетов с Авто\n",
    "del dataSTN, dataUnilityPole, dataTransmission # очищаем память от датасетов с ЛЭП\n",
    "del dataTree, dataTreeDetection, dataTree100 # очищаем память от датасетов со Деревьями\n",
    "del dataBirdAnnotation, dataBirdsDetectod, dataBirdsV3 # очищаем память от датасетов со Птицами\n",
    "del dataBuildingDetection, dataJoshEdits # очищаем память от датасетов со Зданиями\n",
    "\n",
    "data.sample(10) # Посмотрим на данные"
   ]
  },
  {
   "cell_type": "code",
   "execution_count": 24,
   "id": "b6ee5f90-daa8-49e2-ad2d-be658e220e8c",
   "metadata": {
    "ExecuteTime": {
     "end_time": "2024-04-13T19:07:49.679937Z",
     "start_time": "2024-04-13T19:07:49.665457Z"
    }
   },
   "outputs": [
    {
     "data": {
      "text/plain": [
       "(7108,)"
      ]
     },
     "execution_count": 24,
     "metadata": {},
     "output_type": "execute_result"
    }
   ],
   "source": [
    "data['image_name'].unique().shape # Количество фотографий"
   ]
  },
  {
   "cell_type": "code",
   "execution_count": 25,
   "id": "2fc9b640-c9f6-4826-9ed5-a6e6e487f43d",
   "metadata": {
    "ExecuteTime": {
     "end_time": "2024-04-13T19:07:49.710906Z",
     "start_time": "2024-04-13T19:07:49.680441Z"
    }
   },
   "outputs": [
    {
     "name": "stdout",
     "output_type": "stream",
     "text": [
      "<class 'pandas.core.frame.DataFrame'>\n",
      "RangeIndex: 32941 entries, 0 to 32940\n",
      "Data columns (total 6 columns):\n",
      " #   Column      Non-Null Count  Dtype  \n",
      "---  ------      --------------  -----  \n",
      " 0   image_name  32941 non-null  object \n",
      " 1   x_center    32941 non-null  float64\n",
      " 2   y_center    32941 non-null  float64\n",
      " 3   w           32941 non-null  float64\n",
      " 4   h           32941 non-null  float64\n",
      " 5   classes     32941 non-null  int64  \n",
      "dtypes: float64(4), int64(1), object(1)\n",
      "memory usage: 1.5+ MB\n"
     ]
    }
   ],
   "source": [
    "# Изменим тип данных координат с string на float\n",
    "for column in data.columns[1:-1]:\n",
    "    data[column] = data[column].astype(float)\n",
    "\n",
    "data['classes'] = data['classes'].astype(int) # Изменим тип классов с string на int\n",
    "data.info() # Посмотрим на сведение дата сета"
   ]
  },
  {
   "cell_type": "code",
   "execution_count": 26,
   "id": "8c8e2ba5-4023-4b96-8066-dc06cf136e2c",
   "metadata": {
    "ExecuteTime": {
     "end_time": "2024-04-13T19:07:49.725891Z",
     "start_time": "2024-04-13T19:07:49.711856Z"
    }
   },
   "outputs": [
    {
     "name": "stdout",
     "output_type": "stream",
     "text": [
      "Dataset contains 7108 unique photos and 32941 objects\n"
     ]
    }
   ],
   "source": [
    "count_image = data['image_name'].unique().shape[0]\n",
    "print(f'Dataset contains {count_image} unique photos and {data.shape[0]} objects')\n",
    "del count_image # Очищаем память"
   ]
  },
  {
   "cell_type": "markdown",
   "id": "7d0a4dad-c8a1-492f-bbe2-5e1c516e649b",
   "metadata": {},
   "source": [
    "    0 - машина\n",
    "    1 - ЛЭП\n",
    "    2 - Деревья\n",
    "    3 - Птицы\n",
    "    4 - Дом/здание\n",
    "    5 - Провода"
   ]
  },
  {
   "cell_type": "code",
   "execution_count": 27,
   "id": "03e3d5aa-e9e9-49a6-8345-11928af2be7a",
   "metadata": {
    "ExecuteTime": {
     "end_time": "2024-04-13T19:07:49.757021Z",
     "start_time": "2024-04-13T19:07:49.726892Z"
    }
   },
   "outputs": [
    {
     "data": {
      "text/plain": [
       "classes\n",
       "0    21.083068\n",
       "1     3.939902\n",
       "2    13.916662\n",
       "3    15.370480\n",
       "4    19.791385\n",
       "5    25.898503\n",
       "Name: count, dtype: float64"
      ]
     },
     "execution_count": 27,
     "metadata": {},
     "output_type": "execute_result"
    }
   ],
   "source": [
    "# Выведем в процентах количество уникальных изображений по классам\n",
    "data.groupby('image_name')['classes'].head().value_counts().sort_index() /  data.groupby('image_name')['classes'].head().shape[0] * 100"
   ]
  },
  {
   "cell_type": "markdown",
   "id": "39bb63ed-604d-4d1a-ac51-9c7f9b971da0",
   "metadata": {},
   "source": [
    "    0 - машина\n",
    "    1 - ЛЭП\n",
    "    2 - Деревья\n",
    "    3 - Птицы\n",
    "    4 - Дом/здание\n",
    "    5 - Провода"
   ]
  },
  {
   "cell_type": "code",
   "execution_count": 28,
   "id": "e5709bda-fe4b-4778-8303-c07e4cd6374a",
   "metadata": {
    "ExecuteTime": {
     "end_time": "2024-04-13T19:07:49.771788Z",
     "start_time": "2024-04-13T19:07:49.758021Z"
    }
   },
   "outputs": [
    {
     "data": {
      "text/plain": [
       "classes\n",
       "0    18.836708\n",
       "1     2.668407\n",
       "2     8.527367\n",
       "3    28.192830\n",
       "4    11.189703\n",
       "5    30.584985\n",
       "Name: count, dtype: float64"
      ]
     },
     "execution_count": 28,
     "metadata": {},
     "output_type": "execute_result"
    }
   ],
   "source": [
    "# Распределение классов среди всех объектов\n",
    "data['classes'].value_counts().sort_index() / data.shape[0] * 100"
   ]
  },
  {
   "cell_type": "code",
   "execution_count": 29,
   "id": "0fbc1449-8262-4f8d-af65-a13b423a7955",
   "metadata": {
    "ExecuteTime": {
     "end_time": "2024-04-13T19:07:49.803475Z",
     "start_time": "2024-04-13T19:07:49.771788Z"
    },
    "scrolled": true
   },
   "outputs": [
    {
     "data": {
      "text/html": [
       "<div>\n",
       "<style scoped>\n",
       "    .dataframe tbody tr th:only-of-type {\n",
       "        vertical-align: middle;\n",
       "    }\n",
       "\n",
       "    .dataframe tbody tr th {\n",
       "        vertical-align: top;\n",
       "    }\n",
       "\n",
       "    .dataframe thead th {\n",
       "        text-align: right;\n",
       "    }\n",
       "</style>\n",
       "<table border=\"1\" class=\"dataframe\">\n",
       "  <thead>\n",
       "    <tr style=\"text-align: right;\">\n",
       "      <th></th>\n",
       "      <th>size</th>\n",
       "    </tr>\n",
       "  </thead>\n",
       "  <tbody>\n",
       "    <tr>\n",
       "      <th>0</th>\n",
       "      <td>69.991559</td>\n",
       "    </tr>\n",
       "    <tr>\n",
       "      <th>1</th>\n",
       "      <td>20.104108</td>\n",
       "    </tr>\n",
       "    <tr>\n",
       "      <th>2</th>\n",
       "      <td>9.904333</td>\n",
       "    </tr>\n",
       "  </tbody>\n",
       "</table>\n",
       "</div>"
      ],
      "text/plain": [
       "        size\n",
       "0  69.991559\n",
       "1  20.104108\n",
       "2   9.904333"
      ]
     },
     "execution_count": 29,
     "metadata": {},
     "output_type": "execute_result"
    }
   ],
   "source": [
    "# Разделим данные на выборки\n",
    "train_name_file, test_name_file = train_test_split(data['image_name'].unique(), test_size=.30, random_state=42) \n",
    "valid_name_file, test_name_file = train_test_split(test_name_file, test_size=.33, random_state=42)\n",
    "\n",
    "# Посмотрим на процентное отношение выборок \n",
    "pd.DataFrame([len(train_name_file), len(valid_name_file), len(test_name_file)], columns=['size']) / len(data['image_name'].unique()) * 100"
   ]
  },
  {
   "cell_type": "code",
   "execution_count": 30,
   "id": "dbc52291-cebb-4874-9206-451456680983",
   "metadata": {
    "ExecuteTime": {
     "end_time": "2024-04-13T19:07:49.819158Z",
     "start_time": "2024-04-13T19:07:49.804415Z"
    }
   },
   "outputs": [],
   "source": [
    "train_dataCarDetection = data[data['image_name'].isin(train_name_file)] # Записи для тренировочных данных\n",
    "valid_dataCarDetection = data[data['image_name'].isin(valid_name_file)] # Записи для валидационных данных\n",
    "test_dataCarDetection = data[data['image_name'].isin(test_name_file)] # Записи для тестовых данных\n",
    "del data, train_name_file, valid_name_file, test_name_file # Очистим память"
   ]
  },
  {
   "cell_type": "code",
   "execution_count": 31,
   "id": "2fccf9ae-ad4b-429f-b632-0469ddbe8783",
   "metadata": {
    "ExecuteTime": {
     "end_time": "2024-04-13T19:07:49.944712Z",
     "start_time": "2024-04-13T19:07:49.820158Z"
    }
   },
   "outputs": [],
   "source": [
    "# Название деректорий для создания деректорий\n",
    "list_paths_to_create = [\n",
    "    '../data/DATA', '../data/DATA/train', \n",
    "    '../data/DATA/valid', '../data/DATA/test', '../data/DATA/train/images', \n",
    "    '../data/DATA/train/labels', '../data/DATA/valid/images', '../data/DATA/valid/labels',\n",
    "    '../data/DATA/test/images', '../data/DATA/test/labels', './yolo_cache'\n",
    "]\n",
    "\n",
    "# Создаём папки\n",
    "for path in list_paths_to_create:\n",
    "    if not os.path.isdir(path):\n",
    "        os.mkdir(path)\n",
    "\n",
    "del list_paths_to_create # Очищаем память"
   ]
  },
  {
   "cell_type": "code",
   "execution_count": 32,
   "id": "d73e7c69-f402-4740-a9a0-10eff9d9fe93",
   "metadata": {
    "ExecuteTime": {
     "end_time": "2024-04-13T19:07:49.945716Z",
     "start_time": "2024-04-13T19:07:49.945716Z"
    },
    "scrolled": true
   },
   "outputs": [
    {
     "data": {
      "application/vnd.jupyter.widget-view+json": {
       "model_id": "601d2e2579824535909514c51023b5e9",
       "version_major": 2,
       "version_minor": 0
      },
      "text/plain": [
       "  0%|          | 0/4975 [00:00<?, ?it/s]"
      ]
     },
     "metadata": {},
     "output_type": "display_data"
    },
    {
     "data": {
      "application/vnd.jupyter.widget-view+json": {
       "model_id": "cec732858fbe4770ae0843334b10033c",
       "version_major": 2,
       "version_minor": 0
      },
      "text/plain": [
       "  0%|          | 0/1429 [00:00<?, ?it/s]"
      ]
     },
     "metadata": {},
     "output_type": "display_data"
    },
    {
     "data": {
      "application/vnd.jupyter.widget-view+json": {
       "model_id": "32d6a4a34059439e80293b80ae78b248",
       "version_major": 2,
       "version_minor": 0
      },
      "text/plain": [
       "  0%|          | 0/704 [00:00<?, ?it/s]"
      ]
     },
     "metadata": {},
     "output_type": "display_data"
    }
   ],
   "source": [
    "def copyFileDataSet(dataCarDetection, pathEnd):\n",
    "    '''\n",
    "        Функция позволяет скопировать фото в новую папку и под каждую из них создать txt файл с разметкой\n",
    "        Input:\n",
    "            dataCarDetection - DataFrame содержащий в себе следующиго типа:\n",
    "                Признаки    Non-Null?  Тип\n",
    "                image_name  non-null   object \n",
    "                x_center    non-null   float64\n",
    "                y_center    non-null   float64\n",
    "                w           non-null   float64\n",
    "                h           non-null   float64\n",
    "                classes     non-null   int64\n",
    "            pathEnd - путь созданной папки, внутри которой созданы папки\n",
    "                images и labels\n",
    "    '''\n",
    "    nameFiles = dataCarDetection['image_name'].unique() # Получаем список уникальных файлов\n",
    "\n",
    "    # Запускаем цикл по все файлам\n",
    "    for item in tqdm(nameFiles):\n",
    "        try:\n",
    "            img = cv2.imread(item, cv2.IMREAD_UNCHANGED)\n",
    "            img = cv2.resize(cv2.UMat(img), (1280, 720), cv2.INTER_NEAREST)\n",
    "            # Адаптация путей под Windows\n",
    "            item = item.replace('\\\\', '/')\n",
    "            pathEnd = pathEnd.replace('\\\\', '/')\n",
    "            \n",
    "            cv2.imwrite(pathEnd + '/images/' + item.split('/')[-1], img)\n",
    "            \n",
    "            dataList = list(dataCarDetection[dataCarDetection['image_name'] == item].values) # Получаем все объекты на фото\n",
    "            labelsFile = open(pathEnd + '/labels/' + item.split('/')[-1][:-3] + 'txt', 'w+') # Создаём текстовый документ с разметкой\n",
    "            isFirst = True # Флаг первой строки\n",
    "    \n",
    "            # Запускаем цикл по всем объектам на фото\n",
    "            for data in dataList:\n",
    "    \n",
    "                # Получаем линию с данными \n",
    "                line = '' if isFirst else '\\n'\n",
    "                isFirst = False\n",
    "                line += str(data[-1]) + ' ' + ' '.join(str(number) for number in data[1:-1]) \n",
    "                \n",
    "                labelsFile.write(line) # Записываем в файл\n",
    "            labelsFile.close() # Закрываем файл\n",
    "        except:\n",
    "            pass\n",
    "        \n",
    "copyFileDataSet(train_dataCarDetection, '../data/DATA/train') # Формируем тренировочную выборку\n",
    "copyFileDataSet(valid_dataCarDetection, '../data/DATA/valid') # Формируем валидационную выборку\n",
    "copyFileDataSet(test_dataCarDetection, '../data/DATA/test') # Формируем тестовую выборку\n",
    "del train_dataCarDetection, valid_dataCarDetection, test_dataCarDetection # Очищаем память"
   ]
  },
  {
   "cell_type": "code",
   "execution_count": 33,
   "id": "64c78537-5fee-452e-a05f-c87803d33e4e",
   "metadata": {
    "ExecuteTime": {
     "end_time": "2024-04-13T19:07:49.946717Z",
     "start_time": "2024-04-13T19:07:49.946717Z"
    }
   },
   "outputs": [],
   "source": [
    "# Глобальный путь до директории с проектом \n",
    "global_path = os.path.abspath('.') \n",
    "global_path = '/'.join(global_path.split('/')[:-1])\n",
    "yolo_format = dict(\n",
    "    path=f'{global_path}/data/DATA',\n",
    "    train='../train',\n",
    "    val='../valid',\n",
    "    test='../test',       \n",
    "    nc=6,\n",
    "    names={\n",
    "        0: 'Car',\n",
    "        1: 'STN',\n",
    "        2: 'Tree',\n",
    "        3: 'Bird',\n",
    "        4: 'House',\n",
    "        5: 'Cable',\n",
    "    }\n",
    ")\n",
    "\n",
    "del global_path # Очищаем память\n",
    "             \n",
    "with open('../data/DATA/yolo.yaml', 'w') as outfile:\n",
    "    yaml.dump(yolo_format, outfile, default_flow_style=False)"
   ]
  },
  {
   "cell_type": "code",
   "execution_count": 34,
   "id": "4dbaf776-c0ee-4ee5-bdd3-eb48c583722a",
   "metadata": {},
   "outputs": [],
   "source": [
    "epochTraning = 250 # Количество эпох обучения\n",
    "pathYalm = \"../data/DATA/yolo.yam\" # Путь до файла yalm\n",
    "patience = 30 # Терпимость эпох для переобучения\n",
    "imgsz = 1280 # Размер изображения"
   ]
  },
  {
   "cell_type": "code",
   "execution_count": 35,
   "id": "af995e43-e235-4cf0-8ca1-ee7839280360",
   "metadata": {
    "scrolled": true
   },
   "outputs": [
    {
     "name": "stdout",
     "output_type": "stream",
     "text": [
      "Transferred 355/355 items from pretrained weights\n",
      "Ultralytics YOLOv8.1.47  Python-3.9.6 torch-2.1.0+cu121 CUDA:0 (NVIDIA GeForce RTX 3080, 10240MiB)\n",
      "\u001b[34m\u001b[1mengine\\trainer: \u001b[0mtask=detect, mode=train, model=yolov8n.yaml, data=./DATA/yolo.yaml, epochs=250, time=None, patience=30, batch=16, imgsz=1280, save=True, save_period=-1, cache=False, device=0, workers=8, project=None, name=train, exist_ok=False, pretrained=True, optimizer=auto, verbose=True, seed=0, deterministic=True, single_cls=False, rect=False, cos_lr=False, close_mosaic=10, resume=False, amp=True, fraction=1.0, profile=False, freeze=None, multi_scale=False, overlap_mask=True, mask_ratio=4, dropout=0.0, val=True, split=val, save_json=False, save_hybrid=False, conf=None, iou=0.7, max_det=300, half=False, dnn=False, plots=True, source=None, vid_stride=1, stream_buffer=False, visualize=False, augment=False, agnostic_nms=False, classes=None, retina_masks=False, embed=None, show=False, save_frames=False, save_txt=False, save_conf=False, save_crop=False, show_labels=True, show_conf=True, show_boxes=True, line_width=None, format=torchscript, keras=False, optimize=False, int8=False, dynamic=False, simplify=False, opset=None, workspace=4, nms=False, lr0=0.01, lrf=0.01, momentum=0.937, weight_decay=0.0005, warmup_epochs=3.0, warmup_momentum=0.8, warmup_bias_lr=0.1, box=7.5, cls=0.5, dfl=1.5, pose=12.0, kobj=1.0, label_smoothing=0.0, nbs=64, hsv_h=0.015, hsv_s=0.7, hsv_v=0.4, degrees=0.0, translate=0.1, scale=0.5, shear=0.0, perspective=0.0, flipud=0.0, fliplr=0.5, bgr=0.0, mosaic=1.0, mixup=0.0, copy_paste=0.0, auto_augment=randaugment, erasing=0.4, crop_fraction=1.0, cfg=None, tracker=botsort.yaml, save_dir=runs\\detect\\train\n",
      "Overriding model.yaml nc=80 with nc=6\n",
      "\n",
      "                   from  n    params  module                                       arguments                     \n",
      "  0                  -1  1       464  ultralytics.nn.modules.conv.Conv             [3, 16, 3, 2]                 \n",
      "  1                  -1  1      4672  ultralytics.nn.modules.conv.Conv             [16, 32, 3, 2]                \n",
      "  2                  -1  1      7360  ultralytics.nn.modules.block.C2f             [32, 32, 1, True]             \n",
      "  3                  -1  1     18560  ultralytics.nn.modules.conv.Conv             [32, 64, 3, 2]                \n",
      "  4                  -1  2     49664  ultralytics.nn.modules.block.C2f             [64, 64, 2, True]             \n",
      "  5                  -1  1     73984  ultralytics.nn.modules.conv.Conv             [64, 128, 3, 2]               \n",
      "  6                  -1  2    197632  ultralytics.nn.modules.block.C2f             [128, 128, 2, True]           \n",
      "  7                  -1  1    295424  ultralytics.nn.modules.conv.Conv             [128, 256, 3, 2]              \n",
      "  8                  -1  1    460288  ultralytics.nn.modules.block.C2f             [256, 256, 1, True]           \n",
      "  9                  -1  1    164608  ultralytics.nn.modules.block.SPPF            [256, 256, 5]                 \n",
      " 10                  -1  1         0  torch.nn.modules.upsampling.Upsample         [None, 2, 'nearest']          \n",
      " 11             [-1, 6]  1         0  ultralytics.nn.modules.conv.Concat           [1]                           \n",
      " 12                  -1  1    148224  ultralytics.nn.modules.block.C2f             [384, 128, 1]                 \n",
      " 13                  -1  1         0  torch.nn.modules.upsampling.Upsample         [None, 2, 'nearest']          \n",
      " 14             [-1, 4]  1         0  ultralytics.nn.modules.conv.Concat           [1]                           \n",
      " 15                  -1  1     37248  ultralytics.nn.modules.block.C2f             [192, 64, 1]                  \n",
      " 16                  -1  1     36992  ultralytics.nn.modules.conv.Conv             [64, 64, 3, 2]                \n",
      " 17            [-1, 12]  1         0  ultralytics.nn.modules.conv.Concat           [1]                           \n",
      " 18                  -1  1    123648  ultralytics.nn.modules.block.C2f             [192, 128, 1]                 \n",
      " 19                  -1  1    147712  ultralytics.nn.modules.conv.Conv             [128, 128, 3, 2]              \n",
      " 20             [-1, 9]  1         0  ultralytics.nn.modules.conv.Concat           [1]                           \n",
      " 21                  -1  1    493056  ultralytics.nn.modules.block.C2f             [384, 256, 1]                 \n",
      " 22        [15, 18, 21]  1    752482  ultralytics.nn.modules.head.Detect           [6, [64, 128, 256]]           \n",
      "YOLOv8n summary: 225 layers, 3012018 parameters, 3012002 gradients, 8.2 GFLOPs\n",
      "\n",
      "Transferred 319/355 items from pretrained weights\n",
      "Freezing layer 'model.22.dfl.conv.weight'\n",
      "\u001b[34m\u001b[1mAMP: \u001b[0mrunning Automatic Mixed Precision (AMP) checks with YOLOv8n...\n",
      "\u001b[34m\u001b[1mAMP: \u001b[0mchecks passed \n"
     ]
    },
    {
     "name": "stderr",
     "output_type": "stream",
     "text": [
      "\u001b[34m\u001b[1mtrain: \u001b[0mScanning D:\\MyProjects\\Хакатоны\\TerraWing\\src\\neural_network\\DATA\\train\\labels.cache... 4973 images, 873 backgro\u001b[0m"
     ]
    },
    {
     "name": "stdout",
     "output_type": "stream",
     "text": [
      "\u001b[34m\u001b[1mtrain: \u001b[0mWARNING  D:\\MyProjects\\\\TerraWing\\src\\neural_network\\DATA\\train\\images\\image_000001036_jpg.rf.3eb241105e26834305cefe3448dc4f6e.jpg: 1 duplicate labels removed\n"
     ]
    },
    {
     "name": "stderr",
     "output_type": "stream",
     "text": [
      "\n",
      "\u001b[34m\u001b[1mval: \u001b[0mScanning D:\\MyProjects\\Хакатоны\\TerraWing\\src\\neural_network\\DATA\\valid\\labels.cache... 1428 images, 241 backgroun\u001b[0m\n"
     ]
    },
    {
     "name": "stdout",
     "output_type": "stream",
     "text": [
      "Plotting labels to runs\\detect\\train\\labels.jpg... \n",
      "\u001b[34m\u001b[1moptimizer:\u001b[0m 'optimizer=auto' found, ignoring 'lr0=0.01' and 'momentum=0.937' and determining best 'optimizer', 'lr0' and 'momentum' automatically... \n",
      "\u001b[34m\u001b[1moptimizer:\u001b[0m SGD(lr=0.01, momentum=0.9) with parameter groups 57 weight(decay=0.0), 64 weight(decay=0.0005), 63 bias(decay=0.0)\n",
      "Image sizes 1280 train, 1280 val\n",
      "Using 8 dataloader workers\n",
      "Logging results to \u001b[1mruns\\detect\\train\u001b[0m\n",
      "Starting training for 250 epochs...\n",
      "\n",
      "      Epoch    GPU_mem   box_loss   cls_loss   dfl_loss  Instances       Size\n"
     ]
    },
    {
     "name": "stderr",
     "output_type": "stream",
     "text": [
      "      1/250      10.6G      1.645      3.817      1.764         56       1280: 100%|██████████| 311/311 [02:08<00:00,  \n",
      "                 Class     Images  Instances      Box(P          R      mAP50  mAP50-95): 100%|██████████| 45/45 [00:21\n"
     ]
    },
    {
     "name": "stdout",
     "output_type": "stream",
     "text": [
      "                   all       1428       4552      0.452      0.443      0.383      0.168\n",
      "\n",
      "      Epoch    GPU_mem   box_loss   cls_loss   dfl_loss  Instances       Size\n"
     ]
    },
    {
     "name": "stderr",
     "output_type": "stream",
     "text": [
      "      2/250      11.7G      1.589      2.763      1.715         74       1280: 100%|██████████| 311/311 [01:55<00:00,  \n",
      "                 Class     Images  Instances      Box(P          R      mAP50  mAP50-95): 100%|██████████| 45/45 [00:27\n"
     ]
    },
    {
     "name": "stdout",
     "output_type": "stream",
     "text": [
      "                   all       1428       4552      0.538      0.425      0.425      0.201\n",
      "\n",
      "      Epoch    GPU_mem   box_loss   cls_loss   dfl_loss  Instances       Size\n"
     ]
    },
    {
     "name": "stderr",
     "output_type": "stream",
     "text": [
      "      3/250      11.3G      1.656      2.427      1.779         93       1280: 100%|██████████| 311/311 [01:54<00:00,  \n",
      "                 Class     Images  Instances      Box(P          R      mAP50  mAP50-95): 100%|██████████| 45/45 [00:16\n"
     ]
    },
    {
     "name": "stdout",
     "output_type": "stream",
     "text": [
      "                   all       1428       4552      0.342      0.283      0.248      0.109\n",
      "\n",
      "      Epoch    GPU_mem   box_loss   cls_loss   dfl_loss  Instances       Size\n"
     ]
    },
    {
     "name": "stderr",
     "output_type": "stream",
     "text": [
      "      4/250      12.5G      1.718      2.207      1.845         48       1280: 100%|██████████| 311/311 [02:00<00:00,  \n",
      "                 Class     Images  Instances      Box(P          R      mAP50  mAP50-95): 100%|██████████| 45/45 [00:32\n"
     ]
    },
    {
     "name": "stdout",
     "output_type": "stream",
     "text": [
      "                   all       1428       4552      0.382      0.388       0.33      0.145\n",
      "\n",
      "      Epoch    GPU_mem   box_loss   cls_loss   dfl_loss  Instances       Size\n"
     ]
    },
    {
     "name": "stderr",
     "output_type": "stream",
     "text": [
      "      5/250        11G      1.698      2.029      1.825        123       1280: 100%|██████████| 311/311 [01:57<00:00,  \n",
      "                 Class     Images  Instances      Box(P          R      mAP50  mAP50-95): 100%|██████████| 45/45 [00:17\n"
     ]
    },
    {
     "name": "stdout",
     "output_type": "stream",
     "text": [
      "                   all       1428       4552      0.485      0.412      0.382      0.169\n",
      "\n",
      "      Epoch    GPU_mem   box_loss   cls_loss   dfl_loss  Instances       Size\n"
     ]
    },
    {
     "name": "stderr",
     "output_type": "stream",
     "text": [
      "      6/250      11.5G       1.66       1.91      1.785         69       1280: 100%|██████████| 311/311 [01:58<00:00,  \n",
      "                 Class     Images  Instances      Box(P          R      mAP50  mAP50-95): 100%|██████████| 45/45 [00:19\n"
     ]
    },
    {
     "name": "stdout",
     "output_type": "stream",
     "text": [
      "                   all       1428       4552      0.532      0.468       0.45      0.211\n",
      "\n",
      "      Epoch    GPU_mem   box_loss   cls_loss   dfl_loss  Instances       Size\n"
     ]
    },
    {
     "name": "stderr",
     "output_type": "stream",
     "text": [
      "      7/250      11.4G      1.626      1.826      1.772         47       1280: 100%|██████████| 311/311 [01:57<00:00,  \n",
      "                 Class     Images  Instances      Box(P          R      mAP50  mAP50-95): 100%|██████████| 45/45 [00:36"
     ]
    },
    {
     "name": "stdout",
     "output_type": "stream",
     "text": [
      "                   all       1428       4552      0.612      0.486      0.526       0.26\n"
     ]
    },
    {
     "name": "stderr",
     "output_type": "stream",
     "text": [
      "\n"
     ]
    },
    {
     "name": "stdout",
     "output_type": "stream",
     "text": [
      "\n",
      "      Epoch    GPU_mem   box_loss   cls_loss   dfl_loss  Instances       Size\n"
     ]
    },
    {
     "name": "stderr",
     "output_type": "stream",
     "text": [
      "      8/250      10.8G      1.605      1.748      1.749         49       1280: 100%|██████████| 311/311 [01:56<00:00,  \n",
      "                 Class     Images  Instances      Box(P          R      mAP50  mAP50-95): 100%|██████████| 45/45 [00:17"
     ]
    },
    {
     "name": "stdout",
     "output_type": "stream",
     "text": [
      "                   all       1428       4552      0.573      0.498      0.506      0.251\n"
     ]
    },
    {
     "name": "stderr",
     "output_type": "stream",
     "text": [
      "\n"
     ]
    },
    {
     "name": "stdout",
     "output_type": "stream",
     "text": [
      "\n",
      "      Epoch    GPU_mem   box_loss   cls_loss   dfl_loss  Instances       Size\n"
     ]
    },
    {
     "name": "stderr",
     "output_type": "stream",
     "text": [
      "      9/250      10.3G      1.585      1.723      1.747        135       1280: 100%|██████████| 311/311 [01:55<00:00,  \n",
      "                 Class     Images  Instances      Box(P          R      mAP50  mAP50-95): 100%|██████████| 45/45 [00:32"
     ]
    },
    {
     "name": "stdout",
     "output_type": "stream",
     "text": [
      "                   all       1428       4552      0.632      0.473      0.509      0.257\n"
     ]
    },
    {
     "name": "stderr",
     "output_type": "stream",
     "text": [
      "\n"
     ]
    },
    {
     "name": "stdout",
     "output_type": "stream",
     "text": [
      "\n",
      "      Epoch    GPU_mem   box_loss   cls_loss   dfl_loss  Instances       Size\n"
     ]
    },
    {
     "name": "stderr",
     "output_type": "stream",
     "text": [
      "     10/250      12.1G      1.564      1.652      1.715         59       1280: 100%|██████████| 311/311 [01:55<00:00,  \n",
      "                 Class     Images  Instances      Box(P          R      mAP50  mAP50-95): 100%|██████████| 45/45 [00:16"
     ]
    },
    {
     "name": "stdout",
     "output_type": "stream",
     "text": [
      "                   all       1428       4552      0.616      0.523      0.558      0.288\n"
     ]
    },
    {
     "name": "stderr",
     "output_type": "stream",
     "text": [
      "\n"
     ]
    },
    {
     "name": "stdout",
     "output_type": "stream",
     "text": [
      "\n",
      "      Epoch    GPU_mem   box_loss   cls_loss   dfl_loss  Instances       Size\n"
     ]
    },
    {
     "name": "stderr",
     "output_type": "stream",
     "text": [
      "     11/250      10.7G      1.534       1.62      1.697         87       1280: 100%|██████████| 311/311 [01:54<00:00,  \n",
      "                 Class     Images  Instances      Box(P          R      mAP50  mAP50-95): 100%|██████████| 45/45 [00:18\n"
     ]
    },
    {
     "name": "stdout",
     "output_type": "stream",
     "text": [
      "                   all       1428       4552      0.545      0.488      0.482       0.24\n",
      "\n",
      "      Epoch    GPU_mem   box_loss   cls_loss   dfl_loss  Instances       Size\n"
     ]
    },
    {
     "name": "stderr",
     "output_type": "stream",
     "text": [
      "     12/250      10.1G      1.516      1.562      1.676        124       1280: 100%|██████████| 311/311 [01:55<00:00,  \n",
      "                 Class     Images  Instances      Box(P          R      mAP50  mAP50-95): 100%|██████████| 45/45 [00:16\n"
     ]
    },
    {
     "name": "stdout",
     "output_type": "stream",
     "text": [
      "                   all       1428       4552      0.613      0.532      0.559      0.292\n",
      "\n",
      "      Epoch    GPU_mem   box_loss   cls_loss   dfl_loss  Instances       Size\n"
     ]
    },
    {
     "name": "stderr",
     "output_type": "stream",
     "text": [
      "     13/250      9.97G       1.51      1.535      1.666         57       1280: 100%|██████████| 311/311 [01:53<00:00,  \n",
      "                 Class     Images  Instances      Box(P          R      mAP50  mAP50-95): 100%|██████████| 45/45 [00:17\n"
     ]
    },
    {
     "name": "stdout",
     "output_type": "stream",
     "text": [
      "                   all       1428       4552      0.613       0.54      0.573        0.3\n",
      "\n",
      "      Epoch    GPU_mem   box_loss   cls_loss   dfl_loss  Instances       Size\n"
     ]
    },
    {
     "name": "stderr",
     "output_type": "stream",
     "text": [
      "     14/250      10.5G      1.484      1.512      1.648         78       1280: 100%|██████████| 311/311 [01:56<00:00,  \n",
      "                 Class     Images  Instances      Box(P          R      mAP50  mAP50-95): 100%|██████████| 45/45 [00:18\n"
     ]
    },
    {
     "name": "stdout",
     "output_type": "stream",
     "text": [
      "                   all       1428       4552      0.661      0.549      0.602       0.32\n",
      "\n",
      "      Epoch    GPU_mem   box_loss   cls_loss   dfl_loss  Instances       Size\n"
     ]
    },
    {
     "name": "stderr",
     "output_type": "stream",
     "text": [
      "     15/250      10.2G       1.48      1.498      1.639         72       1280: 100%|██████████| 311/311 [01:53<00:00,  \n",
      "                 Class     Images  Instances      Box(P          R      mAP50  mAP50-95): 100%|██████████| 45/45 [00:17"
     ]
    },
    {
     "name": "stdout",
     "output_type": "stream",
     "text": [
      "                   all       1428       4552      0.669      0.542      0.615      0.339\n"
     ]
    },
    {
     "name": "stderr",
     "output_type": "stream",
     "text": [
      "\n"
     ]
    },
    {
     "name": "stdout",
     "output_type": "stream",
     "text": [
      "\n",
      "      Epoch    GPU_mem   box_loss   cls_loss   dfl_loss  Instances       Size\n"
     ]
    },
    {
     "name": "stderr",
     "output_type": "stream",
     "text": [
      "     16/250      10.7G      1.458      1.447       1.62         88       1280: 100%|██████████| 311/311 [01:53<00:00,  \n",
      "                 Class     Images  Instances      Box(P          R      mAP50  mAP50-95): 100%|██████████| 45/45 [00:17\n"
     ]
    },
    {
     "name": "stdout",
     "output_type": "stream",
     "text": [
      "                   all       1428       4552      0.635      0.569      0.608      0.335\n",
      "\n",
      "      Epoch    GPU_mem   box_loss   cls_loss   dfl_loss  Instances       Size\n"
     ]
    },
    {
     "name": "stderr",
     "output_type": "stream",
     "text": [
      "     17/250      9.99G      1.462      1.435      1.616         50       1280: 100%|██████████| 311/311 [01:53<00:00,  \n",
      "                 Class     Images  Instances      Box(P          R      mAP50  mAP50-95): 100%|██████████| 45/45 [00:16\n"
     ]
    },
    {
     "name": "stdout",
     "output_type": "stream",
     "text": [
      "                   all       1428       4552      0.656      0.535      0.578      0.304\n",
      "\n",
      "      Epoch    GPU_mem   box_loss   cls_loss   dfl_loss  Instances       Size\n"
     ]
    },
    {
     "name": "stderr",
     "output_type": "stream",
     "text": [
      "     18/250      11.8G      1.454      1.427      1.614         62       1280: 100%|██████████| 311/311 [07:20<00:00,  \n",
      "                 Class     Images  Instances      Box(P          R      mAP50  mAP50-95): 100%|██████████| 45/45 [00:56"
     ]
    },
    {
     "name": "stdout",
     "output_type": "stream",
     "text": [
      "                   all       1428       4552      0.686      0.555       0.62      0.339\n"
     ]
    },
    {
     "name": "stderr",
     "output_type": "stream",
     "text": [
      "\n"
     ]
    },
    {
     "name": "stdout",
     "output_type": "stream",
     "text": [
      "\n",
      "      Epoch    GPU_mem   box_loss   cls_loss   dfl_loss  Instances       Size\n"
     ]
    },
    {
     "name": "stderr",
     "output_type": "stream",
     "text": [
      "     19/250      12.1G       1.43      1.423      1.597         83       1280: 100%|██████████| 311/311 [01:55<00:00,  \n",
      "                 Class     Images  Instances      Box(P          R      mAP50  mAP50-95): 100%|██████████| 45/45 [00:16\n"
     ]
    },
    {
     "name": "stdout",
     "output_type": "stream",
     "text": [
      "                   all       1428       4552      0.645      0.589      0.614      0.346\n",
      "\n",
      "      Epoch    GPU_mem   box_loss   cls_loss   dfl_loss  Instances       Size\n"
     ]
    },
    {
     "name": "stderr",
     "output_type": "stream",
     "text": [
      "     20/250      12.8G      1.425      1.392      1.599         65       1280: 100%|██████████| 311/311 [01:57<00:00,  \n",
      "                 Class     Images  Instances      Box(P          R      mAP50  mAP50-95): 100%|██████████| 45/45 [00:27\n"
     ]
    },
    {
     "name": "stdout",
     "output_type": "stream",
     "text": [
      "                   all       1428       4552      0.689      0.581       0.64      0.364\n",
      "\n",
      "      Epoch    GPU_mem   box_loss   cls_loss   dfl_loss  Instances       Size\n"
     ]
    },
    {
     "name": "stderr",
     "output_type": "stream",
     "text": [
      "     21/250      11.2G      1.405      1.359      1.568         61       1280: 100%|██████████| 311/311 [01:56<00:00,  \n",
      "                 Class     Images  Instances      Box(P          R      mAP50  mAP50-95): 100%|██████████| 45/45 [00:16\n"
     ]
    },
    {
     "name": "stdout",
     "output_type": "stream",
     "text": [
      "                   all       1428       4552       0.67      0.579       0.65      0.362\n",
      "\n",
      "      Epoch    GPU_mem   box_loss   cls_loss   dfl_loss  Instances       Size\n"
     ]
    },
    {
     "name": "stderr",
     "output_type": "stream",
     "text": [
      "     22/250      11.9G      1.414      1.351      1.578        123       1280: 100%|██████████| 311/311 [01:55<00:00,  \n",
      "                 Class     Images  Instances      Box(P          R      mAP50  mAP50-95): 100%|██████████| 45/45 [00:36"
     ]
    },
    {
     "name": "stdout",
     "output_type": "stream",
     "text": [
      "                   all       1428       4552      0.694      0.596      0.655      0.361\n"
     ]
    },
    {
     "name": "stderr",
     "output_type": "stream",
     "text": [
      "\n"
     ]
    },
    {
     "name": "stdout",
     "output_type": "stream",
     "text": [
      "\n",
      "      Epoch    GPU_mem   box_loss   cls_loss   dfl_loss  Instances       Size\n"
     ]
    },
    {
     "name": "stderr",
     "output_type": "stream",
     "text": [
      "     23/250      12.1G      1.395      1.331      1.571        127       1280: 100%|██████████| 311/311 [01:56<00:00,  \n",
      "                 Class     Images  Instances      Box(P          R      mAP50  mAP50-95): 100%|██████████| 45/45 [00:18"
     ]
    },
    {
     "name": "stdout",
     "output_type": "stream",
     "text": [
      "                   all       1428       4552      0.704      0.589      0.664       0.37\n"
     ]
    },
    {
     "name": "stderr",
     "output_type": "stream",
     "text": [
      "\n"
     ]
    },
    {
     "name": "stdout",
     "output_type": "stream",
     "text": [
      "\n",
      "      Epoch    GPU_mem   box_loss   cls_loss   dfl_loss  Instances       Size\n"
     ]
    },
    {
     "name": "stderr",
     "output_type": "stream",
     "text": [
      "     24/250      11.6G      1.397      1.327       1.57         65       1280: 100%|██████████| 311/311 [01:56<00:00,  \n",
      "                 Class     Images  Instances      Box(P          R      mAP50  mAP50-95): 100%|██████████| 45/45 [00:29\n"
     ]
    },
    {
     "name": "stdout",
     "output_type": "stream",
     "text": [
      "                   all       1428       4552      0.674      0.613      0.652      0.365\n",
      "\n",
      "      Epoch    GPU_mem   box_loss   cls_loss   dfl_loss  Instances       Size\n"
     ]
    },
    {
     "name": "stderr",
     "output_type": "stream",
     "text": [
      "     25/250      11.9G      1.378      1.298      1.544         57       1280: 100%|██████████| 311/311 [01:55<00:00,  \n",
      "                 Class     Images  Instances      Box(P          R      mAP50  mAP50-95): 100%|██████████| 45/45 [00:16\n"
     ]
    },
    {
     "name": "stdout",
     "output_type": "stream",
     "text": [
      "                   all       1428       4552      0.673      0.593      0.646      0.364\n",
      "\n",
      "      Epoch    GPU_mem   box_loss   cls_loss   dfl_loss  Instances       Size\n"
     ]
    },
    {
     "name": "stderr",
     "output_type": "stream",
     "text": [
      "     26/250      10.6G      1.357      1.284      1.549         66       1280: 100%|██████████| 311/311 [01:54<00:00,  \n",
      "                 Class     Images  Instances      Box(P          R      mAP50  mAP50-95): 100%|██████████| 45/45 [00:16\n"
     ]
    },
    {
     "name": "stdout",
     "output_type": "stream",
     "text": [
      "                   all       1428       4552      0.686      0.595      0.652      0.375\n",
      "\n",
      "      Epoch    GPU_mem   box_loss   cls_loss   dfl_loss  Instances       Size\n"
     ]
    },
    {
     "name": "stderr",
     "output_type": "stream",
     "text": [
      "     27/250      10.2G      1.366      1.277       1.54         63       1280: 100%|██████████| 311/311 [01:54<00:00,  \n",
      "                 Class     Images  Instances      Box(P          R      mAP50  mAP50-95): 100%|██████████| 45/45 [00:18\n"
     ]
    },
    {
     "name": "stdout",
     "output_type": "stream",
     "text": [
      "                   all       1428       4552      0.693      0.614      0.649      0.382\n",
      "\n",
      "      Epoch    GPU_mem   box_loss   cls_loss   dfl_loss  Instances       Size\n"
     ]
    },
    {
     "name": "stderr",
     "output_type": "stream",
     "text": [
      "     28/250      10.5G      1.351      1.252      1.531         38       1280: 100%|██████████| 311/311 [01:55<00:00,  \n",
      "                 Class     Images  Instances      Box(P          R      mAP50  mAP50-95): 100%|██████████| 45/45 [00:16\n"
     ]
    },
    {
     "name": "stdout",
     "output_type": "stream",
     "text": [
      "                   all       1428       4552      0.715      0.607      0.675      0.392\n",
      "\n",
      "      Epoch    GPU_mem   box_loss   cls_loss   dfl_loss  Instances       Size\n"
     ]
    },
    {
     "name": "stderr",
     "output_type": "stream",
     "text": [
      "     29/250      12.6G      1.358      1.267      1.547         90       1280: 100%|██████████| 311/311 [01:58<00:00,  \n",
      "                 Class     Images  Instances      Box(P          R      mAP50  mAP50-95): 100%|██████████| 45/45 [00:17\n"
     ]
    },
    {
     "name": "stdout",
     "output_type": "stream",
     "text": [
      "                   all       1428       4552      0.712      0.585      0.663      0.384\n",
      "\n",
      "      Epoch    GPU_mem   box_loss   cls_loss   dfl_loss  Instances       Size\n"
     ]
    },
    {
     "name": "stderr",
     "output_type": "stream",
     "text": [
      "     30/250      12.2G       1.34      1.244      1.521        121       1280: 100%|██████████| 311/311 [09:58<00:00,  \n",
      "                 Class     Images  Instances      Box(P          R      mAP50  mAP50-95): 100%|██████████| 45/45 [00:42"
     ]
    },
    {
     "name": "stdout",
     "output_type": "stream",
     "text": [
      "                   all       1428       4552      0.716      0.609      0.669      0.378\n"
     ]
    },
    {
     "name": "stderr",
     "output_type": "stream",
     "text": [
      "\n"
     ]
    },
    {
     "name": "stdout",
     "output_type": "stream",
     "text": [
      "\n",
      "      Epoch    GPU_mem   box_loss   cls_loss   dfl_loss  Instances       Size\n"
     ]
    },
    {
     "name": "stderr",
     "output_type": "stream",
     "text": [
      "     31/250      11.6G      1.321      1.225      1.513         51       1280: 100%|██████████| 311/311 [01:54<00:00,  \n",
      "                 Class     Images  Instances      Box(P          R      mAP50  mAP50-95): 100%|██████████| 45/45 [00:17"
     ]
    },
    {
     "name": "stdout",
     "output_type": "stream",
     "text": [
      "                   all       1428       4552       0.68      0.641      0.686      0.397\n"
     ]
    },
    {
     "name": "stderr",
     "output_type": "stream",
     "text": [
      "\n"
     ]
    },
    {
     "name": "stdout",
     "output_type": "stream",
     "text": [
      "\n",
      "      Epoch    GPU_mem   box_loss   cls_loss   dfl_loss  Instances       Size\n"
     ]
    },
    {
     "name": "stderr",
     "output_type": "stream",
     "text": [
      "     32/250      11.1G      1.336      1.226      1.514        161       1280: 100%|██████████| 311/311 [01:55<00:00,  \n",
      "                 Class     Images  Instances      Box(P          R      mAP50  mAP50-95): 100%|██████████| 45/45 [00:16\n"
     ]
    },
    {
     "name": "stdout",
     "output_type": "stream",
     "text": [
      "                   all       1428       4552      0.728      0.603      0.687      0.398\n",
      "\n",
      "      Epoch    GPU_mem   box_loss   cls_loss   dfl_loss  Instances       Size\n"
     ]
    },
    {
     "name": "stderr",
     "output_type": "stream",
     "text": [
      "     33/250      11.6G      1.322      1.204      1.509         84       1280: 100%|██████████| 311/311 [01:55<00:00,  \n",
      "                 Class     Images  Instances      Box(P          R      mAP50  mAP50-95): 100%|██████████| 45/45 [00:33"
     ]
    },
    {
     "name": "stdout",
     "output_type": "stream",
     "text": [
      "                   all       1428       4552      0.739      0.602      0.691      0.401\n"
     ]
    },
    {
     "name": "stderr",
     "output_type": "stream",
     "text": [
      "\n"
     ]
    },
    {
     "name": "stdout",
     "output_type": "stream",
     "text": [
      "\n",
      "      Epoch    GPU_mem   box_loss   cls_loss   dfl_loss  Instances       Size\n"
     ]
    },
    {
     "name": "stderr",
     "output_type": "stream",
     "text": [
      "     34/250      11.9G      1.319      1.204      1.507         58       1280: 100%|██████████| 311/311 [01:54<00:00,  \n",
      "                 Class     Images  Instances      Box(P          R      mAP50  mAP50-95): 100%|██████████| 45/45 [00:16\n"
     ]
    },
    {
     "name": "stdout",
     "output_type": "stream",
     "text": [
      "                   all       1428       4552      0.709      0.631      0.689      0.403\n",
      "\n",
      "      Epoch    GPU_mem   box_loss   cls_loss   dfl_loss  Instances       Size\n"
     ]
    },
    {
     "name": "stderr",
     "output_type": "stream",
     "text": [
      "     35/250      11.3G      1.308      1.177      1.495         54       1280: 100%|██████████| 311/311 [01:53<00:00,  \n",
      "                 Class     Images  Instances      Box(P          R      mAP50  mAP50-95): 100%|██████████| 45/45 [00:16\n"
     ]
    },
    {
     "name": "stdout",
     "output_type": "stream",
     "text": [
      "                   all       1428       4552      0.708      0.604      0.673      0.395\n",
      "\n",
      "      Epoch    GPU_mem   box_loss   cls_loss   dfl_loss  Instances       Size\n"
     ]
    },
    {
     "name": "stderr",
     "output_type": "stream",
     "text": [
      "     36/250      11.7G      1.306       1.19      1.498         73       1280: 100%|██████████| 311/311 [02:02<00:00,  \n",
      "                 Class     Images  Instances      Box(P          R      mAP50  mAP50-95): 100%|██████████| 45/45 [00:15\n"
     ]
    },
    {
     "name": "stdout",
     "output_type": "stream",
     "text": [
      "                   all       1428       4552      0.738      0.619      0.692      0.408\n",
      "\n",
      "      Epoch    GPU_mem   box_loss   cls_loss   dfl_loss  Instances       Size\n"
     ]
    },
    {
     "name": "stderr",
     "output_type": "stream",
     "text": [
      "     37/250      10.8G      1.298      1.159      1.491        131       1280: 100%|██████████| 311/311 [01:55<00:00,  \n",
      "                 Class     Images  Instances      Box(P          R      mAP50  mAP50-95): 100%|██████████| 45/45 [00:20"
     ]
    },
    {
     "name": "stdout",
     "output_type": "stream",
     "text": [
      "                   all       1428       4552      0.712      0.637      0.688      0.414\n"
     ]
    },
    {
     "name": "stderr",
     "output_type": "stream",
     "text": [
      "\n"
     ]
    },
    {
     "name": "stdout",
     "output_type": "stream",
     "text": [
      "\n",
      "      Epoch    GPU_mem   box_loss   cls_loss   dfl_loss  Instances       Size\n"
     ]
    },
    {
     "name": "stderr",
     "output_type": "stream",
     "text": [
      "     38/250      10.1G       1.31      1.171      1.489         63       1280: 100%|██████████| 311/311 [01:54<00:00,  \n",
      "                 Class     Images  Instances      Box(P          R      mAP50  mAP50-95): 100%|██████████| 45/45 [00:17"
     ]
    },
    {
     "name": "stdout",
     "output_type": "stream",
     "text": [
      "                   all       1428       4552      0.702      0.641       0.68      0.401\n"
     ]
    },
    {
     "name": "stderr",
     "output_type": "stream",
     "text": [
      "\n"
     ]
    },
    {
     "name": "stdout",
     "output_type": "stream",
     "text": [
      "\n",
      "      Epoch    GPU_mem   box_loss   cls_loss   dfl_loss  Instances       Size\n"
     ]
    },
    {
     "name": "stderr",
     "output_type": "stream",
     "text": [
      "     39/250      13.5G      1.292      1.164      1.488         54       1280: 100%|██████████| 311/311 [01:57<00:00,  \n",
      "                 Class     Images  Instances      Box(P          R      mAP50  mAP50-95): 100%|██████████| 45/45 [00:18\n"
     ]
    },
    {
     "name": "stdout",
     "output_type": "stream",
     "text": [
      "                   all       1428       4552      0.731      0.619      0.681      0.401\n",
      "\n",
      "      Epoch    GPU_mem   box_loss   cls_loss   dfl_loss  Instances       Size\n"
     ]
    },
    {
     "name": "stderr",
     "output_type": "stream",
     "text": [
      "     40/250      11.1G       1.28      1.147      1.475        112       1280: 100%|██████████| 311/311 [01:55<00:00,  \n",
      "                 Class     Images  Instances      Box(P          R      mAP50  mAP50-95): 100%|██████████| 45/45 [00:26\n"
     ]
    },
    {
     "name": "stdout",
     "output_type": "stream",
     "text": [
      "                   all       1428       4552      0.721      0.643      0.708      0.421\n",
      "\n",
      "      Epoch    GPU_mem   box_loss   cls_loss   dfl_loss  Instances       Size\n"
     ]
    },
    {
     "name": "stderr",
     "output_type": "stream",
     "text": [
      "     41/250      11.9G      1.282      1.147      1.471         83       1280: 100%|██████████| 311/311 [01:54<00:00,  \n",
      "                 Class     Images  Instances      Box(P          R      mAP50  mAP50-95): 100%|██████████| 45/45 [00:17\n"
     ]
    },
    {
     "name": "stdout",
     "output_type": "stream",
     "text": [
      "                   all       1428       4552      0.702      0.655      0.707      0.419\n",
      "\n",
      "      Epoch    GPU_mem   box_loss   cls_loss   dfl_loss  Instances       Size\n"
     ]
    },
    {
     "name": "stderr",
     "output_type": "stream",
     "text": [
      "     42/250      11.9G      1.263      1.117       1.47         86       1280: 100%|██████████| 311/311 [01:56<00:00,  \n",
      "                 Class     Images  Instances      Box(P          R      mAP50  mAP50-95): 100%|██████████| 45/45 [00:19\n"
     ]
    },
    {
     "name": "stdout",
     "output_type": "stream",
     "text": [
      "                   all       1428       4552      0.736      0.653      0.711      0.427\n",
      "\n",
      "      Epoch    GPU_mem   box_loss   cls_loss   dfl_loss  Instances       Size\n"
     ]
    },
    {
     "name": "stderr",
     "output_type": "stream",
     "text": [
      "     43/250      10.8G      1.262      1.121       1.47         56       1280: 100%|██████████| 311/311 [01:53<00:00,  \n",
      "                 Class     Images  Instances      Box(P          R      mAP50  mAP50-95): 100%|██████████| 45/45 [00:16"
     ]
    },
    {
     "name": "stdout",
     "output_type": "stream",
     "text": [
      "                   all       1428       4552      0.728      0.643      0.708      0.429\n"
     ]
    },
    {
     "name": "stderr",
     "output_type": "stream",
     "text": [
      "\n"
     ]
    },
    {
     "name": "stdout",
     "output_type": "stream",
     "text": [
      "\n",
      "      Epoch    GPU_mem   box_loss   cls_loss   dfl_loss  Instances       Size\n"
     ]
    },
    {
     "name": "stderr",
     "output_type": "stream",
     "text": [
      "     44/250      11.6G       1.26      1.113      1.451         39       1280: 100%|██████████| 311/311 [01:55<00:00,  \n",
      "                 Class     Images  Instances      Box(P          R      mAP50  mAP50-95): 100%|██████████| 45/45 [00:18"
     ]
    },
    {
     "name": "stdout",
     "output_type": "stream",
     "text": [
      "                   all       1428       4552      0.698      0.676      0.713      0.422\n"
     ]
    },
    {
     "name": "stderr",
     "output_type": "stream",
     "text": [
      "\n"
     ]
    },
    {
     "name": "stdout",
     "output_type": "stream",
     "text": [
      "\n",
      "      Epoch    GPU_mem   box_loss   cls_loss   dfl_loss  Instances       Size\n"
     ]
    },
    {
     "name": "stderr",
     "output_type": "stream",
     "text": [
      "     45/250        12G      1.272      1.114      1.463         76       1280: 100%|██████████| 311/311 [01:55<00:00,  \n",
      "                 Class     Images  Instances      Box(P          R      mAP50  mAP50-95): 100%|██████████| 45/45 [00:32"
     ]
    },
    {
     "name": "stdout",
     "output_type": "stream",
     "text": [
      "                   all       1428       4552      0.721      0.648      0.708      0.418\n"
     ]
    },
    {
     "name": "stderr",
     "output_type": "stream",
     "text": [
      "\n"
     ]
    },
    {
     "name": "stdout",
     "output_type": "stream",
     "text": [
      "\n",
      "      Epoch    GPU_mem   box_loss   cls_loss   dfl_loss  Instances       Size\n"
     ]
    },
    {
     "name": "stderr",
     "output_type": "stream",
     "text": [
      "     46/250      10.4G      1.257      1.095       1.45         65       1280: 100%|██████████| 311/311 [01:54<00:00,  \n",
      "                 Class     Images  Instances      Box(P          R      mAP50  mAP50-95): 100%|██████████| 45/45 [00:16\n"
     ]
    },
    {
     "name": "stdout",
     "output_type": "stream",
     "text": [
      "                   all       1428       4552      0.719      0.665      0.718      0.437\n",
      "\n",
      "      Epoch    GPU_mem   box_loss   cls_loss   dfl_loss  Instances       Size\n"
     ]
    },
    {
     "name": "stderr",
     "output_type": "stream",
     "text": [
      "     47/250      10.8G      1.255      1.095      1.451         84       1280: 100%|██████████| 311/311 [02:15<00:00,  \n",
      "                 Class     Images  Instances      Box(P          R      mAP50  mAP50-95): 100%|██████████| 45/45 [00:32"
     ]
    },
    {
     "name": "stdout",
     "output_type": "stream",
     "text": [
      "                   all       1428       4552      0.703      0.667      0.706      0.418\n"
     ]
    },
    {
     "name": "stderr",
     "output_type": "stream",
     "text": [
      "\n"
     ]
    },
    {
     "name": "stdout",
     "output_type": "stream",
     "text": [
      "\n",
      "      Epoch    GPU_mem   box_loss   cls_loss   dfl_loss  Instances       Size\n"
     ]
    },
    {
     "name": "stderr",
     "output_type": "stream",
     "text": [
      "     48/250      10.9G      1.252      1.092      1.454         53       1280: 100%|██████████| 311/311 [01:53<00:00,  \n",
      "                 Class     Images  Instances      Box(P          R      mAP50  mAP50-95): 100%|██████████| 45/45 [00:17\n"
     ]
    },
    {
     "name": "stdout",
     "output_type": "stream",
     "text": [
      "                   all       1428       4552       0.74      0.653      0.727      0.442\n",
      "\n",
      "      Epoch    GPU_mem   box_loss   cls_loss   dfl_loss  Instances       Size\n"
     ]
    },
    {
     "name": "stderr",
     "output_type": "stream",
     "text": [
      "     49/250      11.9G      1.239      1.068      1.435         60       1280: 100%|██████████| 311/311 [01:54<00:00,  \n",
      "                 Class     Images  Instances      Box(P          R      mAP50  mAP50-95): 100%|██████████| 45/45 [00:17\n"
     ]
    },
    {
     "name": "stdout",
     "output_type": "stream",
     "text": [
      "                   all       1428       4552      0.725      0.661       0.72      0.441\n",
      "\n",
      "      Epoch    GPU_mem   box_loss   cls_loss   dfl_loss  Instances       Size\n"
     ]
    },
    {
     "name": "stderr",
     "output_type": "stream",
     "text": [
      "     50/250      11.3G      1.234      1.068      1.437         97       1280: 100%|██████████| 311/311 [01:58<00:00,  \n",
      "                 Class     Images  Instances      Box(P          R      mAP50  mAP50-95): 100%|██████████| 45/45 [00:27\n"
     ]
    },
    {
     "name": "stdout",
     "output_type": "stream",
     "text": [
      "                   all       1428       4552      0.745      0.658       0.72      0.438\n",
      "\n",
      "      Epoch    GPU_mem   box_loss   cls_loss   dfl_loss  Instances       Size\n"
     ]
    },
    {
     "name": "stderr",
     "output_type": "stream",
     "text": [
      "     51/250      10.2G      1.235      1.051       1.43         67       1280: 100%|██████████| 311/311 [01:53<00:00,  \n",
      "                 Class     Images  Instances      Box(P          R      mAP50  mAP50-95): 100%|██████████| 45/45 [00:18"
     ]
    },
    {
     "name": "stdout",
     "output_type": "stream",
     "text": [
      "                   all       1428       4552      0.743      0.658       0.73      0.442\n"
     ]
    },
    {
     "name": "stderr",
     "output_type": "stream",
     "text": [
      "\n"
     ]
    },
    {
     "name": "stdout",
     "output_type": "stream",
     "text": [
      "\n",
      "      Epoch    GPU_mem   box_loss   cls_loss   dfl_loss  Instances       Size\n"
     ]
    },
    {
     "name": "stderr",
     "output_type": "stream",
     "text": [
      "     52/250      11.2G       1.24      1.072      1.441         62       1280: 100%|██████████| 311/311 [01:54<00:00,  \n",
      "                 Class     Images  Instances      Box(P          R      mAP50  mAP50-95): 100%|██████████| 45/45 [00:17\n"
     ]
    },
    {
     "name": "stdout",
     "output_type": "stream",
     "text": [
      "                   all       1428       4552       0.77      0.648      0.728      0.452\n",
      "\n",
      "      Epoch    GPU_mem   box_loss   cls_loss   dfl_loss  Instances       Size\n"
     ]
    },
    {
     "name": "stderr",
     "output_type": "stream",
     "text": [
      "     53/250      12.1G      1.211      1.052      1.429        119       1280: 100%|██████████| 311/311 [01:55<00:00,  \n",
      "                 Class     Images  Instances      Box(P          R      mAP50  mAP50-95): 100%|██████████| 45/45 [00:16"
     ]
    },
    {
     "name": "stdout",
     "output_type": "stream",
     "text": [
      "                   all       1428       4552      0.744      0.659       0.72      0.441\n"
     ]
    },
    {
     "name": "stderr",
     "output_type": "stream",
     "text": [
      "\n"
     ]
    },
    {
     "name": "stdout",
     "output_type": "stream",
     "text": [
      "\n",
      "      Epoch    GPU_mem   box_loss   cls_loss   dfl_loss  Instances       Size\n"
     ]
    },
    {
     "name": "stderr",
     "output_type": "stream",
     "text": [
      "     54/250      13.3G      1.213      1.038       1.42         57       1280: 100%|██████████| 311/311 [03:08<00:00,  \n",
      "                 Class     Images  Instances      Box(P          R      mAP50  mAP50-95): 100%|██████████| 45/45 [00:53"
     ]
    },
    {
     "name": "stdout",
     "output_type": "stream",
     "text": [
      "                   all       1428       4552      0.741      0.662      0.728      0.448\n"
     ]
    },
    {
     "name": "stderr",
     "output_type": "stream",
     "text": [
      "\n"
     ]
    },
    {
     "name": "stdout",
     "output_type": "stream",
     "text": [
      "\n",
      "      Epoch    GPU_mem   box_loss   cls_loss   dfl_loss  Instances       Size\n"
     ]
    },
    {
     "name": "stderr",
     "output_type": "stream",
     "text": [
      "     55/250        11G      1.213      1.036       1.43         69       1280: 100%|██████████| 311/311 [01:55<00:00,  \n",
      "                 Class     Images  Instances      Box(P          R      mAP50  mAP50-95): 100%|██████████| 45/45 [00:14"
     ]
    },
    {
     "name": "stdout",
     "output_type": "stream",
     "text": [
      "                   all       1428       4552      0.733      0.661      0.721      0.445\n"
     ]
    },
    {
     "name": "stderr",
     "output_type": "stream",
     "text": [
      "\n"
     ]
    },
    {
     "name": "stdout",
     "output_type": "stream",
     "text": [
      "\n",
      "      Epoch    GPU_mem   box_loss   cls_loss   dfl_loss  Instances       Size\n"
     ]
    },
    {
     "name": "stderr",
     "output_type": "stream",
     "text": [
      "     56/250      11.8G      1.215      1.034      1.423         64       1280: 100%|██████████| 311/311 [01:55<00:00,  \n",
      "                 Class     Images  Instances      Box(P          R      mAP50  mAP50-95): 100%|██████████| 45/45 [00:28\n"
     ]
    },
    {
     "name": "stdout",
     "output_type": "stream",
     "text": [
      "                   all       1428       4552      0.761      0.662      0.729      0.449\n",
      "\n",
      "      Epoch    GPU_mem   box_loss   cls_loss   dfl_loss  Instances       Size\n"
     ]
    },
    {
     "name": "stderr",
     "output_type": "stream",
     "text": [
      "     57/250      10.4G        1.2      1.032      1.415         61       1280: 100%|██████████| 311/311 [01:55<00:00,  \n",
      "                 Class     Images  Instances      Box(P          R      mAP50  mAP50-95): 100%|██████████| 45/45 [00:14"
     ]
    },
    {
     "name": "stdout",
     "output_type": "stream",
     "text": [
      "                   all       1428       4552      0.756      0.663      0.731      0.451\n"
     ]
    },
    {
     "name": "stderr",
     "output_type": "stream",
     "text": [
      "\n"
     ]
    },
    {
     "name": "stdout",
     "output_type": "stream",
     "text": [
      "\n",
      "      Epoch    GPU_mem   box_loss   cls_loss   dfl_loss  Instances       Size\n"
     ]
    },
    {
     "name": "stderr",
     "output_type": "stream",
     "text": [
      "     58/250      10.7G      1.203      1.024      1.414         51       1280: 100%|██████████| 311/311 [01:56<00:00,  \n",
      "                 Class     Images  Instances      Box(P          R      mAP50  mAP50-95): 100%|██████████| 45/45 [00:24"
     ]
    },
    {
     "name": "stdout",
     "output_type": "stream",
     "text": [
      "                   all       1428       4552      0.746      0.663      0.732      0.453\n"
     ]
    },
    {
     "name": "stderr",
     "output_type": "stream",
     "text": [
      "\n"
     ]
    },
    {
     "name": "stdout",
     "output_type": "stream",
     "text": [
      "\n",
      "      Epoch    GPU_mem   box_loss   cls_loss   dfl_loss  Instances       Size\n"
     ]
    },
    {
     "name": "stderr",
     "output_type": "stream",
     "text": [
      "     59/250      11.6G      1.191      1.007      1.402         59       1280: 100%|██████████| 311/311 [01:54<00:00,  \n",
      "                 Class     Images  Instances      Box(P          R      mAP50  mAP50-95): 100%|██████████| 45/45 [00:17"
     ]
    },
    {
     "name": "stdout",
     "output_type": "stream",
     "text": [
      "                   all       1428       4552      0.736      0.679      0.738      0.452\n"
     ]
    },
    {
     "name": "stderr",
     "output_type": "stream",
     "text": [
      "\n"
     ]
    },
    {
     "name": "stdout",
     "output_type": "stream",
     "text": [
      "\n",
      "      Epoch    GPU_mem   box_loss   cls_loss   dfl_loss  Instances       Size\n"
     ]
    },
    {
     "name": "stderr",
     "output_type": "stream",
     "text": [
      "     60/250      12.1G      1.189       1.01      1.409         46       1280: 100%|██████████| 311/311 [01:56<00:00,  \n",
      "                 Class     Images  Instances      Box(P          R      mAP50  mAP50-95): 100%|██████████| 45/45 [00:28"
     ]
    },
    {
     "name": "stdout",
     "output_type": "stream",
     "text": [
      "                   all       1428       4552      0.762      0.652      0.735      0.455\n"
     ]
    },
    {
     "name": "stderr",
     "output_type": "stream",
     "text": [
      "\n"
     ]
    },
    {
     "name": "stdout",
     "output_type": "stream",
     "text": [
      "\n",
      "      Epoch    GPU_mem   box_loss   cls_loss   dfl_loss  Instances       Size\n"
     ]
    },
    {
     "name": "stderr",
     "output_type": "stream",
     "text": [
      "     61/250        11G      1.206      1.022      1.408         77       1280: 100%|██████████| 311/311 [01:56<00:00,  \n",
      "                 Class     Images  Instances      Box(P          R      mAP50  mAP50-95): 100%|██████████| 45/45 [00:14"
     ]
    },
    {
     "name": "stdout",
     "output_type": "stream",
     "text": [
      "                   all       1428       4552      0.754      0.666      0.741      0.458\n"
     ]
    },
    {
     "name": "stderr",
     "output_type": "stream",
     "text": [
      "\n"
     ]
    },
    {
     "name": "stdout",
     "output_type": "stream",
     "text": [
      "\n",
      "      Epoch    GPU_mem   box_loss   cls_loss   dfl_loss  Instances       Size\n"
     ]
    },
    {
     "name": "stderr",
     "output_type": "stream",
     "text": [
      "     62/250      10.8G      1.187     0.9928      1.387         83       1280: 100%|██████████| 311/311 [01:54<00:00,  \n",
      "                 Class     Images  Instances      Box(P          R      mAP50  mAP50-95): 100%|██████████| 45/45 [00:16\n"
     ]
    },
    {
     "name": "stdout",
     "output_type": "stream",
     "text": [
      "                   all       1428       4552      0.736      0.686      0.747      0.463\n",
      "\n",
      "      Epoch    GPU_mem   box_loss   cls_loss   dfl_loss  Instances       Size\n"
     ]
    },
    {
     "name": "stderr",
     "output_type": "stream",
     "text": [
      "     63/250      12.6G      1.183     0.9966      1.404         61       1280: 100%|██████████| 311/311 [01:56<00:00,  \n",
      "                 Class     Images  Instances      Box(P          R      mAP50  mAP50-95): 100%|██████████| 45/45 [00:17"
     ]
    },
    {
     "name": "stdout",
     "output_type": "stream",
     "text": [
      "                   all       1428       4552      0.758      0.673      0.742      0.463\n"
     ]
    },
    {
     "name": "stderr",
     "output_type": "stream",
     "text": [
      "\n"
     ]
    },
    {
     "name": "stdout",
     "output_type": "stream",
     "text": [
      "\n",
      "      Epoch    GPU_mem   box_loss   cls_loss   dfl_loss  Instances       Size\n"
     ]
    },
    {
     "name": "stderr",
     "output_type": "stream",
     "text": [
      "     64/250      10.6G       1.18      0.978      1.386         72       1280: 100%|██████████| 311/311 [02:18<00:00,  \n",
      "                 Class     Images  Instances      Box(P          R      mAP50  mAP50-95): 100%|██████████| 45/45 [00:28"
     ]
    },
    {
     "name": "stdout",
     "output_type": "stream",
     "text": [
      "                   all       1428       4552      0.765      0.652       0.73      0.457\n"
     ]
    },
    {
     "name": "stderr",
     "output_type": "stream",
     "text": [
      "\n"
     ]
    },
    {
     "name": "stdout",
     "output_type": "stream",
     "text": [
      "\n",
      "      Epoch    GPU_mem   box_loss   cls_loss   dfl_loss  Instances       Size\n"
     ]
    },
    {
     "name": "stderr",
     "output_type": "stream",
     "text": [
      "     65/250      10.9G      1.172     0.9784      1.385         53       1280: 100%|██████████| 311/311 [01:54<00:00,  \n",
      "                 Class     Images  Instances      Box(P          R      mAP50  mAP50-95): 100%|██████████| 45/45 [00:14"
     ]
    },
    {
     "name": "stdout",
     "output_type": "stream",
     "text": [
      "                   all       1428       4552      0.775      0.658      0.733      0.458\n"
     ]
    },
    {
     "name": "stderr",
     "output_type": "stream",
     "text": [
      "\n"
     ]
    },
    {
     "name": "stdout",
     "output_type": "stream",
     "text": [
      "\n",
      "      Epoch    GPU_mem   box_loss   cls_loss   dfl_loss  Instances       Size\n"
     ]
    },
    {
     "name": "stderr",
     "output_type": "stream",
     "text": [
      "     66/250      12.5G      1.163     0.9606      1.375         71       1280: 100%|██████████| 311/311 [01:55<00:00,  \n",
      "                 Class     Images  Instances      Box(P          R      mAP50  mAP50-95): 100%|██████████| 45/45 [00:28\n"
     ]
    },
    {
     "name": "stdout",
     "output_type": "stream",
     "text": [
      "                   all       1428       4552      0.771      0.661      0.738      0.463\n",
      "\n",
      "      Epoch    GPU_mem   box_loss   cls_loss   dfl_loss  Instances       Size\n"
     ]
    },
    {
     "name": "stderr",
     "output_type": "stream",
     "text": [
      "     67/250      10.7G      1.173      0.975       1.39         54       1280: 100%|██████████| 311/311 [01:56<00:00,  \n",
      "                 Class     Images  Instances      Box(P          R      mAP50  mAP50-95): 100%|██████████| 45/45 [00:14"
     ]
    },
    {
     "name": "stdout",
     "output_type": "stream",
     "text": [
      "                   all       1428       4552      0.761      0.674      0.741      0.458\n"
     ]
    },
    {
     "name": "stderr",
     "output_type": "stream",
     "text": [
      "\n"
     ]
    },
    {
     "name": "stdout",
     "output_type": "stream",
     "text": [
      "\n",
      "      Epoch    GPU_mem   box_loss   cls_loss   dfl_loss  Instances       Size\n"
     ]
    },
    {
     "name": "stderr",
     "output_type": "stream",
     "text": [
      "     68/250       9.7G      1.166     0.9751       1.38         71       1280: 100%|██████████| 311/311 [01:53<00:00,  \n",
      "                 Class     Images  Instances      Box(P          R      mAP50  mAP50-95): 100%|██████████| 45/45 [00:26"
     ]
    },
    {
     "name": "stdout",
     "output_type": "stream",
     "text": [
      "                   all       1428       4552      0.777      0.669      0.747      0.462\n"
     ]
    },
    {
     "name": "stderr",
     "output_type": "stream",
     "text": [
      "\n"
     ]
    },
    {
     "name": "stdout",
     "output_type": "stream",
     "text": [
      "\n",
      "      Epoch    GPU_mem   box_loss   cls_loss   dfl_loss  Instances       Size\n"
     ]
    },
    {
     "name": "stderr",
     "output_type": "stream",
     "text": [
      "     69/250      9.57G      1.167     0.9699      1.377         55       1280: 100%|██████████| 311/311 [01:54<00:00,  \n",
      "                 Class     Images  Instances      Box(P          R      mAP50  mAP50-95): 100%|██████████| 45/45 [00:15"
     ]
    },
    {
     "name": "stdout",
     "output_type": "stream",
     "text": [
      "                   all       1428       4552      0.764      0.673      0.746      0.466\n"
     ]
    },
    {
     "name": "stderr",
     "output_type": "stream",
     "text": [
      "\n"
     ]
    },
    {
     "name": "stdout",
     "output_type": "stream",
     "text": [
      "\n",
      "      Epoch    GPU_mem   box_loss   cls_loss   dfl_loss  Instances       Size\n"
     ]
    },
    {
     "name": "stderr",
     "output_type": "stream",
     "text": [
      "     70/250      12.2G      1.151     0.9516      1.376         43       1280: 100%|██████████| 311/311 [01:55<00:00,  \n",
      "                 Class     Images  Instances      Box(P          R      mAP50  mAP50-95): 100%|██████████| 45/45 [00:34"
     ]
    },
    {
     "name": "stdout",
     "output_type": "stream",
     "text": [
      "                   all       1428       4552      0.756      0.685      0.738      0.463\n"
     ]
    },
    {
     "name": "stderr",
     "output_type": "stream",
     "text": [
      "\n"
     ]
    },
    {
     "name": "stdout",
     "output_type": "stream",
     "text": [
      "\n",
      "      Epoch    GPU_mem   box_loss   cls_loss   dfl_loss  Instances       Size\n"
     ]
    },
    {
     "name": "stderr",
     "output_type": "stream",
     "text": [
      "     71/250      11.7G      1.162     0.9599      1.378        111       1280: 100%|██████████| 311/311 [01:57<00:00,  \n",
      "                 Class     Images  Instances      Box(P          R      mAP50  mAP50-95): 100%|██████████| 45/45 [00:16\n"
     ]
    },
    {
     "name": "stdout",
     "output_type": "stream",
     "text": [
      "                   all       1428       4552       0.75      0.685      0.745      0.469\n",
      "\n",
      "      Epoch    GPU_mem   box_loss   cls_loss   dfl_loss  Instances       Size\n"
     ]
    },
    {
     "name": "stderr",
     "output_type": "stream",
     "text": [
      "     72/250      10.5G      1.147     0.9435      1.368         52       1280: 100%|██████████| 311/311 [01:53<00:00,  \n",
      "                 Class     Images  Instances      Box(P          R      mAP50  mAP50-95): 100%|██████████| 45/45 [00:17\n"
     ]
    },
    {
     "name": "stdout",
     "output_type": "stream",
     "text": [
      "                   all       1428       4552      0.762      0.665      0.747      0.472\n",
      "\n",
      "      Epoch    GPU_mem   box_loss   cls_loss   dfl_loss  Instances       Size\n"
     ]
    },
    {
     "name": "stderr",
     "output_type": "stream",
     "text": [
      "     73/250      10.3G      1.154     0.9393      1.364         53       1280: 100%|██████████| 311/311 [02:17<00:00,  \n",
      "                 Class     Images  Instances      Box(P          R      mAP50  mAP50-95): 100%|██████████| 45/45 [00:13"
     ]
    },
    {
     "name": "stdout",
     "output_type": "stream",
     "text": [
      "                   all       1428       4552      0.765      0.674      0.745      0.473\n"
     ]
    },
    {
     "name": "stderr",
     "output_type": "stream",
     "text": [
      "\n"
     ]
    },
    {
     "name": "stdout",
     "output_type": "stream",
     "text": [
      "\n",
      "      Epoch    GPU_mem   box_loss   cls_loss   dfl_loss  Instances       Size\n"
     ]
    },
    {
     "name": "stderr",
     "output_type": "stream",
     "text": [
      "     74/250      11.9G      1.141      0.935       1.36        120       1280: 100%|██████████| 311/311 [01:57<00:00,  \n",
      "                 Class     Images  Instances      Box(P          R      mAP50  mAP50-95): 100%|██████████| 45/45 [00:20"
     ]
    },
    {
     "name": "stdout",
     "output_type": "stream",
     "text": [
      "                   all       1428       4552      0.755      0.686      0.751      0.475\n"
     ]
    },
    {
     "name": "stderr",
     "output_type": "stream",
     "text": [
      "\n"
     ]
    },
    {
     "name": "stdout",
     "output_type": "stream",
     "text": [
      "\n",
      "      Epoch    GPU_mem   box_loss   cls_loss   dfl_loss  Instances       Size\n"
     ]
    },
    {
     "name": "stderr",
     "output_type": "stream",
     "text": [
      "     75/250      11.4G      1.142     0.9287      1.362         67       1280: 100%|██████████| 311/311 [01:59<00:00,  \n",
      "                 Class     Images  Instances      Box(P          R      mAP50  mAP50-95): 100%|██████████| 45/45 [00:17\n"
     ]
    },
    {
     "name": "stdout",
     "output_type": "stream",
     "text": [
      "                   all       1428       4552      0.762      0.672      0.743      0.472\n",
      "\n",
      "      Epoch    GPU_mem   box_loss   cls_loss   dfl_loss  Instances       Size\n"
     ]
    },
    {
     "name": "stderr",
     "output_type": "stream",
     "text": [
      "     76/250      11.3G      1.156      0.931      1.351         70       1280: 100%|██████████| 311/311 [01:54<00:00,  \n",
      "                 Class     Images  Instances      Box(P          R      mAP50  mAP50-95): 100%|██████████| 45/45 [00:30\n"
     ]
    },
    {
     "name": "stdout",
     "output_type": "stream",
     "text": [
      "                   all       1428       4552      0.745       0.69      0.747      0.474\n",
      "\n",
      "      Epoch    GPU_mem   box_loss   cls_loss   dfl_loss  Instances       Size\n"
     ]
    },
    {
     "name": "stderr",
     "output_type": "stream",
     "text": [
      "     77/250      11.2G      1.126     0.9312      1.357         64       1280: 100%|██████████| 311/311 [01:54<00:00,  \n",
      "                 Class     Images  Instances      Box(P          R      mAP50  mAP50-95): 100%|██████████| 45/45 [00:14\n"
     ]
    },
    {
     "name": "stdout",
     "output_type": "stream",
     "text": [
      "                   all       1428       4552      0.755      0.681      0.751      0.479\n",
      "\n",
      "      Epoch    GPU_mem   box_loss   cls_loss   dfl_loss  Instances       Size\n"
     ]
    },
    {
     "name": "stderr",
     "output_type": "stream",
     "text": [
      "     78/250       9.8G      1.147     0.9346       1.36         63       1280: 100%|██████████| 311/311 [01:53<00:00,  \n",
      "                 Class     Images  Instances      Box(P          R      mAP50  mAP50-95): 100%|██████████| 45/45 [00:28\n"
     ]
    },
    {
     "name": "stdout",
     "output_type": "stream",
     "text": [
      "                   all       1428       4552      0.749      0.691      0.746      0.474\n",
      "\n",
      "      Epoch    GPU_mem   box_loss   cls_loss   dfl_loss  Instances       Size\n"
     ]
    },
    {
     "name": "stderr",
     "output_type": "stream",
     "text": [
      "     79/250      10.6G      1.129     0.9103      1.353         58       1280: 100%|██████████| 311/311 [02:41<00:00,  \n",
      "                 Class     Images  Instances      Box(P          R      mAP50  mAP50-95): 100%|██████████| 45/45 [00:16"
     ]
    },
    {
     "name": "stdout",
     "output_type": "stream",
     "text": [
      "                   all       1428       4552      0.769      0.676      0.752      0.477\n"
     ]
    },
    {
     "name": "stderr",
     "output_type": "stream",
     "text": [
      "\n"
     ]
    },
    {
     "name": "stdout",
     "output_type": "stream",
     "text": [
      "\n",
      "      Epoch    GPU_mem   box_loss   cls_loss   dfl_loss  Instances       Size\n"
     ]
    },
    {
     "name": "stderr",
     "output_type": "stream",
     "text": [
      "     80/250      10.7G      1.125     0.9018      1.341         50       1280: 100%|██████████| 311/311 [01:54<00:00,  \n",
      "                 Class     Images  Instances      Box(P          R      mAP50  mAP50-95): 100%|██████████| 45/45 [00:29\n"
     ]
    },
    {
     "name": "stdout",
     "output_type": "stream",
     "text": [
      "                   all       1428       4552      0.759      0.686      0.753      0.477\n",
      "\n",
      "      Epoch    GPU_mem   box_loss   cls_loss   dfl_loss  Instances       Size\n"
     ]
    },
    {
     "name": "stderr",
     "output_type": "stream",
     "text": [
      "     81/250      10.1G      1.133     0.9161      1.347         63       1280: 100%|██████████| 311/311 [01:53<00:00,  \n",
      "                 Class     Images  Instances      Box(P          R      mAP50  mAP50-95): 100%|██████████| 45/45 [00:15\n"
     ]
    },
    {
     "name": "stdout",
     "output_type": "stream",
     "text": [
      "                   all       1428       4552      0.746      0.692      0.746      0.477\n",
      "\n",
      "      Epoch    GPU_mem   box_loss   cls_loss   dfl_loss  Instances       Size\n"
     ]
    },
    {
     "name": "stderr",
     "output_type": "stream",
     "text": [
      "     82/250        12G      1.126     0.8998      1.342        126       1280: 100%|██████████| 311/311 [03:52<00:00,  \n",
      "                 Class     Images  Instances      Box(P          R      mAP50  mAP50-95): 100%|██████████| 45/45 [00:39"
     ]
    },
    {
     "name": "stdout",
     "output_type": "stream",
     "text": [
      "                   all       1428       4552      0.759      0.687      0.752      0.476\n"
     ]
    },
    {
     "name": "stderr",
     "output_type": "stream",
     "text": [
      "\n"
     ]
    },
    {
     "name": "stdout",
     "output_type": "stream",
     "text": [
      "\n",
      "      Epoch    GPU_mem   box_loss   cls_loss   dfl_loss  Instances       Size\n"
     ]
    },
    {
     "name": "stderr",
     "output_type": "stream",
     "text": [
      "     83/250      12.6G      1.112     0.9014      1.334         69       1280: 100%|██████████| 311/311 [01:54<00:00,  \n",
      "                 Class     Images  Instances      Box(P          R      mAP50  mAP50-95): 100%|██████████| 45/45 [00:16"
     ]
    },
    {
     "name": "stdout",
     "output_type": "stream",
     "text": [
      "                   all       1428       4552      0.759      0.681      0.745      0.475\n"
     ]
    },
    {
     "name": "stderr",
     "output_type": "stream",
     "text": [
      "\n"
     ]
    },
    {
     "name": "stdout",
     "output_type": "stream",
     "text": [
      "\n",
      "      Epoch    GPU_mem   box_loss   cls_loss   dfl_loss  Instances       Size\n"
     ]
    },
    {
     "name": "stderr",
     "output_type": "stream",
     "text": [
      "     84/250      10.4G      1.115     0.8809      1.334         63       1280: 100%|██████████| 311/311 [01:59<00:00,  \n",
      "                 Class     Images  Instances      Box(P          R      mAP50  mAP50-95): 100%|██████████| 45/45 [00:18\n"
     ]
    },
    {
     "name": "stdout",
     "output_type": "stream",
     "text": [
      "                   all       1428       4552      0.753      0.698      0.751      0.477\n",
      "\n",
      "      Epoch    GPU_mem   box_loss   cls_loss   dfl_loss  Instances       Size\n"
     ]
    },
    {
     "name": "stderr",
     "output_type": "stream",
     "text": [
      "     85/250      11.5G      1.116     0.8891      1.336        121       1280: 100%|██████████| 311/311 [01:53<00:00,  \n",
      "                 Class     Images  Instances      Box(P          R      mAP50  mAP50-95): 100%|██████████| 45/45 [00:17"
     ]
    },
    {
     "name": "stdout",
     "output_type": "stream",
     "text": [
      "                   all       1428       4552      0.754      0.702       0.75       0.48\n"
     ]
    },
    {
     "name": "stderr",
     "output_type": "stream",
     "text": [
      "\n"
     ]
    },
    {
     "name": "stdout",
     "output_type": "stream",
     "text": [
      "\n",
      "      Epoch    GPU_mem   box_loss   cls_loss   dfl_loss  Instances       Size\n"
     ]
    },
    {
     "name": "stderr",
     "output_type": "stream",
     "text": [
      "     86/250      11.3G      1.122     0.8925      1.328         55       1280: 100%|██████████| 311/311 [01:54<00:00,  \n",
      "                 Class     Images  Instances      Box(P          R      mAP50  mAP50-95): 100%|██████████| 45/45 [00:17\n"
     ]
    },
    {
     "name": "stdout",
     "output_type": "stream",
     "text": [
      "                   all       1428       4552      0.759      0.697      0.758       0.48\n",
      "\n",
      "      Epoch    GPU_mem   box_loss   cls_loss   dfl_loss  Instances       Size\n"
     ]
    },
    {
     "name": "stderr",
     "output_type": "stream",
     "text": [
      "     87/250      12.5G        1.1     0.8874      1.329         39       1280: 100%|██████████| 311/311 [02:50<00:00,  \n",
      "                 Class     Images  Instances      Box(P          R      mAP50  mAP50-95): 100%|██████████| 45/45 [01:25"
     ]
    },
    {
     "name": "stdout",
     "output_type": "stream",
     "text": [
      "                   all       1428       4552       0.75      0.692      0.749      0.478\n"
     ]
    },
    {
     "name": "stderr",
     "output_type": "stream",
     "text": [
      "\n"
     ]
    },
    {
     "name": "stdout",
     "output_type": "stream",
     "text": [
      "\n",
      "      Epoch    GPU_mem   box_loss   cls_loss   dfl_loss  Instances       Size\n"
     ]
    },
    {
     "name": "stderr",
     "output_type": "stream",
     "text": [
      "     88/250      11.6G      1.098     0.8745      1.328        174       1280: 100%|██████████| 311/311 [01:56<00:00,  \n",
      "                 Class     Images  Instances      Box(P          R      mAP50  mAP50-95): 100%|██████████| 45/45 [00:16\n"
     ]
    },
    {
     "name": "stdout",
     "output_type": "stream",
     "text": [
      "                   all       1428       4552      0.766      0.678      0.753       0.48\n",
      "\n",
      "      Epoch    GPU_mem   box_loss   cls_loss   dfl_loss  Instances       Size\n"
     ]
    },
    {
     "name": "stderr",
     "output_type": "stream",
     "text": [
      "     89/250      10.2G      1.113     0.8859      1.339         50       1280: 100%|██████████| 311/311 [01:54<00:00,  \n",
      "                 Class     Images  Instances      Box(P          R      mAP50  mAP50-95): 100%|██████████| 45/45 [00:16\n"
     ]
    },
    {
     "name": "stdout",
     "output_type": "stream",
     "text": [
      "                   all       1428       4552      0.754      0.688      0.749      0.482\n",
      "\n",
      "      Epoch    GPU_mem   box_loss   cls_loss   dfl_loss  Instances       Size\n"
     ]
    },
    {
     "name": "stderr",
     "output_type": "stream",
     "text": [
      "     90/250      10.3G      1.104     0.8812       1.33         73       1280: 100%|██████████| 311/311 [02:02<00:00,  \n",
      "                 Class     Images  Instances      Box(P          R      mAP50  mAP50-95): 100%|██████████| 45/45 [00:31\n"
     ]
    },
    {
     "name": "stdout",
     "output_type": "stream",
     "text": [
      "                   all       1428       4552      0.754      0.689      0.748       0.48\n",
      "\n",
      "      Epoch    GPU_mem   box_loss   cls_loss   dfl_loss  Instances       Size\n"
     ]
    },
    {
     "name": "stderr",
     "output_type": "stream",
     "text": [
      "     91/250      10.9G      1.092     0.8738      1.319         93       1280: 100%|██████████| 311/311 [01:54<00:00,  \n",
      "                 Class     Images  Instances      Box(P          R      mAP50  mAP50-95): 100%|██████████| 45/45 [00:16\n"
     ]
    },
    {
     "name": "stdout",
     "output_type": "stream",
     "text": [
      "                   all       1428       4552      0.765      0.689       0.75      0.483\n",
      "\n",
      "      Epoch    GPU_mem   box_loss   cls_loss   dfl_loss  Instances       Size\n"
     ]
    },
    {
     "name": "stderr",
     "output_type": "stream",
     "text": [
      "     92/250      11.8G       1.09     0.8726       1.32         76       1280: 100%|██████████| 311/311 [06:13<00:00,  \n",
      "                 Class     Images  Instances      Box(P          R      mAP50  mAP50-95): 100%|██████████| 45/45 [00:53"
     ]
    },
    {
     "name": "stdout",
     "output_type": "stream",
     "text": [
      "                   all       1428       4552      0.758      0.699      0.753      0.485\n"
     ]
    },
    {
     "name": "stderr",
     "output_type": "stream",
     "text": [
      "\n"
     ]
    },
    {
     "name": "stdout",
     "output_type": "stream",
     "text": [
      "\n",
      "      Epoch    GPU_mem   box_loss   cls_loss   dfl_loss  Instances       Size\n"
     ]
    },
    {
     "name": "stderr",
     "output_type": "stream",
     "text": [
      "     93/250      11.3G      1.084     0.8642      1.308         78       1280: 100%|██████████| 311/311 [01:55<00:00,  \n",
      "                 Class     Images  Instances      Box(P          R      mAP50  mAP50-95): 100%|██████████| 45/45 [00:16\n"
     ]
    },
    {
     "name": "stdout",
     "output_type": "stream",
     "text": [
      "                   all       1428       4552      0.746       0.71      0.752      0.486\n",
      "\n",
      "      Epoch    GPU_mem   box_loss   cls_loss   dfl_loss  Instances       Size\n"
     ]
    },
    {
     "name": "stderr",
     "output_type": "stream",
     "text": [
      "     94/250      10.1G      1.086     0.8594      1.325         38       1280: 100%|██████████| 311/311 [01:53<00:00,  \n",
      "                 Class     Images  Instances      Box(P          R      mAP50  mAP50-95): 100%|██████████| 45/45 [00:18\n"
     ]
    },
    {
     "name": "stdout",
     "output_type": "stream",
     "text": [
      "                   all       1428       4552      0.771       0.69      0.754      0.487\n",
      "\n",
      "      Epoch    GPU_mem   box_loss   cls_loss   dfl_loss  Instances       Size\n"
     ]
    },
    {
     "name": "stderr",
     "output_type": "stream",
     "text": [
      "     95/250      10.7G      1.072     0.8422      1.302         49       1280: 100%|██████████| 311/311 [01:55<00:00,  \n",
      "                 Class     Images  Instances      Box(P          R      mAP50  mAP50-95): 100%|██████████| 45/45 [00:15\n"
     ]
    },
    {
     "name": "stdout",
     "output_type": "stream",
     "text": [
      "                   all       1428       4552      0.759      0.695      0.749      0.489\n",
      "\n",
      "      Epoch    GPU_mem   box_loss   cls_loss   dfl_loss  Instances       Size\n"
     ]
    },
    {
     "name": "stderr",
     "output_type": "stream",
     "text": [
      "     96/250        11G       1.09     0.8522      1.308         72       1280: 100%|██████████| 311/311 [03:03<00:00,  \n",
      "                 Class     Images  Instances      Box(P          R      mAP50  mAP50-95): 100%|██████████| 45/45 [00:36"
     ]
    },
    {
     "name": "stdout",
     "output_type": "stream",
     "text": [
      "                   all       1428       4552      0.726       0.71      0.742      0.484\n"
     ]
    },
    {
     "name": "stderr",
     "output_type": "stream",
     "text": [
      "\n"
     ]
    },
    {
     "name": "stdout",
     "output_type": "stream",
     "text": [
      "\n",
      "      Epoch    GPU_mem   box_loss   cls_loss   dfl_loss  Instances       Size\n"
     ]
    },
    {
     "name": "stderr",
     "output_type": "stream",
     "text": [
      "     97/250      11.5G      1.085     0.8514      1.314         65       1280: 100%|██████████| 311/311 [01:54<00:00,  \n",
      "                 Class     Images  Instances      Box(P          R      mAP50  mAP50-95): 100%|██████████| 45/45 [00:17\n"
     ]
    },
    {
     "name": "stdout",
     "output_type": "stream",
     "text": [
      "                   all       1428       4552      0.746      0.701      0.749      0.485\n",
      "\n",
      "      Epoch    GPU_mem   box_loss   cls_loss   dfl_loss  Instances       Size\n"
     ]
    },
    {
     "name": "stderr",
     "output_type": "stream",
     "text": [
      "     98/250      10.3G      1.074     0.8321      1.302        103       1280: 100%|██████████| 311/311 [01:56<00:00,  \n",
      "                 Class     Images  Instances      Box(P          R      mAP50  mAP50-95): 100%|██████████| 45/45 [00:24\n"
     ]
    },
    {
     "name": "stdout",
     "output_type": "stream",
     "text": [
      "                   all       1428       4552      0.783      0.683      0.753      0.491\n",
      "\n",
      "      Epoch    GPU_mem   box_loss   cls_loss   dfl_loss  Instances       Size\n"
     ]
    },
    {
     "name": "stderr",
     "output_type": "stream",
     "text": [
      "     99/250      11.1G      1.068     0.8386      1.294         84       1280: 100%|██████████| 311/311 [01:54<00:00,  \n",
      "                 Class     Images  Instances      Box(P          R      mAP50  mAP50-95): 100%|██████████| 45/45 [00:16\n"
     ]
    },
    {
     "name": "stdout",
     "output_type": "stream",
     "text": [
      "                   all       1428       4552      0.784      0.681      0.752       0.49\n",
      "\n",
      "      Epoch    GPU_mem   box_loss   cls_loss   dfl_loss  Instances       Size\n"
     ]
    },
    {
     "name": "stderr",
     "output_type": "stream",
     "text": [
      "    100/250      10.9G      1.089     0.8566      1.307         64       1280: 100%|██████████| 311/311 [01:55<00:00,  \n",
      "                 Class     Images  Instances      Box(P          R      mAP50  mAP50-95): 100%|██████████| 45/45 [00:30\n"
     ]
    },
    {
     "name": "stdout",
     "output_type": "stream",
     "text": [
      "                   all       1428       4552      0.783      0.694      0.754      0.493\n",
      "\n",
      "      Epoch    GPU_mem   box_loss   cls_loss   dfl_loss  Instances       Size\n"
     ]
    },
    {
     "name": "stderr",
     "output_type": "stream",
     "text": [
      "    101/250      10.8G      1.074     0.8349      1.301         74       1280: 100%|██████████| 311/311 [01:54<00:00,  \n",
      "                 Class     Images  Instances      Box(P          R      mAP50  mAP50-95): 100%|██████████| 45/45 [00:15\n"
     ]
    },
    {
     "name": "stdout",
     "output_type": "stream",
     "text": [
      "                   all       1428       4552      0.799      0.679      0.752      0.488\n",
      "\n",
      "      Epoch    GPU_mem   box_loss   cls_loss   dfl_loss  Instances       Size\n"
     ]
    },
    {
     "name": "stderr",
     "output_type": "stream",
     "text": [
      "    102/250      12.1G      1.079     0.8362      1.301         83       1280: 100%|██████████| 311/311 [05:15<00:00,  \n",
      "                 Class     Images  Instances      Box(P          R      mAP50  mAP50-95): 100%|██████████| 45/45 [00:46"
     ]
    },
    {
     "name": "stdout",
     "output_type": "stream",
     "text": [
      "                   all       1428       4552      0.767      0.697      0.752      0.487\n"
     ]
    },
    {
     "name": "stderr",
     "output_type": "stream",
     "text": [
      "\n"
     ]
    },
    {
     "name": "stdout",
     "output_type": "stream",
     "text": [
      "\n",
      "      Epoch    GPU_mem   box_loss   cls_loss   dfl_loss  Instances       Size\n"
     ]
    },
    {
     "name": "stderr",
     "output_type": "stream",
     "text": [
      "    103/250      11.1G      1.074     0.8325        1.3        113       1280: 100%|██████████| 311/311 [01:54<00:00,  \n",
      "                 Class     Images  Instances      Box(P          R      mAP50  mAP50-95): 100%|██████████| 45/45 [00:16"
     ]
    },
    {
     "name": "stdout",
     "output_type": "stream",
     "text": [
      "                   all       1428       4552      0.749      0.699      0.752      0.487\n"
     ]
    },
    {
     "name": "stderr",
     "output_type": "stream",
     "text": [
      "\n"
     ]
    },
    {
     "name": "stdout",
     "output_type": "stream",
     "text": [
      "\n",
      "      Epoch    GPU_mem   box_loss   cls_loss   dfl_loss  Instances       Size\n"
     ]
    },
    {
     "name": "stderr",
     "output_type": "stream",
     "text": [
      "    104/250        13G      1.068     0.8262      1.294         63       1280: 100%|██████████| 311/311 [01:56<00:00,  \n",
      "                 Class     Images  Instances      Box(P          R      mAP50  mAP50-95): 100%|██████████| 45/45 [00:28"
     ]
    },
    {
     "name": "stdout",
     "output_type": "stream",
     "text": [
      "                   all       1428       4552      0.758      0.689      0.748      0.485\n"
     ]
    },
    {
     "name": "stderr",
     "output_type": "stream",
     "text": [
      "\n"
     ]
    },
    {
     "name": "stdout",
     "output_type": "stream",
     "text": [
      "\n",
      "      Epoch    GPU_mem   box_loss   cls_loss   dfl_loss  Instances       Size\n"
     ]
    },
    {
     "name": "stderr",
     "output_type": "stream",
     "text": [
      "    105/250      10.3G      1.068     0.8265      1.292         61       1280: 100%|██████████| 311/311 [01:53<00:00,  \n",
      "                 Class     Images  Instances      Box(P          R      mAP50  mAP50-95): 100%|██████████| 45/45 [00:16\n"
     ]
    },
    {
     "name": "stdout",
     "output_type": "stream",
     "text": [
      "                   all       1428       4552      0.768      0.687      0.753       0.49\n",
      "\n",
      "      Epoch    GPU_mem   box_loss   cls_loss   dfl_loss  Instances       Size\n"
     ]
    },
    {
     "name": "stderr",
     "output_type": "stream",
     "text": [
      "    106/250      10.9G      1.044     0.8033      1.279         80       1280: 100%|██████████| 311/311 [02:20<00:00,  \n",
      "                 Class     Images  Instances      Box(P          R      mAP50  mAP50-95): 100%|██████████| 45/45 [00:34"
     ]
    },
    {
     "name": "stdout",
     "output_type": "stream",
     "text": [
      "                   all       1428       4552      0.736       0.71      0.753      0.487\n"
     ]
    },
    {
     "name": "stderr",
     "output_type": "stream",
     "text": [
      "\n"
     ]
    },
    {
     "name": "stdout",
     "output_type": "stream",
     "text": [
      "\n",
      "      Epoch    GPU_mem   box_loss   cls_loss   dfl_loss  Instances       Size\n"
     ]
    },
    {
     "name": "stderr",
     "output_type": "stream",
     "text": [
      "    107/250      11.5G      1.044     0.8142      1.284         94       1280: 100%|██████████| 311/311 [01:54<00:00,  \n",
      "                 Class     Images  Instances      Box(P          R      mAP50  mAP50-95): 100%|██████████| 45/45 [00:18"
     ]
    },
    {
     "name": "stdout",
     "output_type": "stream",
     "text": [
      "                   all       1428       4552      0.762      0.702      0.753      0.492\n"
     ]
    },
    {
     "name": "stderr",
     "output_type": "stream",
     "text": [
      "\n"
     ]
    },
    {
     "name": "stdout",
     "output_type": "stream",
     "text": [
      "\n",
      "      Epoch    GPU_mem   box_loss   cls_loss   dfl_loss  Instances       Size\n"
     ]
    },
    {
     "name": "stderr",
     "output_type": "stream",
     "text": [
      "    108/250        11G      1.049     0.8154      1.284         59       1280: 100%|██████████| 311/311 [01:55<00:00,  \n",
      "                 Class     Images  Instances      Box(P          R      mAP50  mAP50-95): 100%|██████████| 45/45 [00:14"
     ]
    },
    {
     "name": "stdout",
     "output_type": "stream",
     "text": [
      "                   all       1428       4552      0.748       0.72      0.754       0.49\n"
     ]
    },
    {
     "name": "stderr",
     "output_type": "stream",
     "text": [
      "\n"
     ]
    },
    {
     "name": "stdout",
     "output_type": "stream",
     "text": [
      "\n",
      "      Epoch    GPU_mem   box_loss   cls_loss   dfl_loss  Instances       Size\n"
     ]
    },
    {
     "name": "stderr",
     "output_type": "stream",
     "text": [
      "    109/250        12G      1.051     0.8079      1.278        108       1280: 100%|██████████| 311/311 [01:57<00:00,  \n",
      "                 Class     Images  Instances      Box(P          R      mAP50  mAP50-95): 100%|██████████| 45/45 [00:17"
     ]
    },
    {
     "name": "stdout",
     "output_type": "stream",
     "text": [
      "                   all       1428       4552      0.781      0.706      0.755      0.489\n"
     ]
    },
    {
     "name": "stderr",
     "output_type": "stream",
     "text": [
      "\n"
     ]
    },
    {
     "name": "stdout",
     "output_type": "stream",
     "text": [
      "\n",
      "      Epoch    GPU_mem   box_loss   cls_loss   dfl_loss  Instances       Size\n"
     ]
    },
    {
     "name": "stderr",
     "output_type": "stream",
     "text": [
      "    110/250      10.1G       1.04     0.7974      1.275         63       1280: 100%|██████████| 311/311 [01:55<00:00,  \n",
      "                 Class     Images  Instances      Box(P          R      mAP50  mAP50-95): 100%|██████████| 45/45 [00:15"
     ]
    },
    {
     "name": "stdout",
     "output_type": "stream",
     "text": [
      "                   all       1428       4552      0.767      0.715      0.754      0.492\n"
     ]
    },
    {
     "name": "stderr",
     "output_type": "stream",
     "text": [
      "\n"
     ]
    },
    {
     "name": "stdout",
     "output_type": "stream",
     "text": [
      "\n",
      "      Epoch    GPU_mem   box_loss   cls_loss   dfl_loss  Instances       Size\n"
     ]
    },
    {
     "name": "stderr",
     "output_type": "stream",
     "text": [
      "    111/250      10.7G      1.057     0.8152      1.282         50       1280: 100%|██████████| 311/311 [01:54<00:00,  \n",
      "                 Class     Images  Instances      Box(P          R      mAP50  mAP50-95): 100%|██████████| 45/45 [00:15"
     ]
    },
    {
     "name": "stdout",
     "output_type": "stream",
     "text": [
      "                   all       1428       4552      0.778      0.706      0.758      0.491\n"
     ]
    },
    {
     "name": "stderr",
     "output_type": "stream",
     "text": [
      "\n"
     ]
    },
    {
     "name": "stdout",
     "output_type": "stream",
     "text": [
      "\n",
      "      Epoch    GPU_mem   box_loss   cls_loss   dfl_loss  Instances       Size\n"
     ]
    },
    {
     "name": "stderr",
     "output_type": "stream",
     "text": [
      "    112/250      11.4G      1.044     0.8039      1.282         70       1280: 100%|██████████| 311/311 [01:57<00:00,  \n",
      "                 Class     Images  Instances      Box(P          R      mAP50  mAP50-95): 100%|██████████| 45/45 [00:14"
     ]
    },
    {
     "name": "stdout",
     "output_type": "stream",
     "text": [
      "                   all       1428       4552      0.778      0.705      0.756      0.494\n"
     ]
    },
    {
     "name": "stderr",
     "output_type": "stream",
     "text": [
      "\n"
     ]
    },
    {
     "name": "stdout",
     "output_type": "stream",
     "text": [
      "\n",
      "      Epoch    GPU_mem   box_loss   cls_loss   dfl_loss  Instances       Size\n"
     ]
    },
    {
     "name": "stderr",
     "output_type": "stream",
     "text": [
      "    113/250      10.4G      1.038     0.7952      1.277        100       1280: 100%|██████████| 311/311 [02:12<00:00,  \n",
      "                 Class     Images  Instances      Box(P          R      mAP50  mAP50-95): 100%|██████████| 45/45 [00:40"
     ]
    },
    {
     "name": "stdout",
     "output_type": "stream",
     "text": [
      "                   all       1428       4552      0.768       0.71      0.757      0.494\n"
     ]
    },
    {
     "name": "stderr",
     "output_type": "stream",
     "text": [
      "\n"
     ]
    },
    {
     "name": "stdout",
     "output_type": "stream",
     "text": [
      "\n",
      "      Epoch    GPU_mem   box_loss   cls_loss   dfl_loss  Instances       Size\n"
     ]
    },
    {
     "name": "stderr",
     "output_type": "stream",
     "text": [
      "    114/250      9.61G      1.037     0.7959       1.28         80       1280: 100%|██████████| 311/311 [01:53<00:00,  \n",
      "                 Class     Images  Instances      Box(P          R      mAP50  mAP50-95): 100%|██████████| 45/45 [00:14"
     ]
    },
    {
     "name": "stdout",
     "output_type": "stream",
     "text": [
      "                   all       1428       4552      0.776      0.707      0.758      0.497\n"
     ]
    },
    {
     "name": "stderr",
     "output_type": "stream",
     "text": [
      "\n"
     ]
    },
    {
     "name": "stdout",
     "output_type": "stream",
     "text": [
      "\n",
      "      Epoch    GPU_mem   box_loss   cls_loss   dfl_loss  Instances       Size\n"
     ]
    },
    {
     "name": "stderr",
     "output_type": "stream",
     "text": [
      "    115/250      11.9G      1.039     0.7915      1.278         84       1280: 100%|██████████| 311/311 [01:55<00:00,  \n",
      "                 Class     Images  Instances      Box(P          R      mAP50  mAP50-95): 100%|██████████| 45/45 [00:31"
     ]
    },
    {
     "name": "stdout",
     "output_type": "stream",
     "text": [
      "                   all       1428       4552      0.767      0.709      0.755      0.494\n"
     ]
    },
    {
     "name": "stderr",
     "output_type": "stream",
     "text": [
      "\n"
     ]
    },
    {
     "name": "stdout",
     "output_type": "stream",
     "text": [
      "\n",
      "      Epoch    GPU_mem   box_loss   cls_loss   dfl_loss  Instances       Size\n"
     ]
    },
    {
     "name": "stderr",
     "output_type": "stream",
     "text": [
      "    116/250      11.1G      1.038     0.7821      1.273         74       1280: 100%|██████████| 311/311 [01:54<00:00,  \n",
      "                 Class     Images  Instances      Box(P          R      mAP50  mAP50-95): 100%|██████████| 45/45 [00:16\n"
     ]
    },
    {
     "name": "stdout",
     "output_type": "stream",
     "text": [
      "                   all       1428       4552      0.776      0.703      0.757      0.499\n",
      "\n",
      "      Epoch    GPU_mem   box_loss   cls_loss   dfl_loss  Instances       Size\n"
     ]
    },
    {
     "name": "stderr",
     "output_type": "stream",
     "text": [
      "    117/250      11.3G      1.047     0.7987      1.279         89       1280: 100%|██████████| 311/311 [01:54<00:00,  \n",
      "                 Class     Images  Instances      Box(P          R      mAP50  mAP50-95): 100%|██████████| 45/45 [00:16\n"
     ]
    },
    {
     "name": "stdout",
     "output_type": "stream",
     "text": [
      "                   all       1428       4552      0.784      0.692       0.76      0.499\n",
      "\n",
      "      Epoch    GPU_mem   box_loss   cls_loss   dfl_loss  Instances       Size\n"
     ]
    },
    {
     "name": "stderr",
     "output_type": "stream",
     "text": [
      "    118/250      9.52G      1.016     0.7747      1.259        107       1280: 100%|██████████| 311/311 [01:54<00:00,  \n",
      "                 Class     Images  Instances      Box(P          R      mAP50  mAP50-95): 100%|██████████| 45/45 [00:14"
     ]
    },
    {
     "name": "stdout",
     "output_type": "stream",
     "text": [
      "                   all       1428       4552      0.785      0.697      0.761      0.502\n"
     ]
    },
    {
     "name": "stderr",
     "output_type": "stream",
     "text": [
      "\n"
     ]
    },
    {
     "name": "stdout",
     "output_type": "stream",
     "text": [
      "\n",
      "      Epoch    GPU_mem   box_loss   cls_loss   dfl_loss  Instances       Size\n"
     ]
    },
    {
     "name": "stderr",
     "output_type": "stream",
     "text": [
      "    119/250      11.1G       1.02     0.7707       1.26         67       1280: 100%|██████████| 311/311 [01:54<00:00,  \n",
      "                 Class     Images  Instances      Box(P          R      mAP50  mAP50-95): 100%|██████████| 45/45 [00:35"
     ]
    },
    {
     "name": "stdout",
     "output_type": "stream",
     "text": [
      "                   all       1428       4552       0.79      0.695      0.759        0.5\n"
     ]
    },
    {
     "name": "stderr",
     "output_type": "stream",
     "text": [
      "\n"
     ]
    },
    {
     "name": "stdout",
     "output_type": "stream",
     "text": [
      "\n",
      "      Epoch    GPU_mem   box_loss   cls_loss   dfl_loss  Instances       Size\n"
     ]
    },
    {
     "name": "stderr",
     "output_type": "stream",
     "text": [
      "    120/250      11.6G      1.031     0.7794      1.267         70       1280: 100%|██████████| 311/311 [01:55<00:00,  \n",
      "                 Class     Images  Instances      Box(P          R      mAP50  mAP50-95): 100%|██████████| 45/45 [00:17"
     ]
    },
    {
     "name": "stdout",
     "output_type": "stream",
     "text": [
      "                   all       1428       4552      0.773      0.702      0.758      0.498\n"
     ]
    },
    {
     "name": "stderr",
     "output_type": "stream",
     "text": [
      "\n"
     ]
    },
    {
     "name": "stdout",
     "output_type": "stream",
     "text": [
      "\n",
      "      Epoch    GPU_mem   box_loss   cls_loss   dfl_loss  Instances       Size\n"
     ]
    },
    {
     "name": "stderr",
     "output_type": "stream",
     "text": [
      "    121/250      10.4G      1.039     0.7891      1.267         53       1280: 100%|██████████| 311/311 [01:56<00:00,  \n",
      "                 Class     Images  Instances      Box(P          R      mAP50  mAP50-95): 100%|██████████| 45/45 [00:28"
     ]
    },
    {
     "name": "stdout",
     "output_type": "stream",
     "text": [
      "                   all       1428       4552       0.79      0.689      0.756      0.496\n"
     ]
    },
    {
     "name": "stderr",
     "output_type": "stream",
     "text": [
      "\n"
     ]
    },
    {
     "name": "stdout",
     "output_type": "stream",
     "text": [
      "\n",
      "      Epoch    GPU_mem   box_loss   cls_loss   dfl_loss  Instances       Size\n"
     ]
    },
    {
     "name": "stderr",
     "output_type": "stream",
     "text": [
      "    122/250      9.39G      1.024     0.7739      1.263         47       1280: 100%|██████████| 311/311 [01:54<00:00,  \n",
      "                 Class     Images  Instances      Box(P          R      mAP50  mAP50-95): 100%|██████████| 45/45 [00:15\n"
     ]
    },
    {
     "name": "stdout",
     "output_type": "stream",
     "text": [
      "                   all       1428       4552      0.769      0.707      0.754      0.495\n",
      "\n",
      "      Epoch    GPU_mem   box_loss   cls_loss   dfl_loss  Instances       Size\n"
     ]
    },
    {
     "name": "stderr",
     "output_type": "stream",
     "text": [
      "    123/250      11.7G      1.038     0.7868      1.273         93       1280: 100%|██████████| 311/311 [01:56<00:00,  \n",
      "                 Class     Images  Instances      Box(P          R      mAP50  mAP50-95): 100%|██████████| 45/45 [00:23"
     ]
    },
    {
     "name": "stdout",
     "output_type": "stream",
     "text": [
      "                   all       1428       4552      0.794      0.695      0.753      0.495\n"
     ]
    },
    {
     "name": "stderr",
     "output_type": "stream",
     "text": [
      "\n"
     ]
    },
    {
     "name": "stdout",
     "output_type": "stream",
     "text": [
      "\n",
      "      Epoch    GPU_mem   box_loss   cls_loss   dfl_loss  Instances       Size\n"
     ]
    },
    {
     "name": "stderr",
     "output_type": "stream",
     "text": [
      "    124/250      11.5G      1.022     0.7744      1.265         68       1280: 100%|██████████| 311/311 [01:56<00:00,  \n",
      "                 Class     Images  Instances      Box(P          R      mAP50  mAP50-95): 100%|██████████| 45/45 [00:16"
     ]
    },
    {
     "name": "stdout",
     "output_type": "stream",
     "text": [
      "                   all       1428       4552      0.801      0.695       0.76      0.498\n"
     ]
    },
    {
     "name": "stderr",
     "output_type": "stream",
     "text": [
      "\n"
     ]
    },
    {
     "name": "stdout",
     "output_type": "stream",
     "text": [
      "\n",
      "      Epoch    GPU_mem   box_loss   cls_loss   dfl_loss  Instances       Size\n"
     ]
    },
    {
     "name": "stderr",
     "output_type": "stream",
     "text": [
      "    125/250        12G      1.027     0.7767       1.25         45       1280: 100%|██████████| 311/311 [08:42<00:00,  \n",
      "                 Class     Images  Instances      Box(P          R      mAP50  mAP50-95): 100%|██████████| 45/45 [00:33"
     ]
    },
    {
     "name": "stdout",
     "output_type": "stream",
     "text": [
      "                   all       1428       4552      0.765      0.722      0.763      0.499\n"
     ]
    },
    {
     "name": "stderr",
     "output_type": "stream",
     "text": [
      "\n"
     ]
    },
    {
     "name": "stdout",
     "output_type": "stream",
     "text": [
      "\n",
      "      Epoch    GPU_mem   box_loss   cls_loss   dfl_loss  Instances       Size\n"
     ]
    },
    {
     "name": "stderr",
     "output_type": "stream",
     "text": [
      "    126/250      11.9G      1.015     0.7601      1.256         74       1280: 100%|██████████| 311/311 [01:56<00:00,  \n",
      "                 Class     Images  Instances      Box(P          R      mAP50  mAP50-95): 100%|██████████| 45/45 [00:17"
     ]
    },
    {
     "name": "stdout",
     "output_type": "stream",
     "text": [
      "                   all       1428       4552      0.772       0.71      0.761      0.501\n"
     ]
    },
    {
     "name": "stderr",
     "output_type": "stream",
     "text": [
      "\n"
     ]
    },
    {
     "name": "stdout",
     "output_type": "stream",
     "text": [
      "\n",
      "      Epoch    GPU_mem   box_loss   cls_loss   dfl_loss  Instances       Size\n"
     ]
    },
    {
     "name": "stderr",
     "output_type": "stream",
     "text": [
      "    127/250      11.4G      1.009     0.7517      1.248         64       1280: 100%|██████████| 311/311 [02:32<00:00,  \n",
      "                 Class     Images  Instances      Box(P          R      mAP50  mAP50-95): 100%|██████████| 45/45 [00:36\n"
     ]
    },
    {
     "name": "stdout",
     "output_type": "stream",
     "text": [
      "                   all       1428       4552      0.782      0.715      0.763      0.502\n",
      "\n",
      "      Epoch    GPU_mem   box_loss   cls_loss   dfl_loss  Instances       Size\n"
     ]
    },
    {
     "name": "stderr",
     "output_type": "stream",
     "text": [
      "    128/250      12.8G      1.009     0.7589      1.249         90       1280: 100%|██████████| 311/311 [01:56<00:00,  \n",
      "                 Class     Images  Instances      Box(P          R      mAP50  mAP50-95): 100%|██████████| 45/45 [00:17\n"
     ]
    },
    {
     "name": "stdout",
     "output_type": "stream",
     "text": [
      "                   all       1428       4552      0.784       0.71      0.762      0.502\n",
      "\n",
      "      Epoch    GPU_mem   box_loss   cls_loss   dfl_loss  Instances       Size\n"
     ]
    },
    {
     "name": "stderr",
     "output_type": "stream",
     "text": [
      "    129/250      12.9G      1.012     0.7603      1.252         97       1280: 100%|██████████| 311/311 [01:56<00:00,  \n",
      "                 Class     Images  Instances      Box(P          R      mAP50  mAP50-95): 100%|██████████| 45/45 [00:18"
     ]
    },
    {
     "name": "stdout",
     "output_type": "stream",
     "text": [
      "                   all       1428       4552       0.78      0.712      0.762      0.501\n"
     ]
    },
    {
     "name": "stderr",
     "output_type": "stream",
     "text": [
      "\n"
     ]
    },
    {
     "name": "stdout",
     "output_type": "stream",
     "text": [
      "\n",
      "      Epoch    GPU_mem   box_loss   cls_loss   dfl_loss  Instances       Size\n"
     ]
    },
    {
     "name": "stderr",
     "output_type": "stream",
     "text": [
      "    130/250        11G      1.009     0.7623      1.251        131       1280: 100%|██████████| 311/311 [01:54<00:00,  \n",
      "                 Class     Images  Instances      Box(P          R      mAP50  mAP50-95): 100%|██████████| 45/45 [00:29"
     ]
    },
    {
     "name": "stdout",
     "output_type": "stream",
     "text": [
      "                   all       1428       4552      0.777      0.705       0.76      0.501\n"
     ]
    },
    {
     "name": "stderr",
     "output_type": "stream",
     "text": [
      "\n"
     ]
    },
    {
     "name": "stdout",
     "output_type": "stream",
     "text": [
      "\n",
      "      Epoch    GPU_mem   box_loss   cls_loss   dfl_loss  Instances       Size\n"
     ]
    },
    {
     "name": "stderr",
     "output_type": "stream",
     "text": [
      "    131/250      10.5G      0.996     0.7428       1.24         62       1280: 100%|██████████| 311/311 [01:53<00:00,  \n",
      "                 Class     Images  Instances      Box(P          R      mAP50  mAP50-95): 100%|██████████| 45/45 [00:17"
     ]
    },
    {
     "name": "stdout",
     "output_type": "stream",
     "text": [
      "                   all       1428       4552      0.773      0.713      0.758      0.501\n"
     ]
    },
    {
     "name": "stderr",
     "output_type": "stream",
     "text": [
      "\n"
     ]
    },
    {
     "name": "stdout",
     "output_type": "stream",
     "text": [
      "\n",
      "      Epoch    GPU_mem   box_loss   cls_loss   dfl_loss  Instances       Size\n"
     ]
    },
    {
     "name": "stderr",
     "output_type": "stream",
     "text": [
      "    132/250      10.1G     0.9967     0.7437      1.233         64       1280: 100%|██████████| 311/311 [01:53<00:00,  \n",
      "                 Class     Images  Instances      Box(P          R      mAP50  mAP50-95): 100%|██████████| 45/45 [00:32\n"
     ]
    },
    {
     "name": "stdout",
     "output_type": "stream",
     "text": [
      "                   all       1428       4552       0.77       0.72      0.758      0.499\n",
      "\n",
      "      Epoch    GPU_mem   box_loss   cls_loss   dfl_loss  Instances       Size\n"
     ]
    },
    {
     "name": "stderr",
     "output_type": "stream",
     "text": [
      "    133/250        13G     0.9975      0.747      1.243         83       1280: 100%|██████████| 311/311 [01:57<00:00,  \n",
      "                 Class     Images  Instances      Box(P          R      mAP50  mAP50-95): 100%|██████████| 45/45 [00:15"
     ]
    },
    {
     "name": "stdout",
     "output_type": "stream",
     "text": [
      "                   all       1428       4552      0.774      0.716      0.757      0.496\n"
     ]
    },
    {
     "name": "stderr",
     "output_type": "stream",
     "text": [
      "\n"
     ]
    },
    {
     "name": "stdout",
     "output_type": "stream",
     "text": [
      "\n",
      "      Epoch    GPU_mem   box_loss   cls_loss   dfl_loss  Instances       Size\n"
     ]
    },
    {
     "name": "stderr",
     "output_type": "stream",
     "text": [
      "    134/250      10.7G     0.9921     0.7334      1.239        118       1280: 100%|██████████| 311/311 [02:15<00:00,  \n",
      "                 Class     Images  Instances      Box(P          R      mAP50  mAP50-95): 100%|██████████| 45/45 [00:34"
     ]
    },
    {
     "name": "stdout",
     "output_type": "stream",
     "text": [
      "                   all       1428       4552      0.775      0.713      0.756        0.5\n"
     ]
    },
    {
     "name": "stderr",
     "output_type": "stream",
     "text": [
      "\n"
     ]
    },
    {
     "name": "stdout",
     "output_type": "stream",
     "text": [
      "\n",
      "      Epoch    GPU_mem   box_loss   cls_loss   dfl_loss  Instances       Size\n"
     ]
    },
    {
     "name": "stderr",
     "output_type": "stream",
     "text": [
      "    135/250        13G      0.996     0.7434      1.241         50       1280: 100%|██████████| 311/311 [01:57<00:00,  \n",
      "                 Class     Images  Instances      Box(P          R      mAP50  mAP50-95): 100%|██████████| 45/45 [00:14"
     ]
    },
    {
     "name": "stdout",
     "output_type": "stream",
     "text": [
      "                   all       1428       4552       0.78      0.707      0.757        0.5\n"
     ]
    },
    {
     "name": "stderr",
     "output_type": "stream",
     "text": [
      "\n"
     ]
    },
    {
     "name": "stdout",
     "output_type": "stream",
     "text": [
      "\n",
      "      Epoch    GPU_mem   box_loss   cls_loss   dfl_loss  Instances       Size\n"
     ]
    },
    {
     "name": "stderr",
     "output_type": "stream",
     "text": [
      "    136/250      10.7G      1.007     0.7473      1.238         75       1280: 100%|██████████| 311/311 [02:21<00:00,  \n",
      "                 Class     Images  Instances      Box(P          R      mAP50  mAP50-95): 100%|██████████| 45/45 [00:33"
     ]
    },
    {
     "name": "stdout",
     "output_type": "stream",
     "text": [
      "                   all       1428       4552       0.79      0.699      0.756      0.498\n"
     ]
    },
    {
     "name": "stderr",
     "output_type": "stream",
     "text": [
      "\n"
     ]
    },
    {
     "name": "stdout",
     "output_type": "stream",
     "text": [
      "\n",
      "      Epoch    GPU_mem   box_loss   cls_loss   dfl_loss  Instances       Size\n"
     ]
    },
    {
     "name": "stderr",
     "output_type": "stream",
     "text": [
      "    137/250      11.2G     0.9882     0.7288       1.23        104       1280: 100%|██████████| 311/311 [01:56<00:00,  \n",
      "                 Class     Images  Instances      Box(P          R      mAP50  mAP50-95): 100%|██████████| 45/45 [00:16"
     ]
    },
    {
     "name": "stdout",
     "output_type": "stream",
     "text": [
      "                   all       1428       4552      0.787      0.697      0.757      0.499\n"
     ]
    },
    {
     "name": "stderr",
     "output_type": "stream",
     "text": [
      "\n"
     ]
    },
    {
     "name": "stdout",
     "output_type": "stream",
     "text": [
      "\n",
      "      Epoch    GPU_mem   box_loss   cls_loss   dfl_loss  Instances       Size\n"
     ]
    },
    {
     "name": "stderr",
     "output_type": "stream",
     "text": [
      "    138/250      10.8G     0.9873     0.7303      1.228         70       1280: 100%|██████████| 311/311 [01:54<00:00,  \n",
      "                 Class     Images  Instances      Box(P          R      mAP50  mAP50-95): 100%|██████████| 45/45 [00:34\n"
     ]
    },
    {
     "name": "stdout",
     "output_type": "stream",
     "text": [
      "                   all       1428       4552      0.759      0.718      0.755      0.497\n",
      "\n",
      "      Epoch    GPU_mem   box_loss   cls_loss   dfl_loss  Instances       Size\n"
     ]
    },
    {
     "name": "stderr",
     "output_type": "stream",
     "text": [
      "    139/250      11.7G     0.9851     0.7276      1.232         51       1280: 100%|██████████| 311/311 [01:56<00:00,  \n",
      "                 Class     Images  Instances      Box(P          R      mAP50  mAP50-95): 100%|██████████| 45/45 [00:17\n"
     ]
    },
    {
     "name": "stdout",
     "output_type": "stream",
     "text": [
      "                   all       1428       4552      0.774      0.703      0.751      0.496\n",
      "\n",
      "      Epoch    GPU_mem   box_loss   cls_loss   dfl_loss  Instances       Size\n"
     ]
    },
    {
     "name": "stderr",
     "output_type": "stream",
     "text": [
      "    140/250      10.4G      0.983     0.7306      1.236         82       1280: 100%|██████████| 311/311 [02:42<00:00,  \n",
      "                 Class     Images  Instances      Box(P          R      mAP50  mAP50-95): 100%|██████████| 45/45 [00:32\n"
     ]
    },
    {
     "name": "stdout",
     "output_type": "stream",
     "text": [
      "                   all       1428       4552      0.788      0.698      0.753      0.496\n",
      "\n",
      "      Epoch    GPU_mem   box_loss   cls_loss   dfl_loss  Instances       Size\n"
     ]
    },
    {
     "name": "stderr",
     "output_type": "stream",
     "text": [
      "    141/250      11.3G     0.9918     0.7275      1.229        108       1280: 100%|██████████| 311/311 [01:55<00:00,  \n",
      "                 Class     Images  Instances      Box(P          R      mAP50  mAP50-95): 100%|██████████| 45/45 [00:16\n"
     ]
    },
    {
     "name": "stdout",
     "output_type": "stream",
     "text": [
      "                   all       1428       4552       0.79      0.696      0.754      0.496\n",
      "\n",
      "      Epoch    GPU_mem   box_loss   cls_loss   dfl_loss  Instances       Size\n"
     ]
    },
    {
     "name": "stderr",
     "output_type": "stream",
     "text": [
      "    142/250      10.2G     0.9747     0.7217       1.23         76       1280: 100%|██████████| 311/311 [01:55<00:00,  \n",
      "                 Class     Images  Instances      Box(P          R      mAP50  mAP50-95): 100%|██████████| 45/45 [00:15"
     ]
    },
    {
     "name": "stdout",
     "output_type": "stream",
     "text": [
      "                   all       1428       4552      0.773      0.705      0.754      0.497\n"
     ]
    },
    {
     "name": "stderr",
     "output_type": "stream",
     "text": [
      "\n"
     ]
    },
    {
     "name": "stdout",
     "output_type": "stream",
     "text": [
      "\n",
      "      Epoch    GPU_mem   box_loss   cls_loss   dfl_loss  Instances       Size\n"
     ]
    },
    {
     "name": "stderr",
     "output_type": "stream",
     "text": [
      "    143/250      10.3G     0.9805     0.7246      1.224         64       1280: 100%|██████████| 311/311 [01:54<00:00,  \n",
      "                 Class     Images  Instances      Box(P          R      mAP50  mAP50-95): 100%|██████████| 45/45 [00:16"
     ]
    },
    {
     "name": "stdout",
     "output_type": "stream",
     "text": [
      "                   all       1428       4552      0.794      0.695      0.754      0.496\n"
     ]
    },
    {
     "name": "stderr",
     "output_type": "stream",
     "text": [
      "\n"
     ]
    },
    {
     "name": "stdout",
     "output_type": "stream",
     "text": [
      "\n",
      "      Epoch    GPU_mem   box_loss   cls_loss   dfl_loss  Instances       Size\n"
     ]
    },
    {
     "name": "stderr",
     "output_type": "stream",
     "text": [
      "    144/250      9.64G     0.9765     0.7215      1.223         61       1280: 100%|██████████| 311/311 [01:53<00:00,  \n",
      "                 Class     Images  Instances      Box(P          R      mAP50  mAP50-95): 100%|██████████| 45/45 [00:28\n"
     ]
    },
    {
     "name": "stdout",
     "output_type": "stream",
     "text": [
      "                   all       1428       4552      0.792      0.697      0.754      0.498\n",
      "\n",
      "      Epoch    GPU_mem   box_loss   cls_loss   dfl_loss  Instances       Size\n"
     ]
    },
    {
     "name": "stderr",
     "output_type": "stream",
     "text": [
      "    145/250      10.5G     0.9676     0.7189      1.219         71       1280: 100%|██████████| 311/311 [01:54<00:00,  \n",
      "                 Class     Images  Instances      Box(P          R      mAP50  mAP50-95): 100%|██████████| 45/45 [00:15"
     ]
    },
    {
     "name": "stdout",
     "output_type": "stream",
     "text": [
      "                   all       1428       4552      0.795      0.697      0.755        0.5\n"
     ]
    },
    {
     "name": "stderr",
     "output_type": "stream",
     "text": [
      "\n"
     ]
    },
    {
     "name": "stdout",
     "output_type": "stream",
     "text": [
      "\n",
      "      Epoch    GPU_mem   box_loss   cls_loss   dfl_loss  Instances       Size\n"
     ]
    },
    {
     "name": "stderr",
     "output_type": "stream",
     "text": [
      "    146/250        11G     0.9678     0.7144      1.223         88       1280: 100%|██████████| 311/311 [01:56<00:00,  \n",
      "                 Class     Images  Instances      Box(P          R      mAP50  mAP50-95): 100%|██████████| 45/45 [00:24\n"
     ]
    },
    {
     "name": "stdout",
     "output_type": "stream",
     "text": [
      "                   all       1428       4552      0.778      0.708      0.756      0.501\n",
      "\n",
      "      Epoch    GPU_mem   box_loss   cls_loss   dfl_loss  Instances       Size\n"
     ]
    },
    {
     "name": "stderr",
     "output_type": "stream",
     "text": [
      "    147/250      11.6G     0.9792      0.715      1.224         55       1280: 100%|██████████| 311/311 [01:54<00:00,  \n",
      "                 Class     Images  Instances      Box(P          R      mAP50  mAP50-95): 100%|██████████| 45/45 [00:17\n"
     ]
    },
    {
     "name": "stdout",
     "output_type": "stream",
     "text": [
      "                   all       1428       4552      0.785      0.705      0.759      0.505\n",
      "\n",
      "      Epoch    GPU_mem   box_loss   cls_loss   dfl_loss  Instances       Size\n"
     ]
    },
    {
     "name": "stderr",
     "output_type": "stream",
     "text": [
      "    148/250      11.3G     0.9696     0.7102      1.216         64       1280: 100%|██████████| 311/311 [01:55<00:00,  \n",
      "                 Class     Images  Instances      Box(P          R      mAP50  mAP50-95): 100%|██████████| 45/45 [00:29"
     ]
    },
    {
     "name": "stdout",
     "output_type": "stream",
     "text": [
      "                   all       1428       4552      0.772      0.718      0.759      0.505\n"
     ]
    },
    {
     "name": "stderr",
     "output_type": "stream",
     "text": [
      "\n"
     ]
    },
    {
     "name": "stdout",
     "output_type": "stream",
     "text": [
      "\n",
      "      Epoch    GPU_mem   box_loss   cls_loss   dfl_loss  Instances       Size\n"
     ]
    },
    {
     "name": "stderr",
     "output_type": "stream",
     "text": [
      "    149/250      9.83G     0.9703     0.7183      1.227         57       1280: 100%|██████████| 311/311 [01:54<00:00,  \n",
      "                 Class     Images  Instances      Box(P          R      mAP50  mAP50-95): 100%|██████████| 45/45 [00:15\n"
     ]
    },
    {
     "name": "stdout",
     "output_type": "stream",
     "text": [
      "                   all       1428       4552       0.76       0.72       0.76      0.503\n",
      "\n",
      "      Epoch    GPU_mem   box_loss   cls_loss   dfl_loss  Instances       Size\n"
     ]
    },
    {
     "name": "stderr",
     "output_type": "stream",
     "text": [
      "    150/250      10.6G     0.9701      0.714      1.218         85       1280: 100%|██████████| 311/311 [01:54<00:00,  \n",
      "                 Class     Images  Instances      Box(P          R      mAP50  mAP50-95): 100%|██████████| 45/45 [00:16\n"
     ]
    },
    {
     "name": "stdout",
     "output_type": "stream",
     "text": [
      "                   all       1428       4552      0.798      0.699       0.76      0.503\n",
      "\n",
      "      Epoch    GPU_mem   box_loss   cls_loss   dfl_loss  Instances       Size\n"
     ]
    },
    {
     "name": "stderr",
     "output_type": "stream",
     "text": [
      "    151/250      10.4G      0.949     0.6996      1.207         73       1280: 100%|██████████| 311/311 [01:53<00:00,  \n",
      "                 Class     Images  Instances      Box(P          R      mAP50  mAP50-95): 100%|██████████| 45/45 [00:15"
     ]
    },
    {
     "name": "stdout",
     "output_type": "stream",
     "text": [
      "                   all       1428       4552      0.802      0.692      0.758      0.503\n"
     ]
    },
    {
     "name": "stderr",
     "output_type": "stream",
     "text": [
      "\n"
     ]
    },
    {
     "name": "stdout",
     "output_type": "stream",
     "text": [
      "\n",
      "      Epoch    GPU_mem   box_loss   cls_loss   dfl_loss  Instances       Size\n"
     ]
    },
    {
     "name": "stderr",
     "output_type": "stream",
     "text": [
      "    152/250      11.3G     0.9605     0.7065      1.209        147       1280: 100%|██████████| 311/311 [01:55<00:00,  \n",
      "                 Class     Images  Instances      Box(P          R      mAP50  mAP50-95): 100%|██████████| 45/45 [00:29"
     ]
    },
    {
     "name": "stdout",
     "output_type": "stream",
     "text": [
      "                   all       1428       4552      0.779      0.704      0.757      0.502\n"
     ]
    },
    {
     "name": "stderr",
     "output_type": "stream",
     "text": [
      "\n"
     ]
    },
    {
     "name": "stdout",
     "output_type": "stream",
     "text": [
      "\n",
      "      Epoch    GPU_mem   box_loss   cls_loss   dfl_loss  Instances       Size\n"
     ]
    },
    {
     "name": "stderr",
     "output_type": "stream",
     "text": [
      "    153/250      10.6G     0.9558     0.6949      1.211         92       1280: 100%|██████████| 311/311 [01:54<00:00,  \n",
      "                 Class     Images  Instances      Box(P          R      mAP50  mAP50-95): 100%|██████████| 45/45 [00:13\n"
     ]
    },
    {
     "name": "stdout",
     "output_type": "stream",
     "text": [
      "                   all       1428       4552       0.79      0.699      0.756      0.501\n",
      "\n",
      "      Epoch    GPU_mem   box_loss   cls_loss   dfl_loss  Instances       Size\n"
     ]
    },
    {
     "name": "stderr",
     "output_type": "stream",
     "text": [
      "    154/250      10.9G      0.959     0.6944      1.206         62       1280: 100%|██████████| 311/311 [01:55<00:00,  \n",
      "                 Class     Images  Instances      Box(P          R      mAP50  mAP50-95): 100%|██████████| 45/45 [00:27"
     ]
    },
    {
     "name": "stdout",
     "output_type": "stream",
     "text": [
      "                   all       1428       4552      0.794      0.697      0.754      0.499\n"
     ]
    },
    {
     "name": "stderr",
     "output_type": "stream",
     "text": [
      "\n"
     ]
    },
    {
     "name": "stdout",
     "output_type": "stream",
     "text": [
      "\n",
      "      Epoch    GPU_mem   box_loss   cls_loss   dfl_loss  Instances       Size\n"
     ]
    },
    {
     "name": "stderr",
     "output_type": "stream",
     "text": [
      "    155/250      10.3G     0.9357     0.6895      1.203         62       1280: 100%|██████████| 311/311 [01:54<00:00,  \n",
      "                 Class     Images  Instances      Box(P          R      mAP50  mAP50-95): 100%|██████████| 45/45 [00:15\n"
     ]
    },
    {
     "name": "stdout",
     "output_type": "stream",
     "text": [
      "                   all       1428       4552        0.8      0.697      0.754      0.498\n",
      "\n",
      "      Epoch    GPU_mem   box_loss   cls_loss   dfl_loss  Instances       Size\n"
     ]
    },
    {
     "name": "stderr",
     "output_type": "stream",
     "text": [
      "    156/250      10.6G     0.9461     0.6886        1.2         48       1280: 100%|██████████| 311/311 [01:53<00:00,  \n",
      "                 Class     Images  Instances      Box(P          R      mAP50  mAP50-95): 100%|██████████| 45/45 [00:16"
     ]
    },
    {
     "name": "stdout",
     "output_type": "stream",
     "text": [
      "                   all       1428       4552      0.797        0.7      0.754      0.498\n"
     ]
    },
    {
     "name": "stderr",
     "output_type": "stream",
     "text": [
      "\n"
     ]
    },
    {
     "name": "stdout",
     "output_type": "stream",
     "text": [
      "\n",
      "      Epoch    GPU_mem   box_loss   cls_loss   dfl_loss  Instances       Size\n"
     ]
    },
    {
     "name": "stderr",
     "output_type": "stream",
     "text": [
      "    157/250      11.8G     0.9413     0.6823      1.207         52       1280: 100%|██████████| 311/311 [01:58<00:00,  \n",
      "                 Class     Images  Instances      Box(P          R      mAP50  mAP50-95): 100%|██████████| 45/45 [00:16"
     ]
    },
    {
     "name": "stdout",
     "output_type": "stream",
     "text": [
      "                   all       1428       4552      0.793      0.704      0.754      0.498\n"
     ]
    },
    {
     "name": "stderr",
     "output_type": "stream",
     "text": [
      "\n"
     ]
    },
    {
     "name": "stdout",
     "output_type": "stream",
     "text": [
      "\n",
      "      Epoch    GPU_mem   box_loss   cls_loss   dfl_loss  Instances       Size\n"
     ]
    },
    {
     "name": "stderr",
     "output_type": "stream",
     "text": [
      "    158/250      10.9G     0.9613     0.6922      1.199         55       1280: 100%|██████████| 311/311 [01:56<00:00,  \n",
      "                 Class     Images  Instances      Box(P          R      mAP50  mAP50-95): 100%|██████████| 45/45 [00:32"
     ]
    },
    {
     "name": "stdout",
     "output_type": "stream",
     "text": [
      "                   all       1428       4552      0.791      0.703      0.753      0.498\n"
     ]
    },
    {
     "name": "stderr",
     "output_type": "stream",
     "text": [
      "\n"
     ]
    },
    {
     "name": "stdout",
     "output_type": "stream",
     "text": [
      "\n",
      "      Epoch    GPU_mem   box_loss   cls_loss   dfl_loss  Instances       Size\n"
     ]
    },
    {
     "name": "stderr",
     "output_type": "stream",
     "text": [
      "    159/250      11.1G     0.9309     0.6755      1.197         68       1280: 100%|██████████| 311/311 [01:54<00:00,  \n",
      "                 Class     Images  Instances      Box(P          R      mAP50  mAP50-95): 100%|██████████| 45/45 [00:15"
     ]
    },
    {
     "name": "stdout",
     "output_type": "stream",
     "text": [
      "                   all       1428       4552      0.792      0.703      0.754      0.497\n"
     ]
    },
    {
     "name": "stderr",
     "output_type": "stream",
     "text": [
      "\n"
     ]
    },
    {
     "name": "stdout",
     "output_type": "stream",
     "text": [
      "\n",
      "      Epoch    GPU_mem   box_loss   cls_loss   dfl_loss  Instances       Size\n"
     ]
    },
    {
     "name": "stderr",
     "output_type": "stream",
     "text": [
      "    160/250      11.8G     0.9356     0.6774      1.197         74       1280: 100%|██████████| 311/311 [04:17<00:00,  \n",
      "                 Class     Images  Instances      Box(P          R      mAP50  mAP50-95): 100%|██████████| 45/45 [00:44"
     ]
    },
    {
     "name": "stdout",
     "output_type": "stream",
     "text": [
      "                   all       1428       4552       0.79      0.702      0.754      0.498\n"
     ]
    },
    {
     "name": "stderr",
     "output_type": "stream",
     "text": [
      "\n"
     ]
    },
    {
     "name": "stdout",
     "output_type": "stream",
     "text": [
      "\n",
      "      Epoch    GPU_mem   box_loss   cls_loss   dfl_loss  Instances       Size\n"
     ]
    },
    {
     "name": "stderr",
     "output_type": "stream",
     "text": [
      "    161/250      11.5G     0.9395     0.6817      1.197         61       1280: 100%|██████████| 311/311 [02:09<00:00,  \n",
      "                 Class     Images  Instances      Box(P          R      mAP50  mAP50-95): 100%|██████████| 45/45 [00:16\n"
     ]
    },
    {
     "name": "stdout",
     "output_type": "stream",
     "text": [
      "                   all       1428       4552      0.799      0.703      0.755      0.498\n",
      "\n",
      "      Epoch    GPU_mem   box_loss   cls_loss   dfl_loss  Instances       Size\n"
     ]
    },
    {
     "name": "stderr",
     "output_type": "stream",
     "text": [
      "    162/250      10.8G     0.9399     0.6727      1.198         85       1280: 100%|██████████| 311/311 [01:54<00:00,  \n",
      "                 Class     Images  Instances      Box(P          R      mAP50  mAP50-95): 100%|██████████| 45/45 [00:15\n"
     ]
    },
    {
     "name": "stdout",
     "output_type": "stream",
     "text": [
      "                   all       1428       4552       0.79      0.708      0.756      0.499\n",
      "\n",
      "      Epoch    GPU_mem   box_loss   cls_loss   dfl_loss  Instances       Size\n"
     ]
    },
    {
     "name": "stderr",
     "output_type": "stream",
     "text": [
      "    163/250      11.1G     0.9354     0.6794      1.201        178       1280: 100%|██████████| 311/311 [01:54<00:00,  \n",
      "                 Class     Images  Instances      Box(P          R      mAP50  mAP50-95): 100%|██████████| 45/45 [00:17"
     ]
    },
    {
     "name": "stdout",
     "output_type": "stream",
     "text": [
      "                   all       1428       4552      0.788       0.71      0.756        0.5\n"
     ]
    },
    {
     "name": "stderr",
     "output_type": "stream",
     "text": [
      "\n"
     ]
    },
    {
     "name": "stdout",
     "output_type": "stream",
     "text": [
      "\n",
      "      Epoch    GPU_mem   box_loss   cls_loss   dfl_loss  Instances       Size\n"
     ]
    },
    {
     "name": "stderr",
     "output_type": "stream",
     "text": [
      "    164/250      11.2G     0.9414     0.6833      1.195         59       1280: 100%|██████████| 311/311 [01:54<00:00,  \n",
      "                 Class     Images  Instances      Box(P          R      mAP50  mAP50-95): 100%|██████████| 45/45 [00:17"
     ]
    },
    {
     "name": "stdout",
     "output_type": "stream",
     "text": [
      "                   all       1428       4552      0.787      0.706      0.756        0.5\n"
     ]
    },
    {
     "name": "stderr",
     "output_type": "stream",
     "text": [
      "\n"
     ]
    },
    {
     "name": "stdout",
     "output_type": "stream",
     "text": [
      "\n",
      "      Epoch    GPU_mem   box_loss   cls_loss   dfl_loss  Instances       Size\n"
     ]
    },
    {
     "name": "stderr",
     "output_type": "stream",
     "text": [
      "    165/250      12.2G     0.9402     0.6731       1.19         56       1280: 100%|██████████| 311/311 [01:56<00:00,  \n",
      "                 Class     Images  Instances      Box(P          R      mAP50  mAP50-95): 100%|██████████| 45/45 [00:15\n"
     ]
    },
    {
     "name": "stdout",
     "output_type": "stream",
     "text": [
      "                   all       1428       4552      0.785      0.706      0.755      0.499\n",
      "\n",
      "      Epoch    GPU_mem   box_loss   cls_loss   dfl_loss  Instances       Size\n"
     ]
    },
    {
     "name": "stderr",
     "output_type": "stream",
     "text": [
      "    166/250      11.1G     0.9221     0.6659      1.189         35       1280: 100%|██████████| 311/311 [01:54<00:00,  \n",
      "                 Class     Images  Instances      Box(P          R      mAP50  mAP50-95): 100%|██████████| 45/45 [00:31"
     ]
    },
    {
     "name": "stdout",
     "output_type": "stream",
     "text": [
      "                   all       1428       4552      0.778      0.711      0.757      0.499\n"
     ]
    },
    {
     "name": "stderr",
     "output_type": "stream",
     "text": [
      "\n"
     ]
    },
    {
     "name": "stdout",
     "output_type": "stream",
     "text": [
      "\n",
      "      Epoch    GPU_mem   box_loss   cls_loss   dfl_loss  Instances       Size\n"
     ]
    },
    {
     "name": "stderr",
     "output_type": "stream",
     "text": [
      "    167/250      11.8G      0.936      0.669      1.191         82       1280: 100%|██████████| 311/311 [01:55<00:00,  \n",
      "                 Class     Images  Instances      Box(P          R      mAP50  mAP50-95): 100%|██████████| 45/45 [00:16\n"
     ]
    },
    {
     "name": "stdout",
     "output_type": "stream",
     "text": [
      "                   all       1428       4552      0.769      0.718      0.757        0.5\n",
      "\n",
      "      Epoch    GPU_mem   box_loss   cls_loss   dfl_loss  Instances       Size\n"
     ]
    },
    {
     "name": "stderr",
     "output_type": "stream",
     "text": [
      "    168/250      11.5G      0.936     0.6724      1.191         69       1280: 100%|██████████| 311/311 [01:54<00:00,  \n",
      "                 Class     Images  Instances      Box(P          R      mAP50  mAP50-95): 100%|██████████| 45/45 [00:27"
     ]
    },
    {
     "name": "stdout",
     "output_type": "stream",
     "text": [
      "                   all       1428       4552      0.804      0.693      0.756      0.502\n"
     ]
    },
    {
     "name": "stderr",
     "output_type": "stream",
     "text": [
      "\n"
     ]
    },
    {
     "name": "stdout",
     "output_type": "stream",
     "text": [
      "\n",
      "      Epoch    GPU_mem   box_loss   cls_loss   dfl_loss  Instances       Size\n"
     ]
    },
    {
     "name": "stderr",
     "output_type": "stream",
     "text": [
      "    169/250      10.8G     0.9332     0.6728       1.19        142       1280: 100%|██████████| 311/311 [01:55<00:00,  \n",
      "                 Class     Images  Instances      Box(P          R      mAP50  mAP50-95): 100%|██████████| 45/45 [00:15"
     ]
    },
    {
     "name": "stdout",
     "output_type": "stream",
     "text": [
      "                   all       1428       4552      0.797      0.698      0.757      0.502\n"
     ]
    },
    {
     "name": "stderr",
     "output_type": "stream",
     "text": [
      "\n"
     ]
    },
    {
     "name": "stdout",
     "output_type": "stream",
     "text": [
      "\n",
      "      Epoch    GPU_mem   box_loss   cls_loss   dfl_loss  Instances       Size\n"
     ]
    },
    {
     "name": "stderr",
     "output_type": "stream",
     "text": [
      "    170/250      11.5G     0.9206     0.6643      1.188         66       1280: 100%|██████████| 311/311 [01:55<00:00,  \n",
      "                 Class     Images  Instances      Box(P          R      mAP50  mAP50-95): 100%|██████████| 45/45 [00:17\n"
     ]
    },
    {
     "name": "stdout",
     "output_type": "stream",
     "text": [
      "                   all       1428       4552      0.802      0.697      0.757      0.503\n",
      "\n",
      "      Epoch    GPU_mem   box_loss   cls_loss   dfl_loss  Instances       Size\n"
     ]
    },
    {
     "name": "stderr",
     "output_type": "stream",
     "text": [
      "    171/250      10.1G     0.9098     0.6508      1.179         59       1280: 100%|██████████| 311/311 [01:54<00:00,  \n",
      "                 Class     Images  Instances      Box(P          R      mAP50  mAP50-95): 100%|██████████| 45/45 [00:17\n"
     ]
    },
    {
     "name": "stdout",
     "output_type": "stream",
     "text": [
      "                   all       1428       4552      0.804        0.7      0.757      0.504\n",
      "\n",
      "      Epoch    GPU_mem   box_loss   cls_loss   dfl_loss  Instances       Size\n"
     ]
    },
    {
     "name": "stderr",
     "output_type": "stream",
     "text": [
      "    172/250      10.6G     0.9264     0.6668       1.18         42       1280: 100%|██████████| 311/311 [01:55<00:00,  \n",
      "                 Class     Images  Instances      Box(P          R      mAP50  mAP50-95): 100%|██████████| 45/45 [00:16"
     ]
    },
    {
     "name": "stdout",
     "output_type": "stream",
     "text": [
      "                   all       1428       4552      0.799      0.699      0.757      0.505\n"
     ]
    },
    {
     "name": "stderr",
     "output_type": "stream",
     "text": [
      "\n"
     ]
    },
    {
     "name": "stdout",
     "output_type": "stream",
     "text": [
      "\n",
      "      Epoch    GPU_mem   box_loss   cls_loss   dfl_loss  Instances       Size\n"
     ]
    },
    {
     "name": "stderr",
     "output_type": "stream",
     "text": [
      "    173/250      11.5G     0.9229     0.6619      1.184         79       1280: 100%|██████████| 311/311 [01:55<00:00,  \n",
      "                 Class     Images  Instances      Box(P          R      mAP50  mAP50-95): 100%|██████████| 45/45 [00:16"
     ]
    },
    {
     "name": "stdout",
     "output_type": "stream",
     "text": [
      "                   all       1428       4552      0.791      0.707      0.757      0.505\n"
     ]
    },
    {
     "name": "stderr",
     "output_type": "stream",
     "text": [
      "\n"
     ]
    },
    {
     "name": "stdout",
     "output_type": "stream",
     "text": [
      "\n",
      "      Epoch    GPU_mem   box_loss   cls_loss   dfl_loss  Instances       Size\n"
     ]
    },
    {
     "name": "stderr",
     "output_type": "stream",
     "text": [
      "    174/250      11.8G     0.9211     0.6582      1.184         93       1280: 100%|██████████| 311/311 [05:33<00:00,  \n",
      "                 Class     Images  Instances      Box(P          R      mAP50  mAP50-95): 100%|██████████| 45/45 [00:52"
     ]
    },
    {
     "name": "stdout",
     "output_type": "stream",
     "text": [
      "                   all       1428       4552      0.787      0.708      0.757      0.505\n"
     ]
    },
    {
     "name": "stderr",
     "output_type": "stream",
     "text": [
      "\n"
     ]
    },
    {
     "name": "stdout",
     "output_type": "stream",
     "text": [
      "\n",
      "      Epoch    GPU_mem   box_loss   cls_loss   dfl_loss  Instances       Size\n"
     ]
    },
    {
     "name": "stderr",
     "output_type": "stream",
     "text": [
      "    175/250      11.6G      0.922     0.6621      1.183         80       1280: 100%|██████████| 311/311 [01:56<00:00,  \n",
      "                 Class     Images  Instances      Box(P          R      mAP50  mAP50-95): 100%|██████████| 45/45 [00:16"
     ]
    },
    {
     "name": "stdout",
     "output_type": "stream",
     "text": [
      "                   all       1428       4552      0.778      0.715      0.757      0.505\n"
     ]
    },
    {
     "name": "stderr",
     "output_type": "stream",
     "text": [
      "\n"
     ]
    },
    {
     "name": "stdout",
     "output_type": "stream",
     "text": [
      "\n",
      "      Epoch    GPU_mem   box_loss   cls_loss   dfl_loss  Instances       Size\n"
     ]
    },
    {
     "name": "stderr",
     "output_type": "stream",
     "text": [
      "    176/250      10.8G     0.9131     0.6512      1.183        104       1280: 100%|██████████| 311/311 [03:20<00:00,  \n",
      "                 Class     Images  Instances      Box(P          R      mAP50  mAP50-95): 100%|██████████| 45/45 [00:44"
     ]
    },
    {
     "name": "stdout",
     "output_type": "stream",
     "text": [
      "                   all       1428       4552      0.778      0.715      0.757      0.505\n"
     ]
    },
    {
     "name": "stderr",
     "output_type": "stream",
     "text": [
      "\n"
     ]
    },
    {
     "name": "stdout",
     "output_type": "stream",
     "text": [
      "\n",
      "      Epoch    GPU_mem   box_loss   cls_loss   dfl_loss  Instances       Size\n"
     ]
    },
    {
     "name": "stderr",
     "output_type": "stream",
     "text": [
      "    177/250       9.9G     0.9138      0.656      1.175         62       1280: 100%|██████████| 311/311 [01:54<00:00,  \n",
      "                 Class     Images  Instances      Box(P          R      mAP50  mAP50-95): 100%|██████████| 45/45 [00:15\n"
     ]
    },
    {
     "name": "stdout",
     "output_type": "stream",
     "text": [
      "                   all       1428       4552      0.785      0.712      0.758      0.505\n",
      "\n",
      "      Epoch    GPU_mem   box_loss   cls_loss   dfl_loss  Instances       Size\n"
     ]
    },
    {
     "name": "stderr",
     "output_type": "stream",
     "text": [
      "    178/250      11.5G     0.8964     0.6441      1.171        109       1280: 100%|██████████| 311/311 [01:55<00:00,  \n",
      "                 Class     Images  Instances      Box(P          R      mAP50  mAP50-95): 100%|██████████| 45/45 [00:31"
     ]
    },
    {
     "name": "stdout",
     "output_type": "stream",
     "text": [
      "                   all       1428       4552      0.788      0.715      0.758      0.505\n"
     ]
    },
    {
     "name": "stderr",
     "output_type": "stream",
     "text": [
      "\n"
     ]
    },
    {
     "name": "stdout",
     "output_type": "stream",
     "text": [
      "\n",
      "      Epoch    GPU_mem   box_loss   cls_loss   dfl_loss  Instances       Size\n"
     ]
    },
    {
     "name": "stderr",
     "output_type": "stream",
     "text": [
      "    179/250      10.9G     0.8997     0.6455      1.171         73       1280: 100%|██████████| 311/311 [01:54<00:00,  \n",
      "                 Class     Images  Instances      Box(P          R      mAP50  mAP50-95): 100%|██████████| 45/45 [00:16"
     ]
    },
    {
     "name": "stdout",
     "output_type": "stream",
     "text": [
      "                   all       1428       4552      0.788      0.715      0.758      0.505\n"
     ]
    },
    {
     "name": "stderr",
     "output_type": "stream",
     "text": [
      "\n"
     ]
    },
    {
     "name": "stdout",
     "output_type": "stream",
     "text": [
      "\n",
      "      Epoch    GPU_mem   box_loss   cls_loss   dfl_loss  Instances       Size\n"
     ]
    },
    {
     "name": "stderr",
     "output_type": "stream",
     "text": [
      "    180/250      11.4G     0.8916     0.6405      1.173         72       1280: 100%|██████████| 311/311 [01:56<00:00,  \n",
      "                 Class     Images  Instances      Box(P          R      mAP50  mAP50-95): 100%|██████████| 45/45 [00:29"
     ]
    },
    {
     "name": "stdout",
     "output_type": "stream",
     "text": [
      "                   all       1428       4552      0.782      0.719      0.758      0.504\n"
     ]
    },
    {
     "name": "stderr",
     "output_type": "stream",
     "text": [
      "\n"
     ]
    },
    {
     "name": "stdout",
     "output_type": "stream",
     "text": [
      "\n",
      "      Epoch    GPU_mem   box_loss   cls_loss   dfl_loss  Instances       Size\n"
     ]
    },
    {
     "name": "stderr",
     "output_type": "stream",
     "text": [
      "    181/250      11.1G     0.8993     0.6456      1.167         68       1280: 100%|██████████| 311/311 [01:55<00:00,  \n",
      "                 Class     Images  Instances      Box(P          R      mAP50  mAP50-95): 100%|██████████| 45/45 [00:15"
     ]
    },
    {
     "name": "stdout",
     "output_type": "stream",
     "text": [
      "                   all       1428       4552      0.779       0.72      0.759      0.505\n"
     ]
    },
    {
     "name": "stderr",
     "output_type": "stream",
     "text": [
      "\n"
     ]
    },
    {
     "name": "stdout",
     "output_type": "stream",
     "text": [
      "\n",
      "      Epoch    GPU_mem   box_loss   cls_loss   dfl_loss  Instances       Size\n"
     ]
    },
    {
     "name": "stderr",
     "output_type": "stream",
     "text": [
      "    182/250      11.9G     0.9074     0.6475      1.173         59       1280: 100%|██████████| 311/311 [03:31<00:00,  \n",
      "                 Class     Images  Instances      Box(P          R      mAP50  mAP50-95): 100%|██████████| 45/45 [00:51"
     ]
    },
    {
     "name": "stdout",
     "output_type": "stream",
     "text": [
      "                   all       1428       4552      0.777      0.723      0.759      0.505\n"
     ]
    },
    {
     "name": "stderr",
     "output_type": "stream",
     "text": [
      "\n"
     ]
    },
    {
     "name": "stdout",
     "output_type": "stream",
     "text": [
      "\n",
      "      Epoch    GPU_mem   box_loss   cls_loss   dfl_loss  Instances       Size\n"
     ]
    },
    {
     "name": "stderr",
     "output_type": "stream",
     "text": [
      "    183/250      12.1G     0.8944     0.6415      1.166         97       1280: 100%|██████████| 311/311 [01:56<00:00,  \n",
      "                 Class     Images  Instances      Box(P          R      mAP50  mAP50-95): 100%|██████████| 45/45 [00:15"
     ]
    },
    {
     "name": "stdout",
     "output_type": "stream",
     "text": [
      "                   all       1428       4552      0.774      0.725      0.759      0.506\n"
     ]
    },
    {
     "name": "stderr",
     "output_type": "stream",
     "text": [
      "\n"
     ]
    },
    {
     "name": "stdout",
     "output_type": "stream",
     "text": [
      "\n",
      "      Epoch    GPU_mem   box_loss   cls_loss   dfl_loss  Instances       Size\n"
     ]
    },
    {
     "name": "stderr",
     "output_type": "stream",
     "text": [
      "    184/250      10.8G     0.8843     0.6306      1.158         57       1280: 100%|██████████| 311/311 [02:30<00:00,  \n",
      "                 Class     Images  Instances      Box(P          R      mAP50  mAP50-95): 100%|██████████| 45/45 [00:33"
     ]
    },
    {
     "name": "stdout",
     "output_type": "stream",
     "text": [
      "                   all       1428       4552      0.776      0.726       0.76      0.507\n"
     ]
    },
    {
     "name": "stderr",
     "output_type": "stream",
     "text": [
      "\n"
     ]
    },
    {
     "name": "stdout",
     "output_type": "stream",
     "text": [
      "\n",
      "      Epoch    GPU_mem   box_loss   cls_loss   dfl_loss  Instances       Size\n"
     ]
    },
    {
     "name": "stderr",
     "output_type": "stream",
     "text": [
      "    185/250      11.9G     0.8945     0.6362      1.163         67       1280: 100%|██████████| 311/311 [02:00<00:00,  \n",
      "                 Class     Images  Instances      Box(P          R      mAP50  mAP50-95): 100%|██████████| 45/45 [00:17"
     ]
    },
    {
     "name": "stdout",
     "output_type": "stream",
     "text": [
      "                   all       1428       4552      0.773      0.726      0.759      0.506\n"
     ]
    },
    {
     "name": "stderr",
     "output_type": "stream",
     "text": [
      "\n"
     ]
    },
    {
     "name": "stdout",
     "output_type": "stream",
     "text": [
      "\n",
      "      Epoch    GPU_mem   box_loss   cls_loss   dfl_loss  Instances       Size\n"
     ]
    },
    {
     "name": "stderr",
     "output_type": "stream",
     "text": [
      "    186/250      12.4G     0.8954     0.6351      1.158         76       1280: 100%|██████████| 311/311 [01:56<00:00,  \n",
      "                 Class     Images  Instances      Box(P          R      mAP50  mAP50-95): 100%|██████████| 45/45 [00:26\n"
     ]
    },
    {
     "name": "stdout",
     "output_type": "stream",
     "text": [
      "                   all       1428       4552      0.772      0.727      0.759      0.506\n",
      "\n",
      "      Epoch    GPU_mem   box_loss   cls_loss   dfl_loss  Instances       Size\n"
     ]
    },
    {
     "name": "stderr",
     "output_type": "stream",
     "text": [
      "    187/250      11.6G     0.8917     0.6305      1.162        160       1280: 100%|██████████| 311/311 [01:55<00:00,  \n",
      "                 Class     Images  Instances      Box(P          R      mAP50  mAP50-95): 100%|██████████| 45/45 [00:17\n"
     ]
    },
    {
     "name": "stdout",
     "output_type": "stream",
     "text": [
      "                   all       1428       4552      0.774      0.726      0.759      0.506\n",
      "\n",
      "      Epoch    GPU_mem   box_loss   cls_loss   dfl_loss  Instances       Size\n"
     ]
    },
    {
     "name": "stderr",
     "output_type": "stream",
     "text": [
      "    188/250      12.6G      0.879     0.6263      1.158         68       1280: 100%|██████████| 311/311 [01:57<00:00,  \n",
      "                 Class     Images  Instances      Box(P          R      mAP50  mAP50-95): 100%|██████████| 45/45 [00:26"
     ]
    },
    {
     "name": "stdout",
     "output_type": "stream",
     "text": [
      "                   all       1428       4552      0.775      0.724      0.759      0.506\n"
     ]
    },
    {
     "name": "stderr",
     "output_type": "stream",
     "text": [
      "\n"
     ]
    },
    {
     "name": "stdout",
     "output_type": "stream",
     "text": [
      "\n",
      "      Epoch    GPU_mem   box_loss   cls_loss   dfl_loss  Instances       Size\n"
     ]
    },
    {
     "name": "stderr",
     "output_type": "stream",
     "text": [
      "    189/250      10.6G     0.8845     0.6248      1.158         57       1280: 100%|██████████| 311/311 [01:54<00:00,  \n",
      "                 Class     Images  Instances      Box(P          R      mAP50  mAP50-95): 100%|██████████| 45/45 [00:15\n"
     ]
    },
    {
     "name": "stdout",
     "output_type": "stream",
     "text": [
      "                   all       1428       4552      0.777      0.722      0.759      0.507\n",
      "\n",
      "      Epoch    GPU_mem   box_loss   cls_loss   dfl_loss  Instances       Size\n"
     ]
    },
    {
     "name": "stderr",
     "output_type": "stream",
     "text": [
      "    190/250      13.2G     0.8974     0.6314      1.159         53       1280: 100%|██████████| 311/311 [01:58<00:00,  \n",
      "                 Class     Images  Instances      Box(P          R      mAP50  mAP50-95): 100%|██████████| 45/45 [00:32"
     ]
    },
    {
     "name": "stdout",
     "output_type": "stream",
     "text": [
      "                   all       1428       4552      0.775      0.724      0.759      0.507\n"
     ]
    },
    {
     "name": "stderr",
     "output_type": "stream",
     "text": [
      "\n"
     ]
    },
    {
     "name": "stdout",
     "output_type": "stream",
     "text": [
      "\n",
      "      Epoch    GPU_mem   box_loss   cls_loss   dfl_loss  Instances       Size\n"
     ]
    },
    {
     "name": "stderr",
     "output_type": "stream",
     "text": [
      "    191/250        11G     0.8775     0.6243      1.159        111       1280: 100%|██████████| 311/311 [01:59<00:00,  \n",
      "                 Class     Images  Instances      Box(P          R      mAP50  mAP50-95): 100%|██████████| 45/45 [00:16\n"
     ]
    },
    {
     "name": "stdout",
     "output_type": "stream",
     "text": [
      "                   all       1428       4552      0.772      0.723      0.759      0.507\n",
      "\n",
      "      Epoch    GPU_mem   box_loss   cls_loss   dfl_loss  Instances       Size\n"
     ]
    },
    {
     "name": "stderr",
     "output_type": "stream",
     "text": [
      "    192/250      11.4G     0.8761     0.6171       1.15         70       1280: 100%|██████████| 311/311 [01:54<00:00,  \n",
      "                 Class     Images  Instances      Box(P          R      mAP50  mAP50-95): 100%|██████████| 45/45 [00:17\n"
     ]
    },
    {
     "name": "stdout",
     "output_type": "stream",
     "text": [
      "                   all       1428       4552      0.776      0.721      0.759      0.507\n",
      "\n",
      "      Epoch    GPU_mem   box_loss   cls_loss   dfl_loss  Instances       Size\n"
     ]
    },
    {
     "name": "stderr",
     "output_type": "stream",
     "text": [
      "    193/250      10.4G     0.8763     0.6253      1.157         43       1280: 100%|██████████| 311/311 [01:54<00:00,  \n",
      "                 Class     Images  Instances      Box(P          R      mAP50  mAP50-95): 100%|██████████| 45/45 [00:15"
     ]
    },
    {
     "name": "stdout",
     "output_type": "stream",
     "text": [
      "                   all       1428       4552      0.779      0.721      0.759      0.508\n"
     ]
    },
    {
     "name": "stderr",
     "output_type": "stream",
     "text": [
      "\n"
     ]
    },
    {
     "name": "stdout",
     "output_type": "stream",
     "text": [
      "\n",
      "      Epoch    GPU_mem   box_loss   cls_loss   dfl_loss  Instances       Size\n"
     ]
    },
    {
     "name": "stderr",
     "output_type": "stream",
     "text": [
      "    194/250      11.2G     0.8752      0.616      1.151         62       1280: 100%|██████████| 311/311 [01:54<00:00,  \n",
      "                 Class     Images  Instances      Box(P          R      mAP50  mAP50-95): 100%|██████████| 45/45 [00:17"
     ]
    },
    {
     "name": "stdout",
     "output_type": "stream",
     "text": [
      "                   all       1428       4552      0.782       0.72      0.759      0.506\n"
     ]
    },
    {
     "name": "stderr",
     "output_type": "stream",
     "text": [
      "\n"
     ]
    },
    {
     "name": "stdout",
     "output_type": "stream",
     "text": [
      "\n",
      "      Epoch    GPU_mem   box_loss   cls_loss   dfl_loss  Instances       Size\n"
     ]
    },
    {
     "name": "stderr",
     "output_type": "stream",
     "text": [
      "    195/250      10.1G     0.8785     0.6184      1.142        114       1280: 100%|██████████| 311/311 [01:53<00:00,  \n",
      "                 Class     Images  Instances      Box(P          R      mAP50  mAP50-95): 100%|██████████| 45/45 [00:28"
     ]
    },
    {
     "name": "stdout",
     "output_type": "stream",
     "text": [
      "                   all       1428       4552      0.785      0.718      0.758      0.507\n"
     ]
    },
    {
     "name": "stderr",
     "output_type": "stream",
     "text": [
      "\n"
     ]
    },
    {
     "name": "stdout",
     "output_type": "stream",
     "text": [
      "\n",
      "      Epoch    GPU_mem   box_loss   cls_loss   dfl_loss  Instances       Size\n"
     ]
    },
    {
     "name": "stderr",
     "output_type": "stream",
     "text": [
      "    196/250      10.7G      0.879     0.6206       1.15         71       1280: 100%|██████████| 311/311 [01:54<00:00,  \n",
      "                 Class     Images  Instances      Box(P          R      mAP50  mAP50-95): 100%|██████████| 45/45 [00:16"
     ]
    },
    {
     "name": "stdout",
     "output_type": "stream",
     "text": [
      "                   all       1428       4552      0.785      0.716      0.758      0.508\n"
     ]
    },
    {
     "name": "stderr",
     "output_type": "stream",
     "text": [
      "\n"
     ]
    },
    {
     "name": "stdout",
     "output_type": "stream",
     "text": [
      "\n",
      "      Epoch    GPU_mem   box_loss   cls_loss   dfl_loss  Instances       Size\n"
     ]
    },
    {
     "name": "stderr",
     "output_type": "stream",
     "text": [
      "    197/250      11.7G     0.8783     0.6187      1.154         68       1280: 100%|██████████| 311/311 [02:48<00:00,  \n",
      "                 Class     Images  Instances      Box(P          R      mAP50  mAP50-95): 100%|██████████| 45/45 [00:52"
     ]
    },
    {
     "name": "stdout",
     "output_type": "stream",
     "text": [
      "                   all       1428       4552      0.787      0.713      0.759      0.508\n"
     ]
    },
    {
     "name": "stderr",
     "output_type": "stream",
     "text": [
      "\n"
     ]
    },
    {
     "name": "stdout",
     "output_type": "stream",
     "text": [
      "\n",
      "      Epoch    GPU_mem   box_loss   cls_loss   dfl_loss  Instances       Size\n"
     ]
    },
    {
     "name": "stderr",
     "output_type": "stream",
     "text": [
      "    198/250        10G     0.8617     0.6073      1.147         80       1280: 100%|██████████| 311/311 [01:55<00:00,  \n",
      "                 Class     Images  Instances      Box(P          R      mAP50  mAP50-95): 100%|██████████| 45/45 [00:15"
     ]
    },
    {
     "name": "stdout",
     "output_type": "stream",
     "text": [
      "                   all       1428       4552      0.789      0.715      0.759      0.508\n"
     ]
    },
    {
     "name": "stderr",
     "output_type": "stream",
     "text": [
      "\n"
     ]
    },
    {
     "name": "stdout",
     "output_type": "stream",
     "text": [
      "\n",
      "      Epoch    GPU_mem   box_loss   cls_loss   dfl_loss  Instances       Size\n"
     ]
    },
    {
     "name": "stderr",
     "output_type": "stream",
     "text": [
      "    199/250      12.3G     0.8741     0.6124      1.154         92       1280: 100%|██████████| 311/311 [01:55<00:00,  \n",
      "                 Class     Images  Instances      Box(P          R      mAP50  mAP50-95): 100%|██████████| 45/45 [00:30"
     ]
    },
    {
     "name": "stdout",
     "output_type": "stream",
     "text": [
      "                   all       1428       4552      0.788      0.715      0.758      0.507\n"
     ]
    },
    {
     "name": "stderr",
     "output_type": "stream",
     "text": [
      "\n"
     ]
    },
    {
     "name": "stdout",
     "output_type": "stream",
     "text": [
      "\n",
      "      Epoch    GPU_mem   box_loss   cls_loss   dfl_loss  Instances       Size\n"
     ]
    },
    {
     "name": "stderr",
     "output_type": "stream",
     "text": [
      "    200/250      12.4G     0.8652     0.6145      1.147         86       1280: 100%|██████████| 311/311 [02:01<00:00,  \n",
      "                 Class     Images  Instances      Box(P          R      mAP50  mAP50-95): 100%|██████████| 45/45 [00:14"
     ]
    },
    {
     "name": "stdout",
     "output_type": "stream",
     "text": [
      "                   all       1428       4552      0.785      0.715      0.758      0.507\n"
     ]
    },
    {
     "name": "stderr",
     "output_type": "stream",
     "text": [
      "\n"
     ]
    },
    {
     "name": "stdout",
     "output_type": "stream",
     "text": [
      "\n",
      "      Epoch    GPU_mem   box_loss   cls_loss   dfl_loss  Instances       Size\n"
     ]
    },
    {
     "name": "stderr",
     "output_type": "stream",
     "text": [
      "    201/250      11.1G     0.8526     0.6026      1.139         75       1280: 100%|██████████| 311/311 [02:06<00:00,  \n",
      "                 Class     Images  Instances      Box(P          R      mAP50  mAP50-95): 100%|██████████| 45/45 [00:39"
     ]
    },
    {
     "name": "stdout",
     "output_type": "stream",
     "text": [
      "                   all       1428       4552      0.782      0.717      0.758      0.507\n"
     ]
    },
    {
     "name": "stderr",
     "output_type": "stream",
     "text": [
      "\n"
     ]
    },
    {
     "name": "stdout",
     "output_type": "stream",
     "text": [
      "\n",
      "      Epoch    GPU_mem   box_loss   cls_loss   dfl_loss  Instances       Size\n"
     ]
    },
    {
     "name": "stderr",
     "output_type": "stream",
     "text": [
      "    202/250      10.7G     0.8788      0.617      1.142         96       1280: 100%|██████████| 311/311 [01:55<00:00,  \n",
      "                 Class     Images  Instances      Box(P          R      mAP50  mAP50-95): 100%|██████████| 45/45 [00:17"
     ]
    },
    {
     "name": "stdout",
     "output_type": "stream",
     "text": [
      "                   all       1428       4552      0.782      0.717      0.758      0.507\n"
     ]
    },
    {
     "name": "stderr",
     "output_type": "stream",
     "text": [
      "\n"
     ]
    },
    {
     "name": "stdout",
     "output_type": "stream",
     "text": [
      "\n",
      "      Epoch    GPU_mem   box_loss   cls_loss   dfl_loss  Instances       Size\n"
     ]
    },
    {
     "name": "stderr",
     "output_type": "stream",
     "text": [
      "    203/250      10.7G      0.861     0.6072      1.144         78       1280: 100%|██████████| 311/311 [01:54<00:00,  \n",
      "                 Class     Images  Instances      Box(P          R      mAP50  mAP50-95): 100%|██████████| 45/45 [00:17"
     ]
    },
    {
     "name": "stdout",
     "output_type": "stream",
     "text": [
      "                   all       1428       4552      0.784      0.715      0.758      0.507\n"
     ]
    },
    {
     "name": "stderr",
     "output_type": "stream",
     "text": [
      "\n"
     ]
    },
    {
     "name": "stdout",
     "output_type": "stream",
     "text": [
      "\n",
      "      Epoch    GPU_mem   box_loss   cls_loss   dfl_loss  Instances       Size\n"
     ]
    },
    {
     "name": "stderr",
     "output_type": "stream",
     "text": [
      "    204/250        12G     0.8693     0.6049      1.143         68       1280: 100%|██████████| 311/311 [01:54<00:00,  \n",
      "                 Class     Images  Instances      Box(P          R      mAP50  mAP50-95): 100%|██████████| 45/45 [00:31\n"
     ]
    },
    {
     "name": "stdout",
     "output_type": "stream",
     "text": [
      "                   all       1428       4552      0.779      0.718      0.758      0.506\n",
      "\n",
      "      Epoch    GPU_mem   box_loss   cls_loss   dfl_loss  Instances       Size\n"
     ]
    },
    {
     "name": "stderr",
     "output_type": "stream",
     "text": [
      "    205/250      11.6G       0.85     0.5985      1.141        108       1280: 100%|██████████| 311/311 [01:54<00:00,  \n",
      "                 Class     Images  Instances      Box(P          R      mAP50  mAP50-95): 100%|██████████| 45/45 [00:17"
     ]
    },
    {
     "name": "stdout",
     "output_type": "stream",
     "text": [
      "                   all       1428       4552       0.78      0.717      0.758      0.507\n"
     ]
    },
    {
     "name": "stderr",
     "output_type": "stream",
     "text": [
      "\n"
     ]
    },
    {
     "name": "stdout",
     "output_type": "stream",
     "text": [
      "\n",
      "      Epoch    GPU_mem   box_loss   cls_loss   dfl_loss  Instances       Size\n"
     ]
    },
    {
     "name": "stderr",
     "output_type": "stream",
     "text": [
      "    206/250      10.6G     0.8529     0.6005      1.141         63       1280: 100%|██████████| 311/311 [01:54<00:00,  \n",
      "                 Class     Images  Instances      Box(P          R      mAP50  mAP50-95): 100%|██████████| 45/45 [00:17\n"
     ]
    },
    {
     "name": "stdout",
     "output_type": "stream",
     "text": [
      "                   all       1428       4552      0.781      0.717      0.758      0.507\n",
      "\n",
      "      Epoch    GPU_mem   box_loss   cls_loss   dfl_loss  Instances       Size\n"
     ]
    },
    {
     "name": "stderr",
     "output_type": "stream",
     "text": [
      "    207/250      11.3G     0.8543     0.5977      1.141         93       1280: 100%|██████████| 311/311 [01:56<00:00,  \n",
      "                 Class     Images  Instances      Box(P          R      mAP50  mAP50-95): 100%|██████████| 45/45 [00:16\n"
     ]
    },
    {
     "name": "stdout",
     "output_type": "stream",
     "text": [
      "                   all       1428       4552      0.783      0.717      0.757      0.507\n",
      "\n",
      "      Epoch    GPU_mem   box_loss   cls_loss   dfl_loss  Instances       Size\n"
     ]
    },
    {
     "name": "stderr",
     "output_type": "stream",
     "text": [
      "    208/250      10.8G     0.8525     0.5926      1.135         54       1280: 100%|██████████| 311/311 [01:53<00:00,  \n",
      "                 Class     Images  Instances      Box(P          R      mAP50  mAP50-95): 100%|██████████| 45/45 [00:15\n"
     ]
    },
    {
     "name": "stdout",
     "output_type": "stream",
     "text": [
      "                   all       1428       4552      0.782      0.717      0.757      0.508\n",
      "\n",
      "      Epoch    GPU_mem   box_loss   cls_loss   dfl_loss  Instances       Size\n"
     ]
    },
    {
     "name": "stderr",
     "output_type": "stream",
     "text": [
      "    209/250      12.3G     0.8556     0.5987      1.131        148       1280: 100%|██████████| 311/311 [01:55<00:00,  \n",
      "                 Class     Images  Instances      Box(P          R      mAP50  mAP50-95): 100%|██████████| 45/45 [00:16"
     ]
    },
    {
     "name": "stdout",
     "output_type": "stream",
     "text": [
      "                   all       1428       4552      0.782      0.717      0.757      0.507\n"
     ]
    },
    {
     "name": "stderr",
     "output_type": "stream",
     "text": [
      "\n"
     ]
    },
    {
     "name": "stdout",
     "output_type": "stream",
     "text": [
      "\n",
      "      Epoch    GPU_mem   box_loss   cls_loss   dfl_loss  Instances       Size\n"
     ]
    },
    {
     "name": "stderr",
     "output_type": "stream",
     "text": [
      "    210/250      11.4G     0.8426     0.5878       1.13         54       1280: 100%|██████████| 311/311 [01:55<00:00,  \n",
      "                 Class     Images  Instances      Box(P          R      mAP50  mAP50-95): 100%|██████████| 45/45 [00:27"
     ]
    },
    {
     "name": "stdout",
     "output_type": "stream",
     "text": [
      "                   all       1428       4552      0.781      0.717      0.757      0.507\n"
     ]
    },
    {
     "name": "stderr",
     "output_type": "stream",
     "text": [
      "\n"
     ]
    },
    {
     "name": "stdout",
     "output_type": "stream",
     "text": [
      "\n",
      "      Epoch    GPU_mem   box_loss   cls_loss   dfl_loss  Instances       Size\n"
     ]
    },
    {
     "name": "stderr",
     "output_type": "stream",
     "text": [
      "    211/250      10.5G     0.8452     0.5948      1.139         87       1280: 100%|██████████| 311/311 [01:54<00:00,  \n",
      "                 Class     Images  Instances      Box(P          R      mAP50  mAP50-95): 100%|██████████| 45/45 [00:16"
     ]
    },
    {
     "name": "stdout",
     "output_type": "stream",
     "text": [
      "                   all       1428       4552      0.779      0.718      0.757      0.507\n"
     ]
    },
    {
     "name": "stderr",
     "output_type": "stream",
     "text": [
      "\n"
     ]
    },
    {
     "name": "stdout",
     "output_type": "stream",
     "text": [
      "\n",
      "      Epoch    GPU_mem   box_loss   cls_loss   dfl_loss  Instances       Size\n"
     ]
    },
    {
     "name": "stderr",
     "output_type": "stream",
     "text": [
      "    212/250      11.7G     0.8404     0.5838      1.123         63       1280: 100%|██████████| 311/311 [01:55<00:00,  \n",
      "                 Class     Images  Instances      Box(P          R      mAP50  mAP50-95): 100%|██████████| 45/45 [00:31"
     ]
    },
    {
     "name": "stdout",
     "output_type": "stream",
     "text": [
      "                   all       1428       4552      0.783      0.718      0.757      0.507\n"
     ]
    },
    {
     "name": "stderr",
     "output_type": "stream",
     "text": [
      "\n"
     ]
    },
    {
     "name": "stdout",
     "output_type": "stream",
     "text": [
      "\n",
      "      Epoch    GPU_mem   box_loss   cls_loss   dfl_loss  Instances       Size\n"
     ]
    },
    {
     "name": "stderr",
     "output_type": "stream",
     "text": [
      "    213/250      11.3G     0.8355     0.5843      1.124         60       1280: 100%|██████████| 311/311 [01:56<00:00,  \n",
      "                 Class     Images  Instances      Box(P          R      mAP50  mAP50-95): 100%|██████████| 45/45 [00:16"
     ]
    },
    {
     "name": "stdout",
     "output_type": "stream",
     "text": [
      "                   all       1428       4552      0.775      0.723      0.757      0.507\n"
     ]
    },
    {
     "name": "stderr",
     "output_type": "stream",
     "text": [
      "\n"
     ]
    },
    {
     "name": "stdout",
     "output_type": "stream",
     "text": [
      "\n",
      "      Epoch    GPU_mem   box_loss   cls_loss   dfl_loss  Instances       Size\n"
     ]
    },
    {
     "name": "stderr",
     "output_type": "stream",
     "text": [
      "    214/250      9.72G     0.8357     0.5873      1.128         79       1280: 100%|██████████| 311/311 [01:54<00:00,  \n",
      "                 Class     Images  Instances      Box(P          R      mAP50  mAP50-95): 100%|██████████| 45/45 [00:16\n"
     ]
    },
    {
     "name": "stdout",
     "output_type": "stream",
     "text": [
      "                   all       1428       4552      0.785      0.719      0.757      0.507\n",
      "\n",
      "      Epoch    GPU_mem   box_loss   cls_loss   dfl_loss  Instances       Size\n"
     ]
    },
    {
     "name": "stderr",
     "output_type": "stream",
     "text": [
      "    215/250      9.56G     0.8476     0.5877      1.129         60       1280: 100%|██████████| 311/311 [01:53<00:00,  \n",
      "                 Class     Images  Instances      Box(P          R      mAP50  mAP50-95): 100%|██████████| 45/45 [00:14\n"
     ]
    },
    {
     "name": "stdout",
     "output_type": "stream",
     "text": [
      "                   all       1428       4552      0.776      0.726      0.757      0.506\n",
      "\n",
      "      Epoch    GPU_mem   box_loss   cls_loss   dfl_loss  Instances       Size\n"
     ]
    },
    {
     "name": "stderr",
     "output_type": "stream",
     "text": [
      "    216/250        10G     0.8351     0.5801      1.125         73       1280: 100%|██████████| 311/311 [01:55<00:00,  \n",
      "                 Class     Images  Instances      Box(P          R      mAP50  mAP50-95): 100%|██████████| 45/45 [00:16"
     ]
    },
    {
     "name": "stdout",
     "output_type": "stream",
     "text": [
      "                   all       1428       4552      0.778      0.722      0.757      0.506\n"
     ]
    },
    {
     "name": "stderr",
     "output_type": "stream",
     "text": [
      "\n"
     ]
    },
    {
     "name": "stdout",
     "output_type": "stream",
     "text": [
      "\n",
      "      Epoch    GPU_mem   box_loss   cls_loss   dfl_loss  Instances       Size\n"
     ]
    },
    {
     "name": "stderr",
     "output_type": "stream",
     "text": [
      "    217/250      10.7G       0.83      0.576      1.124         71       1280: 100%|██████████| 311/311 [02:01<00:00,  \n",
      "                 Class     Images  Instances      Box(P          R      mAP50  mAP50-95): 100%|██████████| 45/45 [00:30"
     ]
    },
    {
     "name": "stdout",
     "output_type": "stream",
     "text": [
      "                   all       1428       4552      0.776      0.725      0.757      0.506\n"
     ]
    },
    {
     "name": "stderr",
     "output_type": "stream",
     "text": [
      "\n"
     ]
    },
    {
     "name": "stdout",
     "output_type": "stream",
     "text": [
      "\n",
      "      Epoch    GPU_mem   box_loss   cls_loss   dfl_loss  Instances       Size\n"
     ]
    },
    {
     "name": "stderr",
     "output_type": "stream",
     "text": [
      "    218/250      11.3G     0.8233     0.5747      1.121         79       1280: 100%|██████████| 311/311 [02:00<00:00,  \n",
      "                 Class     Images  Instances      Box(P          R      mAP50  mAP50-95): 100%|██████████| 45/45 [00:17\n"
     ]
    },
    {
     "name": "stdout",
     "output_type": "stream",
     "text": [
      "                   all       1428       4552      0.775      0.723      0.757      0.506\n",
      "\n",
      "      Epoch    GPU_mem   box_loss   cls_loss   dfl_loss  Instances       Size\n"
     ]
    },
    {
     "name": "stderr",
     "output_type": "stream",
     "text": [
      "    219/250      11.7G      0.833     0.5723      1.116         78       1280: 100%|██████████| 311/311 [01:55<00:00,  \n",
      "                 Class     Images  Instances      Box(P          R      mAP50  mAP50-95): 100%|██████████| 45/45 [00:17"
     ]
    },
    {
     "name": "stdout",
     "output_type": "stream",
     "text": [
      "                   all       1428       4552      0.776      0.724      0.757      0.506\n"
     ]
    },
    {
     "name": "stderr",
     "output_type": "stream",
     "text": [
      "\n"
     ]
    },
    {
     "name": "stdout",
     "output_type": "stream",
     "text": [
      "\n",
      "      Epoch    GPU_mem   box_loss   cls_loss   dfl_loss  Instances       Size\n"
     ]
    },
    {
     "name": "stderr",
     "output_type": "stream",
     "text": [
      "    220/250      10.3G     0.8329     0.5771      1.118         43       1280: 100%|██████████| 311/311 [01:54<00:00,  \n",
      "                 Class     Images  Instances      Box(P          R      mAP50  mAP50-95): 100%|██████████| 45/45 [00:15"
     ]
    },
    {
     "name": "stdout",
     "output_type": "stream",
     "text": [
      "                   all       1428       4552      0.775      0.725      0.757      0.506\n"
     ]
    },
    {
     "name": "stderr",
     "output_type": "stream",
     "text": [
      "\n"
     ]
    },
    {
     "name": "stdout",
     "output_type": "stream",
     "text": [
      "\n",
      "      Epoch    GPU_mem   box_loss   cls_loss   dfl_loss  Instances       Size\n"
     ]
    },
    {
     "name": "stderr",
     "output_type": "stream",
     "text": [
      "    221/250      10.3G     0.8325     0.5809      1.126         55       1280: 100%|██████████| 311/311 [01:53<00:00,  \n",
      "                 Class     Images  Instances      Box(P          R      mAP50  mAP50-95): 100%|██████████| 45/45 [00:16"
     ]
    },
    {
     "name": "stdout",
     "output_type": "stream",
     "text": [
      "                   all       1428       4552      0.772      0.725      0.757      0.506\n"
     ]
    },
    {
     "name": "stderr",
     "output_type": "stream",
     "text": [
      "\n"
     ]
    },
    {
     "name": "stdout",
     "output_type": "stream",
     "text": [
      "\n",
      "      Epoch    GPU_mem   box_loss   cls_loss   dfl_loss  Instances       Size\n"
     ]
    },
    {
     "name": "stderr",
     "output_type": "stream",
     "text": [
      "    222/250      10.6G     0.8198     0.5692      1.113         49       1280: 100%|██████████| 311/311 [02:10<00:00,  \n",
      "                 Class     Images  Instances      Box(P          R      mAP50  mAP50-95): 100%|██████████| 45/45 [00:26"
     ]
    },
    {
     "name": "stdout",
     "output_type": "stream",
     "text": [
      "                   all       1428       4552      0.769      0.727      0.756      0.505\n"
     ]
    },
    {
     "name": "stderr",
     "output_type": "stream",
     "text": [
      "\n"
     ]
    },
    {
     "name": "stdout",
     "output_type": "stream",
     "text": [
      "\n",
      "      Epoch    GPU_mem   box_loss   cls_loss   dfl_loss  Instances       Size\n"
     ]
    },
    {
     "name": "stderr",
     "output_type": "stream",
     "text": [
      "    223/250      10.9G     0.8123      0.564      1.112         96       1280: 100%|██████████| 311/311 [01:54<00:00,  \n",
      "                 Class     Images  Instances      Box(P          R      mAP50  mAP50-95): 100%|██████████| 45/45 [00:15\n"
     ]
    },
    {
     "name": "stdout",
     "output_type": "stream",
     "text": [
      "                   all       1428       4552       0.77      0.726      0.756      0.505\n",
      "\n",
      "      Epoch    GPU_mem   box_loss   cls_loss   dfl_loss  Instances       Size\n"
     ]
    },
    {
     "name": "stderr",
     "output_type": "stream",
     "text": [
      "    224/250      10.9G     0.8121     0.5679      1.113         58       1280: 100%|██████████| 311/311 [01:55<00:00,  \n",
      "                 Class     Images  Instances      Box(P          R      mAP50  mAP50-95): 100%|██████████| 45/45 [00:15\n"
     ]
    },
    {
     "name": "stdout",
     "output_type": "stream",
     "text": [
      "                   all       1428       4552      0.769      0.727      0.756      0.505\n",
      "\n",
      "      Epoch    GPU_mem   box_loss   cls_loss   dfl_loss  Instances       Size\n"
     ]
    },
    {
     "name": "stderr",
     "output_type": "stream",
     "text": [
      "    225/250      9.96G     0.8259     0.5721      1.118         86       1280: 100%|██████████| 311/311 [01:54<00:00,  \n",
      "                 Class     Images  Instances      Box(P          R      mAP50  mAP50-95): 100%|██████████| 45/45 [00:48"
     ]
    },
    {
     "name": "stdout",
     "output_type": "stream",
     "text": [
      "                   all       1428       4552      0.772      0.726      0.756      0.505\n"
     ]
    },
    {
     "name": "stderr",
     "output_type": "stream",
     "text": [
      "\n"
     ]
    },
    {
     "name": "stdout",
     "output_type": "stream",
     "text": [
      "\n",
      "      Epoch    GPU_mem   box_loss   cls_loss   dfl_loss  Instances       Size\n"
     ]
    },
    {
     "name": "stderr",
     "output_type": "stream",
     "text": [
      "    226/250      11.2G     0.8212     0.5662      1.109         82       1280: 100%|██████████| 311/311 [02:01<00:00,  \n",
      "                 Class     Images  Instances      Box(P          R      mAP50  mAP50-95): 100%|██████████| 45/45 [00:16"
     ]
    },
    {
     "name": "stdout",
     "output_type": "stream",
     "text": [
      "                   all       1428       4552      0.773      0.724      0.756      0.505\n"
     ]
    },
    {
     "name": "stderr",
     "output_type": "stream",
     "text": [
      "\n"
     ]
    },
    {
     "name": "stdout",
     "output_type": "stream",
     "text": [
      "\n",
      "      Epoch    GPU_mem   box_loss   cls_loss   dfl_loss  Instances       Size\n"
     ]
    },
    {
     "name": "stderr",
     "output_type": "stream",
     "text": [
      "    227/250      10.8G     0.8123     0.5615      1.105         78       1280: 100%|██████████| 311/311 [02:27<00:00,  \n",
      "                 Class     Images  Instances      Box(P          R      mAP50  mAP50-95): 100%|██████████| 45/45 [00:38"
     ]
    },
    {
     "name": "stdout",
     "output_type": "stream",
     "text": [
      "                   all       1428       4552      0.774      0.723      0.756      0.505\n",
      "\u001b[34m\u001b[1mEarlyStopping: \u001b[0mTraining stopped early as no improvement observed in last 30 epochs. Best results observed at epoch 197, best model saved as best.pt.\n",
      "To update EarlyStopping(patience=30) pass a new patience value, i.e. `patience=300` or use `patience=0` to disable EarlyStopping.\n"
     ]
    },
    {
     "name": "stderr",
     "output_type": "stream",
     "text": [
      "\n"
     ]
    },
    {
     "name": "stdout",
     "output_type": "stream",
     "text": [
      "\n",
      "227 epochs completed in 9.589 hours.\n",
      "Optimizer stripped from runs\\detect\\train\\weights\\last.pt, 6.3MB\n",
      "Optimizer stripped from runs\\detect\\train\\weights\\best.pt, 6.3MB\n",
      "\n",
      "Validating runs\\detect\\train\\weights\\best.pt...\n",
      "Ultralytics YOLOv8.1.47  Python-3.9.6 torch-2.1.0+cu121 CUDA:0 (NVIDIA GeForce RTX 3080, 10240MiB)\n",
      "YOLOv8n summary (fused): 168 layers, 3006818 parameters, 0 gradients, 8.1 GFLOPs\n"
     ]
    },
    {
     "name": "stderr",
     "output_type": "stream",
     "text": [
      "                 Class     Images  Instances      Box(P          R      mAP50  mAP50-95): 100%|██████████| 45/45 [00:12\n"
     ]
    },
    {
     "name": "stdout",
     "output_type": "stream",
     "text": [
      "                   all       1428       4552      0.787      0.714      0.759      0.507\n",
      "                   Car       1428       1582      0.653      0.419      0.472      0.252\n",
      "                   STN       1428        118      0.884      0.965      0.979      0.828\n",
      "                  Tree       1428        540      0.802      0.731      0.777      0.448\n",
      "                  Bird       1428       1569      0.738      0.612      0.672      0.389\n",
      "                 House       1428        743      0.858      0.844      0.894       0.62\n",
      "Speed: 0.3ms preprocess, 1.7ms inference, 0.0ms loss, 1.4ms postprocess per image\n",
      "Results saved to \u001b[1mruns\\detect\\train\u001b[0m\n"
     ]
    },
    {
     "data": {
      "text/plain": [
       "ultralytics.utils.metrics.DetMetrics object with attributes:\n",
       "\n",
       "ap_class_index: array([0, 1, 2, 3, 4])\n",
       "box: ultralytics.utils.metrics.Metric object\n",
       "confusion_matrix: <ultralytics.utils.metrics.ConfusionMatrix object at 0x0000014C4B391190>\n",
       "curves: ['Precision-Recall(B)', 'F1-Confidence(B)', 'Precision-Confidence(B)', 'Recall-Confidence(B)']\n",
       "curves_results: [[array([          0,    0.001001,    0.002002,    0.003003,    0.004004,    0.005005,    0.006006,    0.007007,    0.008008,    0.009009,     0.01001,    0.011011,    0.012012,    0.013013,    0.014014,    0.015015,    0.016016,    0.017017,    0.018018,    0.019019,     0.02002,    0.021021,    0.022022,    0.023023,\n",
       "          0.024024,    0.025025,    0.026026,    0.027027,    0.028028,    0.029029,     0.03003,    0.031031,    0.032032,    0.033033,    0.034034,    0.035035,    0.036036,    0.037037,    0.038038,    0.039039,     0.04004,    0.041041,    0.042042,    0.043043,    0.044044,    0.045045,    0.046046,    0.047047,\n",
       "          0.048048,    0.049049,     0.05005,    0.051051,    0.052052,    0.053053,    0.054054,    0.055055,    0.056056,    0.057057,    0.058058,    0.059059,     0.06006,    0.061061,    0.062062,    0.063063,    0.064064,    0.065065,    0.066066,    0.067067,    0.068068,    0.069069,     0.07007,    0.071071,\n",
       "          0.072072,    0.073073,    0.074074,    0.075075,    0.076076,    0.077077,    0.078078,    0.079079,     0.08008,    0.081081,    0.082082,    0.083083,    0.084084,    0.085085,    0.086086,    0.087087,    0.088088,    0.089089,     0.09009,    0.091091,    0.092092,    0.093093,    0.094094,    0.095095,\n",
       "          0.096096,    0.097097,    0.098098,    0.099099,      0.1001,      0.1011,      0.1021,      0.1031,      0.1041,     0.10511,     0.10611,     0.10711,     0.10811,     0.10911,     0.11011,     0.11111,     0.11211,     0.11311,     0.11411,     0.11512,     0.11612,     0.11712,     0.11812,     0.11912,\n",
       "           0.12012,     0.12112,     0.12212,     0.12312,     0.12412,     0.12513,     0.12613,     0.12713,     0.12813,     0.12913,     0.13013,     0.13113,     0.13213,     0.13313,     0.13413,     0.13514,     0.13614,     0.13714,     0.13814,     0.13914,     0.14014,     0.14114,     0.14214,     0.14314,\n",
       "           0.14414,     0.14515,     0.14615,     0.14715,     0.14815,     0.14915,     0.15015,     0.15115,     0.15215,     0.15315,     0.15415,     0.15516,     0.15616,     0.15716,     0.15816,     0.15916,     0.16016,     0.16116,     0.16216,     0.16316,     0.16416,     0.16517,     0.16617,     0.16717,\n",
       "           0.16817,     0.16917,     0.17017,     0.17117,     0.17217,     0.17317,     0.17417,     0.17518,     0.17618,     0.17718,     0.17818,     0.17918,     0.18018,     0.18118,     0.18218,     0.18318,     0.18418,     0.18519,     0.18619,     0.18719,     0.18819,     0.18919,     0.19019,     0.19119,\n",
       "           0.19219,     0.19319,     0.19419,      0.1952,      0.1962,      0.1972,      0.1982,      0.1992,      0.2002,      0.2012,      0.2022,      0.2032,      0.2042,     0.20521,     0.20621,     0.20721,     0.20821,     0.20921,     0.21021,     0.21121,     0.21221,     0.21321,     0.21421,     0.21522,\n",
       "           0.21622,     0.21722,     0.21822,     0.21922,     0.22022,     0.22122,     0.22222,     0.22322,     0.22422,     0.22523,     0.22623,     0.22723,     0.22823,     0.22923,     0.23023,     0.23123,     0.23223,     0.23323,     0.23423,     0.23524,     0.23624,     0.23724,     0.23824,     0.23924,\n",
       "           0.24024,     0.24124,     0.24224,     0.24324,     0.24424,     0.24525,     0.24625,     0.24725,     0.24825,     0.24925,     0.25025,     0.25125,     0.25225,     0.25325,     0.25425,     0.25526,     0.25626,     0.25726,     0.25826,     0.25926,     0.26026,     0.26126,     0.26226,     0.26326,\n",
       "           0.26426,     0.26527,     0.26627,     0.26727,     0.26827,     0.26927,     0.27027,     0.27127,     0.27227,     0.27327,     0.27427,     0.27528,     0.27628,     0.27728,     0.27828,     0.27928,     0.28028,     0.28128,     0.28228,     0.28328,     0.28428,     0.28529,     0.28629,     0.28729,\n",
       "           0.28829,     0.28929,     0.29029,     0.29129,     0.29229,     0.29329,     0.29429,      0.2953,      0.2963,      0.2973,      0.2983,      0.2993,      0.3003,      0.3013,      0.3023,      0.3033,      0.3043,     0.30531,     0.30631,     0.30731,     0.30831,     0.30931,     0.31031,     0.31131,\n",
       "           0.31231,     0.31331,     0.31431,     0.31532,     0.31632,     0.31732,     0.31832,     0.31932,     0.32032,     0.32132,     0.32232,     0.32332,     0.32432,     0.32533,     0.32633,     0.32733,     0.32833,     0.32933,     0.33033,     0.33133,     0.33233,     0.33333,     0.33433,     0.33534,\n",
       "           0.33634,     0.33734,     0.33834,     0.33934,     0.34034,     0.34134,     0.34234,     0.34334,     0.34434,     0.34535,     0.34635,     0.34735,     0.34835,     0.34935,     0.35035,     0.35135,     0.35235,     0.35335,     0.35435,     0.35536,     0.35636,     0.35736,     0.35836,     0.35936,\n",
       "           0.36036,     0.36136,     0.36236,     0.36336,     0.36436,     0.36537,     0.36637,     0.36737,     0.36837,     0.36937,     0.37037,     0.37137,     0.37237,     0.37337,     0.37437,     0.37538,     0.37638,     0.37738,     0.37838,     0.37938,     0.38038,     0.38138,     0.38238,     0.38338,\n",
       "           0.38438,     0.38539,     0.38639,     0.38739,     0.38839,     0.38939,     0.39039,     0.39139,     0.39239,     0.39339,     0.39439,      0.3954,      0.3964,      0.3974,      0.3984,      0.3994,      0.4004,      0.4014,      0.4024,      0.4034,      0.4044,     0.40541,     0.40641,     0.40741,\n",
       "           0.40841,     0.40941,     0.41041,     0.41141,     0.41241,     0.41341,     0.41441,     0.41542,     0.41642,     0.41742,     0.41842,     0.41942,     0.42042,     0.42142,     0.42242,     0.42342,     0.42442,     0.42543,     0.42643,     0.42743,     0.42843,     0.42943,     0.43043,     0.43143,\n",
       "           0.43243,     0.43343,     0.43443,     0.43544,     0.43644,     0.43744,     0.43844,     0.43944,     0.44044,     0.44144,     0.44244,     0.44344,     0.44444,     0.44545,     0.44645,     0.44745,     0.44845,     0.44945,     0.45045,     0.45145,     0.45245,     0.45345,     0.45445,     0.45546,\n",
       "           0.45646,     0.45746,     0.45846,     0.45946,     0.46046,     0.46146,     0.46246,     0.46346,     0.46446,     0.46547,     0.46647,     0.46747,     0.46847,     0.46947,     0.47047,     0.47147,     0.47247,     0.47347,     0.47447,     0.47548,     0.47648,     0.47748,     0.47848,     0.47948,\n",
       "           0.48048,     0.48148,     0.48248,     0.48348,     0.48448,     0.48549,     0.48649,     0.48749,     0.48849,     0.48949,     0.49049,     0.49149,     0.49249,     0.49349,     0.49449,      0.4955,      0.4965,      0.4975,      0.4985,      0.4995,      0.5005,      0.5015,      0.5025,      0.5035,\n",
       "            0.5045,     0.50551,     0.50651,     0.50751,     0.50851,     0.50951,     0.51051,     0.51151,     0.51251,     0.51351,     0.51451,     0.51552,     0.51652,     0.51752,     0.51852,     0.51952,     0.52052,     0.52152,     0.52252,     0.52352,     0.52452,     0.52553,     0.52653,     0.52753,\n",
       "           0.52853,     0.52953,     0.53053,     0.53153,     0.53253,     0.53353,     0.53453,     0.53554,     0.53654,     0.53754,     0.53854,     0.53954,     0.54054,     0.54154,     0.54254,     0.54354,     0.54454,     0.54555,     0.54655,     0.54755,     0.54855,     0.54955,     0.55055,     0.55155,\n",
       "           0.55255,     0.55355,     0.55455,     0.55556,     0.55656,     0.55756,     0.55856,     0.55956,     0.56056,     0.56156,     0.56256,     0.56356,     0.56456,     0.56557,     0.56657,     0.56757,     0.56857,     0.56957,     0.57057,     0.57157,     0.57257,     0.57357,     0.57457,     0.57558,\n",
       "           0.57658,     0.57758,     0.57858,     0.57958,     0.58058,     0.58158,     0.58258,     0.58358,     0.58458,     0.58559,     0.58659,     0.58759,     0.58859,     0.58959,     0.59059,     0.59159,     0.59259,     0.59359,     0.59459,      0.5956,      0.5966,      0.5976,      0.5986,      0.5996,\n",
       "            0.6006,      0.6016,      0.6026,      0.6036,      0.6046,     0.60561,     0.60661,     0.60761,     0.60861,     0.60961,     0.61061,     0.61161,     0.61261,     0.61361,     0.61461,     0.61562,     0.61662,     0.61762,     0.61862,     0.61962,     0.62062,     0.62162,     0.62262,     0.62362,\n",
       "           0.62462,     0.62563,     0.62663,     0.62763,     0.62863,     0.62963,     0.63063,     0.63163,     0.63263,     0.63363,     0.63463,     0.63564,     0.63664,     0.63764,     0.63864,     0.63964,     0.64064,     0.64164,     0.64264,     0.64364,     0.64464,     0.64565,     0.64665,     0.64765,\n",
       "           0.64865,     0.64965,     0.65065,     0.65165,     0.65265,     0.65365,     0.65465,     0.65566,     0.65666,     0.65766,     0.65866,     0.65966,     0.66066,     0.66166,     0.66266,     0.66366,     0.66466,     0.66567,     0.66667,     0.66767,     0.66867,     0.66967,     0.67067,     0.67167,\n",
       "           0.67267,     0.67367,     0.67467,     0.67568,     0.67668,     0.67768,     0.67868,     0.67968,     0.68068,     0.68168,     0.68268,     0.68368,     0.68468,     0.68569,     0.68669,     0.68769,     0.68869,     0.68969,     0.69069,     0.69169,     0.69269,     0.69369,     0.69469,      0.6957,\n",
       "            0.6967,      0.6977,      0.6987,      0.6997,      0.7007,      0.7017,      0.7027,      0.7037,      0.7047,     0.70571,     0.70671,     0.70771,     0.70871,     0.70971,     0.71071,     0.71171,     0.71271,     0.71371,     0.71471,     0.71572,     0.71672,     0.71772,     0.71872,     0.71972,\n",
       "           0.72072,     0.72172,     0.72272,     0.72372,     0.72472,     0.72573,     0.72673,     0.72773,     0.72873,     0.72973,     0.73073,     0.73173,     0.73273,     0.73373,     0.73473,     0.73574,     0.73674,     0.73774,     0.73874,     0.73974,     0.74074,     0.74174,     0.74274,     0.74374,\n",
       "           0.74474,     0.74575,     0.74675,     0.74775,     0.74875,     0.74975,     0.75075,     0.75175,     0.75275,     0.75375,     0.75475,     0.75576,     0.75676,     0.75776,     0.75876,     0.75976,     0.76076,     0.76176,     0.76276,     0.76376,     0.76476,     0.76577,     0.76677,     0.76777,\n",
       "           0.76877,     0.76977,     0.77077,     0.77177,     0.77277,     0.77377,     0.77477,     0.77578,     0.77678,     0.77778,     0.77878,     0.77978,     0.78078,     0.78178,     0.78278,     0.78378,     0.78478,     0.78579,     0.78679,     0.78779,     0.78879,     0.78979,     0.79079,     0.79179,\n",
       "           0.79279,     0.79379,     0.79479,      0.7958,      0.7968,      0.7978,      0.7988,      0.7998,      0.8008,      0.8018,      0.8028,      0.8038,      0.8048,     0.80581,     0.80681,     0.80781,     0.80881,     0.80981,     0.81081,     0.81181,     0.81281,     0.81381,     0.81481,     0.81582,\n",
       "           0.81682,     0.81782,     0.81882,     0.81982,     0.82082,     0.82182,     0.82282,     0.82382,     0.82482,     0.82583,     0.82683,     0.82783,     0.82883,     0.82983,     0.83083,     0.83183,     0.83283,     0.83383,     0.83483,     0.83584,     0.83684,     0.83784,     0.83884,     0.83984,\n",
       "           0.84084,     0.84184,     0.84284,     0.84384,     0.84484,     0.84585,     0.84685,     0.84785,     0.84885,     0.84985,     0.85085,     0.85185,     0.85285,     0.85385,     0.85485,     0.85586,     0.85686,     0.85786,     0.85886,     0.85986,     0.86086,     0.86186,     0.86286,     0.86386,\n",
       "           0.86486,     0.86587,     0.86687,     0.86787,     0.86887,     0.86987,     0.87087,     0.87187,     0.87287,     0.87387,     0.87487,     0.87588,     0.87688,     0.87788,     0.87888,     0.87988,     0.88088,     0.88188,     0.88288,     0.88388,     0.88488,     0.88589,     0.88689,     0.88789,\n",
       "           0.88889,     0.88989,     0.89089,     0.89189,     0.89289,     0.89389,     0.89489,      0.8959,      0.8969,      0.8979,      0.8989,      0.8999,      0.9009,      0.9019,      0.9029,      0.9039,      0.9049,     0.90591,     0.90691,     0.90791,     0.90891,     0.90991,     0.91091,     0.91191,\n",
       "           0.91291,     0.91391,     0.91491,     0.91592,     0.91692,     0.91792,     0.91892,     0.91992,     0.92092,     0.92192,     0.92292,     0.92392,     0.92492,     0.92593,     0.92693,     0.92793,     0.92893,     0.92993,     0.93093,     0.93193,     0.93293,     0.93393,     0.93493,     0.93594,\n",
       "           0.93694,     0.93794,     0.93894,     0.93994,     0.94094,     0.94194,     0.94294,     0.94394,     0.94494,     0.94595,     0.94695,     0.94795,     0.94895,     0.94995,     0.95095,     0.95195,     0.95295,     0.95395,     0.95495,     0.95596,     0.95696,     0.95796,     0.95896,     0.95996,\n",
       "           0.96096,     0.96196,     0.96296,     0.96396,     0.96496,     0.96597,     0.96697,     0.96797,     0.96897,     0.96997,     0.97097,     0.97197,     0.97297,     0.97397,     0.97497,     0.97598,     0.97698,     0.97798,     0.97898,     0.97998,     0.98098,     0.98198,     0.98298,     0.98398,\n",
       "           0.98498,     0.98599,     0.98699,     0.98799,     0.98899,     0.98999,     0.99099,     0.99199,     0.99299,     0.99399,     0.99499,       0.996,       0.997,       0.998,       0.999,           1]), array([[          1,           1,           1, ...,  0.00048763,  0.00024381,           0],\n",
       "       [          1,           1,           1, ...,      0.1158,      0.1158,           0],\n",
       "       [          1,           1,           1, ...,   0.0026297,   0.0013148,           0],\n",
       "       [          1,           1,           1, ...,    0.001595,  0.00079748,           0],\n",
       "       [          1,           1,           1, ...,    0.009345,   0.0046725,           0]]), 'Recall', 'Precision'], [array([          0,    0.001001,    0.002002,    0.003003,    0.004004,    0.005005,    0.006006,    0.007007,    0.008008,    0.009009,     0.01001,    0.011011,    0.012012,    0.013013,    0.014014,    0.015015,    0.016016,    0.017017,    0.018018,    0.019019,     0.02002,    0.021021,    0.022022,    0.023023,\n",
       "          0.024024,    0.025025,    0.026026,    0.027027,    0.028028,    0.029029,     0.03003,    0.031031,    0.032032,    0.033033,    0.034034,    0.035035,    0.036036,    0.037037,    0.038038,    0.039039,     0.04004,    0.041041,    0.042042,    0.043043,    0.044044,    0.045045,    0.046046,    0.047047,\n",
       "          0.048048,    0.049049,     0.05005,    0.051051,    0.052052,    0.053053,    0.054054,    0.055055,    0.056056,    0.057057,    0.058058,    0.059059,     0.06006,    0.061061,    0.062062,    0.063063,    0.064064,    0.065065,    0.066066,    0.067067,    0.068068,    0.069069,     0.07007,    0.071071,\n",
       "          0.072072,    0.073073,    0.074074,    0.075075,    0.076076,    0.077077,    0.078078,    0.079079,     0.08008,    0.081081,    0.082082,    0.083083,    0.084084,    0.085085,    0.086086,    0.087087,    0.088088,    0.089089,     0.09009,    0.091091,    0.092092,    0.093093,    0.094094,    0.095095,\n",
       "          0.096096,    0.097097,    0.098098,    0.099099,      0.1001,      0.1011,      0.1021,      0.1031,      0.1041,     0.10511,     0.10611,     0.10711,     0.10811,     0.10911,     0.11011,     0.11111,     0.11211,     0.11311,     0.11411,     0.11512,     0.11612,     0.11712,     0.11812,     0.11912,\n",
       "           0.12012,     0.12112,     0.12212,     0.12312,     0.12412,     0.12513,     0.12613,     0.12713,     0.12813,     0.12913,     0.13013,     0.13113,     0.13213,     0.13313,     0.13413,     0.13514,     0.13614,     0.13714,     0.13814,     0.13914,     0.14014,     0.14114,     0.14214,     0.14314,\n",
       "           0.14414,     0.14515,     0.14615,     0.14715,     0.14815,     0.14915,     0.15015,     0.15115,     0.15215,     0.15315,     0.15415,     0.15516,     0.15616,     0.15716,     0.15816,     0.15916,     0.16016,     0.16116,     0.16216,     0.16316,     0.16416,     0.16517,     0.16617,     0.16717,\n",
       "           0.16817,     0.16917,     0.17017,     0.17117,     0.17217,     0.17317,     0.17417,     0.17518,     0.17618,     0.17718,     0.17818,     0.17918,     0.18018,     0.18118,     0.18218,     0.18318,     0.18418,     0.18519,     0.18619,     0.18719,     0.18819,     0.18919,     0.19019,     0.19119,\n",
       "           0.19219,     0.19319,     0.19419,      0.1952,      0.1962,      0.1972,      0.1982,      0.1992,      0.2002,      0.2012,      0.2022,      0.2032,      0.2042,     0.20521,     0.20621,     0.20721,     0.20821,     0.20921,     0.21021,     0.21121,     0.21221,     0.21321,     0.21421,     0.21522,\n",
       "           0.21622,     0.21722,     0.21822,     0.21922,     0.22022,     0.22122,     0.22222,     0.22322,     0.22422,     0.22523,     0.22623,     0.22723,     0.22823,     0.22923,     0.23023,     0.23123,     0.23223,     0.23323,     0.23423,     0.23524,     0.23624,     0.23724,     0.23824,     0.23924,\n",
       "           0.24024,     0.24124,     0.24224,     0.24324,     0.24424,     0.24525,     0.24625,     0.24725,     0.24825,     0.24925,     0.25025,     0.25125,     0.25225,     0.25325,     0.25425,     0.25526,     0.25626,     0.25726,     0.25826,     0.25926,     0.26026,     0.26126,     0.26226,     0.26326,\n",
       "           0.26426,     0.26527,     0.26627,     0.26727,     0.26827,     0.26927,     0.27027,     0.27127,     0.27227,     0.27327,     0.27427,     0.27528,     0.27628,     0.27728,     0.27828,     0.27928,     0.28028,     0.28128,     0.28228,     0.28328,     0.28428,     0.28529,     0.28629,     0.28729,\n",
       "           0.28829,     0.28929,     0.29029,     0.29129,     0.29229,     0.29329,     0.29429,      0.2953,      0.2963,      0.2973,      0.2983,      0.2993,      0.3003,      0.3013,      0.3023,      0.3033,      0.3043,     0.30531,     0.30631,     0.30731,     0.30831,     0.30931,     0.31031,     0.31131,\n",
       "           0.31231,     0.31331,     0.31431,     0.31532,     0.31632,     0.31732,     0.31832,     0.31932,     0.32032,     0.32132,     0.32232,     0.32332,     0.32432,     0.32533,     0.32633,     0.32733,     0.32833,     0.32933,     0.33033,     0.33133,     0.33233,     0.33333,     0.33433,     0.33534,\n",
       "           0.33634,     0.33734,     0.33834,     0.33934,     0.34034,     0.34134,     0.34234,     0.34334,     0.34434,     0.34535,     0.34635,     0.34735,     0.34835,     0.34935,     0.35035,     0.35135,     0.35235,     0.35335,     0.35435,     0.35536,     0.35636,     0.35736,     0.35836,     0.35936,\n",
       "           0.36036,     0.36136,     0.36236,     0.36336,     0.36436,     0.36537,     0.36637,     0.36737,     0.36837,     0.36937,     0.37037,     0.37137,     0.37237,     0.37337,     0.37437,     0.37538,     0.37638,     0.37738,     0.37838,     0.37938,     0.38038,     0.38138,     0.38238,     0.38338,\n",
       "           0.38438,     0.38539,     0.38639,     0.38739,     0.38839,     0.38939,     0.39039,     0.39139,     0.39239,     0.39339,     0.39439,      0.3954,      0.3964,      0.3974,      0.3984,      0.3994,      0.4004,      0.4014,      0.4024,      0.4034,      0.4044,     0.40541,     0.40641,     0.40741,\n",
       "           0.40841,     0.40941,     0.41041,     0.41141,     0.41241,     0.41341,     0.41441,     0.41542,     0.41642,     0.41742,     0.41842,     0.41942,     0.42042,     0.42142,     0.42242,     0.42342,     0.42442,     0.42543,     0.42643,     0.42743,     0.42843,     0.42943,     0.43043,     0.43143,\n",
       "           0.43243,     0.43343,     0.43443,     0.43544,     0.43644,     0.43744,     0.43844,     0.43944,     0.44044,     0.44144,     0.44244,     0.44344,     0.44444,     0.44545,     0.44645,     0.44745,     0.44845,     0.44945,     0.45045,     0.45145,     0.45245,     0.45345,     0.45445,     0.45546,\n",
       "           0.45646,     0.45746,     0.45846,     0.45946,     0.46046,     0.46146,     0.46246,     0.46346,     0.46446,     0.46547,     0.46647,     0.46747,     0.46847,     0.46947,     0.47047,     0.47147,     0.47247,     0.47347,     0.47447,     0.47548,     0.47648,     0.47748,     0.47848,     0.47948,\n",
       "           0.48048,     0.48148,     0.48248,     0.48348,     0.48448,     0.48549,     0.48649,     0.48749,     0.48849,     0.48949,     0.49049,     0.49149,     0.49249,     0.49349,     0.49449,      0.4955,      0.4965,      0.4975,      0.4985,      0.4995,      0.5005,      0.5015,      0.5025,      0.5035,\n",
       "            0.5045,     0.50551,     0.50651,     0.50751,     0.50851,     0.50951,     0.51051,     0.51151,     0.51251,     0.51351,     0.51451,     0.51552,     0.51652,     0.51752,     0.51852,     0.51952,     0.52052,     0.52152,     0.52252,     0.52352,     0.52452,     0.52553,     0.52653,     0.52753,\n",
       "           0.52853,     0.52953,     0.53053,     0.53153,     0.53253,     0.53353,     0.53453,     0.53554,     0.53654,     0.53754,     0.53854,     0.53954,     0.54054,     0.54154,     0.54254,     0.54354,     0.54454,     0.54555,     0.54655,     0.54755,     0.54855,     0.54955,     0.55055,     0.55155,\n",
       "           0.55255,     0.55355,     0.55455,     0.55556,     0.55656,     0.55756,     0.55856,     0.55956,     0.56056,     0.56156,     0.56256,     0.56356,     0.56456,     0.56557,     0.56657,     0.56757,     0.56857,     0.56957,     0.57057,     0.57157,     0.57257,     0.57357,     0.57457,     0.57558,\n",
       "           0.57658,     0.57758,     0.57858,     0.57958,     0.58058,     0.58158,     0.58258,     0.58358,     0.58458,     0.58559,     0.58659,     0.58759,     0.58859,     0.58959,     0.59059,     0.59159,     0.59259,     0.59359,     0.59459,      0.5956,      0.5966,      0.5976,      0.5986,      0.5996,\n",
       "            0.6006,      0.6016,      0.6026,      0.6036,      0.6046,     0.60561,     0.60661,     0.60761,     0.60861,     0.60961,     0.61061,     0.61161,     0.61261,     0.61361,     0.61461,     0.61562,     0.61662,     0.61762,     0.61862,     0.61962,     0.62062,     0.62162,     0.62262,     0.62362,\n",
       "           0.62462,     0.62563,     0.62663,     0.62763,     0.62863,     0.62963,     0.63063,     0.63163,     0.63263,     0.63363,     0.63463,     0.63564,     0.63664,     0.63764,     0.63864,     0.63964,     0.64064,     0.64164,     0.64264,     0.64364,     0.64464,     0.64565,     0.64665,     0.64765,\n",
       "           0.64865,     0.64965,     0.65065,     0.65165,     0.65265,     0.65365,     0.65465,     0.65566,     0.65666,     0.65766,     0.65866,     0.65966,     0.66066,     0.66166,     0.66266,     0.66366,     0.66466,     0.66567,     0.66667,     0.66767,     0.66867,     0.66967,     0.67067,     0.67167,\n",
       "           0.67267,     0.67367,     0.67467,     0.67568,     0.67668,     0.67768,     0.67868,     0.67968,     0.68068,     0.68168,     0.68268,     0.68368,     0.68468,     0.68569,     0.68669,     0.68769,     0.68869,     0.68969,     0.69069,     0.69169,     0.69269,     0.69369,     0.69469,      0.6957,\n",
       "            0.6967,      0.6977,      0.6987,      0.6997,      0.7007,      0.7017,      0.7027,      0.7037,      0.7047,     0.70571,     0.70671,     0.70771,     0.70871,     0.70971,     0.71071,     0.71171,     0.71271,     0.71371,     0.71471,     0.71572,     0.71672,     0.71772,     0.71872,     0.71972,\n",
       "           0.72072,     0.72172,     0.72272,     0.72372,     0.72472,     0.72573,     0.72673,     0.72773,     0.72873,     0.72973,     0.73073,     0.73173,     0.73273,     0.73373,     0.73473,     0.73574,     0.73674,     0.73774,     0.73874,     0.73974,     0.74074,     0.74174,     0.74274,     0.74374,\n",
       "           0.74474,     0.74575,     0.74675,     0.74775,     0.74875,     0.74975,     0.75075,     0.75175,     0.75275,     0.75375,     0.75475,     0.75576,     0.75676,     0.75776,     0.75876,     0.75976,     0.76076,     0.76176,     0.76276,     0.76376,     0.76476,     0.76577,     0.76677,     0.76777,\n",
       "           0.76877,     0.76977,     0.77077,     0.77177,     0.77277,     0.77377,     0.77477,     0.77578,     0.77678,     0.77778,     0.77878,     0.77978,     0.78078,     0.78178,     0.78278,     0.78378,     0.78478,     0.78579,     0.78679,     0.78779,     0.78879,     0.78979,     0.79079,     0.79179,\n",
       "           0.79279,     0.79379,     0.79479,      0.7958,      0.7968,      0.7978,      0.7988,      0.7998,      0.8008,      0.8018,      0.8028,      0.8038,      0.8048,     0.80581,     0.80681,     0.80781,     0.80881,     0.80981,     0.81081,     0.81181,     0.81281,     0.81381,     0.81481,     0.81582,\n",
       "           0.81682,     0.81782,     0.81882,     0.81982,     0.82082,     0.82182,     0.82282,     0.82382,     0.82482,     0.82583,     0.82683,     0.82783,     0.82883,     0.82983,     0.83083,     0.83183,     0.83283,     0.83383,     0.83483,     0.83584,     0.83684,     0.83784,     0.83884,     0.83984,\n",
       "           0.84084,     0.84184,     0.84284,     0.84384,     0.84484,     0.84585,     0.84685,     0.84785,     0.84885,     0.84985,     0.85085,     0.85185,     0.85285,     0.85385,     0.85485,     0.85586,     0.85686,     0.85786,     0.85886,     0.85986,     0.86086,     0.86186,     0.86286,     0.86386,\n",
       "           0.86486,     0.86587,     0.86687,     0.86787,     0.86887,     0.86987,     0.87087,     0.87187,     0.87287,     0.87387,     0.87487,     0.87588,     0.87688,     0.87788,     0.87888,     0.87988,     0.88088,     0.88188,     0.88288,     0.88388,     0.88488,     0.88589,     0.88689,     0.88789,\n",
       "           0.88889,     0.88989,     0.89089,     0.89189,     0.89289,     0.89389,     0.89489,      0.8959,      0.8969,      0.8979,      0.8989,      0.8999,      0.9009,      0.9019,      0.9029,      0.9039,      0.9049,     0.90591,     0.90691,     0.90791,     0.90891,     0.90991,     0.91091,     0.91191,\n",
       "           0.91291,     0.91391,     0.91491,     0.91592,     0.91692,     0.91792,     0.91892,     0.91992,     0.92092,     0.92192,     0.92292,     0.92392,     0.92492,     0.92593,     0.92693,     0.92793,     0.92893,     0.92993,     0.93093,     0.93193,     0.93293,     0.93393,     0.93493,     0.93594,\n",
       "           0.93694,     0.93794,     0.93894,     0.93994,     0.94094,     0.94194,     0.94294,     0.94394,     0.94494,     0.94595,     0.94695,     0.94795,     0.94895,     0.94995,     0.95095,     0.95195,     0.95295,     0.95395,     0.95495,     0.95596,     0.95696,     0.95796,     0.95896,     0.95996,\n",
       "           0.96096,     0.96196,     0.96296,     0.96396,     0.96496,     0.96597,     0.96697,     0.96797,     0.96897,     0.96997,     0.97097,     0.97197,     0.97297,     0.97397,     0.97497,     0.97598,     0.97698,     0.97798,     0.97898,     0.97998,     0.98098,     0.98198,     0.98298,     0.98398,\n",
       "           0.98498,     0.98599,     0.98699,     0.98799,     0.98899,     0.98999,     0.99099,     0.99199,     0.99299,     0.99399,     0.99499,       0.996,       0.997,       0.998,       0.999,           1]), array([[    0.10369,     0.10369,     0.13769, ...,           0,           0,           0],\n",
       "       [    0.15691,     0.15691,     0.21826, ...,           0,           0,           0],\n",
       "       [    0.22925,     0.22925,     0.31369, ...,           0,           0,           0],\n",
       "       [    0.19617,     0.19617,     0.24825, ...,           0,           0,           0],\n",
       "       [    0.36547,     0.36547,     0.46951, ...,           0,           0,           0]]), 'Confidence', 'F1'], [array([          0,    0.001001,    0.002002,    0.003003,    0.004004,    0.005005,    0.006006,    0.007007,    0.008008,    0.009009,     0.01001,    0.011011,    0.012012,    0.013013,    0.014014,    0.015015,    0.016016,    0.017017,    0.018018,    0.019019,     0.02002,    0.021021,    0.022022,    0.023023,\n",
       "          0.024024,    0.025025,    0.026026,    0.027027,    0.028028,    0.029029,     0.03003,    0.031031,    0.032032,    0.033033,    0.034034,    0.035035,    0.036036,    0.037037,    0.038038,    0.039039,     0.04004,    0.041041,    0.042042,    0.043043,    0.044044,    0.045045,    0.046046,    0.047047,\n",
       "          0.048048,    0.049049,     0.05005,    0.051051,    0.052052,    0.053053,    0.054054,    0.055055,    0.056056,    0.057057,    0.058058,    0.059059,     0.06006,    0.061061,    0.062062,    0.063063,    0.064064,    0.065065,    0.066066,    0.067067,    0.068068,    0.069069,     0.07007,    0.071071,\n",
       "          0.072072,    0.073073,    0.074074,    0.075075,    0.076076,    0.077077,    0.078078,    0.079079,     0.08008,    0.081081,    0.082082,    0.083083,    0.084084,    0.085085,    0.086086,    0.087087,    0.088088,    0.089089,     0.09009,    0.091091,    0.092092,    0.093093,    0.094094,    0.095095,\n",
       "          0.096096,    0.097097,    0.098098,    0.099099,      0.1001,      0.1011,      0.1021,      0.1031,      0.1041,     0.10511,     0.10611,     0.10711,     0.10811,     0.10911,     0.11011,     0.11111,     0.11211,     0.11311,     0.11411,     0.11512,     0.11612,     0.11712,     0.11812,     0.11912,\n",
       "           0.12012,     0.12112,     0.12212,     0.12312,     0.12412,     0.12513,     0.12613,     0.12713,     0.12813,     0.12913,     0.13013,     0.13113,     0.13213,     0.13313,     0.13413,     0.13514,     0.13614,     0.13714,     0.13814,     0.13914,     0.14014,     0.14114,     0.14214,     0.14314,\n",
       "           0.14414,     0.14515,     0.14615,     0.14715,     0.14815,     0.14915,     0.15015,     0.15115,     0.15215,     0.15315,     0.15415,     0.15516,     0.15616,     0.15716,     0.15816,     0.15916,     0.16016,     0.16116,     0.16216,     0.16316,     0.16416,     0.16517,     0.16617,     0.16717,\n",
       "           0.16817,     0.16917,     0.17017,     0.17117,     0.17217,     0.17317,     0.17417,     0.17518,     0.17618,     0.17718,     0.17818,     0.17918,     0.18018,     0.18118,     0.18218,     0.18318,     0.18418,     0.18519,     0.18619,     0.18719,     0.18819,     0.18919,     0.19019,     0.19119,\n",
       "           0.19219,     0.19319,     0.19419,      0.1952,      0.1962,      0.1972,      0.1982,      0.1992,      0.2002,      0.2012,      0.2022,      0.2032,      0.2042,     0.20521,     0.20621,     0.20721,     0.20821,     0.20921,     0.21021,     0.21121,     0.21221,     0.21321,     0.21421,     0.21522,\n",
       "           0.21622,     0.21722,     0.21822,     0.21922,     0.22022,     0.22122,     0.22222,     0.22322,     0.22422,     0.22523,     0.22623,     0.22723,     0.22823,     0.22923,     0.23023,     0.23123,     0.23223,     0.23323,     0.23423,     0.23524,     0.23624,     0.23724,     0.23824,     0.23924,\n",
       "           0.24024,     0.24124,     0.24224,     0.24324,     0.24424,     0.24525,     0.24625,     0.24725,     0.24825,     0.24925,     0.25025,     0.25125,     0.25225,     0.25325,     0.25425,     0.25526,     0.25626,     0.25726,     0.25826,     0.25926,     0.26026,     0.26126,     0.26226,     0.26326,\n",
       "           0.26426,     0.26527,     0.26627,     0.26727,     0.26827,     0.26927,     0.27027,     0.27127,     0.27227,     0.27327,     0.27427,     0.27528,     0.27628,     0.27728,     0.27828,     0.27928,     0.28028,     0.28128,     0.28228,     0.28328,     0.28428,     0.28529,     0.28629,     0.28729,\n",
       "           0.28829,     0.28929,     0.29029,     0.29129,     0.29229,     0.29329,     0.29429,      0.2953,      0.2963,      0.2973,      0.2983,      0.2993,      0.3003,      0.3013,      0.3023,      0.3033,      0.3043,     0.30531,     0.30631,     0.30731,     0.30831,     0.30931,     0.31031,     0.31131,\n",
       "           0.31231,     0.31331,     0.31431,     0.31532,     0.31632,     0.31732,     0.31832,     0.31932,     0.32032,     0.32132,     0.32232,     0.32332,     0.32432,     0.32533,     0.32633,     0.32733,     0.32833,     0.32933,     0.33033,     0.33133,     0.33233,     0.33333,     0.33433,     0.33534,\n",
       "           0.33634,     0.33734,     0.33834,     0.33934,     0.34034,     0.34134,     0.34234,     0.34334,     0.34434,     0.34535,     0.34635,     0.34735,     0.34835,     0.34935,     0.35035,     0.35135,     0.35235,     0.35335,     0.35435,     0.35536,     0.35636,     0.35736,     0.35836,     0.35936,\n",
       "           0.36036,     0.36136,     0.36236,     0.36336,     0.36436,     0.36537,     0.36637,     0.36737,     0.36837,     0.36937,     0.37037,     0.37137,     0.37237,     0.37337,     0.37437,     0.37538,     0.37638,     0.37738,     0.37838,     0.37938,     0.38038,     0.38138,     0.38238,     0.38338,\n",
       "           0.38438,     0.38539,     0.38639,     0.38739,     0.38839,     0.38939,     0.39039,     0.39139,     0.39239,     0.39339,     0.39439,      0.3954,      0.3964,      0.3974,      0.3984,      0.3994,      0.4004,      0.4014,      0.4024,      0.4034,      0.4044,     0.40541,     0.40641,     0.40741,\n",
       "           0.40841,     0.40941,     0.41041,     0.41141,     0.41241,     0.41341,     0.41441,     0.41542,     0.41642,     0.41742,     0.41842,     0.41942,     0.42042,     0.42142,     0.42242,     0.42342,     0.42442,     0.42543,     0.42643,     0.42743,     0.42843,     0.42943,     0.43043,     0.43143,\n",
       "           0.43243,     0.43343,     0.43443,     0.43544,     0.43644,     0.43744,     0.43844,     0.43944,     0.44044,     0.44144,     0.44244,     0.44344,     0.44444,     0.44545,     0.44645,     0.44745,     0.44845,     0.44945,     0.45045,     0.45145,     0.45245,     0.45345,     0.45445,     0.45546,\n",
       "           0.45646,     0.45746,     0.45846,     0.45946,     0.46046,     0.46146,     0.46246,     0.46346,     0.46446,     0.46547,     0.46647,     0.46747,     0.46847,     0.46947,     0.47047,     0.47147,     0.47247,     0.47347,     0.47447,     0.47548,     0.47648,     0.47748,     0.47848,     0.47948,\n",
       "           0.48048,     0.48148,     0.48248,     0.48348,     0.48448,     0.48549,     0.48649,     0.48749,     0.48849,     0.48949,     0.49049,     0.49149,     0.49249,     0.49349,     0.49449,      0.4955,      0.4965,      0.4975,      0.4985,      0.4995,      0.5005,      0.5015,      0.5025,      0.5035,\n",
       "            0.5045,     0.50551,     0.50651,     0.50751,     0.50851,     0.50951,     0.51051,     0.51151,     0.51251,     0.51351,     0.51451,     0.51552,     0.51652,     0.51752,     0.51852,     0.51952,     0.52052,     0.52152,     0.52252,     0.52352,     0.52452,     0.52553,     0.52653,     0.52753,\n",
       "           0.52853,     0.52953,     0.53053,     0.53153,     0.53253,     0.53353,     0.53453,     0.53554,     0.53654,     0.53754,     0.53854,     0.53954,     0.54054,     0.54154,     0.54254,     0.54354,     0.54454,     0.54555,     0.54655,     0.54755,     0.54855,     0.54955,     0.55055,     0.55155,\n",
       "           0.55255,     0.55355,     0.55455,     0.55556,     0.55656,     0.55756,     0.55856,     0.55956,     0.56056,     0.56156,     0.56256,     0.56356,     0.56456,     0.56557,     0.56657,     0.56757,     0.56857,     0.56957,     0.57057,     0.57157,     0.57257,     0.57357,     0.57457,     0.57558,\n",
       "           0.57658,     0.57758,     0.57858,     0.57958,     0.58058,     0.58158,     0.58258,     0.58358,     0.58458,     0.58559,     0.58659,     0.58759,     0.58859,     0.58959,     0.59059,     0.59159,     0.59259,     0.59359,     0.59459,      0.5956,      0.5966,      0.5976,      0.5986,      0.5996,\n",
       "            0.6006,      0.6016,      0.6026,      0.6036,      0.6046,     0.60561,     0.60661,     0.60761,     0.60861,     0.60961,     0.61061,     0.61161,     0.61261,     0.61361,     0.61461,     0.61562,     0.61662,     0.61762,     0.61862,     0.61962,     0.62062,     0.62162,     0.62262,     0.62362,\n",
       "           0.62462,     0.62563,     0.62663,     0.62763,     0.62863,     0.62963,     0.63063,     0.63163,     0.63263,     0.63363,     0.63463,     0.63564,     0.63664,     0.63764,     0.63864,     0.63964,     0.64064,     0.64164,     0.64264,     0.64364,     0.64464,     0.64565,     0.64665,     0.64765,\n",
       "           0.64865,     0.64965,     0.65065,     0.65165,     0.65265,     0.65365,     0.65465,     0.65566,     0.65666,     0.65766,     0.65866,     0.65966,     0.66066,     0.66166,     0.66266,     0.66366,     0.66466,     0.66567,     0.66667,     0.66767,     0.66867,     0.66967,     0.67067,     0.67167,\n",
       "           0.67267,     0.67367,     0.67467,     0.67568,     0.67668,     0.67768,     0.67868,     0.67968,     0.68068,     0.68168,     0.68268,     0.68368,     0.68468,     0.68569,     0.68669,     0.68769,     0.68869,     0.68969,     0.69069,     0.69169,     0.69269,     0.69369,     0.69469,      0.6957,\n",
       "            0.6967,      0.6977,      0.6987,      0.6997,      0.7007,      0.7017,      0.7027,      0.7037,      0.7047,     0.70571,     0.70671,     0.70771,     0.70871,     0.70971,     0.71071,     0.71171,     0.71271,     0.71371,     0.71471,     0.71572,     0.71672,     0.71772,     0.71872,     0.71972,\n",
       "           0.72072,     0.72172,     0.72272,     0.72372,     0.72472,     0.72573,     0.72673,     0.72773,     0.72873,     0.72973,     0.73073,     0.73173,     0.73273,     0.73373,     0.73473,     0.73574,     0.73674,     0.73774,     0.73874,     0.73974,     0.74074,     0.74174,     0.74274,     0.74374,\n",
       "           0.74474,     0.74575,     0.74675,     0.74775,     0.74875,     0.74975,     0.75075,     0.75175,     0.75275,     0.75375,     0.75475,     0.75576,     0.75676,     0.75776,     0.75876,     0.75976,     0.76076,     0.76176,     0.76276,     0.76376,     0.76476,     0.76577,     0.76677,     0.76777,\n",
       "           0.76877,     0.76977,     0.77077,     0.77177,     0.77277,     0.77377,     0.77477,     0.77578,     0.77678,     0.77778,     0.77878,     0.77978,     0.78078,     0.78178,     0.78278,     0.78378,     0.78478,     0.78579,     0.78679,     0.78779,     0.78879,     0.78979,     0.79079,     0.79179,\n",
       "           0.79279,     0.79379,     0.79479,      0.7958,      0.7968,      0.7978,      0.7988,      0.7998,      0.8008,      0.8018,      0.8028,      0.8038,      0.8048,     0.80581,     0.80681,     0.80781,     0.80881,     0.80981,     0.81081,     0.81181,     0.81281,     0.81381,     0.81481,     0.81582,\n",
       "           0.81682,     0.81782,     0.81882,     0.81982,     0.82082,     0.82182,     0.82282,     0.82382,     0.82482,     0.82583,     0.82683,     0.82783,     0.82883,     0.82983,     0.83083,     0.83183,     0.83283,     0.83383,     0.83483,     0.83584,     0.83684,     0.83784,     0.83884,     0.83984,\n",
       "           0.84084,     0.84184,     0.84284,     0.84384,     0.84484,     0.84585,     0.84685,     0.84785,     0.84885,     0.84985,     0.85085,     0.85185,     0.85285,     0.85385,     0.85485,     0.85586,     0.85686,     0.85786,     0.85886,     0.85986,     0.86086,     0.86186,     0.86286,     0.86386,\n",
       "           0.86486,     0.86587,     0.86687,     0.86787,     0.86887,     0.86987,     0.87087,     0.87187,     0.87287,     0.87387,     0.87487,     0.87588,     0.87688,     0.87788,     0.87888,     0.87988,     0.88088,     0.88188,     0.88288,     0.88388,     0.88488,     0.88589,     0.88689,     0.88789,\n",
       "           0.88889,     0.88989,     0.89089,     0.89189,     0.89289,     0.89389,     0.89489,      0.8959,      0.8969,      0.8979,      0.8989,      0.8999,      0.9009,      0.9019,      0.9029,      0.9039,      0.9049,     0.90591,     0.90691,     0.90791,     0.90891,     0.90991,     0.91091,     0.91191,\n",
       "           0.91291,     0.91391,     0.91491,     0.91592,     0.91692,     0.91792,     0.91892,     0.91992,     0.92092,     0.92192,     0.92292,     0.92392,     0.92492,     0.92593,     0.92693,     0.92793,     0.92893,     0.92993,     0.93093,     0.93193,     0.93293,     0.93393,     0.93493,     0.93594,\n",
       "           0.93694,     0.93794,     0.93894,     0.93994,     0.94094,     0.94194,     0.94294,     0.94394,     0.94494,     0.94595,     0.94695,     0.94795,     0.94895,     0.94995,     0.95095,     0.95195,     0.95295,     0.95395,     0.95495,     0.95596,     0.95696,     0.95796,     0.95896,     0.95996,\n",
       "           0.96096,     0.96196,     0.96296,     0.96396,     0.96496,     0.96597,     0.96697,     0.96797,     0.96897,     0.96997,     0.97097,     0.97197,     0.97297,     0.97397,     0.97497,     0.97598,     0.97698,     0.97798,     0.97898,     0.97998,     0.98098,     0.98198,     0.98298,     0.98398,\n",
       "           0.98498,     0.98599,     0.98699,     0.98799,     0.98899,     0.98999,     0.99099,     0.99199,     0.99299,     0.99399,     0.99499,       0.996,       0.997,       0.998,       0.999,           1]), array([[   0.055581,    0.055581,    0.075914, ...,           1,           1,           1],\n",
       "       [   0.085137,    0.085137,     0.12263, ...,           1,           1,           1],\n",
       "       [    0.13135,     0.13135,     0.19028, ...,           1,           1,           1],\n",
       "       [    0.11069,     0.11069,     0.14536, ...,           1,           1,           1],\n",
       "       [    0.22617,     0.22617,     0.31251, ...,           1,           1,           1]]), 'Confidence', 'Precision'], [array([          0,    0.001001,    0.002002,    0.003003,    0.004004,    0.005005,    0.006006,    0.007007,    0.008008,    0.009009,     0.01001,    0.011011,    0.012012,    0.013013,    0.014014,    0.015015,    0.016016,    0.017017,    0.018018,    0.019019,     0.02002,    0.021021,    0.022022,    0.023023,\n",
       "          0.024024,    0.025025,    0.026026,    0.027027,    0.028028,    0.029029,     0.03003,    0.031031,    0.032032,    0.033033,    0.034034,    0.035035,    0.036036,    0.037037,    0.038038,    0.039039,     0.04004,    0.041041,    0.042042,    0.043043,    0.044044,    0.045045,    0.046046,    0.047047,\n",
       "          0.048048,    0.049049,     0.05005,    0.051051,    0.052052,    0.053053,    0.054054,    0.055055,    0.056056,    0.057057,    0.058058,    0.059059,     0.06006,    0.061061,    0.062062,    0.063063,    0.064064,    0.065065,    0.066066,    0.067067,    0.068068,    0.069069,     0.07007,    0.071071,\n",
       "          0.072072,    0.073073,    0.074074,    0.075075,    0.076076,    0.077077,    0.078078,    0.079079,     0.08008,    0.081081,    0.082082,    0.083083,    0.084084,    0.085085,    0.086086,    0.087087,    0.088088,    0.089089,     0.09009,    0.091091,    0.092092,    0.093093,    0.094094,    0.095095,\n",
       "          0.096096,    0.097097,    0.098098,    0.099099,      0.1001,      0.1011,      0.1021,      0.1031,      0.1041,     0.10511,     0.10611,     0.10711,     0.10811,     0.10911,     0.11011,     0.11111,     0.11211,     0.11311,     0.11411,     0.11512,     0.11612,     0.11712,     0.11812,     0.11912,\n",
       "           0.12012,     0.12112,     0.12212,     0.12312,     0.12412,     0.12513,     0.12613,     0.12713,     0.12813,     0.12913,     0.13013,     0.13113,     0.13213,     0.13313,     0.13413,     0.13514,     0.13614,     0.13714,     0.13814,     0.13914,     0.14014,     0.14114,     0.14214,     0.14314,\n",
       "           0.14414,     0.14515,     0.14615,     0.14715,     0.14815,     0.14915,     0.15015,     0.15115,     0.15215,     0.15315,     0.15415,     0.15516,     0.15616,     0.15716,     0.15816,     0.15916,     0.16016,     0.16116,     0.16216,     0.16316,     0.16416,     0.16517,     0.16617,     0.16717,\n",
       "           0.16817,     0.16917,     0.17017,     0.17117,     0.17217,     0.17317,     0.17417,     0.17518,     0.17618,     0.17718,     0.17818,     0.17918,     0.18018,     0.18118,     0.18218,     0.18318,     0.18418,     0.18519,     0.18619,     0.18719,     0.18819,     0.18919,     0.19019,     0.19119,\n",
       "           0.19219,     0.19319,     0.19419,      0.1952,      0.1962,      0.1972,      0.1982,      0.1992,      0.2002,      0.2012,      0.2022,      0.2032,      0.2042,     0.20521,     0.20621,     0.20721,     0.20821,     0.20921,     0.21021,     0.21121,     0.21221,     0.21321,     0.21421,     0.21522,\n",
       "           0.21622,     0.21722,     0.21822,     0.21922,     0.22022,     0.22122,     0.22222,     0.22322,     0.22422,     0.22523,     0.22623,     0.22723,     0.22823,     0.22923,     0.23023,     0.23123,     0.23223,     0.23323,     0.23423,     0.23524,     0.23624,     0.23724,     0.23824,     0.23924,\n",
       "           0.24024,     0.24124,     0.24224,     0.24324,     0.24424,     0.24525,     0.24625,     0.24725,     0.24825,     0.24925,     0.25025,     0.25125,     0.25225,     0.25325,     0.25425,     0.25526,     0.25626,     0.25726,     0.25826,     0.25926,     0.26026,     0.26126,     0.26226,     0.26326,\n",
       "           0.26426,     0.26527,     0.26627,     0.26727,     0.26827,     0.26927,     0.27027,     0.27127,     0.27227,     0.27327,     0.27427,     0.27528,     0.27628,     0.27728,     0.27828,     0.27928,     0.28028,     0.28128,     0.28228,     0.28328,     0.28428,     0.28529,     0.28629,     0.28729,\n",
       "           0.28829,     0.28929,     0.29029,     0.29129,     0.29229,     0.29329,     0.29429,      0.2953,      0.2963,      0.2973,      0.2983,      0.2993,      0.3003,      0.3013,      0.3023,      0.3033,      0.3043,     0.30531,     0.30631,     0.30731,     0.30831,     0.30931,     0.31031,     0.31131,\n",
       "           0.31231,     0.31331,     0.31431,     0.31532,     0.31632,     0.31732,     0.31832,     0.31932,     0.32032,     0.32132,     0.32232,     0.32332,     0.32432,     0.32533,     0.32633,     0.32733,     0.32833,     0.32933,     0.33033,     0.33133,     0.33233,     0.33333,     0.33433,     0.33534,\n",
       "           0.33634,     0.33734,     0.33834,     0.33934,     0.34034,     0.34134,     0.34234,     0.34334,     0.34434,     0.34535,     0.34635,     0.34735,     0.34835,     0.34935,     0.35035,     0.35135,     0.35235,     0.35335,     0.35435,     0.35536,     0.35636,     0.35736,     0.35836,     0.35936,\n",
       "           0.36036,     0.36136,     0.36236,     0.36336,     0.36436,     0.36537,     0.36637,     0.36737,     0.36837,     0.36937,     0.37037,     0.37137,     0.37237,     0.37337,     0.37437,     0.37538,     0.37638,     0.37738,     0.37838,     0.37938,     0.38038,     0.38138,     0.38238,     0.38338,\n",
       "           0.38438,     0.38539,     0.38639,     0.38739,     0.38839,     0.38939,     0.39039,     0.39139,     0.39239,     0.39339,     0.39439,      0.3954,      0.3964,      0.3974,      0.3984,      0.3994,      0.4004,      0.4014,      0.4024,      0.4034,      0.4044,     0.40541,     0.40641,     0.40741,\n",
       "           0.40841,     0.40941,     0.41041,     0.41141,     0.41241,     0.41341,     0.41441,     0.41542,     0.41642,     0.41742,     0.41842,     0.41942,     0.42042,     0.42142,     0.42242,     0.42342,     0.42442,     0.42543,     0.42643,     0.42743,     0.42843,     0.42943,     0.43043,     0.43143,\n",
       "           0.43243,     0.43343,     0.43443,     0.43544,     0.43644,     0.43744,     0.43844,     0.43944,     0.44044,     0.44144,     0.44244,     0.44344,     0.44444,     0.44545,     0.44645,     0.44745,     0.44845,     0.44945,     0.45045,     0.45145,     0.45245,     0.45345,     0.45445,     0.45546,\n",
       "           0.45646,     0.45746,     0.45846,     0.45946,     0.46046,     0.46146,     0.46246,     0.46346,     0.46446,     0.46547,     0.46647,     0.46747,     0.46847,     0.46947,     0.47047,     0.47147,     0.47247,     0.47347,     0.47447,     0.47548,     0.47648,     0.47748,     0.47848,     0.47948,\n",
       "           0.48048,     0.48148,     0.48248,     0.48348,     0.48448,     0.48549,     0.48649,     0.48749,     0.48849,     0.48949,     0.49049,     0.49149,     0.49249,     0.49349,     0.49449,      0.4955,      0.4965,      0.4975,      0.4985,      0.4995,      0.5005,      0.5015,      0.5025,      0.5035,\n",
       "            0.5045,     0.50551,     0.50651,     0.50751,     0.50851,     0.50951,     0.51051,     0.51151,     0.51251,     0.51351,     0.51451,     0.51552,     0.51652,     0.51752,     0.51852,     0.51952,     0.52052,     0.52152,     0.52252,     0.52352,     0.52452,     0.52553,     0.52653,     0.52753,\n",
       "           0.52853,     0.52953,     0.53053,     0.53153,     0.53253,     0.53353,     0.53453,     0.53554,     0.53654,     0.53754,     0.53854,     0.53954,     0.54054,     0.54154,     0.54254,     0.54354,     0.54454,     0.54555,     0.54655,     0.54755,     0.54855,     0.54955,     0.55055,     0.55155,\n",
       "           0.55255,     0.55355,     0.55455,     0.55556,     0.55656,     0.55756,     0.55856,     0.55956,     0.56056,     0.56156,     0.56256,     0.56356,     0.56456,     0.56557,     0.56657,     0.56757,     0.56857,     0.56957,     0.57057,     0.57157,     0.57257,     0.57357,     0.57457,     0.57558,\n",
       "           0.57658,     0.57758,     0.57858,     0.57958,     0.58058,     0.58158,     0.58258,     0.58358,     0.58458,     0.58559,     0.58659,     0.58759,     0.58859,     0.58959,     0.59059,     0.59159,     0.59259,     0.59359,     0.59459,      0.5956,      0.5966,      0.5976,      0.5986,      0.5996,\n",
       "            0.6006,      0.6016,      0.6026,      0.6036,      0.6046,     0.60561,     0.60661,     0.60761,     0.60861,     0.60961,     0.61061,     0.61161,     0.61261,     0.61361,     0.61461,     0.61562,     0.61662,     0.61762,     0.61862,     0.61962,     0.62062,     0.62162,     0.62262,     0.62362,\n",
       "           0.62462,     0.62563,     0.62663,     0.62763,     0.62863,     0.62963,     0.63063,     0.63163,     0.63263,     0.63363,     0.63463,     0.63564,     0.63664,     0.63764,     0.63864,     0.63964,     0.64064,     0.64164,     0.64264,     0.64364,     0.64464,     0.64565,     0.64665,     0.64765,\n",
       "           0.64865,     0.64965,     0.65065,     0.65165,     0.65265,     0.65365,     0.65465,     0.65566,     0.65666,     0.65766,     0.65866,     0.65966,     0.66066,     0.66166,     0.66266,     0.66366,     0.66466,     0.66567,     0.66667,     0.66767,     0.66867,     0.66967,     0.67067,     0.67167,\n",
       "           0.67267,     0.67367,     0.67467,     0.67568,     0.67668,     0.67768,     0.67868,     0.67968,     0.68068,     0.68168,     0.68268,     0.68368,     0.68468,     0.68569,     0.68669,     0.68769,     0.68869,     0.68969,     0.69069,     0.69169,     0.69269,     0.69369,     0.69469,      0.6957,\n",
       "            0.6967,      0.6977,      0.6987,      0.6997,      0.7007,      0.7017,      0.7027,      0.7037,      0.7047,     0.70571,     0.70671,     0.70771,     0.70871,     0.70971,     0.71071,     0.71171,     0.71271,     0.71371,     0.71471,     0.71572,     0.71672,     0.71772,     0.71872,     0.71972,\n",
       "           0.72072,     0.72172,     0.72272,     0.72372,     0.72472,     0.72573,     0.72673,     0.72773,     0.72873,     0.72973,     0.73073,     0.73173,     0.73273,     0.73373,     0.73473,     0.73574,     0.73674,     0.73774,     0.73874,     0.73974,     0.74074,     0.74174,     0.74274,     0.74374,\n",
       "           0.74474,     0.74575,     0.74675,     0.74775,     0.74875,     0.74975,     0.75075,     0.75175,     0.75275,     0.75375,     0.75475,     0.75576,     0.75676,     0.75776,     0.75876,     0.75976,     0.76076,     0.76176,     0.76276,     0.76376,     0.76476,     0.76577,     0.76677,     0.76777,\n",
       "           0.76877,     0.76977,     0.77077,     0.77177,     0.77277,     0.77377,     0.77477,     0.77578,     0.77678,     0.77778,     0.77878,     0.77978,     0.78078,     0.78178,     0.78278,     0.78378,     0.78478,     0.78579,     0.78679,     0.78779,     0.78879,     0.78979,     0.79079,     0.79179,\n",
       "           0.79279,     0.79379,     0.79479,      0.7958,      0.7968,      0.7978,      0.7988,      0.7998,      0.8008,      0.8018,      0.8028,      0.8038,      0.8048,     0.80581,     0.80681,     0.80781,     0.80881,     0.80981,     0.81081,     0.81181,     0.81281,     0.81381,     0.81481,     0.81582,\n",
       "           0.81682,     0.81782,     0.81882,     0.81982,     0.82082,     0.82182,     0.82282,     0.82382,     0.82482,     0.82583,     0.82683,     0.82783,     0.82883,     0.82983,     0.83083,     0.83183,     0.83283,     0.83383,     0.83483,     0.83584,     0.83684,     0.83784,     0.83884,     0.83984,\n",
       "           0.84084,     0.84184,     0.84284,     0.84384,     0.84484,     0.84585,     0.84685,     0.84785,     0.84885,     0.84985,     0.85085,     0.85185,     0.85285,     0.85385,     0.85485,     0.85586,     0.85686,     0.85786,     0.85886,     0.85986,     0.86086,     0.86186,     0.86286,     0.86386,\n",
       "           0.86486,     0.86587,     0.86687,     0.86787,     0.86887,     0.86987,     0.87087,     0.87187,     0.87287,     0.87387,     0.87487,     0.87588,     0.87688,     0.87788,     0.87888,     0.87988,     0.88088,     0.88188,     0.88288,     0.88388,     0.88488,     0.88589,     0.88689,     0.88789,\n",
       "           0.88889,     0.88989,     0.89089,     0.89189,     0.89289,     0.89389,     0.89489,      0.8959,      0.8969,      0.8979,      0.8989,      0.8999,      0.9009,      0.9019,      0.9029,      0.9039,      0.9049,     0.90591,     0.90691,     0.90791,     0.90891,     0.90991,     0.91091,     0.91191,\n",
       "           0.91291,     0.91391,     0.91491,     0.91592,     0.91692,     0.91792,     0.91892,     0.91992,     0.92092,     0.92192,     0.92292,     0.92392,     0.92492,     0.92593,     0.92693,     0.92793,     0.92893,     0.92993,     0.93093,     0.93193,     0.93293,     0.93393,     0.93493,     0.93594,\n",
       "           0.93694,     0.93794,     0.93894,     0.93994,     0.94094,     0.94194,     0.94294,     0.94394,     0.94494,     0.94595,     0.94695,     0.94795,     0.94895,     0.94995,     0.95095,     0.95195,     0.95295,     0.95395,     0.95495,     0.95596,     0.95696,     0.95796,     0.95896,     0.95996,\n",
       "           0.96096,     0.96196,     0.96296,     0.96396,     0.96496,     0.96597,     0.96697,     0.96797,     0.96897,     0.96997,     0.97097,     0.97197,     0.97297,     0.97397,     0.97497,     0.97598,     0.97698,     0.97798,     0.97898,     0.97998,     0.98098,     0.98198,     0.98298,     0.98398,\n",
       "           0.98498,     0.98599,     0.98699,     0.98799,     0.98899,     0.98999,     0.99099,     0.99199,     0.99299,     0.99399,     0.99499,       0.996,       0.997,       0.998,       0.999,           1]), array([[    0.77181,     0.77181,     0.73957, ...,           0,           0,           0],\n",
       "       [          1,           1,     0.99153, ...,           0,           0,           0],\n",
       "       [        0.9,         0.9,     0.89259, ...,           0,           0,           0],\n",
       "       [    0.86106,     0.86106,     0.84959, ...,           0,           0,           0],\n",
       "       [    0.95155,     0.95155,     0.94347, ...,           0,           0,           0]]), 'Confidence', 'Recall']]\n",
       "fitness: 0.5325482044177406\n",
       "keys: ['metrics/precision(B)', 'metrics/recall(B)', 'metrics/mAP50(B)', 'metrics/mAP50-95(B)']\n",
       "maps: array([    0.25248,     0.82756,     0.44829,     0.38892,     0.61992,     0.50743])\n",
       "names: {0: 'Car', 1: 'STN', 2: 'Tree', 3: 'Bird', 4: 'House', 5: 'Cable'}\n",
       "plot: True\n",
       "results_dict: {'metrics/precision(B)': 0.7866285979721687, 'metrics/recall(B)': 0.7143531318931234, 'metrics/mAP50(B)': 0.7585861195892118, 'metrics/mAP50-95(B)': 0.5074328805097994, 'fitness': 0.5325482044177406}\n",
       "save_dir: WindowsPath('runs/detect/train')\n",
       "speed: {'preprocess': 0.29552917854458677, 'inference': 1.7310641392940231, 'loss': 0.0007007302356367352, 'postprocess': 1.353638345787839}\n",
       "task: 'detect'"
      ]
     },
     "execution_count": 3,
     "metadata": {},
     "output_type": "execute_result"
    }
   ],
   "source": [
    "model = YOLO('yolov8n.yaml').load('yolov8n.pt')\n",
    "model.train(\n",
    "    data=pathYalm, \n",
    "    epochs=epochTraning, \n",
    "    patience=patience, \n",
    "    imgsz=imgsz,\n",
    "    device=0,\n",
    "    project='./yolo_cache/'\n",
    ") "
   ]
  },
  {
   "cell_type": "code",
   "execution_count": 36,
   "id": "ab63b41e-430d-4aa7-8900-6ea9d2543102",
   "metadata": {
    "scrolled": true
   },
   "outputs": [
    {
     "name": "stdout",
     "output_type": "stream",
     "text": [
      "WARNING  Ultralytics YOLO P6 models now use -p6 suffix. Renaming yolov5n6 to yolov5n-p6.\n",
      "PRO TIP  Replace 'model=yolov5n6.pt' with new 'model=yolov5n6u.pt'.\n",
      "YOLOv5 'u' models are trained with https://github.com/ultralytics/ultralytics and feature improved performance vs standard YOLOv5 models trained with https://github.com/ultralytics/yolov5.\n",
      "\n",
      "Transferred 563/563 items from pretrained weights\n",
      "Ultralytics YOLOv8.1.47  Python-3.9.6 torch-2.1.0+cu121 CUDA:0 (NVIDIA GeForce RTX 3080, 10240MiB)\n",
      "\u001b[34m\u001b[1mengine\\trainer: \u001b[0mtask=detect, mode=train, model=yolov5n6.yaml, data=./DATA/yolo.yaml, epochs=250, time=None, patience=30, batch=16, imgsz=1280, save=True, save_period=-1, cache=False, device=0, workers=8, project=None, name=train2, exist_ok=False, pretrained=True, optimizer=auto, verbose=True, seed=0, deterministic=True, single_cls=False, rect=False, cos_lr=False, close_mosaic=10, resume=False, amp=True, fraction=1.0, profile=False, freeze=None, multi_scale=False, overlap_mask=True, mask_ratio=4, dropout=0.0, val=True, split=val, save_json=False, save_hybrid=False, conf=None, iou=0.7, max_det=300, half=False, dnn=False, plots=True, source=None, vid_stride=1, stream_buffer=False, visualize=False, augment=False, agnostic_nms=False, classes=None, retina_masks=False, embed=None, show=False, save_frames=False, save_txt=False, save_conf=False, save_crop=False, show_labels=True, show_conf=True, show_boxes=True, line_width=None, format=torchscript, keras=False, optimize=False, int8=False, dynamic=False, simplify=False, opset=None, workspace=4, nms=False, lr0=0.01, lrf=0.01, momentum=0.937, weight_decay=0.0005, warmup_epochs=3.0, warmup_momentum=0.8, warmup_bias_lr=0.1, box=7.5, cls=0.5, dfl=1.5, pose=12.0, kobj=1.0, label_smoothing=0.0, nbs=64, hsv_h=0.015, hsv_s=0.7, hsv_v=0.4, degrees=0.0, translate=0.1, scale=0.5, shear=0.0, perspective=0.0, flipud=0.0, fliplr=0.5, bgr=0.0, mosaic=1.0, mixup=0.0, copy_paste=0.0, auto_augment=randaugment, erasing=0.4, crop_fraction=1.0, cfg=None, tracker=botsort.yaml, save_dir=runs\\detect\\train2\n",
      "Overriding model.yaml nc=80 with nc=6\n",
      "\n",
      "                   from  n    params  module                                       arguments                     \n",
      "  0                  -1  1      1760  ultralytics.nn.modules.conv.Conv             [3, 16, 6, 2, 2]              \n",
      "  1                  -1  1      4672  ultralytics.nn.modules.conv.Conv             [16, 32, 3, 2]                \n",
      "  2                  -1  1      4800  ultralytics.nn.modules.block.C3              [32, 32, 1]                   \n",
      "  3                  -1  1     18560  ultralytics.nn.modules.conv.Conv             [32, 64, 3, 2]                \n",
      "  4                  -1  2     29184  ultralytics.nn.modules.block.C3              [64, 64, 2]                   \n",
      "  5                  -1  1     73984  ultralytics.nn.modules.conv.Conv             [64, 128, 3, 2]               \n",
      "  6                  -1  3    156928  ultralytics.nn.modules.block.C3              [128, 128, 3]                 \n",
      "  7                  -1  1    221568  ultralytics.nn.modules.conv.Conv             [128, 192, 3, 2]              \n",
      "  8                  -1  1    167040  ultralytics.nn.modules.block.C3              [192, 192, 1]                 \n",
      "  9                  -1  1    442880  ultralytics.nn.modules.conv.Conv             [192, 256, 3, 2]              \n",
      " 10                  -1  1    296448  ultralytics.nn.modules.block.C3              [256, 256, 1]                 \n",
      " 11                  -1  1    164608  ultralytics.nn.modules.block.SPPF            [256, 256, 5]                 \n",
      " 12                  -1  1     49536  ultralytics.nn.modules.conv.Conv             [256, 192, 1, 1]              \n",
      " 13                  -1  1         0  torch.nn.modules.upsampling.Upsample         [None, 2, 'nearest']          \n",
      " 14             [-1, 8]  1         0  ultralytics.nn.modules.conv.Concat           [1]                           \n",
      " 15                  -1  1    203904  ultralytics.nn.modules.block.C3              [384, 192, 1, False]          \n",
      " 16                  -1  1     24832  ultralytics.nn.modules.conv.Conv             [192, 128, 1, 1]              \n",
      " 17                  -1  1         0  torch.nn.modules.upsampling.Upsample         [None, 2, 'nearest']          \n",
      " 18             [-1, 6]  1         0  ultralytics.nn.modules.conv.Concat           [1]                           \n",
      " 19                  -1  1     90880  ultralytics.nn.modules.block.C3              [256, 128, 1, False]          \n",
      " 20                  -1  1      8320  ultralytics.nn.modules.conv.Conv             [128, 64, 1, 1]               \n",
      " 21                  -1  1         0  torch.nn.modules.upsampling.Upsample         [None, 2, 'nearest']          \n",
      " 22             [-1, 4]  1         0  ultralytics.nn.modules.conv.Concat           [1]                           \n",
      " 23                  -1  1     22912  ultralytics.nn.modules.block.C3              [128, 64, 1, False]           \n",
      " 24                  -1  1     36992  ultralytics.nn.modules.conv.Conv             [64, 64, 3, 2]                \n",
      " 25            [-1, 20]  1         0  ultralytics.nn.modules.conv.Concat           [1]                           \n",
      " 26                  -1  1     74496  ultralytics.nn.modules.block.C3              [128, 128, 1, False]          \n",
      " 27                  -1  1    147712  ultralytics.nn.modules.conv.Conv             [128, 128, 3, 2]              \n",
      " 28            [-1, 16]  1         0  ultralytics.nn.modules.conv.Concat           [1]                           \n",
      " 29                  -1  1    179328  ultralytics.nn.modules.block.C3              [256, 192, 1, False]          \n",
      " 30                  -1  1    332160  ultralytics.nn.modules.conv.Conv             [192, 192, 3, 2]              \n",
      " 31            [-1, 12]  1         0  ultralytics.nn.modules.conv.Concat           [1]                           \n",
      " 32                  -1  1    329216  ultralytics.nn.modules.block.C3              [384, 256, 1, False]          \n",
      " 33    [23, 26, 29, 32]  1   1052456  ultralytics.nn.modules.head.Detect           [6, [64, 128, 192, 256]]      \n",
      "YOLOv5n-p6 summary: 344 layers, 4135176 parameters, 4135160 gradients, 7.3 GFLOPs\n",
      "\n",
      "Transferred 515/563 items from pretrained weights\n",
      "Freezing layer 'model.33.dfl.conv.weight'\n",
      "\u001b[34m\u001b[1mAMP: \u001b[0mrunning Automatic Mixed Precision (AMP) checks with YOLOv8n...\n",
      "\u001b[34m\u001b[1mAMP: \u001b[0mchecks passed \n"
     ]
    },
    {
     "name": "stderr",
     "output_type": "stream",
     "text": [
      "\u001b[34m\u001b[1mtrain: \u001b[0mScanning D:\\MyProjects\\Хакатоны\\TerraWing\\src\\neural_network\\DATA\\train\\labels.cache... 4973 images, 873 backgro\u001b[0m"
     ]
    },
    {
     "name": "stdout",
     "output_type": "stream",
     "text": [
      "\u001b[34m\u001b[1mtrain: \u001b[0mWARNING  D:\\MyProjects\\\\TerraWing\\src\\neural_network\\DATA\\train\\images\\image_000001036_jpg.rf.3eb241105e26834305cefe3448dc4f6e.jpg: 1 duplicate labels removed\n"
     ]
    },
    {
     "name": "stderr",
     "output_type": "stream",
     "text": [
      "\n",
      "\u001b[34m\u001b[1mval: \u001b[0mScanning D:\\MyProjects\\Хакатоны\\TerraWing\\src\\neural_network\\DATA\\valid\\labels.cache... 1428 images, 241 backgroun\u001b[0m\n"
     ]
    },
    {
     "name": "stdout",
     "output_type": "stream",
     "text": [
      "Plotting labels to runs\\detect\\train2\\labels.jpg... \n",
      "\u001b[34m\u001b[1moptimizer:\u001b[0m 'optimizer=auto' found, ignoring 'lr0=0.01' and 'momentum=0.937' and determining best 'optimizer', 'lr0' and 'momentum' automatically... \n",
      "\u001b[34m\u001b[1moptimizer:\u001b[0m SGD(lr=0.01, momentum=0.9) with parameter groups 91 weight(decay=0.0), 100 weight(decay=0.0005), 99 bias(decay=0.0)\n",
      "Image sizes 1280 train, 1280 val\n",
      "Using 8 dataloader workers\n",
      "Logging results to \u001b[1mruns\\detect\\train2\u001b[0m\n",
      "Starting training for 250 epochs...\n",
      "\n",
      "      Epoch    GPU_mem   box_loss   cls_loss   dfl_loss  Instances       Size\n"
     ]
    },
    {
     "name": "stderr",
     "output_type": "stream",
     "text": [
      "      1/250      10.5G      1.401      3.785      1.482         56       1280: 100%|██████████| 311/311 [02:19<00:00,  \n",
      "                 Class     Images  Instances      Box(P          R      mAP50  mAP50-95): 100%|██████████| 45/45 [00:23\n"
     ]
    },
    {
     "name": "stdout",
     "output_type": "stream",
     "text": [
      "                   all       1428       4552      0.513      0.485      0.449      0.245\n",
      "\n",
      "      Epoch    GPU_mem   box_loss   cls_loss   dfl_loss  Instances       Size\n"
     ]
    },
    {
     "name": "stderr",
     "output_type": "stream",
     "text": [
      "      2/250      11.3G      1.452      2.824      1.495         74       1280: 100%|██████████| 311/311 [02:09<00:00,  \n",
      "                 Class     Images  Instances      Box(P          R      mAP50  mAP50-95): 100%|██████████| 45/45 [00:37\n"
     ]
    },
    {
     "name": "stdout",
     "output_type": "stream",
     "text": [
      "                   all       1428       4552      0.522      0.478       0.46      0.244\n",
      "\n",
      "      Epoch    GPU_mem   box_loss   cls_loss   dfl_loss  Instances       Size\n"
     ]
    },
    {
     "name": "stderr",
     "output_type": "stream",
     "text": [
      "      3/250        11G      1.556      2.417      1.565         93       1280: 100%|██████████| 311/311 [02:26<00:00,  \n",
      "                 Class     Images  Instances      Box(P          R      mAP50  mAP50-95): 100%|██████████| 45/45 [00:20\n"
     ]
    },
    {
     "name": "stdout",
     "output_type": "stream",
     "text": [
      "                   all       1428       4552      0.512      0.422        0.4      0.196\n",
      "\n",
      "      Epoch    GPU_mem   box_loss   cls_loss   dfl_loss  Instances       Size\n"
     ]
    },
    {
     "name": "stderr",
     "output_type": "stream",
     "text": [
      "      4/250      12.3G      1.651      2.154      1.623         48       1280: 100%|██████████| 311/311 [02:10<00:00,  \n",
      "                 Class     Images  Instances      Box(P          R      mAP50  mAP50-95): 100%|██████████| 45/45 [00:55"
     ]
    },
    {
     "name": "stdout",
     "output_type": "stream",
     "text": [
      "                   all       1428       4552      0.551      0.454      0.459      0.238\n"
     ]
    },
    {
     "name": "stderr",
     "output_type": "stream",
     "text": [
      "\n"
     ]
    },
    {
     "name": "stdout",
     "output_type": "stream",
     "text": [
      "\n",
      "      Epoch    GPU_mem   box_loss   cls_loss   dfl_loss  Instances       Size\n"
     ]
    },
    {
     "name": "stderr",
     "output_type": "stream",
     "text": [
      "      5/250      10.8G      1.623      1.941      1.613        123       1280: 100%|██████████| 311/311 [02:04<00:00,  \n",
      "                 Class     Images  Instances      Box(P          R      mAP50  mAP50-95): 100%|██████████| 45/45 [00:30"
     ]
    },
    {
     "name": "stdout",
     "output_type": "stream",
     "text": [
      "                   all       1428       4552      0.523      0.454      0.445      0.231\n"
     ]
    },
    {
     "name": "stderr",
     "output_type": "stream",
     "text": [
      "\n"
     ]
    },
    {
     "name": "stdout",
     "output_type": "stream",
     "text": [
      "\n",
      "      Epoch    GPU_mem   box_loss   cls_loss   dfl_loss  Instances       Size\n"
     ]
    },
    {
     "name": "stderr",
     "output_type": "stream",
     "text": [
      "      6/250      11.6G        1.6      1.842      1.584         69       1280: 100%|██████████| 311/311 [03:05<00:00,  \n",
      "                 Class     Images  Instances      Box(P          R      mAP50  mAP50-95): 100%|██████████| 45/45 [00:52"
     ]
    },
    {
     "name": "stdout",
     "output_type": "stream",
     "text": [
      "                   all       1428       4552      0.578      0.448      0.474      0.254\n"
     ]
    },
    {
     "name": "stderr",
     "output_type": "stream",
     "text": [
      "\n"
     ]
    },
    {
     "name": "stdout",
     "output_type": "stream",
     "text": [
      "\n",
      "      Epoch    GPU_mem   box_loss   cls_loss   dfl_loss  Instances       Size\n"
     ]
    },
    {
     "name": "stderr",
     "output_type": "stream",
     "text": [
      "      7/250      10.8G      1.554      1.767      1.566         47       1280: 100%|██████████| 311/311 [02:03<00:00,  \n",
      "                 Class     Images  Instances      Box(P          R      mAP50  mAP50-95): 100%|██████████| 45/45 [00:32"
     ]
    },
    {
     "name": "stdout",
     "output_type": "stream",
     "text": [
      "                   all       1428       4552      0.561       0.48      0.496      0.271\n"
     ]
    },
    {
     "name": "stderr",
     "output_type": "stream",
     "text": [
      "\n"
     ]
    },
    {
     "name": "stdout",
     "output_type": "stream",
     "text": [
      "\n",
      "      Epoch    GPU_mem   box_loss   cls_loss   dfl_loss  Instances       Size\n"
     ]
    },
    {
     "name": "stderr",
     "output_type": "stream",
     "text": [
      "      8/250      11.7G       1.56      1.698      1.557         49       1280: 100%|██████████| 311/311 [02:20<00:00,  \n",
      "                 Class     Images  Instances      Box(P          R      mAP50  mAP50-95): 100%|██████████| 45/45 [00:21\n"
     ]
    },
    {
     "name": "stdout",
     "output_type": "stream",
     "text": [
      "                   all       1428       4552      0.588      0.519      0.537      0.294\n",
      "\n",
      "      Epoch    GPU_mem   box_loss   cls_loss   dfl_loss  Instances       Size\n"
     ]
    },
    {
     "name": "stderr",
     "output_type": "stream",
     "text": [
      "      9/250      10.1G       1.53      1.679       1.55        135       1280: 100%|██████████| 311/311 [01:59<00:00,  \n",
      "                 Class     Images  Instances      Box(P          R      mAP50  mAP50-95): 100%|██████████| 45/45 [00:33"
     ]
    },
    {
     "name": "stdout",
     "output_type": "stream",
     "text": [
      "                   all       1428       4552       0.63      0.517      0.557      0.316\n"
     ]
    },
    {
     "name": "stderr",
     "output_type": "stream",
     "text": [
      "\n"
     ]
    },
    {
     "name": "stdout",
     "output_type": "stream",
     "text": [
      "\n",
      "      Epoch    GPU_mem   box_loss   cls_loss   dfl_loss  Instances       Size\n"
     ]
    },
    {
     "name": "stderr",
     "output_type": "stream",
     "text": [
      "     10/250      11.5G      1.513      1.611       1.52         59       1280: 100%|██████████| 311/311 [02:42<00:00,  \n",
      "                 Class     Images  Instances      Box(P          R      mAP50  mAP50-95): 100%|██████████| 45/45 [00:21"
     ]
    },
    {
     "name": "stdout",
     "output_type": "stream",
     "text": [
      "                   all       1428       4552      0.621      0.553      0.574      0.322\n"
     ]
    },
    {
     "name": "stderr",
     "output_type": "stream",
     "text": [
      "\n"
     ]
    },
    {
     "name": "stdout",
     "output_type": "stream",
     "text": [
      "\n",
      "      Epoch    GPU_mem   box_loss   cls_loss   dfl_loss  Instances       Size\n"
     ]
    },
    {
     "name": "stderr",
     "output_type": "stream",
     "text": [
      "     11/250        10G      1.483      1.568       1.51         87       1280: 100%|██████████| 311/311 [01:59<00:00,  \n",
      "                 Class     Images  Instances      Box(P          R      mAP50  mAP50-95): 100%|██████████| 45/45 [00:35"
     ]
    },
    {
     "name": "stdout",
     "output_type": "stream",
     "text": [
      "                   all       1428       4552      0.644      0.549      0.588      0.342\n"
     ]
    },
    {
     "name": "stderr",
     "output_type": "stream",
     "text": [
      "\n"
     ]
    },
    {
     "name": "stdout",
     "output_type": "stream",
     "text": [
      "\n",
      "      Epoch    GPU_mem   box_loss   cls_loss   dfl_loss  Instances       Size\n"
     ]
    },
    {
     "name": "stderr",
     "output_type": "stream",
     "text": [
      "     12/250      10.5G      1.468      1.519      1.492        124       1280: 100%|██████████| 311/311 [02:26<00:00,  \n",
      "                 Class     Images  Instances      Box(P          R      mAP50  mAP50-95): 100%|██████████| 45/45 [00:15\n"
     ]
    },
    {
     "name": "stdout",
     "output_type": "stream",
     "text": [
      "                   all       1428       4552      0.654      0.553      0.593      0.356\n",
      "\n",
      "      Epoch    GPU_mem   box_loss   cls_loss   dfl_loss  Instances       Size\n"
     ]
    },
    {
     "name": "stderr",
     "output_type": "stream",
     "text": [
      "     13/250        10G      1.456      1.499      1.489         57       1280: 100%|██████████| 311/311 [01:58<00:00,  \n",
      "                 Class     Images  Instances      Box(P          R      mAP50  mAP50-95): 100%|██████████| 45/45 [00:16"
     ]
    },
    {
     "name": "stdout",
     "output_type": "stream",
     "text": [
      "                   all       1428       4552      0.658      0.587      0.627      0.361\n"
     ]
    },
    {
     "name": "stderr",
     "output_type": "stream",
     "text": [
      "\n"
     ]
    },
    {
     "name": "stdout",
     "output_type": "stream",
     "text": [
      "\n",
      "      Epoch    GPU_mem   box_loss   cls_loss   dfl_loss  Instances       Size\n"
     ]
    },
    {
     "name": "stderr",
     "output_type": "stream",
     "text": [
      "     14/250      10.2G      1.444      1.478       1.48         78       1280: 100%|██████████| 311/311 [01:59<00:00,  \n",
      "                 Class     Images  Instances      Box(P          R      mAP50  mAP50-95): 100%|██████████| 45/45 [00:27"
     ]
    },
    {
     "name": "stdout",
     "output_type": "stream",
     "text": [
      "                   all       1428       4552      0.639      0.556      0.605      0.364\n"
     ]
    },
    {
     "name": "stderr",
     "output_type": "stream",
     "text": [
      "\n"
     ]
    },
    {
     "name": "stdout",
     "output_type": "stream",
     "text": [
      "\n",
      "      Epoch    GPU_mem   box_loss   cls_loss   dfl_loss  Instances       Size\n"
     ]
    },
    {
     "name": "stderr",
     "output_type": "stream",
     "text": [
      "     15/250      10.4G      1.436      1.464      1.467         72       1280: 100%|██████████| 311/311 [02:00<00:00,  \n",
      "                 Class     Images  Instances      Box(P          R      mAP50  mAP50-95): 100%|██████████| 45/45 [00:16"
     ]
    },
    {
     "name": "stdout",
     "output_type": "stream",
     "text": [
      "                   all       1428       4552      0.674      0.588      0.641      0.382\n"
     ]
    },
    {
     "name": "stderr",
     "output_type": "stream",
     "text": [
      "\n"
     ]
    },
    {
     "name": "stdout",
     "output_type": "stream",
     "text": [
      "\n",
      "      Epoch    GPU_mem   box_loss   cls_loss   dfl_loss  Instances       Size\n"
     ]
    },
    {
     "name": "stderr",
     "output_type": "stream",
     "text": [
      "     16/250      10.1G      1.419      1.422       1.46         88       1280: 100%|██████████| 311/311 [01:58<00:00,  \n",
      "                 Class     Images  Instances      Box(P          R      mAP50  mAP50-95): 100%|██████████| 45/45 [00:15\n"
     ]
    },
    {
     "name": "stdout",
     "output_type": "stream",
     "text": [
      "                   all       1428       4552      0.675      0.578      0.642      0.386\n",
      "\n",
      "      Epoch    GPU_mem   box_loss   cls_loss   dfl_loss  Instances       Size\n"
     ]
    },
    {
     "name": "stderr",
     "output_type": "stream",
     "text": [
      "     17/250      9.81G       1.42      1.411      1.459         50       1280: 100%|██████████| 311/311 [01:58<00:00,  \n",
      "                 Class     Images  Instances      Box(P          R      mAP50  mAP50-95): 100%|██████████| 45/45 [00:33"
     ]
    },
    {
     "name": "stdout",
     "output_type": "stream",
     "text": [
      "                   all       1428       4552      0.687      0.598      0.646      0.392\n"
     ]
    },
    {
     "name": "stderr",
     "output_type": "stream",
     "text": [
      "\n"
     ]
    },
    {
     "name": "stdout",
     "output_type": "stream",
     "text": [
      "\n",
      "      Epoch    GPU_mem   box_loss   cls_loss   dfl_loss  Instances       Size\n"
     ]
    },
    {
     "name": "stderr",
     "output_type": "stream",
     "text": [
      "     18/250      11.9G      1.417      1.395      1.451         62       1280: 100%|██████████| 311/311 [02:01<00:00,  \n",
      "                 Class     Images  Instances      Box(P          R      mAP50  mAP50-95): 100%|██████████| 45/45 [00:20\n"
     ]
    },
    {
     "name": "stdout",
     "output_type": "stream",
     "text": [
      "                   all       1428       4552      0.674       0.58      0.635      0.385\n",
      "\n",
      "      Epoch    GPU_mem   box_loss   cls_loss   dfl_loss  Instances       Size\n"
     ]
    },
    {
     "name": "stderr",
     "output_type": "stream",
     "text": [
      "     19/250      12.7G       1.39      1.403      1.438         83       1280: 100%|██████████| 311/311 [02:02<00:00,  \n",
      "                 Class     Images  Instances      Box(P          R      mAP50  mAP50-95): 100%|██████████| 45/45 [00:18\n"
     ]
    },
    {
     "name": "stdout",
     "output_type": "stream",
     "text": [
      "                   all       1428       4552      0.677      0.587      0.638      0.398\n",
      "\n",
      "      Epoch    GPU_mem   box_loss   cls_loss   dfl_loss  Instances       Size\n"
     ]
    },
    {
     "name": "stderr",
     "output_type": "stream",
     "text": [
      "     20/250      12.5G      1.385      1.366       1.44         65       1280: 100%|██████████| 311/311 [02:15<00:00,  \n",
      "                 Class     Images  Instances      Box(P          R      mAP50  mAP50-95): 100%|██████████| 45/45 [00:19"
     ]
    },
    {
     "name": "stdout",
     "output_type": "stream",
     "text": [
      "                   all       1428       4552      0.707      0.593      0.664      0.408\n"
     ]
    },
    {
     "name": "stderr",
     "output_type": "stream",
     "text": [
      "\n"
     ]
    },
    {
     "name": "stdout",
     "output_type": "stream",
     "text": [
      "\n",
      "      Epoch    GPU_mem   box_loss   cls_loss   dfl_loss  Instances       Size\n"
     ]
    },
    {
     "name": "stderr",
     "output_type": "stream",
     "text": [
      "     21/250      10.9G      1.371      1.338      1.417         61       1280: 100%|██████████| 311/311 [01:59<00:00,  \n",
      "                 Class     Images  Instances      Box(P          R      mAP50  mAP50-95): 100%|██████████| 45/45 [00:31"
     ]
    },
    {
     "name": "stdout",
     "output_type": "stream",
     "text": [
      "                   all       1428       4552      0.705      0.621      0.677      0.416\n"
     ]
    },
    {
     "name": "stderr",
     "output_type": "stream",
     "text": [
      "\n"
     ]
    },
    {
     "name": "stdout",
     "output_type": "stream",
     "text": [
      "\n",
      "      Epoch    GPU_mem   box_loss   cls_loss   dfl_loss  Instances       Size\n"
     ]
    },
    {
     "name": "stderr",
     "output_type": "stream",
     "text": [
      "     22/250      11.3G      1.381      1.327      1.418        123       1280: 100%|██████████| 311/311 [02:03<00:00,  \n",
      "                 Class     Images  Instances      Box(P          R      mAP50  mAP50-95): 100%|██████████| 45/45 [00:37"
     ]
    },
    {
     "name": "stdout",
     "output_type": "stream",
     "text": [
      "                   all       1428       4552      0.694      0.629      0.675      0.417\n"
     ]
    },
    {
     "name": "stderr",
     "output_type": "stream",
     "text": [
      "\n"
     ]
    },
    {
     "name": "stdout",
     "output_type": "stream",
     "text": [
      "\n",
      "      Epoch    GPU_mem   box_loss   cls_loss   dfl_loss  Instances       Size\n"
     ]
    },
    {
     "name": "stderr",
     "output_type": "stream",
     "text": [
      "     23/250      11.5G       1.36       1.32       1.42        127       1280: 100%|██████████| 311/311 [04:42<00:00,  \n",
      "                 Class     Images  Instances      Box(P          R      mAP50  mAP50-95): 100%|██████████| 45/45 [00:46"
     ]
    },
    {
     "name": "stdout",
     "output_type": "stream",
     "text": [
      "                   all       1428       4552      0.704      0.601      0.669       0.42\n"
     ]
    },
    {
     "name": "stderr",
     "output_type": "stream",
     "text": [
      "\n"
     ]
    },
    {
     "name": "stdout",
     "output_type": "stream",
     "text": [
      "\n",
      "      Epoch    GPU_mem   box_loss   cls_loss   dfl_loss  Instances       Size\n"
     ]
    },
    {
     "name": "stderr",
     "output_type": "stream",
     "text": [
      "     24/250        11G      1.362      1.315      1.417         65       1280: 100%|██████████| 311/311 [02:02<00:00,  \n",
      "                 Class     Images  Instances      Box(P          R      mAP50  mAP50-95): 100%|██████████| 45/45 [00:18"
     ]
    },
    {
     "name": "stdout",
     "output_type": "stream",
     "text": [
      "                   all       1428       4552      0.709       0.61      0.676      0.426\n"
     ]
    },
    {
     "name": "stderr",
     "output_type": "stream",
     "text": [
      "\n"
     ]
    },
    {
     "name": "stdout",
     "output_type": "stream",
     "text": [
      "\n",
      "      Epoch    GPU_mem   box_loss   cls_loss   dfl_loss  Instances       Size\n"
     ]
    },
    {
     "name": "stderr",
     "output_type": "stream",
     "text": [
      "     25/250      11.3G       1.35      1.289      1.402         57       1280: 100%|██████████| 311/311 [05:38<00:00,  \n",
      "                 Class     Images  Instances      Box(P          R      mAP50  mAP50-95): 100%|██████████| 45/45 [00:53"
     ]
    },
    {
     "name": "stdout",
     "output_type": "stream",
     "text": [
      "                   all       1428       4552      0.743      0.614      0.692      0.435\n"
     ]
    },
    {
     "name": "stderr",
     "output_type": "stream",
     "text": [
      "\n"
     ]
    },
    {
     "name": "stdout",
     "output_type": "stream",
     "text": [
      "\n",
      "      Epoch    GPU_mem   box_loss   cls_loss   dfl_loss  Instances       Size\n"
     ]
    },
    {
     "name": "stderr",
     "output_type": "stream",
     "text": [
      "     26/250      10.2G      1.321      1.273      1.395         66       1280: 100%|██████████| 311/311 [02:09<00:00,  \n",
      "                 Class     Images  Instances      Box(P          R      mAP50  mAP50-95): 100%|██████████| 45/45 [00:40\n"
     ]
    },
    {
     "name": "stdout",
     "output_type": "stream",
     "text": [
      "                   all       1428       4552      0.687      0.628      0.685      0.435\n",
      "\n",
      "      Epoch    GPU_mem   box_loss   cls_loss   dfl_loss  Instances       Size\n"
     ]
    },
    {
     "name": "stderr",
     "output_type": "stream",
     "text": [
      "     27/250      10.3G      1.338      1.271      1.397         63       1280: 100%|██████████| 311/311 [02:07<00:00,  \n",
      "                 Class     Images  Instances      Box(P          R      mAP50  mAP50-95): 100%|██████████| 45/45 [00:32"
     ]
    },
    {
     "name": "stdout",
     "output_type": "stream",
     "text": [
      "                   all       1428       4552      0.711      0.617      0.683      0.431\n"
     ]
    },
    {
     "name": "stderr",
     "output_type": "stream",
     "text": [
      "\n"
     ]
    },
    {
     "name": "stdout",
     "output_type": "stream",
     "text": [
      "\n",
      "      Epoch    GPU_mem   box_loss   cls_loss   dfl_loss  Instances       Size\n"
     ]
    },
    {
     "name": "stderr",
     "output_type": "stream",
     "text": [
      "     28/250      10.2G      1.314       1.24      1.382         38       1280: 100%|██████████| 311/311 [02:00<00:00,  \n",
      "                 Class     Images  Instances      Box(P          R      mAP50  mAP50-95): 100%|██████████| 45/45 [00:16\n"
     ]
    },
    {
     "name": "stdout",
     "output_type": "stream",
     "text": [
      "                   all       1428       4552      0.753      0.598       0.69      0.438\n",
      "\n",
      "      Epoch    GPU_mem   box_loss   cls_loss   dfl_loss  Instances       Size\n"
     ]
    },
    {
     "name": "stderr",
     "output_type": "stream",
     "text": [
      "     29/250      12.4G      1.325      1.248      1.395         90       1280: 100%|██████████| 311/311 [02:05<00:00,  \n",
      "                 Class     Images  Instances      Box(P          R      mAP50  mAP50-95): 100%|██████████| 45/45 [00:19"
     ]
    },
    {
     "name": "stdout",
     "output_type": "stream",
     "text": [
      "                   all       1428       4552      0.752      0.631      0.707      0.451\n"
     ]
    },
    {
     "name": "stderr",
     "output_type": "stream",
     "text": [
      "\n"
     ]
    },
    {
     "name": "stdout",
     "output_type": "stream",
     "text": [
      "\n",
      "      Epoch    GPU_mem   box_loss   cls_loss   dfl_loss  Instances       Size\n"
     ]
    },
    {
     "name": "stderr",
     "output_type": "stream",
     "text": [
      "     30/250      11.6G      1.301      1.223      1.376        121       1280: 100%|██████████| 311/311 [02:00<00:00,  \n",
      "                 Class     Images  Instances      Box(P          R      mAP50  mAP50-95): 100%|██████████| 45/45 [00:14"
     ]
    },
    {
     "name": "stdout",
     "output_type": "stream",
     "text": [
      "                   all       1428       4552       0.77      0.627      0.712      0.454\n"
     ]
    },
    {
     "name": "stderr",
     "output_type": "stream",
     "text": [
      "\n"
     ]
    },
    {
     "name": "stdout",
     "output_type": "stream",
     "text": [
      "\n",
      "      Epoch    GPU_mem   box_loss   cls_loss   dfl_loss  Instances       Size\n"
     ]
    },
    {
     "name": "stderr",
     "output_type": "stream",
     "text": [
      "     31/250        11G       1.29      1.209      1.365         51       1280: 100%|██████████| 311/311 [01:59<00:00,  \n",
      "                 Class     Images  Instances      Box(P          R      mAP50  mAP50-95): 100%|██████████| 45/45 [00:15"
     ]
    },
    {
     "name": "stdout",
     "output_type": "stream",
     "text": [
      "                   all       1428       4552      0.711      0.649      0.705      0.456\n"
     ]
    },
    {
     "name": "stderr",
     "output_type": "stream",
     "text": [
      "\n"
     ]
    },
    {
     "name": "stdout",
     "output_type": "stream",
     "text": [
      "\n",
      "      Epoch    GPU_mem   box_loss   cls_loss   dfl_loss  Instances       Size\n"
     ]
    },
    {
     "name": "stderr",
     "output_type": "stream",
     "text": [
      "     32/250      10.5G      1.297      1.214       1.37        161       1280: 100%|██████████| 311/311 [02:07<00:00,  \n",
      "                 Class     Images  Instances      Box(P          R      mAP50  mAP50-95): 100%|██████████| 45/45 [00:43"
     ]
    },
    {
     "name": "stdout",
     "output_type": "stream",
     "text": [
      "                   all       1428       4552      0.755      0.621      0.699      0.448\n"
     ]
    },
    {
     "name": "stderr",
     "output_type": "stream",
     "text": [
      "\n"
     ]
    },
    {
     "name": "stdout",
     "output_type": "stream",
     "text": [
      "\n",
      "      Epoch    GPU_mem   box_loss   cls_loss   dfl_loss  Instances       Size\n"
     ]
    },
    {
     "name": "stderr",
     "output_type": "stream",
     "text": [
      "     33/250      11.8G      1.288      1.194      1.361         84       1280: 100%|██████████| 311/311 [01:59<00:00,  \n",
      "                 Class     Images  Instances      Box(P          R      mAP50  mAP50-95): 100%|██████████| 45/45 [00:16"
     ]
    },
    {
     "name": "stdout",
     "output_type": "stream",
     "text": [
      "                   all       1428       4552      0.765      0.617      0.705      0.449\n"
     ]
    },
    {
     "name": "stderr",
     "output_type": "stream",
     "text": [
      "\n"
     ]
    },
    {
     "name": "stdout",
     "output_type": "stream",
     "text": [
      "\n",
      "      Epoch    GPU_mem   box_loss   cls_loss   dfl_loss  Instances       Size\n"
     ]
    },
    {
     "name": "stderr",
     "output_type": "stream",
     "text": [
      "     34/250      11.5G       1.29      1.196      1.365         58       1280: 100%|██████████| 311/311 [02:01<00:00,  \n",
      "                 Class     Images  Instances      Box(P          R      mAP50  mAP50-95): 100%|██████████| 45/45 [00:27"
     ]
    },
    {
     "name": "stdout",
     "output_type": "stream",
     "text": [
      "                   all       1428       4552      0.746      0.626      0.706      0.453\n"
     ]
    },
    {
     "name": "stderr",
     "output_type": "stream",
     "text": [
      "\n"
     ]
    },
    {
     "name": "stdout",
     "output_type": "stream",
     "text": [
      "\n",
      "      Epoch    GPU_mem   box_loss   cls_loss   dfl_loss  Instances       Size\n"
     ]
    },
    {
     "name": "stderr",
     "output_type": "stream",
     "text": [
      "     35/250      10.9G      1.277      1.179      1.356         54       1280: 100%|██████████| 311/311 [02:18<00:00,  \n",
      "                 Class     Images  Instances      Box(P          R      mAP50  mAP50-95): 100%|██████████| 45/45 [00:33\n"
     ]
    },
    {
     "name": "stdout",
     "output_type": "stream",
     "text": [
      "                   all       1428       4552      0.737      0.644      0.719      0.466\n",
      "\n",
      "      Epoch    GPU_mem   box_loss   cls_loss   dfl_loss  Instances       Size\n"
     ]
    },
    {
     "name": "stderr",
     "output_type": "stream",
     "text": [
      "     36/250      11.5G      1.282      1.178       1.36         73       1280: 100%|██████████| 311/311 [02:03<00:00,  \n",
      "                 Class     Images  Instances      Box(P          R      mAP50  mAP50-95): 100%|██████████| 45/45 [00:22"
     ]
    },
    {
     "name": "stdout",
     "output_type": "stream",
     "text": [
      "                   all       1428       4552      0.755      0.638      0.713      0.467\n"
     ]
    },
    {
     "name": "stderr",
     "output_type": "stream",
     "text": [
      "\n"
     ]
    },
    {
     "name": "stdout",
     "output_type": "stream",
     "text": [
      "\n",
      "      Epoch    GPU_mem   box_loss   cls_loss   dfl_loss  Instances       Size\n"
     ]
    },
    {
     "name": "stderr",
     "output_type": "stream",
     "text": [
      "     37/250      10.7G      1.271      1.151       1.35        131       1280: 100%|██████████| 311/311 [02:05<00:00,  \n",
      "                 Class     Images  Instances      Box(P          R      mAP50  mAP50-95): 100%|██████████| 45/45 [00:31"
     ]
    },
    {
     "name": "stdout",
     "output_type": "stream",
     "text": [
      "                   all       1428       4552      0.748      0.646      0.718      0.469\n"
     ]
    },
    {
     "name": "stderr",
     "output_type": "stream",
     "text": [
      "\n"
     ]
    },
    {
     "name": "stdout",
     "output_type": "stream",
     "text": [
      "\n",
      "      Epoch    GPU_mem   box_loss   cls_loss   dfl_loss  Instances       Size\n"
     ]
    },
    {
     "name": "stderr",
     "output_type": "stream",
     "text": [
      "     38/250      9.87G      1.279      1.158      1.352         63       1280: 100%|██████████| 311/311 [02:19<00:00,  \n",
      "                 Class     Images  Instances      Box(P          R      mAP50  mAP50-95): 100%|██████████| 45/45 [00:59"
     ]
    },
    {
     "name": "stdout",
     "output_type": "stream",
     "text": [
      "                   all       1428       4552      0.767       0.63      0.727      0.476\n"
     ]
    },
    {
     "name": "stderr",
     "output_type": "stream",
     "text": [
      "\n"
     ]
    },
    {
     "name": "stdout",
     "output_type": "stream",
     "text": [
      "\n",
      "      Epoch    GPU_mem   box_loss   cls_loss   dfl_loss  Instances       Size\n"
     ]
    },
    {
     "name": "stderr",
     "output_type": "stream",
     "text": [
      "     39/250      13.4G      1.267      1.161       1.35         54       1280: 100%|██████████| 311/311 [02:17<00:00,  \n",
      "                 Class     Images  Instances      Box(P          R      mAP50  mAP50-95): 100%|██████████| 45/45 [00:20\n"
     ]
    },
    {
     "name": "stdout",
     "output_type": "stream",
     "text": [
      "                   all       1428       4552      0.735      0.643      0.704      0.458\n",
      "\n",
      "      Epoch    GPU_mem   box_loss   cls_loss   dfl_loss  Instances       Size\n"
     ]
    },
    {
     "name": "stderr",
     "output_type": "stream",
     "text": [
      "     40/250      11.1G      1.248      1.135      1.339        112       1280: 100%|██████████| 311/311 [02:11<00:00,  \n",
      "                 Class     Images  Instances      Box(P          R      mAP50  mAP50-95): 100%|██████████| 45/45 [00:43"
     ]
    },
    {
     "name": "stdout",
     "output_type": "stream",
     "text": [
      "                   all       1428       4552      0.738      0.633      0.722      0.477\n"
     ]
    },
    {
     "name": "stderr",
     "output_type": "stream",
     "text": [
      "\n"
     ]
    },
    {
     "name": "stdout",
     "output_type": "stream",
     "text": [
      "\n",
      "      Epoch    GPU_mem   box_loss   cls_loss   dfl_loss  Instances       Size\n"
     ]
    },
    {
     "name": "stderr",
     "output_type": "stream",
     "text": [
      "     41/250      11.7G       1.25      1.132      1.332         83       1280: 100%|██████████| 311/311 [02:57<00:00,  \n",
      "                 Class     Images  Instances      Box(P          R      mAP50  mAP50-95): 100%|██████████| 45/45 [00:42"
     ]
    },
    {
     "name": "stdout",
     "output_type": "stream",
     "text": [
      "                   all       1428       4552      0.764      0.632      0.724      0.476\n"
     ]
    },
    {
     "name": "stderr",
     "output_type": "stream",
     "text": [
      "\n"
     ]
    },
    {
     "name": "stdout",
     "output_type": "stream",
     "text": [
      "\n",
      "      Epoch    GPU_mem   box_loss   cls_loss   dfl_loss  Instances       Size\n"
     ]
    },
    {
     "name": "stderr",
     "output_type": "stream",
     "text": [
      "                 Class     Images  Instances      Box(P          R      mAP50  mAP50-95): 100%|██████████| 45/45 [00:28"
     ]
    },
    {
     "name": "stdout",
     "output_type": "stream",
     "text": [
      "                   all       1428       4552      0.723      0.677       0.73      0.475\n"
     ]
    },
    {
     "name": "stderr",
     "output_type": "stream",
     "text": [
      "\n"
     ]
    },
    {
     "name": "stdout",
     "output_type": "stream",
     "text": [
      "\n",
      "      Epoch    GPU_mem   box_loss   cls_loss   dfl_loss  Instances       Size\n"
     ]
    },
    {
     "name": "stderr",
     "output_type": "stream",
     "text": [
      "     43/250      10.5G      1.235      1.109       1.33         56       1280: 100%|██████████| 311/311 [02:03<00:00,  \n",
      "                 Class     Images  Instances      Box(P          R      mAP50  mAP50-95): 100%|██████████| 45/45 [00:28"
     ]
    },
    {
     "name": "stdout",
     "output_type": "stream",
     "text": [
      "                   all       1428       4552      0.736      0.655      0.724      0.482\n"
     ]
    },
    {
     "name": "stderr",
     "output_type": "stream",
     "text": [
      "\n"
     ]
    },
    {
     "name": "stdout",
     "output_type": "stream",
     "text": [
      "\n",
      "      Epoch    GPU_mem   box_loss   cls_loss   dfl_loss  Instances       Size\n"
     ]
    },
    {
     "name": "stderr",
     "output_type": "stream",
     "text": [
      "     44/250        11G      1.239      1.105      1.323         39       1280: 100%|██████████| 311/311 [02:14<00:00,  \n",
      "                 Class     Images  Instances      Box(P          R      mAP50  mAP50-95): 100%|██████████| 45/45 [00:25"
     ]
    },
    {
     "name": "stdout",
     "output_type": "stream",
     "text": [
      "                   all       1428       4552      0.753      0.645      0.733      0.481\n"
     ]
    },
    {
     "name": "stderr",
     "output_type": "stream",
     "text": [
      "\n"
     ]
    },
    {
     "name": "stdout",
     "output_type": "stream",
     "text": [
      "\n",
      "      Epoch    GPU_mem   box_loss   cls_loss   dfl_loss  Instances       Size\n"
     ]
    },
    {
     "name": "stderr",
     "output_type": "stream",
     "text": [
      "     45/250       9.2G      1.226      1.123      1.331        136       1280:  25%|██▌       | 78/311 [00:31<01:26,  2"
     ]
    }
   ],
   "source": [
    "model = YOLO('yolov5n6.yaml').load('yolov5n6.pt')\n",
    "model.train(\n",
    "    data=pathYalm, \n",
    "    epochs=epochTraning, \n",
    "    patience=patience, \n",
    "    imgsz=imgsz,\n",
    "    device=0,\n",
    "    project='./yolo_cache/'\n",
    ")"
   ]
  },
  {
   "cell_type": "code",
   "execution_count": 37,
   "id": "bde81de4-2142-41bd-87b6-ee724e869925",
   "metadata": {},
   "outputs": [],
   "source": [
    "def get_metrics():\n",
    "    \"\"\"\n",
    "    Функция позволяет получить данные о метриках всех моделей\n",
    "    Output:\n",
    "        metrics - DataFrame содержащий метрики всех моделей\n",
    "    \"\"\"\n",
    "    # Словарь с названиями моделей\n",
    "    name_model = {\n",
    "        1: 'YOLOV8n',\n",
    "        2: 'YOLOV5n',\n",
    "    }\n",
    "    \n",
    "    # DaraFrame для метрик\n",
    "    metrics = pd.DataFrame() \n",
    "    \n",
    "    # Получаем все метрики по каждой модели\n",
    "    for i in range(1, 3):\n",
    "        # Загружаем файл csv в DataFrame\n",
    "        df = pd.read_csv(f'./yolo_cache/detect/train{i}/results.csv').astype(np.float32)\n",
    "\n",
    "        # Отбираем метрики\n",
    "        df = df[[(column) for column in df.columns if 'val' in column or 'metrics' in column and 'metrics/mAP50-95(B)' not in column]]\n",
    "        df.columns = [f'{name_model[i]}/{column}'.replace(' ', '') for column in df.columns]\n",
    "\n",
    "        # Соединяем метрики модели с другими\n",
    "        metrics = pd.concat([metrics, df], axis=1)\n",
    "        \n",
    "    return metrics"
   ]
  },
  {
   "cell_type": "code",
   "execution_count": 38,
   "id": "2e82be02-eb1e-4ab0-9a68-ca41c6c13f56",
   "metadata": {},
   "outputs": [
    {
     "data": {
      "image/png": "[encoded data removed]",
      "text/plain": [
       "<Figure size 1800x1200 with 6 Axes>"
      ]
     },
     "metadata": {},
     "output_type": "display_data"
    }
   ],
   "source": [
    "# Переименуем папку с первой моделью\n",
    "if os.path.isdir('./yolo_cache/detect/train/'):\n",
    "    os.rename('./yolo_cache/detect/train/', './yolo_cache/detect/train1/')\n",
    "\n",
    "# Создаём DataFrame с данными о метриках \n",
    "metrics = get_metrics()\n",
    "\n",
    "# Создаём рисунок с вложенными графиками для каждого изображения\n",
    "fig, axes = plt.subplots(2, 3, figsize=(18, 12))\n",
    "\n",
    "# Переменная с индексом метрики\n",
    "index_column = 0\n",
    "\n",
    "# Пройдёмся по каждому из вложенных графиков\n",
    "for x in range(0, 2):\n",
    "    for y in range(0, 3):\n",
    "        # Добавим на график данные метрики по каждой из моделей\n",
    "        for column, style in zip(metrics.iloc[:, index_column::6].columns, ['--', '-.']):\n",
    "            axes[x, y].plot(metrics[column], style)\n",
    "        \n",
    "        # Подпишем название графика и его оси\n",
    "        axes[x, y].legend([column.split('/')[0] for column in metrics.columns[index_column::6]])\n",
    "        axes[x, y].title.set_text(metrics.columns[index_column].split('/')[2])\n",
    "        axes[x, y].set_xlabel('Epoch')\n",
    "        axes[x, y].set_ylabel(metrics.columns[index_column].split('/')[2])\n",
    "        \n",
    "        index_column += 1\n",
    "fig.savefig('metrics_version_models.png')"
   ]
  }
 ],
 "metadata": {
  "kernelspec": {
   "display_name": "Python 3 (ipykernel)",
   "language": "python",
   "name": "python3"
  },
  "language_info": {
   "codemirror_mode": {
    "name": "ipython",
    "version": 3
   },
   "file_extension": ".py",
   "mimetype": "text/x-python",
   "name": "python",
   "nbconvert_exporter": "python",
   "pygments_lexer": "ipython3",
   "version": "3.10.13"
  }
 },
 "nbformat": 4,
 "nbformat_minor": 5
}
