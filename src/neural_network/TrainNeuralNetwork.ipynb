{
 "cells": [
  {
   "cell_type": "markdown",
   "id": "20863043-7ea1-44d2-bab6-ff3f8851d9b3",
   "metadata": {},
   "source": [
    "# 0. Информация об видеокарте"
   ]
  },
  {
   "cell_type": "code",
   "execution_count": 1,
   "id": "ac668658-8a8c-476d-b395-7d4c25783c7a",
   "metadata": {
    "ExecuteTime": {
     "end_time": "2024-04-13T19:07:33.324581Z",
     "start_time": "2024-04-13T19:07:33.205784Z"
    }
   },
   "outputs": [
    {
     "name": "stdout",
     "output_type": "stream",
     "text": [
      "Sat Apr 13 22:28:04 2024       \n",
      "+---------------------------------------------------------------------------------------+\n",
      "| NVIDIA-SMI 546.12                 Driver Version: 546.12       CUDA Version: 12.3     |\n",
      "|-----------------------------------------+----------------------+----------------------+\n",
      "| GPU  Name                     TCC/WDDM  | Bus-Id        Disp.A | Volatile Uncorr. ECC |\n",
      "| Fan  Temp   Perf          Pwr:Usage/Cap |         Memory-Usage | GPU-Util  Compute M. |\n",
      "|                                         |                      |               MIG M. |\n",
      "|=========================================+======================+======================|\n",
      "|   0  NVIDIA GeForce RTX 3080      WDDM  | 00000000:01:00.0  On |                  N/A |\n",
      "| 59%   54C    P0             121W / 370W |   1828MiB / 10240MiB |      4%      Default |\n",
      "|                                         |                      |                  N/A |\n",
      "+-----------------------------------------+----------------------+----------------------+\n",
      "                                                                                         \n",
      "+---------------------------------------------------------------------------------------+\n",
      "| Processes:                                                                            |\n",
      "|  GPU   GI   CI        PID   Type   Process name                            GPU Memory |\n",
      "|        ID   ID                                                             Usage      |\n",
      "|=======================================================================================|\n",
      "|    0   N/A  N/A      1720    C+G   ...5n1h2txyewy\\ShellExperienceHost.exe    N/A      |\n",
      "|    0   N/A  N/A      4252    C+G   ...on\\wallpaper_engine\\wallpaper32.exe    N/A      |\n",
      "|    0   N/A  N/A     12012    C+G   ...ekyb3d8bbwe\\PhoneExperienceHost.exe    N/A      |\n",
      "|    0   N/A  N/A     13316    C+G   ...\\OpenVPN Connect\\OpenVPNConnect.exe    N/A      |\n",
      "|    0   N/A  N/A     15548    C+G   ...her\\jvms\\jre1.8.0_281\\bin\\javaw.exe    N/A      |\n",
      "|    0   N/A  N/A     15596    C+G   ...324.0_x64__dt26b99r8h8gj\\RtkUWP.exe    N/A      |\n",
      "|    0   N/A  N/A     19548    C+G   C:\\Windows\\explorer.exe                   N/A      |\n",
      "|    0   N/A  N/A     21200    C+G   ...m Files\\SyncTrayzor\\SyncTrayzor.exe    N/A      |\n",
      "|    0   N/A  N/A     21628    C+G   ...2txyewy\\StartMenuExperienceHost.exe    N/A      |\n",
      "|    0   N/A  N/A     23112    C+G   ...nt.CBS_cw5n1h2txyewy\\SearchHost.exe    N/A      |\n",
      "|    0   N/A  N/A     23132    C+G   ...werToys\\PowerToys.PowerLauncher.exe    N/A      |\n",
      "|    0   N/A  N/A     23400    C+G   ...ndexBrowser\\Application\\browser.exe    N/A      |\n",
      "|    0   N/A  N/A     25228    C+G   ...ocal\\Programs\\obsidian\\Obsidian.exe    N/A      |\n",
      "|    0   N/A  N/A     25460    C+G   ...ys\\WinUI3Apps\\PowerToys.Peek.UI.exe    N/A      |\n",
      "|    0   N/A  N/A     25712    C+G   ...CBS_cw5n1h2txyewy\\TextInputHost.exe    N/A      |\n",
      "|    0   N/A  N/A     25960    C+G   ...ata\\Local\\GameCenter\\GameCenter.exe    N/A      |\n",
      "|    0   N/A  N/A     26464    C+G   ...aming\\Telegram Desktop\\Telegram.exe    N/A      |\n",
      "|    0   N/A  N/A     26792    C+G   ...GeForce Experience\\NVIDIA Share.exe    N/A      |\n",
      "|    0   N/A  N/A     28240    C+G   ...\\PowerToys\\PowerToys.FancyZones.exe    N/A      |\n",
      "|    0   N/A  N/A     28512    C+G   C:\\Windows\\explorer.exe                   N/A      |\n",
      "|    0   N/A  N/A     30552    C+G   ...GeForce Experience\\NVIDIA Share.exe    N/A      |\n",
      "|    0   N/A  N/A     31184    C+G   ...\\PyCharm 2023.3.5\\bin\\pycharm64.exe    N/A      |\n",
      "|    0   N/A  N/A     33480    C+G   ...tionsPlus\\logioptionsplus_agent.exe    N/A      |\n",
      "|    0   N/A  N/A     34988    C+G   ...werToys\\PowerToys.ColorPickerUI.exe    N/A      |\n",
      "|    0   N/A  N/A     36072    C+G   ...grams\\YandexMusic\\Яндекс Музыка.exe    N/A      |\n",
      "|    0   N/A  N/A     39108    C+G   ...siveControlPanel\\SystemSettings.exe    N/A      |\n",
      "|    0   N/A  N/A     44608    C+G   ...ws\\java-runtime-gamma\\bin\\javaw.exe    N/A      |\n",
      "+---------------------------------------------------------------------------------------+\n"
     ]
    }
   ],
   "source": [
    "!nvidia-smi"
   ]
  },
  {
   "cell_type": "code",
   "execution_count": 3,
   "id": "21ba4172-1114-46ca-9765-49fef8bb7826",
   "metadata": {
    "ExecuteTime": {
     "end_time": "2024-04-13T20:30:21.315326Z",
     "start_time": "2024-04-13T20:30:19.097122Z"
    }
   },
   "outputs": [
    {
     "data": {
      "text/plain": [
       "True"
      ]
     },
     "execution_count": 3,
     "metadata": {},
     "output_type": "execute_result"
    }
   ],
   "source": []
  },
  {
   "cell_type": "markdown",
   "id": "dd258b7f-0b11-4a15-af23-269fab9dc465",
   "metadata": {},
   "source": [
    "# 1. Загрузка библиотек и объявление путей"
   ]
  },
  {
   "cell_type": "code",
   "execution_count": 1,
   "id": "4f8437dd-cb88-4ff5-ab1d-257db5c6bf48",
   "metadata": {
    "ExecuteTime": {
     "end_time": "2024-04-13T19:07:39.632453Z",
     "start_time": "2024-04-13T19:07:33.325703Z"
    }
   },
   "outputs": [],
   "source": [
    "import os\n",
    "import glob\n",
    "import random\n",
    "import cv2\n",
    "import pandas as pd\n",
    "from sklearn.model_selection import train_test_split\n",
    "from tqdm.auto import tqdm\n",
    "import json\n",
    "from pprint import pprint\n",
    "import shutil\n",
    "import yaml\n",
    "from ultralytics import YOLO\n",
    "\n",
    "import warnings\n",
    "warnings.filterwarnings(\"ignore\")"
   ]
  },
  {
   "cell_type": "code",
   "execution_count": 3,
   "id": "415cd239-e20c-48b0-becb-340c007b2963",
   "metadata": {
    "ExecuteTime": {
     "end_time": "2024-04-13T19:07:39.648144Z",
     "start_time": "2024-04-13T19:07:39.633612Z"
    }
   },
   "outputs": [],
   "source": [
    "# Пути до датасетов с автомобилями\n",
    "PATH_CAR = './DATASET/CarDetection' # Путь до датасета Car Detection\n",
    "PATH_CARS = './DATASET/CarsDetection/Cars Detection/' # Путь до датасета Cars Detection\n",
    "PATH_CAR_PERSON = './DATASET/CarPerson/Car-Person-v2-Roboflow-Owais-Ahmad/' # Путь до датасета Car Person\n",
    "\n",
    "# Пути до датасетов с ЛЭП\n",
    "PATH_STN = './DATASET/STN' # Путь до датасета STN PLAD\n",
    "PATH_UTILLUTY_POLE = './DATASET/UtilityPole/' # Путь до датасета Utiluty Pole\n",
    "PATH_TRANSMISSION = './DATASET/Transmission/data_original_size_v1/data_original_size/' # Путь до датасета Transmission\n",
    "\n",
    "# Пути до датасетов с деревьями\n",
    "PATH_TREE = './DATASET/Tree/' # Путь до датасета Tree Detection\n",
    "PATH_TREE_DETECTION = './DATASET/TreeDetection/' # Путь до датасета Tree Detection\n",
    "PATH_TREE_100 = './DATASET/Trees100/' # Путь до датасета Tree 100\n",
    "\n",
    "# Пути до датасетов с птицами\n",
    "PATH_BIRD_ANNOTATION = './DATASET/BirdAnnotation/' # Путь до датасета Bird Annotation \n",
    "PATH_BIRDS_DETECTOR = './DATASET/BirdsDetector/' # Путь до датасета Birds Detector\n",
    "PATH_BIRDS_V3 = './DATASET/BirdsV3/' # Путь до датасета BirdsV3\n",
    "\n",
    "# Пути до датасетов со зданиями\n",
    "PATH_BUILDING_DETECTION = './DATASET/BuildingDetection/' # Путь до датасета Building Detection\n",
    "PATH_JOSH_EDITS = './DATASET/JoshEdits/' # Путь до датасета JoshEdits\n",
    "\n",
    "# Словарь по понижению размрености датасетов\n",
    "DATASET_DOWNGRADES = {\n",
    "    'dataCarDetection': 2, \n",
    "    'dataCarPerson': 3, \n",
    "    'dataCarsDetection': 4,\n",
    "    'dataSTN': 1, \n",
    "    'dataUnilityPole': 1, \n",
    "    'dataTransmission': 1,\n",
    "    'dataTree': 2, \n",
    "    'dataTreeDetection': 2, \n",
    "    'dataTree100': 2,\n",
    "    'dataBirdAnnotation': 4, \n",
    "    'dataBirdsDetectod': 4, \n",
    "    'dataBirdsV3': 2,\n",
    "    'dataBuildingDetection': 2, \n",
    "    'dataJoshEdits': 2\n",
    "}"
   ]
  },
  {
   "cell_type": "code",
   "execution_count": 4,
   "id": "5533272a-65a7-40aa-b59e-c582a72cdf65",
   "metadata": {
    "ExecuteTime": {
     "end_time": "2024-04-13T19:07:39.663165Z",
     "start_time": "2024-04-13T19:07:39.649144Z"
    }
   },
   "outputs": [],
   "source": [
    "def print_variable_name(variable):\n",
    "    '''\n",
    "        Функция позволяет получить имя переменной\n",
    "        Input: \n",
    "            variable - переменная\n",
    "        Output:\n",
    "            variable_name - имя переменной\n",
    "    '''\n",
    "    variable_name = [name for name, value in globals().items() if value is variable][-1]\n",
    "    return variable_name"
   ]
  },
  {
   "cell_type": "markdown",
   "id": "d6d446b3-76a2-4acd-b1fe-f66b70a754f8",
   "metadata": {},
   "source": [
    "# 2. Обработка данных"
   ]
  },
  {
   "cell_type": "code",
   "execution_count": 5,
   "id": "204160c0-2618-4c81-8591-8b8c6e29daba",
   "metadata": {
    "ExecuteTime": {
     "end_time": "2024-04-13T19:07:39.678779Z",
     "start_time": "2024-04-13T19:07:39.665705Z"
    }
   },
   "outputs": [],
   "source": [
    "def converterYoloToDataFrame(labels_list, path, classes):\n",
    "    '''\n",
    "        Функция позволяет перенести все данные с формата YOLO в DataFrame\n",
    "        Input:\n",
    "            labels_list - набор названий изображений\n",
    "            path - путь до папки с изображениями\n",
    "    '''\n",
    "    labels = {} # Словарь объктов\n",
    "    number_item = 0 # Номер записи\n",
    "    for item in tqdm(labels_list):\n",
    "        # Читаем все записи\n",
    "        with open(path + item) as f:\n",
    "            lines = f.readlines()\n",
    "    \n",
    "        # Проходимся по каждой записи\n",
    "        for line in lines:\n",
    "            # Получаем координаты в процентах\n",
    "            x_center, y_center, w, h = (float(number) for number in line.split()[1:]) \n",
    "    \n",
    "            # Заносим в словарь\n",
    "            labels[number_item] = {\n",
    "                'image_name': '/'.join(path.split('/')[:-2]) + '/images/' + item[:-3] + 'jpg',\n",
    "                'x_center': x_center, \n",
    "                'y_center': y_center, \n",
    "                'w': w, \n",
    "                'h': h,\n",
    "                'classes': classes\n",
    "            }\n",
    "            number_item += 1\n",
    "    return labels"
   ]
  },
  {
   "cell_type": "code",
   "execution_count": 6,
   "id": "dc4f06d4-db15-47eb-a8ce-8f0933032a02",
   "metadata": {
    "ExecuteTime": {
     "end_time": "2024-04-13T19:07:39.694384Z",
     "start_time": "2024-04-13T19:07:39.679779Z"
    }
   },
   "outputs": [],
   "source": [
    "def datasetMinimization(dataSet, count):\n",
    "    '''\n",
    "        Функция позволяет понизить размер DataFrame за счёт удаления фотографий\n",
    "        Input:\n",
    "            dataSet - первоначальный DataFrame\n",
    "            count - количество, во сколько раз сжать DataFrame\n",
    "    '''\n",
    "    # Список во всеми именами фотографий\n",
    "    list_image_name = dataSet['image_name'].unique().tolist()\n",
    "\n",
    "    # Кол-во фотографий в начале\n",
    "    start_count_image = len(list_image_name)\n",
    "    \n",
    "    # Получаем именя изображений, которые оставляем\n",
    "    name_file = random.sample(list_image_name, len(list_image_name) // count)\n",
    "\n",
    "    # Записи с этими файлами\n",
    "    dataSet = dataSet[dataSet['image_name'].isin(name_file)]\n",
    "\n",
    "    # Кол-во фотографий после обработки\n",
    "    end_count_image = len(dataSet['image_name'].unique())\n",
    "    \n",
    "    # Выведем системноо сообщение об результате сокращения фотографий\n",
    "    print(f'There were {start_count_image} photos, now there are {end_count_image}')\n",
    "    \n",
    "    return dataSet"
   ]
  },
  {
   "cell_type": "markdown",
   "id": "65f96216-2d02-4e12-b196-95b2fc890144",
   "metadata": {},
   "source": [
    "## 2.0 Классы для модели\n",
    "    0 - машина\n",
    "    1 - ЛЭП\n",
    "    2 - Деревья\n",
    "    3 - Птицы\n",
    "    4 - Дом/здание\n",
    "    5 - Провода"
   ]
  },
  {
   "cell_type": "markdown",
   "id": "076de3f5-6fce-417c-91ee-c72a15ca59fd",
   "metadata": {},
   "source": [
    "## 2.1. Датасеты с автомобилями\n",
    "### 2.1.1 Обработка датасета Car Detection"
   ]
  },
  {
   "cell_type": "code",
   "execution_count": 7,
   "id": "9ab77872-32bf-4747-aa0d-4adbd6490bb2",
   "metadata": {
    "ExecuteTime": {
     "end_time": "2024-04-13T19:07:39.725467Z",
     "start_time": "2024-04-13T19:07:39.695388Z"
    }
   },
   "outputs": [
    {
     "data": {
      "text/html": [
       "<div>\n",
       "<style scoped>\n",
       "    .dataframe tbody tr th:only-of-type {\n",
       "        vertical-align: middle;\n",
       "    }\n",
       "\n",
       "    .dataframe tbody tr th {\n",
       "        vertical-align: top;\n",
       "    }\n",
       "\n",
       "    .dataframe thead th {\n",
       "        text-align: right;\n",
       "    }\n",
       "</style>\n",
       "<table border=\"1\" class=\"dataframe\">\n",
       "  <thead>\n",
       "    <tr style=\"text-align: right;\">\n",
       "      <th></th>\n",
       "      <th>image_name</th>\n",
       "      <th>xmin</th>\n",
       "      <th>ymin</th>\n",
       "      <th>xmax</th>\n",
       "      <th>ymax</th>\n",
       "    </tr>\n",
       "  </thead>\n",
       "  <tbody>\n",
       "    <tr>\n",
       "      <th>378</th>\n",
       "      <td>vid_4_29940.jpg</td>\n",
       "      <td>40.599132</td>\n",
       "      <td>199.750643</td>\n",
       "      <td>102.720695</td>\n",
       "      <td>225.181789</td>\n",
       "    </tr>\n",
       "    <tr>\n",
       "      <th>455</th>\n",
       "      <td>vid_4_6400.jpg</td>\n",
       "      <td>346.315485</td>\n",
       "      <td>190.458494</td>\n",
       "      <td>445.612156</td>\n",
       "      <td>218.824003</td>\n",
       "    </tr>\n",
       "    <tr>\n",
       "      <th>402</th>\n",
       "      <td>vid_4_3340.jpg</td>\n",
       "      <td>527.788712</td>\n",
       "      <td>175.786679</td>\n",
       "      <td>630.998553</td>\n",
       "      <td>219.802124</td>\n",
       "    </tr>\n",
       "    <tr>\n",
       "      <th>331</th>\n",
       "      <td>vid_4_26480.jpg</td>\n",
       "      <td>466.156295</td>\n",
       "      <td>179.699163</td>\n",
       "      <td>550.778582</td>\n",
       "      <td>220.291184</td>\n",
       "    </tr>\n",
       "    <tr>\n",
       "      <th>470</th>\n",
       "      <td>vid_4_700.jpg</td>\n",
       "      <td>586.486252</td>\n",
       "      <td>181.166345</td>\n",
       "      <td>676.000000</td>\n",
       "      <td>248.167632</td>\n",
       "    </tr>\n",
       "    <tr>\n",
       "      <th>384</th>\n",
       "      <td>vid_4_29960.jpg</td>\n",
       "      <td>0.000000</td>\n",
       "      <td>195.838160</td>\n",
       "      <td>45.979740</td>\n",
       "      <td>231.539575</td>\n",
       "    </tr>\n",
       "    <tr>\n",
       "      <th>379</th>\n",
       "      <td>vid_4_29940.jpg</td>\n",
       "      <td>95.383502</td>\n",
       "      <td>194.860039</td>\n",
       "      <td>164.353111</td>\n",
       "      <td>227.627091</td>\n",
       "    </tr>\n",
       "    <tr>\n",
       "      <th>100</th>\n",
       "      <td>vid_4_13860.jpg</td>\n",
       "      <td>609.476122</td>\n",
       "      <td>173.616474</td>\n",
       "      <td>676.000000</td>\n",
       "      <td>216.378700</td>\n",
       "    </tr>\n",
       "    <tr>\n",
       "      <th>74</th>\n",
       "      <td>vid_4_13680.jpg</td>\n",
       "      <td>260.225760</td>\n",
       "      <td>183.611647</td>\n",
       "      <td>279.302460</td>\n",
       "      <td>202.195946</td>\n",
       "    </tr>\n",
       "    <tr>\n",
       "      <th>419</th>\n",
       "      <td>vid_4_6200.jpg</td>\n",
       "      <td>241.149059</td>\n",
       "      <td>181.655405</td>\n",
       "      <td>361.968162</td>\n",
       "      <td>227.627091</td>\n",
       "    </tr>\n",
       "  </tbody>\n",
       "</table>\n",
       "</div>"
      ],
      "text/plain": [
       "          image_name        xmin        ymin        xmax        ymax\n",
       "378  vid_4_29940.jpg   40.599132  199.750643  102.720695  225.181789\n",
       "455   vid_4_6400.jpg  346.315485  190.458494  445.612156  218.824003\n",
       "402   vid_4_3340.jpg  527.788712  175.786679  630.998553  219.802124\n",
       "331  vid_4_26480.jpg  466.156295  179.699163  550.778582  220.291184\n",
       "470    vid_4_700.jpg  586.486252  181.166345  676.000000  248.167632\n",
       "384  vid_4_29960.jpg    0.000000  195.838160   45.979740  231.539575\n",
       "379  vid_4_29940.jpg   95.383502  194.860039  164.353111  227.627091\n",
       "100  vid_4_13860.jpg  609.476122  173.616474  676.000000  216.378700\n",
       "74   vid_4_13680.jpg  260.225760  183.611647  279.302460  202.195946\n",
       "419   vid_4_6200.jpg  241.149059  181.655405  361.968162  227.627091"
      ]
     },
     "execution_count": 7,
     "metadata": {},
     "output_type": "execute_result"
    }
   ],
   "source": [
    "img_h, img_w = (380, 676) # Размеры изображения\n",
    "dataCarDetection = pd.read_csv(PATH_CAR + '/train_solution_bounding_boxes (1).csv') # Читаем датасет\n",
    "\n",
    "dataCarDetection.rename(columns={'image':'image_name'}, inplace=True) # Переименовываем колонку\n",
    "\n",
    "dataCarDetection.sample(10) # посмотрим на данные"
   ]
  },
  {
   "cell_type": "code",
   "execution_count": 8,
   "id": "b2a3dbfd-833f-4e70-aff0-7436bba795ca",
   "metadata": {
    "ExecuteTime": {
     "end_time": "2024-04-13T19:07:39.756671Z",
     "start_time": "2024-04-13T19:07:39.725978Z"
    }
   },
   "outputs": [
    {
     "name": "stdout",
     "output_type": "stream",
     "text": [
      "There were 355 photos, now there are 177\n"
     ]
    },
    {
     "data": {
      "text/html": [
       "<div>\n",
       "<style scoped>\n",
       "    .dataframe tbody tr th:only-of-type {\n",
       "        vertical-align: middle;\n",
       "    }\n",
       "\n",
       "    .dataframe tbody tr th {\n",
       "        vertical-align: top;\n",
       "    }\n",
       "\n",
       "    .dataframe thead th {\n",
       "        text-align: right;\n",
       "    }\n",
       "</style>\n",
       "<table border=\"1\" class=\"dataframe\">\n",
       "  <thead>\n",
       "    <tr style=\"text-align: right;\">\n",
       "      <th></th>\n",
       "      <th>image_name</th>\n",
       "      <th>x_center</th>\n",
       "      <th>y_center</th>\n",
       "      <th>w</th>\n",
       "      <th>h</th>\n",
       "      <th>classes</th>\n",
       "    </tr>\n",
       "  </thead>\n",
       "  <tbody>\n",
       "    <tr>\n",
       "      <th>358</th>\n",
       "      <td>./DATASET/CarDetection/training_images/vid_4_2...</td>\n",
       "      <td>0.034009</td>\n",
       "      <td>0.557835</td>\n",
       "      <td>0.068017</td>\n",
       "      <td>0.087516</td>\n",
       "      <td>0</td>\n",
       "    </tr>\n",
       "    <tr>\n",
       "      <th>497</th>\n",
       "      <td>./DATASET/CarDetection/training_images/vid_4_9...</td>\n",
       "      <td>0.065186</td>\n",
       "      <td>0.559464</td>\n",
       "      <td>0.095412</td>\n",
       "      <td>0.085492</td>\n",
       "      <td>0</td>\n",
       "    </tr>\n",
       "    <tr>\n",
       "      <th>346</th>\n",
       "      <td>./DATASET/CarDetection/training_images/vid_4_2...</td>\n",
       "      <td>0.056078</td>\n",
       "      <td>0.564270</td>\n",
       "      <td>0.112156</td>\n",
       "      <td>0.100386</td>\n",
       "      <td>0</td>\n",
       "    </tr>\n",
       "    <tr>\n",
       "      <th>141</th>\n",
       "      <td>./DATASET/CarDetection/training_images/vid_4_1...</td>\n",
       "      <td>0.090087</td>\n",
       "      <td>0.576496</td>\n",
       "      <td>0.130970</td>\n",
       "      <td>0.101673</td>\n",
       "      <td>0</td>\n",
       "    </tr>\n",
       "    <tr>\n",
       "      <th>147</th>\n",
       "      <td>./DATASET/CarDetection/training_images/vid_4_1...</td>\n",
       "      <td>0.178726</td>\n",
       "      <td>0.586792</td>\n",
       "      <td>0.215630</td>\n",
       "      <td>0.142857</td>\n",
       "      <td>0</td>\n",
       "    </tr>\n",
       "    <tr>\n",
       "      <th>383</th>\n",
       "      <td>./DATASET/CarDetection/training_images/vid_4_2...</td>\n",
       "      <td>0.376990</td>\n",
       "      <td>0.555904</td>\n",
       "      <td>0.096961</td>\n",
       "      <td>0.068211</td>\n",
       "      <td>0</td>\n",
       "    </tr>\n",
       "    <tr>\n",
       "      <th>414</th>\n",
       "      <td>./DATASET/CarDetection/training_images/vid_4_6...</td>\n",
       "      <td>0.513748</td>\n",
       "      <td>0.552043</td>\n",
       "      <td>0.179450</td>\n",
       "      <td>0.117117</td>\n",
       "      <td>0</td>\n",
       "    </tr>\n",
       "    <tr>\n",
       "      <th>225</th>\n",
       "      <td>./DATASET/CarDetection/training_images/vid_4_2...</td>\n",
       "      <td>0.026049</td>\n",
       "      <td>0.578427</td>\n",
       "      <td>0.052098</td>\n",
       "      <td>0.074646</td>\n",
       "      <td>0</td>\n",
       "    </tr>\n",
       "    <tr>\n",
       "      <th>474</th>\n",
       "      <td>./DATASET/CarDetection/training_images/vid_4_8...</td>\n",
       "      <td>0.742535</td>\n",
       "      <td>0.529024</td>\n",
       "      <td>0.184268</td>\n",
       "      <td>0.107513</td>\n",
       "      <td>0</td>\n",
       "    </tr>\n",
       "    <tr>\n",
       "      <th>460</th>\n",
       "      <td>./DATASET/CarDetection/training_images/vid_4_6...</td>\n",
       "      <td>0.698625</td>\n",
       "      <td>0.530808</td>\n",
       "      <td>0.167149</td>\n",
       "      <td>0.113256</td>\n",
       "      <td>0</td>\n",
       "    </tr>\n",
       "  </tbody>\n",
       "</table>\n",
       "</div>"
      ],
      "text/plain": [
       "                                            image_name  x_center  y_center  \\\n",
       "358  ./DATASET/CarDetection/training_images/vid_4_2...  0.034009  0.557835   \n",
       "497  ./DATASET/CarDetection/training_images/vid_4_9...  0.065186  0.559464   \n",
       "346  ./DATASET/CarDetection/training_images/vid_4_2...  0.056078  0.564270   \n",
       "141  ./DATASET/CarDetection/training_images/vid_4_1...  0.090087  0.576496   \n",
       "147  ./DATASET/CarDetection/training_images/vid_4_1...  0.178726  0.586792   \n",
       "383  ./DATASET/CarDetection/training_images/vid_4_2...  0.376990  0.555904   \n",
       "414  ./DATASET/CarDetection/training_images/vid_4_6...  0.513748  0.552043   \n",
       "225  ./DATASET/CarDetection/training_images/vid_4_2...  0.026049  0.578427   \n",
       "474  ./DATASET/CarDetection/training_images/vid_4_8...  0.742535  0.529024   \n",
       "460  ./DATASET/CarDetection/training_images/vid_4_6...  0.698625  0.530808   \n",
       "\n",
       "            w         h  classes  \n",
       "358  0.068017  0.087516        0  \n",
       "497  0.095412  0.085492        0  \n",
       "346  0.112156  0.100386        0  \n",
       "141  0.130970  0.101673        0  \n",
       "147  0.215630  0.142857        0  \n",
       "383  0.096961  0.068211        0  \n",
       "414  0.179450  0.117117        0  \n",
       "225  0.052098  0.074646        0  \n",
       "474  0.184268  0.107513        0  \n",
       "460  0.167149  0.113256        0  "
      ]
     },
     "execution_count": 8,
     "metadata": {},
     "output_type": "execute_result"
    }
   ],
   "source": [
    "# Получим координаты центра объекта в процентах \n",
    "dataCarDetection['x_center'] = (dataCarDetection['xmin'] + dataCarDetection['xmax']) / 2 / img_w \n",
    "dataCarDetection['y_center'] = (dataCarDetection['ymin'] + dataCarDetection['ymax']) / 2 / img_h \n",
    "\n",
    "# Получим размеры объекта в процентах\n",
    "dataCarDetection['w'] = (dataCarDetection['xmax'] - dataCarDetection['xmin']) / img_w # Получаем ширину объекта в процентах\n",
    "dataCarDetection['h'] = (dataCarDetection['ymax'] - dataCarDetection['ymin']) / img_h # Получаем ширину объекта в процентах\n",
    "dataCarDetection['classes'] = 0 # Задаём класс объекта\n",
    "dataCarDetection.drop(\n",
    "    ['xmin', 'xmax', 'ymin', 'ymax'], # Удаляем ненужные признаки\n",
    "    axis=1, inplace=True\n",
    ")\n",
    "\n",
    "# Изменим путь до файла\n",
    "dataCarDetection['image_name'] = f'{PATH_CAR}/training_images/' + dataCarDetection['image_name']\n",
    "\n",
    "# Очистим память \n",
    "del img_h, img_w\n",
    "\n",
    "# Уменьшаем размер DataFrame\n",
    "dataCarDetection = datasetMinimization(dataCarDetection, DATASET_DOWNGRADES[print_variable_name(dataCarDetection)])\n",
    "\n",
    "dataCarDetection.sample(10) # Посмотрим на данные"
   ]
  },
  {
   "cell_type": "code",
   "execution_count": 9,
   "id": "d679b88f-e46a-44e3-b697-f1357abd2f31",
   "metadata": {
    "ExecuteTime": {
     "end_time": "2024-04-13T19:07:39.772191Z",
     "start_time": "2024-04-13T19:07:39.757671Z"
    }
   },
   "outputs": [
    {
     "data": {
      "text/plain": [
       "'dataCarDetection'"
      ]
     },
     "execution_count": 9,
     "metadata": {},
     "output_type": "execute_result"
    }
   ],
   "source": [
    "import inspect\n",
    "xer = 0\n",
    "\n",
    "print_variable_name(dataCarDetection)"
   ]
  },
  {
   "cell_type": "markdown",
   "id": "44be5f83-0ecc-4665-9d58-c6b7ca31bfbc",
   "metadata": {},
   "source": [
    "## 2.1.2. Обработка датасета Cars Detection"
   ]
  },
  {
   "cell_type": "code",
   "execution_count": 10,
   "id": "3341e9d3-73f4-4370-b6d9-b002088b2a88",
   "metadata": {
    "ExecuteTime": {
     "end_time": "2024-04-13T19:07:40.111595Z",
     "start_time": "2024-04-13T19:07:39.773192Z"
    },
    "scrolled": true
   },
   "outputs": [
    {
     "data": {
      "application/vnd.jupyter.widget-view+json": {
       "model_id": "1bd37d17f0a449a8a0f1efc04dd98c13",
       "version_major": 2,
       "version_minor": 0
      },
      "text/plain": [
       "  0%|          | 0/878 [00:00<?, ?it/s]"
      ]
     },
     "metadata": {},
     "output_type": "display_data"
    },
    {
     "data": {
      "application/vnd.jupyter.widget-view+json": {
       "model_id": "d8a3997fec04496f8b71acd8b5a080cf",
       "version_major": 2,
       "version_minor": 0
      },
      "text/plain": [
       "  0%|          | 0/250 [00:00<?, ?it/s]"
      ]
     },
     "metadata": {},
     "output_type": "display_data"
    },
    {
     "data": {
      "application/vnd.jupyter.widget-view+json": {
       "model_id": "02db0bf0630245acb8231428af489d04",
       "version_major": 2,
       "version_minor": 0
      },
      "text/plain": [
       "  0%|          | 0/126 [00:00<?, ?it/s]"
      ]
     },
     "metadata": {},
     "output_type": "display_data"
    },
    {
     "name": "stdout",
     "output_type": "stream",
     "text": [
      "There were 1254 photos, now there are 313\n"
     ]
    },
    {
     "data": {
      "text/html": [
       "<div>\n",
       "<style scoped>\n",
       "    .dataframe tbody tr th:only-of-type {\n",
       "        vertical-align: middle;\n",
       "    }\n",
       "\n",
       "    .dataframe tbody tr th {\n",
       "        vertical-align: top;\n",
       "    }\n",
       "\n",
       "    .dataframe thead th {\n",
       "        text-align: right;\n",
       "    }\n",
       "</style>\n",
       "<table border=\"1\" class=\"dataframe\">\n",
       "  <thead>\n",
       "    <tr style=\"text-align: right;\">\n",
       "      <th></th>\n",
       "      <th>image_name</th>\n",
       "      <th>x_center</th>\n",
       "      <th>y_center</th>\n",
       "      <th>w</th>\n",
       "      <th>h</th>\n",
       "      <th>classes</th>\n",
       "    </tr>\n",
       "  </thead>\n",
       "  <tbody>\n",
       "    <tr>\n",
       "      <th>171</th>\n",
       "      <td>./DATASET/CarsDetection/Cars Detection/test/im...</td>\n",
       "      <td>0.486779</td>\n",
       "      <td>0.518029</td>\n",
       "      <td>0.759615</td>\n",
       "      <td>0.961538</td>\n",
       "      <td>0</td>\n",
       "    </tr>\n",
       "    <tr>\n",
       "      <th>597</th>\n",
       "      <td>./DATASET/CarsDetection/Cars Detection/train/i...</td>\n",
       "      <td>0.507212</td>\n",
       "      <td>0.483173</td>\n",
       "      <td>0.899038</td>\n",
       "      <td>0.736779</td>\n",
       "      <td>0</td>\n",
       "    </tr>\n",
       "    <tr>\n",
       "      <th>518</th>\n",
       "      <td>./DATASET/CarsDetection/Cars Detection/train/i...</td>\n",
       "      <td>0.663462</td>\n",
       "      <td>0.729567</td>\n",
       "      <td>0.579327</td>\n",
       "      <td>0.461538</td>\n",
       "      <td>0</td>\n",
       "    </tr>\n",
       "    <tr>\n",
       "      <th>447</th>\n",
       "      <td>./DATASET/CarsDetection/Cars Detection/train/i...</td>\n",
       "      <td>0.75601</td>\n",
       "      <td>0.674279</td>\n",
       "      <td>0.108173</td>\n",
       "      <td>0.075721</td>\n",
       "      <td>0</td>\n",
       "    </tr>\n",
       "    <tr>\n",
       "      <th>680</th>\n",
       "      <td>./DATASET/CarsDetection/Cars Detection/train/i...</td>\n",
       "      <td>0.491587</td>\n",
       "      <td>0.58774</td>\n",
       "      <td>0.983173</td>\n",
       "      <td>0.822115</td>\n",
       "      <td>0</td>\n",
       "    </tr>\n",
       "    <tr>\n",
       "      <th>93</th>\n",
       "      <td>./DATASET/CarsDetection/Cars Detection/valid/i...</td>\n",
       "      <td>0.768029</td>\n",
       "      <td>0.602163</td>\n",
       "      <td>0.459135</td>\n",
       "      <td>0.439904</td>\n",
       "      <td>0</td>\n",
       "    </tr>\n",
       "    <tr>\n",
       "      <th>1381</th>\n",
       "      <td>./DATASET/CarsDetection/Cars Detection/train/i...</td>\n",
       "      <td>0.457933</td>\n",
       "      <td>0.295673</td>\n",
       "      <td>0.855769</td>\n",
       "      <td>0.557692</td>\n",
       "      <td>0</td>\n",
       "    </tr>\n",
       "    <tr>\n",
       "      <th>628</th>\n",
       "      <td>./DATASET/CarsDetection/Cars Detection/train/i...</td>\n",
       "      <td>0.646635</td>\n",
       "      <td>0.419471</td>\n",
       "      <td>0.03125</td>\n",
       "      <td>0.014423</td>\n",
       "      <td>0</td>\n",
       "    </tr>\n",
       "    <tr>\n",
       "      <th>1403</th>\n",
       "      <td>./DATASET/CarsDetection/Cars Detection/train/i...</td>\n",
       "      <td>0.301683</td>\n",
       "      <td>0.776442</td>\n",
       "      <td>0.135817</td>\n",
       "      <td>0.16226</td>\n",
       "      <td>0</td>\n",
       "    </tr>\n",
       "    <tr>\n",
       "      <th>285</th>\n",
       "      <td>./DATASET/CarsDetection/Cars Detection/train/i...</td>\n",
       "      <td>0.512019</td>\n",
       "      <td>0.55649</td>\n",
       "      <td>0.883413</td>\n",
       "      <td>0.53125</td>\n",
       "      <td>0</td>\n",
       "    </tr>\n",
       "  </tbody>\n",
       "</table>\n",
       "</div>"
      ],
      "text/plain": [
       "                                             image_name  x_center  y_center  \\\n",
       "171   ./DATASET/CarsDetection/Cars Detection/test/im...  0.486779  0.518029   \n",
       "597   ./DATASET/CarsDetection/Cars Detection/train/i...  0.507212  0.483173   \n",
       "518   ./DATASET/CarsDetection/Cars Detection/train/i...  0.663462  0.729567   \n",
       "447   ./DATASET/CarsDetection/Cars Detection/train/i...   0.75601  0.674279   \n",
       "680   ./DATASET/CarsDetection/Cars Detection/train/i...  0.491587   0.58774   \n",
       "93    ./DATASET/CarsDetection/Cars Detection/valid/i...  0.768029  0.602163   \n",
       "1381  ./DATASET/CarsDetection/Cars Detection/train/i...  0.457933  0.295673   \n",
       "628   ./DATASET/CarsDetection/Cars Detection/train/i...  0.646635  0.419471   \n",
       "1403  ./DATASET/CarsDetection/Cars Detection/train/i...  0.301683  0.776442   \n",
       "285   ./DATASET/CarsDetection/Cars Detection/train/i...  0.512019   0.55649   \n",
       "\n",
       "             w         h classes  \n",
       "171   0.759615  0.961538       0  \n",
       "597   0.899038  0.736779       0  \n",
       "518   0.579327  0.461538       0  \n",
       "447   0.108173  0.075721       0  \n",
       "680   0.983173  0.822115       0  \n",
       "93    0.459135  0.439904       0  \n",
       "1381  0.855769  0.557692       0  \n",
       "628    0.03125  0.014423       0  \n",
       "1403  0.135817   0.16226       0  \n",
       "285   0.883413   0.53125       0  "
      ]
     },
     "execution_count": 10,
     "metadata": {},
     "output_type": "execute_result"
    }
   ],
   "source": [
    "dataCarsDetection = pd.DataFrame(columns=dataCarDetection.columns) \n",
    "\n",
    "# Проходимся по всем выборкам\n",
    "for sample in ['train', 'valid', 'test']:\n",
    "    labels_name = os.listdir(f'{PATH_CARS}{sample}/labels') # Список файлов с разметкой \n",
    "    labels = pd.DataFrame(converterYoloToDataFrame(labels_name, f'{PATH_CARS}{sample}/labels/', 0)) # Получаем датасет с разметкой\n",
    "    dataCarsDetection = pd.concat([dataCarsDetection, labels.T]) # Соединяем выборки в единый датасет\n",
    "\n",
    "del labels_name, labels # Очищаем память\n",
    "\n",
    "# Уменьшаем размер DataFrame\n",
    "dataCarsDetection = datasetMinimization(dataCarsDetection, DATASET_DOWNGRADES[print_variable_name(dataCarsDetection)])\n",
    "\n",
    "dataCarsDetection.sample(10) # Посмотрим на данные"
   ]
  },
  {
   "cell_type": "markdown",
   "id": "8598ce0c-20d0-4208-9f8f-9b163a6c0067",
   "metadata": {},
   "source": [
    "### 2.1.3. Обработка датасета Car Person"
   ]
  },
  {
   "cell_type": "code",
   "execution_count": 11,
   "id": "c4dce7bd-3129-4b1f-bc29-8114bb093cb5",
   "metadata": {
    "ExecuteTime": {
     "end_time": "2024-04-13T19:07:41.123694Z",
     "start_time": "2024-04-13T19:07:40.112594Z"
    }
   },
   "outputs": [
    {
     "data": {
      "application/vnd.jupyter.widget-view+json": {
       "model_id": "207abc051bb144b497f50cdb0957f137",
       "version_major": 2,
       "version_minor": 0
      },
      "text/plain": [
       "  0%|          | 0/1571 [00:00<?, ?it/s]"
      ]
     },
     "metadata": {},
     "output_type": "display_data"
    },
    {
     "data": {
      "application/vnd.jupyter.widget-view+json": {
       "model_id": "dd3387f69b114977b2b1addb0e7510f4",
       "version_major": 2,
       "version_minor": 0
      },
      "text/plain": [
       "  0%|          | 0/448 [00:00<?, ?it/s]"
      ]
     },
     "metadata": {},
     "output_type": "display_data"
    },
    {
     "data": {
      "application/vnd.jupyter.widget-view+json": {
       "model_id": "d16aa0fd51dc4bef998a967f915a1021",
       "version_major": 2,
       "version_minor": 0
      },
      "text/plain": [
       "  0%|          | 0/224 [00:00<?, ?it/s]"
      ]
     },
     "metadata": {},
     "output_type": "display_data"
    },
    {
     "name": "stdout",
     "output_type": "stream",
     "text": [
      "There were 2243 photos, now there are 747\n"
     ]
    },
    {
     "data": {
      "text/html": [
       "<div>\n",
       "<style scoped>\n",
       "    .dataframe tbody tr th:only-of-type {\n",
       "        vertical-align: middle;\n",
       "    }\n",
       "\n",
       "    .dataframe tbody tr th {\n",
       "        vertical-align: top;\n",
       "    }\n",
       "\n",
       "    .dataframe thead th {\n",
       "        text-align: right;\n",
       "    }\n",
       "</style>\n",
       "<table border=\"1\" class=\"dataframe\">\n",
       "  <thead>\n",
       "    <tr style=\"text-align: right;\">\n",
       "      <th></th>\n",
       "      <th>image_name</th>\n",
       "      <th>x_center</th>\n",
       "      <th>y_center</th>\n",
       "      <th>w</th>\n",
       "      <th>h</th>\n",
       "      <th>classes</th>\n",
       "    </tr>\n",
       "  </thead>\n",
       "  <tbody>\n",
       "    <tr>\n",
       "      <th>6655</th>\n",
       "      <td>./DATASET/CarPerson/Car-Person-v2-Roboflow-Owa...</td>\n",
       "      <td>0.504808</td>\n",
       "      <td>0.515625</td>\n",
       "      <td>0.395433</td>\n",
       "      <td>0.438702</td>\n",
       "      <td>0</td>\n",
       "    </tr>\n",
       "    <tr>\n",
       "      <th>258</th>\n",
       "      <td>./DATASET/CarPerson/Car-Person-v2-Roboflow-Owa...</td>\n",
       "      <td>0.645433</td>\n",
       "      <td>0.487981</td>\n",
       "      <td>0.069712</td>\n",
       "      <td>0.1875</td>\n",
       "      <td>0</td>\n",
       "    </tr>\n",
       "    <tr>\n",
       "      <th>7326</th>\n",
       "      <td>./DATASET/CarPerson/Car-Person-v2-Roboflow-Owa...</td>\n",
       "      <td>0.298077</td>\n",
       "      <td>0.283654</td>\n",
       "      <td>0.180288</td>\n",
       "      <td>0.128606</td>\n",
       "      <td>0</td>\n",
       "    </tr>\n",
       "    <tr>\n",
       "      <th>807</th>\n",
       "      <td>./DATASET/CarPerson/Car-Person-v2-Roboflow-Owa...</td>\n",
       "      <td>0.183894</td>\n",
       "      <td>0.689904</td>\n",
       "      <td>0.138221</td>\n",
       "      <td>0.425481</td>\n",
       "      <td>0</td>\n",
       "    </tr>\n",
       "    <tr>\n",
       "      <th>3169</th>\n",
       "      <td>./DATASET/CarPerson/Car-Person-v2-Roboflow-Owa...</td>\n",
       "      <td>0.692308</td>\n",
       "      <td>0.466346</td>\n",
       "      <td>0.020433</td>\n",
       "      <td>0.057692</td>\n",
       "      <td>0</td>\n",
       "    </tr>\n",
       "    <tr>\n",
       "      <th>4931</th>\n",
       "      <td>./DATASET/CarPerson/Car-Person-v2-Roboflow-Owa...</td>\n",
       "      <td>0.456731</td>\n",
       "      <td>0.765625</td>\n",
       "      <td>0.058894</td>\n",
       "      <td>0.128606</td>\n",
       "      <td>0</td>\n",
       "    </tr>\n",
       "    <tr>\n",
       "      <th>7590</th>\n",
       "      <td>./DATASET/CarPerson/Car-Person-v2-Roboflow-Owa...</td>\n",
       "      <td>0.355769</td>\n",
       "      <td>0.311298</td>\n",
       "      <td>0.044471</td>\n",
       "      <td>0.097356</td>\n",
       "      <td>0</td>\n",
       "    </tr>\n",
       "    <tr>\n",
       "      <th>11616</th>\n",
       "      <td>./DATASET/CarPerson/Car-Person-v2-Roboflow-Owa...</td>\n",
       "      <td>0.40625</td>\n",
       "      <td>0.536058</td>\n",
       "      <td>0.058894</td>\n",
       "      <td>0.219952</td>\n",
       "      <td>0</td>\n",
       "    </tr>\n",
       "    <tr>\n",
       "      <th>2071</th>\n",
       "      <td>./DATASET/CarPerson/Car-Person-v2-Roboflow-Owa...</td>\n",
       "      <td>0.435096</td>\n",
       "      <td>0.829327</td>\n",
       "      <td>0.106971</td>\n",
       "      <td>0.302885</td>\n",
       "      <td>0</td>\n",
       "    </tr>\n",
       "    <tr>\n",
       "      <th>6846</th>\n",
       "      <td>./DATASET/CarPerson/Car-Person-v2-Roboflow-Owa...</td>\n",
       "      <td>0.21875</td>\n",
       "      <td>0.478365</td>\n",
       "      <td>0.100962</td>\n",
       "      <td>0.11899</td>\n",
       "      <td>0</td>\n",
       "    </tr>\n",
       "  </tbody>\n",
       "</table>\n",
       "</div>"
      ],
      "text/plain": [
       "                                              image_name  x_center  y_center  \\\n",
       "6655   ./DATASET/CarPerson/Car-Person-v2-Roboflow-Owa...  0.504808  0.515625   \n",
       "258    ./DATASET/CarPerson/Car-Person-v2-Roboflow-Owa...  0.645433  0.487981   \n",
       "7326   ./DATASET/CarPerson/Car-Person-v2-Roboflow-Owa...  0.298077  0.283654   \n",
       "807    ./DATASET/CarPerson/Car-Person-v2-Roboflow-Owa...  0.183894  0.689904   \n",
       "3169   ./DATASET/CarPerson/Car-Person-v2-Roboflow-Owa...  0.692308  0.466346   \n",
       "4931   ./DATASET/CarPerson/Car-Person-v2-Roboflow-Owa...  0.456731  0.765625   \n",
       "7590   ./DATASET/CarPerson/Car-Person-v2-Roboflow-Owa...  0.355769  0.311298   \n",
       "11616  ./DATASET/CarPerson/Car-Person-v2-Roboflow-Owa...   0.40625  0.536058   \n",
       "2071   ./DATASET/CarPerson/Car-Person-v2-Roboflow-Owa...  0.435096  0.829327   \n",
       "6846   ./DATASET/CarPerson/Car-Person-v2-Roboflow-Owa...   0.21875  0.478365   \n",
       "\n",
       "              w         h classes  \n",
       "6655   0.395433  0.438702       0  \n",
       "258    0.069712    0.1875       0  \n",
       "7326   0.180288  0.128606       0  \n",
       "807    0.138221  0.425481       0  \n",
       "3169   0.020433  0.057692       0  \n",
       "4931   0.058894  0.128606       0  \n",
       "7590   0.044471  0.097356       0  \n",
       "11616  0.058894  0.219952       0  \n",
       "2071   0.106971  0.302885       0  \n",
       "6846   0.100962   0.11899       0  "
      ]
     },
     "execution_count": 11,
     "metadata": {},
     "output_type": "execute_result"
    }
   ],
   "source": [
    "dataCarPerson = pd.DataFrame(columns=dataCarDetection.columns)\n",
    "for sample in ['train', 'valid', 'test']:\n",
    "    labels_name = os.listdir(f'{PATH_CAR_PERSON}{sample}/labels') # Список файлов с разметкой\n",
    "    labels = pd.DataFrame(converterYoloToDataFrame(labels_name, f'{PATH_CAR_PERSON}{sample}/labels/', 0)) # Получаем датасет с разметкой\n",
    "    dataCarPerson = pd.concat([dataCarPerson, labels.T]) # Соединяем выборки в единый датасет\n",
    "    \n",
    "del labels_name, labels # Очищаем память\n",
    "\n",
    "# Уменьшаем размер DataFrame\n",
    "dataCarPerson = datasetMinimization(dataCarPerson, DATASET_DOWNGRADES[print_variable_name(dataCarPerson)])\n",
    "\n",
    "dataCarPerson.sample(10) # Посмотрим на данные"
   ]
  },
  {
   "cell_type": "markdown",
   "id": "8ee68298-3fec-4f65-9178-829508774e70",
   "metadata": {},
   "source": [
    "## 2.2. Обработка датасет с ЛЭП\n",
    "### 2.2.1 Обработка датасета STN_PLAD"
   ]
  },
  {
   "cell_type": "code",
   "execution_count": 12,
   "id": "6d254d8e-e778-4c4f-98b2-9a2052dea633",
   "metadata": {
    "ExecuteTime": {
     "end_time": "2024-04-13T19:07:41.154654Z",
     "start_time": "2024-04-13T19:07:41.124231Z"
    },
    "scrolled": true
   },
   "outputs": [
    {
     "name": "stdout",
     "output_type": "stream",
     "text": [
      "[{'id': 0, 'name': 'tower', 'supercategory': 'tower'},\n",
      " {'id': 1, 'name': 'insulator', 'supercategory': 'component'},\n",
      " {'id': 2, 'name': 'spacer', 'supercategory': 'component'},\n",
      " {'id': 3, 'name': 'damper', 'supercategory': 'component'},\n",
      " {'id': 5, 'name': 'plate', 'supercategory': 'component'}]\n"
     ]
    },
    {
     "data": {
      "text/html": [
       "<div>\n",
       "<style scoped>\n",
       "    .dataframe tbody tr th:only-of-type {\n",
       "        vertical-align: middle;\n",
       "    }\n",
       "\n",
       "    .dataframe tbody tr th {\n",
       "        vertical-align: top;\n",
       "    }\n",
       "\n",
       "    .dataframe thead th {\n",
       "        text-align: right;\n",
       "    }\n",
       "</style>\n",
       "<table border=\"1\" class=\"dataframe\">\n",
       "  <thead>\n",
       "    <tr style=\"text-align: right;\">\n",
       "      <th></th>\n",
       "      <th>file_name</th>\n",
       "      <th>height</th>\n",
       "      <th>width</th>\n",
       "      <th>flickr_url</th>\n",
       "      <th>area</th>\n",
       "      <th>bbox</th>\n",
       "      <th>category_id</th>\n",
       "      <th>id</th>\n",
       "    </tr>\n",
       "  </thead>\n",
       "  <tbody>\n",
       "    <tr>\n",
       "      <th>1954</th>\n",
       "      <td>20181127-A1/DJI_0450.JPG</td>\n",
       "      <td>3078</td>\n",
       "      <td>5472</td>\n",
       "      <td></td>\n",
       "      <td>2680</td>\n",
       "      <td>[2762, 2281, 40, 67]</td>\n",
       "      <td>3</td>\n",
       "      <td>1962</td>\n",
       "    </tr>\n",
       "    <tr>\n",
       "      <th>1045</th>\n",
       "      <td>20181127-A1/DJI_0417.JPG</td>\n",
       "      <td>3078</td>\n",
       "      <td>5472</td>\n",
       "      <td></td>\n",
       "      <td>2376</td>\n",
       "      <td>[4831, 1485, 66, 36]</td>\n",
       "      <td>3</td>\n",
       "      <td>1051</td>\n",
       "    </tr>\n",
       "    <tr>\n",
       "      <th>661</th>\n",
       "      <td>20181127-A1/DJI_0475.JPG</td>\n",
       "      <td>3078</td>\n",
       "      <td>5472</td>\n",
       "      <td></td>\n",
       "      <td>855</td>\n",
       "      <td>[2524, 1857, 19, 45]</td>\n",
       "      <td>3</td>\n",
       "      <td>664</td>\n",
       "    </tr>\n",
       "    <tr>\n",
       "      <th>1344</th>\n",
       "      <td>20181129-R/DJI_0025.JPG</td>\n",
       "      <td>3648</td>\n",
       "      <td>5472</td>\n",
       "      <td></td>\n",
       "      <td>2499</td>\n",
       "      <td>[248, 2700, 49, 51]</td>\n",
       "      <td>3</td>\n",
       "      <td>1351</td>\n",
       "    </tr>\n",
       "    <tr>\n",
       "      <th>1081</th>\n",
       "      <td>20181127-A1/DJI_0453.JPG</td>\n",
       "      <td>3078</td>\n",
       "      <td>5472</td>\n",
       "      <td></td>\n",
       "      <td>1271</td>\n",
       "      <td>[4200, 1975, 31, 41]</td>\n",
       "      <td>3</td>\n",
       "      <td>1087</td>\n",
       "    </tr>\n",
       "    <tr>\n",
       "      <th>1147</th>\n",
       "      <td>20181127-A1/DJI_0509.JPG</td>\n",
       "      <td>3078</td>\n",
       "      <td>5472</td>\n",
       "      <td></td>\n",
       "      <td>4032</td>\n",
       "      <td>[4964, 946, 63, 64]</td>\n",
       "      <td>2</td>\n",
       "      <td>1153</td>\n",
       "    </tr>\n",
       "    <tr>\n",
       "      <th>40</th>\n",
       "      <td>20181129-R/DJI_0024.JPG</td>\n",
       "      <td>3648</td>\n",
       "      <td>5472</td>\n",
       "      <td></td>\n",
       "      <td>231264</td>\n",
       "      <td>[210, 1378, 292, 792]</td>\n",
       "      <td>1</td>\n",
       "      <td>41</td>\n",
       "    </tr>\n",
       "    <tr>\n",
       "      <th>168</th>\n",
       "      <td>20181127-A1/DJI_0452.JPG</td>\n",
       "      <td>3078</td>\n",
       "      <td>5472</td>\n",
       "      <td></td>\n",
       "      <td>3078</td>\n",
       "      <td>[2621, 1432, 114, 27]</td>\n",
       "      <td>5</td>\n",
       "      <td>169</td>\n",
       "    </tr>\n",
       "    <tr>\n",
       "      <th>625</th>\n",
       "      <td>20181127-A1/DJI_0498.JPG</td>\n",
       "      <td>3078</td>\n",
       "      <td>5472</td>\n",
       "      <td></td>\n",
       "      <td>7905062</td>\n",
       "      <td>[799, 1001, 3806, 2077]</td>\n",
       "      <td>0</td>\n",
       "      <td>628</td>\n",
       "    </tr>\n",
       "    <tr>\n",
       "      <th>2398</th>\n",
       "      <td>20181127-A1/DJI_0508.JPG</td>\n",
       "      <td>3078</td>\n",
       "      <td>5472</td>\n",
       "      <td></td>\n",
       "      <td>2378</td>\n",
       "      <td>[1089, 628, 58, 41]</td>\n",
       "      <td>3</td>\n",
       "      <td>2411</td>\n",
       "    </tr>\n",
       "  </tbody>\n",
       "</table>\n",
       "</div>"
      ],
      "text/plain": [
       "                     file_name  height  width flickr_url     area  \\\n",
       "1954  20181127-A1/DJI_0450.JPG    3078   5472                2680   \n",
       "1045  20181127-A1/DJI_0417.JPG    3078   5472                2376   \n",
       "661   20181127-A1/DJI_0475.JPG    3078   5472                 855   \n",
       "1344   20181129-R/DJI_0025.JPG    3648   5472                2499   \n",
       "1081  20181127-A1/DJI_0453.JPG    3078   5472                1271   \n",
       "1147  20181127-A1/DJI_0509.JPG    3078   5472                4032   \n",
       "40     20181129-R/DJI_0024.JPG    3648   5472              231264   \n",
       "168   20181127-A1/DJI_0452.JPG    3078   5472                3078   \n",
       "625   20181127-A1/DJI_0498.JPG    3078   5472             7905062   \n",
       "2398  20181127-A1/DJI_0508.JPG    3078   5472                2378   \n",
       "\n",
       "                         bbox  category_id    id  \n",
       "1954     [2762, 2281, 40, 67]            3  1962  \n",
       "1045     [4831, 1485, 66, 36]            3  1051  \n",
       "661      [2524, 1857, 19, 45]            3   664  \n",
       "1344      [248, 2700, 49, 51]            3  1351  \n",
       "1081     [4200, 1975, 31, 41]            3  1087  \n",
       "1147      [4964, 946, 63, 64]            2  1153  \n",
       "40      [210, 1378, 292, 792]            1    41  \n",
       "168     [2621, 1432, 114, 27]            5   169  \n",
       "625   [799, 1001, 3806, 2077]            0   628  \n",
       "2398      [1089, 628, 58, 41]            3  2411  "
      ]
     },
     "execution_count": 12,
     "metadata": {},
     "output_type": "execute_result"
    }
   ],
   "source": [
    "# Читаем файл с разметкой датасета STN\n",
    "with open(PATH_STN + '/annotations.json') as f:\n",
    "    dataSTN = json.load(f)\n",
    "\n",
    "pprint(dataSTN['categories']) # Посмотрим на категории\n",
    "\n",
    "# Получим два DataFrame, один с изображениями, другой с разметкой объектов\n",
    "data = pd.DataFrame(dataSTN['images']).rename(columns={'id': 'image_id'})\n",
    "data1 =  pd.DataFrame(dataSTN['annotations'])\n",
    "\n",
    "# Объединим два дасатсета и удалим лишние признаки\n",
    "dataSTN = pd.merge(data, data1, on='image_id', how='left').drop(\n",
    "    [\n",
    "        'licence', 'segmentation', 'date_captured', 'coco_url', \n",
    "        'iscrowd', 'image_id'\n",
    "    ], axis=1\n",
    ")\n",
    "\n",
    "# Очистим память \n",
    "del data, data1 \n",
    "\n",
    "dataSTN.sample(10) # Посмотрим на данные"
   ]
  },
  {
   "cell_type": "code",
   "execution_count": 13,
   "id": "2628718e-7336-4ad9-82ae-ca4c42041a37",
   "metadata": {
    "ExecuteTime": {
     "end_time": "2024-04-13T19:07:41.327479Z",
     "start_time": "2024-04-13T19:07:41.155723Z"
    }
   },
   "outputs": [
    {
     "data": {
      "text/html": [
       "<div>\n",
       "<style scoped>\n",
       "    .dataframe tbody tr th:only-of-type {\n",
       "        vertical-align: middle;\n",
       "    }\n",
       "\n",
       "    .dataframe tbody tr th {\n",
       "        vertical-align: top;\n",
       "    }\n",
       "\n",
       "    .dataframe thead th {\n",
       "        text-align: right;\n",
       "    }\n",
       "</style>\n",
       "<table border=\"1\" class=\"dataframe\">\n",
       "  <thead>\n",
       "    <tr style=\"text-align: right;\">\n",
       "      <th></th>\n",
       "      <th>image_name</th>\n",
       "      <th>classes</th>\n",
       "      <th>x_center</th>\n",
       "      <th>y_center</th>\n",
       "      <th>w</th>\n",
       "      <th>h</th>\n",
       "    </tr>\n",
       "  </thead>\n",
       "  <tbody>\n",
       "    <tr>\n",
       "      <th>302</th>\n",
       "      <td>./DATASET/STN/20181127-A1/DJI_0429.JPG</td>\n",
       "      <td>1</td>\n",
       "      <td>0.496071</td>\n",
       "      <td>0.658057</td>\n",
       "      <td>0.074744</td>\n",
       "      <td>0.683886</td>\n",
       "    </tr>\n",
       "    <tr>\n",
       "      <th>167</th>\n",
       "      <td>./DATASET/STN/20181127-A1/DJI_0452.JPG</td>\n",
       "      <td>1</td>\n",
       "      <td>0.502558</td>\n",
       "      <td>0.680799</td>\n",
       "      <td>0.542398</td>\n",
       "      <td>0.638402</td>\n",
       "    </tr>\n",
       "    <tr>\n",
       "      <th>1839</th>\n",
       "      <td>./DATASET/STN/20181127-A1/DJI_0520.JPG</td>\n",
       "      <td>1</td>\n",
       "      <td>0.392361</td>\n",
       "      <td>0.500162</td>\n",
       "      <td>0.223319</td>\n",
       "      <td>0.999675</td>\n",
       "    </tr>\n",
       "    <tr>\n",
       "      <th>863</th>\n",
       "      <td>./DATASET/STN/20181127-A1/DJI_0492.JPG</td>\n",
       "      <td>1</td>\n",
       "      <td>0.465278</td>\n",
       "      <td>0.674951</td>\n",
       "      <td>0.555556</td>\n",
       "      <td>0.650097</td>\n",
       "    </tr>\n",
       "    <tr>\n",
       "      <th>735</th>\n",
       "      <td>./DATASET/STN/20181127-A1/DJI_0434.JPG</td>\n",
       "      <td>1</td>\n",
       "      <td>0.465826</td>\n",
       "      <td>0.436972</td>\n",
       "      <td>0.099050</td>\n",
       "      <td>0.873294</td>\n",
       "    </tr>\n",
       "    <tr>\n",
       "      <th>2262</th>\n",
       "      <td>./DATASET/STN/20181127-A1/DJI_0515.JPG</td>\n",
       "      <td>1</td>\n",
       "      <td>0.706414</td>\n",
       "      <td>0.683398</td>\n",
       "      <td>0.526133</td>\n",
       "      <td>0.633203</td>\n",
       "    </tr>\n",
       "    <tr>\n",
       "      <th>1540</th>\n",
       "      <td>./DATASET/STN/20181127-A1/DJI_0472.JPG</td>\n",
       "      <td>1</td>\n",
       "      <td>0.303728</td>\n",
       "      <td>0.651559</td>\n",
       "      <td>0.470760</td>\n",
       "      <td>0.696881</td>\n",
       "    </tr>\n",
       "    <tr>\n",
       "      <th>2322</th>\n",
       "      <td>./DATASET/STN/20181129-R/DJI_0023.JPG</td>\n",
       "      <td>1</td>\n",
       "      <td>0.495340</td>\n",
       "      <td>0.635691</td>\n",
       "      <td>0.919408</td>\n",
       "      <td>0.728618</td>\n",
       "    </tr>\n",
       "    <tr>\n",
       "      <th>1345</th>\n",
       "      <td>./DATASET/STN/20181127-A1/DJI_0507.JPG</td>\n",
       "      <td>1</td>\n",
       "      <td>0.383681</td>\n",
       "      <td>0.724334</td>\n",
       "      <td>0.474598</td>\n",
       "      <td>0.551332</td>\n",
       "    </tr>\n",
       "    <tr>\n",
       "      <th>441</th>\n",
       "      <td>./DATASET/STN/20181129-R/DJI_0020.JPG</td>\n",
       "      <td>1</td>\n",
       "      <td>0.839364</td>\n",
       "      <td>0.410636</td>\n",
       "      <td>0.017909</td>\n",
       "      <td>0.110197</td>\n",
       "    </tr>\n",
       "  </tbody>\n",
       "</table>\n",
       "</div>"
      ],
      "text/plain": [
       "                                  image_name  classes  x_center  y_center  \\\n",
       "302   ./DATASET/STN/20181127-A1/DJI_0429.JPG        1  0.496071  0.658057   \n",
       "167   ./DATASET/STN/20181127-A1/DJI_0452.JPG        1  0.502558  0.680799   \n",
       "1839  ./DATASET/STN/20181127-A1/DJI_0520.JPG        1  0.392361  0.500162   \n",
       "863   ./DATASET/STN/20181127-A1/DJI_0492.JPG        1  0.465278  0.674951   \n",
       "735   ./DATASET/STN/20181127-A1/DJI_0434.JPG        1  0.465826  0.436972   \n",
       "2262  ./DATASET/STN/20181127-A1/DJI_0515.JPG        1  0.706414  0.683398   \n",
       "1540  ./DATASET/STN/20181127-A1/DJI_0472.JPG        1  0.303728  0.651559   \n",
       "2322   ./DATASET/STN/20181129-R/DJI_0023.JPG        1  0.495340  0.635691   \n",
       "1345  ./DATASET/STN/20181127-A1/DJI_0507.JPG        1  0.383681  0.724334   \n",
       "441    ./DATASET/STN/20181129-R/DJI_0020.JPG        1  0.839364  0.410636   \n",
       "\n",
       "             w         h  \n",
       "302   0.074744  0.683886  \n",
       "167   0.542398  0.638402  \n",
       "1839  0.223319  0.999675  \n",
       "863   0.555556  0.650097  \n",
       "735   0.099050  0.873294  \n",
       "2262  0.526133  0.633203  \n",
       "1540  0.470760  0.696881  \n",
       "2322  0.919408  0.728618  \n",
       "1345  0.474598  0.551332  \n",
       "441   0.017909  0.110197  "
      ]
     },
     "execution_count": 13,
     "metadata": {},
     "output_type": "execute_result"
    }
   ],
   "source": [
    "# Получим координаты объекта\n",
    "dataSTN[['xmin', 'ymin', 'xmax', 'ymax']] = dataSTN['bbox'].apply(lambda x: pd.Series(x))\n",
    "dataSTN['xmax'] = dataSTN['xmax'] + dataSTN['xmin']\n",
    "dataSTN['ymax'] = dataSTN['ymax'] + dataSTN['ymin']\n",
    "\n",
    "# Получим координаты центра объекта в процентах \n",
    "dataSTN['x_center'] = (dataSTN['xmin'] + dataSTN['xmax']) / 2 / dataSTN['width']\n",
    "dataSTN['y_center'] = (dataSTN['ymin'] + dataSTN['ymax']) / 2 / dataSTN['height']\n",
    "\n",
    "# Получим размеры объекта в процентах\n",
    "dataSTN['w'] = (dataSTN['xmax'] - dataSTN['xmin']) / dataSTN['width']\n",
    "dataSTN['h'] = (dataSTN['ymax'] - dataSTN['ymin']) / dataSTN['height']\n",
    "\n",
    "# Переименуем признаки\n",
    "dataSTN.rename(\n",
    "    columns={\n",
    "        'file_name': 'image_name',\n",
    "        'category_id': 'classes'\n",
    "    }, \n",
    "    inplace=True\n",
    ") \n",
    "\n",
    "# Удалим ненужные признаки\n",
    "dataSTN.drop(\n",
    "    [\n",
    "        'height', 'width', 'flickr_url',\n",
    "        'area', 'bbox', 'id', 'xmin', \n",
    "        'xmax', 'ymin', 'ymax'\n",
    "    ], \n",
    "    axis=1, inplace=True\n",
    ")\n",
    "\n",
    "# Изменим путь до файла\n",
    "dataSTN['image_name'] = './DATASET/STN/' + dataSTN['image_name']\n",
    "\n",
    "# Оставим фотографии принадлижащие только к опоре ЛЭП\n",
    "dataSTN = dataSTN[dataSTN['classes'] == 0]\n",
    "dataSTN['classes'] = dataSTN['classes'] + 1\n",
    "\n",
    "dataSTN.sample(10) # Посомтрим на данные"
   ]
  },
  {
   "cell_type": "markdown",
   "id": "a8e65a98-7282-4a28-8660-052e9c8b73fc",
   "metadata": {},
   "source": [
    "### 2.2.2. Обработка датасета Utility Pole"
   ]
  },
  {
   "cell_type": "code",
   "execution_count": 14,
   "id": "05f0ef86-db2f-48c2-b702-638445de31fe",
   "metadata": {
    "ExecuteTime": {
     "end_time": "2024-04-13T19:07:41.390515Z",
     "start_time": "2024-04-13T19:07:41.329073Z"
    }
   },
   "outputs": [
    {
     "data": {
      "application/vnd.jupyter.widget-view+json": {
       "model_id": "4b68768e65bf48a7ac7d6afeecb1b0e9",
       "version_major": 2,
       "version_minor": 0
      },
      "text/plain": [
       "  0%|          | 0/179 [00:00<?, ?it/s]"
      ]
     },
     "metadata": {},
     "output_type": "display_data"
    },
    {
     "data": {
      "application/vnd.jupyter.widget-view+json": {
       "model_id": "3f36bade1de4478c9e5a94246c503828",
       "version_major": 2,
       "version_minor": 0
      },
      "text/plain": [
       "  0%|          | 0/7 [00:00<?, ?it/s]"
      ]
     },
     "metadata": {},
     "output_type": "display_data"
    },
    {
     "data": {
      "text/html": [
       "<div>\n",
       "<style scoped>\n",
       "    .dataframe tbody tr th:only-of-type {\n",
       "        vertical-align: middle;\n",
       "    }\n",
       "\n",
       "    .dataframe tbody tr th {\n",
       "        vertical-align: top;\n",
       "    }\n",
       "\n",
       "    .dataframe thead th {\n",
       "        text-align: right;\n",
       "    }\n",
       "</style>\n",
       "<table border=\"1\" class=\"dataframe\">\n",
       "  <thead>\n",
       "    <tr style=\"text-align: right;\">\n",
       "      <th></th>\n",
       "      <th>image_name</th>\n",
       "      <th>x_center</th>\n",
       "      <th>y_center</th>\n",
       "      <th>w</th>\n",
       "      <th>h</th>\n",
       "      <th>classes</th>\n",
       "    </tr>\n",
       "  </thead>\n",
       "  <tbody>\n",
       "    <tr>\n",
       "      <th>45</th>\n",
       "      <td>./DATASET/UtilityPole/train/images/a93a35ee792...</td>\n",
       "      <td>0.776442</td>\n",
       "      <td>0.629808</td>\n",
       "      <td>0.091346</td>\n",
       "      <td>0.307692</td>\n",
       "      <td>1</td>\n",
       "    </tr>\n",
       "    <tr>\n",
       "      <th>86</th>\n",
       "      <td>./DATASET/UtilityPole/train/images/distributio...</td>\n",
       "      <td>0.6875</td>\n",
       "      <td>0.776442</td>\n",
       "      <td>0.072115</td>\n",
       "      <td>0.259615</td>\n",
       "      <td>1</td>\n",
       "    </tr>\n",
       "    <tr>\n",
       "      <th>71</th>\n",
       "      <td>./DATASET/UtilityPole/train/images/Cisco_Rural...</td>\n",
       "      <td>0.328125</td>\n",
       "      <td>0.655048</td>\n",
       "      <td>0.064904</td>\n",
       "      <td>0.329327</td>\n",
       "      <td>1</td>\n",
       "    </tr>\n",
       "    <tr>\n",
       "      <th>65</th>\n",
       "      <td>./DATASET/UtilityPole/train/images/b5c25646-fc...</td>\n",
       "      <td>0.530048</td>\n",
       "      <td>0.485577</td>\n",
       "      <td>0.127404</td>\n",
       "      <td>0.951923</td>\n",
       "      <td>1</td>\n",
       "    </tr>\n",
       "    <tr>\n",
       "      <th>57</th>\n",
       "      <td>./DATASET/UtilityPole/train/images/b3978835746...</td>\n",
       "      <td>0.729567</td>\n",
       "      <td>0.481971</td>\n",
       "      <td>0.266827</td>\n",
       "      <td>0.742788</td>\n",
       "      <td>1</td>\n",
       "    </tr>\n",
       "    <tr>\n",
       "      <th>154</th>\n",
       "      <td>./DATASET/UtilityPole/train/images/images--8-_...</td>\n",
       "      <td>0.473558</td>\n",
       "      <td>0.449519</td>\n",
       "      <td>0.221154</td>\n",
       "      <td>0.899038</td>\n",
       "      <td>1</td>\n",
       "    </tr>\n",
       "    <tr>\n",
       "      <th>180</th>\n",
       "      <td>./DATASET/UtilityPole/train/images/istockphoto...</td>\n",
       "      <td>0.498798</td>\n",
       "      <td>0.503606</td>\n",
       "      <td>0.175481</td>\n",
       "      <td>0.555288</td>\n",
       "      <td>1</td>\n",
       "    </tr>\n",
       "    <tr>\n",
       "      <th>186</th>\n",
       "      <td>./DATASET/UtilityPole/train/images/istockphoto...</td>\n",
       "      <td>0.175481</td>\n",
       "      <td>0.75</td>\n",
       "      <td>0.052885</td>\n",
       "      <td>0.173077</td>\n",
       "      <td>1</td>\n",
       "    </tr>\n",
       "    <tr>\n",
       "      <th>150</th>\n",
       "      <td>./DATASET/UtilityPole/train/images/images--7-_...</td>\n",
       "      <td>0.545673</td>\n",
       "      <td>0.501202</td>\n",
       "      <td>0.254808</td>\n",
       "      <td>0.949519</td>\n",
       "      <td>1</td>\n",
       "    </tr>\n",
       "    <tr>\n",
       "      <th>7</th>\n",
       "      <td>./DATASET/UtilityPole/test/images/utilitypolea...</td>\n",
       "      <td>0.52524</td>\n",
       "      <td>0.513221</td>\n",
       "      <td>0.262019</td>\n",
       "      <td>0.78125</td>\n",
       "      <td>1</td>\n",
       "    </tr>\n",
       "  </tbody>\n",
       "</table>\n",
       "</div>"
      ],
      "text/plain": [
       "                                            image_name  x_center  y_center  \\\n",
       "45   ./DATASET/UtilityPole/train/images/a93a35ee792...  0.776442  0.629808   \n",
       "86   ./DATASET/UtilityPole/train/images/distributio...    0.6875  0.776442   \n",
       "71   ./DATASET/UtilityPole/train/images/Cisco_Rural...  0.328125  0.655048   \n",
       "65   ./DATASET/UtilityPole/train/images/b5c25646-fc...  0.530048  0.485577   \n",
       "57   ./DATASET/UtilityPole/train/images/b3978835746...  0.729567  0.481971   \n",
       "154  ./DATASET/UtilityPole/train/images/images--8-_...  0.473558  0.449519   \n",
       "180  ./DATASET/UtilityPole/train/images/istockphoto...  0.498798  0.503606   \n",
       "186  ./DATASET/UtilityPole/train/images/istockphoto...  0.175481      0.75   \n",
       "150  ./DATASET/UtilityPole/train/images/images--7-_...  0.545673  0.501202   \n",
       "7    ./DATASET/UtilityPole/test/images/utilitypolea...   0.52524  0.513221   \n",
       "\n",
       "            w         h classes  \n",
       "45   0.091346  0.307692       1  \n",
       "86   0.072115  0.259615       1  \n",
       "71   0.064904  0.329327       1  \n",
       "65   0.127404  0.951923       1  \n",
       "57   0.266827  0.742788       1  \n",
       "154  0.221154  0.899038       1  \n",
       "180  0.175481  0.555288       1  \n",
       "186  0.052885  0.173077       1  \n",
       "150  0.254808  0.949519       1  \n",
       "7    0.262019   0.78125       1  "
      ]
     },
     "execution_count": 14,
     "metadata": {},
     "output_type": "execute_result"
    }
   ],
   "source": [
    "dataUnilityPole = pd.DataFrame(columns=dataCarDetection.columns) \n",
    "\n",
    "# Проходимся по всем выборкам\n",
    "for sample in ['train', 'test']:\n",
    "    labels_name = os.listdir(f'{PATH_UTILLUTY_POLE}{sample}/labels') # Список файлов с разметкой \n",
    "    labels = pd.DataFrame(converterYoloToDataFrame(labels_name, f'{PATH_UTILLUTY_POLE}{sample}/labels/', 1)) # Получаем датасет с разметкой\n",
    "    dataUnilityPole = pd.concat([dataUnilityPole, labels.T]) # Соединяем выборки в единый датасет\n",
    "\n",
    "del labels_name, labels # Очищаем память\n",
    "dataUnilityPole.sample(10) # Посмотрим на данные"
   ]
  },
  {
   "cell_type": "markdown",
   "id": "388e44dc-062f-4c42-8591-ccf7777cdcf5",
   "metadata": {},
   "source": [
    "### 2.2.3. Обработка датасета Transmission"
   ]
  },
  {
   "cell_type": "code",
   "execution_count": 15,
   "id": "b9e815eb-6c53-4f0e-9572-7b181ea26847",
   "metadata": {
    "ExecuteTime": {
     "end_time": "2024-04-13T19:07:46.434402Z",
     "start_time": "2024-04-13T19:07:41.392111Z"
    },
    "scrolled": true
   },
   "outputs": [
    {
     "data": {
      "application/vnd.jupyter.widget-view+json": {
       "model_id": "59af393b16c343a2b1ea059cab603385",
       "version_major": 2,
       "version_minor": 0
      },
      "text/plain": [
       "  0%|          | 0/1242 [00:00<?, ?it/s]"
      ]
     },
     "metadata": {},
     "output_type": "display_data"
    },
    {
     "name": "stdout",
     "output_type": "stream",
     "text": [
      "There were 1231 photos, now there are 1231\n"
     ]
    },
    {
     "data": {
      "text/html": [
       "<div>\n",
       "<style scoped>\n",
       "    .dataframe tbody tr th:only-of-type {\n",
       "        vertical-align: middle;\n",
       "    }\n",
       "\n",
       "    .dataframe tbody tr th {\n",
       "        vertical-align: top;\n",
       "    }\n",
       "\n",
       "    .dataframe thead th {\n",
       "        text-align: right;\n",
       "    }\n",
       "</style>\n",
       "<table border=\"1\" class=\"dataframe\">\n",
       "  <thead>\n",
       "    <tr style=\"text-align: right;\">\n",
       "      <th></th>\n",
       "      <th>image_name</th>\n",
       "      <th>x_center</th>\n",
       "      <th>y_center</th>\n",
       "      <th>w</th>\n",
       "      <th>h</th>\n",
       "      <th>classes</th>\n",
       "    </tr>\n",
       "  </thead>\n",
       "  <tbody>\n",
       "    <tr>\n",
       "      <th>8949</th>\n",
       "      <td>./DATASET/Transmission/data_original_size_v1/d...</td>\n",
       "      <td>0.500007</td>\n",
       "      <td>0.500007</td>\n",
       "      <td>1.0</td>\n",
       "      <td>0.622222</td>\n",
       "      <td>5</td>\n",
       "    </tr>\n",
       "    <tr>\n",
       "      <th>9232</th>\n",
       "      <td>./DATASET/Transmission/data_original_size_v1/d...</td>\n",
       "      <td>0.420286</td>\n",
       "      <td>0.420286</td>\n",
       "      <td>0.65379</td>\n",
       "      <td>0.704981</td>\n",
       "      <td>5</td>\n",
       "    </tr>\n",
       "    <tr>\n",
       "      <th>10014</th>\n",
       "      <td>./DATASET/Transmission/data_original_size_v1/d...</td>\n",
       "      <td>0.468277</td>\n",
       "      <td>0.468277</td>\n",
       "      <td>0.193182</td>\n",
       "      <td>0.413826</td>\n",
       "      <td>5</td>\n",
       "    </tr>\n",
       "    <tr>\n",
       "      <th>1456</th>\n",
       "      <td>./DATASET/Transmission/data_original_size_v1/d...</td>\n",
       "      <td>0.500142</td>\n",
       "      <td>0.500142</td>\n",
       "      <td>0.997763</td>\n",
       "      <td>0.401957</td>\n",
       "      <td>5</td>\n",
       "    </tr>\n",
       "    <tr>\n",
       "      <th>7883</th>\n",
       "      <td>./DATASET/Transmission/data_original_size_v1/d...</td>\n",
       "      <td>0.49987</td>\n",
       "      <td>0.49987</td>\n",
       "      <td>0.99974</td>\n",
       "      <td>0.411572</td>\n",
       "      <td>5</td>\n",
       "    </tr>\n",
       "    <tr>\n",
       "      <th>3640</th>\n",
       "      <td>./DATASET/Transmission/data_original_size_v1/d...</td>\n",
       "      <td>0.499512</td>\n",
       "      <td>0.499512</td>\n",
       "      <td>0.999023</td>\n",
       "      <td>0.0</td>\n",
       "      <td>5</td>\n",
       "    </tr>\n",
       "    <tr>\n",
       "      <th>7352</th>\n",
       "      <td>./DATASET/Transmission/data_original_size_v1/d...</td>\n",
       "      <td>0.978784</td>\n",
       "      <td>0.978784</td>\n",
       "      <td>0.041911</td>\n",
       "      <td>0.263369</td>\n",
       "      <td>5</td>\n",
       "    </tr>\n",
       "    <tr>\n",
       "      <th>489</th>\n",
       "      <td>./DATASET/Transmission/data_original_size_v1/d...</td>\n",
       "      <td>0.546646</td>\n",
       "      <td>0.546646</td>\n",
       "      <td>0.906048</td>\n",
       "      <td>0.927882</td>\n",
       "      <td>5</td>\n",
       "    </tr>\n",
       "    <tr>\n",
       "      <th>8729</th>\n",
       "      <td>./DATASET/Transmission/data_original_size_v1/d...</td>\n",
       "      <td>0.962318</td>\n",
       "      <td>0.962318</td>\n",
       "      <td>0.074843</td>\n",
       "      <td>0.946552</td>\n",
       "      <td>5</td>\n",
       "    </tr>\n",
       "    <tr>\n",
       "      <th>4238</th>\n",
       "      <td>./DATASET/Transmission/data_original_size_v1/d...</td>\n",
       "      <td>0.817057</td>\n",
       "      <td>0.817057</td>\n",
       "      <td>0.365335</td>\n",
       "      <td>0.334869</td>\n",
       "      <td>5</td>\n",
       "    </tr>\n",
       "  </tbody>\n",
       "</table>\n",
       "</div>"
      ],
      "text/plain": [
       "                                              image_name  x_center  y_center  \\\n",
       "8949   ./DATASET/Transmission/data_original_size_v1/d...  0.500007  0.500007   \n",
       "9232   ./DATASET/Transmission/data_original_size_v1/d...  0.420286  0.420286   \n",
       "10014  ./DATASET/Transmission/data_original_size_v1/d...  0.468277  0.468277   \n",
       "1456   ./DATASET/Transmission/data_original_size_v1/d...  0.500142  0.500142   \n",
       "7883   ./DATASET/Transmission/data_original_size_v1/d...   0.49987   0.49987   \n",
       "3640   ./DATASET/Transmission/data_original_size_v1/d...  0.499512  0.499512   \n",
       "7352   ./DATASET/Transmission/data_original_size_v1/d...  0.978784  0.978784   \n",
       "489    ./DATASET/Transmission/data_original_size_v1/d...  0.546646  0.546646   \n",
       "8729   ./DATASET/Transmission/data_original_size_v1/d...  0.962318  0.962318   \n",
       "4238   ./DATASET/Transmission/data_original_size_v1/d...  0.817057  0.817057   \n",
       "\n",
       "              w         h classes  \n",
       "8949        1.0  0.622222       5  \n",
       "9232    0.65379  0.704981       5  \n",
       "10014  0.193182  0.413826       5  \n",
       "1456   0.997763  0.401957       5  \n",
       "7883    0.99974  0.411572       5  \n",
       "3640   0.999023       0.0       5  \n",
       "7352   0.041911  0.263369       5  \n",
       "489    0.906048  0.927882       5  \n",
       "8729   0.074843  0.946552       5  \n",
       "4238   0.365335  0.334869       5  "
      ]
     },
     "execution_count": 15,
     "metadata": {},
     "output_type": "execute_result"
    }
   ],
   "source": [
    "list_image = glob.glob(PATH_TRANSMISSION + '*.jpg')\n",
    "labels = {} # Словарь объктов\n",
    "number_item = 0 # Номер записи\n",
    "for path_image in tqdm(list_image):\n",
    "    with open(path_image[:-3] + 'json') as f:\n",
    "        json_file = json.load(f)\n",
    "    xmax = 0\n",
    "    xmin = 2**10\n",
    "    ymax = 0\n",
    "    ymin = 2**10\n",
    "    height = json_file['imageHeight']\n",
    "    width = json_file['imageWidth']\n",
    "    for item in json_file['shapes']:\n",
    "        if item['label'] in ['tower_wooden', 'cable']:\n",
    "            for data in item['points']:\n",
    "                x, y = data\n",
    "                xmax = x if x > xmax else xmax\n",
    "                ymax = y if x > ymax else ymax\n",
    "                xmin = x if y < xmin else xmin\n",
    "                ymin = y if y < ymin else ymin\n",
    "            x_center = (xmin + xmax) / 2 / width\n",
    "            y_center = (ymin + ymax) / 2 / height\n",
    "            w = (xmax - xmin) / width\n",
    "            h = (ymax - ymin) / height\n",
    "            labels[number_item] = {\n",
    "                'image_name': path_image,\n",
    "                'x_center': 0.0 if x_center < 0.0 else 1.0 if x_center > 1.0 else x_center, \n",
    "                'y_center': 0.0 if y_center < 0.0 else 1.0 if y_center > 1.0 else x_center, \n",
    "                'w': 0.0 if w < 0.0 else 1.0 if w > 1.0 else w, \n",
    "                'h': 0.0 if h < 0.0 else 1.0 if h > 1.0 else h,\n",
    "                'classes': 1 if item['label'] == 'tower_wooden' else 5\n",
    "            }\n",
    "            number_item += 1\n",
    "            \n",
    "dataTransmission = pd.DataFrame(labels).T # Переносим все в DataFrame\n",
    "\n",
    "# Очищаем память\n",
    "del list_image, labels, number_item, xmin, xmax, ymin, ymax, h, w, json_file \n",
    "\n",
    "# Уменьшаем размер DataFrame\n",
    "dataTransmission = datasetMinimization(dataTransmission, DATASET_DOWNGRADES[print_variable_name(dataTransmission)])\n",
    "\n",
    "dataTransmission.sample(10) # Посмотрим на данные"
   ]
  },
  {
   "cell_type": "markdown",
   "id": "dd7e9bc4-7c65-469a-b932-cdd7398c18e7",
   "metadata": {},
   "source": [
    "## 2.3. Обработка датасетов с деревьями\n",
    "### 2.3.1. Обработка датасета Tree Object Detecion"
   ]
  },
  {
   "cell_type": "code",
   "execution_count": 16,
   "id": "c8a1e3f5-9138-43fc-aa38-15c3a075dataCarDetection8d",
   "metadata": {
    "ExecuteTime": {
     "end_time": "2024-04-13T19:07:46.512371Z",
     "start_time": "2024-04-13T19:07:46.434905Z"
    },
    "scrolled": true
   },
   "outputs": [
    {
     "data": {
      "application/vnd.jupyter.widget-view+json": {
       "model_id": "fc6b2dfef95f45aebcf612645af19818",
       "version_major": 2,
       "version_minor": 0
      },
      "text/plain": [
       "  0%|          | 0/214 [00:00<?, ?it/s]"
      ]
     },
     "metadata": {},
     "output_type": "display_data"
    },
    {
     "data": {
      "text/html": [
       "<div>\n",
       "<style scoped>\n",
       "    .dataframe tbody tr th:only-of-type {\n",
       "        vertical-align: middle;\n",
       "    }\n",
       "\n",
       "    .dataframe tbody tr th {\n",
       "        vertical-align: top;\n",
       "    }\n",
       "\n",
       "    .dataframe thead th {\n",
       "        text-align: right;\n",
       "    }\n",
       "</style>\n",
       "<table border=\"1\" class=\"dataframe\">\n",
       "  <thead>\n",
       "    <tr style=\"text-align: right;\">\n",
       "      <th></th>\n",
       "      <th>image_name</th>\n",
       "      <th>x_center</th>\n",
       "      <th>y_center</th>\n",
       "      <th>w</th>\n",
       "      <th>h</th>\n",
       "      <th>classes</th>\n",
       "    </tr>\n",
       "  </thead>\n",
       "  <tbody>\n",
       "    <tr>\n",
       "      <th>630</th>\n",
       "      <td>./DATASET/Tree/train/images/tree-cutout_png_jp...</td>\n",
       "      <td>0.5</td>\n",
       "      <td>0.5</td>\n",
       "      <td>1.0</td>\n",
       "      <td>1.0</td>\n",
       "      <td>2</td>\n",
       "    </tr>\n",
       "    <tr>\n",
       "      <th>169</th>\n",
       "      <td>./DATASET/Tree/train/images/big-tree-pixabay_j...</td>\n",
       "      <td>0.698438</td>\n",
       "      <td>0.966406</td>\n",
       "      <td>0.085938</td>\n",
       "      <td>0.067187</td>\n",
       "      <td>2</td>\n",
       "    </tr>\n",
       "    <tr>\n",
       "      <th>74</th>\n",
       "      <td>./DATASET/Tree/train/images/20230709_155609_jp...</td>\n",
       "      <td>0.7375</td>\n",
       "      <td>0.240625</td>\n",
       "      <td>0.175</td>\n",
       "      <td>0.398438</td>\n",
       "      <td>2</td>\n",
       "    </tr>\n",
       "    <tr>\n",
       "      <th>605</th>\n",
       "      <td>./DATASET/Tree/train/images/The-Survivor-Tree-...</td>\n",
       "      <td>0.095312</td>\n",
       "      <td>0.492188</td>\n",
       "      <td>0.190625</td>\n",
       "      <td>0.6</td>\n",
       "      <td>2</td>\n",
       "    </tr>\n",
       "    <tr>\n",
       "      <th>224</th>\n",
       "      <td>./DATASET/Tree/train/images/draw-trees_fb-img_...</td>\n",
       "      <td>0.682813</td>\n",
       "      <td>0.453906</td>\n",
       "      <td>0.634375</td>\n",
       "      <td>0.667188</td>\n",
       "      <td>2</td>\n",
       "    </tr>\n",
       "    <tr>\n",
       "      <th>514</th>\n",
       "      <td>./DATASET/Tree/train/images/RGXRFD_jpg.rf.f024...</td>\n",
       "      <td>0.680469</td>\n",
       "      <td>0.714063</td>\n",
       "      <td>0.104688</td>\n",
       "      <td>0.13125</td>\n",
       "      <td>2</td>\n",
       "    </tr>\n",
       "    <tr>\n",
       "      <th>215</th>\n",
       "      <td>./DATASET/Tree/train/images/big-tree-pixabay_j...</td>\n",
       "      <td>0.901563</td>\n",
       "      <td>0.899219</td>\n",
       "      <td>0.05</td>\n",
       "      <td>0.185938</td>\n",
       "      <td>2</td>\n",
       "    </tr>\n",
       "    <tr>\n",
       "      <th>386</th>\n",
       "      <td>./DATASET/Tree/train/images/images-61-_jpg.rf....</td>\n",
       "      <td>0.503125</td>\n",
       "      <td>0.517969</td>\n",
       "      <td>0.99375</td>\n",
       "      <td>0.851562</td>\n",
       "      <td>2</td>\n",
       "    </tr>\n",
       "    <tr>\n",
       "      <th>264</th>\n",
       "      <td>./DATASET/Tree/train/images/images-26-_jpg.rf....</td>\n",
       "      <td>0.5</td>\n",
       "      <td>0.5</td>\n",
       "      <td>1.0</td>\n",
       "      <td>1.0</td>\n",
       "      <td>2</td>\n",
       "    </tr>\n",
       "    <tr>\n",
       "      <th>470</th>\n",
       "      <td>./DATASET/Tree/train/images/niko-photos-tGTVxe...</td>\n",
       "      <td>0.936719</td>\n",
       "      <td>0.860156</td>\n",
       "      <td>0.079687</td>\n",
       "      <td>0.08125</td>\n",
       "      <td>2</td>\n",
       "    </tr>\n",
       "  </tbody>\n",
       "</table>\n",
       "</div>"
      ],
      "text/plain": [
       "                                            image_name  x_center  y_center  \\\n",
       "630  ./DATASET/Tree/train/images/tree-cutout_png_jp...       0.5       0.5   \n",
       "169  ./DATASET/Tree/train/images/big-tree-pixabay_j...  0.698438  0.966406   \n",
       "74   ./DATASET/Tree/train/images/20230709_155609_jp...    0.7375  0.240625   \n",
       "605  ./DATASET/Tree/train/images/The-Survivor-Tree-...  0.095312  0.492188   \n",
       "224  ./DATASET/Tree/train/images/draw-trees_fb-img_...  0.682813  0.453906   \n",
       "514  ./DATASET/Tree/train/images/RGXRFD_jpg.rf.f024...  0.680469  0.714063   \n",
       "215  ./DATASET/Tree/train/images/big-tree-pixabay_j...  0.901563  0.899219   \n",
       "386  ./DATASET/Tree/train/images/images-61-_jpg.rf....  0.503125  0.517969   \n",
       "264  ./DATASET/Tree/train/images/images-26-_jpg.rf....       0.5       0.5   \n",
       "470  ./DATASET/Tree/train/images/niko-photos-tGTVxe...  0.936719  0.860156   \n",
       "\n",
       "            w         h classes  \n",
       "630       1.0       1.0       2  \n",
       "169  0.085938  0.067187       2  \n",
       "74      0.175  0.398438       2  \n",
       "605  0.190625       0.6       2  \n",
       "224  0.634375  0.667188       2  \n",
       "514  0.104688   0.13125       2  \n",
       "215      0.05  0.185938       2  \n",
       "386   0.99375  0.851562       2  \n",
       "264       1.0       1.0       2  \n",
       "470  0.079687   0.08125       2  "
      ]
     },
     "execution_count": 16,
     "metadata": {},
     "output_type": "execute_result"
    }
   ],
   "source": [
    "dataTree = pd.DataFrame(columns=dataCarDetection.columns)\n",
    "labels_name = os.listdir(f'{PATH_TREE}train/labels/') # Список файлов с разметкой\n",
    "labels = pd.DataFrame(converterYoloToDataFrame(labels_name, f'{PATH_TREE}train/labels/', 2)) # Получаем датасет с разметкой\n",
    "dataTree = pd.concat([dataTree, labels.T]) # Соединяем выборки в единый датасет\n",
    "    \n",
    "del labels_name, labels # Очищаем память\n",
    "\n",
    "dataTree.sample(10) # Посмотрим на данные"
   ]
  },
  {
   "cell_type": "markdown",
   "id": "6a1634ea-6f24-4a41-8757-3faee1b73545",
   "metadata": {},
   "source": [
    "### 2.3.2. Обработка датасета TreeDetection "
   ]
  },
  {
   "cell_type": "code",
   "execution_count": 17,
   "id": "c994f526-0595-499e-8468-a8fff2b81cfa",
   "metadata": {
    "ExecuteTime": {
     "end_time": "2024-04-13T19:07:46.991360Z",
     "start_time": "2024-04-13T19:07:46.513494Z"
    }
   },
   "outputs": [
    {
     "data": {
      "application/vnd.jupyter.widget-view+json": {
       "model_id": "83df6cea88024df780dcc47799be7b66",
       "version_major": 2,
       "version_minor": 0
      },
      "text/plain": [
       "  0%|          | 0/1803 [00:00<?, ?it/s]"
      ]
     },
     "metadata": {},
     "output_type": "display_data"
    },
    {
     "data": {
      "application/vnd.jupyter.widget-view+json": {
       "model_id": "b511f7c6172d4ec2a32dbfc2282e9def",
       "version_major": 2,
       "version_minor": 0
      },
      "text/plain": [
       "  0%|          | 0/174 [00:00<?, ?it/s]"
      ]
     },
     "metadata": {},
     "output_type": "display_data"
    },
    {
     "data": {
      "application/vnd.jupyter.widget-view+json": {
       "model_id": "373e57a2ace34c6e889364e218eb1cd0",
       "version_major": 2,
       "version_minor": 0
      },
      "text/plain": [
       "  0%|          | 0/86 [00:00<?, ?it/s]"
      ]
     },
     "metadata": {},
     "output_type": "display_data"
    },
    {
     "name": "stdout",
     "output_type": "stream",
     "text": [
      "There were 2060 photos, now there are 1030\n"
     ]
    },
    {
     "data": {
      "text/html": [
       "<div>\n",
       "<style scoped>\n",
       "    .dataframe tbody tr th:only-of-type {\n",
       "        vertical-align: middle;\n",
       "    }\n",
       "\n",
       "    .dataframe tbody tr th {\n",
       "        vertical-align: top;\n",
       "    }\n",
       "\n",
       "    .dataframe thead th {\n",
       "        text-align: right;\n",
       "    }\n",
       "</style>\n",
       "<table border=\"1\" class=\"dataframe\">\n",
       "  <thead>\n",
       "    <tr style=\"text-align: right;\">\n",
       "      <th></th>\n",
       "      <th>image_name</th>\n",
       "      <th>x_center</th>\n",
       "      <th>y_center</th>\n",
       "      <th>w</th>\n",
       "      <th>h</th>\n",
       "      <th>classes</th>\n",
       "    </tr>\n",
       "  </thead>\n",
       "  <tbody>\n",
       "    <tr>\n",
       "      <th>255</th>\n",
       "      <td>./DATASET/TreeDetection/valid/images/90011760-...</td>\n",
       "      <td>0.51875</td>\n",
       "      <td>0.511719</td>\n",
       "      <td>0.934375</td>\n",
       "      <td>0.8625</td>\n",
       "      <td>2</td>\n",
       "    </tr>\n",
       "    <tr>\n",
       "      <th>335</th>\n",
       "      <td>./DATASET/TreeDetection/train/images/210407_17...</td>\n",
       "      <td>0.664844</td>\n",
       "      <td>0.378906</td>\n",
       "      <td>0.66875</td>\n",
       "      <td>0.757812</td>\n",
       "      <td>2</td>\n",
       "    </tr>\n",
       "    <tr>\n",
       "      <th>726</th>\n",
       "      <td>./DATASET/TreeDetection/train/images/211011_14...</td>\n",
       "      <td>0.436719</td>\n",
       "      <td>0.417969</td>\n",
       "      <td>0.43125</td>\n",
       "      <td>0.696094</td>\n",
       "      <td>2</td>\n",
       "    </tr>\n",
       "    <tr>\n",
       "      <th>103</th>\n",
       "      <td>./DATASET/TreeDetection/test/images/4e5178d0-2...</td>\n",
       "      <td>0.498437</td>\n",
       "      <td>0.496094</td>\n",
       "      <td>0.714063</td>\n",
       "      <td>0.936719</td>\n",
       "      <td>2</td>\n",
       "    </tr>\n",
       "    <tr>\n",
       "      <th>95</th>\n",
       "      <td>./DATASET/TreeDetection/valid/images/221009_16...</td>\n",
       "      <td>0.7375</td>\n",
       "      <td>0.485938</td>\n",
       "      <td>0.488281</td>\n",
       "      <td>0.734375</td>\n",
       "      <td>2</td>\n",
       "    </tr>\n",
       "    <tr>\n",
       "      <th>117</th>\n",
       "      <td>./DATASET/TreeDetection/valid/images/230507_17...</td>\n",
       "      <td>0.505469</td>\n",
       "      <td>0.582812</td>\n",
       "      <td>0.725781</td>\n",
       "      <td>0.754687</td>\n",
       "      <td>2</td>\n",
       "    </tr>\n",
       "    <tr>\n",
       "      <th>898</th>\n",
       "      <td>./DATASET/TreeDetection/train/images/211024_16...</td>\n",
       "      <td>0.765625</td>\n",
       "      <td>0.557813</td>\n",
       "      <td>0.378125</td>\n",
       "      <td>0.514062</td>\n",
       "      <td>2</td>\n",
       "    </tr>\n",
       "    <tr>\n",
       "      <th>2384</th>\n",
       "      <td>./DATASET/TreeDetection/train/images/86df265a-...</td>\n",
       "      <td>0.742188</td>\n",
       "      <td>0.460938</td>\n",
       "      <td>0.196094</td>\n",
       "      <td>0.388281</td>\n",
       "      <td>2</td>\n",
       "    </tr>\n",
       "    <tr>\n",
       "      <th>343</th>\n",
       "      <td>./DATASET/TreeDetection/train/images/210410_17...</td>\n",
       "      <td>0.36875</td>\n",
       "      <td>0.673438</td>\n",
       "      <td>0.173437</td>\n",
       "      <td>0.43125</td>\n",
       "      <td>2</td>\n",
       "    </tr>\n",
       "    <tr>\n",
       "      <th>150</th>\n",
       "      <td>./DATASET/TreeDetection/train/images/1413caff-...</td>\n",
       "      <td>0.421875</td>\n",
       "      <td>0.5</td>\n",
       "      <td>0.84375</td>\n",
       "      <td>1.0</td>\n",
       "      <td>2</td>\n",
       "    </tr>\n",
       "  </tbody>\n",
       "</table>\n",
       "</div>"
      ],
      "text/plain": [
       "                                             image_name  x_center  y_center  \\\n",
       "255   ./DATASET/TreeDetection/valid/images/90011760-...   0.51875  0.511719   \n",
       "335   ./DATASET/TreeDetection/train/images/210407_17...  0.664844  0.378906   \n",
       "726   ./DATASET/TreeDetection/train/images/211011_14...  0.436719  0.417969   \n",
       "103   ./DATASET/TreeDetection/test/images/4e5178d0-2...  0.498437  0.496094   \n",
       "95    ./DATASET/TreeDetection/valid/images/221009_16...    0.7375  0.485938   \n",
       "117   ./DATASET/TreeDetection/valid/images/230507_17...  0.505469  0.582812   \n",
       "898   ./DATASET/TreeDetection/train/images/211024_16...  0.765625  0.557813   \n",
       "2384  ./DATASET/TreeDetection/train/images/86df265a-...  0.742188  0.460938   \n",
       "343   ./DATASET/TreeDetection/train/images/210410_17...   0.36875  0.673438   \n",
       "150   ./DATASET/TreeDetection/train/images/1413caff-...  0.421875       0.5   \n",
       "\n",
       "             w         h classes  \n",
       "255   0.934375    0.8625       2  \n",
       "335    0.66875  0.757812       2  \n",
       "726    0.43125  0.696094       2  \n",
       "103   0.714063  0.936719       2  \n",
       "95    0.488281  0.734375       2  \n",
       "117   0.725781  0.754687       2  \n",
       "898   0.378125  0.514062       2  \n",
       "2384  0.196094  0.388281       2  \n",
       "343   0.173437   0.43125       2  \n",
       "150    0.84375       1.0       2  "
      ]
     },
     "execution_count": 17,
     "metadata": {},
     "output_type": "execute_result"
    }
   ],
   "source": [
    "dataTreeDetection = pd.DataFrame(columns=dataCarDetection.columns) \n",
    "\n",
    "# Проходимся по всем выборкам\n",
    "for sample in ['train', 'valid', 'test']:\n",
    "    labels_name = os.listdir(f'{PATH_TREE_DETECTION}{sample}/labels') # Список файлов с разметкой \n",
    "    labels = pd.DataFrame(converterYoloToDataFrame(labels_name, f'{PATH_TREE_DETECTION}{sample}/labels/', 2)) # Получаем датасет с разметкой\n",
    "    dataTreeDetection = pd.concat([dataTreeDetection, labels.T]) # Соединяем выборки в единый датасет\n",
    "\n",
    "del labels_name, labels # Очищаем память\n",
    "\n",
    "# Уменьшаем размер DataFrame\n",
    "dataTreeDetection = datasetMinimization(dataTreeDetection, DATASET_DOWNGRADES[print_variable_name(dataTreeDetection)])\n",
    "\n",
    "dataTreeDetection.sample(10) # Посмотрим на данные"
   ]
  },
  {
   "cell_type": "markdown",
   "id": "151d264b-0944-44d0-a03e-4f6e1de2d1dataCarDetection",
   "metadata": {},
   "source": [
    "### 2.3.3. Обработка датасета Tree 100"
   ]
  },
  {
   "cell_type": "code",
   "execution_count": 18,
   "id": "04849191-125e-420b-9b96-fe3449a5e0bb",
   "metadata": {
    "ExecuteTime": {
     "end_time": "2024-04-13T19:07:47.054568Z",
     "start_time": "2024-04-13T19:07:46.992361Z"
    }
   },
   "outputs": [
    {
     "data": {
      "application/vnd.jupyter.widget-view+json": {
       "model_id": "8ad2c1255e354aa2880b477b9ae14eac",
       "version_major": 2,
       "version_minor": 0
      },
      "text/plain": [
       "  0%|          | 0/82 [00:00<?, ?it/s]"
      ]
     },
     "metadata": {},
     "output_type": "display_data"
    },
    {
     "data": {
      "application/vnd.jupyter.widget-view+json": {
       "model_id": "83380a9efe6b42b495511d32d2005b65",
       "version_major": 2,
       "version_minor": 0
      },
      "text/plain": [
       "  0%|          | 0/23 [00:00<?, ?it/s]"
      ]
     },
     "metadata": {},
     "output_type": "display_data"
    },
    {
     "data": {
      "application/vnd.jupyter.widget-view+json": {
       "model_id": "cc973525a9214b0593048cf78f3c63d0",
       "version_major": 2,
       "version_minor": 0
      },
      "text/plain": [
       "  0%|          | 0/12 [00:00<?, ?it/s]"
      ]
     },
     "metadata": {},
     "output_type": "display_data"
    },
    {
     "data": {
      "text/html": [
       "<div>\n",
       "<style scoped>\n",
       "    .dataframe tbody tr th:only-of-type {\n",
       "        vertical-align: middle;\n",
       "    }\n",
       "\n",
       "    .dataframe tbody tr th {\n",
       "        vertical-align: top;\n",
       "    }\n",
       "\n",
       "    .dataframe thead th {\n",
       "        text-align: right;\n",
       "    }\n",
       "</style>\n",
       "<table border=\"1\" class=\"dataframe\">\n",
       "  <thead>\n",
       "    <tr style=\"text-align: right;\">\n",
       "      <th></th>\n",
       "      <th>image_name</th>\n",
       "      <th>x_center</th>\n",
       "      <th>y_center</th>\n",
       "      <th>w</th>\n",
       "      <th>h</th>\n",
       "      <th>classes</th>\n",
       "    </tr>\n",
       "  </thead>\n",
       "  <tbody>\n",
       "    <tr>\n",
       "      <th>9</th>\n",
       "      <td>./DATASET/Trees100/train/images/arvore03_jpg.r...</td>\n",
       "      <td>0.971094</td>\n",
       "      <td>0.158594</td>\n",
       "      <td>0.022656</td>\n",
       "      <td>0.070312</td>\n",
       "      <td>2</td>\n",
       "    </tr>\n",
       "    <tr>\n",
       "      <th>13</th>\n",
       "      <td>./DATASET/Trees100/valid/images/arvore120_jpg....</td>\n",
       "      <td>0.775781</td>\n",
       "      <td>0.690625</td>\n",
       "      <td>0.192188</td>\n",
       "      <td>0.416406</td>\n",
       "      <td>2</td>\n",
       "    </tr>\n",
       "    <tr>\n",
       "      <th>45</th>\n",
       "      <td>./DATASET/Trees100/train/images/arvore123_jpg....</td>\n",
       "      <td>0.055469</td>\n",
       "      <td>0.596875</td>\n",
       "      <td>0.110156</td>\n",
       "      <td>0.180469</td>\n",
       "      <td>2</td>\n",
       "    </tr>\n",
       "    <tr>\n",
       "      <th>34</th>\n",
       "      <td>./DATASET/Trees100/valid/images/arvore76_jpg.r...</td>\n",
       "      <td>0.48125</td>\n",
       "      <td>0.466406</td>\n",
       "      <td>0.300781</td>\n",
       "      <td>0.661719</td>\n",
       "      <td>2</td>\n",
       "    </tr>\n",
       "    <tr>\n",
       "      <th>49</th>\n",
       "      <td>./DATASET/Trees100/train/images/arvore124_jpg....</td>\n",
       "      <td>0.366406</td>\n",
       "      <td>0.582031</td>\n",
       "      <td>0.464844</td>\n",
       "      <td>0.400781</td>\n",
       "      <td>2</td>\n",
       "    </tr>\n",
       "    <tr>\n",
       "      <th>140</th>\n",
       "      <td>./DATASET/Trees100/train/images/arvore82_jpg.r...</td>\n",
       "      <td>0.5625</td>\n",
       "      <td>0.348438</td>\n",
       "      <td>0.1</td>\n",
       "      <td>0.239063</td>\n",
       "      <td>2</td>\n",
       "    </tr>\n",
       "    <tr>\n",
       "      <th>176</th>\n",
       "      <td>./DATASET/Trees100/train/images/arvore97_jpg.r...</td>\n",
       "      <td>0.530469</td>\n",
       "      <td>0.792188</td>\n",
       "      <td>0.107813</td>\n",
       "      <td>0.415625</td>\n",
       "      <td>2</td>\n",
       "    </tr>\n",
       "    <tr>\n",
       "      <th>119</th>\n",
       "      <td>./DATASET/Trees100/train/images/arvore59_jpg.r...</td>\n",
       "      <td>0.500781</td>\n",
       "      <td>0.3375</td>\n",
       "      <td>0.516406</td>\n",
       "      <td>0.614844</td>\n",
       "      <td>2</td>\n",
       "    </tr>\n",
       "    <tr>\n",
       "      <th>133</th>\n",
       "      <td>./DATASET/Trees100/train/images/arvore75_jpg.r...</td>\n",
       "      <td>0.667969</td>\n",
       "      <td>0.702344</td>\n",
       "      <td>0.039062</td>\n",
       "      <td>0.055469</td>\n",
       "      <td>2</td>\n",
       "    </tr>\n",
       "    <tr>\n",
       "      <th>28</th>\n",
       "      <td>./DATASET/Trees100/train/images/arvore111_jpg....</td>\n",
       "      <td>0.682031</td>\n",
       "      <td>0.386719</td>\n",
       "      <td>0.453906</td>\n",
       "      <td>0.53125</td>\n",
       "      <td>2</td>\n",
       "    </tr>\n",
       "  </tbody>\n",
       "</table>\n",
       "</div>"
      ],
      "text/plain": [
       "                                            image_name  x_center  y_center  \\\n",
       "9    ./DATASET/Trees100/train/images/arvore03_jpg.r...  0.971094  0.158594   \n",
       "13   ./DATASET/Trees100/valid/images/arvore120_jpg....  0.775781  0.690625   \n",
       "45   ./DATASET/Trees100/train/images/arvore123_jpg....  0.055469  0.596875   \n",
       "34   ./DATASET/Trees100/valid/images/arvore76_jpg.r...   0.48125  0.466406   \n",
       "49   ./DATASET/Trees100/train/images/arvore124_jpg....  0.366406  0.582031   \n",
       "140  ./DATASET/Trees100/train/images/arvore82_jpg.r...    0.5625  0.348438   \n",
       "176  ./DATASET/Trees100/train/images/arvore97_jpg.r...  0.530469  0.792188   \n",
       "119  ./DATASET/Trees100/train/images/arvore59_jpg.r...  0.500781    0.3375   \n",
       "133  ./DATASET/Trees100/train/images/arvore75_jpg.r...  0.667969  0.702344   \n",
       "28   ./DATASET/Trees100/train/images/arvore111_jpg....  0.682031  0.386719   \n",
       "\n",
       "            w         h classes  \n",
       "9    0.022656  0.070312       2  \n",
       "13   0.192188  0.416406       2  \n",
       "45   0.110156  0.180469       2  \n",
       "34   0.300781  0.661719       2  \n",
       "49   0.464844  0.400781       2  \n",
       "140       0.1  0.239063       2  \n",
       "176  0.107813  0.415625       2  \n",
       "119  0.516406  0.614844       2  \n",
       "133  0.039062  0.055469       2  \n",
       "28   0.453906   0.53125       2  "
      ]
     },
     "execution_count": 18,
     "metadata": {},
     "output_type": "execute_result"
    }
   ],
   "source": [
    "dataTree100 = pd.DataFrame(columns=dataCarDetection.columns) \n",
    "\n",
    "# Проходимся по всем выборкам\n",
    "for sample in ['train', 'valid', 'test']:\n",
    "    labels_name = os.listdir(f'{PATH_TREE_100}{sample}/labels') # Список файлов с разметкой \n",
    "    labels = pd.DataFrame(converterYoloToDataFrame(labels_name, f'{PATH_TREE_100}{sample}/labels/', 2)) # Получаем датасет с разметкой\n",
    "    dataTree100 = pd.concat([dataTree100, labels.T]) # Соединяем выборки в единый датасет\n",
    "\n",
    "del labels_name, labels # Очищаем память\n",
    "\n",
    "dataTree100.sample(10) # Посмотрим на данные"
   ]
  },
  {
   "cell_type": "markdown",
   "id": "b6add273-e6c9-4e6a-b8d5-ed19a1bd4200",
   "metadata": {},
   "source": [
    "## 2.4. Обработка датасета с птицами\n",
    "### 2.4.1. Обработка датасета с Bird Annotation"
   ]
  },
  {
   "cell_type": "code",
   "execution_count": 19,
   "id": "3043dee3-a180-4b5f-8eb2-17226e3305e3",
   "metadata": {
    "ExecuteTime": {
     "end_time": "2024-04-13T19:07:47.881449Z",
     "start_time": "2024-04-13T19:07:47.055670Z"
    },
    "scrolled": true
   },
   "outputs": [
    {
     "data": {
      "application/vnd.jupyter.widget-view+json": {
       "model_id": "9283e381edea4cbd88a3223abed82e55",
       "version_major": 2,
       "version_minor": 0
      },
      "text/plain": [
       "  0%|          | 0/1362 [00:00<?, ?it/s]"
      ]
     },
     "metadata": {},
     "output_type": "display_data"
    },
    {
     "data": {
      "application/vnd.jupyter.widget-view+json": {
       "model_id": "f83bac5726cc4693aeffe80dc82a70f0",
       "version_major": 2,
       "version_minor": 0
      },
      "text/plain": [
       "  0%|          | 0/130 [00:00<?, ?it/s]"
      ]
     },
     "metadata": {},
     "output_type": "display_data"
    },
    {
     "data": {
      "application/vnd.jupyter.widget-view+json": {
       "model_id": "51089515fae544b58b86546193ad9eb4",
       "version_major": 2,
       "version_minor": 0
      },
      "text/plain": [
       "  0%|          | 0/65 [00:00<?, ?it/s]"
      ]
     },
     "metadata": {},
     "output_type": "display_data"
    },
    {
     "name": "stdout",
     "output_type": "stream",
     "text": [
      "There were 1557 photos, now there are 389\n"
     ]
    },
    {
     "data": {
      "text/html": [
       "<div>\n",
       "<style scoped>\n",
       "    .dataframe tbody tr th:only-of-type {\n",
       "        vertical-align: middle;\n",
       "    }\n",
       "\n",
       "    .dataframe tbody tr th {\n",
       "        vertical-align: top;\n",
       "    }\n",
       "\n",
       "    .dataframe thead th {\n",
       "        text-align: right;\n",
       "    }\n",
       "</style>\n",
       "<table border=\"1\" class=\"dataframe\">\n",
       "  <thead>\n",
       "    <tr style=\"text-align: right;\">\n",
       "      <th></th>\n",
       "      <th>image_name</th>\n",
       "      <th>x_center</th>\n",
       "      <th>y_center</th>\n",
       "      <th>w</th>\n",
       "      <th>h</th>\n",
       "      <th>classes</th>\n",
       "    </tr>\n",
       "  </thead>\n",
       "  <tbody>\n",
       "    <tr>\n",
       "      <th>1127</th>\n",
       "      <td>./DATASET/BirdAnnotation/train/images/descarga...</td>\n",
       "      <td>0.450781</td>\n",
       "      <td>0.614062</td>\n",
       "      <td>0.075</td>\n",
       "      <td>0.109375</td>\n",
       "      <td>3</td>\n",
       "    </tr>\n",
       "    <tr>\n",
       "      <th>15916</th>\n",
       "      <td>./DATASET/BirdAnnotation/train/images/voladora...</td>\n",
       "      <td>0.417187</td>\n",
       "      <td>0.196094</td>\n",
       "      <td>0.08125</td>\n",
       "      <td>0.09375</td>\n",
       "      <td>3</td>\n",
       "    </tr>\n",
       "    <tr>\n",
       "      <th>4113</th>\n",
       "      <td>./DATASET/BirdAnnotation/train/images/e282_jpg...</td>\n",
       "      <td>0.10625</td>\n",
       "      <td>0.678125</td>\n",
       "      <td>0.046875</td>\n",
       "      <td>0.065625</td>\n",
       "      <td>3</td>\n",
       "    </tr>\n",
       "    <tr>\n",
       "      <th>18420</th>\n",
       "      <td>./DATASET/BirdAnnotation/train/images/voladora...</td>\n",
       "      <td>0.489844</td>\n",
       "      <td>0.232031</td>\n",
       "      <td>0.429688</td>\n",
       "      <td>0.204687</td>\n",
       "      <td>3</td>\n",
       "    </tr>\n",
       "    <tr>\n",
       "      <th>9636</th>\n",
       "      <td>./DATASET/BirdAnnotation/train/images/voladora...</td>\n",
       "      <td>0.804688</td>\n",
       "      <td>0.760156</td>\n",
       "      <td>0.039062</td>\n",
       "      <td>0.048438</td>\n",
       "      <td>3</td>\n",
       "    </tr>\n",
       "    <tr>\n",
       "      <th>1320</th>\n",
       "      <td>./DATASET/BirdAnnotation/train/images/e113_jpg...</td>\n",
       "      <td>0.389844</td>\n",
       "      <td>0.544531</td>\n",
       "      <td>0.057813</td>\n",
       "      <td>0.064062</td>\n",
       "      <td>3</td>\n",
       "    </tr>\n",
       "    <tr>\n",
       "      <th>16492</th>\n",
       "      <td>./DATASET/BirdAnnotation/train/images/voladora...</td>\n",
       "      <td>0.057031</td>\n",
       "      <td>0.507812</td>\n",
       "      <td>0.114062</td>\n",
       "      <td>0.109375</td>\n",
       "      <td>3</td>\n",
       "    </tr>\n",
       "    <tr>\n",
       "      <th>18307</th>\n",
       "      <td>./DATASET/BirdAnnotation/train/images/voladora...</td>\n",
       "      <td>0.539844</td>\n",
       "      <td>0.696094</td>\n",
       "      <td>0.017188</td>\n",
       "      <td>0.026562</td>\n",
       "      <td>3</td>\n",
       "    </tr>\n",
       "    <tr>\n",
       "      <th>2930</th>\n",
       "      <td>./DATASET/BirdAnnotation/train/images/e221_jpg...</td>\n",
       "      <td>0.059375</td>\n",
       "      <td>0.224219</td>\n",
       "      <td>0.0375</td>\n",
       "      <td>0.048438</td>\n",
       "      <td>3</td>\n",
       "    </tr>\n",
       "    <tr>\n",
       "      <th>16064</th>\n",
       "      <td>./DATASET/BirdAnnotation/train/images/voladora...</td>\n",
       "      <td>0.417187</td>\n",
       "      <td>0.729688</td>\n",
       "      <td>0.025</td>\n",
       "      <td>0.046875</td>\n",
       "      <td>3</td>\n",
       "    </tr>\n",
       "  </tbody>\n",
       "</table>\n",
       "</div>"
      ],
      "text/plain": [
       "                                              image_name  x_center  y_center  \\\n",
       "1127   ./DATASET/BirdAnnotation/train/images/descarga...  0.450781  0.614062   \n",
       "15916  ./DATASET/BirdAnnotation/train/images/voladora...  0.417187  0.196094   \n",
       "4113   ./DATASET/BirdAnnotation/train/images/e282_jpg...   0.10625  0.678125   \n",
       "18420  ./DATASET/BirdAnnotation/train/images/voladora...  0.489844  0.232031   \n",
       "9636   ./DATASET/BirdAnnotation/train/images/voladora...  0.804688  0.760156   \n",
       "1320   ./DATASET/BirdAnnotation/train/images/e113_jpg...  0.389844  0.544531   \n",
       "16492  ./DATASET/BirdAnnotation/train/images/voladora...  0.057031  0.507812   \n",
       "18307  ./DATASET/BirdAnnotation/train/images/voladora...  0.539844  0.696094   \n",
       "2930   ./DATASET/BirdAnnotation/train/images/e221_jpg...  0.059375  0.224219   \n",
       "16064  ./DATASET/BirdAnnotation/train/images/voladora...  0.417187  0.729688   \n",
       "\n",
       "              w         h classes  \n",
       "1127      0.075  0.109375       3  \n",
       "15916   0.08125   0.09375       3  \n",
       "4113   0.046875  0.065625       3  \n",
       "18420  0.429688  0.204687       3  \n",
       "9636   0.039062  0.048438       3  \n",
       "1320   0.057813  0.064062       3  \n",
       "16492  0.114062  0.109375       3  \n",
       "18307  0.017188  0.026562       3  \n",
       "2930     0.0375  0.048438       3  \n",
       "16064     0.025  0.046875       3  "
      ]
     },
     "execution_count": 19,
     "metadata": {},
     "output_type": "execute_result"
    }
   ],
   "source": [
    "dataBirdAnnotation = pd.DataFrame(columns=dataCarDetection.columns) \n",
    "\n",
    "# Проходимся по всем выборкам\n",
    "for sample in ['train', 'valid', 'test']:\n",
    "    labels_name = os.listdir(f'{PATH_BIRD_ANNOTATION}{sample}/labels') # Список файлов с разметкой \n",
    "    labels = pd.DataFrame(converterYoloToDataFrame(labels_name, f'{PATH_BIRD_ANNOTATION}{sample}/labels/', 3)) # Получаем датасет с разметкой\n",
    "    dataBirdAnnotation  = pd.concat([dataBirdAnnotation, labels.T]) # Соединяем выборки в единый датасет\n",
    "\n",
    "del labels_name, labels # Очищаем память\n",
    "\n",
    "# Уменьшаем размер DataFrame\n",
    "dataBirdAnnotation = datasetMinimization(dataBirdAnnotation, DATASET_DOWNGRADES[print_variable_name(dataBirdAnnotation)])\n",
    "\n",
    "dataBirdAnnotation.sample(10) # Посмотрим на данные"
   ]
  },
  {
   "cell_type": "markdown",
   "id": "a3d74de9-a440-4d3a-98b8-ca0056803b2e",
   "metadata": {},
   "source": [
    "### 2.4.2. Обработка датасета с Birds Detection"
   ]
  },
  {
   "cell_type": "code",
   "execution_count": 20,
   "id": "1268d35a-7350-46b6-9001-e613e8099423",
   "metadata": {
    "ExecuteTime": {
     "end_time": "2024-04-13T19:07:48.193998Z",
     "start_time": "2024-04-13T19:07:47.882449Z"
    }
   },
   "outputs": [
    {
     "data": {
      "application/vnd.jupyter.widget-view+json": {
       "model_id": "2af625b5355147e99563d23399fb295a",
       "version_major": 2,
       "version_minor": 0
      },
      "text/plain": [
       "  0%|          | 0/594 [00:00<?, ?it/s]"
      ]
     },
     "metadata": {},
     "output_type": "display_data"
    },
    {
     "data": {
      "application/vnd.jupyter.widget-view+json": {
       "model_id": "8a2c5067e6074e85aebbb664c7582215",
       "version_major": 2,
       "version_minor": 0
      },
      "text/plain": [
       "  0%|          | 0/170 [00:00<?, ?it/s]"
      ]
     },
     "metadata": {},
     "output_type": "display_data"
    },
    {
     "data": {
      "application/vnd.jupyter.widget-view+json": {
       "model_id": "fe2be6bb6a914b99bcc78d170188cb17",
       "version_major": 2,
       "version_minor": 0
      },
      "text/plain": [
       "  0%|          | 0/85 [00:00<?, ?it/s]"
      ]
     },
     "metadata": {},
     "output_type": "display_data"
    },
    {
     "name": "stdout",
     "output_type": "stream",
     "text": [
      "There were 849 photos, now there are 212\n"
     ]
    },
    {
     "data": {
      "text/html": [
       "<div>\n",
       "<style scoped>\n",
       "    .dataframe tbody tr th:only-of-type {\n",
       "        vertical-align: middle;\n",
       "    }\n",
       "\n",
       "    .dataframe tbody tr th {\n",
       "        vertical-align: top;\n",
       "    }\n",
       "\n",
       "    .dataframe thead th {\n",
       "        text-align: right;\n",
       "    }\n",
       "</style>\n",
       "<table border=\"1\" class=\"dataframe\">\n",
       "  <thead>\n",
       "    <tr style=\"text-align: right;\">\n",
       "      <th></th>\n",
       "      <th>image_name</th>\n",
       "      <th>x_center</th>\n",
       "      <th>y_center</th>\n",
       "      <th>w</th>\n",
       "      <th>h</th>\n",
       "      <th>classes</th>\n",
       "    </tr>\n",
       "  </thead>\n",
       "  <tbody>\n",
       "    <tr>\n",
       "      <th>664</th>\n",
       "      <td>./DATASET/BirdsDetector/valid/images/e290_jpg....</td>\n",
       "      <td>0.352344</td>\n",
       "      <td>0.402344</td>\n",
       "      <td>0.038281</td>\n",
       "      <td>0.054688</td>\n",
       "      <td>3</td>\n",
       "    </tr>\n",
       "    <tr>\n",
       "      <th>1679</th>\n",
       "      <td>./DATASET/BirdsDetector/valid/images/voladoras...</td>\n",
       "      <td>0.058594</td>\n",
       "      <td>0.504687</td>\n",
       "      <td>0.09375</td>\n",
       "      <td>0.0875</td>\n",
       "      <td>3</td>\n",
       "    </tr>\n",
       "    <tr>\n",
       "      <th>2882</th>\n",
       "      <td>./DATASET/BirdsDetector/train/images/voladoras...</td>\n",
       "      <td>0.550781</td>\n",
       "      <td>0.379688</td>\n",
       "      <td>0.050781</td>\n",
       "      <td>0.049219</td>\n",
       "      <td>3</td>\n",
       "    </tr>\n",
       "    <tr>\n",
       "      <th>3240</th>\n",
       "      <td>./DATASET/BirdsDetector/train/images/voladoras...</td>\n",
       "      <td>0.725781</td>\n",
       "      <td>0.232031</td>\n",
       "      <td>0.076563</td>\n",
       "      <td>0.054688</td>\n",
       "      <td>3</td>\n",
       "    </tr>\n",
       "    <tr>\n",
       "      <th>3628</th>\n",
       "      <td>./DATASET/BirdsDetector/train/images/voladoras...</td>\n",
       "      <td>0.765625</td>\n",
       "      <td>0.401562</td>\n",
       "      <td>0.210938</td>\n",
       "      <td>0.180469</td>\n",
       "      <td>3</td>\n",
       "    </tr>\n",
       "    <tr>\n",
       "      <th>51</th>\n",
       "      <td>./DATASET/BirdsDetector/train/images/412144_jp...</td>\n",
       "      <td>0.516406</td>\n",
       "      <td>0.489844</td>\n",
       "      <td>0.858594</td>\n",
       "      <td>0.978906</td>\n",
       "      <td>3</td>\n",
       "    </tr>\n",
       "    <tr>\n",
       "      <th>2892</th>\n",
       "      <td>./DATASET/BirdsDetector/train/images/voladoras...</td>\n",
       "      <td>0.5</td>\n",
       "      <td>0.688281</td>\n",
       "      <td>0.06875</td>\n",
       "      <td>0.04375</td>\n",
       "      <td>3</td>\n",
       "    </tr>\n",
       "    <tr>\n",
       "      <th>3271</th>\n",
       "      <td>./DATASET/BirdsDetector/train/images/voladoras...</td>\n",
       "      <td>0.667188</td>\n",
       "      <td>0.399219</td>\n",
       "      <td>0.054688</td>\n",
       "      <td>0.071094</td>\n",
       "      <td>3</td>\n",
       "    </tr>\n",
       "    <tr>\n",
       "      <th>1647</th>\n",
       "      <td>./DATASET/BirdsDetector/valid/images/voladoras...</td>\n",
       "      <td>0.191406</td>\n",
       "      <td>0.360156</td>\n",
       "      <td>0.124219</td>\n",
       "      <td>0.066406</td>\n",
       "      <td>3</td>\n",
       "    </tr>\n",
       "    <tr>\n",
       "      <th>4008</th>\n",
       "      <td>./DATASET/BirdsDetector/train/images/voladoras...</td>\n",
       "      <td>0.646875</td>\n",
       "      <td>0.595313</td>\n",
       "      <td>0.4625</td>\n",
       "      <td>0.244531</td>\n",
       "      <td>3</td>\n",
       "    </tr>\n",
       "  </tbody>\n",
       "</table>\n",
       "</div>"
      ],
      "text/plain": [
       "                                             image_name  x_center  y_center  \\\n",
       "664   ./DATASET/BirdsDetector/valid/images/e290_jpg....  0.352344  0.402344   \n",
       "1679  ./DATASET/BirdsDetector/valid/images/voladoras...  0.058594  0.504687   \n",
       "2882  ./DATASET/BirdsDetector/train/images/voladoras...  0.550781  0.379688   \n",
       "3240  ./DATASET/BirdsDetector/train/images/voladoras...  0.725781  0.232031   \n",
       "3628  ./DATASET/BirdsDetector/train/images/voladoras...  0.765625  0.401562   \n",
       "51    ./DATASET/BirdsDetector/train/images/412144_jp...  0.516406  0.489844   \n",
       "2892  ./DATASET/BirdsDetector/train/images/voladoras...       0.5  0.688281   \n",
       "3271  ./DATASET/BirdsDetector/train/images/voladoras...  0.667188  0.399219   \n",
       "1647  ./DATASET/BirdsDetector/valid/images/voladoras...  0.191406  0.360156   \n",
       "4008  ./DATASET/BirdsDetector/train/images/voladoras...  0.646875  0.595313   \n",
       "\n",
       "             w         h classes  \n",
       "664   0.038281  0.054688       3  \n",
       "1679   0.09375    0.0875       3  \n",
       "2882  0.050781  0.049219       3  \n",
       "3240  0.076563  0.054688       3  \n",
       "3628  0.210938  0.180469       3  \n",
       "51    0.858594  0.978906       3  \n",
       "2892   0.06875   0.04375       3  \n",
       "3271  0.054688  0.071094       3  \n",
       "1647  0.124219  0.066406       3  \n",
       "4008    0.4625  0.244531       3  "
      ]
     },
     "execution_count": 20,
     "metadata": {},
     "output_type": "execute_result"
    }
   ],
   "source": [
    "dataBirdsDetectod = pd.DataFrame(columns=dataCarDetection.columns) \n",
    "\n",
    "# Проходимся по всем выборкам\n",
    "for sample in ['train', 'valid', 'test']:\n",
    "    labels_name = os.listdir(f'{PATH_BIRDS_DETECTOR}{sample}/labels') # Список файлов с разметкой \n",
    "    labels = pd.DataFrame(converterYoloToDataFrame(labels_name, f'{PATH_BIRDS_DETECTOR}{sample}/labels/', 3)) # Получаем датасет с разметкой\n",
    "    dataBirdsDetectod = pd.concat([dataBirdsDetectod, labels.T]) # Соединяем выборки в единый датасет\n",
    "\n",
    "del labels_name, labels # Очищаем память\n",
    "\n",
    "# Уменьшаем размер DataFrame\n",
    "dataBirdsDetectod = datasetMinimization(dataBirdsDetectod, DATASET_DOWNGRADES[print_variable_name(dataBirdsDetectod)])\n",
    "\n",
    "dataBirdsDetectod.sample(10)  # Посмотрим на данные"
   ]
  },
  {
   "cell_type": "markdown",
   "id": "0daaa9ca-d7ec-4fcd-925b-87b5fe9cc60c",
   "metadata": {},
   "source": [
    "### 2.4.3. Обработка датасета с BirdsV3"
   ]
  },
  {
   "cell_type": "code",
   "execution_count": 21,
   "id": "1a0a0d11-8026-4ec7-8d55-e5d26295d929",
   "metadata": {
    "ExecuteTime": {
     "end_time": "2024-04-13T19:07:48.473531Z",
     "start_time": "2024-04-13T19:07:48.194503Z"
    }
   },
   "outputs": [
    {
     "data": {
      "application/vnd.jupyter.widget-view+json": {
       "model_id": "15565ed1205a4bc28a7dc323b610d93c",
       "version_major": 2,
       "version_minor": 0
      },
      "text/plain": [
       "  0%|          | 0/582 [00:00<?, ?it/s]"
      ]
     },
     "metadata": {},
     "output_type": "display_data"
    },
    {
     "data": {
      "application/vnd.jupyter.widget-view+json": {
       "model_id": "785b92ee80734b33a5f38a7d0cfbc0b9",
       "version_major": 2,
       "version_minor": 0
      },
      "text/plain": [
       "  0%|          | 0/55 [00:00<?, ?it/s]"
      ]
     },
     "metadata": {},
     "output_type": "display_data"
    },
    {
     "data": {
      "application/vnd.jupyter.widget-view+json": {
       "model_id": "ac21815c5b9a4fd9b994e39fec6ca8b8",
       "version_major": 2,
       "version_minor": 0
      },
      "text/plain": [
       "  0%|          | 0/28 [00:00<?, ?it/s]"
      ]
     },
     "metadata": {},
     "output_type": "display_data"
    },
    {
     "name": "stdout",
     "output_type": "stream",
     "text": [
      "There were 665 photos, now there are 332\n"
     ]
    },
    {
     "data": {
      "text/html": [
       "<div>\n",
       "<style scoped>\n",
       "    .dataframe tbody tr th:only-of-type {\n",
       "        vertical-align: middle;\n",
       "    }\n",
       "\n",
       "    .dataframe tbody tr th {\n",
       "        vertical-align: top;\n",
       "    }\n",
       "\n",
       "    .dataframe thead th {\n",
       "        text-align: right;\n",
       "    }\n",
       "</style>\n",
       "<table border=\"1\" class=\"dataframe\">\n",
       "  <thead>\n",
       "    <tr style=\"text-align: right;\">\n",
       "      <th></th>\n",
       "      <th>image_name</th>\n",
       "      <th>x_center</th>\n",
       "      <th>y_center</th>\n",
       "      <th>w</th>\n",
       "      <th>h</th>\n",
       "      <th>classes</th>\n",
       "    </tr>\n",
       "  </thead>\n",
       "  <tbody>\n",
       "    <tr>\n",
       "      <th>1809</th>\n",
       "      <td>./DATASET/BirdsV3/train/images/birds-on-roof_j...</td>\n",
       "      <td>0.217188</td>\n",
       "      <td>0.820312</td>\n",
       "      <td>0.009375</td>\n",
       "      <td>0.035937</td>\n",
       "      <td>3</td>\n",
       "    </tr>\n",
       "    <tr>\n",
       "      <th>827</th>\n",
       "      <td>./DATASET/BirdsV3/train/images/655b0416-7147-4...</td>\n",
       "      <td>0.363281</td>\n",
       "      <td>0.532031</td>\n",
       "      <td>0.426563</td>\n",
       "      <td>0.532813</td>\n",
       "      <td>3</td>\n",
       "    </tr>\n",
       "    <tr>\n",
       "      <th>1710</th>\n",
       "      <td>./DATASET/BirdsV3/train/images/birds-on-roof_j...</td>\n",
       "      <td>0.230469</td>\n",
       "      <td>0.764844</td>\n",
       "      <td>0.015625</td>\n",
       "      <td>0.0375</td>\n",
       "      <td>3</td>\n",
       "    </tr>\n",
       "    <tr>\n",
       "      <th>3766</th>\n",
       "      <td>./DATASET/BirdsV3/train/images/pigeons-roof-12...</td>\n",
       "      <td>0.669531</td>\n",
       "      <td>0.507812</td>\n",
       "      <td>0.0375</td>\n",
       "      <td>0.067187</td>\n",
       "      <td>3</td>\n",
       "    </tr>\n",
       "    <tr>\n",
       "      <th>1844</th>\n",
       "      <td>./DATASET/BirdsV3/train/images/birds-roof-1271...</td>\n",
       "      <td>0.498437</td>\n",
       "      <td>0.55625</td>\n",
       "      <td>0.039062</td>\n",
       "      <td>0.051562</td>\n",
       "      <td>3</td>\n",
       "    </tr>\n",
       "    <tr>\n",
       "      <th>3105</th>\n",
       "      <td>./DATASET/BirdsV3/train/images/photo-156466976...</td>\n",
       "      <td>0.448437</td>\n",
       "      <td>0.446094</td>\n",
       "      <td>0.076563</td>\n",
       "      <td>0.073438</td>\n",
       "      <td>3</td>\n",
       "    </tr>\n",
       "    <tr>\n",
       "      <th>3512</th>\n",
       "      <td>./DATASET/BirdsV3/train/images/pigeons-on-an-o...</td>\n",
       "      <td>0.667188</td>\n",
       "      <td>0.566406</td>\n",
       "      <td>0.126562</td>\n",
       "      <td>0.121875</td>\n",
       "      <td>3</td>\n",
       "    </tr>\n",
       "    <tr>\n",
       "      <th>841</th>\n",
       "      <td>./DATASET/BirdsV3/train/images/7912165756_d49b...</td>\n",
       "      <td>0.566406</td>\n",
       "      <td>0.7375</td>\n",
       "      <td>0.014063</td>\n",
       "      <td>0.020313</td>\n",
       "      <td>3</td>\n",
       "    </tr>\n",
       "    <tr>\n",
       "      <th>3442</th>\n",
       "      <td>./DATASET/BirdsV3/train/images/pigeonroofdamag...</td>\n",
       "      <td>0.475781</td>\n",
       "      <td>0.223438</td>\n",
       "      <td>0.064062</td>\n",
       "      <td>0.085938</td>\n",
       "      <td>3</td>\n",
       "    </tr>\n",
       "    <tr>\n",
       "      <th>2487</th>\n",
       "      <td>./DATASET/BirdsV3/train/images/DSC_0597_jpg.rf...</td>\n",
       "      <td>0.602344</td>\n",
       "      <td>0.154688</td>\n",
       "      <td>0.01875</td>\n",
       "      <td>0.03125</td>\n",
       "      <td>3</td>\n",
       "    </tr>\n",
       "  </tbody>\n",
       "</table>\n",
       "</div>"
      ],
      "text/plain": [
       "                                             image_name  x_center  y_center  \\\n",
       "1809  ./DATASET/BirdsV3/train/images/birds-on-roof_j...  0.217188  0.820312   \n",
       "827   ./DATASET/BirdsV3/train/images/655b0416-7147-4...  0.363281  0.532031   \n",
       "1710  ./DATASET/BirdsV3/train/images/birds-on-roof_j...  0.230469  0.764844   \n",
       "3766  ./DATASET/BirdsV3/train/images/pigeons-roof-12...  0.669531  0.507812   \n",
       "1844  ./DATASET/BirdsV3/train/images/birds-roof-1271...  0.498437   0.55625   \n",
       "3105  ./DATASET/BirdsV3/train/images/photo-156466976...  0.448437  0.446094   \n",
       "3512  ./DATASET/BirdsV3/train/images/pigeons-on-an-o...  0.667188  0.566406   \n",
       "841   ./DATASET/BirdsV3/train/images/7912165756_d49b...  0.566406    0.7375   \n",
       "3442  ./DATASET/BirdsV3/train/images/pigeonroofdamag...  0.475781  0.223438   \n",
       "2487  ./DATASET/BirdsV3/train/images/DSC_0597_jpg.rf...  0.602344  0.154688   \n",
       "\n",
       "             w         h classes  \n",
       "1809  0.009375  0.035937       3  \n",
       "827   0.426563  0.532813       3  \n",
       "1710  0.015625    0.0375       3  \n",
       "3766    0.0375  0.067187       3  \n",
       "1844  0.039062  0.051562       3  \n",
       "3105  0.076563  0.073438       3  \n",
       "3512  0.126562  0.121875       3  \n",
       "841   0.014063  0.020313       3  \n",
       "3442  0.064062  0.085938       3  \n",
       "2487   0.01875   0.03125       3  "
      ]
     },
     "execution_count": 21,
     "metadata": {},
     "output_type": "execute_result"
    }
   ],
   "source": [
    "dataBirdsV3 = pd.DataFrame(columns=dataCarDetection.columns) \n",
    "\n",
    "# Проходимся по всем выборкам\n",
    "for sample in ['train', 'valid', 'test']:\n",
    "    labels_name = os.listdir(f'{PATH_BIRDS_V3}{sample}/labels') # Список файлов с разметкой \n",
    "    labels = pd.DataFrame(converterYoloToDataFrame(labels_name, f'{PATH_BIRDS_V3}{sample}/labels/', 3)) # Получаем датасет с разметкой\n",
    "    dataBirdsV3 = pd.concat([dataBirdsV3, labels.T]) # Соединяем выборки в единый датасет\n",
    "\n",
    "del labels_name, labels # Очищаем память\n",
    "\n",
    "# Уменьшаем размер DataFrame\n",
    "dataBirdsV3 = datasetMinimization(dataBirdsV3, DATASET_DOWNGRADES[print_variable_name(dataBirdsV3)])\n",
    "\n",
    "dataBirdsV3.sample(10)  # Посмотрим на данные"
   ]
  },
  {
   "cell_type": "markdown",
   "id": "b7922edc-6ca5-41b7-9996-003b96114b94",
   "metadata": {},
   "source": [
    "## 2.5. Обработка фотографий со зданиями\n",
    "### 2.5.1. Обработка датасета Building Detection "
   ]
  },
  {
   "cell_type": "code",
   "execution_count": 22,
   "id": "3e0a6499-7594-4fb6-9510-3f403d4c5657",
   "metadata": {
    "ExecuteTime": {
     "end_time": "2024-04-13T19:07:48.675838Z",
     "start_time": "2024-04-13T19:07:48.474216Z"
    }
   },
   "outputs": [
    {
     "data": {
      "application/vnd.jupyter.widget-view+json": {
       "model_id": "678d97f4f21d467fa7224e238130000a",
       "version_major": 2,
       "version_minor": 0
      },
      "text/plain": [
       "  0%|          | 0/726 [00:00<?, ?it/s]"
      ]
     },
     "metadata": {},
     "output_type": "display_data"
    },
    {
     "data": {
      "application/vnd.jupyter.widget-view+json": {
       "model_id": "9e2d2bb37dac4346a0c9cbf801526b83",
       "version_major": 2,
       "version_minor": 0
      },
      "text/plain": [
       "  0%|          | 0/47 [00:00<?, ?it/s]"
      ]
     },
     "metadata": {},
     "output_type": "display_data"
    },
    {
     "data": {
      "application/vnd.jupyter.widget-view+json": {
       "model_id": "c489c31b971246a888cbc2483e8db018",
       "version_major": 2,
       "version_minor": 0
      },
      "text/plain": [
       "  0%|          | 0/29 [00:00<?, ?it/s]"
      ]
     },
     "metadata": {},
     "output_type": "display_data"
    },
    {
     "name": "stdout",
     "output_type": "stream",
     "text": [
      "There were 802 photos, now there are 401\n"
     ]
    },
    {
     "data": {
      "text/html": [
       "<div>\n",
       "<style scoped>\n",
       "    .dataframe tbody tr th:only-of-type {\n",
       "        vertical-align: middle;\n",
       "    }\n",
       "\n",
       "    .dataframe tbody tr th {\n",
       "        vertical-align: top;\n",
       "    }\n",
       "\n",
       "    .dataframe thead th {\n",
       "        text-align: right;\n",
       "    }\n",
       "</style>\n",
       "<table border=\"1\" class=\"dataframe\">\n",
       "  <thead>\n",
       "    <tr style=\"text-align: right;\">\n",
       "      <th></th>\n",
       "      <th>image_name</th>\n",
       "      <th>x_center</th>\n",
       "      <th>y_center</th>\n",
       "      <th>w</th>\n",
       "      <th>h</th>\n",
       "      <th>classes</th>\n",
       "    </tr>\n",
       "  </thead>\n",
       "  <tbody>\n",
       "    <tr>\n",
       "      <th>788</th>\n",
       "      <td>./DATASET/BuildingDetection/train/images/92_A_...</td>\n",
       "      <td>0.498798</td>\n",
       "      <td>0.498798</td>\n",
       "      <td>0.997596</td>\n",
       "      <td>0.997596</td>\n",
       "      <td>4</td>\n",
       "    </tr>\n",
       "    <tr>\n",
       "      <th>47</th>\n",
       "      <td>./DATASET/BuildingDetection/valid/images/84_A_...</td>\n",
       "      <td>0.168269</td>\n",
       "      <td>0.449519</td>\n",
       "      <td>0.336538</td>\n",
       "      <td>0.882212</td>\n",
       "      <td>4</td>\n",
       "    </tr>\n",
       "    <tr>\n",
       "      <th>591</th>\n",
       "      <td>./DATASET/BuildingDetection/train/images/361_A...</td>\n",
       "      <td>0.498798</td>\n",
       "      <td>0.498798</td>\n",
       "      <td>0.997596</td>\n",
       "      <td>0.997596</td>\n",
       "      <td>4</td>\n",
       "    </tr>\n",
       "    <tr>\n",
       "      <th>525</th>\n",
       "      <td>./DATASET/BuildingDetection/train/images/30_A_...</td>\n",
       "      <td>0.406791</td>\n",
       "      <td>0.50179</td>\n",
       "      <td>0.677789</td>\n",
       "      <td>0.845116</td>\n",
       "      <td>4</td>\n",
       "    </tr>\n",
       "    <tr>\n",
       "      <th>408</th>\n",
       "      <td>./DATASET/BuildingDetection/train/images/231_A...</td>\n",
       "      <td>0.36899</td>\n",
       "      <td>0.694712</td>\n",
       "      <td>0.737981</td>\n",
       "      <td>0.605769</td>\n",
       "      <td>4</td>\n",
       "    </tr>\n",
       "    <tr>\n",
       "      <th>580</th>\n",
       "      <td>./DATASET/BuildingDetection/train/images/359_A...</td>\n",
       "      <td>0.498798</td>\n",
       "      <td>0.5</td>\n",
       "      <td>0.997596</td>\n",
       "      <td>1.0</td>\n",
       "      <td>4</td>\n",
       "    </tr>\n",
       "    <tr>\n",
       "      <th>660</th>\n",
       "      <td>./DATASET/BuildingDetection/train/images/399_A...</td>\n",
       "      <td>0.498798</td>\n",
       "      <td>0.5</td>\n",
       "      <td>0.997596</td>\n",
       "      <td>1.0</td>\n",
       "      <td>4</td>\n",
       "    </tr>\n",
       "    <tr>\n",
       "      <th>37</th>\n",
       "      <td>./DATASET/BuildingDetection/train/images/109_A...</td>\n",
       "      <td>0.416136</td>\n",
       "      <td>0.635896</td>\n",
       "      <td>0.825559</td>\n",
       "      <td>0.723401</td>\n",
       "      <td>4</td>\n",
       "    </tr>\n",
       "    <tr>\n",
       "      <th>205</th>\n",
       "      <td>./DATASET/BuildingDetection/train/images/164_A...</td>\n",
       "      <td>0.498798</td>\n",
       "      <td>0.5</td>\n",
       "      <td>0.997596</td>\n",
       "      <td>1.0</td>\n",
       "      <td>4</td>\n",
       "    </tr>\n",
       "    <tr>\n",
       "      <th>494</th>\n",
       "      <td>./DATASET/BuildingDetection/train/images/300_A...</td>\n",
       "      <td>0.498798</td>\n",
       "      <td>0.498798</td>\n",
       "      <td>0.997596</td>\n",
       "      <td>0.997596</td>\n",
       "      <td>4</td>\n",
       "    </tr>\n",
       "  </tbody>\n",
       "</table>\n",
       "</div>"
      ],
      "text/plain": [
       "                                            image_name  x_center  y_center  \\\n",
       "788  ./DATASET/BuildingDetection/train/images/92_A_...  0.498798  0.498798   \n",
       "47   ./DATASET/BuildingDetection/valid/images/84_A_...  0.168269  0.449519   \n",
       "591  ./DATASET/BuildingDetection/train/images/361_A...  0.498798  0.498798   \n",
       "525  ./DATASET/BuildingDetection/train/images/30_A_...  0.406791   0.50179   \n",
       "408  ./DATASET/BuildingDetection/train/images/231_A...   0.36899  0.694712   \n",
       "580  ./DATASET/BuildingDetection/train/images/359_A...  0.498798       0.5   \n",
       "660  ./DATASET/BuildingDetection/train/images/399_A...  0.498798       0.5   \n",
       "37   ./DATASET/BuildingDetection/train/images/109_A...  0.416136  0.635896   \n",
       "205  ./DATASET/BuildingDetection/train/images/164_A...  0.498798       0.5   \n",
       "494  ./DATASET/BuildingDetection/train/images/300_A...  0.498798  0.498798   \n",
       "\n",
       "            w         h classes  \n",
       "788  0.997596  0.997596       4  \n",
       "47   0.336538  0.882212       4  \n",
       "591  0.997596  0.997596       4  \n",
       "525  0.677789  0.845116       4  \n",
       "408  0.737981  0.605769       4  \n",
       "580  0.997596       1.0       4  \n",
       "660  0.997596       1.0       4  \n",
       "37   0.825559  0.723401       4  \n",
       "205  0.997596       1.0       4  \n",
       "494  0.997596  0.997596       4  "
      ]
     },
     "execution_count": 22,
     "metadata": {},
     "output_type": "execute_result"
    }
   ],
   "source": [
    "dataBuildingDetection = pd.DataFrame(columns=dataCarDetection.columns) \n",
    "\n",
    "# Проходимся по всем выборкам\n",
    "for sample in ['train', 'valid', 'test']:\n",
    "    labels_name = os.listdir(f'{PATH_BUILDING_DETECTION}{sample}/labels') # Список файлов с разметкой \n",
    "    labels = pd.DataFrame(converterYoloToDataFrame(labels_name, f'{PATH_BUILDING_DETECTION}{sample}/labels/', 4)) # Получаем датасет с разметкой\n",
    "    dataBuildingDetection = pd.concat([dataBuildingDetection, labels.T]) # Соединяем выборки в единый датасет\n",
    "\n",
    "del labels_name, labels # Очищаем память\n",
    "\n",
    "# Уменьшаем размер DataFrame\n",
    "dataBuildingDetection = datasetMinimization(dataBuildingDetection, DATASET_DOWNGRADES[print_variable_name(dataBuildingDetection)])\n",
    "\n",
    "dataBuildingDetection.sample(10)  # Посмотрим на данные"
   ]
  },
  {
   "cell_type": "markdown",
   "id": "49cfcaeb-3fd6-4f30-b4b8-45650a08c6c4",
   "metadata": {},
   "source": [
    "### 2.5.2. Обработка датасета Josh Edits "
   ]
  },
  {
   "cell_type": "code",
   "execution_count": 23,
   "id": "fb9ce1cd-f6a7-418e-a245-485dc0755e9d",
   "metadata": {
    "ExecuteTime": {
     "end_time": "2024-04-13T19:07:49.649403Z",
     "start_time": "2024-04-13T19:07:48.676836Z"
    },
    "scrolled": true
   },
   "outputs": [
    {
     "data": {
      "application/vnd.jupyter.widget-view+json": {
       "model_id": "4b07cc3c6ef444788e8ba36a1b55a775",
       "version_major": 2,
       "version_minor": 0
      },
      "text/plain": [
       "  0%|          | 0/3036 [00:00<?, ?it/s]"
      ]
     },
     "metadata": {},
     "output_type": "display_data"
    },
    {
     "data": {
      "application/vnd.jupyter.widget-view+json": {
       "model_id": "bf6c3edbf82f49efa1e92c5b0286f8ce",
       "version_major": 2,
       "version_minor": 0
      },
      "text/plain": [
       "  0%|          | 0/290 [00:00<?, ?it/s]"
      ]
     },
     "metadata": {},
     "output_type": "display_data"
    },
    {
     "data": {
      "application/vnd.jupyter.widget-view+json": {
       "model_id": "89235871658842c6bf874cac21599c86",
       "version_major": 2,
       "version_minor": 0
      },
      "text/plain": [
       "  0%|          | 0/139 [00:00<?, ?it/s]"
      ]
     },
     "metadata": {},
     "output_type": "display_data"
    },
    {
     "name": "stdout",
     "output_type": "stream",
     "text": [
      "There were 3251 photos, now there are 1625\n"
     ]
    },
    {
     "data": {
      "text/html": [
       "<div>\n",
       "<style scoped>\n",
       "    .dataframe tbody tr th:only-of-type {\n",
       "        vertical-align: middle;\n",
       "    }\n",
       "\n",
       "    .dataframe tbody tr th {\n",
       "        vertical-align: top;\n",
       "    }\n",
       "\n",
       "    .dataframe thead th {\n",
       "        text-align: right;\n",
       "    }\n",
       "</style>\n",
       "<table border=\"1\" class=\"dataframe\">\n",
       "  <thead>\n",
       "    <tr style=\"text-align: right;\">\n",
       "      <th></th>\n",
       "      <th>image_name</th>\n",
       "      <th>x_center</th>\n",
       "      <th>y_center</th>\n",
       "      <th>w</th>\n",
       "      <th>h</th>\n",
       "      <th>classes</th>\n",
       "    </tr>\n",
       "  </thead>\n",
       "  <tbody>\n",
       "    <tr>\n",
       "      <th>4948</th>\n",
       "      <td>./DATASET/JoshEdits/train/images/sv_42-1988112...</td>\n",
       "      <td>0.180469</td>\n",
       "      <td>0.442188</td>\n",
       "      <td>0.203906</td>\n",
       "      <td>0.1</td>\n",
       "      <td>4</td>\n",
       "    </tr>\n",
       "    <tr>\n",
       "      <th>198</th>\n",
       "      <td>./DATASET/JoshEdits/test/images/sv_42-16683047...</td>\n",
       "      <td>0.095312</td>\n",
       "      <td>0.464062</td>\n",
       "      <td>0.189844</td>\n",
       "      <td>0.253906</td>\n",
       "      <td>4</td>\n",
       "    </tr>\n",
       "    <tr>\n",
       "      <th>2473</th>\n",
       "      <td>./DATASET/JoshEdits/train/images/image_84_png....</td>\n",
       "      <td>0.617969</td>\n",
       "      <td>0.5</td>\n",
       "      <td>0.764062</td>\n",
       "      <td>1.0</td>\n",
       "      <td>4</td>\n",
       "    </tr>\n",
       "    <tr>\n",
       "      <th>1692</th>\n",
       "      <td>./DATASET/JoshEdits/train/images/debug_image_2...</td>\n",
       "      <td>0.028906</td>\n",
       "      <td>0.470313</td>\n",
       "      <td>0.057031</td>\n",
       "      <td>0.128906</td>\n",
       "      <td>4</td>\n",
       "    </tr>\n",
       "    <tr>\n",
       "      <th>226</th>\n",
       "      <td>./DATASET/JoshEdits/valid/images/image_67_png....</td>\n",
       "      <td>0.292969</td>\n",
       "      <td>0.513281</td>\n",
       "      <td>0.489844</td>\n",
       "      <td>0.642188</td>\n",
       "      <td>4</td>\n",
       "    </tr>\n",
       "    <tr>\n",
       "      <th>5009</th>\n",
       "      <td>./DATASET/JoshEdits/train/images/sv_42-2009658...</td>\n",
       "      <td>0.553906</td>\n",
       "      <td>0.467187</td>\n",
       "      <td>0.376563</td>\n",
       "      <td>0.34375</td>\n",
       "      <td>4</td>\n",
       "    </tr>\n",
       "    <tr>\n",
       "      <th>491</th>\n",
       "      <td>./DATASET/JoshEdits/train/images/37_4044618508...</td>\n",
       "      <td>0.110937</td>\n",
       "      <td>0.375781</td>\n",
       "      <td>0.221875</td>\n",
       "      <td>0.520312</td>\n",
       "      <td>4</td>\n",
       "    </tr>\n",
       "    <tr>\n",
       "      <th>4360</th>\n",
       "      <td>./DATASET/JoshEdits/train/images/sv_41-9362616...</td>\n",
       "      <td>0.810156</td>\n",
       "      <td>0.364063</td>\n",
       "      <td>0.379688</td>\n",
       "      <td>0.5</td>\n",
       "      <td>4</td>\n",
       "    </tr>\n",
       "    <tr>\n",
       "      <th>212</th>\n",
       "      <td>./DATASET/JoshEdits/test/images/sv_42-20137504...</td>\n",
       "      <td>0.050781</td>\n",
       "      <td>0.442969</td>\n",
       "      <td>0.100781</td>\n",
       "      <td>0.071875</td>\n",
       "      <td>4</td>\n",
       "    </tr>\n",
       "    <tr>\n",
       "      <th>4048</th>\n",
       "      <td>./DATASET/JoshEdits/train/images/sv_37-403977_...</td>\n",
       "      <td>0.809375</td>\n",
       "      <td>0.413281</td>\n",
       "      <td>0.3625</td>\n",
       "      <td>0.304688</td>\n",
       "      <td>4</td>\n",
       "    </tr>\n",
       "  </tbody>\n",
       "</table>\n",
       "</div>"
      ],
      "text/plain": [
       "                                             image_name  x_center  y_center  \\\n",
       "4948  ./DATASET/JoshEdits/train/images/sv_42-1988112...  0.180469  0.442188   \n",
       "198   ./DATASET/JoshEdits/test/images/sv_42-16683047...  0.095312  0.464062   \n",
       "2473  ./DATASET/JoshEdits/train/images/image_84_png....  0.617969       0.5   \n",
       "1692  ./DATASET/JoshEdits/train/images/debug_image_2...  0.028906  0.470313   \n",
       "226   ./DATASET/JoshEdits/valid/images/image_67_png....  0.292969  0.513281   \n",
       "5009  ./DATASET/JoshEdits/train/images/sv_42-2009658...  0.553906  0.467187   \n",
       "491   ./DATASET/JoshEdits/train/images/37_4044618508...  0.110937  0.375781   \n",
       "4360  ./DATASET/JoshEdits/train/images/sv_41-9362616...  0.810156  0.364063   \n",
       "212   ./DATASET/JoshEdits/test/images/sv_42-20137504...  0.050781  0.442969   \n",
       "4048  ./DATASET/JoshEdits/train/images/sv_37-403977_...  0.809375  0.413281   \n",
       "\n",
       "             w         h classes  \n",
       "4948  0.203906       0.1       4  \n",
       "198   0.189844  0.253906       4  \n",
       "2473  0.764062       1.0       4  \n",
       "1692  0.057031  0.128906       4  \n",
       "226   0.489844  0.642188       4  \n",
       "5009  0.376563   0.34375       4  \n",
       "491   0.221875  0.520312       4  \n",
       "4360  0.379688       0.5       4  \n",
       "212   0.100781  0.071875       4  \n",
       "4048    0.3625  0.304688       4  "
      ]
     },
     "execution_count": 23,
     "metadata": {},
     "output_type": "execute_result"
    }
   ],
   "source": [
    "dataJoshEdits = pd.DataFrame(columns=dataCarDetection.columns) \n",
    "\n",
    "# Проходимся по всем выборкам\n",
    "for sample in ['train', 'valid', 'test']:\n",
    "    labels_name = os.listdir(f'{PATH_JOSH_EDITS}{sample}/labels') # Список файлов с разметкой \n",
    "        \n",
    "    labels = pd.DataFrame(converterYoloToDataFrame(labels_name, f'{PATH_JOSH_EDITS}{sample}/labels/', 4)) # Получаем датасет с разметкой\n",
    "    dataJoshEdits = pd.concat([dataJoshEdits, labels.T]) # Соединяем выборки в единый датасет\n",
    "\n",
    "del labels_name, labels # Очищаем память\n",
    "\n",
    "# Уменьшаем размер DataFrame\n",
    "dataJoshEdits = datasetMinimization(dataJoshEdits, DATASET_DOWNGRADES[print_variable_name(dataJoshEdits)])\n",
    "\n",
    "dataJoshEdits.sample(10)  # Посмотрим на данные"
   ]
  },
  {
   "cell_type": "markdown",
   "id": "e4ff17e3-08a5-4d69-b994-a7b88acabb02",
   "metadata": {},
   "source": [
    "# 3. Объединение датасетов в единый датасет"
   ]
  },
  {
   "cell_type": "code",
   "execution_count": 24,
   "id": "e6fe3463-4434-4d03-b6af-70e991727ccd",
   "metadata": {
    "ExecuteTime": {
     "end_time": "2024-04-13T19:07:49.664454Z",
     "start_time": "2024-04-13T19:07:49.650404Z"
    }
   },
   "outputs": [
    {
     "data": {
      "text/html": [
       "<div>\n",
       "<style scoped>\n",
       "    .dataframe tbody tr th:only-of-type {\n",
       "        vertical-align: middle;\n",
       "    }\n",
       "\n",
       "    .dataframe tbody tr th {\n",
       "        vertical-align: top;\n",
       "    }\n",
       "\n",
       "    .dataframe thead th {\n",
       "        text-align: right;\n",
       "    }\n",
       "</style>\n",
       "<table border=\"1\" class=\"dataframe\">\n",
       "  <thead>\n",
       "    <tr style=\"text-align: right;\">\n",
       "      <th></th>\n",
       "      <th>image_name</th>\n",
       "      <th>x_center</th>\n",
       "      <th>y_center</th>\n",
       "      <th>w</th>\n",
       "      <th>h</th>\n",
       "      <th>classes</th>\n",
       "    </tr>\n",
       "  </thead>\n",
       "  <tbody>\n",
       "    <tr>\n",
       "      <th>19355</th>\n",
       "      <td>./DATASET/TreeDetection/train/images/7fd5d836-...</td>\n",
       "      <td>0.527344</td>\n",
       "      <td>0.427344</td>\n",
       "      <td>0.878125</td>\n",
       "      <td>0.826562</td>\n",
       "      <td>2</td>\n",
       "    </tr>\n",
       "    <tr>\n",
       "      <th>26395</th>\n",
       "      <td>./DATASET/BirdsV3/train/images/83ff5a3360c7b39...</td>\n",
       "      <td>0.946094</td>\n",
       "      <td>0.471094</td>\n",
       "      <td>0.045312</td>\n",
       "      <td>0.051562</td>\n",
       "      <td>3</td>\n",
       "    </tr>\n",
       "    <tr>\n",
       "      <th>4737</th>\n",
       "      <td>./DATASET/CarPerson/Car-Person-v2-Roboflow-Owa...</td>\n",
       "      <td>0.399038</td>\n",
       "      <td>0.520433</td>\n",
       "      <td>0.217548</td>\n",
       "      <td>0.19351</td>\n",
       "      <td>0</td>\n",
       "    </tr>\n",
       "    <tr>\n",
       "      <th>10963</th>\n",
       "      <td>./DATASET/Transmission/data_original_size_v1/d...</td>\n",
       "      <td>0.876953</td>\n",
       "      <td>0.876953</td>\n",
       "      <td>0.0</td>\n",
       "      <td>0.999023</td>\n",
       "      <td>5</td>\n",
       "    </tr>\n",
       "    <tr>\n",
       "      <th>2200</th>\n",
       "      <td>./DATASET/CarPerson/Car-Person-v2-Roboflow-Owa...</td>\n",
       "      <td>0.628606</td>\n",
       "      <td>0.74399</td>\n",
       "      <td>0.115385</td>\n",
       "      <td>0.05649</td>\n",
       "      <td>0</td>\n",
       "    </tr>\n",
       "    <tr>\n",
       "      <th>4985</th>\n",
       "      <td>./DATASET/CarPerson/Car-Person-v2-Roboflow-Owa...</td>\n",
       "      <td>0.96875</td>\n",
       "      <td>0.566106</td>\n",
       "      <td>0.038462</td>\n",
       "      <td>0.054087</td>\n",
       "      <td>0</td>\n",
       "    </tr>\n",
       "    <tr>\n",
       "      <th>20675</th>\n",
       "      <td>./DATASET/BirdAnnotation/train/images/cuidados...</td>\n",
       "      <td>0.692969</td>\n",
       "      <td>0.494531</td>\n",
       "      <td>0.034375</td>\n",
       "      <td>0.051562</td>\n",
       "      <td>3</td>\n",
       "    </tr>\n",
       "    <tr>\n",
       "      <th>20648</th>\n",
       "      <td>./DATASET/BirdAnnotation/train/images/birds-pi...</td>\n",
       "      <td>0.625</td>\n",
       "      <td>0.9</td>\n",
       "      <td>0.067187</td>\n",
       "      <td>0.096875</td>\n",
       "      <td>3</td>\n",
       "    </tr>\n",
       "    <tr>\n",
       "      <th>6968</th>\n",
       "      <td>./DATASET/UtilityPole/train/images/images--10-...</td>\n",
       "      <td>0.84976</td>\n",
       "      <td>0.728365</td>\n",
       "      <td>0.137019</td>\n",
       "      <td>0.408654</td>\n",
       "      <td>1</td>\n",
       "    </tr>\n",
       "    <tr>\n",
       "      <th>13194</th>\n",
       "      <td>./DATASET/Transmission/data_original_size_v1/d...</td>\n",
       "      <td>0.633203</td>\n",
       "      <td>0.633203</td>\n",
       "      <td>0.733073</td>\n",
       "      <td>0.09191</td>\n",
       "      <td>5</td>\n",
       "    </tr>\n",
       "  </tbody>\n",
       "</table>\n",
       "</div>"
      ],
      "text/plain": [
       "                                              image_name  x_center  y_center  \\\n",
       "19355  ./DATASET/TreeDetection/train/images/7fd5d836-...  0.527344  0.427344   \n",
       "26395  ./DATASET/BirdsV3/train/images/83ff5a3360c7b39...  0.946094  0.471094   \n",
       "4737   ./DATASET/CarPerson/Car-Person-v2-Roboflow-Owa...  0.399038  0.520433   \n",
       "10963  ./DATASET/Transmission/data_original_size_v1/d...  0.876953  0.876953   \n",
       "2200   ./DATASET/CarPerson/Car-Person-v2-Roboflow-Owa...  0.628606   0.74399   \n",
       "4985   ./DATASET/CarPerson/Car-Person-v2-Roboflow-Owa...   0.96875  0.566106   \n",
       "20675  ./DATASET/BirdAnnotation/train/images/cuidados...  0.692969  0.494531   \n",
       "20648  ./DATASET/BirdAnnotation/train/images/birds-pi...     0.625       0.9   \n",
       "6968   ./DATASET/UtilityPole/train/images/images--10-...   0.84976  0.728365   \n",
       "13194  ./DATASET/Transmission/data_original_size_v1/d...  0.633203  0.633203   \n",
       "\n",
       "              w         h classes  \n",
       "19355  0.878125  0.826562       2  \n",
       "26395  0.045312  0.051562       3  \n",
       "4737   0.217548   0.19351       0  \n",
       "10963       0.0  0.999023       5  \n",
       "2200   0.115385   0.05649       0  \n",
       "4985   0.038462  0.054087       0  \n",
       "20675  0.034375  0.051562       3  \n",
       "20648  0.067187  0.096875       3  \n",
       "6968   0.137019  0.408654       1  \n",
       "13194  0.733073   0.09191       5  "
      ]
     },
     "execution_count": 24,
     "metadata": {},
     "output_type": "execute_result"
    }
   ],
   "source": [
    "data = pd.concat(\n",
    "    [\n",
    "        dataCarDetection, dataCarPerson, dataCarsDetection, # Авто\n",
    "        dataSTN, dataUnilityPole, dataTransmission, # ЛЭП\n",
    "        dataTree, dataTreeDetection, dataTree100, # Деревья\n",
    "        dataBirdAnnotation, dataBirdsDetectod, dataBirdsV3, # Птицы\n",
    "        dataBuildingDetection, dataJoshEdits # Здания\n",
    "    ], \n",
    "    ignore_index=True\n",
    ") # Объеденим датасеты в один единый\n",
    "\n",
    "del dataCarDetection, dataCarPerson, dataCarsDetection # очищаем память от датасетов с Авто\n",
    "del dataSTN, dataUnilityPole, dataTransmission # очищаем память от датасетов с ЛЭП\n",
    "del dataTree, dataTreeDetection, dataTree100 # очищаем память от датасетов со Деревьями\n",
    "del dataBirdAnnotation, dataBirdsDetectod, dataBirdsV3 # очищаем память от датасетов со Птицами\n",
    "del dataBuildingDetection, dataJoshEdits # очищаем память от датасетов со Зданиями\n",
    "\n",
    "data.sample(10) # Посмотрим на данные"
   ]
  },
  {
   "cell_type": "code",
   "execution_count": 25,
   "id": "b6ee5f90-daa8-49e2-ad2d-be658e220e8c",
   "metadata": {
    "ExecuteTime": {
     "end_time": "2024-04-13T19:07:49.679937Z",
     "start_time": "2024-04-13T19:07:49.665457Z"
    }
   },
   "outputs": [
    {
     "data": {
      "text/plain": [
       "(7105,)"
      ]
     },
     "execution_count": 25,
     "metadata": {},
     "output_type": "execute_result"
    }
   ],
   "source": [
    "data['image_name'].unique().shape # Количество фотографий"
   ]
  },
  {
   "cell_type": "code",
   "execution_count": 26,
   "id": "2fc9b640-c9f6-4826-9ed5-a6e6e487f43d",
   "metadata": {
    "ExecuteTime": {
     "end_time": "2024-04-13T19:07:49.710906Z",
     "start_time": "2024-04-13T19:07:49.680441Z"
    }
   },
   "outputs": [
    {
     "name": "stdout",
     "output_type": "stream",
     "text": [
      "<class 'pandas.core.frame.DataFrame'>\n",
      "RangeIndex: 32381 entries, 0 to 32380\n",
      "Data columns (total 6 columns):\n",
      " #   Column      Non-Null Count  Dtype  \n",
      "---  ------      --------------  -----  \n",
      " 0   image_name  32381 non-null  object \n",
      " 1   x_center    32381 non-null  float64\n",
      " 2   y_center    32381 non-null  float64\n",
      " 3   w           32381 non-null  float64\n",
      " 4   h           32381 non-null  float64\n",
      " 5   classes     32381 non-null  int32  \n",
      "dtypes: float64(4), int32(1), object(1)\n",
      "memory usage: 1.4+ MB\n"
     ]
    }
   ],
   "source": [
    "# Изменим тип данных координат с string на float\n",
    "for column in data.columns[1:-1]:\n",
    "    data[column] = data[column].astype(float)\n",
    "\n",
    "data['classes'] = data['classes'].astype(int) # Изменим тип классов с string на int\n",
    "data.info() # Посмотрим на сведение дата сета"
   ]
  },
  {
   "cell_type": "code",
   "execution_count": 27,
   "id": "8c8e2ba5-4023-4b96-8066-dc06cf136e2c",
   "metadata": {
    "ExecuteTime": {
     "end_time": "2024-04-13T19:07:49.725891Z",
     "start_time": "2024-04-13T19:07:49.711856Z"
    }
   },
   "outputs": [
    {
     "name": "stdout",
     "output_type": "stream",
     "text": [
      "Dataset contains 7105 unique photos and 32381 objects\n"
     ]
    }
   ],
   "source": [
    "count_image = data['image_name'].unique().shape[0]\n",
    "print(f'Dataset contains {count_image} unique photos and {data.shape[0]} objects')\n",
    "del count_image # Очищаем память"
   ]
  },
  {
   "cell_type": "markdown",
   "id": "7d0a4dad-c8a1-492f-bbe2-5e1c516e649b",
   "metadata": {},
   "source": [
    "    0 - машина\n",
    "    1 - ЛЭП\n",
    "    2 - Деревья\n",
    "    3 - Птицы\n",
    "    4 - Дом/здание\n",
    "    5 - Провода"
   ]
  },
  {
   "cell_type": "code",
   "execution_count": 28,
   "id": "03e3d5aa-e9e9-49a6-8345-11928af2be7a",
   "metadata": {
    "ExecuteTime": {
     "end_time": "2024-04-13T19:07:49.757021Z",
     "start_time": "2024-04-13T19:07:49.726892Z"
    }
   },
   "outputs": [
    {
     "data": {
      "text/plain": [
       "classes\n",
       "0    21.352986\n",
       "1     3.935860\n",
       "2    13.972573\n",
       "3    14.755426\n",
       "4    20.111219\n",
       "5    25.871936\n",
       "Name: count, dtype: float64"
      ]
     },
     "execution_count": 28,
     "metadata": {},
     "output_type": "execute_result"
    }
   ],
   "source": [
    "# Выведем в процентах количество уникальных изображений по классам\n",
    "data.groupby('image_name')['classes'].head().value_counts().sort_index() /  data.groupby('image_name')['classes'].head().shape[0] * 100"
   ]
  },
  {
   "cell_type": "markdown",
   "id": "39bb63ed-604d-4d1a-ac51-9c7f9b971da0",
   "metadata": {},
   "source": [
    "    0 - машина\n",
    "    1 - ЛЭП\n",
    "    2 - Деревья\n",
    "    3 - Птицы\n",
    "    4 - Дом/здание\n",
    "    5 - Провода"
   ]
  },
  {
   "cell_type": "code",
   "execution_count": 29,
   "id": "e5709bda-fe4b-4778-8303-c07e4cd6374a",
   "metadata": {
    "ExecuteTime": {
     "end_time": "2024-04-13T19:07:49.771788Z",
     "start_time": "2024-04-13T19:07:49.758021Z"
    }
   },
   "outputs": [
    {
     "data": {
      "text/plain": [
       "classes\n",
       "0    20.351441\n",
       "1     2.714555\n",
       "2     8.702634\n",
       "3    25.518051\n",
       "4    11.599395\n",
       "5    31.113925\n",
       "Name: count, dtype: float64"
      ]
     },
     "execution_count": 29,
     "metadata": {},
     "output_type": "execute_result"
    }
   ],
   "source": [
    "# Распределение классов среди всех объектов\n",
    "data['classes'].value_counts().sort_index() / data.shape[0] * 100"
   ]
  },
  {
   "cell_type": "code",
   "execution_count": 30,
   "id": "0fbc1449-8262-4f8d-af65-a13b423a7955",
   "metadata": {
    "ExecuteTime": {
     "end_time": "2024-04-13T19:07:49.803475Z",
     "start_time": "2024-04-13T19:07:49.771788Z"
    },
    "scrolled": true
   },
   "outputs": [
    {
     "data": {
      "text/html": [
       "<div>\n",
       "<style scoped>\n",
       "    .dataframe tbody tr th:only-of-type {\n",
       "        vertical-align: middle;\n",
       "    }\n",
       "\n",
       "    .dataframe tbody tr th {\n",
       "        vertical-align: top;\n",
       "    }\n",
       "\n",
       "    .dataframe thead th {\n",
       "        text-align: right;\n",
       "    }\n",
       "</style>\n",
       "<table border=\"1\" class=\"dataframe\">\n",
       "  <thead>\n",
       "    <tr style=\"text-align: right;\">\n",
       "      <th></th>\n",
       "      <th>size</th>\n",
       "    </tr>\n",
       "  </thead>\n",
       "  <tbody>\n",
       "    <tr>\n",
       "      <th>0</th>\n",
       "      <td>69.992963</td>\n",
       "    </tr>\n",
       "    <tr>\n",
       "      <th>1</th>\n",
       "      <td>20.098522</td>\n",
       "    </tr>\n",
       "    <tr>\n",
       "      <th>2</th>\n",
       "      <td>9.908515</td>\n",
       "    </tr>\n",
       "  </tbody>\n",
       "</table>\n",
       "</div>"
      ],
      "text/plain": [
       "        size\n",
       "0  69.992963\n",
       "1  20.098522\n",
       "2   9.908515"
      ]
     },
     "execution_count": 30,
     "metadata": {},
     "output_type": "execute_result"
    }
   ],
   "source": [
    "# Разделим данные на выборки\n",
    "train_name_file, test_name_file = train_test_split(data['image_name'].unique(), test_size=.30, random_state=42) \n",
    "valid_name_file, test_name_file = train_test_split(test_name_file, test_size=.33, random_state=42)\n",
    "\n",
    "# Посмотрим на процентное отношение выборок \n",
    "pd.DataFrame([len(train_name_file), len(valid_name_file), len(test_name_file)], columns=['size']) / len(data['image_name'].unique()) * 100"
   ]
  },
  {
   "cell_type": "code",
   "execution_count": 31,
   "id": "dbc52291-cebb-4874-9206-451456680983",
   "metadata": {
    "ExecuteTime": {
     "end_time": "2024-04-13T19:07:49.819158Z",
     "start_time": "2024-04-13T19:07:49.804415Z"
    }
   },
   "outputs": [],
   "source": [
    "train_dataCarDetection = data[data['image_name'].isin(train_name_file)] # Записи для тренировочных данных\n",
    "valid_dataCarDetection = data[data['image_name'].isin(valid_name_file)] # Записи для валидационных данных\n",
    "test_dataCarDetection = data[data['image_name'].isin(test_name_file)] # Записи для тестовых данных\n",
    "del data, train_name_file, valid_name_file, test_name_file # Очистим память"
   ]
  },
  {
   "cell_type": "code",
   "execution_count": 32,
   "id": "2fccf9ae-ad4b-429f-b632-0469ddbe8783",
   "metadata": {
    "ExecuteTime": {
     "end_time": "2024-04-13T19:07:49.944712Z",
     "start_time": "2024-04-13T19:07:49.820158Z"
    }
   },
   "outputs": [],
   "source": [
    "import os\n",
    "list_paths_to_create = [\n",
    "    'DATA', 'DATA/train', \n",
    "    'DATA/valid', 'DATA/test', 'DATA/train/images', \n",
    "    'DATA/train/labels', 'DATA/valid/images', 'DATA/valid/labels',\n",
    "    'DATA/test/images', 'DATA/test/labels'\n",
    "]\n",
    "\n",
    "for i in list_paths_to_create:\n",
    "    os.mkdir(i)\n"
   ]
  },
  {
   "cell_type": "code",
   "execution_count": 33,
   "id": "d73e7c69-f402-4740-a9a0-10eff9d9fe93",
   "metadata": {
    "ExecuteTime": {
     "end_time": "2024-04-13T19:07:49.945716Z",
     "start_time": "2024-04-13T19:07:49.945716Z"
    },
    "scrolled": true
   },
   "outputs": [
    {
     "data": {
      "application/vnd.jupyter.widget-view+json": {
       "model_id": "9f1dcacdf5e44a6c804b5571b42d329a",
       "version_major": 2,
       "version_minor": 0
      },
      "text/plain": [
       "  0%|          | 0/4973 [00:00<?, ?it/s]"
      ]
     },
     "metadata": {},
     "output_type": "display_data"
    },
    {
     "data": {
      "application/vnd.jupyter.widget-view+json": {
       "model_id": "e8ef509b133044ac97948e78264c2bd9",
       "version_major": 2,
       "version_minor": 0
      },
      "text/plain": [
       "  0%|          | 0/1428 [00:00<?, ?it/s]"
      ]
     },
     "metadata": {},
     "output_type": "display_data"
    },
    {
     "data": {
      "application/vnd.jupyter.widget-view+json": {
       "model_id": "b08f06b5339340d5a71de6b022d1854a",
       "version_major": 2,
       "version_minor": 0
      },
      "text/plain": [
       "  0%|          | 0/704 [00:00<?, ?it/s]"
      ]
     },
     "metadata": {},
     "output_type": "display_data"
    }
   ],
   "source": [
    "def copyFileDataSet(dataCarDetection, pathEnd):\n",
    "    '''\n",
    "        Функция позволяет скопировать фото в новую папку и под каждую из них создать txt файл с разметкой\n",
    "        Input:\n",
    "            dataCarDetection - DataFrame содержащий в себе следующиго типа:\n",
    "                Признаки    Non-Null?  Тип\n",
    "                image_name  non-null   object \n",
    "                x_center    non-null   float64\n",
    "                y_center    non-null   float64\n",
    "                w           non-null   float64\n",
    "                h           non-null   float64\n",
    "                classes     non-null   int64\n",
    "            pathEnd - путь созданной папки, внутри которой созданы папки\n",
    "                images и labels\n",
    "    '''\n",
    "    nameFiles = dataCarDetection['image_name'].unique() # Получаем список уникальных файлов\n",
    "\n",
    "    # Запускаем цикл по все файлам\n",
    "    for item in tqdm(nameFiles):\n",
    "\n",
    "        # shutil.copy2(item, pathEnd+'/images') # Копируем данный файл в другую директорию/\n",
    "        img = cv2.imread(item, cv2.IMREAD_UNCHANGED)\n",
    "        img = cv2.resize(cv2.UMat(img), (1280, 720), cv2.INTER_NEAREST)\n",
    "        item = item.replace('\\\\', '/')\n",
    "        pathEnd = pathEnd.replace('\\\\', '/')\n",
    "        \n",
    "        cv2.imwrite(pathEnd + '/images/' + item.split('/')[-1], img)\n",
    "        \n",
    "        dataList = list(dataCarDetection[dataCarDetection['image_name'] == item].values) # Получаем все объекты на фото\n",
    "        labelsFile = open(pathEnd + '/labels/' + item.split('/')[-1][:-3] + 'txt', 'w+') # Создаём текстовый документ с разметкой\n",
    "        isFirst = True # Флаг первой строки\n",
    "\n",
    "        # Запускаем цикл по всем объектам на фото\n",
    "        for data in dataList:\n",
    "\n",
    "            # Получаем линию с данными \n",
    "            line = '' if isFirst else '\\n'\n",
    "            isFirst = False\n",
    "            line += str(data[-1]) + ' ' + ' '.join(str(number) for number in data[1:-1]) \n",
    "            \n",
    "            labelsFile.write(line) # Записываем в файл\n",
    "        labelsFile.close() # Закрываем файл\n",
    "        \n",
    "copyFileDataSet(train_dataCarDetection, './DATA/train') # Формируем тренировочную выборку\n",
    "copyFileDataSet(valid_dataCarDetection, './DATA/valid') # Формируем валидационную выборку\n",
    "copyFileDataSet(test_dataCarDetection, './DATA/test') # Формируем тестовую выборку\n",
    "del train_dataCarDetection, valid_dataCarDetection, test_dataCarDetection # Очищаем память"
   ]
  },
  {
   "cell_type": "code",
   "execution_count": 34,
   "id": "64c78537-5fee-452e-a05f-c87803d33e4e",
   "metadata": {
    "ExecuteTime": {
     "end_time": "2024-04-13T19:07:49.946717Z",
     "start_time": "2024-04-13T19:07:49.946717Z"
    }
   },
   "outputs": [],
   "source": [
    "# Глобальный путь до директории с проектом \n",
    "global_path = os.path.abspath('.') \n",
    "yolo_format = dict(\n",
    "    path=f'{global_path}/DATA',\n",
    "    train='../train',\n",
    "    val='../valid',\n",
    "    test='../test',       \n",
    "    nc=6,\n",
    "    names={\n",
    "        0: 'Car',\n",
    "        1: 'STN',\n",
    "        2: 'Tree',\n",
    "        3: 'Bird',\n",
    "        4: 'House',\n",
    "        5: 'Cable',\n",
    "    }\n",
    ")\n",
    "\n",
    "del global_path # Очищаем память\n",
    "             \n",
    "with open('./DATA/yolo.yaml', 'w') as outfile:\n",
    "    yaml.dump(yolo_format, outfile, default_flow_style=False)"
   ]
  },
  {
   "cell_type": "code",
   "execution_count": 2,
   "id": "4dbaf776-c0ee-4ee5-bdd3-eb48c583722a",
   "metadata": {},
   "outputs": [],
   "source": [
    "epochTraning = 250 # Количество эпох обучения\n",
    "pathYalm = \"./DATA/yolo.yaml\" # Путь до файла yalm\n",
    "patience = 30 # Терпимость эпох для переобучения\n",
    "imgsz = 1280 # Размер изображения"
   ]
  },
  {
   "cell_type": "code",
   "execution_count": 3,
   "id": "af995e43-e235-4cf0-8ca1-ee7839280360",
   "metadata": {
    "scrolled": true
   },
   "outputs": [
    {
     "name": "stdout",
     "output_type": "stream",
     "text": [
      "Transferred 355/355 items from pretrained weights\n",
      "Ultralytics YOLOv8.1.47  Python-3.9.6 torch-2.1.0+cu121 CUDA:0 (NVIDIA GeForce RTX 3080, 10240MiB)\n",
      "\u001b[34m\u001b[1mengine\\trainer: \u001b[0mtask=detect, mode=train, model=yolov8n.yaml, data=./DATA/yolo.yaml, epochs=250, time=None, patience=30, batch=16, imgsz=1280, save=True, save_period=-1, cache=False, device=0, workers=8, project=None, name=train, exist_ok=False, pretrained=True, optimizer=auto, verbose=True, seed=0, deterministic=True, single_cls=False, rect=False, cos_lr=False, close_mosaic=10, resume=False, amp=True, fraction=1.0, profile=False, freeze=None, multi_scale=False, overlap_mask=True, mask_ratio=4, dropout=0.0, val=True, split=val, save_json=False, save_hybrid=False, conf=None, iou=0.7, max_det=300, half=False, dnn=False, plots=True, source=None, vid_stride=1, stream_buffer=False, visualize=False, augment=False, agnostic_nms=False, classes=None, retina_masks=False, embed=None, show=False, save_frames=False, save_txt=False, save_conf=False, save_crop=False, show_labels=True, show_conf=True, show_boxes=True, line_width=None, format=torchscript, keras=False, optimize=False, int8=False, dynamic=False, simplify=False, opset=None, workspace=4, nms=False, lr0=0.01, lrf=0.01, momentum=0.937, weight_decay=0.0005, warmup_epochs=3.0, warmup_momentum=0.8, warmup_bias_lr=0.1, box=7.5, cls=0.5, dfl=1.5, pose=12.0, kobj=1.0, label_smoothing=0.0, nbs=64, hsv_h=0.015, hsv_s=0.7, hsv_v=0.4, degrees=0.0, translate=0.1, scale=0.5, shear=0.0, perspective=0.0, flipud=0.0, fliplr=0.5, bgr=0.0, mosaic=1.0, mixup=0.0, copy_paste=0.0, auto_augment=randaugment, erasing=0.4, crop_fraction=1.0, cfg=None, tracker=botsort.yaml, save_dir=runs\\detect\\train\n",
      "Overriding model.yaml nc=80 with nc=6\n",
      "\n",
      "                   from  n    params  module                                       arguments                     \n",
      "  0                  -1  1       464  ultralytics.nn.modules.conv.Conv             [3, 16, 3, 2]                 \n",
      "  1                  -1  1      4672  ultralytics.nn.modules.conv.Conv             [16, 32, 3, 2]                \n",
      "  2                  -1  1      7360  ultralytics.nn.modules.block.C2f             [32, 32, 1, True]             \n",
      "  3                  -1  1     18560  ultralytics.nn.modules.conv.Conv             [32, 64, 3, 2]                \n",
      "  4                  -1  2     49664  ultralytics.nn.modules.block.C2f             [64, 64, 2, True]             \n",
      "  5                  -1  1     73984  ultralytics.nn.modules.conv.Conv             [64, 128, 3, 2]               \n",
      "  6                  -1  2    197632  ultralytics.nn.modules.block.C2f             [128, 128, 2, True]           \n",
      "  7                  -1  1    295424  ultralytics.nn.modules.conv.Conv             [128, 256, 3, 2]              \n",
      "  8                  -1  1    460288  ultralytics.nn.modules.block.C2f             [256, 256, 1, True]           \n",
      "  9                  -1  1    164608  ultralytics.nn.modules.block.SPPF            [256, 256, 5]                 \n",
      " 10                  -1  1         0  torch.nn.modules.upsampling.Upsample         [None, 2, 'nearest']          \n",
      " 11             [-1, 6]  1         0  ultralytics.nn.modules.conv.Concat           [1]                           \n",
      " 12                  -1  1    148224  ultralytics.nn.modules.block.C2f             [384, 128, 1]                 \n",
      " 13                  -1  1         0  torch.nn.modules.upsampling.Upsample         [None, 2, 'nearest']          \n",
      " 14             [-1, 4]  1         0  ultralytics.nn.modules.conv.Concat           [1]                           \n",
      " 15                  -1  1     37248  ultralytics.nn.modules.block.C2f             [192, 64, 1]                  \n",
      " 16                  -1  1     36992  ultralytics.nn.modules.conv.Conv             [64, 64, 3, 2]                \n",
      " 17            [-1, 12]  1         0  ultralytics.nn.modules.conv.Concat           [1]                           \n",
      " 18                  -1  1    123648  ultralytics.nn.modules.block.C2f             [192, 128, 1]                 \n",
      " 19                  -1  1    147712  ultralytics.nn.modules.conv.Conv             [128, 128, 3, 2]              \n",
      " 20             [-1, 9]  1         0  ultralytics.nn.modules.conv.Concat           [1]                           \n",
      " 21                  -1  1    493056  ultralytics.nn.modules.block.C2f             [384, 256, 1]                 \n",
      " 22        [15, 18, 21]  1    752482  ultralytics.nn.modules.head.Detect           [6, [64, 128, 256]]           \n",
      "YOLOv8n summary: 225 layers, 3012018 parameters, 3012002 gradients, 8.2 GFLOPs\n",
      "\n",
      "Transferred 319/355 items from pretrained weights\n",
      "Freezing layer 'model.22.dfl.conv.weight'\n",
      "\u001b[34m\u001b[1mAMP: \u001b[0mrunning Automatic Mixed Precision (AMP) checks with YOLOv8n...\n",
      "\u001b[34m\u001b[1mAMP: \u001b[0mchecks passed \n"
     ]
    },
    {
     "name": "stderr",
     "output_type": "stream",
     "text": [
      "\u001b[34m\u001b[1mtrain: \u001b[0mScanning D:\\MyProjects\\Хакатоны\\TerraWing\\src\\neural_network\\DATA\\train\\labels.cache... 4973 images, 873 backgro\u001b[0m"
     ]
    },
    {
     "name": "stdout",
     "output_type": "stream",
     "text": [
      "\u001b[34m\u001b[1mtrain: \u001b[0mWARNING  D:\\MyProjects\\\\TerraWing\\src\\neural_network\\DATA\\train\\images\\image_000001036_jpg.rf.3eb241105e26834305cefe3448dc4f6e.jpg: 1 duplicate labels removed\n"
     ]
    },
    {
     "name": "stderr",
     "output_type": "stream",
     "text": [
      "\n",
      "\u001b[34m\u001b[1mval: \u001b[0mScanning D:\\MyProjects\\Хакатоны\\TerraWing\\src\\neural_network\\DATA\\valid\\labels.cache... 1428 images, 241 backgroun\u001b[0m\n"
     ]
    },
    {
     "name": "stdout",
     "output_type": "stream",
     "text": [
      "Plotting labels to runs\\detect\\train\\labels.jpg... \n",
      "\u001b[34m\u001b[1moptimizer:\u001b[0m 'optimizer=auto' found, ignoring 'lr0=0.01' and 'momentum=0.937' and determining best 'optimizer', 'lr0' and 'momentum' automatically... \n",
      "\u001b[34m\u001b[1moptimizer:\u001b[0m SGD(lr=0.01, momentum=0.9) with parameter groups 57 weight(decay=0.0), 64 weight(decay=0.0005), 63 bias(decay=0.0)\n",
      "Image sizes 1280 train, 1280 val\n",
      "Using 8 dataloader workers\n",
      "Logging results to \u001b[1mruns\\detect\\train\u001b[0m\n",
      "Starting training for 250 epochs...\n",
      "\n",
      "      Epoch    GPU_mem   box_loss   cls_loss   dfl_loss  Instances       Size\n"
     ]
    },
    {
     "name": "stderr",
     "output_type": "stream",
     "text": [
      "      1/250      10.6G      1.645      3.817      1.764         56       1280: 100%|██████████| 311/311 [02:08<00:00,  \n",
      "                 Class     Images  Instances      Box(P          R      mAP50  mAP50-95): 100%|██████████| 45/45 [00:21\n"
     ]
    },
    {
     "name": "stdout",
     "output_type": "stream",
     "text": [
      "                   all       1428       4552      0.452      0.443      0.383      0.168\n",
      "\n",
      "      Epoch    GPU_mem   box_loss   cls_loss   dfl_loss  Instances       Size\n"
     ]
    },
    {
     "name": "stderr",
     "output_type": "stream",
     "text": [
      "      2/250      11.7G      1.589      2.763      1.715         74       1280: 100%|██████████| 311/311 [01:55<00:00,  \n",
      "                 Class     Images  Instances      Box(P          R      mAP50  mAP50-95): 100%|██████████| 45/45 [00:27\n"
     ]
    },
    {
     "name": "stdout",
     "output_type": "stream",
     "text": [
      "                   all       1428       4552      0.538      0.425      0.425      0.201\n",
      "\n",
      "      Epoch    GPU_mem   box_loss   cls_loss   dfl_loss  Instances       Size\n"
     ]
    },
    {
     "name": "stderr",
     "output_type": "stream",
     "text": [
      "      3/250      11.3G      1.656      2.427      1.779         93       1280: 100%|██████████| 311/311 [01:54<00:00,  \n",
      "                 Class     Images  Instances      Box(P          R      mAP50  mAP50-95): 100%|██████████| 45/45 [00:16\n"
     ]
    },
    {
     "name": "stdout",
     "output_type": "stream",
     "text": [
      "                   all       1428       4552      0.342      0.283      0.248      0.109\n",
      "\n",
      "      Epoch    GPU_mem   box_loss   cls_loss   dfl_loss  Instances       Size\n"
     ]
    },
    {
     "name": "stderr",
     "output_type": "stream",
     "text": [
      "      4/250      12.5G      1.718      2.207      1.845         48       1280: 100%|██████████| 311/311 [02:00<00:00,  \n",
      "                 Class     Images  Instances      Box(P          R      mAP50  mAP50-95): 100%|██████████| 45/45 [00:32\n"
     ]
    },
    {
     "name": "stdout",
     "output_type": "stream",
     "text": [
      "                   all       1428       4552      0.382      0.388       0.33      0.145\n",
      "\n",
      "      Epoch    GPU_mem   box_loss   cls_loss   dfl_loss  Instances       Size\n"
     ]
    },
    {
     "name": "stderr",
     "output_type": "stream",
     "text": [
      "      5/250        11G      1.698      2.029      1.825        123       1280: 100%|██████████| 311/311 [01:57<00:00,  \n",
      "                 Class     Images  Instances      Box(P          R      mAP50  mAP50-95): 100%|██████████| 45/45 [00:17\n"
     ]
    },
    {
     "name": "stdout",
     "output_type": "stream",
     "text": [
      "                   all       1428       4552      0.485      0.412      0.382      0.169\n",
      "\n",
      "      Epoch    GPU_mem   box_loss   cls_loss   dfl_loss  Instances       Size\n"
     ]
    },
    {
     "name": "stderr",
     "output_type": "stream",
     "text": [
      "      6/250      11.5G       1.66       1.91      1.785         69       1280: 100%|██████████| 311/311 [01:58<00:00,  \n",
      "                 Class     Images  Instances      Box(P          R      mAP50  mAP50-95): 100%|██████████| 45/45 [00:19\n"
     ]
    },
    {
     "name": "stdout",
     "output_type": "stream",
     "text": [
      "                   all       1428       4552      0.532      0.468       0.45      0.211\n",
      "\n",
      "      Epoch    GPU_mem   box_loss   cls_loss   dfl_loss  Instances       Size\n"
     ]
    },
    {
     "name": "stderr",
     "output_type": "stream",
     "text": [
      "      7/250      11.4G      1.626      1.826      1.772         47       1280: 100%|██████████| 311/311 [01:57<00:00,  \n",
      "                 Class     Images  Instances      Box(P          R      mAP50  mAP50-95): 100%|██████████| 45/45 [00:36"
     ]
    },
    {
     "name": "stdout",
     "output_type": "stream",
     "text": [
      "                   all       1428       4552      0.612      0.486      0.526       0.26\n"
     ]
    },
    {
     "name": "stderr",
     "output_type": "stream",
     "text": [
      "\n"
     ]
    },
    {
     "name": "stdout",
     "output_type": "stream",
     "text": [
      "\n",
      "      Epoch    GPU_mem   box_loss   cls_loss   dfl_loss  Instances       Size\n"
     ]
    },
    {
     "name": "stderr",
     "output_type": "stream",
     "text": [
      "      8/250      10.8G      1.605      1.748      1.749         49       1280: 100%|██████████| 311/311 [01:56<00:00,  \n",
      "                 Class     Images  Instances      Box(P          R      mAP50  mAP50-95): 100%|██████████| 45/45 [00:17"
     ]
    },
    {
     "name": "stdout",
     "output_type": "stream",
     "text": [
      "                   all       1428       4552      0.573      0.498      0.506      0.251\n"
     ]
    },
    {
     "name": "stderr",
     "output_type": "stream",
     "text": [
      "\n"
     ]
    },
    {
     "name": "stdout",
     "output_type": "stream",
     "text": [
      "\n",
      "      Epoch    GPU_mem   box_loss   cls_loss   dfl_loss  Instances       Size\n"
     ]
    },
    {
     "name": "stderr",
     "output_type": "stream",
     "text": [
      "      9/250      10.3G      1.585      1.723      1.747        135       1280: 100%|██████████| 311/311 [01:55<00:00,  \n",
      "                 Class     Images  Instances      Box(P          R      mAP50  mAP50-95): 100%|██████████| 45/45 [00:32"
     ]
    },
    {
     "name": "stdout",
     "output_type": "stream",
     "text": [
      "                   all       1428       4552      0.632      0.473      0.509      0.257\n"
     ]
    },
    {
     "name": "stderr",
     "output_type": "stream",
     "text": [
      "\n"
     ]
    },
    {
     "name": "stdout",
     "output_type": "stream",
     "text": [
      "\n",
      "      Epoch    GPU_mem   box_loss   cls_loss   dfl_loss  Instances       Size\n"
     ]
    },
    {
     "name": "stderr",
     "output_type": "stream",
     "text": [
      "     10/250      12.1G      1.564      1.652      1.715         59       1280: 100%|██████████| 311/311 [01:55<00:00,  \n",
      "                 Class     Images  Instances      Box(P          R      mAP50  mAP50-95): 100%|██████████| 45/45 [00:16"
     ]
    },
    {
     "name": "stdout",
     "output_type": "stream",
     "text": [
      "                   all       1428       4552      0.616      0.523      0.558      0.288\n"
     ]
    },
    {
     "name": "stderr",
     "output_type": "stream",
     "text": [
      "\n"
     ]
    },
    {
     "name": "stdout",
     "output_type": "stream",
     "text": [
      "\n",
      "      Epoch    GPU_mem   box_loss   cls_loss   dfl_loss  Instances       Size\n"
     ]
    },
    {
     "name": "stderr",
     "output_type": "stream",
     "text": [
      "     11/250      10.7G      1.534       1.62      1.697         87       1280: 100%|██████████| 311/311 [01:54<00:00,  \n",
      "                 Class     Images  Instances      Box(P          R      mAP50  mAP50-95): 100%|██████████| 45/45 [00:18\n"
     ]
    },
    {
     "name": "stdout",
     "output_type": "stream",
     "text": [
      "                   all       1428       4552      0.545      0.488      0.482       0.24\n",
      "\n",
      "      Epoch    GPU_mem   box_loss   cls_loss   dfl_loss  Instances       Size\n"
     ]
    },
    {
     "name": "stderr",
     "output_type": "stream",
     "text": [
      "     12/250      10.1G      1.516      1.562      1.676        124       1280: 100%|██████████| 311/311 [01:55<00:00,  \n",
      "                 Class     Images  Instances      Box(P          R      mAP50  mAP50-95): 100%|██████████| 45/45 [00:16\n"
     ]
    },
    {
     "name": "stdout",
     "output_type": "stream",
     "text": [
      "                   all       1428       4552      0.613      0.532      0.559      0.292\n",
      "\n",
      "      Epoch    GPU_mem   box_loss   cls_loss   dfl_loss  Instances       Size\n"
     ]
    },
    {
     "name": "stderr",
     "output_type": "stream",
     "text": [
      "     13/250      9.97G       1.51      1.535      1.666         57       1280: 100%|██████████| 311/311 [01:53<00:00,  \n",
      "                 Class     Images  Instances      Box(P          R      mAP50  mAP50-95): 100%|██████████| 45/45 [00:17\n"
     ]
    },
    {
     "name": "stdout",
     "output_type": "stream",
     "text": [
      "                   all       1428       4552      0.613       0.54      0.573        0.3\n",
      "\n",
      "      Epoch    GPU_mem   box_loss   cls_loss   dfl_loss  Instances       Size\n"
     ]
    },
    {
     "name": "stderr",
     "output_type": "stream",
     "text": [
      "     14/250      10.5G      1.484      1.512      1.648         78       1280: 100%|██████████| 311/311 [01:56<00:00,  \n",
      "                 Class     Images  Instances      Box(P          R      mAP50  mAP50-95): 100%|██████████| 45/45 [00:18\n"
     ]
    },
    {
     "name": "stdout",
     "output_type": "stream",
     "text": [
      "                   all       1428       4552      0.661      0.549      0.602       0.32\n",
      "\n",
      "      Epoch    GPU_mem   box_loss   cls_loss   dfl_loss  Instances       Size\n"
     ]
    },
    {
     "name": "stderr",
     "output_type": "stream",
     "text": [
      "     15/250      10.2G       1.48      1.498      1.639         72       1280: 100%|██████████| 311/311 [01:53<00:00,  \n",
      "                 Class     Images  Instances      Box(P          R      mAP50  mAP50-95): 100%|██████████| 45/45 [00:17"
     ]
    },
    {
     "name": "stdout",
     "output_type": "stream",
     "text": [
      "                   all       1428       4552      0.669      0.542      0.615      0.339\n"
     ]
    },
    {
     "name": "stderr",
     "output_type": "stream",
     "text": [
      "\n"
     ]
    },
    {
     "name": "stdout",
     "output_type": "stream",
     "text": [
      "\n",
      "      Epoch    GPU_mem   box_loss   cls_loss   dfl_loss  Instances       Size\n"
     ]
    },
    {
     "name": "stderr",
     "output_type": "stream",
     "text": [
      "     16/250      10.7G      1.458      1.447       1.62         88       1280: 100%|██████████| 311/311 [01:53<00:00,  \n",
      "                 Class     Images  Instances      Box(P          R      mAP50  mAP50-95): 100%|██████████| 45/45 [00:17\n"
     ]
    },
    {
     "name": "stdout",
     "output_type": "stream",
     "text": [
      "                   all       1428       4552      0.635      0.569      0.608      0.335\n",
      "\n",
      "      Epoch    GPU_mem   box_loss   cls_loss   dfl_loss  Instances       Size\n"
     ]
    },
    {
     "name": "stderr",
     "output_type": "stream",
     "text": [
      "     17/250      9.99G      1.462      1.435      1.616         50       1280: 100%|██████████| 311/311 [01:53<00:00,  \n",
      "                 Class     Images  Instances      Box(P          R      mAP50  mAP50-95): 100%|██████████| 45/45 [00:16\n"
     ]
    },
    {
     "name": "stdout",
     "output_type": "stream",
     "text": [
      "                   all       1428       4552      0.656      0.535      0.578      0.304\n",
      "\n",
      "      Epoch    GPU_mem   box_loss   cls_loss   dfl_loss  Instances       Size\n"
     ]
    },
    {
     "name": "stderr",
     "output_type": "stream",
     "text": [
      "     18/250      11.8G      1.454      1.427      1.614         62       1280: 100%|██████████| 311/311 [07:20<00:00,  \n",
      "                 Class     Images  Instances      Box(P          R      mAP50  mAP50-95): 100%|██████████| 45/45 [00:56"
     ]
    },
    {
     "name": "stdout",
     "output_type": "stream",
     "text": [
      "                   all       1428       4552      0.686      0.555       0.62      0.339\n"
     ]
    },
    {
     "name": "stderr",
     "output_type": "stream",
     "text": [
      "\n"
     ]
    },
    {
     "name": "stdout",
     "output_type": "stream",
     "text": [
      "\n",
      "      Epoch    GPU_mem   box_loss   cls_loss   dfl_loss  Instances       Size\n"
     ]
    },
    {
     "name": "stderr",
     "output_type": "stream",
     "text": [
      "     19/250      12.1G       1.43      1.423      1.597         83       1280: 100%|██████████| 311/311 [01:55<00:00,  \n",
      "                 Class     Images  Instances      Box(P          R      mAP50  mAP50-95): 100%|██████████| 45/45 [00:16\n"
     ]
    },
    {
     "name": "stdout",
     "output_type": "stream",
     "text": [
      "                   all       1428       4552      0.645      0.589      0.614      0.346\n",
      "\n",
      "      Epoch    GPU_mem   box_loss   cls_loss   dfl_loss  Instances       Size\n"
     ]
    },
    {
     "name": "stderr",
     "output_type": "stream",
     "text": [
      "     20/250      12.8G      1.425      1.392      1.599         65       1280: 100%|██████████| 311/311 [01:57<00:00,  \n",
      "                 Class     Images  Instances      Box(P          R      mAP50  mAP50-95): 100%|██████████| 45/45 [00:27\n"
     ]
    },
    {
     "name": "stdout",
     "output_type": "stream",
     "text": [
      "                   all       1428       4552      0.689      0.581       0.64      0.364\n",
      "\n",
      "      Epoch    GPU_mem   box_loss   cls_loss   dfl_loss  Instances       Size\n"
     ]
    },
    {
     "name": "stderr",
     "output_type": "stream",
     "text": [
      "     21/250      11.2G      1.405      1.359      1.568         61       1280: 100%|██████████| 311/311 [01:56<00:00,  \n",
      "                 Class     Images  Instances      Box(P          R      mAP50  mAP50-95): 100%|██████████| 45/45 [00:16\n"
     ]
    },
    {
     "name": "stdout",
     "output_type": "stream",
     "text": [
      "                   all       1428       4552       0.67      0.579       0.65      0.362\n",
      "\n",
      "      Epoch    GPU_mem   box_loss   cls_loss   dfl_loss  Instances       Size\n"
     ]
    },
    {
     "name": "stderr",
     "output_type": "stream",
     "text": [
      "     22/250      11.9G      1.414      1.351      1.578        123       1280: 100%|██████████| 311/311 [01:55<00:00,  \n",
      "                 Class     Images  Instances      Box(P          R      mAP50  mAP50-95): 100%|██████████| 45/45 [00:36"
     ]
    },
    {
     "name": "stdout",
     "output_type": "stream",
     "text": [
      "                   all       1428       4552      0.694      0.596      0.655      0.361\n"
     ]
    },
    {
     "name": "stderr",
     "output_type": "stream",
     "text": [
      "\n"
     ]
    },
    {
     "name": "stdout",
     "output_type": "stream",
     "text": [
      "\n",
      "      Epoch    GPU_mem   box_loss   cls_loss   dfl_loss  Instances       Size\n"
     ]
    },
    {
     "name": "stderr",
     "output_type": "stream",
     "text": [
      "     23/250      12.1G      1.395      1.331      1.571        127       1280: 100%|██████████| 311/311 [01:56<00:00,  \n",
      "                 Class     Images  Instances      Box(P          R      mAP50  mAP50-95): 100%|██████████| 45/45 [00:18"
     ]
    },
    {
     "name": "stdout",
     "output_type": "stream",
     "text": [
      "                   all       1428       4552      0.704      0.589      0.664       0.37\n"
     ]
    },
    {
     "name": "stderr",
     "output_type": "stream",
     "text": [
      "\n"
     ]
    },
    {
     "name": "stdout",
     "output_type": "stream",
     "text": [
      "\n",
      "      Epoch    GPU_mem   box_loss   cls_loss   dfl_loss  Instances       Size\n"
     ]
    },
    {
     "name": "stderr",
     "output_type": "stream",
     "text": [
      "     24/250      11.6G      1.397      1.327       1.57         65       1280: 100%|██████████| 311/311 [01:56<00:00,  \n",
      "                 Class     Images  Instances      Box(P          R      mAP50  mAP50-95): 100%|██████████| 45/45 [00:29\n"
     ]
    },
    {
     "name": "stdout",
     "output_type": "stream",
     "text": [
      "                   all       1428       4552      0.674      0.613      0.652      0.365\n",
      "\n",
      "      Epoch    GPU_mem   box_loss   cls_loss   dfl_loss  Instances       Size\n"
     ]
    },
    {
     "name": "stderr",
     "output_type": "stream",
     "text": [
      "     25/250      11.9G      1.378      1.298      1.544         57       1280: 100%|██████████| 311/311 [01:55<00:00,  \n",
      "                 Class     Images  Instances      Box(P          R      mAP50  mAP50-95): 100%|██████████| 45/45 [00:16\n"
     ]
    },
    {
     "name": "stdout",
     "output_type": "stream",
     "text": [
      "                   all       1428       4552      0.673      0.593      0.646      0.364\n",
      "\n",
      "      Epoch    GPU_mem   box_loss   cls_loss   dfl_loss  Instances       Size\n"
     ]
    },
    {
     "name": "stderr",
     "output_type": "stream",
     "text": [
      "     26/250      10.6G      1.357      1.284      1.549         66       1280: 100%|██████████| 311/311 [01:54<00:00,  \n",
      "                 Class     Images  Instances      Box(P          R      mAP50  mAP50-95): 100%|██████████| 45/45 [00:16\n"
     ]
    },
    {
     "name": "stdout",
     "output_type": "stream",
     "text": [
      "                   all       1428       4552      0.686      0.595      0.652      0.375\n",
      "\n",
      "      Epoch    GPU_mem   box_loss   cls_loss   dfl_loss  Instances       Size\n"
     ]
    },
    {
     "name": "stderr",
     "output_type": "stream",
     "text": [
      "     27/250      10.2G      1.366      1.277       1.54         63       1280: 100%|██████████| 311/311 [01:54<00:00,  \n",
      "                 Class     Images  Instances      Box(P          R      mAP50  mAP50-95): 100%|██████████| 45/45 [00:18\n"
     ]
    },
    {
     "name": "stdout",
     "output_type": "stream",
     "text": [
      "                   all       1428       4552      0.693      0.614      0.649      0.382\n",
      "\n",
      "      Epoch    GPU_mem   box_loss   cls_loss   dfl_loss  Instances       Size\n"
     ]
    },
    {
     "name": "stderr",
     "output_type": "stream",
     "text": [
      "     28/250      10.5G      1.351      1.252      1.531         38       1280: 100%|██████████| 311/311 [01:55<00:00,  \n",
      "                 Class     Images  Instances      Box(P          R      mAP50  mAP50-95): 100%|██████████| 45/45 [00:16\n"
     ]
    },
    {
     "name": "stdout",
     "output_type": "stream",
     "text": [
      "                   all       1428       4552      0.715      0.607      0.675      0.392\n",
      "\n",
      "      Epoch    GPU_mem   box_loss   cls_loss   dfl_loss  Instances       Size\n"
     ]
    },
    {
     "name": "stderr",
     "output_type": "stream",
     "text": [
      "     29/250      12.6G      1.358      1.267      1.547         90       1280: 100%|██████████| 311/311 [01:58<00:00,  \n",
      "                 Class     Images  Instances      Box(P          R      mAP50  mAP50-95): 100%|██████████| 45/45 [00:17\n"
     ]
    },
    {
     "name": "stdout",
     "output_type": "stream",
     "text": [
      "                   all       1428       4552      0.712      0.585      0.663      0.384\n",
      "\n",
      "      Epoch    GPU_mem   box_loss   cls_loss   dfl_loss  Instances       Size\n"
     ]
    },
    {
     "name": "stderr",
     "output_type": "stream",
     "text": [
      "     30/250      12.2G       1.34      1.244      1.521        121       1280: 100%|██████████| 311/311 [09:58<00:00,  \n",
      "                 Class     Images  Instances      Box(P          R      mAP50  mAP50-95): 100%|██████████| 45/45 [00:42"
     ]
    },
    {
     "name": "stdout",
     "output_type": "stream",
     "text": [
      "                   all       1428       4552      0.716      0.609      0.669      0.378\n"
     ]
    },
    {
     "name": "stderr",
     "output_type": "stream",
     "text": [
      "\n"
     ]
    },
    {
     "name": "stdout",
     "output_type": "stream",
     "text": [
      "\n",
      "      Epoch    GPU_mem   box_loss   cls_loss   dfl_loss  Instances       Size\n"
     ]
    },
    {
     "name": "stderr",
     "output_type": "stream",
     "text": [
      "     31/250      11.6G      1.321      1.225      1.513         51       1280: 100%|██████████| 311/311 [01:54<00:00,  \n",
      "                 Class     Images  Instances      Box(P          R      mAP50  mAP50-95): 100%|██████████| 45/45 [00:17"
     ]
    },
    {
     "name": "stdout",
     "output_type": "stream",
     "text": [
      "                   all       1428       4552       0.68      0.641      0.686      0.397\n"
     ]
    },
    {
     "name": "stderr",
     "output_type": "stream",
     "text": [
      "\n"
     ]
    },
    {
     "name": "stdout",
     "output_type": "stream",
     "text": [
      "\n",
      "      Epoch    GPU_mem   box_loss   cls_loss   dfl_loss  Instances       Size\n"
     ]
    },
    {
     "name": "stderr",
     "output_type": "stream",
     "text": [
      "     32/250      11.1G      1.336      1.226      1.514        161       1280: 100%|██████████| 311/311 [01:55<00:00,  \n",
      "                 Class     Images  Instances      Box(P          R      mAP50  mAP50-95): 100%|██████████| 45/45 [00:16\n"
     ]
    },
    {
     "name": "stdout",
     "output_type": "stream",
     "text": [
      "                   all       1428       4552      0.728      0.603      0.687      0.398\n",
      "\n",
      "      Epoch    GPU_mem   box_loss   cls_loss   dfl_loss  Instances       Size\n"
     ]
    },
    {
     "name": "stderr",
     "output_type": "stream",
     "text": [
      "     33/250      11.6G      1.322      1.204      1.509         84       1280: 100%|██████████| 311/311 [01:55<00:00,  \n",
      "                 Class     Images  Instances      Box(P          R      mAP50  mAP50-95): 100%|██████████| 45/45 [00:33"
     ]
    },
    {
     "name": "stdout",
     "output_type": "stream",
     "text": [
      "                   all       1428       4552      0.739      0.602      0.691      0.401\n"
     ]
    },
    {
     "name": "stderr",
     "output_type": "stream",
     "text": [
      "\n"
     ]
    },
    {
     "name": "stdout",
     "output_type": "stream",
     "text": [
      "\n",
      "      Epoch    GPU_mem   box_loss   cls_loss   dfl_loss  Instances       Size\n"
     ]
    },
    {
     "name": "stderr",
     "output_type": "stream",
     "text": [
      "     34/250      11.9G      1.319      1.204      1.507         58       1280: 100%|██████████| 311/311 [01:54<00:00,  \n",
      "                 Class     Images  Instances      Box(P          R      mAP50  mAP50-95): 100%|██████████| 45/45 [00:16\n"
     ]
    },
    {
     "name": "stdout",
     "output_type": "stream",
     "text": [
      "                   all       1428       4552      0.709      0.631      0.689      0.403\n",
      "\n",
      "      Epoch    GPU_mem   box_loss   cls_loss   dfl_loss  Instances       Size\n"
     ]
    },
    {
     "name": "stderr",
     "output_type": "stream",
     "text": [
      "     35/250      11.3G      1.308      1.177      1.495         54       1280: 100%|██████████| 311/311 [01:53<00:00,  \n",
      "                 Class     Images  Instances      Box(P          R      mAP50  mAP50-95): 100%|██████████| 45/45 [00:16\n"
     ]
    },
    {
     "name": "stdout",
     "output_type": "stream",
     "text": [
      "                   all       1428       4552      0.708      0.604      0.673      0.395\n",
      "\n",
      "      Epoch    GPU_mem   box_loss   cls_loss   dfl_loss  Instances       Size\n"
     ]
    },
    {
     "name": "stderr",
     "output_type": "stream",
     "text": [
      "     36/250      11.7G      1.306       1.19      1.498         73       1280: 100%|██████████| 311/311 [02:02<00:00,  \n",
      "                 Class     Images  Instances      Box(P          R      mAP50  mAP50-95): 100%|██████████| 45/45 [00:15\n"
     ]
    },
    {
     "name": "stdout",
     "output_type": "stream",
     "text": [
      "                   all       1428       4552      0.738      0.619      0.692      0.408\n",
      "\n",
      "      Epoch    GPU_mem   box_loss   cls_loss   dfl_loss  Instances       Size\n"
     ]
    },
    {
     "name": "stderr",
     "output_type": "stream",
     "text": [
      "     37/250      10.8G      1.298      1.159      1.491        131       1280: 100%|██████████| 311/311 [01:55<00:00,  \n",
      "                 Class     Images  Instances      Box(P          R      mAP50  mAP50-95): 100%|██████████| 45/45 [00:20"
     ]
    },
    {
     "name": "stdout",
     "output_type": "stream",
     "text": [
      "                   all       1428       4552      0.712      0.637      0.688      0.414\n"
     ]
    },
    {
     "name": "stderr",
     "output_type": "stream",
     "text": [
      "\n"
     ]
    },
    {
     "name": "stdout",
     "output_type": "stream",
     "text": [
      "\n",
      "      Epoch    GPU_mem   box_loss   cls_loss   dfl_loss  Instances       Size\n"
     ]
    },
    {
     "name": "stderr",
     "output_type": "stream",
     "text": [
      "     38/250      10.1G       1.31      1.171      1.489         63       1280: 100%|██████████| 311/311 [01:54<00:00,  \n",
      "                 Class     Images  Instances      Box(P          R      mAP50  mAP50-95): 100%|██████████| 45/45 [00:17"
     ]
    },
    {
     "name": "stdout",
     "output_type": "stream",
     "text": [
      "                   all       1428       4552      0.702      0.641       0.68      0.401\n"
     ]
    },
    {
     "name": "stderr",
     "output_type": "stream",
     "text": [
      "\n"
     ]
    },
    {
     "name": "stdout",
     "output_type": "stream",
     "text": [
      "\n",
      "      Epoch    GPU_mem   box_loss   cls_loss   dfl_loss  Instances       Size\n"
     ]
    },
    {
     "name": "stderr",
     "output_type": "stream",
     "text": [
      "     39/250      13.5G      1.292      1.164      1.488         54       1280: 100%|██████████| 311/311 [01:57<00:00,  \n",
      "                 Class     Images  Instances      Box(P          R      mAP50  mAP50-95): 100%|██████████| 45/45 [00:18\n"
     ]
    },
    {
     "name": "stdout",
     "output_type": "stream",
     "text": [
      "                   all       1428       4552      0.731      0.619      0.681      0.401\n",
      "\n",
      "      Epoch    GPU_mem   box_loss   cls_loss   dfl_loss  Instances       Size\n"
     ]
    },
    {
     "name": "stderr",
     "output_type": "stream",
     "text": [
      "     40/250      11.1G       1.28      1.147      1.475        112       1280: 100%|██████████| 311/311 [01:55<00:00,  \n",
      "                 Class     Images  Instances      Box(P          R      mAP50  mAP50-95): 100%|██████████| 45/45 [00:26\n"
     ]
    },
    {
     "name": "stdout",
     "output_type": "stream",
     "text": [
      "                   all       1428       4552      0.721      0.643      0.708      0.421\n",
      "\n",
      "      Epoch    GPU_mem   box_loss   cls_loss   dfl_loss  Instances       Size\n"
     ]
    },
    {
     "name": "stderr",
     "output_type": "stream",
     "text": [
      "     41/250      11.9G      1.282      1.147      1.471         83       1280: 100%|██████████| 311/311 [01:54<00:00,  \n",
      "                 Class     Images  Instances      Box(P          R      mAP50  mAP50-95): 100%|██████████| 45/45 [00:17\n"
     ]
    },
    {
     "name": "stdout",
     "output_type": "stream",
     "text": [
      "                   all       1428       4552      0.702      0.655      0.707      0.419\n",
      "\n",
      "      Epoch    GPU_mem   box_loss   cls_loss   dfl_loss  Instances       Size\n"
     ]
    },
    {
     "name": "stderr",
     "output_type": "stream",
     "text": [
      "     42/250      11.9G      1.263      1.117       1.47         86       1280: 100%|██████████| 311/311 [01:56<00:00,  \n",
      "                 Class     Images  Instances      Box(P          R      mAP50  mAP50-95): 100%|██████████| 45/45 [00:19\n"
     ]
    },
    {
     "name": "stdout",
     "output_type": "stream",
     "text": [
      "                   all       1428       4552      0.736      0.653      0.711      0.427\n",
      "\n",
      "      Epoch    GPU_mem   box_loss   cls_loss   dfl_loss  Instances       Size\n"
     ]
    },
    {
     "name": "stderr",
     "output_type": "stream",
     "text": [
      "     43/250      10.8G      1.262      1.121       1.47         56       1280: 100%|██████████| 311/311 [01:53<00:00,  \n",
      "                 Class     Images  Instances      Box(P          R      mAP50  mAP50-95): 100%|██████████| 45/45 [00:16"
     ]
    },
    {
     "name": "stdout",
     "output_type": "stream",
     "text": [
      "                   all       1428       4552      0.728      0.643      0.708      0.429\n"
     ]
    },
    {
     "name": "stderr",
     "output_type": "stream",
     "text": [
      "\n"
     ]
    },
    {
     "name": "stdout",
     "output_type": "stream",
     "text": [
      "\n",
      "      Epoch    GPU_mem   box_loss   cls_loss   dfl_loss  Instances       Size\n"
     ]
    },
    {
     "name": "stderr",
     "output_type": "stream",
     "text": [
      "     44/250      11.6G       1.26      1.113      1.451         39       1280: 100%|██████████| 311/311 [01:55<00:00,  \n",
      "                 Class     Images  Instances      Box(P          R      mAP50  mAP50-95): 100%|██████████| 45/45 [00:18"
     ]
    },
    {
     "name": "stdout",
     "output_type": "stream",
     "text": [
      "                   all       1428       4552      0.698      0.676      0.713      0.422\n"
     ]
    },
    {
     "name": "stderr",
     "output_type": "stream",
     "text": [
      "\n"
     ]
    },
    {
     "name": "stdout",
     "output_type": "stream",
     "text": [
      "\n",
      "      Epoch    GPU_mem   box_loss   cls_loss   dfl_loss  Instances       Size\n"
     ]
    },
    {
     "name": "stderr",
     "output_type": "stream",
     "text": [
      "     45/250        12G      1.272      1.114      1.463         76       1280: 100%|██████████| 311/311 [01:55<00:00,  \n",
      "                 Class     Images  Instances      Box(P          R      mAP50  mAP50-95): 100%|██████████| 45/45 [00:32"
     ]
    },
    {
     "name": "stdout",
     "output_type": "stream",
     "text": [
      "                   all       1428       4552      0.721      0.648      0.708      0.418\n"
     ]
    },
    {
     "name": "stderr",
     "output_type": "stream",
     "text": [
      "\n"
     ]
    },
    {
     "name": "stdout",
     "output_type": "stream",
     "text": [
      "\n",
      "      Epoch    GPU_mem   box_loss   cls_loss   dfl_loss  Instances       Size\n"
     ]
    },
    {
     "name": "stderr",
     "output_type": "stream",
     "text": [
      "     46/250      10.4G      1.257      1.095       1.45         65       1280: 100%|██████████| 311/311 [01:54<00:00,  \n",
      "                 Class     Images  Instances      Box(P          R      mAP50  mAP50-95): 100%|██████████| 45/45 [00:16\n"
     ]
    },
    {
     "name": "stdout",
     "output_type": "stream",
     "text": [
      "                   all       1428       4552      0.719      0.665      0.718      0.437\n",
      "\n",
      "      Epoch    GPU_mem   box_loss   cls_loss   dfl_loss  Instances       Size\n"
     ]
    },
    {
     "name": "stderr",
     "output_type": "stream",
     "text": [
      "     47/250      10.8G      1.255      1.095      1.451         84       1280: 100%|██████████| 311/311 [02:15<00:00,  \n",
      "                 Class     Images  Instances      Box(P          R      mAP50  mAP50-95): 100%|██████████| 45/45 [00:32"
     ]
    },
    {
     "name": "stdout",
     "output_type": "stream",
     "text": [
      "                   all       1428       4552      0.703      0.667      0.706      0.418\n"
     ]
    },
    {
     "name": "stderr",
     "output_type": "stream",
     "text": [
      "\n"
     ]
    },
    {
     "name": "stdout",
     "output_type": "stream",
     "text": [
      "\n",
      "      Epoch    GPU_mem   box_loss   cls_loss   dfl_loss  Instances       Size\n"
     ]
    },
    {
     "name": "stderr",
     "output_type": "stream",
     "text": [
      "     48/250      10.9G      1.252      1.092      1.454         53       1280: 100%|██████████| 311/311 [01:53<00:00,  \n",
      "                 Class     Images  Instances      Box(P          R      mAP50  mAP50-95): 100%|██████████| 45/45 [00:17\n"
     ]
    },
    {
     "name": "stdout",
     "output_type": "stream",
     "text": [
      "                   all       1428       4552       0.74      0.653      0.727      0.442\n",
      "\n",
      "      Epoch    GPU_mem   box_loss   cls_loss   dfl_loss  Instances       Size\n"
     ]
    },
    {
     "name": "stderr",
     "output_type": "stream",
     "text": [
      "     49/250      11.9G      1.239      1.068      1.435         60       1280: 100%|██████████| 311/311 [01:54<00:00,  \n",
      "                 Class     Images  Instances      Box(P          R      mAP50  mAP50-95): 100%|██████████| 45/45 [00:17\n"
     ]
    },
    {
     "name": "stdout",
     "output_type": "stream",
     "text": [
      "                   all       1428       4552      0.725      0.661       0.72      0.441\n",
      "\n",
      "      Epoch    GPU_mem   box_loss   cls_loss   dfl_loss  Instances       Size\n"
     ]
    },
    {
     "name": "stderr",
     "output_type": "stream",
     "text": [
      "     50/250      11.3G      1.234      1.068      1.437         97       1280: 100%|██████████| 311/311 [01:58<00:00,  \n",
      "                 Class     Images  Instances      Box(P          R      mAP50  mAP50-95): 100%|██████████| 45/45 [00:27\n"
     ]
    },
    {
     "name": "stdout",
     "output_type": "stream",
     "text": [
      "                   all       1428       4552      0.745      0.658       0.72      0.438\n",
      "\n",
      "      Epoch    GPU_mem   box_loss   cls_loss   dfl_loss  Instances       Size\n"
     ]
    },
    {
     "name": "stderr",
     "output_type": "stream",
     "text": [
      "     51/250      10.2G      1.235      1.051       1.43         67       1280: 100%|██████████| 311/311 [01:53<00:00,  \n",
      "                 Class     Images  Instances      Box(P          R      mAP50  mAP50-95): 100%|██████████| 45/45 [00:18"
     ]
    },
    {
     "name": "stdout",
     "output_type": "stream",
     "text": [
      "                   all       1428       4552      0.743      0.658       0.73      0.442\n"
     ]
    },
    {
     "name": "stderr",
     "output_type": "stream",
     "text": [
      "\n"
     ]
    },
    {
     "name": "stdout",
     "output_type": "stream",
     "text": [
      "\n",
      "      Epoch    GPU_mem   box_loss   cls_loss   dfl_loss  Instances       Size\n"
     ]
    },
    {
     "name": "stderr",
     "output_type": "stream",
     "text": [
      "     52/250      11.2G       1.24      1.072      1.441         62       1280: 100%|██████████| 311/311 [01:54<00:00,  \n",
      "                 Class     Images  Instances      Box(P          R      mAP50  mAP50-95): 100%|██████████| 45/45 [00:17\n"
     ]
    },
    {
     "name": "stdout",
     "output_type": "stream",
     "text": [
      "                   all       1428       4552       0.77      0.648      0.728      0.452\n",
      "\n",
      "      Epoch    GPU_mem   box_loss   cls_loss   dfl_loss  Instances       Size\n"
     ]
    },
    {
     "name": "stderr",
     "output_type": "stream",
     "text": [
      "     53/250      12.1G      1.211      1.052      1.429        119       1280: 100%|██████████| 311/311 [01:55<00:00,  \n",
      "                 Class     Images  Instances      Box(P          R      mAP50  mAP50-95): 100%|██████████| 45/45 [00:16"
     ]
    },
    {
     "name": "stdout",
     "output_type": "stream",
     "text": [
      "                   all       1428       4552      0.744      0.659       0.72      0.441\n"
     ]
    },
    {
     "name": "stderr",
     "output_type": "stream",
     "text": [
      "\n"
     ]
    },
    {
     "name": "stdout",
     "output_type": "stream",
     "text": [
      "\n",
      "      Epoch    GPU_mem   box_loss   cls_loss   dfl_loss  Instances       Size\n"
     ]
    },
    {
     "name": "stderr",
     "output_type": "stream",
     "text": [
      "     54/250      13.3G      1.213      1.038       1.42         57       1280: 100%|██████████| 311/311 [03:08<00:00,  \n",
      "                 Class     Images  Instances      Box(P          R      mAP50  mAP50-95): 100%|██████████| 45/45 [00:53"
     ]
    },
    {
     "name": "stdout",
     "output_type": "stream",
     "text": [
      "                   all       1428       4552      0.741      0.662      0.728      0.448\n"
     ]
    },
    {
     "name": "stderr",
     "output_type": "stream",
     "text": [
      "\n"
     ]
    },
    {
     "name": "stdout",
     "output_type": "stream",
     "text": [
      "\n",
      "      Epoch    GPU_mem   box_loss   cls_loss   dfl_loss  Instances       Size\n"
     ]
    },
    {
     "name": "stderr",
     "output_type": "stream",
     "text": [
      "     55/250        11G      1.213      1.036       1.43         69       1280: 100%|██████████| 311/311 [01:55<00:00,  \n",
      "                 Class     Images  Instances      Box(P          R      mAP50  mAP50-95): 100%|██████████| 45/45 [00:14"
     ]
    },
    {
     "name": "stdout",
     "output_type": "stream",
     "text": [
      "                   all       1428       4552      0.733      0.661      0.721      0.445\n"
     ]
    },
    {
     "name": "stderr",
     "output_type": "stream",
     "text": [
      "\n"
     ]
    },
    {
     "name": "stdout",
     "output_type": "stream",
     "text": [
      "\n",
      "      Epoch    GPU_mem   box_loss   cls_loss   dfl_loss  Instances       Size\n"
     ]
    },
    {
     "name": "stderr",
     "output_type": "stream",
     "text": [
      "     56/250      11.8G      1.215      1.034      1.423         64       1280: 100%|██████████| 311/311 [01:55<00:00,  \n",
      "                 Class     Images  Instances      Box(P          R      mAP50  mAP50-95): 100%|██████████| 45/45 [00:28\n"
     ]
    },
    {
     "name": "stdout",
     "output_type": "stream",
     "text": [
      "                   all       1428       4552      0.761      0.662      0.729      0.449\n",
      "\n",
      "      Epoch    GPU_mem   box_loss   cls_loss   dfl_loss  Instances       Size\n"
     ]
    },
    {
     "name": "stderr",
     "output_type": "stream",
     "text": [
      "     57/250      10.4G        1.2      1.032      1.415         61       1280: 100%|██████████| 311/311 [01:55<00:00,  \n",
      "                 Class     Images  Instances      Box(P          R      mAP50  mAP50-95): 100%|██████████| 45/45 [00:14"
     ]
    },
    {
     "name": "stdout",
     "output_type": "stream",
     "text": [
      "                   all       1428       4552      0.756      0.663      0.731      0.451\n"
     ]
    },
    {
     "name": "stderr",
     "output_type": "stream",
     "text": [
      "\n"
     ]
    },
    {
     "name": "stdout",
     "output_type": "stream",
     "text": [
      "\n",
      "      Epoch    GPU_mem   box_loss   cls_loss   dfl_loss  Instances       Size\n"
     ]
    },
    {
     "name": "stderr",
     "output_type": "stream",
     "text": [
      "     58/250      10.7G      1.203      1.024      1.414         51       1280: 100%|██████████| 311/311 [01:56<00:00,  \n",
      "                 Class     Images  Instances      Box(P          R      mAP50  mAP50-95): 100%|██████████| 45/45 [00:24"
     ]
    },
    {
     "name": "stdout",
     "output_type": "stream",
     "text": [
      "                   all       1428       4552      0.746      0.663      0.732      0.453\n"
     ]
    },
    {
     "name": "stderr",
     "output_type": "stream",
     "text": [
      "\n"
     ]
    },
    {
     "name": "stdout",
     "output_type": "stream",
     "text": [
      "\n",
      "      Epoch    GPU_mem   box_loss   cls_loss   dfl_loss  Instances       Size\n"
     ]
    },
    {
     "name": "stderr",
     "output_type": "stream",
     "text": [
      "     59/250      11.6G      1.191      1.007      1.402         59       1280: 100%|██████████| 311/311 [01:54<00:00,  \n",
      "                 Class     Images  Instances      Box(P          R      mAP50  mAP50-95): 100%|██████████| 45/45 [00:17"
     ]
    },
    {
     "name": "stdout",
     "output_type": "stream",
     "text": [
      "                   all       1428       4552      0.736      0.679      0.738      0.452\n"
     ]
    },
    {
     "name": "stderr",
     "output_type": "stream",
     "text": [
      "\n"
     ]
    },
    {
     "name": "stdout",
     "output_type": "stream",
     "text": [
      "\n",
      "      Epoch    GPU_mem   box_loss   cls_loss   dfl_loss  Instances       Size\n"
     ]
    },
    {
     "name": "stderr",
     "output_type": "stream",
     "text": [
      "     60/250      12.1G      1.189       1.01      1.409         46       1280: 100%|██████████| 311/311 [01:56<00:00,  \n",
      "                 Class     Images  Instances      Box(P          R      mAP50  mAP50-95): 100%|██████████| 45/45 [00:28"
     ]
    },
    {
     "name": "stdout",
     "output_type": "stream",
     "text": [
      "                   all       1428       4552      0.762      0.652      0.735      0.455\n"
     ]
    },
    {
     "name": "stderr",
     "output_type": "stream",
     "text": [
      "\n"
     ]
    },
    {
     "name": "stdout",
     "output_type": "stream",
     "text": [
      "\n",
      "      Epoch    GPU_mem   box_loss   cls_loss   dfl_loss  Instances       Size\n"
     ]
    },
    {
     "name": "stderr",
     "output_type": "stream",
     "text": [
      "     61/250        11G      1.206      1.022      1.408         77       1280: 100%|██████████| 311/311 [01:56<00:00,  \n",
      "                 Class     Images  Instances      Box(P          R      mAP50  mAP50-95): 100%|██████████| 45/45 [00:14"
     ]
    },
    {
     "name": "stdout",
     "output_type": "stream",
     "text": [
      "                   all       1428       4552      0.754      0.666      0.741      0.458\n"
     ]
    },
    {
     "name": "stderr",
     "output_type": "stream",
     "text": [
      "\n"
     ]
    },
    {
     "name": "stdout",
     "output_type": "stream",
     "text": [
      "\n",
      "      Epoch    GPU_mem   box_loss   cls_loss   dfl_loss  Instances       Size\n"
     ]
    },
    {
     "name": "stderr",
     "output_type": "stream",
     "text": [
      "     62/250      10.8G      1.187     0.9928      1.387         83       1280: 100%|██████████| 311/311 [01:54<00:00,  \n",
      "                 Class     Images  Instances      Box(P          R      mAP50  mAP50-95): 100%|██████████| 45/45 [00:16\n"
     ]
    },
    {
     "name": "stdout",
     "output_type": "stream",
     "text": [
      "                   all       1428       4552      0.736      0.686      0.747      0.463\n",
      "\n",
      "      Epoch    GPU_mem   box_loss   cls_loss   dfl_loss  Instances       Size\n"
     ]
    },
    {
     "name": "stderr",
     "output_type": "stream",
     "text": [
      "     63/250      12.6G      1.183     0.9966      1.404         61       1280: 100%|██████████| 311/311 [01:56<00:00,  \n",
      "                 Class     Images  Instances      Box(P          R      mAP50  mAP50-95): 100%|██████████| 45/45 [00:17"
     ]
    },
    {
     "name": "stdout",
     "output_type": "stream",
     "text": [
      "                   all       1428       4552      0.758      0.673      0.742      0.463\n"
     ]
    },
    {
     "name": "stderr",
     "output_type": "stream",
     "text": [
      "\n"
     ]
    },
    {
     "name": "stdout",
     "output_type": "stream",
     "text": [
      "\n",
      "      Epoch    GPU_mem   box_loss   cls_loss   dfl_loss  Instances       Size\n"
     ]
    },
    {
     "name": "stderr",
     "output_type": "stream",
     "text": [
      "     64/250      10.6G       1.18      0.978      1.386         72       1280: 100%|██████████| 311/311 [02:18<00:00,  \n",
      "                 Class     Images  Instances      Box(P          R      mAP50  mAP50-95): 100%|██████████| 45/45 [00:28"
     ]
    },
    {
     "name": "stdout",
     "output_type": "stream",
     "text": [
      "                   all       1428       4552      0.765      0.652       0.73      0.457\n"
     ]
    },
    {
     "name": "stderr",
     "output_type": "stream",
     "text": [
      "\n"
     ]
    },
    {
     "name": "stdout",
     "output_type": "stream",
     "text": [
      "\n",
      "      Epoch    GPU_mem   box_loss   cls_loss   dfl_loss  Instances       Size\n"
     ]
    },
    {
     "name": "stderr",
     "output_type": "stream",
     "text": [
      "     65/250      10.9G      1.172     0.9784      1.385         53       1280: 100%|██████████| 311/311 [01:54<00:00,  \n",
      "                 Class     Images  Instances      Box(P          R      mAP50  mAP50-95): 100%|██████████| 45/45 [00:14"
     ]
    },
    {
     "name": "stdout",
     "output_type": "stream",
     "text": [
      "                   all       1428       4552      0.775      0.658      0.733      0.458\n"
     ]
    },
    {
     "name": "stderr",
     "output_type": "stream",
     "text": [
      "\n"
     ]
    },
    {
     "name": "stdout",
     "output_type": "stream",
     "text": [
      "\n",
      "      Epoch    GPU_mem   box_loss   cls_loss   dfl_loss  Instances       Size\n"
     ]
    },
    {
     "name": "stderr",
     "output_type": "stream",
     "text": [
      "     66/250      12.5G      1.163     0.9606      1.375         71       1280: 100%|██████████| 311/311 [01:55<00:00,  \n",
      "                 Class     Images  Instances      Box(P          R      mAP50  mAP50-95): 100%|██████████| 45/45 [00:28\n"
     ]
    },
    {
     "name": "stdout",
     "output_type": "stream",
     "text": [
      "                   all       1428       4552      0.771      0.661      0.738      0.463\n",
      "\n",
      "      Epoch    GPU_mem   box_loss   cls_loss   dfl_loss  Instances       Size\n"
     ]
    },
    {
     "name": "stderr",
     "output_type": "stream",
     "text": [
      "     67/250      10.7G      1.173      0.975       1.39         54       1280: 100%|██████████| 311/311 [01:56<00:00,  \n",
      "                 Class     Images  Instances      Box(P          R      mAP50  mAP50-95): 100%|██████████| 45/45 [00:14"
     ]
    },
    {
     "name": "stdout",
     "output_type": "stream",
     "text": [
      "                   all       1428       4552      0.761      0.674      0.741      0.458\n"
     ]
    },
    {
     "name": "stderr",
     "output_type": "stream",
     "text": [
      "\n"
     ]
    },
    {
     "name": "stdout",
     "output_type": "stream",
     "text": [
      "\n",
      "      Epoch    GPU_mem   box_loss   cls_loss   dfl_loss  Instances       Size\n"
     ]
    },
    {
     "name": "stderr",
     "output_type": "stream",
     "text": [
      "     68/250       9.7G      1.166     0.9751       1.38         71       1280: 100%|██████████| 311/311 [01:53<00:00,  \n",
      "                 Class     Images  Instances      Box(P          R      mAP50  mAP50-95): 100%|██████████| 45/45 [00:26"
     ]
    },
    {
     "name": "stdout",
     "output_type": "stream",
     "text": [
      "                   all       1428       4552      0.777      0.669      0.747      0.462\n"
     ]
    },
    {
     "name": "stderr",
     "output_type": "stream",
     "text": [
      "\n"
     ]
    },
    {
     "name": "stdout",
     "output_type": "stream",
     "text": [
      "\n",
      "      Epoch    GPU_mem   box_loss   cls_loss   dfl_loss  Instances       Size\n"
     ]
    },
    {
     "name": "stderr",
     "output_type": "stream",
     "text": [
      "     69/250      9.57G      1.167     0.9699      1.377         55       1280: 100%|██████████| 311/311 [01:54<00:00,  \n",
      "                 Class     Images  Instances      Box(P          R      mAP50  mAP50-95): 100%|██████████| 45/45 [00:15"
     ]
    },
    {
     "name": "stdout",
     "output_type": "stream",
     "text": [
      "                   all       1428       4552      0.764      0.673      0.746      0.466\n"
     ]
    },
    {
     "name": "stderr",
     "output_type": "stream",
     "text": [
      "\n"
     ]
    },
    {
     "name": "stdout",
     "output_type": "stream",
     "text": [
      "\n",
      "      Epoch    GPU_mem   box_loss   cls_loss   dfl_loss  Instances       Size\n"
     ]
    },
    {
     "name": "stderr",
     "output_type": "stream",
     "text": [
      "     70/250      12.2G      1.151     0.9516      1.376         43       1280: 100%|██████████| 311/311 [01:55<00:00,  \n",
      "                 Class     Images  Instances      Box(P          R      mAP50  mAP50-95): 100%|██████████| 45/45 [00:34"
     ]
    },
    {
     "name": "stdout",
     "output_type": "stream",
     "text": [
      "                   all       1428       4552      0.756      0.685      0.738      0.463\n"
     ]
    },
    {
     "name": "stderr",
     "output_type": "stream",
     "text": [
      "\n"
     ]
    },
    {
     "name": "stdout",
     "output_type": "stream",
     "text": [
      "\n",
      "      Epoch    GPU_mem   box_loss   cls_loss   dfl_loss  Instances       Size\n"
     ]
    },
    {
     "name": "stderr",
     "output_type": "stream",
     "text": [
      "     71/250      11.7G      1.162     0.9599      1.378        111       1280: 100%|██████████| 311/311 [01:57<00:00,  \n",
      "                 Class     Images  Instances      Box(P          R      mAP50  mAP50-95): 100%|██████████| 45/45 [00:16\n"
     ]
    },
    {
     "name": "stdout",
     "output_type": "stream",
     "text": [
      "                   all       1428       4552       0.75      0.685      0.745      0.469\n",
      "\n",
      "      Epoch    GPU_mem   box_loss   cls_loss   dfl_loss  Instances       Size\n"
     ]
    },
    {
     "name": "stderr",
     "output_type": "stream",
     "text": [
      "     72/250      10.5G      1.147     0.9435      1.368         52       1280: 100%|██████████| 311/311 [01:53<00:00,  \n",
      "                 Class     Images  Instances      Box(P          R      mAP50  mAP50-95): 100%|██████████| 45/45 [00:17\n"
     ]
    },
    {
     "name": "stdout",
     "output_type": "stream",
     "text": [
      "                   all       1428       4552      0.762      0.665      0.747      0.472\n",
      "\n",
      "      Epoch    GPU_mem   box_loss   cls_loss   dfl_loss  Instances       Size\n"
     ]
    },
    {
     "name": "stderr",
     "output_type": "stream",
     "text": [
      "     73/250      10.3G      1.154     0.9393      1.364         53       1280: 100%|██████████| 311/311 [02:17<00:00,  \n",
      "                 Class     Images  Instances      Box(P          R      mAP50  mAP50-95): 100%|██████████| 45/45 [00:13"
     ]
    },
    {
     "name": "stdout",
     "output_type": "stream",
     "text": [
      "                   all       1428       4552      0.765      0.674      0.745      0.473\n"
     ]
    },
    {
     "name": "stderr",
     "output_type": "stream",
     "text": [
      "\n"
     ]
    },
    {
     "name": "stdout",
     "output_type": "stream",
     "text": [
      "\n",
      "      Epoch    GPU_mem   box_loss   cls_loss   dfl_loss  Instances       Size\n"
     ]
    },
    {
     "name": "stderr",
     "output_type": "stream",
     "text": [
      "     74/250      11.9G      1.141      0.935       1.36        120       1280: 100%|██████████| 311/311 [01:57<00:00,  \n",
      "                 Class     Images  Instances      Box(P          R      mAP50  mAP50-95): 100%|██████████| 45/45 [00:20"
     ]
    },
    {
     "name": "stdout",
     "output_type": "stream",
     "text": [
      "                   all       1428       4552      0.755      0.686      0.751      0.475\n"
     ]
    },
    {
     "name": "stderr",
     "output_type": "stream",
     "text": [
      "\n"
     ]
    },
    {
     "name": "stdout",
     "output_type": "stream",
     "text": [
      "\n",
      "      Epoch    GPU_mem   box_loss   cls_loss   dfl_loss  Instances       Size\n"
     ]
    },
    {
     "name": "stderr",
     "output_type": "stream",
     "text": [
      "     75/250      11.4G      1.142     0.9287      1.362         67       1280: 100%|██████████| 311/311 [01:59<00:00,  \n",
      "                 Class     Images  Instances      Box(P          R      mAP50  mAP50-95): 100%|██████████| 45/45 [00:17\n"
     ]
    },
    {
     "name": "stdout",
     "output_type": "stream",
     "text": [
      "                   all       1428       4552      0.762      0.672      0.743      0.472\n",
      "\n",
      "      Epoch    GPU_mem   box_loss   cls_loss   dfl_loss  Instances       Size\n"
     ]
    },
    {
     "name": "stderr",
     "output_type": "stream",
     "text": [
      "     76/250      11.3G      1.156      0.931      1.351         70       1280: 100%|██████████| 311/311 [01:54<00:00,  \n",
      "                 Class     Images  Instances      Box(P          R      mAP50  mAP50-95): 100%|██████████| 45/45 [00:30\n"
     ]
    },
    {
     "name": "stdout",
     "output_type": "stream",
     "text": [
      "                   all       1428       4552      0.745       0.69      0.747      0.474\n",
      "\n",
      "      Epoch    GPU_mem   box_loss   cls_loss   dfl_loss  Instances       Size\n"
     ]
    },
    {
     "name": "stderr",
     "output_type": "stream",
     "text": [
      "     77/250      11.2G      1.126     0.9312      1.357         64       1280: 100%|██████████| 311/311 [01:54<00:00,  \n",
      "                 Class     Images  Instances      Box(P          R      mAP50  mAP50-95): 100%|██████████| 45/45 [00:14\n"
     ]
    },
    {
     "name": "stdout",
     "output_type": "stream",
     "text": [
      "                   all       1428       4552      0.755      0.681      0.751      0.479\n",
      "\n",
      "      Epoch    GPU_mem   box_loss   cls_loss   dfl_loss  Instances       Size\n"
     ]
    },
    {
     "name": "stderr",
     "output_type": "stream",
     "text": [
      "     78/250       9.8G      1.147     0.9346       1.36         63       1280: 100%|██████████| 311/311 [01:53<00:00,  \n",
      "                 Class     Images  Instances      Box(P          R      mAP50  mAP50-95): 100%|██████████| 45/45 [00:28\n"
     ]
    },
    {
     "name": "stdout",
     "output_type": "stream",
     "text": [
      "                   all       1428       4552      0.749      0.691      0.746      0.474\n",
      "\n",
      "      Epoch    GPU_mem   box_loss   cls_loss   dfl_loss  Instances       Size\n"
     ]
    },
    {
     "name": "stderr",
     "output_type": "stream",
     "text": [
      "     79/250      10.6G      1.129     0.9103      1.353         58       1280: 100%|██████████| 311/311 [02:41<00:00,  \n",
      "                 Class     Images  Instances      Box(P          R      mAP50  mAP50-95): 100%|██████████| 45/45 [00:16"
     ]
    },
    {
     "name": "stdout",
     "output_type": "stream",
     "text": [
      "                   all       1428       4552      0.769      0.676      0.752      0.477\n"
     ]
    },
    {
     "name": "stderr",
     "output_type": "stream",
     "text": [
      "\n"
     ]
    },
    {
     "name": "stdout",
     "output_type": "stream",
     "text": [
      "\n",
      "      Epoch    GPU_mem   box_loss   cls_loss   dfl_loss  Instances       Size\n"
     ]
    },
    {
     "name": "stderr",
     "output_type": "stream",
     "text": [
      "     80/250      10.7G      1.125     0.9018      1.341         50       1280: 100%|██████████| 311/311 [01:54<00:00,  \n",
      "                 Class     Images  Instances      Box(P          R      mAP50  mAP50-95): 100%|██████████| 45/45 [00:29\n"
     ]
    },
    {
     "name": "stdout",
     "output_type": "stream",
     "text": [
      "                   all       1428       4552      0.759      0.686      0.753      0.477\n",
      "\n",
      "      Epoch    GPU_mem   box_loss   cls_loss   dfl_loss  Instances       Size\n"
     ]
    },
    {
     "name": "stderr",
     "output_type": "stream",
     "text": [
      "     81/250      10.1G      1.133     0.9161      1.347         63       1280: 100%|██████████| 311/311 [01:53<00:00,  \n",
      "                 Class     Images  Instances      Box(P          R      mAP50  mAP50-95): 100%|██████████| 45/45 [00:15\n"
     ]
    },
    {
     "name": "stdout",
     "output_type": "stream",
     "text": [
      "                   all       1428       4552      0.746      0.692      0.746      0.477\n",
      "\n",
      "      Epoch    GPU_mem   box_loss   cls_loss   dfl_loss  Instances       Size\n"
     ]
    },
    {
     "name": "stderr",
     "output_type": "stream",
     "text": [
      "     82/250        12G      1.126     0.8998      1.342        126       1280: 100%|██████████| 311/311 [03:52<00:00,  \n",
      "                 Class     Images  Instances      Box(P          R      mAP50  mAP50-95): 100%|██████████| 45/45 [00:39"
     ]
    },
    {
     "name": "stdout",
     "output_type": "stream",
     "text": [
      "                   all       1428       4552      0.759      0.687      0.752      0.476\n"
     ]
    },
    {
     "name": "stderr",
     "output_type": "stream",
     "text": [
      "\n"
     ]
    },
    {
     "name": "stdout",
     "output_type": "stream",
     "text": [
      "\n",
      "      Epoch    GPU_mem   box_loss   cls_loss   dfl_loss  Instances       Size\n"
     ]
    },
    {
     "name": "stderr",
     "output_type": "stream",
     "text": [
      "     83/250      12.6G      1.112     0.9014      1.334         69       1280: 100%|██████████| 311/311 [01:54<00:00,  \n",
      "                 Class     Images  Instances      Box(P          R      mAP50  mAP50-95): 100%|██████████| 45/45 [00:16"
     ]
    },
    {
     "name": "stdout",
     "output_type": "stream",
     "text": [
      "                   all       1428       4552      0.759      0.681      0.745      0.475\n"
     ]
    },
    {
     "name": "stderr",
     "output_type": "stream",
     "text": [
      "\n"
     ]
    },
    {
     "name": "stdout",
     "output_type": "stream",
     "text": [
      "\n",
      "      Epoch    GPU_mem   box_loss   cls_loss   dfl_loss  Instances       Size\n"
     ]
    },
    {
     "name": "stderr",
     "output_type": "stream",
     "text": [
      "     84/250      10.4G      1.115     0.8809      1.334         63       1280: 100%|██████████| 311/311 [01:59<00:00,  \n",
      "                 Class     Images  Instances      Box(P          R      mAP50  mAP50-95): 100%|██████████| 45/45 [00:18\n"
     ]
    },
    {
     "name": "stdout",
     "output_type": "stream",
     "text": [
      "                   all       1428       4552      0.753      0.698      0.751      0.477\n",
      "\n",
      "      Epoch    GPU_mem   box_loss   cls_loss   dfl_loss  Instances       Size\n"
     ]
    },
    {
     "name": "stderr",
     "output_type": "stream",
     "text": [
      "     85/250      11.5G      1.116     0.8891      1.336        121       1280: 100%|██████████| 311/311 [01:53<00:00,  \n",
      "                 Class     Images  Instances      Box(P          R      mAP50  mAP50-95): 100%|██████████| 45/45 [00:17"
     ]
    },
    {
     "name": "stdout",
     "output_type": "stream",
     "text": [
      "                   all       1428       4552      0.754      0.702       0.75       0.48\n"
     ]
    },
    {
     "name": "stderr",
     "output_type": "stream",
     "text": [
      "\n"
     ]
    },
    {
     "name": "stdout",
     "output_type": "stream",
     "text": [
      "\n",
      "      Epoch    GPU_mem   box_loss   cls_loss   dfl_loss  Instances       Size\n"
     ]
    },
    {
     "name": "stderr",
     "output_type": "stream",
     "text": [
      "     86/250      11.3G      1.122     0.8925      1.328         55       1280: 100%|██████████| 311/311 [01:54<00:00,  \n",
      "                 Class     Images  Instances      Box(P          R      mAP50  mAP50-95): 100%|██████████| 45/45 [00:17\n"
     ]
    },
    {
     "name": "stdout",
     "output_type": "stream",
     "text": [
      "                   all       1428       4552      0.759      0.697      0.758       0.48\n",
      "\n",
      "      Epoch    GPU_mem   box_loss   cls_loss   dfl_loss  Instances       Size\n"
     ]
    },
    {
     "name": "stderr",
     "output_type": "stream",
     "text": [
      "     87/250      12.5G        1.1     0.8874      1.329         39       1280: 100%|██████████| 311/311 [02:50<00:00,  \n",
      "                 Class     Images  Instances      Box(P          R      mAP50  mAP50-95): 100%|██████████| 45/45 [01:25"
     ]
    },
    {
     "name": "stdout",
     "output_type": "stream",
     "text": [
      "                   all       1428       4552       0.75      0.692      0.749      0.478\n"
     ]
    },
    {
     "name": "stderr",
     "output_type": "stream",
     "text": [
      "\n"
     ]
    },
    {
     "name": "stdout",
     "output_type": "stream",
     "text": [
      "\n",
      "      Epoch    GPU_mem   box_loss   cls_loss   dfl_loss  Instances       Size\n"
     ]
    },
    {
     "name": "stderr",
     "output_type": "stream",
     "text": [
      "     88/250      11.6G      1.098     0.8745      1.328        174       1280: 100%|██████████| 311/311 [01:56<00:00,  \n",
      "                 Class     Images  Instances      Box(P          R      mAP50  mAP50-95): 100%|██████████| 45/45 [00:16\n"
     ]
    },
    {
     "name": "stdout",
     "output_type": "stream",
     "text": [
      "                   all       1428       4552      0.766      0.678      0.753       0.48\n",
      "\n",
      "      Epoch    GPU_mem   box_loss   cls_loss   dfl_loss  Instances       Size\n"
     ]
    },
    {
     "name": "stderr",
     "output_type": "stream",
     "text": [
      "     89/250      10.2G      1.113     0.8859      1.339         50       1280: 100%|██████████| 311/311 [01:54<00:00,  \n",
      "                 Class     Images  Instances      Box(P          R      mAP50  mAP50-95): 100%|██████████| 45/45 [00:16\n"
     ]
    },
    {
     "name": "stdout",
     "output_type": "stream",
     "text": [
      "                   all       1428       4552      0.754      0.688      0.749      0.482\n",
      "\n",
      "      Epoch    GPU_mem   box_loss   cls_loss   dfl_loss  Instances       Size\n"
     ]
    },
    {
     "name": "stderr",
     "output_type": "stream",
     "text": [
      "     90/250      10.3G      1.104     0.8812       1.33         73       1280: 100%|██████████| 311/311 [02:02<00:00,  \n",
      "                 Class     Images  Instances      Box(P          R      mAP50  mAP50-95): 100%|██████████| 45/45 [00:31\n"
     ]
    },
    {
     "name": "stdout",
     "output_type": "stream",
     "text": [
      "                   all       1428       4552      0.754      0.689      0.748       0.48\n",
      "\n",
      "      Epoch    GPU_mem   box_loss   cls_loss   dfl_loss  Instances       Size\n"
     ]
    },
    {
     "name": "stderr",
     "output_type": "stream",
     "text": [
      "     91/250      10.9G      1.092     0.8738      1.319         93       1280: 100%|██████████| 311/311 [01:54<00:00,  \n",
      "                 Class     Images  Instances      Box(P          R      mAP50  mAP50-95): 100%|██████████| 45/45 [00:16\n"
     ]
    },
    {
     "name": "stdout",
     "output_type": "stream",
     "text": [
      "                   all       1428       4552      0.765      0.689       0.75      0.483\n",
      "\n",
      "      Epoch    GPU_mem   box_loss   cls_loss   dfl_loss  Instances       Size\n"
     ]
    },
    {
     "name": "stderr",
     "output_type": "stream",
     "text": [
      "     92/250      11.8G       1.09     0.8726       1.32         76       1280: 100%|██████████| 311/311 [06:13<00:00,  \n",
      "                 Class     Images  Instances      Box(P          R      mAP50  mAP50-95): 100%|██████████| 45/45 [00:53"
     ]
    },
    {
     "name": "stdout",
     "output_type": "stream",
     "text": [
      "                   all       1428       4552      0.758      0.699      0.753      0.485\n"
     ]
    },
    {
     "name": "stderr",
     "output_type": "stream",
     "text": [
      "\n"
     ]
    },
    {
     "name": "stdout",
     "output_type": "stream",
     "text": [
      "\n",
      "      Epoch    GPU_mem   box_loss   cls_loss   dfl_loss  Instances       Size\n"
     ]
    },
    {
     "name": "stderr",
     "output_type": "stream",
     "text": [
      "     93/250      11.3G      1.084     0.8642      1.308         78       1280: 100%|██████████| 311/311 [01:55<00:00,  \n",
      "                 Class     Images  Instances      Box(P          R      mAP50  mAP50-95): 100%|██████████| 45/45 [00:16\n"
     ]
    },
    {
     "name": "stdout",
     "output_type": "stream",
     "text": [
      "                   all       1428       4552      0.746       0.71      0.752      0.486\n",
      "\n",
      "      Epoch    GPU_mem   box_loss   cls_loss   dfl_loss  Instances       Size\n"
     ]
    },
    {
     "name": "stderr",
     "output_type": "stream",
     "text": [
      "     94/250      10.1G      1.086     0.8594      1.325         38       1280: 100%|██████████| 311/311 [01:53<00:00,  \n",
      "                 Class     Images  Instances      Box(P          R      mAP50  mAP50-95): 100%|██████████| 45/45 [00:18\n"
     ]
    },
    {
     "name": "stdout",
     "output_type": "stream",
     "text": [
      "                   all       1428       4552      0.771       0.69      0.754      0.487\n",
      "\n",
      "      Epoch    GPU_mem   box_loss   cls_loss   dfl_loss  Instances       Size\n"
     ]
    },
    {
     "name": "stderr",
     "output_type": "stream",
     "text": [
      "     95/250      10.7G      1.072     0.8422      1.302         49       1280: 100%|██████████| 311/311 [01:55<00:00,  \n",
      "                 Class     Images  Instances      Box(P          R      mAP50  mAP50-95): 100%|██████████| 45/45 [00:15\n"
     ]
    },
    {
     "name": "stdout",
     "output_type": "stream",
     "text": [
      "                   all       1428       4552      0.759      0.695      0.749      0.489\n",
      "\n",
      "      Epoch    GPU_mem   box_loss   cls_loss   dfl_loss  Instances       Size\n"
     ]
    },
    {
     "name": "stderr",
     "output_type": "stream",
     "text": [
      "     96/250        11G       1.09     0.8522      1.308         72       1280: 100%|██████████| 311/311 [03:03<00:00,  \n",
      "                 Class     Images  Instances      Box(P          R      mAP50  mAP50-95): 100%|██████████| 45/45 [00:36"
     ]
    },
    {
     "name": "stdout",
     "output_type": "stream",
     "text": [
      "                   all       1428       4552      0.726       0.71      0.742      0.484\n"
     ]
    },
    {
     "name": "stderr",
     "output_type": "stream",
     "text": [
      "\n"
     ]
    },
    {
     "name": "stdout",
     "output_type": "stream",
     "text": [
      "\n",
      "      Epoch    GPU_mem   box_loss   cls_loss   dfl_loss  Instances       Size\n"
     ]
    },
    {
     "name": "stderr",
     "output_type": "stream",
     "text": [
      "     97/250      11.5G      1.085     0.8514      1.314         65       1280: 100%|██████████| 311/311 [01:54<00:00,  \n",
      "                 Class     Images  Instances      Box(P          R      mAP50  mAP50-95): 100%|██████████| 45/45 [00:17\n"
     ]
    },
    {
     "name": "stdout",
     "output_type": "stream",
     "text": [
      "                   all       1428       4552      0.746      0.701      0.749      0.485\n",
      "\n",
      "      Epoch    GPU_mem   box_loss   cls_loss   dfl_loss  Instances       Size\n"
     ]
    },
    {
     "name": "stderr",
     "output_type": "stream",
     "text": [
      "     98/250      10.3G      1.074     0.8321      1.302        103       1280: 100%|██████████| 311/311 [01:56<00:00,  \n",
      "                 Class     Images  Instances      Box(P          R      mAP50  mAP50-95): 100%|██████████| 45/45 [00:24\n"
     ]
    },
    {
     "name": "stdout",
     "output_type": "stream",
     "text": [
      "                   all       1428       4552      0.783      0.683      0.753      0.491\n",
      "\n",
      "      Epoch    GPU_mem   box_loss   cls_loss   dfl_loss  Instances       Size\n"
     ]
    },
    {
     "name": "stderr",
     "output_type": "stream",
     "text": [
      "     99/250      11.1G      1.068     0.8386      1.294         84       1280: 100%|██████████| 311/311 [01:54<00:00,  \n",
      "                 Class     Images  Instances      Box(P          R      mAP50  mAP50-95): 100%|██████████| 45/45 [00:16\n"
     ]
    },
    {
     "name": "stdout",
     "output_type": "stream",
     "text": [
      "                   all       1428       4552      0.784      0.681      0.752       0.49\n",
      "\n",
      "      Epoch    GPU_mem   box_loss   cls_loss   dfl_loss  Instances       Size\n"
     ]
    },
    {
     "name": "stderr",
     "output_type": "stream",
     "text": [
      "    100/250      10.9G      1.089     0.8566      1.307         64       1280: 100%|██████████| 311/311 [01:55<00:00,  \n",
      "                 Class     Images  Instances      Box(P          R      mAP50  mAP50-95): 100%|██████████| 45/45 [00:30\n"
     ]
    },
    {
     "name": "stdout",
     "output_type": "stream",
     "text": [
      "                   all       1428       4552      0.783      0.694      0.754      0.493\n",
      "\n",
      "      Epoch    GPU_mem   box_loss   cls_loss   dfl_loss  Instances       Size\n"
     ]
    },
    {
     "name": "stderr",
     "output_type": "stream",
     "text": [
      "    101/250      10.8G      1.074     0.8349      1.301         74       1280: 100%|██████████| 311/311 [01:54<00:00,  \n",
      "                 Class     Images  Instances      Box(P          R      mAP50  mAP50-95): 100%|██████████| 45/45 [00:15\n"
     ]
    },
    {
     "name": "stdout",
     "output_type": "stream",
     "text": [
      "                   all       1428       4552      0.799      0.679      0.752      0.488\n",
      "\n",
      "      Epoch    GPU_mem   box_loss   cls_loss   dfl_loss  Instances       Size\n"
     ]
    },
    {
     "name": "stderr",
     "output_type": "stream",
     "text": [
      "    102/250      12.1G      1.079     0.8362      1.301         83       1280: 100%|██████████| 311/311 [05:15<00:00,  \n",
      "                 Class     Images  Instances      Box(P          R      mAP50  mAP50-95): 100%|██████████| 45/45 [00:46"
     ]
    },
    {
     "name": "stdout",
     "output_type": "stream",
     "text": [
      "                   all       1428       4552      0.767      0.697      0.752      0.487\n"
     ]
    },
    {
     "name": "stderr",
     "output_type": "stream",
     "text": [
      "\n"
     ]
    },
    {
     "name": "stdout",
     "output_type": "stream",
     "text": [
      "\n",
      "      Epoch    GPU_mem   box_loss   cls_loss   dfl_loss  Instances       Size\n"
     ]
    },
    {
     "name": "stderr",
     "output_type": "stream",
     "text": [
      "    103/250      11.1G      1.074     0.8325        1.3        113       1280: 100%|██████████| 311/311 [01:54<00:00,  \n",
      "                 Class     Images  Instances      Box(P          R      mAP50  mAP50-95): 100%|██████████| 45/45 [00:16"
     ]
    },
    {
     "name": "stdout",
     "output_type": "stream",
     "text": [
      "                   all       1428       4552      0.749      0.699      0.752      0.487\n"
     ]
    },
    {
     "name": "stderr",
     "output_type": "stream",
     "text": [
      "\n"
     ]
    },
    {
     "name": "stdout",
     "output_type": "stream",
     "text": [
      "\n",
      "      Epoch    GPU_mem   box_loss   cls_loss   dfl_loss  Instances       Size\n"
     ]
    },
    {
     "name": "stderr",
     "output_type": "stream",
     "text": [
      "    104/250        13G      1.068     0.8262      1.294         63       1280: 100%|██████████| 311/311 [01:56<00:00,  \n",
      "                 Class     Images  Instances      Box(P          R      mAP50  mAP50-95): 100%|██████████| 45/45 [00:28"
     ]
    },
    {
     "name": "stdout",
     "output_type": "stream",
     "text": [
      "                   all       1428       4552      0.758      0.689      0.748      0.485\n"
     ]
    },
    {
     "name": "stderr",
     "output_type": "stream",
     "text": [
      "\n"
     ]
    },
    {
     "name": "stdout",
     "output_type": "stream",
     "text": [
      "\n",
      "      Epoch    GPU_mem   box_loss   cls_loss   dfl_loss  Instances       Size\n"
     ]
    },
    {
     "name": "stderr",
     "output_type": "stream",
     "text": [
      "    105/250      10.3G      1.068     0.8265      1.292         61       1280: 100%|██████████| 311/311 [01:53<00:00,  \n",
      "                 Class     Images  Instances      Box(P          R      mAP50  mAP50-95): 100%|██████████| 45/45 [00:16\n"
     ]
    },
    {
     "name": "stdout",
     "output_type": "stream",
     "text": [
      "                   all       1428       4552      0.768      0.687      0.753       0.49\n",
      "\n",
      "      Epoch    GPU_mem   box_loss   cls_loss   dfl_loss  Instances       Size\n"
     ]
    },
    {
     "name": "stderr",
     "output_type": "stream",
     "text": [
      "    106/250      10.9G      1.044     0.8033      1.279         80       1280: 100%|██████████| 311/311 [02:20<00:00,  \n",
      "                 Class     Images  Instances      Box(P          R      mAP50  mAP50-95): 100%|██████████| 45/45 [00:34"
     ]
    },
    {
     "name": "stdout",
     "output_type": "stream",
     "text": [
      "                   all       1428       4552      0.736       0.71      0.753      0.487\n"
     ]
    },
    {
     "name": "stderr",
     "output_type": "stream",
     "text": [
      "\n"
     ]
    },
    {
     "name": "stdout",
     "output_type": "stream",
     "text": [
      "\n",
      "      Epoch    GPU_mem   box_loss   cls_loss   dfl_loss  Instances       Size\n"
     ]
    },
    {
     "name": "stderr",
     "output_type": "stream",
     "text": [
      "    107/250      11.5G      1.044     0.8142      1.284         94       1280: 100%|██████████| 311/311 [01:54<00:00,  \n",
      "                 Class     Images  Instances      Box(P          R      mAP50  mAP50-95): 100%|██████████| 45/45 [00:18"
     ]
    },
    {
     "name": "stdout",
     "output_type": "stream",
     "text": [
      "                   all       1428       4552      0.762      0.702      0.753      0.492\n"
     ]
    },
    {
     "name": "stderr",
     "output_type": "stream",
     "text": [
      "\n"
     ]
    },
    {
     "name": "stdout",
     "output_type": "stream",
     "text": [
      "\n",
      "      Epoch    GPU_mem   box_loss   cls_loss   dfl_loss  Instances       Size\n"
     ]
    },
    {
     "name": "stderr",
     "output_type": "stream",
     "text": [
      "    108/250        11G      1.049     0.8154      1.284         59       1280: 100%|██████████| 311/311 [01:55<00:00,  \n",
      "                 Class     Images  Instances      Box(P          R      mAP50  mAP50-95): 100%|██████████| 45/45 [00:14"
     ]
    },
    {
     "name": "stdout",
     "output_type": "stream",
     "text": [
      "                   all       1428       4552      0.748       0.72      0.754       0.49\n"
     ]
    },
    {
     "name": "stderr",
     "output_type": "stream",
     "text": [
      "\n"
     ]
    },
    {
     "name": "stdout",
     "output_type": "stream",
     "text": [
      "\n",
      "      Epoch    GPU_mem   box_loss   cls_loss   dfl_loss  Instances       Size\n"
     ]
    },
    {
     "name": "stderr",
     "output_type": "stream",
     "text": [
      "    109/250        12G      1.051     0.8079      1.278        108       1280: 100%|██████████| 311/311 [01:57<00:00,  \n",
      "                 Class     Images  Instances      Box(P          R      mAP50  mAP50-95): 100%|██████████| 45/45 [00:17"
     ]
    },
    {
     "name": "stdout",
     "output_type": "stream",
     "text": [
      "                   all       1428       4552      0.781      0.706      0.755      0.489\n"
     ]
    },
    {
     "name": "stderr",
     "output_type": "stream",
     "text": [
      "\n"
     ]
    },
    {
     "name": "stdout",
     "output_type": "stream",
     "text": [
      "\n",
      "      Epoch    GPU_mem   box_loss   cls_loss   dfl_loss  Instances       Size\n"
     ]
    },
    {
     "name": "stderr",
     "output_type": "stream",
     "text": [
      "    110/250      10.1G       1.04     0.7974      1.275         63       1280: 100%|██████████| 311/311 [01:55<00:00,  \n",
      "                 Class     Images  Instances      Box(P          R      mAP50  mAP50-95): 100%|██████████| 45/45 [00:15"
     ]
    },
    {
     "name": "stdout",
     "output_type": "stream",
     "text": [
      "                   all       1428       4552      0.767      0.715      0.754      0.492\n"
     ]
    },
    {
     "name": "stderr",
     "output_type": "stream",
     "text": [
      "\n"
     ]
    },
    {
     "name": "stdout",
     "output_type": "stream",
     "text": [
      "\n",
      "      Epoch    GPU_mem   box_loss   cls_loss   dfl_loss  Instances       Size\n"
     ]
    },
    {
     "name": "stderr",
     "output_type": "stream",
     "text": [
      "    111/250      10.7G      1.057     0.8152      1.282         50       1280: 100%|██████████| 311/311 [01:54<00:00,  \n",
      "                 Class     Images  Instances      Box(P          R      mAP50  mAP50-95): 100%|██████████| 45/45 [00:15"
     ]
    },
    {
     "name": "stdout",
     "output_type": "stream",
     "text": [
      "                   all       1428       4552      0.778      0.706      0.758      0.491\n"
     ]
    },
    {
     "name": "stderr",
     "output_type": "stream",
     "text": [
      "\n"
     ]
    },
    {
     "name": "stdout",
     "output_type": "stream",
     "text": [
      "\n",
      "      Epoch    GPU_mem   box_loss   cls_loss   dfl_loss  Instances       Size\n"
     ]
    },
    {
     "name": "stderr",
     "output_type": "stream",
     "text": [
      "    112/250      11.4G      1.044     0.8039      1.282         70       1280: 100%|██████████| 311/311 [01:57<00:00,  \n",
      "                 Class     Images  Instances      Box(P          R      mAP50  mAP50-95): 100%|██████████| 45/45 [00:14"
     ]
    },
    {
     "name": "stdout",
     "output_type": "stream",
     "text": [
      "                   all       1428       4552      0.778      0.705      0.756      0.494\n"
     ]
    },
    {
     "name": "stderr",
     "output_type": "stream",
     "text": [
      "\n"
     ]
    },
    {
     "name": "stdout",
     "output_type": "stream",
     "text": [
      "\n",
      "      Epoch    GPU_mem   box_loss   cls_loss   dfl_loss  Instances       Size\n"
     ]
    },
    {
     "name": "stderr",
     "output_type": "stream",
     "text": [
      "    113/250      10.4G      1.038     0.7952      1.277        100       1280: 100%|██████████| 311/311 [02:12<00:00,  \n",
      "                 Class     Images  Instances      Box(P          R      mAP50  mAP50-95): 100%|██████████| 45/45 [00:40"
     ]
    },
    {
     "name": "stdout",
     "output_type": "stream",
     "text": [
      "                   all       1428       4552      0.768       0.71      0.757      0.494\n"
     ]
    },
    {
     "name": "stderr",
     "output_type": "stream",
     "text": [
      "\n"
     ]
    },
    {
     "name": "stdout",
     "output_type": "stream",
     "text": [
      "\n",
      "      Epoch    GPU_mem   box_loss   cls_loss   dfl_loss  Instances       Size\n"
     ]
    },
    {
     "name": "stderr",
     "output_type": "stream",
     "text": [
      "    114/250      9.61G      1.037     0.7959       1.28         80       1280: 100%|██████████| 311/311 [01:53<00:00,  \n",
      "                 Class     Images  Instances      Box(P          R      mAP50  mAP50-95): 100%|██████████| 45/45 [00:14"
     ]
    },
    {
     "name": "stdout",
     "output_type": "stream",
     "text": [
      "                   all       1428       4552      0.776      0.707      0.758      0.497\n"
     ]
    },
    {
     "name": "stderr",
     "output_type": "stream",
     "text": [
      "\n"
     ]
    },
    {
     "name": "stdout",
     "output_type": "stream",
     "text": [
      "\n",
      "      Epoch    GPU_mem   box_loss   cls_loss   dfl_loss  Instances       Size\n"
     ]
    },
    {
     "name": "stderr",
     "output_type": "stream",
     "text": [
      "    115/250      11.9G      1.039     0.7915      1.278         84       1280: 100%|██████████| 311/311 [01:55<00:00,  \n",
      "                 Class     Images  Instances      Box(P          R      mAP50  mAP50-95): 100%|██████████| 45/45 [00:31"
     ]
    },
    {
     "name": "stdout",
     "output_type": "stream",
     "text": [
      "                   all       1428       4552      0.767      0.709      0.755      0.494\n"
     ]
    },
    {
     "name": "stderr",
     "output_type": "stream",
     "text": [
      "\n"
     ]
    },
    {
     "name": "stdout",
     "output_type": "stream",
     "text": [
      "\n",
      "      Epoch    GPU_mem   box_loss   cls_loss   dfl_loss  Instances       Size\n"
     ]
    },
    {
     "name": "stderr",
     "output_type": "stream",
     "text": [
      "    116/250      11.1G      1.038     0.7821      1.273         74       1280: 100%|██████████| 311/311 [01:54<00:00,  \n",
      "                 Class     Images  Instances      Box(P          R      mAP50  mAP50-95): 100%|██████████| 45/45 [00:16\n"
     ]
    },
    {
     "name": "stdout",
     "output_type": "stream",
     "text": [
      "                   all       1428       4552      0.776      0.703      0.757      0.499\n",
      "\n",
      "      Epoch    GPU_mem   box_loss   cls_loss   dfl_loss  Instances       Size\n"
     ]
    },
    {
     "name": "stderr",
     "output_type": "stream",
     "text": [
      "    117/250      11.3G      1.047     0.7987      1.279         89       1280: 100%|██████████| 311/311 [01:54<00:00,  \n",
      "                 Class     Images  Instances      Box(P          R      mAP50  mAP50-95): 100%|██████████| 45/45 [00:16\n"
     ]
    },
    {
     "name": "stdout",
     "output_type": "stream",
     "text": [
      "                   all       1428       4552      0.784      0.692       0.76      0.499\n",
      "\n",
      "      Epoch    GPU_mem   box_loss   cls_loss   dfl_loss  Instances       Size\n"
     ]
    },
    {
     "name": "stderr",
     "output_type": "stream",
     "text": [
      "    118/250      9.52G      1.016     0.7747      1.259        107       1280: 100%|██████████| 311/311 [01:54<00:00,  \n",
      "                 Class     Images  Instances      Box(P          R      mAP50  mAP50-95): 100%|██████████| 45/45 [00:14"
     ]
    },
    {
     "name": "stdout",
     "output_type": "stream",
     "text": [
      "                   all       1428       4552      0.785      0.697      0.761      0.502\n"
     ]
    },
    {
     "name": "stderr",
     "output_type": "stream",
     "text": [
      "\n"
     ]
    },
    {
     "name": "stdout",
     "output_type": "stream",
     "text": [
      "\n",
      "      Epoch    GPU_mem   box_loss   cls_loss   dfl_loss  Instances       Size\n"
     ]
    },
    {
     "name": "stderr",
     "output_type": "stream",
     "text": [
      "    119/250      11.1G       1.02     0.7707       1.26         67       1280: 100%|██████████| 311/311 [01:54<00:00,  \n",
      "                 Class     Images  Instances      Box(P          R      mAP50  mAP50-95): 100%|██████████| 45/45 [00:35"
     ]
    },
    {
     "name": "stdout",
     "output_type": "stream",
     "text": [
      "                   all       1428       4552       0.79      0.695      0.759        0.5\n"
     ]
    },
    {
     "name": "stderr",
     "output_type": "stream",
     "text": [
      "\n"
     ]
    },
    {
     "name": "stdout",
     "output_type": "stream",
     "text": [
      "\n",
      "      Epoch    GPU_mem   box_loss   cls_loss   dfl_loss  Instances       Size\n"
     ]
    },
    {
     "name": "stderr",
     "output_type": "stream",
     "text": [
      "    120/250      11.6G      1.031     0.7794      1.267         70       1280: 100%|██████████| 311/311 [01:55<00:00,  \n",
      "                 Class     Images  Instances      Box(P          R      mAP50  mAP50-95): 100%|██████████| 45/45 [00:17"
     ]
    },
    {
     "name": "stdout",
     "output_type": "stream",
     "text": [
      "                   all       1428       4552      0.773      0.702      0.758      0.498\n"
     ]
    },
    {
     "name": "stderr",
     "output_type": "stream",
     "text": [
      "\n"
     ]
    },
    {
     "name": "stdout",
     "output_type": "stream",
     "text": [
      "\n",
      "      Epoch    GPU_mem   box_loss   cls_loss   dfl_loss  Instances       Size\n"
     ]
    },
    {
     "name": "stderr",
     "output_type": "stream",
     "text": [
      "    121/250      10.4G      1.039     0.7891      1.267         53       1280: 100%|██████████| 311/311 [01:56<00:00,  \n",
      "                 Class     Images  Instances      Box(P          R      mAP50  mAP50-95): 100%|██████████| 45/45 [00:28"
     ]
    },
    {
     "name": "stdout",
     "output_type": "stream",
     "text": [
      "                   all       1428       4552       0.79      0.689      0.756      0.496\n"
     ]
    },
    {
     "name": "stderr",
     "output_type": "stream",
     "text": [
      "\n"
     ]
    },
    {
     "name": "stdout",
     "output_type": "stream",
     "text": [
      "\n",
      "      Epoch    GPU_mem   box_loss   cls_loss   dfl_loss  Instances       Size\n"
     ]
    },
    {
     "name": "stderr",
     "output_type": "stream",
     "text": [
      "    122/250      9.39G      1.024     0.7739      1.263         47       1280: 100%|██████████| 311/311 [01:54<00:00,  \n",
      "                 Class     Images  Instances      Box(P          R      mAP50  mAP50-95): 100%|██████████| 45/45 [00:15\n"
     ]
    },
    {
     "name": "stdout",
     "output_type": "stream",
     "text": [
      "                   all       1428       4552      0.769      0.707      0.754      0.495\n",
      "\n",
      "      Epoch    GPU_mem   box_loss   cls_loss   dfl_loss  Instances       Size\n"
     ]
    },
    {
     "name": "stderr",
     "output_type": "stream",
     "text": [
      "    123/250      11.7G      1.038     0.7868      1.273         93       1280: 100%|██████████| 311/311 [01:56<00:00,  \n",
      "                 Class     Images  Instances      Box(P          R      mAP50  mAP50-95): 100%|██████████| 45/45 [00:23"
     ]
    },
    {
     "name": "stdout",
     "output_type": "stream",
     "text": [
      "                   all       1428       4552      0.794      0.695      0.753      0.495\n"
     ]
    },
    {
     "name": "stderr",
     "output_type": "stream",
     "text": [
      "\n"
     ]
    },
    {
     "name": "stdout",
     "output_type": "stream",
     "text": [
      "\n",
      "      Epoch    GPU_mem   box_loss   cls_loss   dfl_loss  Instances       Size\n"
     ]
    },
    {
     "name": "stderr",
     "output_type": "stream",
     "text": [
      "    124/250      11.5G      1.022     0.7744      1.265         68       1280: 100%|██████████| 311/311 [01:56<00:00,  \n",
      "                 Class     Images  Instances      Box(P          R      mAP50  mAP50-95): 100%|██████████| 45/45 [00:16"
     ]
    },
    {
     "name": "stdout",
     "output_type": "stream",
     "text": [
      "                   all       1428       4552      0.801      0.695       0.76      0.498\n"
     ]
    },
    {
     "name": "stderr",
     "output_type": "stream",
     "text": [
      "\n"
     ]
    },
    {
     "name": "stdout",
     "output_type": "stream",
     "text": [
      "\n",
      "      Epoch    GPU_mem   box_loss   cls_loss   dfl_loss  Instances       Size\n"
     ]
    },
    {
     "name": "stderr",
     "output_type": "stream",
     "text": [
      "    125/250        12G      1.027     0.7767       1.25         45       1280: 100%|██████████| 311/311 [08:42<00:00,  \n",
      "                 Class     Images  Instances      Box(P          R      mAP50  mAP50-95): 100%|██████████| 45/45 [00:33"
     ]
    },
    {
     "name": "stdout",
     "output_type": "stream",
     "text": [
      "                   all       1428       4552      0.765      0.722      0.763      0.499\n"
     ]
    },
    {
     "name": "stderr",
     "output_type": "stream",
     "text": [
      "\n"
     ]
    },
    {
     "name": "stdout",
     "output_type": "stream",
     "text": [
      "\n",
      "      Epoch    GPU_mem   box_loss   cls_loss   dfl_loss  Instances       Size\n"
     ]
    },
    {
     "name": "stderr",
     "output_type": "stream",
     "text": [
      "    126/250      11.9G      1.015     0.7601      1.256         74       1280: 100%|██████████| 311/311 [01:56<00:00,  \n",
      "                 Class     Images  Instances      Box(P          R      mAP50  mAP50-95): 100%|██████████| 45/45 [00:17"
     ]
    },
    {
     "name": "stdout",
     "output_type": "stream",
     "text": [
      "                   all       1428       4552      0.772       0.71      0.761      0.501\n"
     ]
    },
    {
     "name": "stderr",
     "output_type": "stream",
     "text": [
      "\n"
     ]
    },
    {
     "name": "stdout",
     "output_type": "stream",
     "text": [
      "\n",
      "      Epoch    GPU_mem   box_loss   cls_loss   dfl_loss  Instances       Size\n"
     ]
    },
    {
     "name": "stderr",
     "output_type": "stream",
     "text": [
      "    127/250      11.4G      1.009     0.7517      1.248         64       1280: 100%|██████████| 311/311 [02:32<00:00,  \n",
      "                 Class     Images  Instances      Box(P          R      mAP50  mAP50-95): 100%|██████████| 45/45 [00:36\n"
     ]
    },
    {
     "name": "stdout",
     "output_type": "stream",
     "text": [
      "                   all       1428       4552      0.782      0.715      0.763      0.502\n",
      "\n",
      "      Epoch    GPU_mem   box_loss   cls_loss   dfl_loss  Instances       Size\n"
     ]
    },
    {
     "name": "stderr",
     "output_type": "stream",
     "text": [
      "    128/250      12.8G      1.009     0.7589      1.249         90       1280: 100%|██████████| 311/311 [01:56<00:00,  \n",
      "                 Class     Images  Instances      Box(P          R      mAP50  mAP50-95): 100%|██████████| 45/45 [00:17\n"
     ]
    },
    {
     "name": "stdout",
     "output_type": "stream",
     "text": [
      "                   all       1428       4552      0.784       0.71      0.762      0.502\n",
      "\n",
      "      Epoch    GPU_mem   box_loss   cls_loss   dfl_loss  Instances       Size\n"
     ]
    },
    {
     "name": "stderr",
     "output_type": "stream",
     "text": [
      "    129/250      12.9G      1.012     0.7603      1.252         97       1280: 100%|██████████| 311/311 [01:56<00:00,  \n",
      "                 Class     Images  Instances      Box(P          R      mAP50  mAP50-95): 100%|██████████| 45/45 [00:18"
     ]
    },
    {
     "name": "stdout",
     "output_type": "stream",
     "text": [
      "                   all       1428       4552       0.78      0.712      0.762      0.501\n"
     ]
    },
    {
     "name": "stderr",
     "output_type": "stream",
     "text": [
      "\n"
     ]
    },
    {
     "name": "stdout",
     "output_type": "stream",
     "text": [
      "\n",
      "      Epoch    GPU_mem   box_loss   cls_loss   dfl_loss  Instances       Size\n"
     ]
    },
    {
     "name": "stderr",
     "output_type": "stream",
     "text": [
      "    130/250        11G      1.009     0.7623      1.251        131       1280: 100%|██████████| 311/311 [01:54<00:00,  \n",
      "                 Class     Images  Instances      Box(P          R      mAP50  mAP50-95): 100%|██████████| 45/45 [00:29"
     ]
    },
    {
     "name": "stdout",
     "output_type": "stream",
     "text": [
      "                   all       1428       4552      0.777      0.705       0.76      0.501\n"
     ]
    },
    {
     "name": "stderr",
     "output_type": "stream",
     "text": [
      "\n"
     ]
    },
    {
     "name": "stdout",
     "output_type": "stream",
     "text": [
      "\n",
      "      Epoch    GPU_mem   box_loss   cls_loss   dfl_loss  Instances       Size\n"
     ]
    },
    {
     "name": "stderr",
     "output_type": "stream",
     "text": [
      "    131/250      10.5G      0.996     0.7428       1.24         62       1280: 100%|██████████| 311/311 [01:53<00:00,  \n",
      "                 Class     Images  Instances      Box(P          R      mAP50  mAP50-95): 100%|██████████| 45/45 [00:17"
     ]
    },
    {
     "name": "stdout",
     "output_type": "stream",
     "text": [
      "                   all       1428       4552      0.773      0.713      0.758      0.501\n"
     ]
    },
    {
     "name": "stderr",
     "output_type": "stream",
     "text": [
      "\n"
     ]
    },
    {
     "name": "stdout",
     "output_type": "stream",
     "text": [
      "\n",
      "      Epoch    GPU_mem   box_loss   cls_loss   dfl_loss  Instances       Size\n"
     ]
    },
    {
     "name": "stderr",
     "output_type": "stream",
     "text": [
      "    132/250      10.1G     0.9967     0.7437      1.233         64       1280: 100%|██████████| 311/311 [01:53<00:00,  \n",
      "                 Class     Images  Instances      Box(P          R      mAP50  mAP50-95): 100%|██████████| 45/45 [00:32\n"
     ]
    },
    {
     "name": "stdout",
     "output_type": "stream",
     "text": [
      "                   all       1428       4552       0.77       0.72      0.758      0.499\n",
      "\n",
      "      Epoch    GPU_mem   box_loss   cls_loss   dfl_loss  Instances       Size\n"
     ]
    },
    {
     "name": "stderr",
     "output_type": "stream",
     "text": [
      "    133/250        13G     0.9975      0.747      1.243         83       1280: 100%|██████████| 311/311 [01:57<00:00,  \n",
      "                 Class     Images  Instances      Box(P          R      mAP50  mAP50-95): 100%|██████████| 45/45 [00:15"
     ]
    },
    {
     "name": "stdout",
     "output_type": "stream",
     "text": [
      "                   all       1428       4552      0.774      0.716      0.757      0.496\n"
     ]
    },
    {
     "name": "stderr",
     "output_type": "stream",
     "text": [
      "\n"
     ]
    },
    {
     "name": "stdout",
     "output_type": "stream",
     "text": [
      "\n",
      "      Epoch    GPU_mem   box_loss   cls_loss   dfl_loss  Instances       Size\n"
     ]
    },
    {
     "name": "stderr",
     "output_type": "stream",
     "text": [
      "    134/250      10.7G     0.9921     0.7334      1.239        118       1280: 100%|██████████| 311/311 [02:15<00:00,  \n",
      "                 Class     Images  Instances      Box(P          R      mAP50  mAP50-95): 100%|██████████| 45/45 [00:34"
     ]
    },
    {
     "name": "stdout",
     "output_type": "stream",
     "text": [
      "                   all       1428       4552      0.775      0.713      0.756        0.5\n"
     ]
    },
    {
     "name": "stderr",
     "output_type": "stream",
     "text": [
      "\n"
     ]
    },
    {
     "name": "stdout",
     "output_type": "stream",
     "text": [
      "\n",
      "      Epoch    GPU_mem   box_loss   cls_loss   dfl_loss  Instances       Size\n"
     ]
    },
    {
     "name": "stderr",
     "output_type": "stream",
     "text": [
      "    135/250        13G      0.996     0.7434      1.241         50       1280: 100%|██████████| 311/311 [01:57<00:00,  \n",
      "                 Class     Images  Instances      Box(P          R      mAP50  mAP50-95): 100%|██████████| 45/45 [00:14"
     ]
    },
    {
     "name": "stdout",
     "output_type": "stream",
     "text": [
      "                   all       1428       4552       0.78      0.707      0.757        0.5\n"
     ]
    },
    {
     "name": "stderr",
     "output_type": "stream",
     "text": [
      "\n"
     ]
    },
    {
     "name": "stdout",
     "output_type": "stream",
     "text": [
      "\n",
      "      Epoch    GPU_mem   box_loss   cls_loss   dfl_loss  Instances       Size\n"
     ]
    },
    {
     "name": "stderr",
     "output_type": "stream",
     "text": [
      "    136/250      10.7G      1.007     0.7473      1.238         75       1280: 100%|██████████| 311/311 [02:21<00:00,  \n",
      "                 Class     Images  Instances      Box(P          R      mAP50  mAP50-95): 100%|██████████| 45/45 [00:33"
     ]
    },
    {
     "name": "stdout",
     "output_type": "stream",
     "text": [
      "                   all       1428       4552       0.79      0.699      0.756      0.498\n"
     ]
    },
    {
     "name": "stderr",
     "output_type": "stream",
     "text": [
      "\n"
     ]
    },
    {
     "name": "stdout",
     "output_type": "stream",
     "text": [
      "\n",
      "      Epoch    GPU_mem   box_loss   cls_loss   dfl_loss  Instances       Size\n"
     ]
    },
    {
     "name": "stderr",
     "output_type": "stream",
     "text": [
      "    137/250      11.2G     0.9882     0.7288       1.23        104       1280: 100%|██████████| 311/311 [01:56<00:00,  \n",
      "                 Class     Images  Instances      Box(P          R      mAP50  mAP50-95): 100%|██████████| 45/45 [00:16"
     ]
    },
    {
     "name": "stdout",
     "output_type": "stream",
     "text": [
      "                   all       1428       4552      0.787      0.697      0.757      0.499\n"
     ]
    },
    {
     "name": "stderr",
     "output_type": "stream",
     "text": [
      "\n"
     ]
    },
    {
     "name": "stdout",
     "output_type": "stream",
     "text": [
      "\n",
      "      Epoch    GPU_mem   box_loss   cls_loss   dfl_loss  Instances       Size\n"
     ]
    },
    {
     "name": "stderr",
     "output_type": "stream",
     "text": [
      "    138/250      10.8G     0.9873     0.7303      1.228         70       1280: 100%|██████████| 311/311 [01:54<00:00,  \n",
      "                 Class     Images  Instances      Box(P          R      mAP50  mAP50-95): 100%|██████████| 45/45 [00:34\n"
     ]
    },
    {
     "name": "stdout",
     "output_type": "stream",
     "text": [
      "                   all       1428       4552      0.759      0.718      0.755      0.497\n",
      "\n",
      "      Epoch    GPU_mem   box_loss   cls_loss   dfl_loss  Instances       Size\n"
     ]
    },
    {
     "name": "stderr",
     "output_type": "stream",
     "text": [
      "    139/250      11.7G     0.9851     0.7276      1.232         51       1280: 100%|██████████| 311/311 [01:56<00:00,  \n",
      "                 Class     Images  Instances      Box(P          R      mAP50  mAP50-95): 100%|██████████| 45/45 [00:17\n"
     ]
    },
    {
     "name": "stdout",
     "output_type": "stream",
     "text": [
      "                   all       1428       4552      0.774      0.703      0.751      0.496\n",
      "\n",
      "      Epoch    GPU_mem   box_loss   cls_loss   dfl_loss  Instances       Size\n"
     ]
    },
    {
     "name": "stderr",
     "output_type": "stream",
     "text": [
      "    140/250      10.4G      0.983     0.7306      1.236         82       1280: 100%|██████████| 311/311 [02:42<00:00,  \n",
      "                 Class     Images  Instances      Box(P          R      mAP50  mAP50-95): 100%|██████████| 45/45 [00:32\n"
     ]
    },
    {
     "name": "stdout",
     "output_type": "stream",
     "text": [
      "                   all       1428       4552      0.788      0.698      0.753      0.496\n",
      "\n",
      "      Epoch    GPU_mem   box_loss   cls_loss   dfl_loss  Instances       Size\n"
     ]
    },
    {
     "name": "stderr",
     "output_type": "stream",
     "text": [
      "    141/250      11.3G     0.9918     0.7275      1.229        108       1280: 100%|██████████| 311/311 [01:55<00:00,  \n",
      "                 Class     Images  Instances      Box(P          R      mAP50  mAP50-95): 100%|██████████| 45/45 [00:16\n"
     ]
    },
    {
     "name": "stdout",
     "output_type": "stream",
     "text": [
      "                   all       1428       4552       0.79      0.696      0.754      0.496\n",
      "\n",
      "      Epoch    GPU_mem   box_loss   cls_loss   dfl_loss  Instances       Size\n"
     ]
    },
    {
     "name": "stderr",
     "output_type": "stream",
     "text": [
      "    142/250      10.2G     0.9747     0.7217       1.23         76       1280: 100%|██████████| 311/311 [01:55<00:00,  \n",
      "                 Class     Images  Instances      Box(P          R      mAP50  mAP50-95): 100%|██████████| 45/45 [00:15"
     ]
    },
    {
     "name": "stdout",
     "output_type": "stream",
     "text": [
      "                   all       1428       4552      0.773      0.705      0.754      0.497\n"
     ]
    },
    {
     "name": "stderr",
     "output_type": "stream",
     "text": [
      "\n"
     ]
    },
    {
     "name": "stdout",
     "output_type": "stream",
     "text": [
      "\n",
      "      Epoch    GPU_mem   box_loss   cls_loss   dfl_loss  Instances       Size\n"
     ]
    },
    {
     "name": "stderr",
     "output_type": "stream",
     "text": [
      "    143/250      10.3G     0.9805     0.7246      1.224         64       1280: 100%|██████████| 311/311 [01:54<00:00,  \n",
      "                 Class     Images  Instances      Box(P          R      mAP50  mAP50-95): 100%|██████████| 45/45 [00:16"
     ]
    },
    {
     "name": "stdout",
     "output_type": "stream",
     "text": [
      "                   all       1428       4552      0.794      0.695      0.754      0.496\n"
     ]
    },
    {
     "name": "stderr",
     "output_type": "stream",
     "text": [
      "\n"
     ]
    },
    {
     "name": "stdout",
     "output_type": "stream",
     "text": [
      "\n",
      "      Epoch    GPU_mem   box_loss   cls_loss   dfl_loss  Instances       Size\n"
     ]
    },
    {
     "name": "stderr",
     "output_type": "stream",
     "text": [
      "    144/250      9.64G     0.9765     0.7215      1.223         61       1280: 100%|██████████| 311/311 [01:53<00:00,  \n",
      "                 Class     Images  Instances      Box(P          R      mAP50  mAP50-95): 100%|██████████| 45/45 [00:28\n"
     ]
    },
    {
     "name": "stdout",
     "output_type": "stream",
     "text": [
      "                   all       1428       4552      0.792      0.697      0.754      0.498\n",
      "\n",
      "      Epoch    GPU_mem   box_loss   cls_loss   dfl_loss  Instances       Size\n"
     ]
    },
    {
     "name": "stderr",
     "output_type": "stream",
     "text": [
      "    145/250      10.5G     0.9676     0.7189      1.219         71       1280: 100%|██████████| 311/311 [01:54<00:00,  \n",
      "                 Class     Images  Instances      Box(P          R      mAP50  mAP50-95): 100%|██████████| 45/45 [00:15"
     ]
    },
    {
     "name": "stdout",
     "output_type": "stream",
     "text": [
      "                   all       1428       4552      0.795      0.697      0.755        0.5\n"
     ]
    },
    {
     "name": "stderr",
     "output_type": "stream",
     "text": [
      "\n"
     ]
    },
    {
     "name": "stdout",
     "output_type": "stream",
     "text": [
      "\n",
      "      Epoch    GPU_mem   box_loss   cls_loss   dfl_loss  Instances       Size\n"
     ]
    },
    {
     "name": "stderr",
     "output_type": "stream",
     "text": [
      "    146/250        11G     0.9678     0.7144      1.223         88       1280: 100%|██████████| 311/311 [01:56<00:00,  \n",
      "                 Class     Images  Instances      Box(P          R      mAP50  mAP50-95): 100%|██████████| 45/45 [00:24\n"
     ]
    },
    {
     "name": "stdout",
     "output_type": "stream",
     "text": [
      "                   all       1428       4552      0.778      0.708      0.756      0.501\n",
      "\n",
      "      Epoch    GPU_mem   box_loss   cls_loss   dfl_loss  Instances       Size\n"
     ]
    },
    {
     "name": "stderr",
     "output_type": "stream",
     "text": [
      "    147/250      11.6G     0.9792      0.715      1.224         55       1280: 100%|██████████| 311/311 [01:54<00:00,  \n",
      "                 Class     Images  Instances      Box(P          R      mAP50  mAP50-95): 100%|██████████| 45/45 [00:17\n"
     ]
    },
    {
     "name": "stdout",
     "output_type": "stream",
     "text": [
      "                   all       1428       4552      0.785      0.705      0.759      0.505\n",
      "\n",
      "      Epoch    GPU_mem   box_loss   cls_loss   dfl_loss  Instances       Size\n"
     ]
    },
    {
     "name": "stderr",
     "output_type": "stream",
     "text": [
      "    148/250      11.3G     0.9696     0.7102      1.216         64       1280: 100%|██████████| 311/311 [01:55<00:00,  \n",
      "                 Class     Images  Instances      Box(P          R      mAP50  mAP50-95): 100%|██████████| 45/45 [00:29"
     ]
    },
    {
     "name": "stdout",
     "output_type": "stream",
     "text": [
      "                   all       1428       4552      0.772      0.718      0.759      0.505\n"
     ]
    },
    {
     "name": "stderr",
     "output_type": "stream",
     "text": [
      "\n"
     ]
    },
    {
     "name": "stdout",
     "output_type": "stream",
     "text": [
      "\n",
      "      Epoch    GPU_mem   box_loss   cls_loss   dfl_loss  Instances       Size\n"
     ]
    },
    {
     "name": "stderr",
     "output_type": "stream",
     "text": [
      "    149/250      9.83G     0.9703     0.7183      1.227         57       1280: 100%|██████████| 311/311 [01:54<00:00,  \n",
      "                 Class     Images  Instances      Box(P          R      mAP50  mAP50-95): 100%|██████████| 45/45 [00:15\n"
     ]
    },
    {
     "name": "stdout",
     "output_type": "stream",
     "text": [
      "                   all       1428       4552       0.76       0.72       0.76      0.503\n",
      "\n",
      "      Epoch    GPU_mem   box_loss   cls_loss   dfl_loss  Instances       Size\n"
     ]
    },
    {
     "name": "stderr",
     "output_type": "stream",
     "text": [
      "    150/250      10.6G     0.9701      0.714      1.218         85       1280: 100%|██████████| 311/311 [01:54<00:00,  \n",
      "                 Class     Images  Instances      Box(P          R      mAP50  mAP50-95): 100%|██████████| 45/45 [00:16\n"
     ]
    },
    {
     "name": "stdout",
     "output_type": "stream",
     "text": [
      "                   all       1428       4552      0.798      0.699       0.76      0.503\n",
      "\n",
      "      Epoch    GPU_mem   box_loss   cls_loss   dfl_loss  Instances       Size\n"
     ]
    },
    {
     "name": "stderr",
     "output_type": "stream",
     "text": [
      "    151/250      10.4G      0.949     0.6996      1.207         73       1280: 100%|██████████| 311/311 [01:53<00:00,  \n",
      "                 Class     Images  Instances      Box(P          R      mAP50  mAP50-95): 100%|██████████| 45/45 [00:15"
     ]
    },
    {
     "name": "stdout",
     "output_type": "stream",
     "text": [
      "                   all       1428       4552      0.802      0.692      0.758      0.503\n"
     ]
    },
    {
     "name": "stderr",
     "output_type": "stream",
     "text": [
      "\n"
     ]
    },
    {
     "name": "stdout",
     "output_type": "stream",
     "text": [
      "\n",
      "      Epoch    GPU_mem   box_loss   cls_loss   dfl_loss  Instances       Size\n"
     ]
    },
    {
     "name": "stderr",
     "output_type": "stream",
     "text": [
      "    152/250      11.3G     0.9605     0.7065      1.209        147       1280: 100%|██████████| 311/311 [01:55<00:00,  \n",
      "                 Class     Images  Instances      Box(P          R      mAP50  mAP50-95): 100%|██████████| 45/45 [00:29"
     ]
    },
    {
     "name": "stdout",
     "output_type": "stream",
     "text": [
      "                   all       1428       4552      0.779      0.704      0.757      0.502\n"
     ]
    },
    {
     "name": "stderr",
     "output_type": "stream",
     "text": [
      "\n"
     ]
    },
    {
     "name": "stdout",
     "output_type": "stream",
     "text": [
      "\n",
      "      Epoch    GPU_mem   box_loss   cls_loss   dfl_loss  Instances       Size\n"
     ]
    },
    {
     "name": "stderr",
     "output_type": "stream",
     "text": [
      "    153/250      10.6G     0.9558     0.6949      1.211         92       1280: 100%|██████████| 311/311 [01:54<00:00,  \n",
      "                 Class     Images  Instances      Box(P          R      mAP50  mAP50-95): 100%|██████████| 45/45 [00:13\n"
     ]
    },
    {
     "name": "stdout",
     "output_type": "stream",
     "text": [
      "                   all       1428       4552       0.79      0.699      0.756      0.501\n",
      "\n",
      "      Epoch    GPU_mem   box_loss   cls_loss   dfl_loss  Instances       Size\n"
     ]
    },
    {
     "name": "stderr",
     "output_type": "stream",
     "text": [
      "    154/250      10.9G      0.959     0.6944      1.206         62       1280: 100%|██████████| 311/311 [01:55<00:00,  \n",
      "                 Class     Images  Instances      Box(P          R      mAP50  mAP50-95): 100%|██████████| 45/45 [00:27"
     ]
    },
    {
     "name": "stdout",
     "output_type": "stream",
     "text": [
      "                   all       1428       4552      0.794      0.697      0.754      0.499\n"
     ]
    },
    {
     "name": "stderr",
     "output_type": "stream",
     "text": [
      "\n"
     ]
    },
    {
     "name": "stdout",
     "output_type": "stream",
     "text": [
      "\n",
      "      Epoch    GPU_mem   box_loss   cls_loss   dfl_loss  Instances       Size\n"
     ]
    },
    {
     "name": "stderr",
     "output_type": "stream",
     "text": [
      "    155/250      10.3G     0.9357     0.6895      1.203         62       1280: 100%|██████████| 311/311 [01:54<00:00,  \n",
      "                 Class     Images  Instances      Box(P          R      mAP50  mAP50-95): 100%|██████████| 45/45 [00:15\n"
     ]
    },
    {
     "name": "stdout",
     "output_type": "stream",
     "text": [
      "                   all       1428       4552        0.8      0.697      0.754      0.498\n",
      "\n",
      "      Epoch    GPU_mem   box_loss   cls_loss   dfl_loss  Instances       Size\n"
     ]
    },
    {
     "name": "stderr",
     "output_type": "stream",
     "text": [
      "    156/250      10.6G     0.9461     0.6886        1.2         48       1280: 100%|██████████| 311/311 [01:53<00:00,  \n",
      "                 Class     Images  Instances      Box(P          R      mAP50  mAP50-95): 100%|██████████| 45/45 [00:16"
     ]
    },
    {
     "name": "stdout",
     "output_type": "stream",
     "text": [
      "                   all       1428       4552      0.797        0.7      0.754      0.498\n"
     ]
    },
    {
     "name": "stderr",
     "output_type": "stream",
     "text": [
      "\n"
     ]
    },
    {
     "name": "stdout",
     "output_type": "stream",
     "text": [
      "\n",
      "      Epoch    GPU_mem   box_loss   cls_loss   dfl_loss  Instances       Size\n"
     ]
    },
    {
     "name": "stderr",
     "output_type": "stream",
     "text": [
      "    157/250      11.8G     0.9413     0.6823      1.207         52       1280: 100%|██████████| 311/311 [01:58<00:00,  \n",
      "                 Class     Images  Instances      Box(P          R      mAP50  mAP50-95): 100%|██████████| 45/45 [00:16"
     ]
    },
    {
     "name": "stdout",
     "output_type": "stream",
     "text": [
      "                   all       1428       4552      0.793      0.704      0.754      0.498\n"
     ]
    },
    {
     "name": "stderr",
     "output_type": "stream",
     "text": [
      "\n"
     ]
    },
    {
     "name": "stdout",
     "output_type": "stream",
     "text": [
      "\n",
      "      Epoch    GPU_mem   box_loss   cls_loss   dfl_loss  Instances       Size\n"
     ]
    },
    {
     "name": "stderr",
     "output_type": "stream",
     "text": [
      "    158/250      10.9G     0.9613     0.6922      1.199         55       1280: 100%|██████████| 311/311 [01:56<00:00,  \n",
      "                 Class     Images  Instances      Box(P          R      mAP50  mAP50-95): 100%|██████████| 45/45 [00:32"
     ]
    },
    {
     "name": "stdout",
     "output_type": "stream",
     "text": [
      "                   all       1428       4552      0.791      0.703      0.753      0.498\n"
     ]
    },
    {
     "name": "stderr",
     "output_type": "stream",
     "text": [
      "\n"
     ]
    },
    {
     "name": "stdout",
     "output_type": "stream",
     "text": [
      "\n",
      "      Epoch    GPU_mem   box_loss   cls_loss   dfl_loss  Instances       Size\n"
     ]
    },
    {
     "name": "stderr",
     "output_type": "stream",
     "text": [
      "    159/250      11.1G     0.9309     0.6755      1.197         68       1280: 100%|██████████| 311/311 [01:54<00:00,  \n",
      "                 Class     Images  Instances      Box(P          R      mAP50  mAP50-95): 100%|██████████| 45/45 [00:15"
     ]
    },
    {
     "name": "stdout",
     "output_type": "stream",
     "text": [
      "                   all       1428       4552      0.792      0.703      0.754      0.497\n"
     ]
    },
    {
     "name": "stderr",
     "output_type": "stream",
     "text": [
      "\n"
     ]
    },
    {
     "name": "stdout",
     "output_type": "stream",
     "text": [
      "\n",
      "      Epoch    GPU_mem   box_loss   cls_loss   dfl_loss  Instances       Size\n"
     ]
    },
    {
     "name": "stderr",
     "output_type": "stream",
     "text": [
      "    160/250      11.8G     0.9356     0.6774      1.197         74       1280: 100%|██████████| 311/311 [04:17<00:00,  \n",
      "                 Class     Images  Instances      Box(P          R      mAP50  mAP50-95): 100%|██████████| 45/45 [00:44"
     ]
    },
    {
     "name": "stdout",
     "output_type": "stream",
     "text": [
      "                   all       1428       4552       0.79      0.702      0.754      0.498\n"
     ]
    },
    {
     "name": "stderr",
     "output_type": "stream",
     "text": [
      "\n"
     ]
    },
    {
     "name": "stdout",
     "output_type": "stream",
     "text": [
      "\n",
      "      Epoch    GPU_mem   box_loss   cls_loss   dfl_loss  Instances       Size\n"
     ]
    },
    {
     "name": "stderr",
     "output_type": "stream",
     "text": [
      "    161/250      11.5G     0.9395     0.6817      1.197         61       1280: 100%|██████████| 311/311 [02:09<00:00,  \n",
      "                 Class     Images  Instances      Box(P          R      mAP50  mAP50-95): 100%|██████████| 45/45 [00:16\n"
     ]
    },
    {
     "name": "stdout",
     "output_type": "stream",
     "text": [
      "                   all       1428       4552      0.799      0.703      0.755      0.498\n",
      "\n",
      "      Epoch    GPU_mem   box_loss   cls_loss   dfl_loss  Instances       Size\n"
     ]
    },
    {
     "name": "stderr",
     "output_type": "stream",
     "text": [
      "    162/250      10.8G     0.9399     0.6727      1.198         85       1280: 100%|██████████| 311/311 [01:54<00:00,  \n",
      "                 Class     Images  Instances      Box(P          R      mAP50  mAP50-95): 100%|██████████| 45/45 [00:15\n"
     ]
    },
    {
     "name": "stdout",
     "output_type": "stream",
     "text": [
      "                   all       1428       4552       0.79      0.708      0.756      0.499\n",
      "\n",
      "      Epoch    GPU_mem   box_loss   cls_loss   dfl_loss  Instances       Size\n"
     ]
    },
    {
     "name": "stderr",
     "output_type": "stream",
     "text": [
      "    163/250      11.1G     0.9354     0.6794      1.201        178       1280: 100%|██████████| 311/311 [01:54<00:00,  \n",
      "                 Class     Images  Instances      Box(P          R      mAP50  mAP50-95): 100%|██████████| 45/45 [00:17"
     ]
    },
    {
     "name": "stdout",
     "output_type": "stream",
     "text": [
      "                   all       1428       4552      0.788       0.71      0.756        0.5\n"
     ]
    },
    {
     "name": "stderr",
     "output_type": "stream",
     "text": [
      "\n"
     ]
    },
    {
     "name": "stdout",
     "output_type": "stream",
     "text": [
      "\n",
      "      Epoch    GPU_mem   box_loss   cls_loss   dfl_loss  Instances       Size\n"
     ]
    },
    {
     "name": "stderr",
     "output_type": "stream",
     "text": [
      "    164/250      11.2G     0.9414     0.6833      1.195         59       1280: 100%|██████████| 311/311 [01:54<00:00,  \n",
      "                 Class     Images  Instances      Box(P          R      mAP50  mAP50-95): 100%|██████████| 45/45 [00:17"
     ]
    },
    {
     "name": "stdout",
     "output_type": "stream",
     "text": [
      "                   all       1428       4552      0.787      0.706      0.756        0.5\n"
     ]
    },
    {
     "name": "stderr",
     "output_type": "stream",
     "text": [
      "\n"
     ]
    },
    {
     "name": "stdout",
     "output_type": "stream",
     "text": [
      "\n",
      "      Epoch    GPU_mem   box_loss   cls_loss   dfl_loss  Instances       Size\n"
     ]
    },
    {
     "name": "stderr",
     "output_type": "stream",
     "text": [
      "    165/250      12.2G     0.9402     0.6731       1.19         56       1280: 100%|██████████| 311/311 [01:56<00:00,  \n",
      "                 Class     Images  Instances      Box(P          R      mAP50  mAP50-95): 100%|██████████| 45/45 [00:15\n"
     ]
    },
    {
     "name": "stdout",
     "output_type": "stream",
     "text": [
      "                   all       1428       4552      0.785      0.706      0.755      0.499\n",
      "\n",
      "      Epoch    GPU_mem   box_loss   cls_loss   dfl_loss  Instances       Size\n"
     ]
    },
    {
     "name": "stderr",
     "output_type": "stream",
     "text": [
      "    166/250      11.1G     0.9221     0.6659      1.189         35       1280: 100%|██████████| 311/311 [01:54<00:00,  \n",
      "                 Class     Images  Instances      Box(P          R      mAP50  mAP50-95): 100%|██████████| 45/45 [00:31"
     ]
    },
    {
     "name": "stdout",
     "output_type": "stream",
     "text": [
      "                   all       1428       4552      0.778      0.711      0.757      0.499\n"
     ]
    },
    {
     "name": "stderr",
     "output_type": "stream",
     "text": [
      "\n"
     ]
    },
    {
     "name": "stdout",
     "output_type": "stream",
     "text": [
      "\n",
      "      Epoch    GPU_mem   box_loss   cls_loss   dfl_loss  Instances       Size\n"
     ]
    },
    {
     "name": "stderr",
     "output_type": "stream",
     "text": [
      "    167/250      11.8G      0.936      0.669      1.191         82       1280: 100%|██████████| 311/311 [01:55<00:00,  \n",
      "                 Class     Images  Instances      Box(P          R      mAP50  mAP50-95): 100%|██████████| 45/45 [00:16\n"
     ]
    },
    {
     "name": "stdout",
     "output_type": "stream",
     "text": [
      "                   all       1428       4552      0.769      0.718      0.757        0.5\n",
      "\n",
      "      Epoch    GPU_mem   box_loss   cls_loss   dfl_loss  Instances       Size\n"
     ]
    },
    {
     "name": "stderr",
     "output_type": "stream",
     "text": [
      "    168/250      11.5G      0.936     0.6724      1.191         69       1280: 100%|██████████| 311/311 [01:54<00:00,  \n",
      "                 Class     Images  Instances      Box(P          R      mAP50  mAP50-95): 100%|██████████| 45/45 [00:27"
     ]
    },
    {
     "name": "stdout",
     "output_type": "stream",
     "text": [
      "                   all       1428       4552      0.804      0.693      0.756      0.502\n"
     ]
    },
    {
     "name": "stderr",
     "output_type": "stream",
     "text": [
      "\n"
     ]
    },
    {
     "name": "stdout",
     "output_type": "stream",
     "text": [
      "\n",
      "      Epoch    GPU_mem   box_loss   cls_loss   dfl_loss  Instances       Size\n"
     ]
    },
    {
     "name": "stderr",
     "output_type": "stream",
     "text": [
      "    169/250      10.8G     0.9332     0.6728       1.19        142       1280: 100%|██████████| 311/311 [01:55<00:00,  \n",
      "                 Class     Images  Instances      Box(P          R      mAP50  mAP50-95): 100%|██████████| 45/45 [00:15"
     ]
    },
    {
     "name": "stdout",
     "output_type": "stream",
     "text": [
      "                   all       1428       4552      0.797      0.698      0.757      0.502\n"
     ]
    },
    {
     "name": "stderr",
     "output_type": "stream",
     "text": [
      "\n"
     ]
    },
    {
     "name": "stdout",
     "output_type": "stream",
     "text": [
      "\n",
      "      Epoch    GPU_mem   box_loss   cls_loss   dfl_loss  Instances       Size\n"
     ]
    },
    {
     "name": "stderr",
     "output_type": "stream",
     "text": [
      "    170/250      11.5G     0.9206     0.6643      1.188         66       1280: 100%|██████████| 311/311 [01:55<00:00,  \n",
      "                 Class     Images  Instances      Box(P          R      mAP50  mAP50-95): 100%|██████████| 45/45 [00:17\n"
     ]
    },
    {
     "name": "stdout",
     "output_type": "stream",
     "text": [
      "                   all       1428       4552      0.802      0.697      0.757      0.503\n",
      "\n",
      "      Epoch    GPU_mem   box_loss   cls_loss   dfl_loss  Instances       Size\n"
     ]
    },
    {
     "name": "stderr",
     "output_type": "stream",
     "text": [
      "    171/250      10.1G     0.9098     0.6508      1.179         59       1280: 100%|██████████| 311/311 [01:54<00:00,  \n",
      "                 Class     Images  Instances      Box(P          R      mAP50  mAP50-95): 100%|██████████| 45/45 [00:17\n"
     ]
    },
    {
     "name": "stdout",
     "output_type": "stream",
     "text": [
      "                   all       1428       4552      0.804        0.7      0.757      0.504\n",
      "\n",
      "      Epoch    GPU_mem   box_loss   cls_loss   dfl_loss  Instances       Size\n"
     ]
    },
    {
     "name": "stderr",
     "output_type": "stream",
     "text": [
      "    172/250      10.6G     0.9264     0.6668       1.18         42       1280: 100%|██████████| 311/311 [01:55<00:00,  \n",
      "                 Class     Images  Instances      Box(P          R      mAP50  mAP50-95): 100%|██████████| 45/45 [00:16"
     ]
    },
    {
     "name": "stdout",
     "output_type": "stream",
     "text": [
      "                   all       1428       4552      0.799      0.699      0.757      0.505\n"
     ]
    },
    {
     "name": "stderr",
     "output_type": "stream",
     "text": [
      "\n"
     ]
    },
    {
     "name": "stdout",
     "output_type": "stream",
     "text": [
      "\n",
      "      Epoch    GPU_mem   box_loss   cls_loss   dfl_loss  Instances       Size\n"
     ]
    },
    {
     "name": "stderr",
     "output_type": "stream",
     "text": [
      "    173/250      11.5G     0.9229     0.6619      1.184         79       1280: 100%|██████████| 311/311 [01:55<00:00,  \n",
      "                 Class     Images  Instances      Box(P          R      mAP50  mAP50-95): 100%|██████████| 45/45 [00:16"
     ]
    },
    {
     "name": "stdout",
     "output_type": "stream",
     "text": [
      "                   all       1428       4552      0.791      0.707      0.757      0.505\n"
     ]
    },
    {
     "name": "stderr",
     "output_type": "stream",
     "text": [
      "\n"
     ]
    },
    {
     "name": "stdout",
     "output_type": "stream",
     "text": [
      "\n",
      "      Epoch    GPU_mem   box_loss   cls_loss   dfl_loss  Instances       Size\n"
     ]
    },
    {
     "name": "stderr",
     "output_type": "stream",
     "text": [
      "    174/250      11.8G     0.9211     0.6582      1.184         93       1280: 100%|██████████| 311/311 [05:33<00:00,  \n",
      "                 Class     Images  Instances      Box(P          R      mAP50  mAP50-95): 100%|██████████| 45/45 [00:52"
     ]
    },
    {
     "name": "stdout",
     "output_type": "stream",
     "text": [
      "                   all       1428       4552      0.787      0.708      0.757      0.505\n"
     ]
    },
    {
     "name": "stderr",
     "output_type": "stream",
     "text": [
      "\n"
     ]
    },
    {
     "name": "stdout",
     "output_type": "stream",
     "text": [
      "\n",
      "      Epoch    GPU_mem   box_loss   cls_loss   dfl_loss  Instances       Size\n"
     ]
    },
    {
     "name": "stderr",
     "output_type": "stream",
     "text": [
      "    175/250      11.6G      0.922     0.6621      1.183         80       1280: 100%|██████████| 311/311 [01:56<00:00,  \n",
      "                 Class     Images  Instances      Box(P          R      mAP50  mAP50-95): 100%|██████████| 45/45 [00:16"
     ]
    },
    {
     "name": "stdout",
     "output_type": "stream",
     "text": [
      "                   all       1428       4552      0.778      0.715      0.757      0.505\n"
     ]
    },
    {
     "name": "stderr",
     "output_type": "stream",
     "text": [
      "\n"
     ]
    },
    {
     "name": "stdout",
     "output_type": "stream",
     "text": [
      "\n",
      "      Epoch    GPU_mem   box_loss   cls_loss   dfl_loss  Instances       Size\n"
     ]
    },
    {
     "name": "stderr",
     "output_type": "stream",
     "text": [
      "    176/250      10.8G     0.9131     0.6512      1.183        104       1280: 100%|██████████| 311/311 [03:20<00:00,  \n",
      "                 Class     Images  Instances      Box(P          R      mAP50  mAP50-95): 100%|██████████| 45/45 [00:44"
     ]
    },
    {
     "name": "stdout",
     "output_type": "stream",
     "text": [
      "                   all       1428       4552      0.778      0.715      0.757      0.505\n"
     ]
    },
    {
     "name": "stderr",
     "output_type": "stream",
     "text": [
      "\n"
     ]
    },
    {
     "name": "stdout",
     "output_type": "stream",
     "text": [
      "\n",
      "      Epoch    GPU_mem   box_loss   cls_loss   dfl_loss  Instances       Size\n"
     ]
    },
    {
     "name": "stderr",
     "output_type": "stream",
     "text": [
      "    177/250       9.9G     0.9138      0.656      1.175         62       1280: 100%|██████████| 311/311 [01:54<00:00,  \n",
      "                 Class     Images  Instances      Box(P          R      mAP50  mAP50-95): 100%|██████████| 45/45 [00:15\n"
     ]
    },
    {
     "name": "stdout",
     "output_type": "stream",
     "text": [
      "                   all       1428       4552      0.785      0.712      0.758      0.505\n",
      "\n",
      "      Epoch    GPU_mem   box_loss   cls_loss   dfl_loss  Instances       Size\n"
     ]
    },
    {
     "name": "stderr",
     "output_type": "stream",
     "text": [
      "    178/250      11.5G     0.8964     0.6441      1.171        109       1280: 100%|██████████| 311/311 [01:55<00:00,  \n",
      "                 Class     Images  Instances      Box(P          R      mAP50  mAP50-95): 100%|██████████| 45/45 [00:31"
     ]
    },
    {
     "name": "stdout",
     "output_type": "stream",
     "text": [
      "                   all       1428       4552      0.788      0.715      0.758      0.505\n"
     ]
    },
    {
     "name": "stderr",
     "output_type": "stream",
     "text": [
      "\n"
     ]
    },
    {
     "name": "stdout",
     "output_type": "stream",
     "text": [
      "\n",
      "      Epoch    GPU_mem   box_loss   cls_loss   dfl_loss  Instances       Size\n"
     ]
    },
    {
     "name": "stderr",
     "output_type": "stream",
     "text": [
      "    179/250      10.9G     0.8997     0.6455      1.171         73       1280: 100%|██████████| 311/311 [01:54<00:00,  \n",
      "                 Class     Images  Instances      Box(P          R      mAP50  mAP50-95): 100%|██████████| 45/45 [00:16"
     ]
    },
    {
     "name": "stdout",
     "output_type": "stream",
     "text": [
      "                   all       1428       4552      0.788      0.715      0.758      0.505\n"
     ]
    },
    {
     "name": "stderr",
     "output_type": "stream",
     "text": [
      "\n"
     ]
    },
    {
     "name": "stdout",
     "output_type": "stream",
     "text": [
      "\n",
      "      Epoch    GPU_mem   box_loss   cls_loss   dfl_loss  Instances       Size\n"
     ]
    },
    {
     "name": "stderr",
     "output_type": "stream",
     "text": [
      "    180/250      11.4G     0.8916     0.6405      1.173         72       1280: 100%|██████████| 311/311 [01:56<00:00,  \n",
      "                 Class     Images  Instances      Box(P          R      mAP50  mAP50-95): 100%|██████████| 45/45 [00:29"
     ]
    },
    {
     "name": "stdout",
     "output_type": "stream",
     "text": [
      "                   all       1428       4552      0.782      0.719      0.758      0.504\n"
     ]
    },
    {
     "name": "stderr",
     "output_type": "stream",
     "text": [
      "\n"
     ]
    },
    {
     "name": "stdout",
     "output_type": "stream",
     "text": [
      "\n",
      "      Epoch    GPU_mem   box_loss   cls_loss   dfl_loss  Instances       Size\n"
     ]
    },
    {
     "name": "stderr",
     "output_type": "stream",
     "text": [
      "    181/250      11.1G     0.8993     0.6456      1.167         68       1280: 100%|██████████| 311/311 [01:55<00:00,  \n",
      "                 Class     Images  Instances      Box(P          R      mAP50  mAP50-95): 100%|██████████| 45/45 [00:15"
     ]
    },
    {
     "name": "stdout",
     "output_type": "stream",
     "text": [
      "                   all       1428       4552      0.779       0.72      0.759      0.505\n"
     ]
    },
    {
     "name": "stderr",
     "output_type": "stream",
     "text": [
      "\n"
     ]
    },
    {
     "name": "stdout",
     "output_type": "stream",
     "text": [
      "\n",
      "      Epoch    GPU_mem   box_loss   cls_loss   dfl_loss  Instances       Size\n"
     ]
    },
    {
     "name": "stderr",
     "output_type": "stream",
     "text": [
      "    182/250      11.9G     0.9074     0.6475      1.173         59       1280: 100%|██████████| 311/311 [03:31<00:00,  \n",
      "                 Class     Images  Instances      Box(P          R      mAP50  mAP50-95): 100%|██████████| 45/45 [00:51"
     ]
    },
    {
     "name": "stdout",
     "output_type": "stream",
     "text": [
      "                   all       1428       4552      0.777      0.723      0.759      0.505\n"
     ]
    },
    {
     "name": "stderr",
     "output_type": "stream",
     "text": [
      "\n"
     ]
    },
    {
     "name": "stdout",
     "output_type": "stream",
     "text": [
      "\n",
      "      Epoch    GPU_mem   box_loss   cls_loss   dfl_loss  Instances       Size\n"
     ]
    },
    {
     "name": "stderr",
     "output_type": "stream",
     "text": [
      "    183/250      12.1G     0.8944     0.6415      1.166         97       1280: 100%|██████████| 311/311 [01:56<00:00,  \n",
      "                 Class     Images  Instances      Box(P          R      mAP50  mAP50-95): 100%|██████████| 45/45 [00:15"
     ]
    },
    {
     "name": "stdout",
     "output_type": "stream",
     "text": [
      "                   all       1428       4552      0.774      0.725      0.759      0.506\n"
     ]
    },
    {
     "name": "stderr",
     "output_type": "stream",
     "text": [
      "\n"
     ]
    },
    {
     "name": "stdout",
     "output_type": "stream",
     "text": [
      "\n",
      "      Epoch    GPU_mem   box_loss   cls_loss   dfl_loss  Instances       Size\n"
     ]
    },
    {
     "name": "stderr",
     "output_type": "stream",
     "text": [
      "    184/250      10.8G     0.8843     0.6306      1.158         57       1280: 100%|██████████| 311/311 [02:30<00:00,  \n",
      "                 Class     Images  Instances      Box(P          R      mAP50  mAP50-95): 100%|██████████| 45/45 [00:33"
     ]
    },
    {
     "name": "stdout",
     "output_type": "stream",
     "text": [
      "                   all       1428       4552      0.776      0.726       0.76      0.507\n"
     ]
    },
    {
     "name": "stderr",
     "output_type": "stream",
     "text": [
      "\n"
     ]
    },
    {
     "name": "stdout",
     "output_type": "stream",
     "text": [
      "\n",
      "      Epoch    GPU_mem   box_loss   cls_loss   dfl_loss  Instances       Size\n"
     ]
    },
    {
     "name": "stderr",
     "output_type": "stream",
     "text": [
      "    185/250      11.9G     0.8945     0.6362      1.163         67       1280: 100%|██████████| 311/311 [02:00<00:00,  \n",
      "                 Class     Images  Instances      Box(P          R      mAP50  mAP50-95): 100%|██████████| 45/45 [00:17"
     ]
    },
    {
     "name": "stdout",
     "output_type": "stream",
     "text": [
      "                   all       1428       4552      0.773      0.726      0.759      0.506\n"
     ]
    },
    {
     "name": "stderr",
     "output_type": "stream",
     "text": [
      "\n"
     ]
    },
    {
     "name": "stdout",
     "output_type": "stream",
     "text": [
      "\n",
      "      Epoch    GPU_mem   box_loss   cls_loss   dfl_loss  Instances       Size\n"
     ]
    },
    {
     "name": "stderr",
     "output_type": "stream",
     "text": [
      "    186/250      12.4G     0.8954     0.6351      1.158         76       1280: 100%|██████████| 311/311 [01:56<00:00,  \n",
      "                 Class     Images  Instances      Box(P          R      mAP50  mAP50-95): 100%|██████████| 45/45 [00:26\n"
     ]
    },
    {
     "name": "stdout",
     "output_type": "stream",
     "text": [
      "                   all       1428       4552      0.772      0.727      0.759      0.506\n",
      "\n",
      "      Epoch    GPU_mem   box_loss   cls_loss   dfl_loss  Instances       Size\n"
     ]
    },
    {
     "name": "stderr",
     "output_type": "stream",
     "text": [
      "    187/250      11.6G     0.8917     0.6305      1.162        160       1280: 100%|██████████| 311/311 [01:55<00:00,  \n",
      "                 Class     Images  Instances      Box(P          R      mAP50  mAP50-95): 100%|██████████| 45/45 [00:17\n"
     ]
    },
    {
     "name": "stdout",
     "output_type": "stream",
     "text": [
      "                   all       1428       4552      0.774      0.726      0.759      0.506\n",
      "\n",
      "      Epoch    GPU_mem   box_loss   cls_loss   dfl_loss  Instances       Size\n"
     ]
    },
    {
     "name": "stderr",
     "output_type": "stream",
     "text": [
      "    188/250      12.6G      0.879     0.6263      1.158         68       1280: 100%|██████████| 311/311 [01:57<00:00,  \n",
      "                 Class     Images  Instances      Box(P          R      mAP50  mAP50-95): 100%|██████████| 45/45 [00:26"
     ]
    },
    {
     "name": "stdout",
     "output_type": "stream",
     "text": [
      "                   all       1428       4552      0.775      0.724      0.759      0.506\n"
     ]
    },
    {
     "name": "stderr",
     "output_type": "stream",
     "text": [
      "\n"
     ]
    },
    {
     "name": "stdout",
     "output_type": "stream",
     "text": [
      "\n",
      "      Epoch    GPU_mem   box_loss   cls_loss   dfl_loss  Instances       Size\n"
     ]
    },
    {
     "name": "stderr",
     "output_type": "stream",
     "text": [
      "    189/250      10.6G     0.8845     0.6248      1.158         57       1280: 100%|██████████| 311/311 [01:54<00:00,  \n",
      "                 Class     Images  Instances      Box(P          R      mAP50  mAP50-95): 100%|██████████| 45/45 [00:15\n"
     ]
    },
    {
     "name": "stdout",
     "output_type": "stream",
     "text": [
      "                   all       1428       4552      0.777      0.722      0.759      0.507\n",
      "\n",
      "      Epoch    GPU_mem   box_loss   cls_loss   dfl_loss  Instances       Size\n"
     ]
    },
    {
     "name": "stderr",
     "output_type": "stream",
     "text": [
      "    190/250      13.2G     0.8974     0.6314      1.159         53       1280: 100%|██████████| 311/311 [01:58<00:00,  \n",
      "                 Class     Images  Instances      Box(P          R      mAP50  mAP50-95): 100%|██████████| 45/45 [00:32"
     ]
    },
    {
     "name": "stdout",
     "output_type": "stream",
     "text": [
      "                   all       1428       4552      0.775      0.724      0.759      0.507\n"
     ]
    },
    {
     "name": "stderr",
     "output_type": "stream",
     "text": [
      "\n"
     ]
    },
    {
     "name": "stdout",
     "output_type": "stream",
     "text": [
      "\n",
      "      Epoch    GPU_mem   box_loss   cls_loss   dfl_loss  Instances       Size\n"
     ]
    },
    {
     "name": "stderr",
     "output_type": "stream",
     "text": [
      "    191/250        11G     0.8775     0.6243      1.159        111       1280: 100%|██████████| 311/311 [01:59<00:00,  \n",
      "                 Class     Images  Instances      Box(P          R      mAP50  mAP50-95): 100%|██████████| 45/45 [00:16\n"
     ]
    },
    {
     "name": "stdout",
     "output_type": "stream",
     "text": [
      "                   all       1428       4552      0.772      0.723      0.759      0.507\n",
      "\n",
      "      Epoch    GPU_mem   box_loss   cls_loss   dfl_loss  Instances       Size\n"
     ]
    },
    {
     "name": "stderr",
     "output_type": "stream",
     "text": [
      "    192/250      11.4G     0.8761     0.6171       1.15         70       1280: 100%|██████████| 311/311 [01:54<00:00,  \n",
      "                 Class     Images  Instances      Box(P          R      mAP50  mAP50-95): 100%|██████████| 45/45 [00:17\n"
     ]
    },
    {
     "name": "stdout",
     "output_type": "stream",
     "text": [
      "                   all       1428       4552      0.776      0.721      0.759      0.507\n",
      "\n",
      "      Epoch    GPU_mem   box_loss   cls_loss   dfl_loss  Instances       Size\n"
     ]
    },
    {
     "name": "stderr",
     "output_type": "stream",
     "text": [
      "    193/250      10.4G     0.8763     0.6253      1.157         43       1280: 100%|██████████| 311/311 [01:54<00:00,  \n",
      "                 Class     Images  Instances      Box(P          R      mAP50  mAP50-95): 100%|██████████| 45/45 [00:15"
     ]
    },
    {
     "name": "stdout",
     "output_type": "stream",
     "text": [
      "                   all       1428       4552      0.779      0.721      0.759      0.508\n"
     ]
    },
    {
     "name": "stderr",
     "output_type": "stream",
     "text": [
      "\n"
     ]
    },
    {
     "name": "stdout",
     "output_type": "stream",
     "text": [
      "\n",
      "      Epoch    GPU_mem   box_loss   cls_loss   dfl_loss  Instances       Size\n"
     ]
    },
    {
     "name": "stderr",
     "output_type": "stream",
     "text": [
      "    194/250      11.2G     0.8752      0.616      1.151         62       1280: 100%|██████████| 311/311 [01:54<00:00,  \n",
      "                 Class     Images  Instances      Box(P          R      mAP50  mAP50-95): 100%|██████████| 45/45 [00:17"
     ]
    },
    {
     "name": "stdout",
     "output_type": "stream",
     "text": [
      "                   all       1428       4552      0.782       0.72      0.759      0.506\n"
     ]
    },
    {
     "name": "stderr",
     "output_type": "stream",
     "text": [
      "\n"
     ]
    },
    {
     "name": "stdout",
     "output_type": "stream",
     "text": [
      "\n",
      "      Epoch    GPU_mem   box_loss   cls_loss   dfl_loss  Instances       Size\n"
     ]
    },
    {
     "name": "stderr",
     "output_type": "stream",
     "text": [
      "    195/250      10.1G     0.8785     0.6184      1.142        114       1280: 100%|██████████| 311/311 [01:53<00:00,  \n",
      "                 Class     Images  Instances      Box(P          R      mAP50  mAP50-95): 100%|██████████| 45/45 [00:28"
     ]
    },
    {
     "name": "stdout",
     "output_type": "stream",
     "text": [
      "                   all       1428       4552      0.785      0.718      0.758      0.507\n"
     ]
    },
    {
     "name": "stderr",
     "output_type": "stream",
     "text": [
      "\n"
     ]
    },
    {
     "name": "stdout",
     "output_type": "stream",
     "text": [
      "\n",
      "      Epoch    GPU_mem   box_loss   cls_loss   dfl_loss  Instances       Size\n"
     ]
    },
    {
     "name": "stderr",
     "output_type": "stream",
     "text": [
      "    196/250      10.7G      0.879     0.6206       1.15         71       1280: 100%|██████████| 311/311 [01:54<00:00,  \n",
      "                 Class     Images  Instances      Box(P          R      mAP50  mAP50-95): 100%|██████████| 45/45 [00:16"
     ]
    },
    {
     "name": "stdout",
     "output_type": "stream",
     "text": [
      "                   all       1428       4552      0.785      0.716      0.758      0.508\n"
     ]
    },
    {
     "name": "stderr",
     "output_type": "stream",
     "text": [
      "\n"
     ]
    },
    {
     "name": "stdout",
     "output_type": "stream",
     "text": [
      "\n",
      "      Epoch    GPU_mem   box_loss   cls_loss   dfl_loss  Instances       Size\n"
     ]
    },
    {
     "name": "stderr",
     "output_type": "stream",
     "text": [
      "    197/250      11.7G     0.8783     0.6187      1.154         68       1280: 100%|██████████| 311/311 [02:48<00:00,  \n",
      "                 Class     Images  Instances      Box(P          R      mAP50  mAP50-95): 100%|██████████| 45/45 [00:52"
     ]
    },
    {
     "name": "stdout",
     "output_type": "stream",
     "text": [
      "                   all       1428       4552      0.787      0.713      0.759      0.508\n"
     ]
    },
    {
     "name": "stderr",
     "output_type": "stream",
     "text": [
      "\n"
     ]
    },
    {
     "name": "stdout",
     "output_type": "stream",
     "text": [
      "\n",
      "      Epoch    GPU_mem   box_loss   cls_loss   dfl_loss  Instances       Size\n"
     ]
    },
    {
     "name": "stderr",
     "output_type": "stream",
     "text": [
      "    198/250        10G     0.8617     0.6073      1.147         80       1280: 100%|██████████| 311/311 [01:55<00:00,  \n",
      "                 Class     Images  Instances      Box(P          R      mAP50  mAP50-95): 100%|██████████| 45/45 [00:15"
     ]
    },
    {
     "name": "stdout",
     "output_type": "stream",
     "text": [
      "                   all       1428       4552      0.789      0.715      0.759      0.508\n"
     ]
    },
    {
     "name": "stderr",
     "output_type": "stream",
     "text": [
      "\n"
     ]
    },
    {
     "name": "stdout",
     "output_type": "stream",
     "text": [
      "\n",
      "      Epoch    GPU_mem   box_loss   cls_loss   dfl_loss  Instances       Size\n"
     ]
    },
    {
     "name": "stderr",
     "output_type": "stream",
     "text": [
      "    199/250      12.3G     0.8741     0.6124      1.154         92       1280: 100%|██████████| 311/311 [01:55<00:00,  \n",
      "                 Class     Images  Instances      Box(P          R      mAP50  mAP50-95): 100%|██████████| 45/45 [00:30"
     ]
    },
    {
     "name": "stdout",
     "output_type": "stream",
     "text": [
      "                   all       1428       4552      0.788      0.715      0.758      0.507\n"
     ]
    },
    {
     "name": "stderr",
     "output_type": "stream",
     "text": [
      "\n"
     ]
    },
    {
     "name": "stdout",
     "output_type": "stream",
     "text": [
      "\n",
      "      Epoch    GPU_mem   box_loss   cls_loss   dfl_loss  Instances       Size\n"
     ]
    },
    {
     "name": "stderr",
     "output_type": "stream",
     "text": [
      "    200/250      12.4G     0.8652     0.6145      1.147         86       1280: 100%|██████████| 311/311 [02:01<00:00,  \n",
      "                 Class     Images  Instances      Box(P          R      mAP50  mAP50-95): 100%|██████████| 45/45 [00:14"
     ]
    },
    {
     "name": "stdout",
     "output_type": "stream",
     "text": [
      "                   all       1428       4552      0.785      0.715      0.758      0.507\n"
     ]
    },
    {
     "name": "stderr",
     "output_type": "stream",
     "text": [
      "\n"
     ]
    },
    {
     "name": "stdout",
     "output_type": "stream",
     "text": [
      "\n",
      "      Epoch    GPU_mem   box_loss   cls_loss   dfl_loss  Instances       Size\n"
     ]
    },
    {
     "name": "stderr",
     "output_type": "stream",
     "text": [
      "    201/250      11.1G     0.8526     0.6026      1.139         75       1280: 100%|██████████| 311/311 [02:06<00:00,  \n",
      "                 Class     Images  Instances      Box(P          R      mAP50  mAP50-95): 100%|██████████| 45/45 [00:39"
     ]
    },
    {
     "name": "stdout",
     "output_type": "stream",
     "text": [
      "                   all       1428       4552      0.782      0.717      0.758      0.507\n"
     ]
    },
    {
     "name": "stderr",
     "output_type": "stream",
     "text": [
      "\n"
     ]
    },
    {
     "name": "stdout",
     "output_type": "stream",
     "text": [
      "\n",
      "      Epoch    GPU_mem   box_loss   cls_loss   dfl_loss  Instances       Size\n"
     ]
    },
    {
     "name": "stderr",
     "output_type": "stream",
     "text": [
      "    202/250      10.7G     0.8788      0.617      1.142         96       1280: 100%|██████████| 311/311 [01:55<00:00,  \n",
      "                 Class     Images  Instances      Box(P          R      mAP50  mAP50-95): 100%|██████████| 45/45 [00:17"
     ]
    },
    {
     "name": "stdout",
     "output_type": "stream",
     "text": [
      "                   all       1428       4552      0.782      0.717      0.758      0.507\n"
     ]
    },
    {
     "name": "stderr",
     "output_type": "stream",
     "text": [
      "\n"
     ]
    },
    {
     "name": "stdout",
     "output_type": "stream",
     "text": [
      "\n",
      "      Epoch    GPU_mem   box_loss   cls_loss   dfl_loss  Instances       Size\n"
     ]
    },
    {
     "name": "stderr",
     "output_type": "stream",
     "text": [
      "    203/250      10.7G      0.861     0.6072      1.144         78       1280: 100%|██████████| 311/311 [01:54<00:00,  \n",
      "                 Class     Images  Instances      Box(P          R      mAP50  mAP50-95): 100%|██████████| 45/45 [00:17"
     ]
    },
    {
     "name": "stdout",
     "output_type": "stream",
     "text": [
      "                   all       1428       4552      0.784      0.715      0.758      0.507\n"
     ]
    },
    {
     "name": "stderr",
     "output_type": "stream",
     "text": [
      "\n"
     ]
    },
    {
     "name": "stdout",
     "output_type": "stream",
     "text": [
      "\n",
      "      Epoch    GPU_mem   box_loss   cls_loss   dfl_loss  Instances       Size\n"
     ]
    },
    {
     "name": "stderr",
     "output_type": "stream",
     "text": [
      "    204/250        12G     0.8693     0.6049      1.143         68       1280: 100%|██████████| 311/311 [01:54<00:00,  \n",
      "                 Class     Images  Instances      Box(P          R      mAP50  mAP50-95): 100%|██████████| 45/45 [00:31\n"
     ]
    },
    {
     "name": "stdout",
     "output_type": "stream",
     "text": [
      "                   all       1428       4552      0.779      0.718      0.758      0.506\n",
      "\n",
      "      Epoch    GPU_mem   box_loss   cls_loss   dfl_loss  Instances       Size\n"
     ]
    },
    {
     "name": "stderr",
     "output_type": "stream",
     "text": [
      "    205/250      11.6G       0.85     0.5985      1.141        108       1280: 100%|██████████| 311/311 [01:54<00:00,  \n",
      "                 Class     Images  Instances      Box(P          R      mAP50  mAP50-95): 100%|██████████| 45/45 [00:17"
     ]
    },
    {
     "name": "stdout",
     "output_type": "stream",
     "text": [
      "                   all       1428       4552       0.78      0.717      0.758      0.507\n"
     ]
    },
    {
     "name": "stderr",
     "output_type": "stream",
     "text": [
      "\n"
     ]
    },
    {
     "name": "stdout",
     "output_type": "stream",
     "text": [
      "\n",
      "      Epoch    GPU_mem   box_loss   cls_loss   dfl_loss  Instances       Size\n"
     ]
    },
    {
     "name": "stderr",
     "output_type": "stream",
     "text": [
      "    206/250      10.6G     0.8529     0.6005      1.141         63       1280: 100%|██████████| 311/311 [01:54<00:00,  \n",
      "                 Class     Images  Instances      Box(P          R      mAP50  mAP50-95): 100%|██████████| 45/45 [00:17\n"
     ]
    },
    {
     "name": "stdout",
     "output_type": "stream",
     "text": [
      "                   all       1428       4552      0.781      0.717      0.758      0.507\n",
      "\n",
      "      Epoch    GPU_mem   box_loss   cls_loss   dfl_loss  Instances       Size\n"
     ]
    },
    {
     "name": "stderr",
     "output_type": "stream",
     "text": [
      "    207/250      11.3G     0.8543     0.5977      1.141         93       1280: 100%|██████████| 311/311 [01:56<00:00,  \n",
      "                 Class     Images  Instances      Box(P          R      mAP50  mAP50-95): 100%|██████████| 45/45 [00:16\n"
     ]
    },
    {
     "name": "stdout",
     "output_type": "stream",
     "text": [
      "                   all       1428       4552      0.783      0.717      0.757      0.507\n",
      "\n",
      "      Epoch    GPU_mem   box_loss   cls_loss   dfl_loss  Instances       Size\n"
     ]
    },
    {
     "name": "stderr",
     "output_type": "stream",
     "text": [
      "    208/250      10.8G     0.8525     0.5926      1.135         54       1280: 100%|██████████| 311/311 [01:53<00:00,  \n",
      "                 Class     Images  Instances      Box(P          R      mAP50  mAP50-95): 100%|██████████| 45/45 [00:15\n"
     ]
    },
    {
     "name": "stdout",
     "output_type": "stream",
     "text": [
      "                   all       1428       4552      0.782      0.717      0.757      0.508\n",
      "\n",
      "      Epoch    GPU_mem   box_loss   cls_loss   dfl_loss  Instances       Size\n"
     ]
    },
    {
     "name": "stderr",
     "output_type": "stream",
     "text": [
      "    209/250      12.3G     0.8556     0.5987      1.131        148       1280: 100%|██████████| 311/311 [01:55<00:00,  \n",
      "                 Class     Images  Instances      Box(P          R      mAP50  mAP50-95): 100%|██████████| 45/45 [00:16"
     ]
    },
    {
     "name": "stdout",
     "output_type": "stream",
     "text": [
      "                   all       1428       4552      0.782      0.717      0.757      0.507\n"
     ]
    },
    {
     "name": "stderr",
     "output_type": "stream",
     "text": [
      "\n"
     ]
    },
    {
     "name": "stdout",
     "output_type": "stream",
     "text": [
      "\n",
      "      Epoch    GPU_mem   box_loss   cls_loss   dfl_loss  Instances       Size\n"
     ]
    },
    {
     "name": "stderr",
     "output_type": "stream",
     "text": [
      "    210/250      11.4G     0.8426     0.5878       1.13         54       1280: 100%|██████████| 311/311 [01:55<00:00,  \n",
      "                 Class     Images  Instances      Box(P          R      mAP50  mAP50-95): 100%|██████████| 45/45 [00:27"
     ]
    },
    {
     "name": "stdout",
     "output_type": "stream",
     "text": [
      "                   all       1428       4552      0.781      0.717      0.757      0.507\n"
     ]
    },
    {
     "name": "stderr",
     "output_type": "stream",
     "text": [
      "\n"
     ]
    },
    {
     "name": "stdout",
     "output_type": "stream",
     "text": [
      "\n",
      "      Epoch    GPU_mem   box_loss   cls_loss   dfl_loss  Instances       Size\n"
     ]
    },
    {
     "name": "stderr",
     "output_type": "stream",
     "text": [
      "    211/250      10.5G     0.8452     0.5948      1.139         87       1280: 100%|██████████| 311/311 [01:54<00:00,  \n",
      "                 Class     Images  Instances      Box(P          R      mAP50  mAP50-95): 100%|██████████| 45/45 [00:16"
     ]
    },
    {
     "name": "stdout",
     "output_type": "stream",
     "text": [
      "                   all       1428       4552      0.779      0.718      0.757      0.507\n"
     ]
    },
    {
     "name": "stderr",
     "output_type": "stream",
     "text": [
      "\n"
     ]
    },
    {
     "name": "stdout",
     "output_type": "stream",
     "text": [
      "\n",
      "      Epoch    GPU_mem   box_loss   cls_loss   dfl_loss  Instances       Size\n"
     ]
    },
    {
     "name": "stderr",
     "output_type": "stream",
     "text": [
      "    212/250      11.7G     0.8404     0.5838      1.123         63       1280: 100%|██████████| 311/311 [01:55<00:00,  \n",
      "                 Class     Images  Instances      Box(P          R      mAP50  mAP50-95): 100%|██████████| 45/45 [00:31"
     ]
    },
    {
     "name": "stdout",
     "output_type": "stream",
     "text": [
      "                   all       1428       4552      0.783      0.718      0.757      0.507\n"
     ]
    },
    {
     "name": "stderr",
     "output_type": "stream",
     "text": [
      "\n"
     ]
    },
    {
     "name": "stdout",
     "output_type": "stream",
     "text": [
      "\n",
      "      Epoch    GPU_mem   box_loss   cls_loss   dfl_loss  Instances       Size\n"
     ]
    },
    {
     "name": "stderr",
     "output_type": "stream",
     "text": [
      "    213/250      11.3G     0.8355     0.5843      1.124         60       1280: 100%|██████████| 311/311 [01:56<00:00,  \n",
      "                 Class     Images  Instances      Box(P          R      mAP50  mAP50-95): 100%|██████████| 45/45 [00:16"
     ]
    },
    {
     "name": "stdout",
     "output_type": "stream",
     "text": [
      "                   all       1428       4552      0.775      0.723      0.757      0.507\n"
     ]
    },
    {
     "name": "stderr",
     "output_type": "stream",
     "text": [
      "\n"
     ]
    },
    {
     "name": "stdout",
     "output_type": "stream",
     "text": [
      "\n",
      "      Epoch    GPU_mem   box_loss   cls_loss   dfl_loss  Instances       Size\n"
     ]
    },
    {
     "name": "stderr",
     "output_type": "stream",
     "text": [
      "    214/250      9.72G     0.8357     0.5873      1.128         79       1280: 100%|██████████| 311/311 [01:54<00:00,  \n",
      "                 Class     Images  Instances      Box(P          R      mAP50  mAP50-95): 100%|██████████| 45/45 [00:16\n"
     ]
    },
    {
     "name": "stdout",
     "output_type": "stream",
     "text": [
      "                   all       1428       4552      0.785      0.719      0.757      0.507\n",
      "\n",
      "      Epoch    GPU_mem   box_loss   cls_loss   dfl_loss  Instances       Size\n"
     ]
    },
    {
     "name": "stderr",
     "output_type": "stream",
     "text": [
      "    215/250      9.56G     0.8476     0.5877      1.129         60       1280: 100%|██████████| 311/311 [01:53<00:00,  \n",
      "                 Class     Images  Instances      Box(P          R      mAP50  mAP50-95): 100%|██████████| 45/45 [00:14\n"
     ]
    },
    {
     "name": "stdout",
     "output_type": "stream",
     "text": [
      "                   all       1428       4552      0.776      0.726      0.757      0.506\n",
      "\n",
      "      Epoch    GPU_mem   box_loss   cls_loss   dfl_loss  Instances       Size\n"
     ]
    },
    {
     "name": "stderr",
     "output_type": "stream",
     "text": [
      "    216/250        10G     0.8351     0.5801      1.125         73       1280: 100%|██████████| 311/311 [01:55<00:00,  \n",
      "                 Class     Images  Instances      Box(P          R      mAP50  mAP50-95): 100%|██████████| 45/45 [00:16"
     ]
    },
    {
     "name": "stdout",
     "output_type": "stream",
     "text": [
      "                   all       1428       4552      0.778      0.722      0.757      0.506\n"
     ]
    },
    {
     "name": "stderr",
     "output_type": "stream",
     "text": [
      "\n"
     ]
    },
    {
     "name": "stdout",
     "output_type": "stream",
     "text": [
      "\n",
      "      Epoch    GPU_mem   box_loss   cls_loss   dfl_loss  Instances       Size\n"
     ]
    },
    {
     "name": "stderr",
     "output_type": "stream",
     "text": [
      "    217/250      10.7G       0.83      0.576      1.124         71       1280: 100%|██████████| 311/311 [02:01<00:00,  \n",
      "                 Class     Images  Instances      Box(P          R      mAP50  mAP50-95): 100%|██████████| 45/45 [00:30"
     ]
    },
    {
     "name": "stdout",
     "output_type": "stream",
     "text": [
      "                   all       1428       4552      0.776      0.725      0.757      0.506\n"
     ]
    },
    {
     "name": "stderr",
     "output_type": "stream",
     "text": [
      "\n"
     ]
    },
    {
     "name": "stdout",
     "output_type": "stream",
     "text": [
      "\n",
      "      Epoch    GPU_mem   box_loss   cls_loss   dfl_loss  Instances       Size\n"
     ]
    },
    {
     "name": "stderr",
     "output_type": "stream",
     "text": [
      "    218/250      11.3G     0.8233     0.5747      1.121         79       1280: 100%|██████████| 311/311 [02:00<00:00,  \n",
      "                 Class     Images  Instances      Box(P          R      mAP50  mAP50-95): 100%|██████████| 45/45 [00:17\n"
     ]
    },
    {
     "name": "stdout",
     "output_type": "stream",
     "text": [
      "                   all       1428       4552      0.775      0.723      0.757      0.506\n",
      "\n",
      "      Epoch    GPU_mem   box_loss   cls_loss   dfl_loss  Instances       Size\n"
     ]
    },
    {
     "name": "stderr",
     "output_type": "stream",
     "text": [
      "    219/250      11.7G      0.833     0.5723      1.116         78       1280: 100%|██████████| 311/311 [01:55<00:00,  \n",
      "                 Class     Images  Instances      Box(P          R      mAP50  mAP50-95): 100%|██████████| 45/45 [00:17"
     ]
    },
    {
     "name": "stdout",
     "output_type": "stream",
     "text": [
      "                   all       1428       4552      0.776      0.724      0.757      0.506\n"
     ]
    },
    {
     "name": "stderr",
     "output_type": "stream",
     "text": [
      "\n"
     ]
    },
    {
     "name": "stdout",
     "output_type": "stream",
     "text": [
      "\n",
      "      Epoch    GPU_mem   box_loss   cls_loss   dfl_loss  Instances       Size\n"
     ]
    },
    {
     "name": "stderr",
     "output_type": "stream",
     "text": [
      "    220/250      10.3G     0.8329     0.5771      1.118         43       1280: 100%|██████████| 311/311 [01:54<00:00,  \n",
      "                 Class     Images  Instances      Box(P          R      mAP50  mAP50-95): 100%|██████████| 45/45 [00:15"
     ]
    },
    {
     "name": "stdout",
     "output_type": "stream",
     "text": [
      "                   all       1428       4552      0.775      0.725      0.757      0.506\n"
     ]
    },
    {
     "name": "stderr",
     "output_type": "stream",
     "text": [
      "\n"
     ]
    },
    {
     "name": "stdout",
     "output_type": "stream",
     "text": [
      "\n",
      "      Epoch    GPU_mem   box_loss   cls_loss   dfl_loss  Instances       Size\n"
     ]
    },
    {
     "name": "stderr",
     "output_type": "stream",
     "text": [
      "    221/250      10.3G     0.8325     0.5809      1.126         55       1280: 100%|██████████| 311/311 [01:53<00:00,  \n",
      "                 Class     Images  Instances      Box(P          R      mAP50  mAP50-95): 100%|██████████| 45/45 [00:16"
     ]
    },
    {
     "name": "stdout",
     "output_type": "stream",
     "text": [
      "                   all       1428       4552      0.772      0.725      0.757      0.506\n"
     ]
    },
    {
     "name": "stderr",
     "output_type": "stream",
     "text": [
      "\n"
     ]
    },
    {
     "name": "stdout",
     "output_type": "stream",
     "text": [
      "\n",
      "      Epoch    GPU_mem   box_loss   cls_loss   dfl_loss  Instances       Size\n"
     ]
    },
    {
     "name": "stderr",
     "output_type": "stream",
     "text": [
      "    222/250      10.6G     0.8198     0.5692      1.113         49       1280: 100%|██████████| 311/311 [02:10<00:00,  \n",
      "                 Class     Images  Instances      Box(P          R      mAP50  mAP50-95): 100%|██████████| 45/45 [00:26"
     ]
    },
    {
     "name": "stdout",
     "output_type": "stream",
     "text": [
      "                   all       1428       4552      0.769      0.727      0.756      0.505\n"
     ]
    },
    {
     "name": "stderr",
     "output_type": "stream",
     "text": [
      "\n"
     ]
    },
    {
     "name": "stdout",
     "output_type": "stream",
     "text": [
      "\n",
      "      Epoch    GPU_mem   box_loss   cls_loss   dfl_loss  Instances       Size\n"
     ]
    },
    {
     "name": "stderr",
     "output_type": "stream",
     "text": [
      "    223/250      10.9G     0.8123      0.564      1.112         96       1280: 100%|██████████| 311/311 [01:54<00:00,  \n",
      "                 Class     Images  Instances      Box(P          R      mAP50  mAP50-95): 100%|██████████| 45/45 [00:15\n"
     ]
    },
    {
     "name": "stdout",
     "output_type": "stream",
     "text": [
      "                   all       1428       4552       0.77      0.726      0.756      0.505\n",
      "\n",
      "      Epoch    GPU_mem   box_loss   cls_loss   dfl_loss  Instances       Size\n"
     ]
    },
    {
     "name": "stderr",
     "output_type": "stream",
     "text": [
      "    224/250      10.9G     0.8121     0.5679      1.113         58       1280: 100%|██████████| 311/311 [01:55<00:00,  \n",
      "                 Class     Images  Instances      Box(P          R      mAP50  mAP50-95): 100%|██████████| 45/45 [00:15\n"
     ]
    },
    {
     "name": "stdout",
     "output_type": "stream",
     "text": [
      "                   all       1428       4552      0.769      0.727      0.756      0.505\n",
      "\n",
      "      Epoch    GPU_mem   box_loss   cls_loss   dfl_loss  Instances       Size\n"
     ]
    },
    {
     "name": "stderr",
     "output_type": "stream",
     "text": [
      "    225/250      9.96G     0.8259     0.5721      1.118         86       1280: 100%|██████████| 311/311 [01:54<00:00,  \n",
      "                 Class     Images  Instances      Box(P          R      mAP50  mAP50-95): 100%|██████████| 45/45 [00:48"
     ]
    },
    {
     "name": "stdout",
     "output_type": "stream",
     "text": [
      "                   all       1428       4552      0.772      0.726      0.756      0.505\n"
     ]
    },
    {
     "name": "stderr",
     "output_type": "stream",
     "text": [
      "\n"
     ]
    },
    {
     "name": "stdout",
     "output_type": "stream",
     "text": [
      "\n",
      "      Epoch    GPU_mem   box_loss   cls_loss   dfl_loss  Instances       Size\n"
     ]
    },
    {
     "name": "stderr",
     "output_type": "stream",
     "text": [
      "    226/250      11.2G     0.8212     0.5662      1.109         82       1280: 100%|██████████| 311/311 [02:01<00:00,  \n",
      "                 Class     Images  Instances      Box(P          R      mAP50  mAP50-95): 100%|██████████| 45/45 [00:16"
     ]
    },
    {
     "name": "stdout",
     "output_type": "stream",
     "text": [
      "                   all       1428       4552      0.773      0.724      0.756      0.505\n"
     ]
    },
    {
     "name": "stderr",
     "output_type": "stream",
     "text": [
      "\n"
     ]
    },
    {
     "name": "stdout",
     "output_type": "stream",
     "text": [
      "\n",
      "      Epoch    GPU_mem   box_loss   cls_loss   dfl_loss  Instances       Size\n"
     ]
    },
    {
     "name": "stderr",
     "output_type": "stream",
     "text": [
      "    227/250      10.8G     0.8123     0.5615      1.105         78       1280: 100%|██████████| 311/311 [02:27<00:00,  \n",
      "                 Class     Images  Instances      Box(P          R      mAP50  mAP50-95): 100%|██████████| 45/45 [00:38"
     ]
    },
    {
     "name": "stdout",
     "output_type": "stream",
     "text": [
      "                   all       1428       4552      0.774      0.723      0.756      0.505\n",
      "\u001b[34m\u001b[1mEarlyStopping: \u001b[0mTraining stopped early as no improvement observed in last 30 epochs. Best results observed at epoch 197, best model saved as best.pt.\n",
      "To update EarlyStopping(patience=30) pass a new patience value, i.e. `patience=300` or use `patience=0` to disable EarlyStopping.\n"
     ]
    },
    {
     "name": "stderr",
     "output_type": "stream",
     "text": [
      "\n"
     ]
    },
    {
     "name": "stdout",
     "output_type": "stream",
     "text": [
      "\n",
      "227 epochs completed in 9.589 hours.\n",
      "Optimizer stripped from runs\\detect\\train\\weights\\last.pt, 6.3MB\n",
      "Optimizer stripped from runs\\detect\\train\\weights\\best.pt, 6.3MB\n",
      "\n",
      "Validating runs\\detect\\train\\weights\\best.pt...\n",
      "Ultralytics YOLOv8.1.47  Python-3.9.6 torch-2.1.0+cu121 CUDA:0 (NVIDIA GeForce RTX 3080, 10240MiB)\n",
      "YOLOv8n summary (fused): 168 layers, 3006818 parameters, 0 gradients, 8.1 GFLOPs\n"
     ]
    },
    {
     "name": "stderr",
     "output_type": "stream",
     "text": [
      "                 Class     Images  Instances      Box(P          R      mAP50  mAP50-95): 100%|██████████| 45/45 [00:12\n"
     ]
    },
    {
     "name": "stdout",
     "output_type": "stream",
     "text": [
      "                   all       1428       4552      0.787      0.714      0.759      0.507\n",
      "                   Car       1428       1582      0.653      0.419      0.472      0.252\n",
      "                   STN       1428        118      0.884      0.965      0.979      0.828\n",
      "                  Tree       1428        540      0.802      0.731      0.777      0.448\n",
      "                  Bird       1428       1569      0.738      0.612      0.672      0.389\n",
      "                 House       1428        743      0.858      0.844      0.894       0.62\n",
      "Speed: 0.3ms preprocess, 1.7ms inference, 0.0ms loss, 1.4ms postprocess per image\n",
      "Results saved to \u001b[1mruns\\detect\\train\u001b[0m\n"
     ]
    },
    {
     "data": {
      "text/plain": [
       "ultralytics.utils.metrics.DetMetrics object with attributes:\n",
       "\n",
       "ap_class_index: array([0, 1, 2, 3, 4])\n",
       "box: ultralytics.utils.metrics.Metric object\n",
       "confusion_matrix: <ultralytics.utils.metrics.ConfusionMatrix object at 0x0000014C4B391190>\n",
       "curves: ['Precision-Recall(B)', 'F1-Confidence(B)', 'Precision-Confidence(B)', 'Recall-Confidence(B)']\n",
       "curves_results: [[array([          0,    0.001001,    0.002002,    0.003003,    0.004004,    0.005005,    0.006006,    0.007007,    0.008008,    0.009009,     0.01001,    0.011011,    0.012012,    0.013013,    0.014014,    0.015015,    0.016016,    0.017017,    0.018018,    0.019019,     0.02002,    0.021021,    0.022022,    0.023023,\n",
       "          0.024024,    0.025025,    0.026026,    0.027027,    0.028028,    0.029029,     0.03003,    0.031031,    0.032032,    0.033033,    0.034034,    0.035035,    0.036036,    0.037037,    0.038038,    0.039039,     0.04004,    0.041041,    0.042042,    0.043043,    0.044044,    0.045045,    0.046046,    0.047047,\n",
       "          0.048048,    0.049049,     0.05005,    0.051051,    0.052052,    0.053053,    0.054054,    0.055055,    0.056056,    0.057057,    0.058058,    0.059059,     0.06006,    0.061061,    0.062062,    0.063063,    0.064064,    0.065065,    0.066066,    0.067067,    0.068068,    0.069069,     0.07007,    0.071071,\n",
       "          0.072072,    0.073073,    0.074074,    0.075075,    0.076076,    0.077077,    0.078078,    0.079079,     0.08008,    0.081081,    0.082082,    0.083083,    0.084084,    0.085085,    0.086086,    0.087087,    0.088088,    0.089089,     0.09009,    0.091091,    0.092092,    0.093093,    0.094094,    0.095095,\n",
       "          0.096096,    0.097097,    0.098098,    0.099099,      0.1001,      0.1011,      0.1021,      0.1031,      0.1041,     0.10511,     0.10611,     0.10711,     0.10811,     0.10911,     0.11011,     0.11111,     0.11211,     0.11311,     0.11411,     0.11512,     0.11612,     0.11712,     0.11812,     0.11912,\n",
       "           0.12012,     0.12112,     0.12212,     0.12312,     0.12412,     0.12513,     0.12613,     0.12713,     0.12813,     0.12913,     0.13013,     0.13113,     0.13213,     0.13313,     0.13413,     0.13514,     0.13614,     0.13714,     0.13814,     0.13914,     0.14014,     0.14114,     0.14214,     0.14314,\n",
       "           0.14414,     0.14515,     0.14615,     0.14715,     0.14815,     0.14915,     0.15015,     0.15115,     0.15215,     0.15315,     0.15415,     0.15516,     0.15616,     0.15716,     0.15816,     0.15916,     0.16016,     0.16116,     0.16216,     0.16316,     0.16416,     0.16517,     0.16617,     0.16717,\n",
       "           0.16817,     0.16917,     0.17017,     0.17117,     0.17217,     0.17317,     0.17417,     0.17518,     0.17618,     0.17718,     0.17818,     0.17918,     0.18018,     0.18118,     0.18218,     0.18318,     0.18418,     0.18519,     0.18619,     0.18719,     0.18819,     0.18919,     0.19019,     0.19119,\n",
       "           0.19219,     0.19319,     0.19419,      0.1952,      0.1962,      0.1972,      0.1982,      0.1992,      0.2002,      0.2012,      0.2022,      0.2032,      0.2042,     0.20521,     0.20621,     0.20721,     0.20821,     0.20921,     0.21021,     0.21121,     0.21221,     0.21321,     0.21421,     0.21522,\n",
       "           0.21622,     0.21722,     0.21822,     0.21922,     0.22022,     0.22122,     0.22222,     0.22322,     0.22422,     0.22523,     0.22623,     0.22723,     0.22823,     0.22923,     0.23023,     0.23123,     0.23223,     0.23323,     0.23423,     0.23524,     0.23624,     0.23724,     0.23824,     0.23924,\n",
       "           0.24024,     0.24124,     0.24224,     0.24324,     0.24424,     0.24525,     0.24625,     0.24725,     0.24825,     0.24925,     0.25025,     0.25125,     0.25225,     0.25325,     0.25425,     0.25526,     0.25626,     0.25726,     0.25826,     0.25926,     0.26026,     0.26126,     0.26226,     0.26326,\n",
       "           0.26426,     0.26527,     0.26627,     0.26727,     0.26827,     0.26927,     0.27027,     0.27127,     0.27227,     0.27327,     0.27427,     0.27528,     0.27628,     0.27728,     0.27828,     0.27928,     0.28028,     0.28128,     0.28228,     0.28328,     0.28428,     0.28529,     0.28629,     0.28729,\n",
       "           0.28829,     0.28929,     0.29029,     0.29129,     0.29229,     0.29329,     0.29429,      0.2953,      0.2963,      0.2973,      0.2983,      0.2993,      0.3003,      0.3013,      0.3023,      0.3033,      0.3043,     0.30531,     0.30631,     0.30731,     0.30831,     0.30931,     0.31031,     0.31131,\n",
       "           0.31231,     0.31331,     0.31431,     0.31532,     0.31632,     0.31732,     0.31832,     0.31932,     0.32032,     0.32132,     0.32232,     0.32332,     0.32432,     0.32533,     0.32633,     0.32733,     0.32833,     0.32933,     0.33033,     0.33133,     0.33233,     0.33333,     0.33433,     0.33534,\n",
       "           0.33634,     0.33734,     0.33834,     0.33934,     0.34034,     0.34134,     0.34234,     0.34334,     0.34434,     0.34535,     0.34635,     0.34735,     0.34835,     0.34935,     0.35035,     0.35135,     0.35235,     0.35335,     0.35435,     0.35536,     0.35636,     0.35736,     0.35836,     0.35936,\n",
       "           0.36036,     0.36136,     0.36236,     0.36336,     0.36436,     0.36537,     0.36637,     0.36737,     0.36837,     0.36937,     0.37037,     0.37137,     0.37237,     0.37337,     0.37437,     0.37538,     0.37638,     0.37738,     0.37838,     0.37938,     0.38038,     0.38138,     0.38238,     0.38338,\n",
       "           0.38438,     0.38539,     0.38639,     0.38739,     0.38839,     0.38939,     0.39039,     0.39139,     0.39239,     0.39339,     0.39439,      0.3954,      0.3964,      0.3974,      0.3984,      0.3994,      0.4004,      0.4014,      0.4024,      0.4034,      0.4044,     0.40541,     0.40641,     0.40741,\n",
       "           0.40841,     0.40941,     0.41041,     0.41141,     0.41241,     0.41341,     0.41441,     0.41542,     0.41642,     0.41742,     0.41842,     0.41942,     0.42042,     0.42142,     0.42242,     0.42342,     0.42442,     0.42543,     0.42643,     0.42743,     0.42843,     0.42943,     0.43043,     0.43143,\n",
       "           0.43243,     0.43343,     0.43443,     0.43544,     0.43644,     0.43744,     0.43844,     0.43944,     0.44044,     0.44144,     0.44244,     0.44344,     0.44444,     0.44545,     0.44645,     0.44745,     0.44845,     0.44945,     0.45045,     0.45145,     0.45245,     0.45345,     0.45445,     0.45546,\n",
       "           0.45646,     0.45746,     0.45846,     0.45946,     0.46046,     0.46146,     0.46246,     0.46346,     0.46446,     0.46547,     0.46647,     0.46747,     0.46847,     0.46947,     0.47047,     0.47147,     0.47247,     0.47347,     0.47447,     0.47548,     0.47648,     0.47748,     0.47848,     0.47948,\n",
       "           0.48048,     0.48148,     0.48248,     0.48348,     0.48448,     0.48549,     0.48649,     0.48749,     0.48849,     0.48949,     0.49049,     0.49149,     0.49249,     0.49349,     0.49449,      0.4955,      0.4965,      0.4975,      0.4985,      0.4995,      0.5005,      0.5015,      0.5025,      0.5035,\n",
       "            0.5045,     0.50551,     0.50651,     0.50751,     0.50851,     0.50951,     0.51051,     0.51151,     0.51251,     0.51351,     0.51451,     0.51552,     0.51652,     0.51752,     0.51852,     0.51952,     0.52052,     0.52152,     0.52252,     0.52352,     0.52452,     0.52553,     0.52653,     0.52753,\n",
       "           0.52853,     0.52953,     0.53053,     0.53153,     0.53253,     0.53353,     0.53453,     0.53554,     0.53654,     0.53754,     0.53854,     0.53954,     0.54054,     0.54154,     0.54254,     0.54354,     0.54454,     0.54555,     0.54655,     0.54755,     0.54855,     0.54955,     0.55055,     0.55155,\n",
       "           0.55255,     0.55355,     0.55455,     0.55556,     0.55656,     0.55756,     0.55856,     0.55956,     0.56056,     0.56156,     0.56256,     0.56356,     0.56456,     0.56557,     0.56657,     0.56757,     0.56857,     0.56957,     0.57057,     0.57157,     0.57257,     0.57357,     0.57457,     0.57558,\n",
       "           0.57658,     0.57758,     0.57858,     0.57958,     0.58058,     0.58158,     0.58258,     0.58358,     0.58458,     0.58559,     0.58659,     0.58759,     0.58859,     0.58959,     0.59059,     0.59159,     0.59259,     0.59359,     0.59459,      0.5956,      0.5966,      0.5976,      0.5986,      0.5996,\n",
       "            0.6006,      0.6016,      0.6026,      0.6036,      0.6046,     0.60561,     0.60661,     0.60761,     0.60861,     0.60961,     0.61061,     0.61161,     0.61261,     0.61361,     0.61461,     0.61562,     0.61662,     0.61762,     0.61862,     0.61962,     0.62062,     0.62162,     0.62262,     0.62362,\n",
       "           0.62462,     0.62563,     0.62663,     0.62763,     0.62863,     0.62963,     0.63063,     0.63163,     0.63263,     0.63363,     0.63463,     0.63564,     0.63664,     0.63764,     0.63864,     0.63964,     0.64064,     0.64164,     0.64264,     0.64364,     0.64464,     0.64565,     0.64665,     0.64765,\n",
       "           0.64865,     0.64965,     0.65065,     0.65165,     0.65265,     0.65365,     0.65465,     0.65566,     0.65666,     0.65766,     0.65866,     0.65966,     0.66066,     0.66166,     0.66266,     0.66366,     0.66466,     0.66567,     0.66667,     0.66767,     0.66867,     0.66967,     0.67067,     0.67167,\n",
       "           0.67267,     0.67367,     0.67467,     0.67568,     0.67668,     0.67768,     0.67868,     0.67968,     0.68068,     0.68168,     0.68268,     0.68368,     0.68468,     0.68569,     0.68669,     0.68769,     0.68869,     0.68969,     0.69069,     0.69169,     0.69269,     0.69369,     0.69469,      0.6957,\n",
       "            0.6967,      0.6977,      0.6987,      0.6997,      0.7007,      0.7017,      0.7027,      0.7037,      0.7047,     0.70571,     0.70671,     0.70771,     0.70871,     0.70971,     0.71071,     0.71171,     0.71271,     0.71371,     0.71471,     0.71572,     0.71672,     0.71772,     0.71872,     0.71972,\n",
       "           0.72072,     0.72172,     0.72272,     0.72372,     0.72472,     0.72573,     0.72673,     0.72773,     0.72873,     0.72973,     0.73073,     0.73173,     0.73273,     0.73373,     0.73473,     0.73574,     0.73674,     0.73774,     0.73874,     0.73974,     0.74074,     0.74174,     0.74274,     0.74374,\n",
       "           0.74474,     0.74575,     0.74675,     0.74775,     0.74875,     0.74975,     0.75075,     0.75175,     0.75275,     0.75375,     0.75475,     0.75576,     0.75676,     0.75776,     0.75876,     0.75976,     0.76076,     0.76176,     0.76276,     0.76376,     0.76476,     0.76577,     0.76677,     0.76777,\n",
       "           0.76877,     0.76977,     0.77077,     0.77177,     0.77277,     0.77377,     0.77477,     0.77578,     0.77678,     0.77778,     0.77878,     0.77978,     0.78078,     0.78178,     0.78278,     0.78378,     0.78478,     0.78579,     0.78679,     0.78779,     0.78879,     0.78979,     0.79079,     0.79179,\n",
       "           0.79279,     0.79379,     0.79479,      0.7958,      0.7968,      0.7978,      0.7988,      0.7998,      0.8008,      0.8018,      0.8028,      0.8038,      0.8048,     0.80581,     0.80681,     0.80781,     0.80881,     0.80981,     0.81081,     0.81181,     0.81281,     0.81381,     0.81481,     0.81582,\n",
       "           0.81682,     0.81782,     0.81882,     0.81982,     0.82082,     0.82182,     0.82282,     0.82382,     0.82482,     0.82583,     0.82683,     0.82783,     0.82883,     0.82983,     0.83083,     0.83183,     0.83283,     0.83383,     0.83483,     0.83584,     0.83684,     0.83784,     0.83884,     0.83984,\n",
       "           0.84084,     0.84184,     0.84284,     0.84384,     0.84484,     0.84585,     0.84685,     0.84785,     0.84885,     0.84985,     0.85085,     0.85185,     0.85285,     0.85385,     0.85485,     0.85586,     0.85686,     0.85786,     0.85886,     0.85986,     0.86086,     0.86186,     0.86286,     0.86386,\n",
       "           0.86486,     0.86587,     0.86687,     0.86787,     0.86887,     0.86987,     0.87087,     0.87187,     0.87287,     0.87387,     0.87487,     0.87588,     0.87688,     0.87788,     0.87888,     0.87988,     0.88088,     0.88188,     0.88288,     0.88388,     0.88488,     0.88589,     0.88689,     0.88789,\n",
       "           0.88889,     0.88989,     0.89089,     0.89189,     0.89289,     0.89389,     0.89489,      0.8959,      0.8969,      0.8979,      0.8989,      0.8999,      0.9009,      0.9019,      0.9029,      0.9039,      0.9049,     0.90591,     0.90691,     0.90791,     0.90891,     0.90991,     0.91091,     0.91191,\n",
       "           0.91291,     0.91391,     0.91491,     0.91592,     0.91692,     0.91792,     0.91892,     0.91992,     0.92092,     0.92192,     0.92292,     0.92392,     0.92492,     0.92593,     0.92693,     0.92793,     0.92893,     0.92993,     0.93093,     0.93193,     0.93293,     0.93393,     0.93493,     0.93594,\n",
       "           0.93694,     0.93794,     0.93894,     0.93994,     0.94094,     0.94194,     0.94294,     0.94394,     0.94494,     0.94595,     0.94695,     0.94795,     0.94895,     0.94995,     0.95095,     0.95195,     0.95295,     0.95395,     0.95495,     0.95596,     0.95696,     0.95796,     0.95896,     0.95996,\n",
       "           0.96096,     0.96196,     0.96296,     0.96396,     0.96496,     0.96597,     0.96697,     0.96797,     0.96897,     0.96997,     0.97097,     0.97197,     0.97297,     0.97397,     0.97497,     0.97598,     0.97698,     0.97798,     0.97898,     0.97998,     0.98098,     0.98198,     0.98298,     0.98398,\n",
       "           0.98498,     0.98599,     0.98699,     0.98799,     0.98899,     0.98999,     0.99099,     0.99199,     0.99299,     0.99399,     0.99499,       0.996,       0.997,       0.998,       0.999,           1]), array([[          1,           1,           1, ...,  0.00048763,  0.00024381,           0],\n",
       "       [          1,           1,           1, ...,      0.1158,      0.1158,           0],\n",
       "       [          1,           1,           1, ...,   0.0026297,   0.0013148,           0],\n",
       "       [          1,           1,           1, ...,    0.001595,  0.00079748,           0],\n",
       "       [          1,           1,           1, ...,    0.009345,   0.0046725,           0]]), 'Recall', 'Precision'], [array([          0,    0.001001,    0.002002,    0.003003,    0.004004,    0.005005,    0.006006,    0.007007,    0.008008,    0.009009,     0.01001,    0.011011,    0.012012,    0.013013,    0.014014,    0.015015,    0.016016,    0.017017,    0.018018,    0.019019,     0.02002,    0.021021,    0.022022,    0.023023,\n",
       "          0.024024,    0.025025,    0.026026,    0.027027,    0.028028,    0.029029,     0.03003,    0.031031,    0.032032,    0.033033,    0.034034,    0.035035,    0.036036,    0.037037,    0.038038,    0.039039,     0.04004,    0.041041,    0.042042,    0.043043,    0.044044,    0.045045,    0.046046,    0.047047,\n",
       "          0.048048,    0.049049,     0.05005,    0.051051,    0.052052,    0.053053,    0.054054,    0.055055,    0.056056,    0.057057,    0.058058,    0.059059,     0.06006,    0.061061,    0.062062,    0.063063,    0.064064,    0.065065,    0.066066,    0.067067,    0.068068,    0.069069,     0.07007,    0.071071,\n",
       "          0.072072,    0.073073,    0.074074,    0.075075,    0.076076,    0.077077,    0.078078,    0.079079,     0.08008,    0.081081,    0.082082,    0.083083,    0.084084,    0.085085,    0.086086,    0.087087,    0.088088,    0.089089,     0.09009,    0.091091,    0.092092,    0.093093,    0.094094,    0.095095,\n",
       "          0.096096,    0.097097,    0.098098,    0.099099,      0.1001,      0.1011,      0.1021,      0.1031,      0.1041,     0.10511,     0.10611,     0.10711,     0.10811,     0.10911,     0.11011,     0.11111,     0.11211,     0.11311,     0.11411,     0.11512,     0.11612,     0.11712,     0.11812,     0.11912,\n",
       "           0.12012,     0.12112,     0.12212,     0.12312,     0.12412,     0.12513,     0.12613,     0.12713,     0.12813,     0.12913,     0.13013,     0.13113,     0.13213,     0.13313,     0.13413,     0.13514,     0.13614,     0.13714,     0.13814,     0.13914,     0.14014,     0.14114,     0.14214,     0.14314,\n",
       "           0.14414,     0.14515,     0.14615,     0.14715,     0.14815,     0.14915,     0.15015,     0.15115,     0.15215,     0.15315,     0.15415,     0.15516,     0.15616,     0.15716,     0.15816,     0.15916,     0.16016,     0.16116,     0.16216,     0.16316,     0.16416,     0.16517,     0.16617,     0.16717,\n",
       "           0.16817,     0.16917,     0.17017,     0.17117,     0.17217,     0.17317,     0.17417,     0.17518,     0.17618,     0.17718,     0.17818,     0.17918,     0.18018,     0.18118,     0.18218,     0.18318,     0.18418,     0.18519,     0.18619,     0.18719,     0.18819,     0.18919,     0.19019,     0.19119,\n",
       "           0.19219,     0.19319,     0.19419,      0.1952,      0.1962,      0.1972,      0.1982,      0.1992,      0.2002,      0.2012,      0.2022,      0.2032,      0.2042,     0.20521,     0.20621,     0.20721,     0.20821,     0.20921,     0.21021,     0.21121,     0.21221,     0.21321,     0.21421,     0.21522,\n",
       "           0.21622,     0.21722,     0.21822,     0.21922,     0.22022,     0.22122,     0.22222,     0.22322,     0.22422,     0.22523,     0.22623,     0.22723,     0.22823,     0.22923,     0.23023,     0.23123,     0.23223,     0.23323,     0.23423,     0.23524,     0.23624,     0.23724,     0.23824,     0.23924,\n",
       "           0.24024,     0.24124,     0.24224,     0.24324,     0.24424,     0.24525,     0.24625,     0.24725,     0.24825,     0.24925,     0.25025,     0.25125,     0.25225,     0.25325,     0.25425,     0.25526,     0.25626,     0.25726,     0.25826,     0.25926,     0.26026,     0.26126,     0.26226,     0.26326,\n",
       "           0.26426,     0.26527,     0.26627,     0.26727,     0.26827,     0.26927,     0.27027,     0.27127,     0.27227,     0.27327,     0.27427,     0.27528,     0.27628,     0.27728,     0.27828,     0.27928,     0.28028,     0.28128,     0.28228,     0.28328,     0.28428,     0.28529,     0.28629,     0.28729,\n",
       "           0.28829,     0.28929,     0.29029,     0.29129,     0.29229,     0.29329,     0.29429,      0.2953,      0.2963,      0.2973,      0.2983,      0.2993,      0.3003,      0.3013,      0.3023,      0.3033,      0.3043,     0.30531,     0.30631,     0.30731,     0.30831,     0.30931,     0.31031,     0.31131,\n",
       "           0.31231,     0.31331,     0.31431,     0.31532,     0.31632,     0.31732,     0.31832,     0.31932,     0.32032,     0.32132,     0.32232,     0.32332,     0.32432,     0.32533,     0.32633,     0.32733,     0.32833,     0.32933,     0.33033,     0.33133,     0.33233,     0.33333,     0.33433,     0.33534,\n",
       "           0.33634,     0.33734,     0.33834,     0.33934,     0.34034,     0.34134,     0.34234,     0.34334,     0.34434,     0.34535,     0.34635,     0.34735,     0.34835,     0.34935,     0.35035,     0.35135,     0.35235,     0.35335,     0.35435,     0.35536,     0.35636,     0.35736,     0.35836,     0.35936,\n",
       "           0.36036,     0.36136,     0.36236,     0.36336,     0.36436,     0.36537,     0.36637,     0.36737,     0.36837,     0.36937,     0.37037,     0.37137,     0.37237,     0.37337,     0.37437,     0.37538,     0.37638,     0.37738,     0.37838,     0.37938,     0.38038,     0.38138,     0.38238,     0.38338,\n",
       "           0.38438,     0.38539,     0.38639,     0.38739,     0.38839,     0.38939,     0.39039,     0.39139,     0.39239,     0.39339,     0.39439,      0.3954,      0.3964,      0.3974,      0.3984,      0.3994,      0.4004,      0.4014,      0.4024,      0.4034,      0.4044,     0.40541,     0.40641,     0.40741,\n",
       "           0.40841,     0.40941,     0.41041,     0.41141,     0.41241,     0.41341,     0.41441,     0.41542,     0.41642,     0.41742,     0.41842,     0.41942,     0.42042,     0.42142,     0.42242,     0.42342,     0.42442,     0.42543,     0.42643,     0.42743,     0.42843,     0.42943,     0.43043,     0.43143,\n",
       "           0.43243,     0.43343,     0.43443,     0.43544,     0.43644,     0.43744,     0.43844,     0.43944,     0.44044,     0.44144,     0.44244,     0.44344,     0.44444,     0.44545,     0.44645,     0.44745,     0.44845,     0.44945,     0.45045,     0.45145,     0.45245,     0.45345,     0.45445,     0.45546,\n",
       "           0.45646,     0.45746,     0.45846,     0.45946,     0.46046,     0.46146,     0.46246,     0.46346,     0.46446,     0.46547,     0.46647,     0.46747,     0.46847,     0.46947,     0.47047,     0.47147,     0.47247,     0.47347,     0.47447,     0.47548,     0.47648,     0.47748,     0.47848,     0.47948,\n",
       "           0.48048,     0.48148,     0.48248,     0.48348,     0.48448,     0.48549,     0.48649,     0.48749,     0.48849,     0.48949,     0.49049,     0.49149,     0.49249,     0.49349,     0.49449,      0.4955,      0.4965,      0.4975,      0.4985,      0.4995,      0.5005,      0.5015,      0.5025,      0.5035,\n",
       "            0.5045,     0.50551,     0.50651,     0.50751,     0.50851,     0.50951,     0.51051,     0.51151,     0.51251,     0.51351,     0.51451,     0.51552,     0.51652,     0.51752,     0.51852,     0.51952,     0.52052,     0.52152,     0.52252,     0.52352,     0.52452,     0.52553,     0.52653,     0.52753,\n",
       "           0.52853,     0.52953,     0.53053,     0.53153,     0.53253,     0.53353,     0.53453,     0.53554,     0.53654,     0.53754,     0.53854,     0.53954,     0.54054,     0.54154,     0.54254,     0.54354,     0.54454,     0.54555,     0.54655,     0.54755,     0.54855,     0.54955,     0.55055,     0.55155,\n",
       "           0.55255,     0.55355,     0.55455,     0.55556,     0.55656,     0.55756,     0.55856,     0.55956,     0.56056,     0.56156,     0.56256,     0.56356,     0.56456,     0.56557,     0.56657,     0.56757,     0.56857,     0.56957,     0.57057,     0.57157,     0.57257,     0.57357,     0.57457,     0.57558,\n",
       "           0.57658,     0.57758,     0.57858,     0.57958,     0.58058,     0.58158,     0.58258,     0.58358,     0.58458,     0.58559,     0.58659,     0.58759,     0.58859,     0.58959,     0.59059,     0.59159,     0.59259,     0.59359,     0.59459,      0.5956,      0.5966,      0.5976,      0.5986,      0.5996,\n",
       "            0.6006,      0.6016,      0.6026,      0.6036,      0.6046,     0.60561,     0.60661,     0.60761,     0.60861,     0.60961,     0.61061,     0.61161,     0.61261,     0.61361,     0.61461,     0.61562,     0.61662,     0.61762,     0.61862,     0.61962,     0.62062,     0.62162,     0.62262,     0.62362,\n",
       "           0.62462,     0.62563,     0.62663,     0.62763,     0.62863,     0.62963,     0.63063,     0.63163,     0.63263,     0.63363,     0.63463,     0.63564,     0.63664,     0.63764,     0.63864,     0.63964,     0.64064,     0.64164,     0.64264,     0.64364,     0.64464,     0.64565,     0.64665,     0.64765,\n",
       "           0.64865,     0.64965,     0.65065,     0.65165,     0.65265,     0.65365,     0.65465,     0.65566,     0.65666,     0.65766,     0.65866,     0.65966,     0.66066,     0.66166,     0.66266,     0.66366,     0.66466,     0.66567,     0.66667,     0.66767,     0.66867,     0.66967,     0.67067,     0.67167,\n",
       "           0.67267,     0.67367,     0.67467,     0.67568,     0.67668,     0.67768,     0.67868,     0.67968,     0.68068,     0.68168,     0.68268,     0.68368,     0.68468,     0.68569,     0.68669,     0.68769,     0.68869,     0.68969,     0.69069,     0.69169,     0.69269,     0.69369,     0.69469,      0.6957,\n",
       "            0.6967,      0.6977,      0.6987,      0.6997,      0.7007,      0.7017,      0.7027,      0.7037,      0.7047,     0.70571,     0.70671,     0.70771,     0.70871,     0.70971,     0.71071,     0.71171,     0.71271,     0.71371,     0.71471,     0.71572,     0.71672,     0.71772,     0.71872,     0.71972,\n",
       "           0.72072,     0.72172,     0.72272,     0.72372,     0.72472,     0.72573,     0.72673,     0.72773,     0.72873,     0.72973,     0.73073,     0.73173,     0.73273,     0.73373,     0.73473,     0.73574,     0.73674,     0.73774,     0.73874,     0.73974,     0.74074,     0.74174,     0.74274,     0.74374,\n",
       "           0.74474,     0.74575,     0.74675,     0.74775,     0.74875,     0.74975,     0.75075,     0.75175,     0.75275,     0.75375,     0.75475,     0.75576,     0.75676,     0.75776,     0.75876,     0.75976,     0.76076,     0.76176,     0.76276,     0.76376,     0.76476,     0.76577,     0.76677,     0.76777,\n",
       "           0.76877,     0.76977,     0.77077,     0.77177,     0.77277,     0.77377,     0.77477,     0.77578,     0.77678,     0.77778,     0.77878,     0.77978,     0.78078,     0.78178,     0.78278,     0.78378,     0.78478,     0.78579,     0.78679,     0.78779,     0.78879,     0.78979,     0.79079,     0.79179,\n",
       "           0.79279,     0.79379,     0.79479,      0.7958,      0.7968,      0.7978,      0.7988,      0.7998,      0.8008,      0.8018,      0.8028,      0.8038,      0.8048,     0.80581,     0.80681,     0.80781,     0.80881,     0.80981,     0.81081,     0.81181,     0.81281,     0.81381,     0.81481,     0.81582,\n",
       "           0.81682,     0.81782,     0.81882,     0.81982,     0.82082,     0.82182,     0.82282,     0.82382,     0.82482,     0.82583,     0.82683,     0.82783,     0.82883,     0.82983,     0.83083,     0.83183,     0.83283,     0.83383,     0.83483,     0.83584,     0.83684,     0.83784,     0.83884,     0.83984,\n",
       "           0.84084,     0.84184,     0.84284,     0.84384,     0.84484,     0.84585,     0.84685,     0.84785,     0.84885,     0.84985,     0.85085,     0.85185,     0.85285,     0.85385,     0.85485,     0.85586,     0.85686,     0.85786,     0.85886,     0.85986,     0.86086,     0.86186,     0.86286,     0.86386,\n",
       "           0.86486,     0.86587,     0.86687,     0.86787,     0.86887,     0.86987,     0.87087,     0.87187,     0.87287,     0.87387,     0.87487,     0.87588,     0.87688,     0.87788,     0.87888,     0.87988,     0.88088,     0.88188,     0.88288,     0.88388,     0.88488,     0.88589,     0.88689,     0.88789,\n",
       "           0.88889,     0.88989,     0.89089,     0.89189,     0.89289,     0.89389,     0.89489,      0.8959,      0.8969,      0.8979,      0.8989,      0.8999,      0.9009,      0.9019,      0.9029,      0.9039,      0.9049,     0.90591,     0.90691,     0.90791,     0.90891,     0.90991,     0.91091,     0.91191,\n",
       "           0.91291,     0.91391,     0.91491,     0.91592,     0.91692,     0.91792,     0.91892,     0.91992,     0.92092,     0.92192,     0.92292,     0.92392,     0.92492,     0.92593,     0.92693,     0.92793,     0.92893,     0.92993,     0.93093,     0.93193,     0.93293,     0.93393,     0.93493,     0.93594,\n",
       "           0.93694,     0.93794,     0.93894,     0.93994,     0.94094,     0.94194,     0.94294,     0.94394,     0.94494,     0.94595,     0.94695,     0.94795,     0.94895,     0.94995,     0.95095,     0.95195,     0.95295,     0.95395,     0.95495,     0.95596,     0.95696,     0.95796,     0.95896,     0.95996,\n",
       "           0.96096,     0.96196,     0.96296,     0.96396,     0.96496,     0.96597,     0.96697,     0.96797,     0.96897,     0.96997,     0.97097,     0.97197,     0.97297,     0.97397,     0.97497,     0.97598,     0.97698,     0.97798,     0.97898,     0.97998,     0.98098,     0.98198,     0.98298,     0.98398,\n",
       "           0.98498,     0.98599,     0.98699,     0.98799,     0.98899,     0.98999,     0.99099,     0.99199,     0.99299,     0.99399,     0.99499,       0.996,       0.997,       0.998,       0.999,           1]), array([[    0.10369,     0.10369,     0.13769, ...,           0,           0,           0],\n",
       "       [    0.15691,     0.15691,     0.21826, ...,           0,           0,           0],\n",
       "       [    0.22925,     0.22925,     0.31369, ...,           0,           0,           0],\n",
       "       [    0.19617,     0.19617,     0.24825, ...,           0,           0,           0],\n",
       "       [    0.36547,     0.36547,     0.46951, ...,           0,           0,           0]]), 'Confidence', 'F1'], [array([          0,    0.001001,    0.002002,    0.003003,    0.004004,    0.005005,    0.006006,    0.007007,    0.008008,    0.009009,     0.01001,    0.011011,    0.012012,    0.013013,    0.014014,    0.015015,    0.016016,    0.017017,    0.018018,    0.019019,     0.02002,    0.021021,    0.022022,    0.023023,\n",
       "          0.024024,    0.025025,    0.026026,    0.027027,    0.028028,    0.029029,     0.03003,    0.031031,    0.032032,    0.033033,    0.034034,    0.035035,    0.036036,    0.037037,    0.038038,    0.039039,     0.04004,    0.041041,    0.042042,    0.043043,    0.044044,    0.045045,    0.046046,    0.047047,\n",
       "          0.048048,    0.049049,     0.05005,    0.051051,    0.052052,    0.053053,    0.054054,    0.055055,    0.056056,    0.057057,    0.058058,    0.059059,     0.06006,    0.061061,    0.062062,    0.063063,    0.064064,    0.065065,    0.066066,    0.067067,    0.068068,    0.069069,     0.07007,    0.071071,\n",
       "          0.072072,    0.073073,    0.074074,    0.075075,    0.076076,    0.077077,    0.078078,    0.079079,     0.08008,    0.081081,    0.082082,    0.083083,    0.084084,    0.085085,    0.086086,    0.087087,    0.088088,    0.089089,     0.09009,    0.091091,    0.092092,    0.093093,    0.094094,    0.095095,\n",
       "          0.096096,    0.097097,    0.098098,    0.099099,      0.1001,      0.1011,      0.1021,      0.1031,      0.1041,     0.10511,     0.10611,     0.10711,     0.10811,     0.10911,     0.11011,     0.11111,     0.11211,     0.11311,     0.11411,     0.11512,     0.11612,     0.11712,     0.11812,     0.11912,\n",
       "           0.12012,     0.12112,     0.12212,     0.12312,     0.12412,     0.12513,     0.12613,     0.12713,     0.12813,     0.12913,     0.13013,     0.13113,     0.13213,     0.13313,     0.13413,     0.13514,     0.13614,     0.13714,     0.13814,     0.13914,     0.14014,     0.14114,     0.14214,     0.14314,\n",
       "           0.14414,     0.14515,     0.14615,     0.14715,     0.14815,     0.14915,     0.15015,     0.15115,     0.15215,     0.15315,     0.15415,     0.15516,     0.15616,     0.15716,     0.15816,     0.15916,     0.16016,     0.16116,     0.16216,     0.16316,     0.16416,     0.16517,     0.16617,     0.16717,\n",
       "           0.16817,     0.16917,     0.17017,     0.17117,     0.17217,     0.17317,     0.17417,     0.17518,     0.17618,     0.17718,     0.17818,     0.17918,     0.18018,     0.18118,     0.18218,     0.18318,     0.18418,     0.18519,     0.18619,     0.18719,     0.18819,     0.18919,     0.19019,     0.19119,\n",
       "           0.19219,     0.19319,     0.19419,      0.1952,      0.1962,      0.1972,      0.1982,      0.1992,      0.2002,      0.2012,      0.2022,      0.2032,      0.2042,     0.20521,     0.20621,     0.20721,     0.20821,     0.20921,     0.21021,     0.21121,     0.21221,     0.21321,     0.21421,     0.21522,\n",
       "           0.21622,     0.21722,     0.21822,     0.21922,     0.22022,     0.22122,     0.22222,     0.22322,     0.22422,     0.22523,     0.22623,     0.22723,     0.22823,     0.22923,     0.23023,     0.23123,     0.23223,     0.23323,     0.23423,     0.23524,     0.23624,     0.23724,     0.23824,     0.23924,\n",
       "           0.24024,     0.24124,     0.24224,     0.24324,     0.24424,     0.24525,     0.24625,     0.24725,     0.24825,     0.24925,     0.25025,     0.25125,     0.25225,     0.25325,     0.25425,     0.25526,     0.25626,     0.25726,     0.25826,     0.25926,     0.26026,     0.26126,     0.26226,     0.26326,\n",
       "           0.26426,     0.26527,     0.26627,     0.26727,     0.26827,     0.26927,     0.27027,     0.27127,     0.27227,     0.27327,     0.27427,     0.27528,     0.27628,     0.27728,     0.27828,     0.27928,     0.28028,     0.28128,     0.28228,     0.28328,     0.28428,     0.28529,     0.28629,     0.28729,\n",
       "           0.28829,     0.28929,     0.29029,     0.29129,     0.29229,     0.29329,     0.29429,      0.2953,      0.2963,      0.2973,      0.2983,      0.2993,      0.3003,      0.3013,      0.3023,      0.3033,      0.3043,     0.30531,     0.30631,     0.30731,     0.30831,     0.30931,     0.31031,     0.31131,\n",
       "           0.31231,     0.31331,     0.31431,     0.31532,     0.31632,     0.31732,     0.31832,     0.31932,     0.32032,     0.32132,     0.32232,     0.32332,     0.32432,     0.32533,     0.32633,     0.32733,     0.32833,     0.32933,     0.33033,     0.33133,     0.33233,     0.33333,     0.33433,     0.33534,\n",
       "           0.33634,     0.33734,     0.33834,     0.33934,     0.34034,     0.34134,     0.34234,     0.34334,     0.34434,     0.34535,     0.34635,     0.34735,     0.34835,     0.34935,     0.35035,     0.35135,     0.35235,     0.35335,     0.35435,     0.35536,     0.35636,     0.35736,     0.35836,     0.35936,\n",
       "           0.36036,     0.36136,     0.36236,     0.36336,     0.36436,     0.36537,     0.36637,     0.36737,     0.36837,     0.36937,     0.37037,     0.37137,     0.37237,     0.37337,     0.37437,     0.37538,     0.37638,     0.37738,     0.37838,     0.37938,     0.38038,     0.38138,     0.38238,     0.38338,\n",
       "           0.38438,     0.38539,     0.38639,     0.38739,     0.38839,     0.38939,     0.39039,     0.39139,     0.39239,     0.39339,     0.39439,      0.3954,      0.3964,      0.3974,      0.3984,      0.3994,      0.4004,      0.4014,      0.4024,      0.4034,      0.4044,     0.40541,     0.40641,     0.40741,\n",
       "           0.40841,     0.40941,     0.41041,     0.41141,     0.41241,     0.41341,     0.41441,     0.41542,     0.41642,     0.41742,     0.41842,     0.41942,     0.42042,     0.42142,     0.42242,     0.42342,     0.42442,     0.42543,     0.42643,     0.42743,     0.42843,     0.42943,     0.43043,     0.43143,\n",
       "           0.43243,     0.43343,     0.43443,     0.43544,     0.43644,     0.43744,     0.43844,     0.43944,     0.44044,     0.44144,     0.44244,     0.44344,     0.44444,     0.44545,     0.44645,     0.44745,     0.44845,     0.44945,     0.45045,     0.45145,     0.45245,     0.45345,     0.45445,     0.45546,\n",
       "           0.45646,     0.45746,     0.45846,     0.45946,     0.46046,     0.46146,     0.46246,     0.46346,     0.46446,     0.46547,     0.46647,     0.46747,     0.46847,     0.46947,     0.47047,     0.47147,     0.47247,     0.47347,     0.47447,     0.47548,     0.47648,     0.47748,     0.47848,     0.47948,\n",
       "           0.48048,     0.48148,     0.48248,     0.48348,     0.48448,     0.48549,     0.48649,     0.48749,     0.48849,     0.48949,     0.49049,     0.49149,     0.49249,     0.49349,     0.49449,      0.4955,      0.4965,      0.4975,      0.4985,      0.4995,      0.5005,      0.5015,      0.5025,      0.5035,\n",
       "            0.5045,     0.50551,     0.50651,     0.50751,     0.50851,     0.50951,     0.51051,     0.51151,     0.51251,     0.51351,     0.51451,     0.51552,     0.51652,     0.51752,     0.51852,     0.51952,     0.52052,     0.52152,     0.52252,     0.52352,     0.52452,     0.52553,     0.52653,     0.52753,\n",
       "           0.52853,     0.52953,     0.53053,     0.53153,     0.53253,     0.53353,     0.53453,     0.53554,     0.53654,     0.53754,     0.53854,     0.53954,     0.54054,     0.54154,     0.54254,     0.54354,     0.54454,     0.54555,     0.54655,     0.54755,     0.54855,     0.54955,     0.55055,     0.55155,\n",
       "           0.55255,     0.55355,     0.55455,     0.55556,     0.55656,     0.55756,     0.55856,     0.55956,     0.56056,     0.56156,     0.56256,     0.56356,     0.56456,     0.56557,     0.56657,     0.56757,     0.56857,     0.56957,     0.57057,     0.57157,     0.57257,     0.57357,     0.57457,     0.57558,\n",
       "           0.57658,     0.57758,     0.57858,     0.57958,     0.58058,     0.58158,     0.58258,     0.58358,     0.58458,     0.58559,     0.58659,     0.58759,     0.58859,     0.58959,     0.59059,     0.59159,     0.59259,     0.59359,     0.59459,      0.5956,      0.5966,      0.5976,      0.5986,      0.5996,\n",
       "            0.6006,      0.6016,      0.6026,      0.6036,      0.6046,     0.60561,     0.60661,     0.60761,     0.60861,     0.60961,     0.61061,     0.61161,     0.61261,     0.61361,     0.61461,     0.61562,     0.61662,     0.61762,     0.61862,     0.61962,     0.62062,     0.62162,     0.62262,     0.62362,\n",
       "           0.62462,     0.62563,     0.62663,     0.62763,     0.62863,     0.62963,     0.63063,     0.63163,     0.63263,     0.63363,     0.63463,     0.63564,     0.63664,     0.63764,     0.63864,     0.63964,     0.64064,     0.64164,     0.64264,     0.64364,     0.64464,     0.64565,     0.64665,     0.64765,\n",
       "           0.64865,     0.64965,     0.65065,     0.65165,     0.65265,     0.65365,     0.65465,     0.65566,     0.65666,     0.65766,     0.65866,     0.65966,     0.66066,     0.66166,     0.66266,     0.66366,     0.66466,     0.66567,     0.66667,     0.66767,     0.66867,     0.66967,     0.67067,     0.67167,\n",
       "           0.67267,     0.67367,     0.67467,     0.67568,     0.67668,     0.67768,     0.67868,     0.67968,     0.68068,     0.68168,     0.68268,     0.68368,     0.68468,     0.68569,     0.68669,     0.68769,     0.68869,     0.68969,     0.69069,     0.69169,     0.69269,     0.69369,     0.69469,      0.6957,\n",
       "            0.6967,      0.6977,      0.6987,      0.6997,      0.7007,      0.7017,      0.7027,      0.7037,      0.7047,     0.70571,     0.70671,     0.70771,     0.70871,     0.70971,     0.71071,     0.71171,     0.71271,     0.71371,     0.71471,     0.71572,     0.71672,     0.71772,     0.71872,     0.71972,\n",
       "           0.72072,     0.72172,     0.72272,     0.72372,     0.72472,     0.72573,     0.72673,     0.72773,     0.72873,     0.72973,     0.73073,     0.73173,     0.73273,     0.73373,     0.73473,     0.73574,     0.73674,     0.73774,     0.73874,     0.73974,     0.74074,     0.74174,     0.74274,     0.74374,\n",
       "           0.74474,     0.74575,     0.74675,     0.74775,     0.74875,     0.74975,     0.75075,     0.75175,     0.75275,     0.75375,     0.75475,     0.75576,     0.75676,     0.75776,     0.75876,     0.75976,     0.76076,     0.76176,     0.76276,     0.76376,     0.76476,     0.76577,     0.76677,     0.76777,\n",
       "           0.76877,     0.76977,     0.77077,     0.77177,     0.77277,     0.77377,     0.77477,     0.77578,     0.77678,     0.77778,     0.77878,     0.77978,     0.78078,     0.78178,     0.78278,     0.78378,     0.78478,     0.78579,     0.78679,     0.78779,     0.78879,     0.78979,     0.79079,     0.79179,\n",
       "           0.79279,     0.79379,     0.79479,      0.7958,      0.7968,      0.7978,      0.7988,      0.7998,      0.8008,      0.8018,      0.8028,      0.8038,      0.8048,     0.80581,     0.80681,     0.80781,     0.80881,     0.80981,     0.81081,     0.81181,     0.81281,     0.81381,     0.81481,     0.81582,\n",
       "           0.81682,     0.81782,     0.81882,     0.81982,     0.82082,     0.82182,     0.82282,     0.82382,     0.82482,     0.82583,     0.82683,     0.82783,     0.82883,     0.82983,     0.83083,     0.83183,     0.83283,     0.83383,     0.83483,     0.83584,     0.83684,     0.83784,     0.83884,     0.83984,\n",
       "           0.84084,     0.84184,     0.84284,     0.84384,     0.84484,     0.84585,     0.84685,     0.84785,     0.84885,     0.84985,     0.85085,     0.85185,     0.85285,     0.85385,     0.85485,     0.85586,     0.85686,     0.85786,     0.85886,     0.85986,     0.86086,     0.86186,     0.86286,     0.86386,\n",
       "           0.86486,     0.86587,     0.86687,     0.86787,     0.86887,     0.86987,     0.87087,     0.87187,     0.87287,     0.87387,     0.87487,     0.87588,     0.87688,     0.87788,     0.87888,     0.87988,     0.88088,     0.88188,     0.88288,     0.88388,     0.88488,     0.88589,     0.88689,     0.88789,\n",
       "           0.88889,     0.88989,     0.89089,     0.89189,     0.89289,     0.89389,     0.89489,      0.8959,      0.8969,      0.8979,      0.8989,      0.8999,      0.9009,      0.9019,      0.9029,      0.9039,      0.9049,     0.90591,     0.90691,     0.90791,     0.90891,     0.90991,     0.91091,     0.91191,\n",
       "           0.91291,     0.91391,     0.91491,     0.91592,     0.91692,     0.91792,     0.91892,     0.91992,     0.92092,     0.92192,     0.92292,     0.92392,     0.92492,     0.92593,     0.92693,     0.92793,     0.92893,     0.92993,     0.93093,     0.93193,     0.93293,     0.93393,     0.93493,     0.93594,\n",
       "           0.93694,     0.93794,     0.93894,     0.93994,     0.94094,     0.94194,     0.94294,     0.94394,     0.94494,     0.94595,     0.94695,     0.94795,     0.94895,     0.94995,     0.95095,     0.95195,     0.95295,     0.95395,     0.95495,     0.95596,     0.95696,     0.95796,     0.95896,     0.95996,\n",
       "           0.96096,     0.96196,     0.96296,     0.96396,     0.96496,     0.96597,     0.96697,     0.96797,     0.96897,     0.96997,     0.97097,     0.97197,     0.97297,     0.97397,     0.97497,     0.97598,     0.97698,     0.97798,     0.97898,     0.97998,     0.98098,     0.98198,     0.98298,     0.98398,\n",
       "           0.98498,     0.98599,     0.98699,     0.98799,     0.98899,     0.98999,     0.99099,     0.99199,     0.99299,     0.99399,     0.99499,       0.996,       0.997,       0.998,       0.999,           1]), array([[   0.055581,    0.055581,    0.075914, ...,           1,           1,           1],\n",
       "       [   0.085137,    0.085137,     0.12263, ...,           1,           1,           1],\n",
       "       [    0.13135,     0.13135,     0.19028, ...,           1,           1,           1],\n",
       "       [    0.11069,     0.11069,     0.14536, ...,           1,           1,           1],\n",
       "       [    0.22617,     0.22617,     0.31251, ...,           1,           1,           1]]), 'Confidence', 'Precision'], [array([          0,    0.001001,    0.002002,    0.003003,    0.004004,    0.005005,    0.006006,    0.007007,    0.008008,    0.009009,     0.01001,    0.011011,    0.012012,    0.013013,    0.014014,    0.015015,    0.016016,    0.017017,    0.018018,    0.019019,     0.02002,    0.021021,    0.022022,    0.023023,\n",
       "          0.024024,    0.025025,    0.026026,    0.027027,    0.028028,    0.029029,     0.03003,    0.031031,    0.032032,    0.033033,    0.034034,    0.035035,    0.036036,    0.037037,    0.038038,    0.039039,     0.04004,    0.041041,    0.042042,    0.043043,    0.044044,    0.045045,    0.046046,    0.047047,\n",
       "          0.048048,    0.049049,     0.05005,    0.051051,    0.052052,    0.053053,    0.054054,    0.055055,    0.056056,    0.057057,    0.058058,    0.059059,     0.06006,    0.061061,    0.062062,    0.063063,    0.064064,    0.065065,    0.066066,    0.067067,    0.068068,    0.069069,     0.07007,    0.071071,\n",
       "          0.072072,    0.073073,    0.074074,    0.075075,    0.076076,    0.077077,    0.078078,    0.079079,     0.08008,    0.081081,    0.082082,    0.083083,    0.084084,    0.085085,    0.086086,    0.087087,    0.088088,    0.089089,     0.09009,    0.091091,    0.092092,    0.093093,    0.094094,    0.095095,\n",
       "          0.096096,    0.097097,    0.098098,    0.099099,      0.1001,      0.1011,      0.1021,      0.1031,      0.1041,     0.10511,     0.10611,     0.10711,     0.10811,     0.10911,     0.11011,     0.11111,     0.11211,     0.11311,     0.11411,     0.11512,     0.11612,     0.11712,     0.11812,     0.11912,\n",
       "           0.12012,     0.12112,     0.12212,     0.12312,     0.12412,     0.12513,     0.12613,     0.12713,     0.12813,     0.12913,     0.13013,     0.13113,     0.13213,     0.13313,     0.13413,     0.13514,     0.13614,     0.13714,     0.13814,     0.13914,     0.14014,     0.14114,     0.14214,     0.14314,\n",
       "           0.14414,     0.14515,     0.14615,     0.14715,     0.14815,     0.14915,     0.15015,     0.15115,     0.15215,     0.15315,     0.15415,     0.15516,     0.15616,     0.15716,     0.15816,     0.15916,     0.16016,     0.16116,     0.16216,     0.16316,     0.16416,     0.16517,     0.16617,     0.16717,\n",
       "           0.16817,     0.16917,     0.17017,     0.17117,     0.17217,     0.17317,     0.17417,     0.17518,     0.17618,     0.17718,     0.17818,     0.17918,     0.18018,     0.18118,     0.18218,     0.18318,     0.18418,     0.18519,     0.18619,     0.18719,     0.18819,     0.18919,     0.19019,     0.19119,\n",
       "           0.19219,     0.19319,     0.19419,      0.1952,      0.1962,      0.1972,      0.1982,      0.1992,      0.2002,      0.2012,      0.2022,      0.2032,      0.2042,     0.20521,     0.20621,     0.20721,     0.20821,     0.20921,     0.21021,     0.21121,     0.21221,     0.21321,     0.21421,     0.21522,\n",
       "           0.21622,     0.21722,     0.21822,     0.21922,     0.22022,     0.22122,     0.22222,     0.22322,     0.22422,     0.22523,     0.22623,     0.22723,     0.22823,     0.22923,     0.23023,     0.23123,     0.23223,     0.23323,     0.23423,     0.23524,     0.23624,     0.23724,     0.23824,     0.23924,\n",
       "           0.24024,     0.24124,     0.24224,     0.24324,     0.24424,     0.24525,     0.24625,     0.24725,     0.24825,     0.24925,     0.25025,     0.25125,     0.25225,     0.25325,     0.25425,     0.25526,     0.25626,     0.25726,     0.25826,     0.25926,     0.26026,     0.26126,     0.26226,     0.26326,\n",
       "           0.26426,     0.26527,     0.26627,     0.26727,     0.26827,     0.26927,     0.27027,     0.27127,     0.27227,     0.27327,     0.27427,     0.27528,     0.27628,     0.27728,     0.27828,     0.27928,     0.28028,     0.28128,     0.28228,     0.28328,     0.28428,     0.28529,     0.28629,     0.28729,\n",
       "           0.28829,     0.28929,     0.29029,     0.29129,     0.29229,     0.29329,     0.29429,      0.2953,      0.2963,      0.2973,      0.2983,      0.2993,      0.3003,      0.3013,      0.3023,      0.3033,      0.3043,     0.30531,     0.30631,     0.30731,     0.30831,     0.30931,     0.31031,     0.31131,\n",
       "           0.31231,     0.31331,     0.31431,     0.31532,     0.31632,     0.31732,     0.31832,     0.31932,     0.32032,     0.32132,     0.32232,     0.32332,     0.32432,     0.32533,     0.32633,     0.32733,     0.32833,     0.32933,     0.33033,     0.33133,     0.33233,     0.33333,     0.33433,     0.33534,\n",
       "           0.33634,     0.33734,     0.33834,     0.33934,     0.34034,     0.34134,     0.34234,     0.34334,     0.34434,     0.34535,     0.34635,     0.34735,     0.34835,     0.34935,     0.35035,     0.35135,     0.35235,     0.35335,     0.35435,     0.35536,     0.35636,     0.35736,     0.35836,     0.35936,\n",
       "           0.36036,     0.36136,     0.36236,     0.36336,     0.36436,     0.36537,     0.36637,     0.36737,     0.36837,     0.36937,     0.37037,     0.37137,     0.37237,     0.37337,     0.37437,     0.37538,     0.37638,     0.37738,     0.37838,     0.37938,     0.38038,     0.38138,     0.38238,     0.38338,\n",
       "           0.38438,     0.38539,     0.38639,     0.38739,     0.38839,     0.38939,     0.39039,     0.39139,     0.39239,     0.39339,     0.39439,      0.3954,      0.3964,      0.3974,      0.3984,      0.3994,      0.4004,      0.4014,      0.4024,      0.4034,      0.4044,     0.40541,     0.40641,     0.40741,\n",
       "           0.40841,     0.40941,     0.41041,     0.41141,     0.41241,     0.41341,     0.41441,     0.41542,     0.41642,     0.41742,     0.41842,     0.41942,     0.42042,     0.42142,     0.42242,     0.42342,     0.42442,     0.42543,     0.42643,     0.42743,     0.42843,     0.42943,     0.43043,     0.43143,\n",
       "           0.43243,     0.43343,     0.43443,     0.43544,     0.43644,     0.43744,     0.43844,     0.43944,     0.44044,     0.44144,     0.44244,     0.44344,     0.44444,     0.44545,     0.44645,     0.44745,     0.44845,     0.44945,     0.45045,     0.45145,     0.45245,     0.45345,     0.45445,     0.45546,\n",
       "           0.45646,     0.45746,     0.45846,     0.45946,     0.46046,     0.46146,     0.46246,     0.46346,     0.46446,     0.46547,     0.46647,     0.46747,     0.46847,     0.46947,     0.47047,     0.47147,     0.47247,     0.47347,     0.47447,     0.47548,     0.47648,     0.47748,     0.47848,     0.47948,\n",
       "           0.48048,     0.48148,     0.48248,     0.48348,     0.48448,     0.48549,     0.48649,     0.48749,     0.48849,     0.48949,     0.49049,     0.49149,     0.49249,     0.49349,     0.49449,      0.4955,      0.4965,      0.4975,      0.4985,      0.4995,      0.5005,      0.5015,      0.5025,      0.5035,\n",
       "            0.5045,     0.50551,     0.50651,     0.50751,     0.50851,     0.50951,     0.51051,     0.51151,     0.51251,     0.51351,     0.51451,     0.51552,     0.51652,     0.51752,     0.51852,     0.51952,     0.52052,     0.52152,     0.52252,     0.52352,     0.52452,     0.52553,     0.52653,     0.52753,\n",
       "           0.52853,     0.52953,     0.53053,     0.53153,     0.53253,     0.53353,     0.53453,     0.53554,     0.53654,     0.53754,     0.53854,     0.53954,     0.54054,     0.54154,     0.54254,     0.54354,     0.54454,     0.54555,     0.54655,     0.54755,     0.54855,     0.54955,     0.55055,     0.55155,\n",
       "           0.55255,     0.55355,     0.55455,     0.55556,     0.55656,     0.55756,     0.55856,     0.55956,     0.56056,     0.56156,     0.56256,     0.56356,     0.56456,     0.56557,     0.56657,     0.56757,     0.56857,     0.56957,     0.57057,     0.57157,     0.57257,     0.57357,     0.57457,     0.57558,\n",
       "           0.57658,     0.57758,     0.57858,     0.57958,     0.58058,     0.58158,     0.58258,     0.58358,     0.58458,     0.58559,     0.58659,     0.58759,     0.58859,     0.58959,     0.59059,     0.59159,     0.59259,     0.59359,     0.59459,      0.5956,      0.5966,      0.5976,      0.5986,      0.5996,\n",
       "            0.6006,      0.6016,      0.6026,      0.6036,      0.6046,     0.60561,     0.60661,     0.60761,     0.60861,     0.60961,     0.61061,     0.61161,     0.61261,     0.61361,     0.61461,     0.61562,     0.61662,     0.61762,     0.61862,     0.61962,     0.62062,     0.62162,     0.62262,     0.62362,\n",
       "           0.62462,     0.62563,     0.62663,     0.62763,     0.62863,     0.62963,     0.63063,     0.63163,     0.63263,     0.63363,     0.63463,     0.63564,     0.63664,     0.63764,     0.63864,     0.63964,     0.64064,     0.64164,     0.64264,     0.64364,     0.64464,     0.64565,     0.64665,     0.64765,\n",
       "           0.64865,     0.64965,     0.65065,     0.65165,     0.65265,     0.65365,     0.65465,     0.65566,     0.65666,     0.65766,     0.65866,     0.65966,     0.66066,     0.66166,     0.66266,     0.66366,     0.66466,     0.66567,     0.66667,     0.66767,     0.66867,     0.66967,     0.67067,     0.67167,\n",
       "           0.67267,     0.67367,     0.67467,     0.67568,     0.67668,     0.67768,     0.67868,     0.67968,     0.68068,     0.68168,     0.68268,     0.68368,     0.68468,     0.68569,     0.68669,     0.68769,     0.68869,     0.68969,     0.69069,     0.69169,     0.69269,     0.69369,     0.69469,      0.6957,\n",
       "            0.6967,      0.6977,      0.6987,      0.6997,      0.7007,      0.7017,      0.7027,      0.7037,      0.7047,     0.70571,     0.70671,     0.70771,     0.70871,     0.70971,     0.71071,     0.71171,     0.71271,     0.71371,     0.71471,     0.71572,     0.71672,     0.71772,     0.71872,     0.71972,\n",
       "           0.72072,     0.72172,     0.72272,     0.72372,     0.72472,     0.72573,     0.72673,     0.72773,     0.72873,     0.72973,     0.73073,     0.73173,     0.73273,     0.73373,     0.73473,     0.73574,     0.73674,     0.73774,     0.73874,     0.73974,     0.74074,     0.74174,     0.74274,     0.74374,\n",
       "           0.74474,     0.74575,     0.74675,     0.74775,     0.74875,     0.74975,     0.75075,     0.75175,     0.75275,     0.75375,     0.75475,     0.75576,     0.75676,     0.75776,     0.75876,     0.75976,     0.76076,     0.76176,     0.76276,     0.76376,     0.76476,     0.76577,     0.76677,     0.76777,\n",
       "           0.76877,     0.76977,     0.77077,     0.77177,     0.77277,     0.77377,     0.77477,     0.77578,     0.77678,     0.77778,     0.77878,     0.77978,     0.78078,     0.78178,     0.78278,     0.78378,     0.78478,     0.78579,     0.78679,     0.78779,     0.78879,     0.78979,     0.79079,     0.79179,\n",
       "           0.79279,     0.79379,     0.79479,      0.7958,      0.7968,      0.7978,      0.7988,      0.7998,      0.8008,      0.8018,      0.8028,      0.8038,      0.8048,     0.80581,     0.80681,     0.80781,     0.80881,     0.80981,     0.81081,     0.81181,     0.81281,     0.81381,     0.81481,     0.81582,\n",
       "           0.81682,     0.81782,     0.81882,     0.81982,     0.82082,     0.82182,     0.82282,     0.82382,     0.82482,     0.82583,     0.82683,     0.82783,     0.82883,     0.82983,     0.83083,     0.83183,     0.83283,     0.83383,     0.83483,     0.83584,     0.83684,     0.83784,     0.83884,     0.83984,\n",
       "           0.84084,     0.84184,     0.84284,     0.84384,     0.84484,     0.84585,     0.84685,     0.84785,     0.84885,     0.84985,     0.85085,     0.85185,     0.85285,     0.85385,     0.85485,     0.85586,     0.85686,     0.85786,     0.85886,     0.85986,     0.86086,     0.86186,     0.86286,     0.86386,\n",
       "           0.86486,     0.86587,     0.86687,     0.86787,     0.86887,     0.86987,     0.87087,     0.87187,     0.87287,     0.87387,     0.87487,     0.87588,     0.87688,     0.87788,     0.87888,     0.87988,     0.88088,     0.88188,     0.88288,     0.88388,     0.88488,     0.88589,     0.88689,     0.88789,\n",
       "           0.88889,     0.88989,     0.89089,     0.89189,     0.89289,     0.89389,     0.89489,      0.8959,      0.8969,      0.8979,      0.8989,      0.8999,      0.9009,      0.9019,      0.9029,      0.9039,      0.9049,     0.90591,     0.90691,     0.90791,     0.90891,     0.90991,     0.91091,     0.91191,\n",
       "           0.91291,     0.91391,     0.91491,     0.91592,     0.91692,     0.91792,     0.91892,     0.91992,     0.92092,     0.92192,     0.92292,     0.92392,     0.92492,     0.92593,     0.92693,     0.92793,     0.92893,     0.92993,     0.93093,     0.93193,     0.93293,     0.93393,     0.93493,     0.93594,\n",
       "           0.93694,     0.93794,     0.93894,     0.93994,     0.94094,     0.94194,     0.94294,     0.94394,     0.94494,     0.94595,     0.94695,     0.94795,     0.94895,     0.94995,     0.95095,     0.95195,     0.95295,     0.95395,     0.95495,     0.95596,     0.95696,     0.95796,     0.95896,     0.95996,\n",
       "           0.96096,     0.96196,     0.96296,     0.96396,     0.96496,     0.96597,     0.96697,     0.96797,     0.96897,     0.96997,     0.97097,     0.97197,     0.97297,     0.97397,     0.97497,     0.97598,     0.97698,     0.97798,     0.97898,     0.97998,     0.98098,     0.98198,     0.98298,     0.98398,\n",
       "           0.98498,     0.98599,     0.98699,     0.98799,     0.98899,     0.98999,     0.99099,     0.99199,     0.99299,     0.99399,     0.99499,       0.996,       0.997,       0.998,       0.999,           1]), array([[    0.77181,     0.77181,     0.73957, ...,           0,           0,           0],\n",
       "       [          1,           1,     0.99153, ...,           0,           0,           0],\n",
       "       [        0.9,         0.9,     0.89259, ...,           0,           0,           0],\n",
       "       [    0.86106,     0.86106,     0.84959, ...,           0,           0,           0],\n",
       "       [    0.95155,     0.95155,     0.94347, ...,           0,           0,           0]]), 'Confidence', 'Recall']]\n",
       "fitness: 0.5325482044177406\n",
       "keys: ['metrics/precision(B)', 'metrics/recall(B)', 'metrics/mAP50(B)', 'metrics/mAP50-95(B)']\n",
       "maps: array([    0.25248,     0.82756,     0.44829,     0.38892,     0.61992,     0.50743])\n",
       "names: {0: 'Car', 1: 'STN', 2: 'Tree', 3: 'Bird', 4: 'House', 5: 'Cable'}\n",
       "plot: True\n",
       "results_dict: {'metrics/precision(B)': 0.7866285979721687, 'metrics/recall(B)': 0.7143531318931234, 'metrics/mAP50(B)': 0.7585861195892118, 'metrics/mAP50-95(B)': 0.5074328805097994, 'fitness': 0.5325482044177406}\n",
       "save_dir: WindowsPath('runs/detect/train')\n",
       "speed: {'preprocess': 0.29552917854458677, 'inference': 1.7310641392940231, 'loss': 0.0007007302356367352, 'postprocess': 1.353638345787839}\n",
       "task: 'detect'"
      ]
     },
     "execution_count": 3,
     "metadata": {},
     "output_type": "execute_result"
    }
   ],
   "source": [
    "model = YOLO('yolov8n.yaml').load('yolov8n.pt')\n",
    "model.train(\n",
    "    data=pathYalm, \n",
    "    epochs=epochTraning, \n",
    "    patience=patience, \n",
    "    imgsz=imgsz,\n",
    "    device=0\n",
    ") "
   ]
  },
  {
   "cell_type": "code",
   "execution_count": null,
   "id": "ab63b41e-430d-4aa7-8900-6ea9d2543102",
   "metadata": {},
   "outputs": [
    {
     "name": "stdout",
     "output_type": "stream",
     "text": [
      "WARNING  Ultralytics YOLO P6 models now use -p6 suffix. Renaming yolov5n6 to yolov5n-p6.\n",
      "PRO TIP  Replace 'model=yolov5n6.pt' with new 'model=yolov5n6u.pt'.\n",
      "YOLOv5 'u' models are trained with https://github.com/ultralytics/ultralytics and feature improved performance vs standard YOLOv5 models trained with https://github.com/ultralytics/yolov5.\n",
      "\n",
      "Transferred 563/563 items from pretrained weights\n",
      "Ultralytics YOLOv8.1.47  Python-3.9.6 torch-2.1.0+cu121 CUDA:0 (NVIDIA GeForce RTX 3080, 10240MiB)\n",
      "\u001b[34m\u001b[1mengine\\trainer: \u001b[0mtask=detect, mode=train, model=yolov5n6.yaml, data=./DATA/yolo.yaml, epochs=250, time=None, patience=30, batch=16, imgsz=1280, save=True, save_period=-1, cache=False, device=0, workers=8, project=None, name=train2, exist_ok=False, pretrained=True, optimizer=auto, verbose=True, seed=0, deterministic=True, single_cls=False, rect=False, cos_lr=False, close_mosaic=10, resume=False, amp=True, fraction=1.0, profile=False, freeze=None, multi_scale=False, overlap_mask=True, mask_ratio=4, dropout=0.0, val=True, split=val, save_json=False, save_hybrid=False, conf=None, iou=0.7, max_det=300, half=False, dnn=False, plots=True, source=None, vid_stride=1, stream_buffer=False, visualize=False, augment=False, agnostic_nms=False, classes=None, retina_masks=False, embed=None, show=False, save_frames=False, save_txt=False, save_conf=False, save_crop=False, show_labels=True, show_conf=True, show_boxes=True, line_width=None, format=torchscript, keras=False, optimize=False, int8=False, dynamic=False, simplify=False, opset=None, workspace=4, nms=False, lr0=0.01, lrf=0.01, momentum=0.937, weight_decay=0.0005, warmup_epochs=3.0, warmup_momentum=0.8, warmup_bias_lr=0.1, box=7.5, cls=0.5, dfl=1.5, pose=12.0, kobj=1.0, label_smoothing=0.0, nbs=64, hsv_h=0.015, hsv_s=0.7, hsv_v=0.4, degrees=0.0, translate=0.1, scale=0.5, shear=0.0, perspective=0.0, flipud=0.0, fliplr=0.5, bgr=0.0, mosaic=1.0, mixup=0.0, copy_paste=0.0, auto_augment=randaugment, erasing=0.4, crop_fraction=1.0, cfg=None, tracker=botsort.yaml, save_dir=runs\\detect\\train2\n",
      "Overriding model.yaml nc=80 with nc=6\n",
      "\n",
      "                   from  n    params  module                                       arguments                     \n",
      "  0                  -1  1      1760  ultralytics.nn.modules.conv.Conv             [3, 16, 6, 2, 2]              \n",
      "  1                  -1  1      4672  ultralytics.nn.modules.conv.Conv             [16, 32, 3, 2]                \n",
      "  2                  -1  1      4800  ultralytics.nn.modules.block.C3              [32, 32, 1]                   \n",
      "  3                  -1  1     18560  ultralytics.nn.modules.conv.Conv             [32, 64, 3, 2]                \n",
      "  4                  -1  2     29184  ultralytics.nn.modules.block.C3              [64, 64, 2]                   \n",
      "  5                  -1  1     73984  ultralytics.nn.modules.conv.Conv             [64, 128, 3, 2]               \n",
      "  6                  -1  3    156928  ultralytics.nn.modules.block.C3              [128, 128, 3]                 \n",
      "  7                  -1  1    221568  ultralytics.nn.modules.conv.Conv             [128, 192, 3, 2]              \n",
      "  8                  -1  1    167040  ultralytics.nn.modules.block.C3              [192, 192, 1]                 \n",
      "  9                  -1  1    442880  ultralytics.nn.modules.conv.Conv             [192, 256, 3, 2]              \n",
      " 10                  -1  1    296448  ultralytics.nn.modules.block.C3              [256, 256, 1]                 \n",
      " 11                  -1  1    164608  ultralytics.nn.modules.block.SPPF            [256, 256, 5]                 \n",
      " 12                  -1  1     49536  ultralytics.nn.modules.conv.Conv             [256, 192, 1, 1]              \n",
      " 13                  -1  1         0  torch.nn.modules.upsampling.Upsample         [None, 2, 'nearest']          \n",
      " 14             [-1, 8]  1         0  ultralytics.nn.modules.conv.Concat           [1]                           \n",
      " 15                  -1  1    203904  ultralytics.nn.modules.block.C3              [384, 192, 1, False]          \n",
      " 16                  -1  1     24832  ultralytics.nn.modules.conv.Conv             [192, 128, 1, 1]              \n",
      " 17                  -1  1         0  torch.nn.modules.upsampling.Upsample         [None, 2, 'nearest']          \n",
      " 18             [-1, 6]  1         0  ultralytics.nn.modules.conv.Concat           [1]                           \n",
      " 19                  -1  1     90880  ultralytics.nn.modules.block.C3              [256, 128, 1, False]          \n",
      " 20                  -1  1      8320  ultralytics.nn.modules.conv.Conv             [128, 64, 1, 1]               \n",
      " 21                  -1  1         0  torch.nn.modules.upsampling.Upsample         [None, 2, 'nearest']          \n",
      " 22             [-1, 4]  1         0  ultralytics.nn.modules.conv.Concat           [1]                           \n",
      " 23                  -1  1     22912  ultralytics.nn.modules.block.C3              [128, 64, 1, False]           \n",
      " 24                  -1  1     36992  ultralytics.nn.modules.conv.Conv             [64, 64, 3, 2]                \n",
      " 25            [-1, 20]  1         0  ultralytics.nn.modules.conv.Concat           [1]                           \n",
      " 26                  -1  1     74496  ultralytics.nn.modules.block.C3              [128, 128, 1, False]          \n",
      " 27                  -1  1    147712  ultralytics.nn.modules.conv.Conv             [128, 128, 3, 2]              \n",
      " 28            [-1, 16]  1         0  ultralytics.nn.modules.conv.Concat           [1]                           \n",
      " 29                  -1  1    179328  ultralytics.nn.modules.block.C3              [256, 192, 1, False]          \n",
      " 30                  -1  1    332160  ultralytics.nn.modules.conv.Conv             [192, 192, 3, 2]              \n",
      " 31            [-1, 12]  1         0  ultralytics.nn.modules.conv.Concat           [1]                           \n",
      " 32                  -1  1    329216  ultralytics.nn.modules.block.C3              [384, 256, 1, False]          \n",
      " 33    [23, 26, 29, 32]  1   1052456  ultralytics.nn.modules.head.Detect           [6, [64, 128, 192, 256]]      \n",
      "YOLOv5n-p6 summary: 344 layers, 4135176 parameters, 4135160 gradients, 7.3 GFLOPs\n",
      "\n",
      "Transferred 515/563 items from pretrained weights\n",
      "Freezing layer 'model.33.dfl.conv.weight'\n",
      "\u001b[34m\u001b[1mAMP: \u001b[0mrunning Automatic Mixed Precision (AMP) checks with YOLOv8n...\n",
      "\u001b[34m\u001b[1mAMP: \u001b[0mchecks passed \n"
     ]
    },
    {
     "name": "stderr",
     "output_type": "stream",
     "text": [
      "\u001b[34m\u001b[1mtrain: \u001b[0mScanning D:\\MyProjects\\Хакатоны\\TerraWing\\src\\neural_network\\DATA\\train\\labels.cache... 4973 images, 873 backgro\u001b[0m"
     ]
    },
    {
     "name": "stdout",
     "output_type": "stream",
     "text": [
      "\u001b[34m\u001b[1mtrain: \u001b[0mWARNING  D:\\MyProjects\\\\TerraWing\\src\\neural_network\\DATA\\train\\images\\image_000001036_jpg.rf.3eb241105e26834305cefe3448dc4f6e.jpg: 1 duplicate labels removed\n"
     ]
    },
    {
     "name": "stderr",
     "output_type": "stream",
     "text": [
      "\n",
      "\u001b[34m\u001b[1mval: \u001b[0mScanning D:\\MyProjects\\Хакатоны\\TerraWing\\src\\neural_network\\DATA\\valid\\labels.cache... 1428 images, 241 backgroun\u001b[0m\n"
     ]
    },
    {
     "name": "stdout",
     "output_type": "stream",
     "text": [
      "Plotting labels to runs\\detect\\train2\\labels.jpg... \n",
      "\u001b[34m\u001b[1moptimizer:\u001b[0m 'optimizer=auto' found, ignoring 'lr0=0.01' and 'momentum=0.937' and determining best 'optimizer', 'lr0' and 'momentum' automatically... \n",
      "\u001b[34m\u001b[1moptimizer:\u001b[0m SGD(lr=0.01, momentum=0.9) with parameter groups 91 weight(decay=0.0), 100 weight(decay=0.0005), 99 bias(decay=0.0)\n",
      "Image sizes 1280 train, 1280 val\n",
      "Using 8 dataloader workers\n",
      "Logging results to \u001b[1mruns\\detect\\train2\u001b[0m\n",
      "Starting training for 250 epochs...\n",
      "\n",
      "      Epoch    GPU_mem   box_loss   cls_loss   dfl_loss  Instances       Size\n"
     ]
    },
    {
     "name": "stderr",
     "output_type": "stream",
     "text": [
      "      1/250      10.5G      1.401      3.785      1.482         56       1280: 100%|██████████| 311/311 [02:19<00:00,  \n",
      "                 Class     Images  Instances      Box(P          R      mAP50  mAP50-95): 100%|██████████| 45/45 [00:23\n"
     ]
    },
    {
     "name": "stdout",
     "output_type": "stream",
     "text": [
      "                   all       1428       4552      0.513      0.485      0.449      0.245\n",
      "\n",
      "      Epoch    GPU_mem   box_loss   cls_loss   dfl_loss  Instances       Size\n"
     ]
    },
    {
     "name": "stderr",
     "output_type": "stream",
     "text": [
      "      2/250      11.3G      1.452      2.824      1.495         74       1280: 100%|██████████| 311/311 [02:09<00:00,  \n",
      "                 Class     Images  Instances      Box(P          R      mAP50  mAP50-95): 100%|██████████| 45/45 [00:37\n"
     ]
    },
    {
     "name": "stdout",
     "output_type": "stream",
     "text": [
      "                   all       1428       4552      0.522      0.478       0.46      0.244\n",
      "\n",
      "      Epoch    GPU_mem   box_loss   cls_loss   dfl_loss  Instances       Size\n"
     ]
    },
    {
     "name": "stderr",
     "output_type": "stream",
     "text": [
      "      3/250        11G      1.556      2.417      1.565         93       1280: 100%|██████████| 311/311 [02:26<00:00,  \n",
      "                 Class     Images  Instances      Box(P          R      mAP50  mAP50-95): 100%|██████████| 45/45 [00:20\n"
     ]
    },
    {
     "name": "stdout",
     "output_type": "stream",
     "text": [
      "                   all       1428       4552      0.512      0.422        0.4      0.196\n",
      "\n",
      "      Epoch    GPU_mem   box_loss   cls_loss   dfl_loss  Instances       Size\n"
     ]
    },
    {
     "name": "stderr",
     "output_type": "stream",
     "text": [
      "      4/250      12.3G      1.651      2.154      1.623         48       1280: 100%|██████████| 311/311 [02:10<00:00,  \n",
      "                 Class     Images  Instances      Box(P          R      mAP50  mAP50-95): 100%|██████████| 45/45 [00:55"
     ]
    },
    {
     "name": "stdout",
     "output_type": "stream",
     "text": [
      "                   all       1428       4552      0.551      0.454      0.459      0.238\n"
     ]
    },
    {
     "name": "stderr",
     "output_type": "stream",
     "text": [
      "\n"
     ]
    },
    {
     "name": "stdout",
     "output_type": "stream",
     "text": [
      "\n",
      "      Epoch    GPU_mem   box_loss   cls_loss   dfl_loss  Instances       Size\n"
     ]
    },
    {
     "name": "stderr",
     "output_type": "stream",
     "text": [
      "      5/250      10.8G      1.623      1.941      1.613        123       1280: 100%|██████████| 311/311 [02:04<00:00,  \n",
      "                 Class     Images  Instances      Box(P          R      mAP50  mAP50-95): 100%|██████████| 45/45 [00:30"
     ]
    },
    {
     "name": "stdout",
     "output_type": "stream",
     "text": [
      "                   all       1428       4552      0.523      0.454      0.445      0.231\n"
     ]
    },
    {
     "name": "stderr",
     "output_type": "stream",
     "text": [
      "\n"
     ]
    },
    {
     "name": "stdout",
     "output_type": "stream",
     "text": [
      "\n",
      "      Epoch    GPU_mem   box_loss   cls_loss   dfl_loss  Instances       Size\n"
     ]
    },
    {
     "name": "stderr",
     "output_type": "stream",
     "text": [
      "      6/250      11.6G        1.6      1.842      1.584         69       1280: 100%|██████████| 311/311 [03:05<00:00,  \n",
      "                 Class     Images  Instances      Box(P          R      mAP50  mAP50-95): 100%|██████████| 45/45 [00:52"
     ]
    },
    {
     "name": "stdout",
     "output_type": "stream",
     "text": [
      "                   all       1428       4552      0.578      0.448      0.474      0.254\n"
     ]
    },
    {
     "name": "stderr",
     "output_type": "stream",
     "text": [
      "\n"
     ]
    },
    {
     "name": "stdout",
     "output_type": "stream",
     "text": [
      "\n",
      "      Epoch    GPU_mem   box_loss   cls_loss   dfl_loss  Instances       Size\n"
     ]
    },
    {
     "name": "stderr",
     "output_type": "stream",
     "text": [
      "      7/250      10.8G      1.554      1.767      1.566         47       1280: 100%|██████████| 311/311 [02:03<00:00,  \n",
      "                 Class     Images  Instances      Box(P          R      mAP50  mAP50-95): 100%|██████████| 45/45 [00:32"
     ]
    },
    {
     "name": "stdout",
     "output_type": "stream",
     "text": [
      "                   all       1428       4552      0.561       0.48      0.496      0.271\n"
     ]
    },
    {
     "name": "stderr",
     "output_type": "stream",
     "text": [
      "\n"
     ]
    },
    {
     "name": "stdout",
     "output_type": "stream",
     "text": [
      "\n",
      "      Epoch    GPU_mem   box_loss   cls_loss   dfl_loss  Instances       Size\n"
     ]
    },
    {
     "name": "stderr",
     "output_type": "stream",
     "text": [
      "      8/250      11.7G       1.56      1.698      1.557         49       1280: 100%|██████████| 311/311 [02:20<00:00,  \n",
      "                 Class     Images  Instances      Box(P          R      mAP50  mAP50-95): 100%|██████████| 45/45 [00:21\n"
     ]
    },
    {
     "name": "stdout",
     "output_type": "stream",
     "text": [
      "                   all       1428       4552      0.588      0.519      0.537      0.294\n",
      "\n",
      "      Epoch    GPU_mem   box_loss   cls_loss   dfl_loss  Instances       Size\n"
     ]
    },
    {
     "name": "stderr",
     "output_type": "stream",
     "text": [
      "      9/250      10.1G       1.53      1.679       1.55        135       1280: 100%|██████████| 311/311 [01:59<00:00,  \n",
      "                 Class     Images  Instances      Box(P          R      mAP50  mAP50-95): 100%|██████████| 45/45 [00:33"
     ]
    },
    {
     "name": "stdout",
     "output_type": "stream",
     "text": [
      "                   all       1428       4552       0.63      0.517      0.557      0.316\n"
     ]
    },
    {
     "name": "stderr",
     "output_type": "stream",
     "text": [
      "\n"
     ]
    },
    {
     "name": "stdout",
     "output_type": "stream",
     "text": [
      "\n",
      "      Epoch    GPU_mem   box_loss   cls_loss   dfl_loss  Instances       Size\n"
     ]
    },
    {
     "name": "stderr",
     "output_type": "stream",
     "text": [
      "     10/250      11.5G      1.513      1.611       1.52         59       1280: 100%|██████████| 311/311 [02:42<00:00,  \n",
      "                 Class     Images  Instances      Box(P          R      mAP50  mAP50-95): 100%|██████████| 45/45 [00:21"
     ]
    },
    {
     "name": "stdout",
     "output_type": "stream",
     "text": [
      "                   all       1428       4552      0.621      0.553      0.574      0.322\n"
     ]
    },
    {
     "name": "stderr",
     "output_type": "stream",
     "text": [
      "\n"
     ]
    },
    {
     "name": "stdout",
     "output_type": "stream",
     "text": [
      "\n",
      "      Epoch    GPU_mem   box_loss   cls_loss   dfl_loss  Instances       Size\n"
     ]
    },
    {
     "name": "stderr",
     "output_type": "stream",
     "text": [
      "     11/250        10G      1.483      1.568       1.51         87       1280: 100%|██████████| 311/311 [01:59<00:00,  \n",
      "                 Class     Images  Instances      Box(P          R      mAP50  mAP50-95): 100%|██████████| 45/45 [00:35"
     ]
    },
    {
     "name": "stdout",
     "output_type": "stream",
     "text": [
      "                   all       1428       4552      0.644      0.549      0.588      0.342\n"
     ]
    },
    {
     "name": "stderr",
     "output_type": "stream",
     "text": [
      "\n"
     ]
    },
    {
     "name": "stdout",
     "output_type": "stream",
     "text": [
      "\n",
      "      Epoch    GPU_mem   box_loss   cls_loss   dfl_loss  Instances       Size\n"
     ]
    },
    {
     "name": "stderr",
     "output_type": "stream",
     "text": [
      "     12/250      10.5G      1.468      1.519      1.492        124       1280: 100%|██████████| 311/311 [02:26<00:00,  \n",
      "                 Class     Images  Instances      Box(P          R      mAP50  mAP50-95): 100%|██████████| 45/45 [00:15\n"
     ]
    },
    {
     "name": "stdout",
     "output_type": "stream",
     "text": [
      "                   all       1428       4552      0.654      0.553      0.593      0.356\n",
      "\n",
      "      Epoch    GPU_mem   box_loss   cls_loss   dfl_loss  Instances       Size\n"
     ]
    },
    {
     "name": "stderr",
     "output_type": "stream",
     "text": [
      "     13/250        10G      1.456      1.499      1.489         57       1280: 100%|██████████| 311/311 [01:58<00:00,  \n",
      "                 Class     Images  Instances      Box(P          R      mAP50  mAP50-95): 100%|██████████| 45/45 [00:16"
     ]
    },
    {
     "name": "stdout",
     "output_type": "stream",
     "text": [
      "                   all       1428       4552      0.658      0.587      0.627      0.361\n"
     ]
    },
    {
     "name": "stderr",
     "output_type": "stream",
     "text": [
      "\n"
     ]
    },
    {
     "name": "stdout",
     "output_type": "stream",
     "text": [
      "\n",
      "      Epoch    GPU_mem   box_loss   cls_loss   dfl_loss  Instances       Size\n"
     ]
    },
    {
     "name": "stderr",
     "output_type": "stream",
     "text": [
      "     14/250      10.2G      1.444      1.478       1.48         78       1280: 100%|██████████| 311/311 [01:59<00:00,  \n",
      "                 Class     Images  Instances      Box(P          R      mAP50  mAP50-95): 100%|██████████| 45/45 [00:27"
     ]
    },
    {
     "name": "stdout",
     "output_type": "stream",
     "text": [
      "                   all       1428       4552      0.639      0.556      0.605      0.364\n"
     ]
    },
    {
     "name": "stderr",
     "output_type": "stream",
     "text": [
      "\n"
     ]
    },
    {
     "name": "stdout",
     "output_type": "stream",
     "text": [
      "\n",
      "      Epoch    GPU_mem   box_loss   cls_loss   dfl_loss  Instances       Size\n"
     ]
    },
    {
     "name": "stderr",
     "output_type": "stream",
     "text": [
      "     15/250      10.4G      1.436      1.464      1.467         72       1280: 100%|██████████| 311/311 [02:00<00:00,  \n",
      "                 Class     Images  Instances      Box(P          R      mAP50  mAP50-95): 100%|██████████| 45/45 [00:16"
     ]
    },
    {
     "name": "stdout",
     "output_type": "stream",
     "text": [
      "                   all       1428       4552      0.674      0.588      0.641      0.382\n"
     ]
    },
    {
     "name": "stderr",
     "output_type": "stream",
     "text": [
      "\n"
     ]
    },
    {
     "name": "stdout",
     "output_type": "stream",
     "text": [
      "\n",
      "      Epoch    GPU_mem   box_loss   cls_loss   dfl_loss  Instances       Size\n"
     ]
    },
    {
     "name": "stderr",
     "output_type": "stream",
     "text": [
      "     16/250      10.1G      1.419      1.422       1.46         88       1280: 100%|██████████| 311/311 [01:58<00:00,  \n",
      "                 Class     Images  Instances      Box(P          R      mAP50  mAP50-95): 100%|██████████| 45/45 [00:15\n"
     ]
    },
    {
     "name": "stdout",
     "output_type": "stream",
     "text": [
      "                   all       1428       4552      0.675      0.578      0.642      0.386\n",
      "\n",
      "      Epoch    GPU_mem   box_loss   cls_loss   dfl_loss  Instances       Size\n"
     ]
    },
    {
     "name": "stderr",
     "output_type": "stream",
     "text": [
      "     17/250      9.81G       1.42      1.411      1.459         50       1280: 100%|██████████| 311/311 [01:58<00:00,  \n",
      "                 Class     Images  Instances      Box(P          R      mAP50  mAP50-95): 100%|██████████| 45/45 [00:33"
     ]
    },
    {
     "name": "stdout",
     "output_type": "stream",
     "text": [
      "                   all       1428       4552      0.687      0.598      0.646      0.392\n"
     ]
    },
    {
     "name": "stderr",
     "output_type": "stream",
     "text": [
      "\n"
     ]
    },
    {
     "name": "stdout",
     "output_type": "stream",
     "text": [
      "\n",
      "      Epoch    GPU_mem   box_loss   cls_loss   dfl_loss  Instances       Size\n"
     ]
    },
    {
     "name": "stderr",
     "output_type": "stream",
     "text": [
      "     18/250      11.9G      1.417      1.395      1.451         62       1280: 100%|██████████| 311/311 [02:01<00:00,  \n",
      "                 Class     Images  Instances      Box(P          R      mAP50  mAP50-95): 100%|██████████| 45/45 [00:20\n"
     ]
    },
    {
     "name": "stdout",
     "output_type": "stream",
     "text": [
      "                   all       1428       4552      0.674       0.58      0.635      0.385\n",
      "\n",
      "      Epoch    GPU_mem   box_loss   cls_loss   dfl_loss  Instances       Size\n"
     ]
    },
    {
     "name": "stderr",
     "output_type": "stream",
     "text": [
      "     19/250      12.7G       1.39      1.403      1.438         83       1280: 100%|██████████| 311/311 [02:02<00:00,  \n",
      "                 Class     Images  Instances      Box(P          R      mAP50  mAP50-95): 100%|██████████| 45/45 [00:18\n"
     ]
    },
    {
     "name": "stdout",
     "output_type": "stream",
     "text": [
      "                   all       1428       4552      0.677      0.587      0.638      0.398\n",
      "\n",
      "      Epoch    GPU_mem   box_loss   cls_loss   dfl_loss  Instances       Size\n"
     ]
    },
    {
     "name": "stderr",
     "output_type": "stream",
     "text": [
      "     20/250      12.5G      1.385      1.366       1.44         65       1280: 100%|██████████| 311/311 [02:15<00:00,  \n",
      "                 Class     Images  Instances      Box(P          R      mAP50  mAP50-95): 100%|██████████| 45/45 [00:19"
     ]
    },
    {
     "name": "stdout",
     "output_type": "stream",
     "text": [
      "                   all       1428       4552      0.707      0.593      0.664      0.408\n"
     ]
    },
    {
     "name": "stderr",
     "output_type": "stream",
     "text": [
      "\n"
     ]
    },
    {
     "name": "stdout",
     "output_type": "stream",
     "text": [
      "\n",
      "      Epoch    GPU_mem   box_loss   cls_loss   dfl_loss  Instances       Size\n"
     ]
    },
    {
     "name": "stderr",
     "output_type": "stream",
     "text": [
      "     21/250      10.9G      1.371      1.338      1.417         61       1280: 100%|██████████| 311/311 [01:59<00:00,  \n",
      "                 Class     Images  Instances      Box(P          R      mAP50  mAP50-95): 100%|██████████| 45/45 [00:31"
     ]
    },
    {
     "name": "stdout",
     "output_type": "stream",
     "text": [
      "                   all       1428       4552      0.705      0.621      0.677      0.416\n"
     ]
    },
    {
     "name": "stderr",
     "output_type": "stream",
     "text": [
      "\n"
     ]
    },
    {
     "name": "stdout",
     "output_type": "stream",
     "text": [
      "\n",
      "      Epoch    GPU_mem   box_loss   cls_loss   dfl_loss  Instances       Size\n"
     ]
    },
    {
     "name": "stderr",
     "output_type": "stream",
     "text": [
      "     22/250      11.3G      1.381      1.327      1.418        123       1280: 100%|██████████| 311/311 [02:03<00:00,  \n",
      "                 Class     Images  Instances      Box(P          R      mAP50  mAP50-95): 100%|██████████| 45/45 [00:37"
     ]
    },
    {
     "name": "stdout",
     "output_type": "stream",
     "text": [
      "                   all       1428       4552      0.694      0.629      0.675      0.417\n"
     ]
    },
    {
     "name": "stderr",
     "output_type": "stream",
     "text": [
      "\n"
     ]
    },
    {
     "name": "stdout",
     "output_type": "stream",
     "text": [
      "\n",
      "      Epoch    GPU_mem   box_loss   cls_loss   dfl_loss  Instances       Size\n"
     ]
    },
    {
     "name": "stderr",
     "output_type": "stream",
     "text": [
      "     23/250      11.5G       1.36       1.32       1.42        127       1280: 100%|██████████| 311/311 [04:42<00:00,  \n",
      "                 Class     Images  Instances      Box(P          R      mAP50  mAP50-95): 100%|██████████| 45/45 [00:46"
     ]
    },
    {
     "name": "stdout",
     "output_type": "stream",
     "text": [
      "                   all       1428       4552      0.704      0.601      0.669       0.42\n"
     ]
    },
    {
     "name": "stderr",
     "output_type": "stream",
     "text": [
      "\n"
     ]
    },
    {
     "name": "stdout",
     "output_type": "stream",
     "text": [
      "\n",
      "      Epoch    GPU_mem   box_loss   cls_loss   dfl_loss  Instances       Size\n"
     ]
    },
    {
     "name": "stderr",
     "output_type": "stream",
     "text": [
      "     24/250        11G      1.362      1.315      1.417         65       1280: 100%|██████████| 311/311 [02:02<00:00,  \n",
      "                 Class     Images  Instances      Box(P          R      mAP50  mAP50-95): 100%|██████████| 45/45 [00:18"
     ]
    },
    {
     "name": "stdout",
     "output_type": "stream",
     "text": [
      "                   all       1428       4552      0.709       0.61      0.676      0.426\n"
     ]
    },
    {
     "name": "stderr",
     "output_type": "stream",
     "text": [
      "\n"
     ]
    },
    {
     "name": "stdout",
     "output_type": "stream",
     "text": [
      "\n",
      "      Epoch    GPU_mem   box_loss   cls_loss   dfl_loss  Instances       Size\n"
     ]
    },
    {
     "name": "stderr",
     "output_type": "stream",
     "text": [
      "     25/250      11.3G       1.35      1.289      1.402         57       1280: 100%|██████████| 311/311 [05:38<00:00,  \n",
      "                 Class     Images  Instances      Box(P          R      mAP50  mAP50-95): 100%|██████████| 45/45 [00:53"
     ]
    },
    {
     "name": "stdout",
     "output_type": "stream",
     "text": [
      "                   all       1428       4552      0.743      0.614      0.692      0.435\n"
     ]
    },
    {
     "name": "stderr",
     "output_type": "stream",
     "text": [
      "\n"
     ]
    },
    {
     "name": "stdout",
     "output_type": "stream",
     "text": [
      "\n",
      "      Epoch    GPU_mem   box_loss   cls_loss   dfl_loss  Instances       Size\n"
     ]
    },
    {
     "name": "stderr",
     "output_type": "stream",
     "text": [
      "     26/250      10.2G      1.321      1.273      1.395         66       1280: 100%|██████████| 311/311 [02:09<00:00,  \n",
      "                 Class     Images  Instances      Box(P          R      mAP50  mAP50-95): 100%|██████████| 45/45 [00:40\n"
     ]
    },
    {
     "name": "stdout",
     "output_type": "stream",
     "text": [
      "                   all       1428       4552      0.687      0.628      0.685      0.435\n",
      "\n",
      "      Epoch    GPU_mem   box_loss   cls_loss   dfl_loss  Instances       Size\n"
     ]
    },
    {
     "name": "stderr",
     "output_type": "stream",
     "text": [
      "     27/250      10.3G      1.338      1.271      1.397         63       1280: 100%|██████████| 311/311 [02:07<00:00,  \n",
      "                 Class     Images  Instances      Box(P          R      mAP50  mAP50-95): 100%|██████████| 45/45 [00:32"
     ]
    },
    {
     "name": "stdout",
     "output_type": "stream",
     "text": [
      "                   all       1428       4552      0.711      0.617      0.683      0.431\n"
     ]
    },
    {
     "name": "stderr",
     "output_type": "stream",
     "text": [
      "\n"
     ]
    },
    {
     "name": "stdout",
     "output_type": "stream",
     "text": [
      "\n",
      "      Epoch    GPU_mem   box_loss   cls_loss   dfl_loss  Instances       Size\n"
     ]
    },
    {
     "name": "stderr",
     "output_type": "stream",
     "text": [
      "     28/250      10.2G      1.314       1.24      1.382         38       1280: 100%|██████████| 311/311 [02:00<00:00,  \n",
      "                 Class     Images  Instances      Box(P          R      mAP50  mAP50-95): 100%|██████████| 45/45 [00:16\n"
     ]
    },
    {
     "name": "stdout",
     "output_type": "stream",
     "text": [
      "                   all       1428       4552      0.753      0.598       0.69      0.438\n",
      "\n",
      "      Epoch    GPU_mem   box_loss   cls_loss   dfl_loss  Instances       Size\n"
     ]
    },
    {
     "name": "stderr",
     "output_type": "stream",
     "text": [
      "     29/250      12.4G      1.325      1.248      1.395         90       1280: 100%|██████████| 311/311 [02:05<00:00,  \n",
      "                 Class     Images  Instances      Box(P          R      mAP50  mAP50-95): 100%|██████████| 45/45 [00:19"
     ]
    },
    {
     "name": "stdout",
     "output_type": "stream",
     "text": [
      "                   all       1428       4552      0.752      0.631      0.707      0.451\n"
     ]
    },
    {
     "name": "stderr",
     "output_type": "stream",
     "text": [
      "\n"
     ]
    },
    {
     "name": "stdout",
     "output_type": "stream",
     "text": [
      "\n",
      "      Epoch    GPU_mem   box_loss   cls_loss   dfl_loss  Instances       Size\n"
     ]
    },
    {
     "name": "stderr",
     "output_type": "stream",
     "text": [
      "     30/250      11.6G      1.301      1.223      1.376        121       1280: 100%|██████████| 311/311 [02:00<00:00,  \n",
      "                 Class     Images  Instances      Box(P          R      mAP50  mAP50-95): 100%|██████████| 45/45 [00:14"
     ]
    },
    {
     "name": "stdout",
     "output_type": "stream",
     "text": [
      "                   all       1428       4552       0.77      0.627      0.712      0.454\n"
     ]
    },
    {
     "name": "stderr",
     "output_type": "stream",
     "text": [
      "\n"
     ]
    },
    {
     "name": "stdout",
     "output_type": "stream",
     "text": [
      "\n",
      "      Epoch    GPU_mem   box_loss   cls_loss   dfl_loss  Instances       Size\n"
     ]
    },
    {
     "name": "stderr",
     "output_type": "stream",
     "text": [
      "     31/250        11G       1.29      1.209      1.365         51       1280: 100%|██████████| 311/311 [01:59<00:00,  \n",
      "                 Class     Images  Instances      Box(P          R      mAP50  mAP50-95): 100%|██████████| 45/45 [00:15"
     ]
    },
    {
     "name": "stdout",
     "output_type": "stream",
     "text": [
      "                   all       1428       4552      0.711      0.649      0.705      0.456\n"
     ]
    },
    {
     "name": "stderr",
     "output_type": "stream",
     "text": [
      "\n"
     ]
    },
    {
     "name": "stdout",
     "output_type": "stream",
     "text": [
      "\n",
      "      Epoch    GPU_mem   box_loss   cls_loss   dfl_loss  Instances       Size\n"
     ]
    },
    {
     "name": "stderr",
     "output_type": "stream",
     "text": [
      "     32/250      10.5G      1.297      1.214       1.37        161       1280: 100%|██████████| 311/311 [02:07<00:00,  \n",
      "                 Class     Images  Instances      Box(P          R      mAP50  mAP50-95): 100%|██████████| 45/45 [00:43"
     ]
    },
    {
     "name": "stdout",
     "output_type": "stream",
     "text": [
      "                   all       1428       4552      0.755      0.621      0.699      0.448\n"
     ]
    },
    {
     "name": "stderr",
     "output_type": "stream",
     "text": [
      "\n"
     ]
    },
    {
     "name": "stdout",
     "output_type": "stream",
     "text": [
      "\n",
      "      Epoch    GPU_mem   box_loss   cls_loss   dfl_loss  Instances       Size\n"
     ]
    },
    {
     "name": "stderr",
     "output_type": "stream",
     "text": [
      "     33/250      11.8G      1.288      1.194      1.361         84       1280: 100%|██████████| 311/311 [01:59<00:00,  \n",
      "                 Class     Images  Instances      Box(P          R      mAP50  mAP50-95): 100%|██████████| 45/45 [00:16"
     ]
    },
    {
     "name": "stdout",
     "output_type": "stream",
     "text": [
      "                   all       1428       4552      0.765      0.617      0.705      0.449\n"
     ]
    },
    {
     "name": "stderr",
     "output_type": "stream",
     "text": [
      "\n"
     ]
    },
    {
     "name": "stdout",
     "output_type": "stream",
     "text": [
      "\n",
      "      Epoch    GPU_mem   box_loss   cls_loss   dfl_loss  Instances       Size\n"
     ]
    },
    {
     "name": "stderr",
     "output_type": "stream",
     "text": [
      "     34/250      11.5G       1.29      1.196      1.365         58       1280: 100%|██████████| 311/311 [02:01<00:00,  \n",
      "                 Class     Images  Instances      Box(P          R      mAP50  mAP50-95): 100%|██████████| 45/45 [00:27"
     ]
    },
    {
     "name": "stdout",
     "output_type": "stream",
     "text": [
      "                   all       1428       4552      0.746      0.626      0.706      0.453\n"
     ]
    },
    {
     "name": "stderr",
     "output_type": "stream",
     "text": [
      "\n"
     ]
    },
    {
     "name": "stdout",
     "output_type": "stream",
     "text": [
      "\n",
      "      Epoch    GPU_mem   box_loss   cls_loss   dfl_loss  Instances       Size\n"
     ]
    },
    {
     "name": "stderr",
     "output_type": "stream",
     "text": [
      "     35/250      10.9G      1.277      1.179      1.356         54       1280: 100%|██████████| 311/311 [02:18<00:00,  \n",
      "                 Class     Images  Instances      Box(P          R      mAP50  mAP50-95): 100%|██████████| 45/45 [00:33\n"
     ]
    },
    {
     "name": "stdout",
     "output_type": "stream",
     "text": [
      "                   all       1428       4552      0.737      0.644      0.719      0.466\n",
      "\n",
      "      Epoch    GPU_mem   box_loss   cls_loss   dfl_loss  Instances       Size\n"
     ]
    },
    {
     "name": "stderr",
     "output_type": "stream",
     "text": [
      "     36/250      11.5G      1.282      1.178       1.36         73       1280: 100%|██████████| 311/311 [02:03<00:00,  \n",
      "                 Class     Images  Instances      Box(P          R      mAP50  mAP50-95): 100%|██████████| 45/45 [00:22"
     ]
    },
    {
     "name": "stdout",
     "output_type": "stream",
     "text": [
      "                   all       1428       4552      0.755      0.638      0.713      0.467\n"
     ]
    },
    {
     "name": "stderr",
     "output_type": "stream",
     "text": [
      "\n"
     ]
    },
    {
     "name": "stdout",
     "output_type": "stream",
     "text": [
      "\n",
      "      Epoch    GPU_mem   box_loss   cls_loss   dfl_loss  Instances       Size\n"
     ]
    },
    {
     "name": "stderr",
     "output_type": "stream",
     "text": [
      "     37/250      10.7G      1.271      1.151       1.35        131       1280: 100%|██████████| 311/311 [02:05<00:00,  \n",
      "                 Class     Images  Instances      Box(P          R      mAP50  mAP50-95): 100%|██████████| 45/45 [00:31"
     ]
    },
    {
     "name": "stdout",
     "output_type": "stream",
     "text": [
      "                   all       1428       4552      0.748      0.646      0.718      0.469\n"
     ]
    },
    {
     "name": "stderr",
     "output_type": "stream",
     "text": [
      "\n"
     ]
    },
    {
     "name": "stdout",
     "output_type": "stream",
     "text": [
      "\n",
      "      Epoch    GPU_mem   box_loss   cls_loss   dfl_loss  Instances       Size\n"
     ]
    },
    {
     "name": "stderr",
     "output_type": "stream",
     "text": [
      "     38/250      9.87G      1.279      1.158      1.352         63       1280: 100%|██████████| 311/311 [02:19<00:00,  \n",
      "                 Class     Images  Instances      Box(P          R      mAP50  mAP50-95): 100%|██████████| 45/45 [00:59"
     ]
    },
    {
     "name": "stdout",
     "output_type": "stream",
     "text": [
      "                   all       1428       4552      0.767       0.63      0.727      0.476\n"
     ]
    },
    {
     "name": "stderr",
     "output_type": "stream",
     "text": [
      "\n"
     ]
    },
    {
     "name": "stdout",
     "output_type": "stream",
     "text": [
      "\n",
      "      Epoch    GPU_mem   box_loss   cls_loss   dfl_loss  Instances       Size\n"
     ]
    },
    {
     "name": "stderr",
     "output_type": "stream",
     "text": [
      "     39/250      13.4G      1.267      1.161       1.35         54       1280: 100%|██████████| 311/311 [02:17<00:00,  \n",
      "                 Class     Images  Instances      Box(P          R      mAP50  mAP50-95): 100%|██████████| 45/45 [00:20\n"
     ]
    },
    {
     "name": "stdout",
     "output_type": "stream",
     "text": [
      "                   all       1428       4552      0.735      0.643      0.704      0.458\n",
      "\n",
      "      Epoch    GPU_mem   box_loss   cls_loss   dfl_loss  Instances       Size\n"
     ]
    },
    {
     "name": "stderr",
     "output_type": "stream",
     "text": [
      "     40/250      11.1G      1.248      1.135      1.339        112       1280: 100%|██████████| 311/311 [02:11<00:00,  \n",
      "                 Class     Images  Instances      Box(P          R      mAP50  mAP50-95): 100%|██████████| 45/45 [00:43"
     ]
    },
    {
     "name": "stdout",
     "output_type": "stream",
     "text": [
      "                   all       1428       4552      0.738      0.633      0.722      0.477\n"
     ]
    },
    {
     "name": "stderr",
     "output_type": "stream",
     "text": [
      "\n"
     ]
    },
    {
     "name": "stdout",
     "output_type": "stream",
     "text": [
      "\n",
      "      Epoch    GPU_mem   box_loss   cls_loss   dfl_loss  Instances       Size\n"
     ]
    },
    {
     "name": "stderr",
     "output_type": "stream",
     "text": [
      "     41/250      11.7G       1.25      1.132      1.332         83       1280: 100%|██████████| 311/311 [02:57<00:00,  \n",
      "                 Class     Images  Instances      Box(P          R      mAP50  mAP50-95): 100%|██████████| 45/45 [00:42"
     ]
    },
    {
     "name": "stdout",
     "output_type": "stream",
     "text": [
      "                   all       1428       4552      0.764      0.632      0.724      0.476\n"
     ]
    },
    {
     "name": "stderr",
     "output_type": "stream",
     "text": [
      "\n"
     ]
    },
    {
     "name": "stdout",
     "output_type": "stream",
     "text": [
      "\n",
      "      Epoch    GPU_mem   box_loss   cls_loss   dfl_loss  Instances       Size\n"
     ]
    },
    {
     "name": "stderr",
     "output_type": "stream",
     "text": [
      "                 Class     Images  Instances      Box(P          R      mAP50  mAP50-95): 100%|██████████| 45/45 [00:28"
     ]
    },
    {
     "name": "stdout",
     "output_type": "stream",
     "text": [
      "                   all       1428       4552      0.723      0.677       0.73      0.475\n"
     ]
    },
    {
     "name": "stderr",
     "output_type": "stream",
     "text": [
      "\n"
     ]
    },
    {
     "name": "stdout",
     "output_type": "stream",
     "text": [
      "\n",
      "      Epoch    GPU_mem   box_loss   cls_loss   dfl_loss  Instances       Size\n"
     ]
    },
    {
     "name": "stderr",
     "output_type": "stream",
     "text": [
      "     43/250      10.5G      1.235      1.109       1.33         56       1280: 100%|██████████| 311/311 [02:03<00:00,  \n",
      "                 Class     Images  Instances      Box(P          R      mAP50  mAP50-95): 100%|██████████| 45/45 [00:28"
     ]
    },
    {
     "name": "stdout",
     "output_type": "stream",
     "text": [
      "                   all       1428       4552      0.736      0.655      0.724      0.482\n"
     ]
    },
    {
     "name": "stderr",
     "output_type": "stream",
     "text": [
      "\n"
     ]
    },
    {
     "name": "stdout",
     "output_type": "stream",
     "text": [
      "\n",
      "      Epoch    GPU_mem   box_loss   cls_loss   dfl_loss  Instances       Size\n"
     ]
    },
    {
     "name": "stderr",
     "output_type": "stream",
     "text": [
      "     44/250        11G      1.239      1.105      1.323         39       1280: 100%|██████████| 311/311 [02:14<00:00,  \n",
      "                 Class     Images  Instances      Box(P          R      mAP50  mAP50-95): 100%|██████████| 45/45 [00:25"
     ]
    },
    {
     "name": "stdout",
     "output_type": "stream",
     "text": [
      "                   all       1428       4552      0.753      0.645      0.733      0.481\n"
     ]
    },
    {
     "name": "stderr",
     "output_type": "stream",
     "text": [
      "\n"
     ]
    },
    {
     "name": "stdout",
     "output_type": "stream",
     "text": [
      "\n",
      "      Epoch    GPU_mem   box_loss   cls_loss   dfl_loss  Instances       Size\n"
     ]
    },
    {
     "name": "stderr",
     "output_type": "stream",
     "text": [
      "     45/250      11.4G      1.242      1.118      1.327         76       1280: 100%|██████████| 311/311 [02:07<00:00,  \n",
      "                 Class     Images  Instances      Box(P          R      mAP50  mAP50-95):  71%|███████   | 32/45 [00:24"
     ]
    }
   ],
   "source": [
    "model = YOLO('yolov5n6.yaml').load('yolov5n6.pt')\n",
    "model.train(\n",
    "    data=pathYalm, \n",
    "    epochs=epochTraning, \n",
    "    patience=patience, \n",
    "    imgsz=imgsz,\n",
    "    device=0\n",
    ")"
   ]
  },
  {
   "cell_type": "code",
   "execution_count": null,
   "id": "48364e64-90c1-4dcb-becd-12135fd8fd1a",
   "metadata": {},
   "outputs": [],
   "source": []
  }
 ],
 "metadata": {
  "kernelspec": {
   "display_name": "Python 3 (ipykernel)",
   "language": "python",
   "name": "python3"
  },
  "language_info": {
   "codemirror_mode": {
    "name": "ipython",
    "version": 3
   },
   "file_extension": ".py",
   "mimetype": "text/x-python",
   "name": "python",
   "nbconvert_exporter": "python",
   "pygments_lexer": "ipython3",
   "version": "3.9.6"
  }
 },
 "nbformat": 4,
 "nbformat_minor": 5
}
